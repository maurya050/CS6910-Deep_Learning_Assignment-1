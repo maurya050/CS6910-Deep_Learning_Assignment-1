{
 "cells": [
  {
   "cell_type": "code",
   "execution_count": 1,
   "id": "b66a8681",
   "metadata": {
    "scrolled": true
   },
   "outputs": [
    {
     "name": "stdout",
     "output_type": "stream",
     "text": [
      "Requirement already satisfied: wandb in c:\\anaconda\\lib\\site-packages (0.13.10)\n",
      "Requirement already satisfied: GitPython>=1.0.0 in c:\\anaconda\\lib\\site-packages (from wandb) (3.1.31)\n",
      "Requirement already satisfied: PyYAML in c:\\anaconda\\lib\\site-packages (from wandb) (6.0)\n",
      "Requirement already satisfied: setproctitle in c:\\anaconda\\lib\\site-packages (from wandb) (1.3.2)\n",
      "Requirement already satisfied: requests<3,>=2.0.0 in c:\\anaconda\\lib\\site-packages (from wandb) (2.28.1)\n",
      "Requirement already satisfied: protobuf!=4.21.0,<5,>=3.19.0 in c:\\anaconda\\lib\\site-packages (from wandb) (3.19.6)\n",
      "Requirement already satisfied: sentry-sdk>=1.0.0 in c:\\anaconda\\lib\\site-packages (from wandb) (1.15.0)\n",
      "Requirement already satisfied: Click!=8.0.0,>=7.0 in c:\\anaconda\\lib\\site-packages (from wandb) (8.0.4)\n",
      "Requirement already satisfied: setuptools in c:\\anaconda\\lib\\site-packages (from wandb) (63.4.1)\n",
      "Requirement already satisfied: typing-extensions in c:\\anaconda\\lib\\site-packages (from wandb) (4.3.0)\n",
      "Requirement already satisfied: docker-pycreds>=0.4.0 in c:\\anaconda\\lib\\site-packages (from wandb) (0.4.0)\n",
      "Requirement already satisfied: appdirs>=1.4.3 in c:\\anaconda\\lib\\site-packages (from wandb) (1.4.4)\n",
      "Requirement already satisfied: psutil>=5.0.0 in c:\\anaconda\\lib\\site-packages (from wandb) (5.9.0)\n",
      "Requirement already satisfied: pathtools in c:\\anaconda\\lib\\site-packages (from wandb) (0.1.2)\n",
      "Requirement already satisfied: colorama in c:\\anaconda\\lib\\site-packages (from Click!=8.0.0,>=7.0->wandb) (0.4.5)\n",
      "Requirement already satisfied: six>=1.4.0 in c:\\anaconda\\lib\\site-packages (from docker-pycreds>=0.4.0->wandb) (1.16.0)\n",
      "Requirement already satisfied: gitdb<5,>=4.0.1 in c:\\anaconda\\lib\\site-packages (from GitPython>=1.0.0->wandb) (4.0.10)\n",
      "Requirement already satisfied: certifi>=2017.4.17 in c:\\anaconda\\lib\\site-packages (from requests<3,>=2.0.0->wandb) (2022.9.14)\n",
      "Requirement already satisfied: urllib3<1.27,>=1.21.1 in c:\\anaconda\\lib\\site-packages (from requests<3,>=2.0.0->wandb) (1.26.11)\n",
      "Requirement already satisfied: idna<4,>=2.5 in c:\\anaconda\\lib\\site-packages (from requests<3,>=2.0.0->wandb) (3.3)\n",
      "Requirement already satisfied: charset-normalizer<3,>=2 in c:\\anaconda\\lib\\site-packages (from requests<3,>=2.0.0->wandb) (2.0.4)\n",
      "Requirement already satisfied: smmap<6,>=3.0.1 in c:\\anaconda\\lib\\site-packages (from gitdb<5,>=4.0.1->GitPython>=1.0.0->wandb) (5.0.0)\n",
      "Note: you may need to restart the kernel to use updated packages.\n"
     ]
    }
   ],
   "source": [
    "pip install wandb"
   ]
  },
  {
   "cell_type": "code",
   "execution_count": 2,
   "id": "fc286b45",
   "metadata": {},
   "outputs": [],
   "source": [
    "import wandb"
   ]
  },
  {
   "cell_type": "code",
   "execution_count": 3,
   "id": "2fe66c6d",
   "metadata": {},
   "outputs": [
    {
     "name": "stderr",
     "output_type": "stream",
     "text": [
      "wandb: Appending key for api.wandb.ai to your netrc file: C:\\Users\\Shivam Maurya/.netrc\n"
     ]
    }
   ],
   "source": [
    "!wandb login b032cc059132c9aac4f1b317f6f9ad007ef9e4d4"
   ]
  },
  {
   "cell_type": "code",
   "execution_count": 4,
   "id": "9d0611fd",
   "metadata": {},
   "outputs": [
    {
     "name": "stderr",
     "output_type": "stream",
     "text": [
      "Failed to detect the name of this notebook, you can set it manually with the WANDB_NOTEBOOK_NAME environment variable to enable code saving.\n",
      "\u001b[34m\u001b[1mwandb\u001b[0m: Currently logged in as: \u001b[33mcs22m083\u001b[0m. Use \u001b[1m`wandb login --relogin`\u001b[0m to force relogin\n"
     ]
    },
    {
     "data": {
      "text/html": [
       "wandb version 0.14.0 is available!  To upgrade, please run:\n",
       " $ pip install wandb --upgrade"
      ],
      "text/plain": [
       "<IPython.core.display.HTML object>"
      ]
     },
     "metadata": {},
     "output_type": "display_data"
    },
    {
     "data": {
      "text/html": [
       "Tracking run with wandb version 0.13.10"
      ],
      "text/plain": [
       "<IPython.core.display.HTML object>"
      ]
     },
     "metadata": {},
     "output_type": "display_data"
    },
    {
     "data": {
      "text/html": [
       "Run data is saved locally in <code>C:\\Users\\Shivam Maurya\\OneDrive\\Desktop\\IIT_MADRAS\\Deep Learning\\assignment 1\\CS6910-Deep_Learning_Assignment-1\\wandb\\run-20230319_103558-r2mgyo4y</code>"
      ],
      "text/plain": [
       "<IPython.core.display.HTML object>"
      ]
     },
     "metadata": {},
     "output_type": "display_data"
    },
    {
     "data": {
      "text/html": [
       "Syncing run <strong><a href='https://wandb.ai/cs22m083/CS6910_Assignment_1_/runs/r2mgyo4y' target=\"_blank\">Question:1</a></strong> to <a href='https://wandb.ai/cs22m083/CS6910_Assignment_1_' target=\"_blank\">Weights & Biases</a> (<a href='https://wandb.me/run' target=\"_blank\">docs</a>)<br/>"
      ],
      "text/plain": [
       "<IPython.core.display.HTML object>"
      ]
     },
     "metadata": {},
     "output_type": "display_data"
    },
    {
     "data": {
      "text/html": [
       " View project at <a href='https://wandb.ai/cs22m083/CS6910_Assignment_1_' target=\"_blank\">https://wandb.ai/cs22m083/CS6910_Assignment_1_</a>"
      ],
      "text/plain": [
       "<IPython.core.display.HTML object>"
      ]
     },
     "metadata": {},
     "output_type": "display_data"
    },
    {
     "data": {
      "text/html": [
       " View run at <a href='https://wandb.ai/cs22m083/CS6910_Assignment_1_/runs/r2mgyo4y' target=\"_blank\">https://wandb.ai/cs22m083/CS6910_Assignment_1_/runs/r2mgyo4y</a>"
      ],
      "text/plain": [
       "<IPython.core.display.HTML object>"
      ]
     },
     "metadata": {},
     "output_type": "display_data"
    },
    {
     "data": {
      "text/html": [
       "<button onClick=\"this.nextSibling.style.display='block';this.style.display='none';\">Display W&B run</button><iframe src='https://wandb.ai/cs22m083/CS6910_Assignment_1_/runs/r2mgyo4y?jupyter=true' style='border:none;width:100%;height:420px;display:none;'></iframe>"
      ],
      "text/plain": [
       "<wandb.sdk.wandb_run.Run at 0x2279c7a0850>"
      ]
     },
     "execution_count": 4,
     "metadata": {},
     "output_type": "execute_result"
    }
   ],
   "source": [
    "wandb.init(project=\"CS6910_Assignment_1_\", name=\"Question:1\")"
   ]
  },
  {
   "cell_type": "markdown",
   "id": "7e1f9384",
   "metadata": {},
   "source": [
    "## Question 1 "
   ]
  },
  {
   "cell_type": "code",
   "execution_count": 5,
   "id": "df6e725d",
   "metadata": {},
   "outputs": [],
   "source": [
    "import numpy as np\n",
    "import pandas as pd\n",
    "from keras.datasets import mnist\n",
    "import seaborn as sns\n",
    "import matplotlib.pyplot as plt\n",
    "import matplotlib.colors\n",
    "from sklearn import metrics\n",
    "from sklearn.model_selection import train_test_split\n",
    "from sklearn.metrics import accuracy_score, mean_squared_error, log_loss\n",
    "from sklearn.preprocessing import OneHotEncoder"
   ]
  },
  {
   "cell_type": "code",
   "execution_count": 6,
   "id": "77c23e0c",
   "metadata": {},
   "outputs": [],
   "source": [
    "from matplotlib import pyplot as plt\n"
   ]
  },
  {
   "cell_type": "code",
   "execution_count": 7,
   "id": "8e2b386f",
   "metadata": {},
   "outputs": [],
   "source": [
    "from tensorflow.keras.datasets.fashion_mnist import load_data"
   ]
  },
  {
   "cell_type": "code",
   "execution_count": 8,
   "id": "42364895",
   "metadata": {},
   "outputs": [],
   "source": [
    "from keras.datasets import fashion_mnist\n",
    "import warnings\n",
    "warnings.filterwarnings(\"ignore\")"
   ]
  },
  {
   "cell_type": "code",
   "execution_count": 9,
   "id": "993f3eb5",
   "metadata": {},
   "outputs": [],
   "source": [
    "#Load the fashion MNIST data \n",
    "(x_train, y_train), (x_test, y_test) = fashion_mnist.load_data()"
   ]
  },
  {
   "cell_type": "code",
   "execution_count": 10,
   "id": "ed050f3c",
   "metadata": {},
   "outputs": [],
   "source": [
    "class_names = ['T-shirt', 'Trouser', 'Pullover', 'Dress', 'Coat', 'Sandal', 'Shirt', 'Sneaker', 'Bag', 'Ankle boot']"
   ]
  },
  {
   "cell_type": "code",
   "execution_count": 11,
   "id": "2b3acdab",
   "metadata": {},
   "outputs": [],
   "source": [
    "my_cmap = matplotlib.colors.LinearSegmentedColormap.from_list(\"\", [\"red\",\"yellow\",\"green\"])"
   ]
  },
  {
   "cell_type": "code",
   "execution_count": 12,
   "id": "ca18e047",
   "metadata": {},
   "outputs": [
    {
     "data": {
      "image/png": "[encoded data removed]",
      "text/plain": [
       "<Figure size 1000x500 with 10 Axes>"
      ]
     },
     "metadata": {},
     "output_type": "display_data"
    }
   ],
   "source": [
    "# Plot one sample image for each class\n",
    "fig, ax = plt.subplots(2, 5, figsize=(10, 5)) #  returns a tuple containing a figure and axes object(s)\n",
    "ax = ax.ravel()\n",
    "\n",
    "for i in range(len(class_names)):\n",
    "    ax[i].set_title(class_names[i])\n",
    "    # Find the index of the first image with the current label\n",
    "    idx = np.argmax(y_train == i) # Returns the indices of the maximum values along an axis.\n",
    "    # Plotting the image\n",
    "    ax[i].imshow(x_train[idx], cmap= 'gray') # display data as an image \n",
    "    wandb.log({\"Question1\": [wandb.Image(x_train[idx], caption= class_names[i])]})\n",
    "plt.show()"
   ]
  },
  {
   "cell_type": "code",
   "execution_count": 13,
   "id": "02a39f3f",
   "metadata": {},
   "outputs": [
    {
     "data": {
      "text/html": [
       "Waiting for W&B process to finish... <strong style=\"color:green\">(success).</strong>"
      ],
      "text/plain": [
       "<IPython.core.display.HTML object>"
      ]
     },
     "metadata": {},
     "output_type": "display_data"
    },
    {
     "data": {
      "application/vnd.jupyter.widget-view+json": {
       "model_id": "06fa2b392a5146b2966a985a1f17c24b",
       "version_major": 2,
       "version_minor": 0
      },
      "text/plain": [
       "VBox(children=(Label(value='0.006 MB of 0.027 MB uploaded (0.000 MB deduped)\\r'), FloatProgress(value=0.232711…"
      ]
     },
     "metadata": {},
     "output_type": "display_data"
    },
    {
     "data": {
      "text/html": [
       " View run <strong style=\"color:#cdcd00\">Question:1</strong> at: <a href='https://wandb.ai/cs22m083/CS6910_Assignment_1_/runs/r2mgyo4y' target=\"_blank\">https://wandb.ai/cs22m083/CS6910_Assignment_1_/runs/r2mgyo4y</a><br/>Synced 5 W&B file(s), 10 media file(s), 0 artifact file(s) and 0 other file(s)"
      ],
      "text/plain": [
       "<IPython.core.display.HTML object>"
      ]
     },
     "metadata": {},
     "output_type": "display_data"
    },
    {
     "data": {
      "text/html": [
       "Find logs at: <code>.\\wandb\\run-20230319_103558-r2mgyo4y\\logs</code>"
      ],
      "text/plain": [
       "<IPython.core.display.HTML object>"
      ]
     },
     "metadata": {},
     "output_type": "display_data"
    }
   ],
   "source": [
    "wandb.finish()"
   ]
  },
  {
   "cell_type": "markdown",
   "id": "b795a645",
   "metadata": {},
   "source": [
    "## Question 2\n"
   ]
  },
  {
   "cell_type": "code",
   "execution_count": 14,
   "id": "10673929",
   "metadata": {},
   "outputs": [],
   "source": [
    "class FFSN_MultiClass:\n",
    "    def __init__(self, hidden_sizes=[3]):\n",
    "        self.A = {}\n",
    "        self.H = {}\n",
    "        self.n_inputs = 0\n",
    "        self.n_outputs= 0\n",
    "        self.W = {}\n",
    "        self.B = {}\n",
    "        self.sizes = []\n",
    "        self.hidden_size = hidden_sizes\n",
    "        self.n_hidden = len(hidden_sizes)\n",
    "        \n",
    "    # Function to initialize the weights between the layers of the network. Weights are initialized randomly.             \n",
    "    def weights_init(self):\n",
    "        \n",
    "        np.random.seed(120)\n",
    "        np.random.RandomState(120)\n",
    "        self.sizes = [self.n_inputs] + self.hidden_size + [self.n_outputs]\n",
    "        for i in range(self.n_hidden + 1):\n",
    "            size = self.sizes[i+1]\n",
    "            self.B[i+1] = np.zeros((1, size))# Zero initialization of Biases as matrix of size of 1 * next layer.\n",
    "            self.W[i+1] = np.random.randn(self.sizes[i], size) # Random initialization of weights per layer.\n",
    "            \n",
    "\n",
    "\n",
    "    def forward_pass(self, x, act_fun):\n",
    "        \n",
    "        self.H[0] = x.reshape(1, -1)\n",
    "        \n",
    "        for i in range(self.n_hidden):\n",
    "            bias = self.B[i+1]\n",
    "            weight = self.W[i+1]\n",
    "            self.A[i+1] = np.matmul(self.H[i], weight) + bias\n",
    "            self.H[i+1] = self.activation_fun( act_fun,  self.A[i+1] )\n",
    "            \n",
    "        self.A[self.n_hidden+1] = np.matmul(self.H[self.n_hidden], self.W[self.n_hidden+1]) + self.B[self.n_hidden+1]\n",
    "        self.H[self.n_hidden+1] = self.softmax(self.A[self.n_hidden+1])\n",
    "        return self.H[self.n_hidden+1]\n",
    "    \n",
    "    def predict(self, X, act_fun):\n",
    "        Y_pred = []\n",
    "        for x in X:\n",
    "            y_pred = self.forward_pass(x, act_fun)\n",
    "            Y_pred.append(y_pred)\n",
    "        return np.array(Y_pred).squeeze()\n",
    "    \n",
    "    def softmax(self, X):\n",
    "        exps = np.exp(X)\n",
    "        return exps / np.sum(exps, axis=1, keepdims=True)\n",
    "    \n",
    "    def activation_fun(self, fun, X):\n",
    "        \n",
    "        if fun == \"tanh\":\n",
    "            return self.tanh(X)\n",
    "        elif fun == \"relu\":\n",
    "            return self.relu(X)\n",
    "        else:\n",
    "            return self.sigmoid(X);\n",
    "        \n",
    "    def tanh(self, x):\n",
    "        return np.tanh(x)\n",
    "    \n",
    "    def relu(self, x):\n",
    "        y = (x > 0)\n",
    "        return X * y\n",
    "        \n",
    "    \n",
    "    #Sigmoid Function\n",
    "    def sigmoid(self, x):\n",
    "        \n",
    "        return (1./(1.0 + np.exp(-x)))\n",
    "\n",
    "\n",
    "    def fit(self, act_fun, X, Y):\n",
    "        ny = Y.shape[1]\n",
    "        self.n_inputs = X.shape[1] * X.shape[1]\n",
    "        self.n_outputs = ny\n",
    "        self.weights_init()\n",
    "        \n",
    "        \n",
    "        return self.predict(X, act_fun)"
   ]
  },
  {
   "cell_type": "code",
   "execution_count": 15,
   "id": "761c40c4",
   "metadata": {},
   "outputs": [
    {
     "name": "stdout",
     "output_type": "stream",
     "text": [
      "(60000, 10) (10000, 10)\n",
      "(60000, 28, 28)\n"
     ]
    }
   ],
   "source": [
    "enc = OneHotEncoder()\n",
    "x_train = x_train/255.0\n",
    "x_test = x_test/255.0\n",
    "y_OH_test = enc.fit_transform(np.expand_dims(y_test, 1)).toarray()\n",
    "y_OH_train = enc.fit_transform(np.expand_dims(y_train, 1)).toarray()\n",
    "print(y_OH_train.shape, y_OH_test.shape)\n",
    "print(x_train.shape)"
   ]
  },
  {
   "cell_type": "code",
   "execution_count": 16,
   "id": "5207d441",
   "metadata": {},
   "outputs": [],
   "source": [
    "layr = [150, 260, 380]\n",
    "obj = FFSN_MultiClass(layr)\n",
    "activation_name = \"sigmoid\"\n",
    "clas_pred = obj.fit(activation_name, x_train, y_OH_train)"
   ]
  },
  {
   "cell_type": "code",
   "execution_count": 17,
   "id": "1bb8d5ca",
   "metadata": {},
   "outputs": [],
   "source": [
    "np.set_printoptions(suppress=True)"
   ]
  },
  {
   "cell_type": "code",
   "execution_count": 18,
   "id": "3ba987a0",
   "metadata": {},
   "outputs": [
    {
     "name": "stdout",
     "output_type": "stream",
     "text": [
      "[0.00024276 0.0001071  0.         0.         0.00000016 0.98679121\n",
      " 0.00390697 0.00005168 0.00000237 0.00889774]\n"
     ]
    }
   ],
   "source": [
    " print(clas_pred[50])"
   ]
  },
  {
   "cell_type": "code",
   "execution_count": 19,
   "id": "c7469931",
   "metadata": {},
   "outputs": [
    {
     "name": "stdout",
     "output_type": "stream",
     "text": [
      "[0. 0. 0. 1. 0. 0. 0. 0. 0. 0.]\n"
     ]
    }
   ],
   "source": [
    "print(y_OH_train[50])"
   ]
  },
  {
   "cell_type": "markdown",
   "id": "31d71606",
   "metadata": {},
   "source": [
    "## Question 3"
   ]
  },
  {
   "cell_type": "code",
   "execution_count": 20,
   "id": "6b7232a4",
   "metadata": {},
   "outputs": [],
   "source": [
    "class FFNN():\n",
    " \n",
    "    def __init__(self,opt, hidden_sizes, loss_fun, activation_fun, output_act, b_s= 1024, epochs = 10, initialization = \"Random\", log=0, train_losses = None, train_accuracy = None, test_losses = None, test_accuracy = None):\n",
    "        \n",
    "        self.train_accuracy_list = train_accuracy\n",
    "        self.batch_size = b_s\n",
    "        self.layer_sizes = []\n",
    "        self.output_activation = output_act\n",
    "        self.dw = {}\n",
    "        self.output_layer_size=1\n",
    "        self.input_layer_size=0\n",
    "        self.A = {}\n",
    "        self.hidden_layer_sizes = hidden_sizes\n",
    "        self.dH = {}\n",
    "        self.loss_function = loss_fun\n",
    "        self.H = {}\n",
    "        self.train_losses_list = train_losses\n",
    "        self.optimizer = opt\n",
    "        self.dA = {}\n",
    "        self.activation_function = activation_fun\n",
    "        self.weights = {}\n",
    "        self.db = {}\n",
    "        self.biases = {}\n",
    "        #Layer sizes array will be initialzed after input and output layer size is obtained\n",
    "        self.val_accuracy_list = test_accuracy\n",
    "        self.val_losses_list = test_losses\n",
    "        self.wan_log = log\n",
    "        self.epochs = epochs\n",
    "        self.initialization = initialization\n",
    "\n",
    "\n",
    "    def initialize_weights(self):\n",
    "      \n",
    "        #Function to initialize the weights between the layers of the network. Weights are initialized randomly.\n",
    "        self.layer_sizes = [self.input_layer_size] + self.hidden_layer_sizes + [self.output_layer_size]\n",
    "        np.random.seed(137)\n",
    "        np.random.RandomState(137)\n",
    "        ln = len(self.hidden_layer_sizes)\n",
    "        self.optimizer.initialize(self.layer_sizes)\n",
    "        weight_counts =ln  +1\n",
    "        for i in range(weight_counts):\n",
    "            \n",
    "            s_size = (self.layer_sizes[i], self.layer_sizes[i+1])\n",
    "            lsize_i = self.layer_sizes[i]\n",
    "            lsize_i1 = self.layer_sizes[i+1]\n",
    "        \n",
    "            if self.initialization == \"Xavier\":\n",
    "               \n",
    "                self.weights[i+1] = np.random.normal(0.0, np.sqrt(2 / float(lsize_i + lsize_i1)) , size = s_size)\n",
    "\n",
    "            elif self.initialization == \"Random\":\n",
    "               \n",
    "                self.weights[i+1] = np.random.randn(lsize_i, lsize_i1)\n",
    "            self.biases[i+1] = np.zeros((1, lsize_i1))\n",
    "\n",
    "\n",
    "    def forward_propogation(self, X):\n",
    "        \n",
    "        ln = len(self.hidden_layer_sizes)\n",
    "        \n",
    "        self.H = {}\n",
    "        #Initialize the output from input layer as H[0] into a single row(row vector)\n",
    "        self.H[0] = X.reshape(1,-1)\n",
    "        self.A = {}\n",
    "        #Compute a(x) = W_x*h(x-1) and h(a(x)) = activation(a(x)) for hidden layer\n",
    "        for i in range(ln):\n",
    "            weight = self.weights[i+1]\n",
    "            bias = self.biases[i+1]\n",
    "            self.A[i+1] = np.matmul(self.H[i], weight) + bias\n",
    "            self.H[i+1] = self.activation_function.compute_activation(self.A[i+1])\n",
    "\n",
    "        ln = ln +1\n",
    "        weight = self.weights[ln]\n",
    "        bias = self.biases[ln]\n",
    "        self.A[ln] = np.matmul(self.H[ln-1], weight) + bias\n",
    "        #Compute a(x) and h(a(x)) = softmax(a(x)) for output layer\n",
    "        self.H[ln] = self.output_activation.compute_activation(self.A[ln]) \n",
    "        return  self.H[ln]\n",
    "\n",
    "    def backward_propogation(self, X, Y,  dw_i, db_i):\n",
    "        \n",
    "        ln = len(self.hidden_layer_sizes)\n",
    "        #Compute the gradient of loss wrt the activation of output layer\n",
    "        self.dA[ln +1] = self.loss_function.last_output_derivative(self.H[ln +1], Y, self.output_activation.compute_derivative(self.A[ln +1]))\n",
    "\n",
    "        #Compute the partial derivatives for the weights and biases of the layers\n",
    "        # change in weight : (assuming 2 hidden layers) dL/dW3 = dA3/dW3 * dL/dA3 = d(W3*H2 + B3)/dW3 * dL/dA3 = H2 * dL/dA3\n",
    "        # change in biase : (assuming 2 hidden layers) dL/dB3 = dA3/dB3 * dL/dA3 = d(W3*H2 + B3)/dB3 * dL/dA3 = 1 * dL/dA3\n",
    "        for i in range(ln, -1, -1):\n",
    "            weight = self.weights[i+1].T\n",
    "            db_i[i+1] = self.dA[i+1]\n",
    "            dw_i[i+1] = np.matmul(self.H[i].T, self.dA[i+1])\n",
    "            \n",
    "            if i!=0:\n",
    "                self.dH[i] = np.matmul(self.dA[i+1],weight)  \n",
    "                act_grad = self.activation_function.compute_derivative(self.A[i])\n",
    "                self.dA[i] = np.multiply(act_grad, self.dH[i])    \n",
    "               \n",
    "        return dw_i, db_i\n",
    "\n",
    "\n",
    "    def fit(self, X, Y, X_val, Y_val, console = 1):\n",
    "        \n",
    "        #Function to fit the data (X,Y) on the model. This performs forward + backward pass for epoch number of times. Gradient is updated after each batch is processed.\n",
    "        self.output_layer_size = Y.shape[1] # Number of columns in output (label count)\n",
    "        self.console_log = console\n",
    "        self.input_layer_size = X.shape[1]*X.shape[1] # Number of features in data(features)\n",
    "        hidden_ls = self.hidden_layer_sizes\n",
    "        self.initialize_weights()\n",
    "        ln = len(self.hidden_layer_sizes)+1\n",
    "        for e in range(self.epochs):\n",
    "            count = -1\n",
    "            for i in range(ln):\n",
    "                layer_size = self.layer_sizes[i+1]\n",
    "                self.db[i+1] = np.zeros((1, layer_size))\n",
    "                self.dw[i+1] = np.zeros((self.layer_sizes[i], layer_size))\n",
    "                \n",
    "            y_preds = []\n",
    "\n",
    "            for x, y in zip(X, Y):\n",
    "                count += 1\n",
    "                db_i = {}\n",
    "                dw_i = {}\n",
    "\n",
    "                if count==self.batch_size:\n",
    "                    #Done wih current batch\n",
    "        \n",
    "                    if self.optimizer.optimizer_name()==\"nag\":\n",
    "                        b_lookahead = {}\n",
    "                        w_lookahead = {}\n",
    "                        \n",
    "                        for i in range(ln):\n",
    "                            b_upd = self.optimizer.gamma*self.optimizer.update_history_b[i+1]\n",
    "                            w_upd = self.optimizer.gamma*self.optimizer.update_history_w[i+1]\n",
    "                            b_lookahead[i+1] = self.biases[i+1] - b_upd\n",
    "                            w_lookahead[i+1] = self.weights[i+1] - w_upd\n",
    "                            \n",
    "                        \n",
    "                        weights_old = self.weights\n",
    "                        self.weights = w_lookahead\n",
    "                        self.forward_propogation(x)\n",
    "                        dw_lookahead, db_lookahead = self.backward_propogation(x,y, dw_i, db_i) \n",
    "                        self.biases = b_lookahead\n",
    "                        biases_old = self.biases\n",
    "                        self.weights, self.biases = self.optimizer.update_parameters(weights_old, biases_old, dw_lookahead, db_lookahead, hidden_ls)\n",
    "\n",
    "                    else: \n",
    "                        self.weights, self.biases = self.optimizer.update_parameters(self.weights, self.biases, self.dw, self.db, hidden_ls)\n",
    "                    \n",
    "                    for i in range(ln):\n",
    "                        lsize1 = self.layer_sizes[i+1]\n",
    "                        lsize = self.layer_sizes[i]\n",
    "                        self.db[i+1] = np.zeros((1, lsize1))\n",
    "                        self.dw[i+1] = np.zeros((lsize, lsize1))\n",
    "\n",
    "                    count = 0\n",
    "                #Forward Propogation\n",
    "                self.forward_propogation(x)\n",
    "\n",
    "                #Predictions\n",
    "                y_preds.append(self.H[ln])\n",
    "\n",
    "                #Backward Propogation using Loss funtion\n",
    "                self.backward_propogation(x,y, dw_i, db_i) \n",
    "\n",
    "                for i in range(ln):\n",
    "                    b_i = db_i[i+1]\n",
    "                    w_i = dw_i[i+1]\n",
    "                    self.db[i+1] = self.db[i+1] + b_i\n",
    "                    self.dw[i+1] = self.dw[i+1] + w_i\n",
    "                    \n",
    "           \n",
    "            #Update weights based on loss(GD hence once every epoch update)\n",
    "            if self.optimizer.optimizer_name()==\"nag\":\n",
    "                b_lookahead = {}\n",
    "                w_lookahead = {}\n",
    "                \n",
    "                for i in range(ln):\n",
    "                    bias = self.biases[i+1]\n",
    "                    weight = self.weights[i+1]\n",
    "                    b_upd = self.optimizer.gamma*self.optimizer.update_history_b[i+1]\n",
    "                    w_upd = self.optimizer.gamma*self.optimizer.update_history_w[i+1]\n",
    "                    b_lookahead[i+1] = bias - b_upd\n",
    "                    w_lookahead[i+1] = weight - w_upd     \n",
    "                \n",
    "                biases_old, weights_old= self.biases, self.weights\n",
    "                self.biases, self.weights = b_lookahead , w_lookahead\n",
    "                \n",
    "                self.forward_propogation(x)\n",
    "                dw_lookahead, db_lookahead = self.backward_propogation(x, y, dw_i, db_i) \n",
    "                self.weights, self.biases = self.optimizer.update_parameters(weights_old, biases_old, dw_lookahead, db_lookahead, hidden_ls)\n",
    "\n",
    "            else:  \n",
    "                self.weights, self.biases = self.optimizer.update_parameters(self.weights, self.biases, self.dw, self.db, hidden_ls)\n",
    "            \n",
    "            y_preds = np.array(y_preds).squeeze()\n",
    "            y_preds_validation = self.predict(X_val)\n",
    "            \n",
    "            validation_loss = self.loss_function.compute_loss(Y_val, y_preds_validation, self.batch_size)\n",
    "            if self.val_losses_list != None:\n",
    "                self.val_losses_list.append(validation_loss) \n",
    "            \n",
    "            training_loss = self.loss_function.compute_loss(Y, y_preds, self.batch_size)\n",
    "            if self.train_losses_list != None:\n",
    "                self.train_losses_list.append(training_loss)\n",
    "                \n",
    "            validation_accuracy = accuracy_score(np.argmax(Y_val,1), np.argmax(y_preds_validation,1))\n",
    "            if self.val_accuracy_list != None:\n",
    "                self.val_accuracy_list.append(validation_accuracy)\n",
    "                \n",
    "            training_accuracy = accuracy_score(np.argmax(Y,1), np.argmax(y_preds,1))\n",
    "            if self.train_accuracy_list != None:\n",
    "                self.train_accuracy_list.append(training_accuracy)\n",
    "           \n",
    "              \n",
    "            if self.console_log == 1: #For Printing Log results on Console \n",
    "                print(\"Training Loss: \",round(training_loss,3),\"Val_loss:\", round(validation_loss, 3), \" Training Accuracy: \",round(training_accuracy,3), \"Val_accuracy:\", round(validation_accuracy,3), \" <-:Epoch:\",e+1,)\n",
    "            \n",
    "            \n",
    "            elif self.wan_log==1:#For Log metrics on wandb\n",
    "                \n",
    "                wandb.log({\"Training_accuracy\": training_accuracy, \"Validation_accuracy\": validation_accuracy, \"Training_loss\": training_loss, \"Validation_loss\": validation_loss, 'Epoch': e+1})\n",
    "\n",
    "    \n",
    "        return training_loss, validation_loss, training_accuracy, validation_accuracy\n",
    "\n",
    "    def predict(self, X):\n",
    "        y_pred = []\n",
    "        for x in X:\n",
    "            pred = self.forward_propogation(x)\n",
    "            y_pred.append(pred)\n",
    "\n",
    "        y_pred = np.array(y_pred).squeeze()\n",
    "        return y_pred"
   ]
  },
  {
   "cell_type": "markdown",
   "id": "0a0da190",
   "metadata": {},
   "source": [
    "## Optimization Function"
   ]
  },
  {
   "cell_type": "code",
   "execution_count": 21,
   "id": "f78fa892",
   "metadata": {},
   "outputs": [],
   "source": [
    "class Optimizer():\n",
    "    \n",
    "    def __init__(self, optimizer,  learning_rate = 0.001,  gamma = 0.001, beta1 = 0.9, beta2 = 0.999, weight_decay = 0.0, epsilon = 1e-8):\n",
    "        \n",
    "        self.update_history_b = {}\n",
    "        self.m_b = {}\n",
    "        self.optimizer = optimizer\n",
    "        self.learning_rate = learning_rate\n",
    "        self.db_look_ahead = {}\n",
    "        self.b_look_ahead = {}\n",
    "        self.weight_decay = weight_decay\n",
    "        self.v_b = {}\n",
    "        self.dw_look_ahead ={}\n",
    "        self.gamma = gamma\n",
    "        self.w_look_ahead = {}\n",
    "        self.update_history_w = {}\n",
    "        self.lr =0\n",
    "        self.epsilon = epsilon\n",
    "        self.m_w = {}\n",
    "        self.v_w ={}\n",
    "        if( self.optimizer == \"sgd\"):\n",
    "            self.learning_rate = learning_rate\n",
    "            self.weight_decay = weight_decay\n",
    "            \n",
    "        if( self.optimizer == \"momentum\" ):\n",
    "            self.weight_decay = weight_decay\n",
    "            self.initialized = False\n",
    "            self.update_history_w = {}\n",
    "            self.learning_rate = learning_rate\n",
    "            self.update_history_b = {}\n",
    "            self.gamma = gamma\n",
    "        \n",
    "        if( self.optimizer == \"nag\"):\n",
    "            self.initialized = False\n",
    "            self.update_history_b = {}\n",
    "            self.update_history_w = {}\n",
    "            self.learning_rate = learning_rate\n",
    "            self.b_look_ahead={}\n",
    "            self.w_look_ahead={}\n",
    "            self.gamma = gamma\n",
    "            self.db_look_ahead={}\n",
    "            self.dw_look_ahead={}\n",
    "\n",
    "        if( self.optimizer == \"rmsprop\"):\n",
    "            self.initialized = False\n",
    "            self.weight_decay = weight_decay\n",
    "            self.v_b = {}\n",
    "            self.v_w = {}\n",
    "            self.epsilon = epsilon\n",
    "            self.gamma = gamma\n",
    "            self.learning_rate = learning_rate\n",
    "            \n",
    "            \n",
    "\n",
    "        if( self.optimizer == \"adam\" or self.optimizer == \"nadam\"):\n",
    "            self.initialized = False\n",
    "            self.epsilon = epsilon\n",
    "            self.v_b = {}\n",
    "            self.v_w = {}\n",
    "            self.beta1 = beta1\n",
    "            self.beta2 = beta2\n",
    "            self.m_b = {}\n",
    "            self.m_w = {}\n",
    "            self.iterations = 1\n",
    "            self.learning_rate = learning_rate\n",
    "            self.weight_decay = weight_decay\n",
    "        \n",
    "\n",
    "    def set_learning_rate(self, learning_rate):\n",
    "\n",
    "        if(self.optimizer == \"sgd\"):\n",
    "            self.learning_rate = learning_rate\n",
    "\n",
    "        if( self.optimizer == \"momentum\" ):\n",
    "            self.learning_rate = learning_rate\n",
    "        \n",
    "        if( self.optimizer == \"nag\"):\n",
    "            self.learning_rate = learning_rate\n",
    "\n",
    "        if( self.optimizer == \"rmsprop\"):\n",
    "            self.learning_rate = learning_rate\n",
    "\n",
    "        if( self.optimizer == \"adam\" or self.optimizer == \"nadam\"):\n",
    "            self.learning_rate = learning_rate\n",
    "\n",
    "\n",
    "\n",
    "    def set_weight_decay(self, weight_dec):\n",
    "        self.weight_decay = weight_dec\n",
    "        \n",
    "    def set_initial_parameters(self, parameters):\n",
    "        \n",
    "        if(self.optimizer == \"sgd\"):\n",
    "            self.weight_decay = parameters[\"weight_decay\"]\n",
    "            self.learning_rate = parameters[\"learning_rate\"]\n",
    "\n",
    "        if( self.optimizer == \"momentum\" ):\n",
    "            self.weight_decay = parameters[\"weight_decay\"]\n",
    "            self.gamma = parameters[\"gamma\"]\n",
    "            self.learning_rate = parameters[\"learning_rate\"]\n",
    "            \n",
    "        \n",
    "        if( self.optimizer == \"nag\"):\n",
    "            self.gamma = parameters[\"gamma\"]\n",
    "            self.learning_rate = parameters[\"learning_rate\"]\n",
    "\n",
    "        if( self.optimizer == \"rmsprop\"):\n",
    "            \n",
    "            self.weight_decay = parameters[\"weight_decay\"]\n",
    "            self.learning_rate = parameters[\"learning_rate\"]\n",
    "            self.lr = 0.01\n",
    "            self.epsilon = parameters[\"epsilon\"]\n",
    "            self.gamma = parameters[\"gamma\"]\n",
    "            \n",
    "\n",
    "        if( self.optimizer == \"adam\" or self.optimizer == \"nadam\"):\n",
    "            self.weight_decay = parameters[\"weight_decay\"]\n",
    "            self.lr = 0.01\n",
    "            self.epsilon = parameters[\"epsilon\"]\n",
    "            self.beta1, self.beta2  = parameters[\"beta1\"], parameters[\"beta2\"]\n",
    "            self.learning_rate = parameters[\"learning_rate\"]\n",
    "            \n",
    "    def initialize(self, all_layers):\n",
    "        \n",
    "        self.b_look_ahead.clear()\n",
    "        self.update_history_b.clear()\n",
    "        ln = len(all_layers)\n",
    "        self.m_b.clear()\n",
    "        self.dw_look_ahead.clear()\n",
    "        self.v_b.clear()\n",
    "        self.w_look_ahead.clear()\n",
    "        ln = ln -1\n",
    "        self.update_history_w.clear()\n",
    "        self.m_w.clear()\n",
    "        self.db_look_ahead.clear()\n",
    "        self.v_w.clear()\n",
    "        \n",
    "        if(self.optimizer == \"sgd\"):\n",
    "            return\n",
    "\n",
    "        if( self.optimizer == \"momentum\" ):\n",
    "            \n",
    "            for i in range(ln):\n",
    "                all_layer = all_layers[i+1]\n",
    "                self.update_history_b[i+1] = np.zeros((1, all_layer))\n",
    "                self.update_history_w[i+1] = np.zeros((all_layers[i], all_layer))\n",
    "                \n",
    "        if( self.optimizer == \"nag\"):\n",
    "            \n",
    "            for i in range(ln):\n",
    "                all_layer = all_layers[i+1]\n",
    "                self.update_history_w[i+1] = np.zeros((all_layers[i], all_layer))\n",
    "                self.dw_look_ahead[i+1] = np.zeros((all_layers[i], all_layer))\n",
    "                self.w_look_ahead[i+1] = np.zeros((all_layers[i], all_layer))\n",
    "                self.update_history_b[i+1] = np.zeros((1, all_layer))\n",
    "                self.db_look_ahead[i+1] = np.zeros((1, all_layer))\n",
    "                self.b_look_ahead[i+1] = np.zeros((1, all_layer))\n",
    "\n",
    "        if( self.optimizer == \"rmsprop\"):\n",
    "            \n",
    "            for i in range(ln):\n",
    "                all_layer = all_layers[i+1]\n",
    "                self.v_w[i+1] = np.zeros((all_layers[i], all_layer))\n",
    "                self.v_b[i+1] = np.zeros((1, all_layer))\n",
    "\n",
    "        if( self.optimizer == \"adam\" or self.optimizer == \"nadam\"):\n",
    "            \n",
    "            for i in range(ln):\n",
    "                all_layer = all_layers[i+1]\n",
    "                self.m_b[i+1] = np.zeros((1, all_layer))\n",
    "                self.v_b[i+1] = np.zeros((1, all_layer))\n",
    "                self.m_w[i+1] = np.zeros((all_layers[i], all_layer))\n",
    "                self.v_w[i+1] = np.zeros((all_layers[i], all_layer))\n",
    "                \n",
    "    def optimizer_name(self):\n",
    "\n",
    "        if(self.optimizer == \"sgd\"):\n",
    "            return \"sgd\"\n",
    "\n",
    "        if( self.optimizer == \"momentum\" ):\n",
    "            return \"momentum\"\n",
    "        \n",
    "        if( self.optimizer == \"nag\"):\n",
    "            return \"nag\"\n",
    "\n",
    "        if( self.optimizer == \"rmsprop\"):\n",
    "            return \"rmsprop\"\n",
    "\n",
    "        if( self.optimizer == \"adam\"):\n",
    "            return \"adam\"\n",
    "        if( self.optimizer == \"nadam\"):\n",
    "            return \"nadam\"\n",
    "\n",
    "    def update_parameters(self, weights, biases, dw, db, layers):\n",
    "        nlayer = len(layers)+1\n",
    "        if(self.optimizer == \"sgd\"):\n",
    "            for i in range(nlayer):\n",
    "                decay_wt = self.weight_decay*weights[i+1]\n",
    "                dw[i+1] = dw[i+1] + decay_wt\n",
    "                grad_b = self.learning_rate * db[i+1]\n",
    "                grad_w = self.learning_rate * dw[i+1]\n",
    "                biases[i+1] = biases[i+1] - grad_b # b_t = b_{t-1} - eta*(dL/db)\n",
    "                weights[i+1] = weights[i+1] - grad_w # w_t = w_{t-1} - eta*(dL/dw)\n",
    "            \n",
    "            return weights, biases\n",
    "\n",
    "        if( self.optimizer == \"momentum\" ):\n",
    "            \"\"\"\n",
    "            Function to perform the weight update step based on optimizer algorithm\n",
    "            \"\"\"\n",
    "\n",
    "            for i in range(nlayer):\n",
    "                \n",
    "                wt_decay = self.weight_decay*weights[i+1]\n",
    "                dw[i+1] = dw[i+1] + wt_decay\n",
    "                upd_bias = self.learning_rate*db[i+1]\n",
    "                upd_weight = self.learning_rate*dw[i+1]\n",
    "                self.update_history_b[i+1] =self.gamma*self.update_history_b[i+1] + upd_bias \n",
    "                self.update_history_w[i+1] =self.gamma*self.update_history_w[i+1] + upd_weight\n",
    "                biases[i+1] = biases[i+1] - self.update_history_b[i+1]\n",
    "                weights[i+1] = weights[i+1] - self.update_history_w[i+1]\n",
    "            \n",
    "            return weights, biases\n",
    "        \n",
    "        if( self.optimizer == \"nag\"):\n",
    "            \"\"\"\n",
    "            Function to perform the weight update step based on optimizer algorithm\n",
    "            \"\"\"\n",
    "            for i in range(nlayer):\n",
    "                \n",
    "                grad_db = self.learning_rate*db[i+1]\n",
    "                grad_dw = self.learning_rate*dw[i+1]\n",
    "                self.update_history_b[i+1] = self.gamma*self.update_history_b[i+1] \n",
    "                self.update_history_b[i+1] += grad_db\n",
    "                biases[i+1] = biases[i+1] - self.update_history_b[i+1]\n",
    "                self.update_history_w[i+1] = self.gamma*self.update_history_w[i+1] \n",
    "                self.update_history_w[i+1] += grad_dw\n",
    "                weights[i+1] = weights[i+1] - self.update_history_w[i+1]\n",
    "                \n",
    "\n",
    "            return weights, biases\n",
    "\n",
    "        if( self.optimizer == \"rmsprop\"):\n",
    "            for i in range(nlayer):\n",
    "                eps = self.epsilon\n",
    "                lr = self.learning_rate\n",
    "                wt_decay = self.weight_decay*weights[i+1]\n",
    "                dw[i+1] = dw[i+1] + wt_decay\n",
    "                \n",
    "                v_weight = self.gamma*self.v_w[i+1] \n",
    "                self.v_w[i+1] = v_weight + (1-self.gamma)* ((dw[i+1])**2)\n",
    "                \n",
    "                v_bias = self.gamma*self.v_b[i+1]\n",
    "                self.v_b[i+1] = v_bias + (1-self.gamma)* ((db[i+1])**2)\n",
    "                \n",
    "                biase_upd = ((lr)/np.sqrt(self.v_b[i+1] + eps))*db[i+1]\n",
    "                weight_upd = ((lr)/np.sqrt(self.v_w[i+1] + eps))*dw[i+1]\n",
    "\n",
    "                biases[i+1] = biases[i+1] - biase_upd\n",
    "                weights[i+1] = weights[i+1] - weight_upd\n",
    "            \n",
    "            return weights, biases\n",
    "\n",
    "        if( self.optimizer == \"adam\" or self.optimizer == \"nadam\"):\n",
    "            #Function to perform the weight update step based on optimizer algorithm\n",
    "           \n",
    "            for i in range(nlayer):\n",
    "                eps = self.epsilon\n",
    "                lr = self.learning_rate\n",
    "                upd_wt = self.weight_decay*weights[i+1]\n",
    "                dw[i+1] = dw[i+1] + upd_wt\n",
    "\n",
    "                m_bias = self.beta1*self.m_b[i+1] \n",
    "                self.m_b[i+1] = m_bias + (1-self.beta1)* (db[i+1])\n",
    "                m_weight = self.beta1*self.m_w[i+1] \n",
    "                self.m_w[i+1] = m_weight + (1-self.beta1)* (dw[i+1])\n",
    "                v_weight = self.beta2*self.v_w[i+1] \n",
    "                self.v_w[i+1] = v_weight + (1-self.beta2)* ((dw[i+1])**2)\n",
    "                v_bias = self.beta2*self.v_b[i+1] \n",
    "                self.v_b[i+1] = v_bias + (1-self.beta2)* ((db[i+1])**2)\n",
    "                \n",
    "                v_hat_div = (1-(self.beta2**self.iterations))\n",
    "                m_hat_div = (1-(self.beta1**self.iterations))\n",
    "                v_b_hat = self.v_b[i+1] / v_hat_div\n",
    "                m_b_hat = self.m_b[i+1] / m_hat_div\n",
    "                v_w_hat = self.v_w[i+1] / v_hat_div\n",
    "                m_w_hat = self.m_w[i+1] / m_hat_div\n",
    "                nadam_impl = (1-self.beta1)/(1-(self.beta1**self.iterations))\n",
    "                if(self.optimizer == \"nadam\"):\n",
    "                    weight_upd = ((lr)/(np.sqrt(v_w_hat) + eps))*(self.beta1 * m_w_hat + (nadam_impl * dw[i+1]))\n",
    "                    weights[i+1] = weights[i+1] - weight_upd\n",
    "                    biases_upd = ((lr)/(np.sqrt(v_b_hat) + eps))*(self.beta1 * m_b_hat + (nadam_impl * db[i+1]))\n",
    "                    biases[i+1] = biases[i+1] - biases_upd\n",
    "                elif(self.optimizer == \"adam\"):\n",
    "                    weights_upd = ((lr)/(np.sqrt(v_w_hat) + eps))*(m_w_hat)\n",
    "                    biases_upd = ((lr)/(np.sqrt(v_b_hat) + eps))*(m_b_hat)\n",
    "                    \n",
    "                    weights[i+1] = weights[i+1] - weights_upd\n",
    "                    biases[i+1] = biases[i+1] - biases_upd\n",
    "                \n",
    "                nadam_impl = (1-self.beta1)/(1-(self.beta1**self.iterations))\n",
    "                \n",
    "            self.iterations = self.iterations + 1\n",
    "            \n",
    "            return weights, biases\n"
   ]
  },
  {
   "cell_type": "markdown",
   "id": "b48d8118",
   "metadata": {},
   "source": [
    "## Activation Function"
   ]
  },
  {
   "cell_type": "code",
   "execution_count": 22,
   "id": "ddbeae04",
   "metadata": {},
   "outputs": [],
   "source": [
    "class ActivationFunction():\n",
    "    def __init__(self, fun = \"sigmoid\"):\n",
    "        self.act_fun = fun\n",
    "\n",
    "    def compute_activation(self, X):\n",
    "\n",
    "        if(self.act_fun == \"sigmoid\"):\n",
    "            return 1.0/(1.0+np.exp(-X)) # sigmoid function\n",
    "        if(self.act_fun == \"softmax\"):\n",
    "            exponentials = np.exp(X) # softmax function\n",
    "            return exponentials / np.sum(exponentials)\n",
    "        if(self.act_fun == \"tanh\"):\n",
    "            return np.tanh(X) # tanh function\n",
    "        if(self.act_fun == \"relu\"):\n",
    "            return X * (X > 0) # relu function\n",
    "            \n",
    "    def compute_derivative(self, X):\n",
    "        if(self.act_fun == \"sigmoid\"):\n",
    "            val = self.compute_activation(X)\n",
    "            return val*(1-val)\n",
    "        if(self.act_fun == \"softmax\"):\n",
    "            softmax = self.compute_activation(X)\n",
    "            return softmax*(1-softmax)\n",
    "        if(self.act_fun == \"tanh\"):\n",
    "            return 1 - (np.tanh(X) ** 2)\n",
    "        if(self.act_fun == \"relu\"): \n",
    "            X[X > 0.0] = 1.0\n",
    "            X[X <= 0.0] = 0.0\n",
    "            return X"
   ]
  },
  {
   "cell_type": "markdown",
   "id": "943179e7",
   "metadata": {},
   "source": [
    "## Loss Function"
   ]
  },
  {
   "cell_type": "code",
   "execution_count": 23,
   "id": "4ba2acca",
   "metadata": {},
   "outputs": [],
   "source": [
    "class LossFunction():\n",
    "    def __init__(self, fun = \"cross_entropy\"):\n",
    "        self.loss_fun = fun\n",
    "    \n",
    "    def compute_loss(self, Y_true, Y_pred, batch_size):\n",
    "        ln = len(Y_true)\n",
    "        lss = 0\n",
    "        if(self.loss_fun == \"squared_loss\"):\n",
    "            return (1/2) * np.sum((Y_pred-Y_true)**2) / ln\n",
    "        \n",
    "        if(self.loss_fun == \"cross_entropy\"):\n",
    "            for p in Y_pred[0]:\n",
    "                if p < 10e-8  or np.isnan(p):\n",
    "                    p = 10e-8\n",
    "                    lss += 1\n",
    "            loss = np.multiply(Y_pred,Y_true)\n",
    "            loss = loss[loss != 0]\n",
    "            lss  = loss\n",
    "            loss = -np.log(loss)\n",
    "            loss = np.mean(loss)\n",
    "            return loss\n",
    "\n",
    "    def name(self):\n",
    "        if(self.loss_fun == \"squared_loss\"):\n",
    "            return \"squared_loss\" \n",
    "        \n",
    "        if(self.loss_fun == \"cross_entropy\"):\n",
    "            return \"cross_entropy_loss\"\n",
    "\n",
    "    def compute_derivative(self, Y_pred,Y_true):\n",
    "        \n",
    "        if(self.loss_fun == \"squared_loss\"):\n",
    "            return (Y_pred)*(Y_pred-Y_true)/len(Y_true)\n",
    "        \n",
    "        if(self.loss_fun == \"cross_entropy\"):\n",
    "            return -Y_true/(Y_pred)\n",
    "            \n",
    "\n",
    "    def last_output_derivative(self, Y_pred,Y_true,activation_derivative):\n",
    "        ln = len(Y_true)\n",
    "        lss = 0\n",
    "        for p in Y_pred[0]:\n",
    "                if (np.isnan(p) or p < 10e-8):\n",
    "                    lss += 1\n",
    "                    p = 10e-8\n",
    "        if(self.loss_fun == \"squared_loss\"):\n",
    "            return (Y_pred - Y_true)*activation_derivative / ln\n",
    "        \n",
    "        if(self.loss_fun == \"cross_entropy\"):\n",
    "            return -(Y_true - Y_pred)"
   ]
  },
  {
   "cell_type": "markdown",
   "id": "b2d7606a",
   "metadata": {},
   "source": [
    "## Testing Model"
   ]
  },
  {
   "cell_type": "code",
   "execution_count": 24,
   "id": "7bbfef27",
   "metadata": {},
   "outputs": [
    {
     "name": "stdout",
     "output_type": "stream",
     "text": [
      "Training Loss:  0.559 Val_loss: 0.455  Training Accuracy:  0.799 Val_accuracy: 0.835  <-:Epoch: 1\n",
      "Training Loss:  0.401 Val_loss: 0.416  Training Accuracy:  0.854 Val_accuracy: 0.848  <-:Epoch: 2\n",
      "Training Loss:  0.366 Val_loss: 0.399  Training Accuracy:  0.866 Val_accuracy: 0.855  <-:Epoch: 3\n",
      "Training Loss:  0.344 Val_loss: 0.388  Training Accuracy:  0.874 Val_accuracy: 0.858  <-:Epoch: 4\n",
      "Training Loss:  0.328 Val_loss: 0.38  Training Accuracy:  0.88 Val_accuracy: 0.863  <-:Epoch: 5\n",
      "Training Loss:  0.315 Val_loss: 0.373  Training Accuracy:  0.884 Val_accuracy: 0.866  <-:Epoch: 6\n",
      "Training Loss:  0.304 Val_loss: 0.369  Training Accuracy:  0.888 Val_accuracy: 0.867  <-:Epoch: 7\n",
      "Training Loss:  0.294 Val_loss: 0.365  Training Accuracy:  0.891 Val_accuracy: 0.868  <-:Epoch: 8\n",
      "Training Loss:  0.285 Val_loss: 0.363  Training Accuracy:  0.894 Val_accuracy: 0.87  <-:Epoch: 9\n",
      "Training Loss:  0.277 Val_loss: 0.363  Training Accuracy:  0.897 Val_accuracy: 0.87  <-:Epoch: 10\n"
     ]
    }
   ],
   "source": [
    "# Parameters Selection for Different Optimization Algorithm\n",
    "parameters_sgd = {\"learning_rate\":0.001, \"weight_decay\":0.5} #sgd\n",
    "parameters_momentum = {\"learning_rate\":0.0001, \"gamma\":0.6, \"weight_decay\":0} #momentum\n",
    "parameters_nag = {\"learning_rate\":0.001, \"gamma\":0.009} #nag\n",
    "parameters_rmsprop = {\"learning_rate\":0.01, \"gamma\":0.009, \"epsilon\":1e-8, \"weight_decay\":0.5} #rmsprop\n",
    "parameters_adam = {\"learning_rate\":0.0006, \"beta1\":0.09, \"beta2\":0.999, \"epsilon\":1e-8, \"weight_decay\":0.001} #adam\n",
    "parameters_nadam = {\"learning_rate\":0.0006, \"beta1\":0.09, \"beta2\":0.999, \"epsilon\":1e-8, \"weight_decay\":0.001} #nadam\n",
    "\n",
    "\n",
    "# \"sgd\" : gradient_descent, \"momentum\" : momentum_gd, \"nag\": nag , \"rmsprop\":  RMSProp, \"adam\": Adam \"nadam\": Nadam\n",
    "\n",
    "optimizer = Optimizer(\"adam\")\n",
    "optimizer.set_initial_parameters(parameters_adam)\n",
    "\n",
    "\n",
    "#  \"cross_entropy\" : Cross Entropy Loss Function,  \"squared_loss\" : Squared Error Loss Function\n",
    "loss_fun = LossFunction(\"cross_entropy\")\n",
    "\n",
    "#Select activation-function(hidden layers) pass below respective string to select any Activation Fuction Eg:\"tanh\" in ActivationFunction\n",
    "# \"sigmoid\": SigmoidFunction, \"softmax\": SoftmaxFunction, \"tanh\": TanhFunction, \"relu\":ReLUFunction\n",
    "act_fun_hidden = ActivationFunction(\"tanh\")\n",
    "\n",
    "#Select activation - function for output layer\n",
    "act_fun_output = ActivationFunction(\"softmax\")\n",
    "\n",
    "#Add layer sizes for the hidden layers\n",
    "layers = [32, 64, 128]\n",
    "batch_size = 64\n",
    "model = FFNN(optimizer, layers, loss_fun, act_fun_hidden, act_fun_output, batch_size, 10, initialization = \"Xavier\")\n",
    "train_loss, val_loss, train_accuracy, val_accuracy = model.fit(x_train, y_OH_train, x_test, y_OH_test)\n"
   ]
  },
  {
   "cell_type": "code",
   "execution_count": 25,
   "id": "fd01c31b",
   "metadata": {},
   "outputs": [
    {
     "name": "stdout",
     "output_type": "stream",
     "text": [
      "Training accuracy 0.87\n",
      "Validation Loss: 0.363 Validation Accuracy: 0.87\n"
     ]
    }
   ],
   "source": [
    "#Accuracy for test data\n",
    "y_preds = model.predict(x_test)\n",
    "accuracy_train = accuracy_score(np.argmax(y_OH_test,1), np.argmax(y_preds,1))\n",
    "print(\"Training accuracy\", round(accuracy_train, 3))\n",
    "print(\"Validation Loss:\", round(val_loss,3), \"Validation Accuracy:\", round(val_accuracy,3))"
   ]
  },
  {
   "cell_type": "markdown",
   "id": "462165aa",
   "metadata": {},
   "source": [
    "## Question 4"
   ]
  },
  {
   "cell_type": "code",
   "execution_count": 66,
   "id": "1051bde7",
   "metadata": {},
   "outputs": [],
   "source": [
    "sweep_config = {\n",
    "    #RandomSearch over the hyperparameters\n",
    "    'method': 'random',\n",
    "    'metric': { 'goal': 'maximize','name': 'accuracy'},\n",
    "    \n",
    "    'parameters': {'activation': {'values': ['sigmoid' , 'tanh', 'relu']},\n",
    "                \n",
    "                    'batch_size':{'values':[16,32,64]},\n",
    "                    'optimizer': {'values': ['sgd', 'momentum', 'nag', 'rmsprop', 'adam', 'nadam']},\n",
    "                    'hidden_layers': {'values': [ [32,64],[32,64,128],[32,64,128,256]]},\n",
    "                    'epochs': {'values': [5,10]},\n",
    "                    'weight_decay': {'values': [0.0, 0.0005, 0.5]},\n",
    "                    'gamma': {'values': [0.03, 0.0006, 0.002]},\n",
    "                    'learning_rate': {'values': [0.0001, 0.005, 0.0006, 0.01, 0.0003, 0.0005]},\n",
    "                    'initialization':{'values': ['Xavier', 'Random']}\n",
    "                  }\n",
    "               }"
   ]
  },
  {
   "cell_type": "code",
   "execution_count": 67,
   "id": "a36d1a26",
   "metadata": {},
   "outputs": [],
   "source": [
    "def train():\n",
    "\n",
    "    var1 = wandb.init(project=\"CS6910_Assignment_1_\", name=\"Question:4\")\n",
    "    var2 = var1.config\n",
    "\n",
    "    # var2 is a variable that holds and saves hyperparameters and inputs\n",
    "    wandb.run.name = 'optimizer:-' + var2.optimizer + ' epochs:-' + str(var2.epochs) + ' activation:-' + var2.activation + ' init:-' + var2.initialization + ' layers:-' + str(len(var2.hidden_layers)) +' decay:-' + str(var2.weight_decay) + ' gamma:-' + str(var2.gamma) + ' learning_rate:-' + str(var2.learning_rate) + ' batch_size:-' + str(var2.batch_size)\n",
    "\n",
    "    \n",
    "    loss_fun = LossFunction(\"cross_entropy\")\n",
    "    epochs = var2.epochs\n",
    "    weight_decay = var2.weight_decay\n",
    "    hidden_layers = var2.hidden_layers\n",
    "    gamma = var2.gamma\n",
    "    learning_rate = var2.learning_rate\n",
    "\n",
    "    if var2.activation==\"sigmoid\":\n",
    "        activation = ActivationFunction(\"sigmoid\")\n",
    "    if var2.activation==\"tanh\":\n",
    "        activation = ActivationFunction(\"tanh\")\n",
    "    if var2.activation==\"relu\":\n",
    "        activation = ActivationFunction(\"relu\")\n",
    "\n",
    "    output_activation = ActivationFunction(\"softmax\")\n",
    "\n",
    "\n",
    "    parameters_sgd = {\"learning_rate\": learning_rate, \"weight_decay\":weight_decay}\n",
    "    parameters_momentum = {\"learning_rate\": learning_rate, \"gamma\": gamma, \"weight_decay\":weight_decay}\n",
    "    parameters_nag = {\"learning_rate\": learning_rate, \"gamma\": gamma}\n",
    "    parameters_rmsprop = {\"learning_rate\": learning_rate, \"gamma\":gamma, \"epsilon\":1e-8, \"weight_decay\":weight_decay}\n",
    "    parameters_adam = {\"learning_rate\": learning_rate, \"beta1\":0.09, \"beta2\":0.999, \"epsilon\":1e-8, \"weight_decay\":weight_decay}\n",
    "    parameters_nadam = {\"learning_rate\": learning_rate, \"beta1\":0.09, \"beta2\":0.999, \"epsilon\":1e-8, \"weight_decay\":weight_decay}\n",
    "\n",
    "    if var2.optimizer==\"sgd\":\n",
    "        optimizer = Optimizer(\"sgd\")\n",
    "        optimizer.set_initial_parameters(parameters_sgd)\n",
    "\n",
    "    if var2.optimizer==\"momentum\":\n",
    "        #Select optimizer(momentum)\n",
    "        optimizer = Optimizer(\"momentum\")\n",
    "        optimizer.set_initial_parameters(parameters_momentum)\n",
    "\n",
    "    if var2.optimizer==\"nag\":\n",
    "        #Select optimizer(momentum)\n",
    "        optimizer = Optimizer(\"nag\")\n",
    "        optimizer.set_initial_parameters(parameters_nag)\n",
    "\n",
    "    if var2.optimizer==\"rmsprop\":\n",
    "        #Select optimizer(rmsprop)\n",
    "        optimizer = Optimizer(\"rmsprop\")\n",
    "        optimizer.set_initial_parameters(parameters_rmsprop)\n",
    "\n",
    "    if var2.optimizer==\"adam\":\n",
    "        #Select optimizer(adam)\n",
    "        optimizer = Optimizer(\"adam\")\n",
    "        optimizer.set_initial_parameters(parameters_adam)\n",
    "\n",
    "    if var2.optimizer==\"nadam\":\n",
    "        #Select optimizer(nadam)\n",
    "        optimizer = Optimizer(\"nadam\")\n",
    "        optimizer.set_initial_parameters(parameters_nadam)\n",
    "\n",
    "    if(var2.initialization == \"Random\"):\n",
    "        initn = \"Random\"\n",
    "    else:\n",
    "        initn = \"Xavier\"\n",
    "    \n",
    "    batch_size = var2.batch_size\n",
    "\n",
    "    #Model training \n",
    "    #Ensure that log=1 parameter is set for logging onto wandb\n",
    "    model = FFNN(optimizer, hidden_layers, loss_fun, activation, output_activation, batch_size, epochs, initn, log=1)\n",
    "\n",
    "    train_loss, val_loss, train_accuracy, val_accuracy = model.fit(x_train, y_OH_train, x_test, y_OH_test, console= 0)\n",
    "    print(\" Training Loss: \",train_loss, \" Validation Loss:\",val_loss ,\" Training Accuracy: \",train_accuracy, \" Validation Accuracy:\", val_accuracy)\n",
    "\n",
    "    #Log validation accuracy for this run\n",
    "    wandb.log({\"Accuracy\": val_accuracy})"
   ]
  },
  {
   "cell_type": "code",
   "execution_count": 68,
   "id": "73f9dd57",
   "metadata": {},
   "outputs": [
    {
     "name": "stdout",
     "output_type": "stream",
     "text": [
      "Create sweep with ID: l8gb2vl6\n",
      "Sweep URL: https://wandb.ai/cs22m083/CS6910_Assignment_1_/sweeps/l8gb2vl6\n"
     ]
    }
   ],
   "source": [
    "sweep_id = wandb.sweep(sweep_config, project=\"CS6910_Assignment_1_\")"
   ]
  },
  {
   "cell_type": "code",
   "execution_count": null,
   "id": "9fe33634",
   "metadata": {},
   "outputs": [
    {
     "name": "stderr",
     "output_type": "stream",
     "text": [
      "\u001b[34m\u001b[1mwandb\u001b[0m: \u001b[33mWARNING\u001b[0m Calling wandb.login() after wandb.init() has no effect.\n",
      "\u001b[34m\u001b[1mwandb\u001b[0m: Agent Starting Run: 45y0awjj with config:\n",
      "\u001b[34m\u001b[1mwandb\u001b[0m: \tactivation: tanh\n",
      "\u001b[34m\u001b[1mwandb\u001b[0m: \tbatch_size: 32\n",
      "\u001b[34m\u001b[1mwandb\u001b[0m: \tepochs: 5\n",
      "\u001b[34m\u001b[1mwandb\u001b[0m: \tgamma: 0.03\n",
      "\u001b[34m\u001b[1mwandb\u001b[0m: \thidden_layers: [32, 64]\n",
      "\u001b[34m\u001b[1mwandb\u001b[0m: \tinitialization: Xavier\n",
      "\u001b[34m\u001b[1mwandb\u001b[0m: \tlearning_rate: 0.005\n",
      "\u001b[34m\u001b[1mwandb\u001b[0m: \toptimizer: sgd\n",
      "\u001b[34m\u001b[1mwandb\u001b[0m: \tweight_decay: 0.0005\n",
      "\u001b[34m\u001b[1mwandb\u001b[0m: \u001b[33mWARNING\u001b[0m Ignored wandb.init() arg project when running a sweep.\n"
     ]
    },
    {
     "data": {
      "text/html": [
       "wandb version 0.14.0 is available!  To upgrade, please run:\n",
       " $ pip install wandb --upgrade"
      ],
      "text/plain": [
       "<IPython.core.display.HTML object>"
      ]
     },
     "metadata": {},
     "output_type": "display_data"
    },
    {
     "data": {
      "text/html": [
       "Tracking run with wandb version 0.13.10"
      ],
      "text/plain": [
       "<IPython.core.display.HTML object>"
      ]
     },
     "metadata": {},
     "output_type": "display_data"
    },
    {
     "data": {
      "text/html": [
       "Run data is saved locally in <code>C:\\Users\\Shivam Maurya\\OneDrive\\Desktop\\IIT_MADRAS\\Deep Learning\\assignment 1\\CS6910-Deep_Learning_Assignment-1\\wandb\\run-20230319_133139-45y0awjj</code>"
      ],
      "text/plain": [
       "<IPython.core.display.HTML object>"
      ]
     },
     "metadata": {},
     "output_type": "display_data"
    },
    {
     "data": {
      "text/html": [
       "Syncing run <strong><a href='https://wandb.ai/cs22m083/CS6910_Assignment_1_/runs/45y0awjj' target=\"_blank\">Question:4</a></strong> to <a href='https://wandb.ai/cs22m083/CS6910_Assignment_1_' target=\"_blank\">Weights & Biases</a> (<a href='https://wandb.me/run' target=\"_blank\">docs</a>)<br/>Sweep page: <a href='https://wandb.ai/cs22m083/CS6910_Assignment_1_/sweeps/l8gb2vl6' target=\"_blank\">https://wandb.ai/cs22m083/CS6910_Assignment_1_/sweeps/l8gb2vl6</a>"
      ],
      "text/plain": [
       "<IPython.core.display.HTML object>"
      ]
     },
     "metadata": {},
     "output_type": "display_data"
    },
    {
     "data": {
      "text/html": [
       " View project at <a href='https://wandb.ai/cs22m083/CS6910_Assignment_1_' target=\"_blank\">https://wandb.ai/cs22m083/CS6910_Assignment_1_</a>"
      ],
      "text/plain": [
       "<IPython.core.display.HTML object>"
      ]
     },
     "metadata": {},
     "output_type": "display_data"
    },
    {
     "data": {
      "text/html": [
       " View sweep at <a href='https://wandb.ai/cs22m083/CS6910_Assignment_1_/sweeps/l8gb2vl6' target=\"_blank\">https://wandb.ai/cs22m083/CS6910_Assignment_1_/sweeps/l8gb2vl6</a>"
      ],
      "text/plain": [
       "<IPython.core.display.HTML object>"
      ]
     },
     "metadata": {},
     "output_type": "display_data"
    },
    {
     "data": {
      "text/html": [
       " View run at <a href='https://wandb.ai/cs22m083/CS6910_Assignment_1_/runs/45y0awjj' target=\"_blank\">https://wandb.ai/cs22m083/CS6910_Assignment_1_/runs/45y0awjj</a>"
      ],
      "text/plain": [
       "<IPython.core.display.HTML object>"
      ]
     },
     "metadata": {},
     "output_type": "display_data"
    },
    {
     "name": "stdout",
     "output_type": "stream",
     "text": [
      " Training Loss:  0.33121618532497477  Validation Loss: 0.3954396369351316  Training Accuracy:  0.8776166666666667  Validation Accuracy: 0.8573\n"
     ]
    },
    {
     "data": {
      "text/html": [
       "Waiting for W&B process to finish... <strong style=\"color:green\">(success).</strong>"
      ],
      "text/plain": [
       "<IPython.core.display.HTML object>"
      ]
     },
     "metadata": {},
     "output_type": "display_data"
    },
    {
     "data": {
      "text/html": [
       "<style>\n",
       "    table.wandb td:nth-child(1) { padding: 0 10px; text-align: left ; width: auto;} td:nth-child(2) {text-align: left ; width: 100%}\n",
       "    .wandb-row { display: flex; flex-direction: row; flex-wrap: wrap; justify-content: flex-start; width: 100% }\n",
       "    .wandb-col { display: flex; flex-direction: column; flex-basis: 100%; flex: 1; padding: 10px; }\n",
       "    </style>\n",
       "<div class=\"wandb-row\"><div class=\"wandb-col\"><h3>Run history:</h3><br/><table class=\"wandb\"><tr><td>Accuracy</td><td>▁</td></tr><tr><td>Epoch</td><td>▁▃▅▆█</td></tr><tr><td>Training_accuracy</td><td>▁▆▇██</td></tr><tr><td>Training_loss</td><td>█▄▂▂▁</td></tr><tr><td>Validation_accuracy</td><td>▁▅███</td></tr><tr><td>Validation_loss</td><td>█▄▁▁▁</td></tr></table><br/></div><div class=\"wandb-col\"><h3>Run summary:</h3><br/><table class=\"wandb\"><tr><td>Accuracy</td><td>0.8573</td></tr><tr><td>Epoch</td><td>5</td></tr><tr><td>Training_accuracy</td><td>0.87762</td></tr><tr><td>Training_loss</td><td>0.33122</td></tr><tr><td>Validation_accuracy</td><td>0.8573</td></tr><tr><td>Validation_loss</td><td>0.39544</td></tr></table><br/></div></div>"
      ],
      "text/plain": [
       "<IPython.core.display.HTML object>"
      ]
     },
     "metadata": {},
     "output_type": "display_data"
    },
    {
     "data": {
      "text/html": [
       " View run <strong style=\"color:#cdcd00\">Question:4</strong> at: <a href='https://wandb.ai/cs22m083/CS6910_Assignment_1_/runs/45y0awjj' target=\"_blank\">https://wandb.ai/cs22m083/CS6910_Assignment_1_/runs/45y0awjj</a><br/>Synced 6 W&B file(s), 0 media file(s), 0 artifact file(s) and 0 other file(s)"
      ],
      "text/plain": [
       "<IPython.core.display.HTML object>"
      ]
     },
     "metadata": {},
     "output_type": "display_data"
    },
    {
     "data": {
      "text/html": [
       "Find logs at: <code>.\\wandb\\run-20230319_133139-45y0awjj\\logs</code>"
      ],
      "text/plain": [
       "<IPython.core.display.HTML object>"
      ]
     },
     "metadata": {},
     "output_type": "display_data"
    },
    {
     "name": "stderr",
     "output_type": "stream",
     "text": [
      "\u001b[34m\u001b[1mwandb\u001b[0m: Agent Starting Run: 8yj2srt9 with config:\n",
      "\u001b[34m\u001b[1mwandb\u001b[0m: \tactivation: tanh\n",
      "\u001b[34m\u001b[1mwandb\u001b[0m: \tbatch_size: 32\n",
      "\u001b[34m\u001b[1mwandb\u001b[0m: \tepochs: 5\n",
      "\u001b[34m\u001b[1mwandb\u001b[0m: \tgamma: 0.0006\n",
      "\u001b[34m\u001b[1mwandb\u001b[0m: \thidden_layers: [32, 64]\n",
      "\u001b[34m\u001b[1mwandb\u001b[0m: \tinitialization: Xavier\n",
      "\u001b[34m\u001b[1mwandb\u001b[0m: \tlearning_rate: 0.01\n",
      "\u001b[34m\u001b[1mwandb\u001b[0m: \toptimizer: momentum\n",
      "\u001b[34m\u001b[1mwandb\u001b[0m: \tweight_decay: 0.5\n",
      "\u001b[34m\u001b[1mwandb\u001b[0m: \u001b[33mWARNING\u001b[0m Ignored wandb.init() arg project when running a sweep.\n"
     ]
    },
    {
     "data": {
      "text/html": [
       "wandb version 0.14.0 is available!  To upgrade, please run:\n",
       " $ pip install wandb --upgrade"
      ],
      "text/plain": [
       "<IPython.core.display.HTML object>"
      ]
     },
     "metadata": {},
     "output_type": "display_data"
    },
    {
     "data": {
      "text/html": [
       "Tracking run with wandb version 0.13.10"
      ],
      "text/plain": [
       "<IPython.core.display.HTML object>"
      ]
     },
     "metadata": {},
     "output_type": "display_data"
    },
    {
     "data": {
      "text/html": [
       "Run data is saved locally in <code>C:\\Users\\Shivam Maurya\\OneDrive\\Desktop\\IIT_MADRAS\\Deep Learning\\assignment 1\\CS6910-Deep_Learning_Assignment-1\\wandb\\run-20230319_133507-8yj2srt9</code>"
      ],
      "text/plain": [
       "<IPython.core.display.HTML object>"
      ]
     },
     "metadata": {},
     "output_type": "display_data"
    },
    {
     "data": {
      "text/html": [
       "Syncing run <strong><a href='https://wandb.ai/cs22m083/CS6910_Assignment_1_/runs/8yj2srt9' target=\"_blank\">Question:4</a></strong> to <a href='https://wandb.ai/cs22m083/CS6910_Assignment_1_' target=\"_blank\">Weights & Biases</a> (<a href='https://wandb.me/run' target=\"_blank\">docs</a>)<br/>Sweep page: <a href='https://wandb.ai/cs22m083/CS6910_Assignment_1_/sweeps/l8gb2vl6' target=\"_blank\">https://wandb.ai/cs22m083/CS6910_Assignment_1_/sweeps/l8gb2vl6</a>"
      ],
      "text/plain": [
       "<IPython.core.display.HTML object>"
      ]
     },
     "metadata": {},
     "output_type": "display_data"
    },
    {
     "data": {
      "text/html": [
       " View project at <a href='https://wandb.ai/cs22m083/CS6910_Assignment_1_' target=\"_blank\">https://wandb.ai/cs22m083/CS6910_Assignment_1_</a>"
      ],
      "text/plain": [
       "<IPython.core.display.HTML object>"
      ]
     },
     "metadata": {},
     "output_type": "display_data"
    },
    {
     "data": {
      "text/html": [
       " View sweep at <a href='https://wandb.ai/cs22m083/CS6910_Assignment_1_/sweeps/l8gb2vl6' target=\"_blank\">https://wandb.ai/cs22m083/CS6910_Assignment_1_/sweeps/l8gb2vl6</a>"
      ],
      "text/plain": [
       "<IPython.core.display.HTML object>"
      ]
     },
     "metadata": {},
     "output_type": "display_data"
    },
    {
     "data": {
      "text/html": [
       " View run at <a href='https://wandb.ai/cs22m083/CS6910_Assignment_1_/runs/8yj2srt9' target=\"_blank\">https://wandb.ai/cs22m083/CS6910_Assignment_1_/runs/8yj2srt9</a>"
      ],
      "text/plain": [
       "<IPython.core.display.HTML object>"
      ]
     },
     "metadata": {},
     "output_type": "display_data"
    },
    {
     "name": "stdout",
     "output_type": "stream",
     "text": [
      " Training Loss:  0.7098780591048065  Validation Loss: 0.9157800824619345  Training Accuracy:  0.7403333333333333  Validation Accuracy: 0.6552\n"
     ]
    },
    {
     "data": {
      "text/html": [
       "Waiting for W&B process to finish... <strong style=\"color:green\">(success).</strong>"
      ],
      "text/plain": [
       "<IPython.core.display.HTML object>"
      ]
     },
     "metadata": {},
     "output_type": "display_data"
    },
    {
     "data": {
      "text/html": [
       "<style>\n",
       "    table.wandb td:nth-child(1) { padding: 0 10px; text-align: left ; width: auto;} td:nth-child(2) {text-align: left ; width: 100%}\n",
       "    .wandb-row { display: flex; flex-direction: row; flex-wrap: wrap; justify-content: flex-start; width: 100% }\n",
       "    .wandb-col { display: flex; flex-direction: column; flex-basis: 100%; flex: 1; padding: 10px; }\n",
       "    </style>\n",
       "<div class=\"wandb-row\"><div class=\"wandb-col\"><h3>Run history:</h3><br/><table class=\"wandb\"><tr><td>Accuracy</td><td>▁</td></tr><tr><td>Epoch</td><td>▁▃▅▆█</td></tr><tr><td>Training_accuracy</td><td>▁▇███</td></tr><tr><td>Training_loss</td><td>█▂▁▁▁</td></tr><tr><td>Validation_accuracy</td><td>▁█▄▁▂</td></tr><tr><td>Validation_loss</td><td>▆▁▆█▇</td></tr></table><br/></div><div class=\"wandb-col\"><h3>Run summary:</h3><br/><table class=\"wandb\"><tr><td>Accuracy</td><td>0.6552</td></tr><tr><td>Epoch</td><td>5</td></tr><tr><td>Training_accuracy</td><td>0.74033</td></tr><tr><td>Training_loss</td><td>0.70988</td></tr><tr><td>Validation_accuracy</td><td>0.6552</td></tr><tr><td>Validation_loss</td><td>0.91578</td></tr></table><br/></div></div>"
      ],
      "text/plain": [
       "<IPython.core.display.HTML object>"
      ]
     },
     "metadata": {},
     "output_type": "display_data"
    },
    {
     "data": {
      "text/html": [
       " View run <strong style=\"color:#cdcd00\">Question:4</strong> at: <a href='https://wandb.ai/cs22m083/CS6910_Assignment_1_/runs/8yj2srt9' target=\"_blank\">https://wandb.ai/cs22m083/CS6910_Assignment_1_/runs/8yj2srt9</a><br/>Synced 6 W&B file(s), 0 media file(s), 0 artifact file(s) and 0 other file(s)"
      ],
      "text/plain": [
       "<IPython.core.display.HTML object>"
      ]
     },
     "metadata": {},
     "output_type": "display_data"
    },
    {
     "data": {
      "text/html": [
       "Find logs at: <code>.\\wandb\\run-20230319_133507-8yj2srt9\\logs</code>"
      ],
      "text/plain": [
       "<IPython.core.display.HTML object>"
      ]
     },
     "metadata": {},
     "output_type": "display_data"
    },
    {
     "name": "stderr",
     "output_type": "stream",
     "text": [
      "\u001b[34m\u001b[1mwandb\u001b[0m: Agent Starting Run: xnqf16qp with config:\n",
      "\u001b[34m\u001b[1mwandb\u001b[0m: \tactivation: relu\n",
      "\u001b[34m\u001b[1mwandb\u001b[0m: \tbatch_size: 64\n",
      "\u001b[34m\u001b[1mwandb\u001b[0m: \tepochs: 5\n",
      "\u001b[34m\u001b[1mwandb\u001b[0m: \tgamma: 0.0006\n",
      "\u001b[34m\u001b[1mwandb\u001b[0m: \thidden_layers: [32, 64, 128, 256]\n",
      "\u001b[34m\u001b[1mwandb\u001b[0m: \tinitialization: Random\n",
      "\u001b[34m\u001b[1mwandb\u001b[0m: \tlearning_rate: 0.0003\n",
      "\u001b[34m\u001b[1mwandb\u001b[0m: \toptimizer: adam\n",
      "\u001b[34m\u001b[1mwandb\u001b[0m: \tweight_decay: 0.5\n",
      "\u001b[34m\u001b[1mwandb\u001b[0m: \u001b[33mWARNING\u001b[0m Ignored wandb.init() arg project when running a sweep.\n"
     ]
    },
    {
     "data": {
      "text/html": [
       "wandb version 0.14.0 is available!  To upgrade, please run:\n",
       " $ pip install wandb --upgrade"
      ],
      "text/plain": [
       "<IPython.core.display.HTML object>"
      ]
     },
     "metadata": {},
     "output_type": "display_data"
    },
    {
     "data": {
      "text/html": [
       "Tracking run with wandb version 0.13.10"
      ],
      "text/plain": [
       "<IPython.core.display.HTML object>"
      ]
     },
     "metadata": {},
     "output_type": "display_data"
    },
    {
     "data": {
      "text/html": [
       "Run data is saved locally in <code>C:\\Users\\Shivam Maurya\\OneDrive\\Desktop\\IIT_MADRAS\\Deep Learning\\assignment 1\\CS6910-Deep_Learning_Assignment-1\\wandb\\run-20230319_133837-xnqf16qp</code>"
      ],
      "text/plain": [
       "<IPython.core.display.HTML object>"
      ]
     },
     "metadata": {},
     "output_type": "display_data"
    },
    {
     "data": {
      "text/html": [
       "Syncing run <strong><a href='https://wandb.ai/cs22m083/CS6910_Assignment_1_/runs/xnqf16qp' target=\"_blank\">Question:4</a></strong> to <a href='https://wandb.ai/cs22m083/CS6910_Assignment_1_' target=\"_blank\">Weights & Biases</a> (<a href='https://wandb.me/run' target=\"_blank\">docs</a>)<br/>Sweep page: <a href='https://wandb.ai/cs22m083/CS6910_Assignment_1_/sweeps/l8gb2vl6' target=\"_blank\">https://wandb.ai/cs22m083/CS6910_Assignment_1_/sweeps/l8gb2vl6</a>"
      ],
      "text/plain": [
       "<IPython.core.display.HTML object>"
      ]
     },
     "metadata": {},
     "output_type": "display_data"
    },
    {
     "data": {
      "text/html": [
       " View project at <a href='https://wandb.ai/cs22m083/CS6910_Assignment_1_' target=\"_blank\">https://wandb.ai/cs22m083/CS6910_Assignment_1_</a>"
      ],
      "text/plain": [
       "<IPython.core.display.HTML object>"
      ]
     },
     "metadata": {},
     "output_type": "display_data"
    },
    {
     "data": {
      "text/html": [
       " View sweep at <a href='https://wandb.ai/cs22m083/CS6910_Assignment_1_/sweeps/l8gb2vl6' target=\"_blank\">https://wandb.ai/cs22m083/CS6910_Assignment_1_/sweeps/l8gb2vl6</a>"
      ],
      "text/plain": [
       "<IPython.core.display.HTML object>"
      ]
     },
     "metadata": {},
     "output_type": "display_data"
    },
    {
     "data": {
      "text/html": [
       " View run at <a href='https://wandb.ai/cs22m083/CS6910_Assignment_1_/runs/xnqf16qp' target=\"_blank\">https://wandb.ai/cs22m083/CS6910_Assignment_1_/runs/xnqf16qp</a>"
      ],
      "text/plain": [
       "<IPython.core.display.HTML object>"
      ]
     },
     "metadata": {},
     "output_type": "display_data"
    },
    {
     "name": "stdout",
     "output_type": "stream",
     "text": [
      " Training Loss:  nan  Validation Loss: nan  Training Accuracy:  0.1  Validation Accuracy: 0.1\n"
     ]
    },
    {
     "data": {
      "text/html": [
       "Waiting for W&B process to finish... <strong style=\"color:green\">(success).</strong>"
      ],
      "text/plain": [
       "<IPython.core.display.HTML object>"
      ]
     },
     "metadata": {},
     "output_type": "display_data"
    },
    {
     "data": {
      "text/html": [
       "<style>\n",
       "    table.wandb td:nth-child(1) { padding: 0 10px; text-align: left ; width: auto;} td:nth-child(2) {text-align: left ; width: 100%}\n",
       "    .wandb-row { display: flex; flex-direction: row; flex-wrap: wrap; justify-content: flex-start; width: 100% }\n",
       "    .wandb-col { display: flex; flex-direction: column; flex-basis: 100%; flex: 1; padding: 10px; }\n",
       "    </style>\n",
       "<div class=\"wandb-row\"><div class=\"wandb-col\"><h3>Run history:</h3><br/><table class=\"wandb\"><tr><td>Accuracy</td><td>▁</td></tr><tr><td>Epoch</td><td>▁▃▅▆█</td></tr><tr><td>Training_accuracy</td><td>█▁▁▁▁</td></tr><tr><td>Validation_accuracy</td><td>▁▁▁▁▁</td></tr></table><br/></div><div class=\"wandb-col\"><h3>Run summary:</h3><br/><table class=\"wandb\"><tr><td>Accuracy</td><td>0.1</td></tr><tr><td>Epoch</td><td>5</td></tr><tr><td>Training_accuracy</td><td>0.1</td></tr><tr><td>Training_loss</td><td>nan</td></tr><tr><td>Validation_accuracy</td><td>0.1</td></tr><tr><td>Validation_loss</td><td>nan</td></tr></table><br/></div></div>"
      ],
      "text/plain": [
       "<IPython.core.display.HTML object>"
      ]
     },
     "metadata": {},
     "output_type": "display_data"
    },
    {
     "data": {
      "text/html": [
       " View run <strong style=\"color:#cdcd00\">Question:4</strong> at: <a href='https://wandb.ai/cs22m083/CS6910_Assignment_1_/runs/xnqf16qp' target=\"_blank\">https://wandb.ai/cs22m083/CS6910_Assignment_1_/runs/xnqf16qp</a><br/>Synced 6 W&B file(s), 0 media file(s), 0 artifact file(s) and 0 other file(s)"
      ],
      "text/plain": [
       "<IPython.core.display.HTML object>"
      ]
     },
     "metadata": {},
     "output_type": "display_data"
    },
    {
     "data": {
      "text/html": [
       "Find logs at: <code>.\\wandb\\run-20230319_133837-xnqf16qp\\logs</code>"
      ],
      "text/plain": [
       "<IPython.core.display.HTML object>"
      ]
     },
     "metadata": {},
     "output_type": "display_data"
    },
    {
     "name": "stderr",
     "output_type": "stream",
     "text": [
      "\u001b[34m\u001b[1mwandb\u001b[0m: Agent Starting Run: 13g7jmxj with config:\n",
      "\u001b[34m\u001b[1mwandb\u001b[0m: \tactivation: relu\n",
      "\u001b[34m\u001b[1mwandb\u001b[0m: \tbatch_size: 32\n",
      "\u001b[34m\u001b[1mwandb\u001b[0m: \tepochs: 5\n",
      "\u001b[34m\u001b[1mwandb\u001b[0m: \tgamma: 0.0006\n",
      "\u001b[34m\u001b[1mwandb\u001b[0m: \thidden_layers: [32, 64, 128, 256]\n",
      "\u001b[34m\u001b[1mwandb\u001b[0m: \tinitialization: Xavier\n",
      "\u001b[34m\u001b[1mwandb\u001b[0m: \tlearning_rate: 0.0001\n",
      "\u001b[34m\u001b[1mwandb\u001b[0m: \toptimizer: nag\n",
      "\u001b[34m\u001b[1mwandb\u001b[0m: \tweight_decay: 0\n",
      "\u001b[34m\u001b[1mwandb\u001b[0m: \u001b[33mWARNING\u001b[0m Ignored wandb.init() arg project when running a sweep.\n"
     ]
    },
    {
     "data": {
      "text/html": [
       "wandb version 0.14.0 is available!  To upgrade, please run:\n",
       " $ pip install wandb --upgrade"
      ],
      "text/plain": [
       "<IPython.core.display.HTML object>"
      ]
     },
     "metadata": {},
     "output_type": "display_data"
    },
    {
     "data": {
      "text/html": [
       "Tracking run with wandb version 0.13.10"
      ],
      "text/plain": [
       "<IPython.core.display.HTML object>"
      ]
     },
     "metadata": {},
     "output_type": "display_data"
    },
    {
     "data": {
      "text/html": [
       "Run data is saved locally in <code>C:\\Users\\Shivam Maurya\\OneDrive\\Desktop\\IIT_MADRAS\\Deep Learning\\assignment 1\\CS6910-Deep_Learning_Assignment-1\\wandb\\run-20230319_134528-13g7jmxj</code>"
      ],
      "text/plain": [
       "<IPython.core.display.HTML object>"
      ]
     },
     "metadata": {},
     "output_type": "display_data"
    },
    {
     "data": {
      "text/html": [
       "Syncing run <strong><a href='https://wandb.ai/cs22m083/CS6910_Assignment_1_/runs/13g7jmxj' target=\"_blank\">Question:4</a></strong> to <a href='https://wandb.ai/cs22m083/CS6910_Assignment_1_' target=\"_blank\">Weights & Biases</a> (<a href='https://wandb.me/run' target=\"_blank\">docs</a>)<br/>Sweep page: <a href='https://wandb.ai/cs22m083/CS6910_Assignment_1_/sweeps/l8gb2vl6' target=\"_blank\">https://wandb.ai/cs22m083/CS6910_Assignment_1_/sweeps/l8gb2vl6</a>"
      ],
      "text/plain": [
       "<IPython.core.display.HTML object>"
      ]
     },
     "metadata": {},
     "output_type": "display_data"
    },
    {
     "data": {
      "text/html": [
       " View project at <a href='https://wandb.ai/cs22m083/CS6910_Assignment_1_' target=\"_blank\">https://wandb.ai/cs22m083/CS6910_Assignment_1_</a>"
      ],
      "text/plain": [
       "<IPython.core.display.HTML object>"
      ]
     },
     "metadata": {},
     "output_type": "display_data"
    },
    {
     "data": {
      "text/html": [
       " View sweep at <a href='https://wandb.ai/cs22m083/CS6910_Assignment_1_/sweeps/l8gb2vl6' target=\"_blank\">https://wandb.ai/cs22m083/CS6910_Assignment_1_/sweeps/l8gb2vl6</a>"
      ],
      "text/plain": [
       "<IPython.core.display.HTML object>"
      ]
     },
     "metadata": {},
     "output_type": "display_data"
    },
    {
     "data": {
      "text/html": [
       " View run at <a href='https://wandb.ai/cs22m083/CS6910_Assignment_1_/runs/13g7jmxj' target=\"_blank\">https://wandb.ai/cs22m083/CS6910_Assignment_1_/runs/13g7jmxj</a>"
      ],
      "text/plain": [
       "<IPython.core.display.HTML object>"
      ]
     },
     "metadata": {},
     "output_type": "display_data"
    },
    {
     "name": "stdout",
     "output_type": "stream",
     "text": [
      " Training Loss:  2.1700118119874685  Validation Loss: 2.1482514349401813  Training Accuracy:  0.21326666666666666  Validation Accuracy: 0.2425\n"
     ]
    },
    {
     "data": {
      "text/html": [
       "Waiting for W&B process to finish... <strong style=\"color:green\">(success).</strong>"
      ],
      "text/plain": [
       "<IPython.core.display.HTML object>"
      ]
     },
     "metadata": {},
     "output_type": "display_data"
    },
    {
     "data": {
      "text/html": [
       "<style>\n",
       "    table.wandb td:nth-child(1) { padding: 0 10px; text-align: left ; width: auto;} td:nth-child(2) {text-align: left ; width: 100%}\n",
       "    .wandb-row { display: flex; flex-direction: row; flex-wrap: wrap; justify-content: flex-start; width: 100% }\n",
       "    .wandb-col { display: flex; flex-direction: column; flex-basis: 100%; flex: 1; padding: 10px; }\n",
       "    </style>\n",
       "<div class=\"wandb-row\"><div class=\"wandb-col\"><h3>Run history:</h3><br/><table class=\"wandb\"><tr><td>Accuracy</td><td>▁</td></tr><tr><td>Epoch</td><td>▁▃▅▆█</td></tr><tr><td>Training_accuracy</td><td>▁▂▄▆█</td></tr><tr><td>Training_loss</td><td>█▇▅▃▁</td></tr><tr><td>Validation_accuracy</td><td>▁▃▄▆█</td></tr><tr><td>Validation_loss</td><td>█▇▅▃▁</td></tr></table><br/></div><div class=\"wandb-col\"><h3>Run summary:</h3><br/><table class=\"wandb\"><tr><td>Accuracy</td><td>0.2425</td></tr><tr><td>Epoch</td><td>5</td></tr><tr><td>Training_accuracy</td><td>0.21327</td></tr><tr><td>Training_loss</td><td>2.17001</td></tr><tr><td>Validation_accuracy</td><td>0.2425</td></tr><tr><td>Validation_loss</td><td>2.14825</td></tr></table><br/></div></div>"
      ],
      "text/plain": [
       "<IPython.core.display.HTML object>"
      ]
     },
     "metadata": {},
     "output_type": "display_data"
    },
    {
     "data": {
      "text/html": [
       " View run <strong style=\"color:#cdcd00\">Question:4</strong> at: <a href='https://wandb.ai/cs22m083/CS6910_Assignment_1_/runs/13g7jmxj' target=\"_blank\">https://wandb.ai/cs22m083/CS6910_Assignment_1_/runs/13g7jmxj</a><br/>Synced 6 W&B file(s), 0 media file(s), 0 artifact file(s) and 0 other file(s)"
      ],
      "text/plain": [
       "<IPython.core.display.HTML object>"
      ]
     },
     "metadata": {},
     "output_type": "display_data"
    },
    {
     "data": {
      "text/html": [
       "Find logs at: <code>.\\wandb\\run-20230319_134528-13g7jmxj\\logs</code>"
      ],
      "text/plain": [
       "<IPython.core.display.HTML object>"
      ]
     },
     "metadata": {},
     "output_type": "display_data"
    },
    {
     "name": "stderr",
     "output_type": "stream",
     "text": [
      "\u001b[34m\u001b[1mwandb\u001b[0m: Agent Starting Run: a4qawdly with config:\n",
      "\u001b[34m\u001b[1mwandb\u001b[0m: \tactivation: tanh\n",
      "\u001b[34m\u001b[1mwandb\u001b[0m: \tbatch_size: 64\n",
      "\u001b[34m\u001b[1mwandb\u001b[0m: \tepochs: 10\n",
      "\u001b[34m\u001b[1mwandb\u001b[0m: \tgamma: 0.002\n",
      "\u001b[34m\u001b[1mwandb\u001b[0m: \thidden_layers: [32, 64]\n",
      "\u001b[34m\u001b[1mwandb\u001b[0m: \tinitialization: Random\n",
      "\u001b[34m\u001b[1mwandb\u001b[0m: \tlearning_rate: 0.005\n",
      "\u001b[34m\u001b[1mwandb\u001b[0m: \toptimizer: rmsprop\n",
      "\u001b[34m\u001b[1mwandb\u001b[0m: \tweight_decay: 0\n",
      "\u001b[34m\u001b[1mwandb\u001b[0m: \u001b[33mWARNING\u001b[0m Ignored wandb.init() arg project when running a sweep.\n"
     ]
    },
    {
     "data": {
      "text/html": [
       "wandb version 0.14.0 is available!  To upgrade, please run:\n",
       " $ pip install wandb --upgrade"
      ],
      "text/plain": [
       "<IPython.core.display.HTML object>"
      ]
     },
     "metadata": {},
     "output_type": "display_data"
    },
    {
     "data": {
      "text/html": [
       "Tracking run with wandb version 0.13.10"
      ],
      "text/plain": [
       "<IPython.core.display.HTML object>"
      ]
     },
     "metadata": {},
     "output_type": "display_data"
    },
    {
     "data": {
      "text/html": [
       "Run data is saved locally in <code>C:\\Users\\Shivam Maurya\\OneDrive\\Desktop\\IIT_MADRAS\\Deep Learning\\assignment 1\\CS6910-Deep_Learning_Assignment-1\\wandb\\run-20230319_135233-a4qawdly</code>"
      ],
      "text/plain": [
       "<IPython.core.display.HTML object>"
      ]
     },
     "metadata": {},
     "output_type": "display_data"
    },
    {
     "data": {
      "text/html": [
       "Syncing run <strong><a href='https://wandb.ai/cs22m083/CS6910_Assignment_1_/runs/a4qawdly' target=\"_blank\">Question:4</a></strong> to <a href='https://wandb.ai/cs22m083/CS6910_Assignment_1_' target=\"_blank\">Weights & Biases</a> (<a href='https://wandb.me/run' target=\"_blank\">docs</a>)<br/>Sweep page: <a href='https://wandb.ai/cs22m083/CS6910_Assignment_1_/sweeps/l8gb2vl6' target=\"_blank\">https://wandb.ai/cs22m083/CS6910_Assignment_1_/sweeps/l8gb2vl6</a>"
      ],
      "text/plain": [
       "<IPython.core.display.HTML object>"
      ]
     },
     "metadata": {},
     "output_type": "display_data"
    },
    {
     "data": {
      "text/html": [
       " View project at <a href='https://wandb.ai/cs22m083/CS6910_Assignment_1_' target=\"_blank\">https://wandb.ai/cs22m083/CS6910_Assignment_1_</a>"
      ],
      "text/plain": [
       "<IPython.core.display.HTML object>"
      ]
     },
     "metadata": {},
     "output_type": "display_data"
    },
    {
     "data": {
      "text/html": [
       " View sweep at <a href='https://wandb.ai/cs22m083/CS6910_Assignment_1_/sweeps/l8gb2vl6' target=\"_blank\">https://wandb.ai/cs22m083/CS6910_Assignment_1_/sweeps/l8gb2vl6</a>"
      ],
      "text/plain": [
       "<IPython.core.display.HTML object>"
      ]
     },
     "metadata": {},
     "output_type": "display_data"
    },
    {
     "data": {
      "text/html": [
       " View run at <a href='https://wandb.ai/cs22m083/CS6910_Assignment_1_/runs/a4qawdly' target=\"_blank\">https://wandb.ai/cs22m083/CS6910_Assignment_1_/runs/a4qawdly</a>"
      ],
      "text/plain": [
       "<IPython.core.display.HTML object>"
      ]
     },
     "metadata": {},
     "output_type": "display_data"
    },
    {
     "name": "stdout",
     "output_type": "stream",
     "text": [
      " Training Loss:  0.5090472155690107  Validation Loss: 0.5424499185166453  Training Accuracy:  0.83225  Validation Accuracy: 0.8218\n"
     ]
    },
    {
     "data": {
      "text/html": [
       "Waiting for W&B process to finish... <strong style=\"color:green\">(success).</strong>"
      ],
      "text/plain": [
       "<IPython.core.display.HTML object>"
      ]
     },
     "metadata": {},
     "output_type": "display_data"
    },
    {
     "data": {
      "text/html": [
       "<style>\n",
       "    table.wandb td:nth-child(1) { padding: 0 10px; text-align: left ; width: auto;} td:nth-child(2) {text-align: left ; width: 100%}\n",
       "    .wandb-row { display: flex; flex-direction: row; flex-wrap: wrap; justify-content: flex-start; width: 100% }\n",
       "    .wandb-col { display: flex; flex-direction: column; flex-basis: 100%; flex: 1; padding: 10px; }\n",
       "    </style>\n",
       "<div class=\"wandb-row\"><div class=\"wandb-col\"><h3>Run history:</h3><br/><table class=\"wandb\"><tr><td>Accuracy</td><td>▁</td></tr><tr><td>Epoch</td><td>▁▂▃▃▄▅▆▆▇█</td></tr><tr><td>Training_accuracy</td><td>▁▅▆▇▇▇████</td></tr><tr><td>Training_loss</td><td>█▃▃▂▂▂▁▁▁▁</td></tr><tr><td>Validation_accuracy</td><td>▁▄▅▆▆▇▇▇██</td></tr><tr><td>Validation_loss</td><td>█▅▄▃▃▃▂▂▁▁</td></tr></table><br/></div><div class=\"wandb-col\"><h3>Run summary:</h3><br/><table class=\"wandb\"><tr><td>Accuracy</td><td>0.8218</td></tr><tr><td>Epoch</td><td>10</td></tr><tr><td>Training_accuracy</td><td>0.83225</td></tr><tr><td>Training_loss</td><td>0.50905</td></tr><tr><td>Validation_accuracy</td><td>0.8218</td></tr><tr><td>Validation_loss</td><td>0.54245</td></tr></table><br/></div></div>"
      ],
      "text/plain": [
       "<IPython.core.display.HTML object>"
      ]
     },
     "metadata": {},
     "output_type": "display_data"
    },
    {
     "data": {
      "text/html": [
       " View run <strong style=\"color:#cdcd00\">Question:4</strong> at: <a href='https://wandb.ai/cs22m083/CS6910_Assignment_1_/runs/a4qawdly' target=\"_blank\">https://wandb.ai/cs22m083/CS6910_Assignment_1_/runs/a4qawdly</a><br/>Synced 6 W&B file(s), 0 media file(s), 0 artifact file(s) and 0 other file(s)"
      ],
      "text/plain": [
       "<IPython.core.display.HTML object>"
      ]
     },
     "metadata": {},
     "output_type": "display_data"
    },
    {
     "data": {
      "text/html": [
       "Find logs at: <code>.\\wandb\\run-20230319_135233-a4qawdly\\logs</code>"
      ],
      "text/plain": [
       "<IPython.core.display.HTML object>"
      ]
     },
     "metadata": {},
     "output_type": "display_data"
    },
    {
     "name": "stderr",
     "output_type": "stream",
     "text": [
      "\u001b[34m\u001b[1mwandb\u001b[0m: Agent Starting Run: nn9nmxif with config:\n",
      "\u001b[34m\u001b[1mwandb\u001b[0m: \tactivation: relu\n",
      "\u001b[34m\u001b[1mwandb\u001b[0m: \tbatch_size: 16\n",
      "\u001b[34m\u001b[1mwandb\u001b[0m: \tepochs: 5\n",
      "\u001b[34m\u001b[1mwandb\u001b[0m: \tgamma: 0.002\n",
      "\u001b[34m\u001b[1mwandb\u001b[0m: \thidden_layers: [32, 64, 128]\n",
      "\u001b[34m\u001b[1mwandb\u001b[0m: \tinitialization: Random\n",
      "\u001b[34m\u001b[1mwandb\u001b[0m: \tlearning_rate: 0.005\n",
      "\u001b[34m\u001b[1mwandb\u001b[0m: \toptimizer: nadam\n",
      "\u001b[34m\u001b[1mwandb\u001b[0m: \tweight_decay: 0\n",
      "\u001b[34m\u001b[1mwandb\u001b[0m: \u001b[33mWARNING\u001b[0m Ignored wandb.init() arg project when running a sweep.\n"
     ]
    },
    {
     "data": {
      "text/html": [
       "wandb version 0.14.0 is available!  To upgrade, please run:\n",
       " $ pip install wandb --upgrade"
      ],
      "text/plain": [
       "<IPython.core.display.HTML object>"
      ]
     },
     "metadata": {},
     "output_type": "display_data"
    },
    {
     "data": {
      "text/html": [
       "Tracking run with wandb version 0.13.10"
      ],
      "text/plain": [
       "<IPython.core.display.HTML object>"
      ]
     },
     "metadata": {},
     "output_type": "display_data"
    },
    {
     "data": {
      "text/html": [
       "Run data is saved locally in <code>C:\\Users\\Shivam Maurya\\OneDrive\\Desktop\\IIT_MADRAS\\Deep Learning\\assignment 1\\CS6910-Deep_Learning_Assignment-1\\wandb\\run-20230319_135927-nn9nmxif</code>"
      ],
      "text/plain": [
       "<IPython.core.display.HTML object>"
      ]
     },
     "metadata": {},
     "output_type": "display_data"
    },
    {
     "data": {
      "text/html": [
       "Syncing run <strong><a href='https://wandb.ai/cs22m083/CS6910_Assignment_1_/runs/nn9nmxif' target=\"_blank\">Question:4</a></strong> to <a href='https://wandb.ai/cs22m083/CS6910_Assignment_1_' target=\"_blank\">Weights & Biases</a> (<a href='https://wandb.me/run' target=\"_blank\">docs</a>)<br/>Sweep page: <a href='https://wandb.ai/cs22m083/CS6910_Assignment_1_/sweeps/l8gb2vl6' target=\"_blank\">https://wandb.ai/cs22m083/CS6910_Assignment_1_/sweeps/l8gb2vl6</a>"
      ],
      "text/plain": [
       "<IPython.core.display.HTML object>"
      ]
     },
     "metadata": {},
     "output_type": "display_data"
    },
    {
     "data": {
      "text/html": [
       " View project at <a href='https://wandb.ai/cs22m083/CS6910_Assignment_1_' target=\"_blank\">https://wandb.ai/cs22m083/CS6910_Assignment_1_</a>"
      ],
      "text/plain": [
       "<IPython.core.display.HTML object>"
      ]
     },
     "metadata": {},
     "output_type": "display_data"
    },
    {
     "data": {
      "text/html": [
       " View sweep at <a href='https://wandb.ai/cs22m083/CS6910_Assignment_1_/sweeps/l8gb2vl6' target=\"_blank\">https://wandb.ai/cs22m083/CS6910_Assignment_1_/sweeps/l8gb2vl6</a>"
      ],
      "text/plain": [
       "<IPython.core.display.HTML object>"
      ]
     },
     "metadata": {},
     "output_type": "display_data"
    },
    {
     "data": {
      "text/html": [
       " View run at <a href='https://wandb.ai/cs22m083/CS6910_Assignment_1_/runs/nn9nmxif' target=\"_blank\">https://wandb.ai/cs22m083/CS6910_Assignment_1_/runs/nn9nmxif</a>"
      ],
      "text/plain": [
       "<IPython.core.display.HTML object>"
      ]
     },
     "metadata": {},
     "output_type": "display_data"
    },
    {
     "name": "stdout",
     "output_type": "stream",
     "text": [
      " Training Loss:  nan  Validation Loss: nan  Training Accuracy:  0.1  Validation Accuracy: 0.1\n"
     ]
    },
    {
     "data": {
      "text/html": [
       "Waiting for W&B process to finish... <strong style=\"color:green\">(success).</strong>"
      ],
      "text/plain": [
       "<IPython.core.display.HTML object>"
      ]
     },
     "metadata": {},
     "output_type": "display_data"
    },
    {
     "data": {
      "application/vnd.jupyter.widget-view+json": {
       "model_id": "871df380b97f4669b07a2a04d52ace6d",
       "version_major": 2,
       "version_minor": 0
      },
      "text/plain": [
       "VBox(children=(Label(value='0.001 MB of 0.001 MB uploaded (0.000 MB deduped)\\r'), FloatProgress(value=1.0, max…"
      ]
     },
     "metadata": {},
     "output_type": "display_data"
    },
    {
     "data": {
      "text/html": [
       "<style>\n",
       "    table.wandb td:nth-child(1) { padding: 0 10px; text-align: left ; width: auto;} td:nth-child(2) {text-align: left ; width: 100%}\n",
       "    .wandb-row { display: flex; flex-direction: row; flex-wrap: wrap; justify-content: flex-start; width: 100% }\n",
       "    .wandb-col { display: flex; flex-direction: column; flex-basis: 100%; flex: 1; padding: 10px; }\n",
       "    </style>\n",
       "<div class=\"wandb-row\"><div class=\"wandb-col\"><h3>Run history:</h3><br/><table class=\"wandb\"><tr><td>Accuracy</td><td>▁</td></tr><tr><td>Epoch</td><td>▁▃▅▆█</td></tr><tr><td>Training_accuracy</td><td>▁▁▁▁▁</td></tr><tr><td>Validation_accuracy</td><td>▁▁▁▁▁</td></tr></table><br/></div><div class=\"wandb-col\"><h3>Run summary:</h3><br/><table class=\"wandb\"><tr><td>Accuracy</td><td>0.1</td></tr><tr><td>Epoch</td><td>5</td></tr><tr><td>Training_accuracy</td><td>0.1</td></tr><tr><td>Training_loss</td><td>nan</td></tr><tr><td>Validation_accuracy</td><td>0.1</td></tr><tr><td>Validation_loss</td><td>nan</td></tr></table><br/></div></div>"
      ],
      "text/plain": [
       "<IPython.core.display.HTML object>"
      ]
     },
     "metadata": {},
     "output_type": "display_data"
    },
    {
     "data": {
      "text/html": [
       " View run <strong style=\"color:#cdcd00\">Question:4</strong> at: <a href='https://wandb.ai/cs22m083/CS6910_Assignment_1_/runs/nn9nmxif' target=\"_blank\">https://wandb.ai/cs22m083/CS6910_Assignment_1_/runs/nn9nmxif</a><br/>Synced 6 W&B file(s), 0 media file(s), 0 artifact file(s) and 0 other file(s)"
      ],
      "text/plain": [
       "<IPython.core.display.HTML object>"
      ]
     },
     "metadata": {},
     "output_type": "display_data"
    },
    {
     "data": {
      "text/html": [
       "Find logs at: <code>.\\wandb\\run-20230319_135927-nn9nmxif\\logs</code>"
      ],
      "text/plain": [
       "<IPython.core.display.HTML object>"
      ]
     },
     "metadata": {},
     "output_type": "display_data"
    },
    {
     "name": "stderr",
     "output_type": "stream",
     "text": [
      "\u001b[34m\u001b[1mwandb\u001b[0m: Agent Starting Run: lf9974ik with config:\n",
      "\u001b[34m\u001b[1mwandb\u001b[0m: \tactivation: tanh\n",
      "\u001b[34m\u001b[1mwandb\u001b[0m: \tbatch_size: 32\n",
      "\u001b[34m\u001b[1mwandb\u001b[0m: \tepochs: 10\n",
      "\u001b[34m\u001b[1mwandb\u001b[0m: \tgamma: 0.03\n",
      "\u001b[34m\u001b[1mwandb\u001b[0m: \thidden_layers: [32, 64]\n",
      "\u001b[34m\u001b[1mwandb\u001b[0m: \tinitialization: Xavier\n",
      "\u001b[34m\u001b[1mwandb\u001b[0m: \tlearning_rate: 0.0006\n",
      "\u001b[34m\u001b[1mwandb\u001b[0m: \toptimizer: nag\n",
      "\u001b[34m\u001b[1mwandb\u001b[0m: \tweight_decay: 0.5\n",
      "\u001b[34m\u001b[1mwandb\u001b[0m: \u001b[33mWARNING\u001b[0m Ignored wandb.init() arg project when running a sweep.\n"
     ]
    },
    {
     "data": {
      "text/html": [
       "wandb version 0.14.0 is available!  To upgrade, please run:\n",
       " $ pip install wandb --upgrade"
      ],
      "text/plain": [
       "<IPython.core.display.HTML object>"
      ]
     },
     "metadata": {},
     "output_type": "display_data"
    },
    {
     "data": {
      "text/html": [
       "Tracking run with wandb version 0.13.10"
      ],
      "text/plain": [
       "<IPython.core.display.HTML object>"
      ]
     },
     "metadata": {},
     "output_type": "display_data"
    },
    {
     "data": {
      "text/html": [
       "Run data is saved locally in <code>C:\\Users\\Shivam Maurya\\OneDrive\\Desktop\\IIT_MADRAS\\Deep Learning\\assignment 1\\CS6910-Deep_Learning_Assignment-1\\wandb\\run-20230319_140418-lf9974ik</code>"
      ],
      "text/plain": [
       "<IPython.core.display.HTML object>"
      ]
     },
     "metadata": {},
     "output_type": "display_data"
    },
    {
     "data": {
      "text/html": [
       "Syncing run <strong><a href='https://wandb.ai/cs22m083/CS6910_Assignment_1_/runs/lf9974ik' target=\"_blank\">Question:4</a></strong> to <a href='https://wandb.ai/cs22m083/CS6910_Assignment_1_' target=\"_blank\">Weights & Biases</a> (<a href='https://wandb.me/run' target=\"_blank\">docs</a>)<br/>Sweep page: <a href='https://wandb.ai/cs22m083/CS6910_Assignment_1_/sweeps/l8gb2vl6' target=\"_blank\">https://wandb.ai/cs22m083/CS6910_Assignment_1_/sweeps/l8gb2vl6</a>"
      ],
      "text/plain": [
       "<IPython.core.display.HTML object>"
      ]
     },
     "metadata": {},
     "output_type": "display_data"
    },
    {
     "data": {
      "text/html": [
       " View project at <a href='https://wandb.ai/cs22m083/CS6910_Assignment_1_' target=\"_blank\">https://wandb.ai/cs22m083/CS6910_Assignment_1_</a>"
      ],
      "text/plain": [
       "<IPython.core.display.HTML object>"
      ]
     },
     "metadata": {},
     "output_type": "display_data"
    },
    {
     "data": {
      "text/html": [
       " View sweep at <a href='https://wandb.ai/cs22m083/CS6910_Assignment_1_/sweeps/l8gb2vl6' target=\"_blank\">https://wandb.ai/cs22m083/CS6910_Assignment_1_/sweeps/l8gb2vl6</a>"
      ],
      "text/plain": [
       "<IPython.core.display.HTML object>"
      ]
     },
     "metadata": {},
     "output_type": "display_data"
    },
    {
     "data": {
      "text/html": [
       " View run at <a href='https://wandb.ai/cs22m083/CS6910_Assignment_1_/runs/lf9974ik' target=\"_blank\">https://wandb.ai/cs22m083/CS6910_Assignment_1_/runs/lf9974ik</a>"
      ],
      "text/plain": [
       "<IPython.core.display.HTML object>"
      ]
     },
     "metadata": {},
     "output_type": "display_data"
    }
   ],
   "source": [
    "wandb.agent(sweep_id, train, count = 60)"
   ]
  },
  {
   "cell_type": "markdown",
   "id": "1fbe4163",
   "metadata": {},
   "source": [
    "# Question 7"
   ]
  },
  {
   "cell_type": "code",
   "execution_count": 29,
   "id": "b1f0f928",
   "metadata": {},
   "outputs": [
    {
     "name": "stdout",
     "output_type": "stream",
     "text": [
      "Training Loss:  0.602 Val_loss: 0.467  Training Accuracy:  0.793 Val_accuracy: 0.836  <-:Epoch: 1\n",
      "Training Loss:  0.417 Val_loss: 0.418  Training Accuracy:  0.853 Val_accuracy: 0.855  <-:Epoch: 2\n",
      "Training Loss:  0.375 Val_loss: 0.394  Training Accuracy:  0.865 Val_accuracy: 0.863  <-:Epoch: 3\n",
      "Training Loss:  0.349 Val_loss: 0.378  Training Accuracy:  0.874 Val_accuracy: 0.867  <-:Epoch: 4\n",
      "Training Loss:  0.33 Val_loss: 0.368  Training Accuracy:  0.88 Val_accuracy: 0.869  <-:Epoch: 5\n",
      "Training Loss:  0.316 Val_loss: 0.362  Training Accuracy:  0.884 Val_accuracy: 0.872  <-:Epoch: 6\n",
      "Training Loss:  0.303 Val_loss: 0.357  Training Accuracy:  0.888 Val_accuracy: 0.873  <-:Epoch: 7\n",
      "Training Loss:  0.292 Val_loss: 0.354  Training Accuracy:  0.892 Val_accuracy: 0.874  <-:Epoch: 8\n",
      "Training Loss:  0.283 Val_loss: 0.35  Training Accuracy:  0.895 Val_accuracy: 0.876  <-:Epoch: 9\n",
      "Training Loss:  0.274 Val_loss: 0.345  Training Accuracy:  0.898 Val_accuracy: 0.877  <-:Epoch: 10\n",
      "Training Loss:  0.266 Val_loss: 0.346  Training Accuracy:  0.901 Val_accuracy: 0.877  <-:Epoch: 11\n",
      "Training Loss:  0.258 Val_loss: 0.344  Training Accuracy:  0.904 Val_accuracy: 0.88  <-:Epoch: 12\n",
      "Training Loss:  0.251 Val_loss: 0.344  Training Accuracy:  0.907 Val_accuracy: 0.88  <-:Epoch: 13\n",
      "Training Loss:  0.245 Val_loss: 0.343  Training Accuracy:  0.909 Val_accuracy: 0.882  <-:Epoch: 14\n",
      "Training Loss:  0.239 Val_loss: 0.345  Training Accuracy:  0.912 Val_accuracy: 0.882  <-:Epoch: 15\n"
     ]
    }
   ],
   "source": [
    "#Add layer sizes for the hidden layers\n",
    "parameters = {\"learning_rate\":0.001, \"beta1\":0.09, \"beta2\":0.999, \"epsilon\":1e-8, \"weight_decay\":0.0005}\n",
    "loss_fun = LossFunction(\"cross_entropy\") # Loss Function\n",
    "layers = [32, 64, 128]\n",
    "optimizer = Optimizer(\"adam\") # Optimizer : adam\n",
    "optimizer.set_initial_parameters(parameters)\n",
    "activation = ActivationFunction(\"relu\") #activation(hidden layers)\n",
    "output_activation = ActivationFunction(\"softmax\") #activation(output layer)\n",
    "\n",
    "model = FFNN(optimizer, layers, loss_fun, activation, output_activation, 64, 15, initialization = \"Xavier\")\n",
    "train_loss, val_loss, train_accuracy, val_accuracy = model.fit(x_train, y_OH_train, x_test, y_OH_test)"
   ]
  },
  {
   "cell_type": "code",
   "execution_count": 30,
   "id": "8ae30b4a",
   "metadata": {},
   "outputs": [
    {
     "name": "stdout",
     "output_type": "stream",
     "text": [
      "Training accuracy 0.882\n"
     ]
    }
   ],
   "source": [
    "# Accuracy for Test Data(Validation)\n",
    "y_preds = model.predict(x_test)\n",
    "accuracy_train = accuracy_score(np.argmax(y_OH_test,1), np.argmax(y_preds,1))\n",
    "print(\"Training accuracy\", round(accuracy_train, 3))\n"
   ]
  },
  {
   "cell_type": "markdown",
   "id": "a72f8e16",
   "metadata": {},
   "source": [
    "### Plotting Confusion Matrix"
   ]
  },
  {
   "cell_type": "code",
   "execution_count": 31,
   "id": "52b3686f",
   "metadata": {},
   "outputs": [
    {
     "data": {
      "text/html": [
       "wandb version 0.14.0 is available!  To upgrade, please run:\n",
       " $ pip install wandb --upgrade"
      ],
      "text/plain": [
       "<IPython.core.display.HTML object>"
      ]
     },
     "metadata": {},
     "output_type": "display_data"
    },
    {
     "data": {
      "text/html": [
       "Tracking run with wandb version 0.13.10"
      ],
      "text/plain": [
       "<IPython.core.display.HTML object>"
      ]
     },
     "metadata": {},
     "output_type": "display_data"
    },
    {
     "data": {
      "text/html": [
       "Run data is saved locally in <code>C:\\Users\\Shivam Maurya\\OneDrive\\Desktop\\IIT_MADRAS\\Deep Learning\\assignment 1\\CS6910-Deep_Learning_Assignment-1\\wandb\\run-20230319_105443-vgiuf7wn</code>"
      ],
      "text/plain": [
       "<IPython.core.display.HTML object>"
      ]
     },
     "metadata": {},
     "output_type": "display_data"
    },
    {
     "data": {
      "text/html": [
       "Syncing run <strong><a href='https://wandb.ai/cs22m083/CS6910_Assignment_1_/runs/vgiuf7wn' target=\"_blank\">Question:7</a></strong> to <a href='https://wandb.ai/cs22m083/CS6910_Assignment_1_' target=\"_blank\">Weights & Biases</a> (<a href='https://wandb.me/run' target=\"_blank\">docs</a>)<br/>"
      ],
      "text/plain": [
       "<IPython.core.display.HTML object>"
      ]
     },
     "metadata": {},
     "output_type": "display_data"
    },
    {
     "data": {
      "text/html": [
       " View project at <a href='https://wandb.ai/cs22m083/CS6910_Assignment_1_' target=\"_blank\">https://wandb.ai/cs22m083/CS6910_Assignment_1_</a>"
      ],
      "text/plain": [
       "<IPython.core.display.HTML object>"
      ]
     },
     "metadata": {},
     "output_type": "display_data"
    },
    {
     "data": {
      "text/html": [
       " View run at <a href='https://wandb.ai/cs22m083/CS6910_Assignment_1_/runs/vgiuf7wn' target=\"_blank\">https://wandb.ai/cs22m083/CS6910_Assignment_1_/runs/vgiuf7wn</a>"
      ],
      "text/plain": [
       "<IPython.core.display.HTML object>"
      ]
     },
     "metadata": {},
     "output_type": "display_data"
    },
    {
     "data": {
      "image/png": "[encoded data removed]",
      "text/plain": [
       "<Figure size 800x800 with 2 Axes>"
      ]
     },
     "metadata": {},
     "output_type": "display_data"
    }
   ],
   "source": [
    "class_label = [\"T-shirt/top\", \"Trouser\", \"Pullover\", \"Dress\", \"Coat\", \"Sandal\", \"Shirt\", \"Sneaker\", \"Bag\", \"Ankle boot\"]\n",
    "wandb.init(project=\"CS6910_Assignment_1_\", name=\"Question:7\")\n",
    "y_p = np.argmax(y_preds,1)\n",
    "y_t = np.argmax(y_OH_test,1)\n",
    "conf_matrix = metrics.confusion_matrix(y_t , y_p)\n",
    "df_conf_matrix = pd.DataFrame(conf_matrix)\n",
    "plt.figure(figsize=(8, 8))\n",
    "my_cmap = matplotlib.colors.LinearSegmentedColormap.from_list(\"\", [\"yellow\",\"orange\"])\n",
    "ax = sns.heatmap(df_conf_matrix, annot=True,  cmap= my_cmap, fmt='d',linewidths=3, linecolor='white')\n",
    "ax.set_xticklabels(class_label,rotation=90)\n",
    "ax.set_yticklabels(class_label,rotation=0)\n",
    "plt.title('Confusion Matrix', fontsize=8)\n",
    "plt.ylabel(\"Predicted Class\")\n",
    "plt.xlabel(\"True Class\")  \n",
    "wandb.log({\"Confusion_Matrix\": wandb.Image(plt)})"
   ]
  },
  {
   "cell_type": "code",
   "execution_count": 32,
   "id": "98d85d8f",
   "metadata": {},
   "outputs": [
    {
     "data": {
      "text/html": [
       "Waiting for W&B process to finish... <strong style=\"color:green\">(success).</strong>"
      ],
      "text/plain": [
       "<IPython.core.display.HTML object>"
      ]
     },
     "metadata": {},
     "output_type": "display_data"
    },
    {
     "data": {
      "application/vnd.jupyter.widget-view+json": {
       "model_id": "7d5c0254a80940258e0691e24f1c7614",
       "version_major": 2,
       "version_minor": 0
      },
      "text/plain": [
       "VBox(children=(Label(value='0.056 MB of 0.077 MB uploaded (0.000 MB deduped)\\r'), FloatProgress(value=0.727985…"
      ]
     },
     "metadata": {},
     "output_type": "display_data"
    },
    {
     "data": {
      "text/html": [
       " View run <strong style=\"color:#cdcd00\">Question:7</strong> at: <a href='https://wandb.ai/cs22m083/CS6910_Assignment_1_/runs/vgiuf7wn' target=\"_blank\">https://wandb.ai/cs22m083/CS6910_Assignment_1_/runs/vgiuf7wn</a><br/>Synced 5 W&B file(s), 1 media file(s), 0 artifact file(s) and 0 other file(s)"
      ],
      "text/plain": [
       "<IPython.core.display.HTML object>"
      ]
     },
     "metadata": {},
     "output_type": "display_data"
    },
    {
     "data": {
      "text/html": [
       "Find logs at: <code>.\\wandb\\run-20230319_105443-vgiuf7wn\\logs</code>"
      ],
      "text/plain": [
       "<IPython.core.display.HTML object>"
      ]
     },
     "metadata": {},
     "output_type": "display_data"
    }
   ],
   "source": [
    "wandb.finish()"
   ]
  },
  {
   "cell_type": "markdown",
   "id": "20554154",
   "metadata": {},
   "source": [
    "# Question 8"
   ]
  },
  {
   "cell_type": "code",
   "execution_count": 54,
   "id": "0c65928c",
   "metadata": {},
   "outputs": [
    {
     "name": "stdout",
     "output_type": "stream",
     "text": [
      "SQUARED_ERROR\n",
      "Training Loss:  0.142 Val_loss: 0.117  Training Accuracy:  0.8 Val_accuracy: 0.836  <-:Epoch: 1\n",
      "Training Loss:  0.107 Val_loss: 0.109  Training Accuracy:  0.851 Val_accuracy: 0.847  <-:Epoch: 2\n",
      "Training Loss:  0.099 Val_loss: 0.107  Training Accuracy:  0.863 Val_accuracy: 0.851  <-:Epoch: 3\n",
      "Training Loss:  0.094 Val_loss: 0.105  Training Accuracy:  0.87 Val_accuracy: 0.853  <-:Epoch: 4\n",
      "Training Loss:  0.092 Val_loss: 0.104  Training Accuracy:  0.874 Val_accuracy: 0.853  <-:Epoch: 5\n",
      "Training Loss:  0.089 Val_loss: 0.103  Training Accuracy:  0.878 Val_accuracy: 0.855  <-:Epoch: 6\n",
      "Training Loss:  0.087 Val_loss: 0.103  Training Accuracy:  0.88 Val_accuracy: 0.855  <-:Epoch: 7\n",
      "Training Loss:  0.086 Val_loss: 0.102  Training Accuracy:  0.883 Val_accuracy: 0.856  <-:Epoch: 8\n",
      "Training Loss:  0.085 Val_loss: 0.102  Training Accuracy:  0.885 Val_accuracy: 0.857  <-:Epoch: 9\n",
      "Training Loss:  0.084 Val_loss: 0.102  Training Accuracy:  0.887 Val_accuracy: 0.857  <-:Epoch: 10\n",
      "***********************************************************************************************************\n",
      "CROSS_ENTROPY\n",
      "Training Loss:  0.134 Val_loss: 0.116  Training Accuracy:  0.807 Val_accuracy: 0.836  <-:Epoch: 1\n",
      "Training Loss:  0.102 Val_loss: 0.111  Training Accuracy:  0.857 Val_accuracy: 0.843  <-:Epoch: 2\n",
      "Training Loss:  0.096 Val_loss: 0.107  Training Accuracy:  0.867 Val_accuracy: 0.849  <-:Epoch: 3\n",
      "Training Loss:  0.092 Val_loss: 0.105  Training Accuracy:  0.873 Val_accuracy: 0.849  <-:Epoch: 4\n",
      "Training Loss:  0.089 Val_loss: 0.103  Training Accuracy:  0.877 Val_accuracy: 0.853  <-:Epoch: 5\n",
      "Training Loss:  0.087 Val_loss: 0.102  Training Accuracy:  0.88 Val_accuracy: 0.855  <-:Epoch: 6\n",
      "Training Loss:  0.086 Val_loss: 0.101  Training Accuracy:  0.883 Val_accuracy: 0.856  <-:Epoch: 7\n",
      "Training Loss:  0.084 Val_loss: 0.1  Training Accuracy:  0.885 Val_accuracy: 0.858  <-:Epoch: 8\n",
      "Training Loss:  0.083 Val_loss: 0.1  Training Accuracy:  0.886 Val_accuracy: 0.858  <-:Epoch: 9\n",
      "Training Loss:  0.082 Val_loss: 0.099  Training Accuracy:  0.888 Val_accuracy: 0.859  <-:Epoch: 10\n"
     ]
    }
   ],
   "source": [
    "''' Parameters Selection for Different Optimization Algorithm '''\n",
    "# parameters_nadam = {\"learning_rate\":0.0006, \"beta1\":0.09, \"beta2\":0.999, \"epsilon\":1e-8, \"weight_decay\":0.001} #nadam\n",
    "# parameters_sgd = {\"learning_rate\":0.001, \"weight_decay\":0.5} #sgd\n",
    "# parameters_momentum = {\"learning_rate\":0.0001, \"gamma\":0.6, \"weight_decay\":0} #momentum\n",
    "# parameters_nag = {\"learning_rate\":0.001, \"gamma\":0.009} #nag\n",
    "# parameters_rmsprop = {\"learning_rate\":0.01, \"gamma\":0.009, \"epsilon\":1e-8, \"weight_decay\":0.5} #rmsprop\n",
    "parameters_adam = {\"learning_rate\":0.0006, \"beta1\":0.09, \"beta2\":0.999, \"epsilon\":1e-8, \"weight_decay\":0.001} #adam\n",
    "\n",
    "'''For Selecting different Optimization Function'''\n",
    "# \"sgd\" : gradient_descent, \"momentum\" : momentum_gd, \"nag\": nag , \"rmsprop\":  RMSProp, \"adam\": Adam \"nadam\": Nadam\n",
    "\n",
    "optimizer = Optimizer(\"adam\")\n",
    "optimizer.set_initial_parameters(parameters_adam)\n",
    "\n",
    "\n",
    "#  \"cross_entropy\" : Cross Entropy Loss Function,  \"squared_loss\" : Squared Error Loss Function\n",
    "\n",
    "loss_fun_se = LossFunction(\"squared_loss\")\n",
    "train_se_losses = []\n",
    "val_se_losses = []\n",
    "train_se_accuracy = []\n",
    "val_se_accuracy = []\n",
    "\n",
    "\n",
    "\n",
    "loss_fun_cross = LossFunction(\"cross_entropy\")\n",
    "train_ce_losses = []\n",
    "val_ce_losses = []\n",
    "train_ce_accuracy = []\n",
    "val_ce_accuracy = []\n",
    "\n",
    "#Select activation-function(hidden layers) pass below respective string to select any Activation Fuction Eg:\"tanh\" in ActivationFunction\n",
    "# \"sigmoid\": SigmoidFunction, \"softmax\": SoftmaxFunction, \"tanh\": TanhFunction, \"relu\":ReLUFunction\n",
    "act_fun_hidden = ActivationFunction(\"tanh\")\n",
    "\n",
    "#Select activation - function for output layer\n",
    "act_fun_output = ActivationFunction(\"softmax\")\n",
    "\n",
    "#Add layer sizes for the hidden layers\n",
    "layers = [32, 64, 128]\n",
    "\n",
    "print(\"SQUARED_ERROR\")\n",
    "model = FFNN(optimizer, layers, loss_fun_se, act_fun_hidden, act_fun_output, 64, 10, \"Xavier\", 0, train_se_losses, train_se_accuracy, val_se_losses, val_se_accuracy)\n",
    "se_train_loss, se_val_loss, se_train_accuracy, se_val_accuracy = model.fit(x_train, y_OH_train, x_test, y_OH_test)\n",
    "\n",
    "print(\"***********************************************************************************************************\")\n",
    "\n",
    "print(\"CROSS_ENTROPY\")\n",
    "model = FFNN(optimizer, layers, loss_fun_se, act_fun_hidden, act_fun_output, 64, 10, \"Xavier\", 0, train_ce_losses, train_ce_accuracy, val_ce_losses, val_ce_accuracy)\n",
    "ce_train_loss, ce_val_loss, ce_train_accuracy, ce_val_accuracy = model.fit(x_train, y_OH_train, x_test, y_OH_test)\n",
    "ln = len(val_ce_accuracy)+1"
   ]
  },
  {
   "cell_type": "code",
   "execution_count": 59,
   "id": "84b16b51",
   "metadata": {},
   "outputs": [
    {
     "data": {
      "text/html": [
       "Finishing last run (ID:39fymvzu) before initializing another..."
      ],
      "text/plain": [
       "<IPython.core.display.HTML object>"
      ]
     },
     "metadata": {},
     "output_type": "display_data"
    },
    {
     "data": {
      "text/html": [
       "Waiting for W&B process to finish... <strong style=\"color:green\">(success).</strong>"
      ],
      "text/plain": [
       "<IPython.core.display.HTML object>"
      ]
     },
     "metadata": {},
     "output_type": "display_data"
    },
    {
     "data": {
      "application/vnd.jupyter.widget-view+json": {
       "model_id": "3f58a940aec8449e82ebc065e5482fc0",
       "version_major": 2,
       "version_minor": 0
      },
      "text/plain": [
       "VBox(children=(Label(value='0.003 MB of 0.003 MB uploaded (0.000 MB deduped)\\r'), FloatProgress(value=1.0, max…"
      ]
     },
     "metadata": {},
     "output_type": "display_data"
    },
    {
     "data": {
      "text/html": [
       " View run <strong style=\"color:#cdcd00\">Question:8</strong> at: <a href='https://wandb.ai/cs22m083/CS6910_Assignment_1_/runs/39fymvzu' target=\"_blank\">https://wandb.ai/cs22m083/CS6910_Assignment_1_/runs/39fymvzu</a><br/>Synced 6 W&B file(s), 1 media file(s), 0 artifact file(s) and 0 other file(s)"
      ],
      "text/plain": [
       "<IPython.core.display.HTML object>"
      ]
     },
     "metadata": {},
     "output_type": "display_data"
    },
    {
     "data": {
      "text/html": [
       "Find logs at: <code>.\\wandb\\run-20230319_130110-39fymvzu\\logs</code>"
      ],
      "text/plain": [
       "<IPython.core.display.HTML object>"
      ]
     },
     "metadata": {},
     "output_type": "display_data"
    },
    {
     "data": {
      "text/html": [
       "Successfully finished last run (ID:39fymvzu). Initializing new run:<br/>"
      ],
      "text/plain": [
       "<IPython.core.display.HTML object>"
      ]
     },
     "metadata": {},
     "output_type": "display_data"
    },
    {
     "data": {
      "application/vnd.jupyter.widget-view+json": {
       "model_id": "7603780fc7fb4f7fbba7a740f1ae860b",
       "version_major": 2,
       "version_minor": 0
      },
      "text/plain": [
       "VBox(children=(Label(value='Waiting for wandb.init()...\\r'), FloatProgress(value=0.016916666666899498, max=1.0…"
      ]
     },
     "metadata": {},
     "output_type": "display_data"
    },
    {
     "data": {
      "text/html": [
       "wandb version 0.14.0 is available!  To upgrade, please run:\n",
       " $ pip install wandb --upgrade"
      ],
      "text/plain": [
       "<IPython.core.display.HTML object>"
      ]
     },
     "metadata": {},
     "output_type": "display_data"
    },
    {
     "data": {
      "text/html": [
       "Tracking run with wandb version 0.13.10"
      ],
      "text/plain": [
       "<IPython.core.display.HTML object>"
      ]
     },
     "metadata": {},
     "output_type": "display_data"
    },
    {
     "data": {
      "text/html": [
       "Run data is saved locally in <code>C:\\Users\\Shivam Maurya\\OneDrive\\Desktop\\IIT_MADRAS\\Deep Learning\\assignment 1\\CS6910-Deep_Learning_Assignment-1\\wandb\\run-20230319_130327-8qzpuv51</code>"
      ],
      "text/plain": [
       "<IPython.core.display.HTML object>"
      ]
     },
     "metadata": {},
     "output_type": "display_data"
    },
    {
     "data": {
      "text/html": [
       "Syncing run <strong><a href='https://wandb.ai/cs22m083/CS6910_Assignment_1_/runs/8qzpuv51' target=\"_blank\">Question:8</a></strong> to <a href='https://wandb.ai/cs22m083/CS6910_Assignment_1_' target=\"_blank\">Weights & Biases</a> (<a href='https://wandb.me/run' target=\"_blank\">docs</a>)<br/>"
      ],
      "text/plain": [
       "<IPython.core.display.HTML object>"
      ]
     },
     "metadata": {},
     "output_type": "display_data"
    },
    {
     "data": {
      "text/html": [
       " View project at <a href='https://wandb.ai/cs22m083/CS6910_Assignment_1_' target=\"_blank\">https://wandb.ai/cs22m083/CS6910_Assignment_1_</a>"
      ],
      "text/plain": [
       "<IPython.core.display.HTML object>"
      ]
     },
     "metadata": {},
     "output_type": "display_data"
    },
    {
     "data": {
      "text/html": [
       " View run at <a href='https://wandb.ai/cs22m083/CS6910_Assignment_1_/runs/8qzpuv51' target=\"_blank\">https://wandb.ai/cs22m083/CS6910_Assignment_1_/runs/8qzpuv51</a>"
      ],
      "text/plain": [
       "<IPython.core.display.HTML object>"
      ]
     },
     "metadata": {},
     "output_type": "display_data"
    },
    {
     "data": {
      "image/png": "[encoded data removed]",
      "text/plain": [
       "<Figure size 800x800 with 1 Axes>"
      ]
     },
     "metadata": {},
     "output_type": "display_data"
    },
    {
     "data": {
      "text/plain": [
       "<Figure size 640x480 with 0 Axes>"
      ]
     },
     "metadata": {},
     "output_type": "display_data"
    }
   ],
   "source": [
    "wandb.init(project=\"CS6910_Assignment_1_\", name= \"Question:8\")\n",
    "plt.figure(figsize=(8, 8))\n",
    "sizelst = list(range(1, ln))\n",
    "plt.plot(sizelst, val_se_losses, 'y', label ='Squared_Loss') \n",
    "plt.plot(sizelst, val_ce_losses, 'g', label ='Cross_Entropy')\n",
    "plt.title('Validation Loss Comparison: Squared Loss v/s Crossentropy Loss', fontsize=20)\n",
    "plt.ylabel(\"Validation Loss\")\n",
    "plt.xlabel(\"Epochs\") \n",
    "plt.legend()\n",
    "plt.show()\n",
    "wandb.log({\"Validation Loss per epoch for Squared v/s CrossEntropy Loss \": wandb.Image(plt)})"
   ]
  },
  {
   "cell_type": "markdown",
   "id": "89a15603",
   "metadata": {},
   "source": [
    "# Question 10"
   ]
  },
  {
   "cell_type": "code",
   "execution_count": 60,
   "id": "1e26934f",
   "metadata": {},
   "outputs": [],
   "source": [
    "(x_mnist_train, y_mnist_train), (x_mnist_test, y_mnist_test) = mnist.load_data()\n",
    "enc = OneHotEncoder()\n",
    "#Normalize the data\n",
    "x_mnist_train = x_mnist_train/255.0\n",
    "x_mnist_test = x_mnist_test/255.0\n",
    "\n",
    "y_OH_test_mnist = enc.fit_transform(np.expand_dims(y_mnist_test, 1)).toarray()\n",
    "\n",
    "#Splitting to get 0.1 parts of data as validation set\n",
    "x_mnist_train, x_mnist_val, y_mnist_train, y_mnist_val = train_test_split(x_mnist_train, y_mnist_train, test_size=0.1, random_state=137)\n",
    "y_OH_train_mnist = enc.fit_transform(np.expand_dims(y_mnist_train, 1)).toarray()\n",
    "y_OH_val_mnist = enc.fit_transform(np.expand_dims(y_mnist_val, 1)).toarray()"
   ]
  },
  {
   "cell_type": "code",
   "execution_count": 61,
   "id": "2f4b21fe",
   "metadata": {},
   "outputs": [],
   "source": [
    "# Parameters Selection for Different Optimization Algorithm\n",
    "parameters_sgd = {\"learning_rate\":0.001, \"weight_decay\":0.5} #sgd\n",
    "parameters_momentum = {\"learning_rate\":0.0001, \"gamma\":0.6, \"weight_decay\":0} #momentum\n",
    "parameters_nag = {\"learning_rate\":0.001, \"gamma\":0.009} #nag\n",
    "parameters_rmsprop = {\"learning_rate\":0.01, \"gamma\":0.009, \"epsilon\":1e-8, \"weight_decay\":0.5} #rmsprop\n",
    "parameters_adam = {\"learning_rate\":0.0006, \"beta1\":0.09, \"beta2\":0.999, \"epsilon\":1e-8, \"weight_decay\":0.001} #adam\n",
    "parameters_nadam = {\"learning_rate\":0.0006, \"beta1\":0.09, \"beta2\":0.999, \"epsilon\":1e-8, \"weight_decay\":0.0001} #nadam\n",
    "\n",
    "\n",
    "# \"sgd\" : gradient_descent, \"momentum\" : momentum_gd, \"nag\": nag , \"rmsprop\":  RMSProp, \"adam\": Adam \"nadam\": Nadam\n",
    "\n",
    "optimizer = Optimizer(\"adam\")\n",
    "optimizer.set_initial_parameters(parameters_adam)\n",
    "\n",
    "\n",
    "#  \"cross_entropy\" : Cross Entropy Loss Function,  \"squared_loss\" : Squared Error Loss Function\n",
    "loss_fun = LossFunction(\"cross_entropy\")\n",
    "\n",
    "#Select activation-function(hidden layers) pass below respective string to select any Activation Fuction Eg:\"tanh\" in ActivationFunction\n",
    "# \"sigmoid\": SigmoidFunction, \"softmax\": SoftmaxFunction, \"tanh\": TanhFunction, \"relu\":ReLUFunction\n",
    "act_fun_hidden = ActivationFunction(\"relu\")\n",
    "\n",
    "#Select activation - function for output layer\n",
    "act_fun_output = ActivationFunction(\"softmax\")\n",
    "\n",
    "#Add layer sizes for the hidden layers\n",
    "layers = [32, 64, 128]\n"
   ]
  },
  {
   "cell_type": "code",
   "execution_count": 62,
   "id": "afcc44f6",
   "metadata": {
    "scrolled": true
   },
   "outputs": [
    {
     "name": "stdout",
     "output_type": "stream",
     "text": [
      "Training Loss:  0.417 Val_loss: 0.217  Training Accuracy:  0.877 Val_accuracy: 0.939  <-:Epoch: 1\n",
      "Training Loss:  0.194 Val_loss: 0.163  Training Accuracy:  0.943 Val_accuracy: 0.952  <-:Epoch: 2\n",
      "Training Loss:  0.15 Val_loss: 0.141  Training Accuracy:  0.954 Val_accuracy: 0.96  <-:Epoch: 3\n",
      "Training Loss:  0.124 Val_loss: 0.129  Training Accuracy:  0.962 Val_accuracy: 0.965  <-:Epoch: 4\n",
      "Training Loss:  0.106 Val_loss: 0.124  Training Accuracy:  0.968 Val_accuracy: 0.966  <-:Epoch: 5\n",
      "Training Loss:  0.093 Val_loss: 0.118  Training Accuracy:  0.972 Val_accuracy: 0.967  <-:Epoch: 6\n",
      "Training Loss:  0.082 Val_loss: 0.115  Training Accuracy:  0.976 Val_accuracy: 0.967  <-:Epoch: 7\n",
      "Training Loss:  0.073 Val_loss: 0.115  Training Accuracy:  0.978 Val_accuracy: 0.969  <-:Epoch: 8\n",
      "Training Loss:  0.065 Val_loss: 0.121  Training Accuracy:  0.98 Val_accuracy: 0.968  <-:Epoch: 9\n",
      "Training Loss:  0.058 Val_loss: 0.125  Training Accuracy:  0.983 Val_accuracy: 0.966  <-:Epoch: 10\n",
      "Training Loss:  0.052 Val_loss: 0.129  Training Accuracy:  0.985 Val_accuracy: 0.966  <-:Epoch: 11\n",
      "Training Loss:  0.046 Val_loss: 0.128  Training Accuracy:  0.986 Val_accuracy: 0.967  <-:Epoch: 12\n",
      "Training Loss:  0.041 Val_loss: 0.134  Training Accuracy:  0.988 Val_accuracy: 0.966  <-:Epoch: 13\n",
      "Training Loss:  0.036 Val_loss: 0.144  Training Accuracy:  0.99 Val_accuracy: 0.964  <-:Epoch: 14\n",
      "Training Loss:  0.033 Val_loss: 0.152  Training Accuracy:  0.99 Val_accuracy: 0.964  <-:Epoch: 15\n"
     ]
    },
    {
     "data": {
      "text/plain": [
       "(0.03324548838712766,\n",
       " 0.15184625551375555,\n",
       " 0.9903888888888889,\n",
       " 0.9636666666666667)"
      ]
     },
     "execution_count": 62,
     "metadata": {},
     "output_type": "execute_result"
    }
   ],
   "source": [
    "model_1 = FFNN(optimizer, layers,  loss_fun , act_fun_hidden, act_fun_output, 64, 15, initialization = \"Xavier\")\n",
    "model_1.fit(x_mnist_train, y_OH_train_mnist, x_mnist_val, y_OH_val_mnist)"
   ]
  },
  {
   "cell_type": "code",
   "execution_count": 63,
   "id": "f22fdea7",
   "metadata": {},
   "outputs": [
    {
     "name": "stdout",
     "output_type": "stream",
     "text": [
      "Training Loss:  0.4 Val_loss: 0.213  Training Accuracy:  0.892 Val_accuracy: 0.942  <-:Epoch: 1\n",
      "Training Loss:  0.189 Val_loss: 0.158  Training Accuracy:  0.945 Val_accuracy: 0.957  <-:Epoch: 2\n",
      "Training Loss:  0.144 Val_loss: 0.137  Training Accuracy:  0.957 Val_accuracy: 0.962  <-:Epoch: 3\n",
      "Training Loss:  0.119 Val_loss: 0.125  Training Accuracy:  0.965 Val_accuracy: 0.965  <-:Epoch: 4\n",
      "Training Loss:  0.102 Val_loss: 0.118  Training Accuracy:  0.97 Val_accuracy: 0.966  <-:Epoch: 5\n",
      "Training Loss:  0.089 Val_loss: 0.114  Training Accuracy:  0.975 Val_accuracy: 0.966  <-:Epoch: 6\n",
      "Training Loss:  0.079 Val_loss: 0.113  Training Accuracy:  0.978 Val_accuracy: 0.967  <-:Epoch: 7\n",
      "Training Loss:  0.07 Val_loss: 0.113  Training Accuracy:  0.98 Val_accuracy: 0.967  <-:Epoch: 8\n",
      "Training Loss:  0.063 Val_loss: 0.114  Training Accuracy:  0.982 Val_accuracy: 0.967  <-:Epoch: 9\n",
      "Training Loss:  0.057 Val_loss: 0.116  Training Accuracy:  0.985 Val_accuracy: 0.967  <-:Epoch: 10\n",
      "Training Loss:  0.052 Val_loss: 0.118  Training Accuracy:  0.986 Val_accuracy: 0.967  <-:Epoch: 11\n",
      "Training Loss:  0.047 Val_loss: 0.121  Training Accuracy:  0.988 Val_accuracy: 0.967  <-:Epoch: 12\n",
      "Training Loss:  0.043 Val_loss: 0.125  Training Accuracy:  0.989 Val_accuracy: 0.966  <-:Epoch: 13\n",
      "Training Loss:  0.039 Val_loss: 0.129  Training Accuracy:  0.99 Val_accuracy: 0.964  <-:Epoch: 14\n",
      "Training Loss:  0.035 Val_loss: 0.134  Training Accuracy:  0.992 Val_accuracy: 0.964  <-:Epoch: 15\n"
     ]
    },
    {
     "data": {
      "text/plain": [
       "(0.03491168306324991, 0.13399040653020977, 0.9915185185185185, 0.9645)"
      ]
     },
     "execution_count": 63,
     "metadata": {},
     "output_type": "execute_result"
    }
   ],
   "source": [
    "optimizer = Optimizer(\"nadam\")\n",
    "optimizer.set_initial_parameters(parameters_nadam)\n",
    "\n",
    "\n",
    "#  \"cross_entropy\" : Cross Entropy Loss Function,  \"squared_loss\" : Squared Error Loss Function\n",
    "loss_fun = LossFunction(\"cross_entropy\")\n",
    "\n",
    "#Select activation-function(hidden layers) pass below respective string to select any Activation Fuction Eg:\"tanh\" in ActivationFunction\n",
    "# \"sigmoid\": SigmoidFunction, \"softmax\": SoftmaxFunction, \"tanh\": TanhFunction, \"relu\":ReLUFunction\n",
    "act_fun_hidden = ActivationFunction(\"tanh\")\n",
    "\n",
    "#Select activation - function for output layer\n",
    "act_fun_output = ActivationFunction(\"softmax\")\n",
    "model_2 = FFNN(optimizer, layers,  loss_fun , act_fun_hidden, act_fun_output, 32, 15, initialization = \"Xavier\")\n",
    "model_2.fit(x_mnist_train, y_OH_train_mnist, x_mnist_val, y_OH_val_mnist)"
   ]
  },
  {
   "cell_type": "code",
   "execution_count": 64,
   "id": "4eaf0054",
   "metadata": {},
   "outputs": [
    {
     "name": "stdout",
     "output_type": "stream",
     "text": [
      "Training Loss:  0.476 Val_loss: 0.231  Training Accuracy:  0.869 Val_accuracy: 0.932  <-:Epoch: 1\n",
      "Training Loss:  0.218 Val_loss: 0.181  Training Accuracy:  0.938 Val_accuracy: 0.945  <-:Epoch: 2\n",
      "Training Loss:  0.175 Val_loss: 0.156  Training Accuracy:  0.949 Val_accuracy: 0.954  <-:Epoch: 3\n",
      "Training Loss:  0.148 Val_loss: 0.141  Training Accuracy:  0.956 Val_accuracy: 0.961  <-:Epoch: 4\n",
      "Training Loss:  0.128 Val_loss: 0.132  Training Accuracy:  0.962 Val_accuracy: 0.963  <-:Epoch: 5\n",
      "Training Loss:  0.113 Val_loss: 0.124  Training Accuracy:  0.966 Val_accuracy: 0.965  <-:Epoch: 6\n",
      "Training Loss:  0.101 Val_loss: 0.118  Training Accuracy:  0.97 Val_accuracy: 0.967  <-:Epoch: 7\n",
      "Training Loss:  0.092 Val_loss: 0.114  Training Accuracy:  0.973 Val_accuracy: 0.968  <-:Epoch: 8\n",
      "Training Loss:  0.083 Val_loss: 0.112  Training Accuracy:  0.975 Val_accuracy: 0.968  <-:Epoch: 9\n",
      "Training Loss:  0.077 Val_loss: 0.111  Training Accuracy:  0.977 Val_accuracy: 0.969  <-:Epoch: 10\n",
      "Training Loss:  0.07 Val_loss: 0.11  Training Accuracy:  0.979 Val_accuracy: 0.969  <-:Epoch: 11\n",
      "Training Loss:  0.065 Val_loss: 0.11  Training Accuracy:  0.981 Val_accuracy: 0.97  <-:Epoch: 12\n",
      "Training Loss:  0.06 Val_loss: 0.11  Training Accuracy:  0.982 Val_accuracy: 0.97  <-:Epoch: 13\n",
      "Training Loss:  0.056 Val_loss: 0.109  Training Accuracy:  0.984 Val_accuracy: 0.97  <-:Epoch: 14\n",
      "Training Loss:  0.052 Val_loss: 0.111  Training Accuracy:  0.985 Val_accuracy: 0.97  <-:Epoch: 15\n"
     ]
    },
    {
     "data": {
      "text/plain": [
       "(0.05174097234271828,\n",
       " 0.11063162594012524,\n",
       " 0.9850740740740741,\n",
       " 0.9696666666666667)"
      ]
     },
     "execution_count": 64,
     "metadata": {},
     "output_type": "execute_result"
    }
   ],
   "source": [
    "optimizer = Optimizer(\"nadam\")\n",
    "optimizer.set_initial_parameters(parameters_nadam)\n",
    "\n",
    "\n",
    "#  \"cross_entropy\" : Cross Entropy Loss Function,  \"squared_loss\" : Squared Error Loss Function\n",
    "loss_fun = LossFunction(\"cross_entropy\")\n",
    "\n",
    "#Select activation-function(hidden layers) pass below respective string to select any Activation Fuction Eg:\"tanh\" in ActivationFunction\n",
    "# \"sigmoid\": SigmoidFunction, \"softmax\": SoftmaxFunction, \"tanh\": TanhFunction, \"relu\":ReLUFunction\n",
    "act_fun_hidden = ActivationFunction(\"relu\")\n",
    "\n",
    "#Select activation - function for output layer\n",
    "act_fun_output = ActivationFunction(\"softmax\")\n",
    "model_3 = FFNN(optimizer, layers,  loss_fun , act_fun_hidden, act_fun_output, 64, 15, initialization = \"Xavier\")\n",
    "model_3.fit(x_mnist_train, y_OH_train_mnist, x_mnist_val, y_OH_val_mnist)"
   ]
  },
  {
   "cell_type": "code",
   "execution_count": 65,
   "id": "f66096f7",
   "metadata": {},
   "outputs": [
    {
     "name": "stdout",
     "output_type": "stream",
     "text": [
      "Model-1 Test Accuracy:- 0.9655\n",
      "Model-2 Test Accuracy:- 0.9659\n",
      "Model-3 Test Accuracy:- 0.9673\n"
     ]
    }
   ],
   "source": [
    "y_pred1 = model_1.predict(x_mnist_test)\n",
    "y_pred2 = model_2.predict(x_mnist_test)\n",
    "y_pred3 = model_3.predict(x_mnist_test)\n",
    "\n",
    "\n",
    "print(\"Model-1 Test Accuracy:-\", accuracy_score(np.argmax(y_OH_test_mnist,1), np.argmax(y_pred1,1)))\n",
    "print(\"Model-2 Test Accuracy:-\", accuracy_score(np.argmax(y_OH_test_mnist,1), np.argmax(y_pred2,1)))\n",
    "print(\"Model-3 Test Accuracy:-\", accuracy_score(np.argmax(y_OH_test_mnist,1), np.argmax(y_pred3,1)))"
   ]
  },
  {
   "cell_type": "code",
   "execution_count": null,
   "id": "64cafe72",
   "metadata": {},
   "outputs": [],
   "source": []
  }
 ],
 "metadata": {
  "kernelspec": {
   "display_name": "Python 3 (ipykernel)",
   "language": "python",
   "name": "python3"
  },
  "language_info": {
   "codemirror_mode": {
    "name": "ipython",
    "version": 3
   },
   "file_extension": ".py",
   "mimetype": "text/x-python",
   "name": "python",
   "nbconvert_exporter": "python",
   "pygments_lexer": "ipython3",
   "version": "3.9.13"
  }
 },
 "nbformat": 4,
 "nbformat_minor": 5
}
