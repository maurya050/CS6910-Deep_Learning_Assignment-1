{
 "cells": [
  {
   "cell_type": "code",
   "execution_count": 265,
   "id": "b66a8681",
   "metadata": {
    "scrolled": true
   },
   "outputs": [
    {
     "name": "stdout",
     "output_type": "stream",
     "text": [
      "Requirement already satisfied: wandb in c:\\anaconda\\lib\\site-packages (0.13.10)Note: you may need to restart the kernel to use updated packages.\n",
      "\n",
      "Requirement already satisfied: Click!=8.0.0,>=7.0 in c:\\anaconda\\lib\\site-packages (from wandb) (8.0.4)\n",
      "Requirement already satisfied: requests<3,>=2.0.0 in c:\\anaconda\\lib\\site-packages (from wandb) (2.28.1)\n",
      "Requirement already satisfied: protobuf!=4.21.0,<5,>=3.19.0 in c:\\anaconda\\lib\\site-packages (from wandb) (3.19.6)\n",
      "Requirement already satisfied: GitPython>=1.0.0 in c:\\anaconda\\lib\\site-packages (from wandb) (3.1.31)\n",
      "Requirement already satisfied: PyYAML in c:\\anaconda\\lib\\site-packages (from wandb) (6.0)\n",
      "Requirement already satisfied: pathtools in c:\\anaconda\\lib\\site-packages (from wandb) (0.1.2)\n",
      "Requirement already satisfied: typing-extensions in c:\\anaconda\\lib\\site-packages (from wandb) (4.3.0)\n",
      "Requirement already satisfied: sentry-sdk>=1.0.0 in c:\\anaconda\\lib\\site-packages (from wandb) (1.15.0)\n",
      "Requirement already satisfied: psutil>=5.0.0 in c:\\anaconda\\lib\\site-packages (from wandb) (5.9.0)\n",
      "Requirement already satisfied: setproctitle in c:\\anaconda\\lib\\site-packages (from wandb) (1.3.2)\n",
      "Requirement already satisfied: docker-pycreds>=0.4.0 in c:\\anaconda\\lib\\site-packages (from wandb) (0.4.0)\n",
      "Requirement already satisfied: setuptools in c:\\anaconda\\lib\\site-packages (from wandb) (63.4.1)\n",
      "Requirement already satisfied: appdirs>=1.4.3 in c:\\anaconda\\lib\\site-packages (from wandb) (1.4.4)\n",
      "Requirement already satisfied: colorama in c:\\anaconda\\lib\\site-packages (from Click!=8.0.0,>=7.0->wandb) (0.4.5)\n",
      "Requirement already satisfied: six>=1.4.0 in c:\\anaconda\\lib\\site-packages (from docker-pycreds>=0.4.0->wandb) (1.16.0)\n",
      "Requirement already satisfied: gitdb<5,>=4.0.1 in c:\\anaconda\\lib\\site-packages (from GitPython>=1.0.0->wandb) (4.0.10)\n",
      "Requirement already satisfied: urllib3<1.27,>=1.21.1 in c:\\anaconda\\lib\\site-packages (from requests<3,>=2.0.0->wandb) (1.26.11)\n",
      "Requirement already satisfied: idna<4,>=2.5 in c:\\anaconda\\lib\\site-packages (from requests<3,>=2.0.0->wandb) (3.3)\n",
      "Requirement already satisfied: charset-normalizer<3,>=2 in c:\\anaconda\\lib\\site-packages (from requests<3,>=2.0.0->wandb) (2.0.4)\n",
      "Requirement already satisfied: certifi>=2017.4.17 in c:\\anaconda\\lib\\site-packages (from requests<3,>=2.0.0->wandb) (2022.9.14)\n",
      "Requirement already satisfied: smmap<6,>=3.0.1 in c:\\anaconda\\lib\\site-packages (from gitdb<5,>=4.0.1->GitPython>=1.0.0->wandb) (5.0.0)\n"
     ]
    }
   ],
   "source": [
    "pip install wandb"
   ]
  },
  {
   "cell_type": "code",
   "execution_count": 266,
   "id": "fc286b45",
   "metadata": {},
   "outputs": [],
   "source": [
    "import wandb"
   ]
  },
  {
   "cell_type": "code",
   "execution_count": 267,
   "id": "2fe66c6d",
   "metadata": {},
   "outputs": [
    {
     "name": "stderr",
     "output_type": "stream",
     "text": [
      "wandb: Appending key for api.wandb.ai to your netrc file: C:\\Users\\Shivam Maurya/.netrc\n"
     ]
    }
   ],
   "source": [
    "!wandb login b032cc059132c9aac4f1b317f6f9ad007ef9e4d4"
   ]
  },
  {
   "cell_type": "code",
   "execution_count": 268,
   "id": "9d0611fd",
   "metadata": {},
   "outputs": [
    {
     "data": {
      "text/html": [
       "Tracking run with wandb version 0.13.10"
      ],
      "text/plain": [
       "<IPython.core.display.HTML object>"
      ]
     },
     "metadata": {},
     "output_type": "display_data"
    },
    {
     "data": {
      "text/html": [
       "Run data is saved locally in <code>C:\\Users\\Shivam Maurya\\OneDrive\\Desktop\\IIT MADRAS\\Deep Learning\\assignment 1\\CS6910-Deep_Learning_Assignment-1\\wandb\\run-20230227_213057-04u3a11j</code>"
      ],
      "text/plain": [
       "<IPython.core.display.HTML object>"
      ]
     },
     "metadata": {},
     "output_type": "display_data"
    },
    {
     "data": {
      "text/html": [
       "Syncing run <strong><a href='https://wandb.ai/cs22m083/Assignment_1/runs/04u3a11j' target=\"_blank\">Question_1</a></strong> to <a href='https://wandb.ai/cs22m083/Assignment_1' target=\"_blank\">Weights & Biases</a> (<a href='https://wandb.me/run' target=\"_blank\">docs</a>)<br/>"
      ],
      "text/plain": [
       "<IPython.core.display.HTML object>"
      ]
     },
     "metadata": {},
     "output_type": "display_data"
    },
    {
     "data": {
      "text/html": [
       " View project at <a href='https://wandb.ai/cs22m083/Assignment_1' target=\"_blank\">https://wandb.ai/cs22m083/Assignment_1</a>"
      ],
      "text/plain": [
       "<IPython.core.display.HTML object>"
      ]
     },
     "metadata": {},
     "output_type": "display_data"
    },
    {
     "data": {
      "text/html": [
       " View run at <a href='https://wandb.ai/cs22m083/Assignment_1/runs/04u3a11j' target=\"_blank\">https://wandb.ai/cs22m083/Assignment_1/runs/04u3a11j</a>"
      ],
      "text/plain": [
       "<IPython.core.display.HTML object>"
      ]
     },
     "metadata": {},
     "output_type": "display_data"
    },
    {
     "data": {
      "text/html": [
       "<button onClick=\"this.nextSibling.style.display='block';this.style.display='none';\">Display W&B run</button><iframe src='https://wandb.ai/cs22m083/Assignment_1/runs/04u3a11j?jupyter=true' style='border:none;width:100%;height:420px;display:none;'></iframe>"
      ],
      "text/plain": [
       "<wandb.sdk.wandb_run.Run at 0x2daa23bb340>"
      ]
     },
     "execution_count": 268,
     "metadata": {},
     "output_type": "execute_result"
    }
   ],
   "source": [
    "wandb.init(project=\"Assignment_1\", name=\"Question_1\")"
   ]
  },
  {
   "cell_type": "markdown",
   "id": "8b9d0b35",
   "metadata": {},
   "source": [
    "## Question 1 "
   ]
  },
  {
   "cell_type": "code",
   "execution_count": 269,
   "id": "50ab5cbc",
   "metadata": {},
   "outputs": [],
   "source": [
    "from sklearn import metrics\n",
    "from keras.datasets import mnist\n",
    "import seaborn as sns\n",
    "import matplotlib.pyplot as plt\n",
    "import matplotlib.colors\n",
    "from sklearn.preprocessing import OneHotEncoder\n",
    "from sklearn.model_selection import train_test_split\n",
    "import pandas as pd\n",
    "import numpy as np"
   ]
  },
  {
   "cell_type": "code",
   "execution_count": 270,
   "id": "77821286",
   "metadata": {},
   "outputs": [],
   "source": [
    "from matplotlib import pyplot as plt\n"
   ]
  },
  {
   "cell_type": "code",
   "execution_count": 271,
   "id": "1644dddc",
   "metadata": {},
   "outputs": [],
   "source": [
    "from tensorflow.keras.datasets.fashion_mnist import load_data"
   ]
  },
  {
   "cell_type": "code",
   "execution_count": 272,
   "id": "3ea2a5f8",
   "metadata": {},
   "outputs": [],
   "source": [
    "from keras.datasets import fashion_mnist"
   ]
  },
  {
   "cell_type": "code",
   "execution_count": 273,
   "id": "f2d5d4b9",
   "metadata": {},
   "outputs": [],
   "source": [
    "#Load the fashion MNIST data \n",
    "(x_train, y_train), (x_test, y_test) = fashion_mnist.load_data()"
   ]
  },
  {
   "cell_type": "code",
   "execution_count": 274,
   "id": "f47a1a50",
   "metadata": {},
   "outputs": [],
   "source": [
    "class_names = ['T-shirt', 'Trouser', 'Pullover', 'Dress', 'Coat', 'Sandal', 'Shirt', 'Sneaker', 'Bag', 'Ankle boot']"
   ]
  },
  {
   "cell_type": "code",
   "execution_count": 275,
   "id": "6b5163a2",
   "metadata": {},
   "outputs": [],
   "source": [
    "my_cmap = matplotlib.colors.LinearSegmentedColormap.from_list(\"\", [\"red\",\"yellow\",\"green\"])"
   ]
  },
  {
   "cell_type": "code",
   "execution_count": 276,
   "id": "1f206fb4",
   "metadata": {},
   "outputs": [
    {
     "data": {
      "image/png": "[encoded data removed]",
      "text/plain": [
       "<Figure size 1000x500 with 10 Axes>"
      ]
     },
     "metadata": {},
     "output_type": "display_data"
    }
   ],
   "source": [
    "# Plot one sample image for each class\n",
    "fig, ax = plt.subplots(2, 5, figsize=(10, 5)) #  returns a tuple containing a figure and axes object(s)\n",
    "ax = ax.ravel()\n",
    "\n",
    "for i in range(len(class_names)):\n",
    "    ax[i].set_title(class_names[i])\n",
    "    # Find the index of the first image with the current label\n",
    "    idx = np.argmax(y_train == i) # Returns the indices of the maximum values along an axis.\n",
    "    # Plotting the image\n",
    "    ax[i].imshow(x_train[idx], cmap= 'gray') # display data as an image \n",
    "    wandb.log({\"Question1\": [wandb.Image(x_train[idx], caption= class_names[i])]})\n",
    "plt.show()"
   ]
  },
  {
   "cell_type": "code",
   "execution_count": 277,
   "id": "c7c879eb",
   "metadata": {},
   "outputs": [
    {
     "data": {
      "text/html": [
       "Waiting for W&B process to finish... <strong style=\"color:green\">(success).</strong>"
      ],
      "text/plain": [
       "<IPython.core.display.HTML object>"
      ]
     },
     "metadata": {},
     "output_type": "display_data"
    },
    {
     "data": {
      "application/vnd.jupyter.widget-view+json": {
       "model_id": "1efa077a585f4371b076a1b4e6b3f760",
       "version_major": 2,
       "version_minor": 0
      },
      "text/plain": [
       "VBox(children=(Label(value='0.006 MB of 0.027 MB uploaded (0.000 MB deduped)\\r'), FloatProgress(value=0.232346…"
      ]
     },
     "metadata": {},
     "output_type": "display_data"
    },
    {
     "data": {
      "text/html": [
       " View run <strong style=\"color:#cdcd00\">Question_1</strong> at: <a href='https://wandb.ai/cs22m083/Assignment_1/runs/04u3a11j' target=\"_blank\">https://wandb.ai/cs22m083/Assignment_1/runs/04u3a11j</a><br/>Synced 5 W&B file(s), 10 media file(s), 0 artifact file(s) and 0 other file(s)"
      ],
      "text/plain": [
       "<IPython.core.display.HTML object>"
      ]
     },
     "metadata": {},
     "output_type": "display_data"
    },
    {
     "data": {
      "text/html": [
       "Find logs at: <code>.\\wandb\\run-20230227_213057-04u3a11j\\logs</code>"
      ],
      "text/plain": [
       "<IPython.core.display.HTML object>"
      ]
     },
     "metadata": {},
     "output_type": "display_data"
    }
   ],
   "source": [
    "wandb.finish()"
   ]
  },
  {
   "cell_type": "markdown",
   "id": "7bcf66f8",
   "metadata": {},
   "source": [
    "## Question 2\n"
   ]
  },
  {
   "cell_type": "code",
   "execution_count": 278,
   "id": "45e35944",
   "metadata": {},
   "outputs": [],
   "source": [
    "class FFSN_MultiClass:\n",
    "    def __init__(self, hidden_sizes=[3]):\n",
    "        self.n_inputs = 0\n",
    "        self.n_outputs= 0\n",
    "        self.W = {}\n",
    "        self.B = {}\n",
    "        self.hidden_size = hidden_sizes\n",
    "        self.n_hidden = len(hidden_sizes)\n",
    "        self.sizes = []\n",
    "                 \n",
    "    def weights_init(self):\n",
    "        \n",
    "        \"\"\"\n",
    "        Function to initialize the weights between the layers of the network. Weights are initialized randomly.\n",
    "        \"\"\"\n",
    "        np.random.seed(120)\n",
    "        np.random.RandomState(120)\n",
    "        self.sizes = [self.n_inputs] + self.hidden_size + [self.n_outputs]\n",
    "        for i in range(self.n_hidden + 1):\n",
    "            # Setting up the weights per layer. Initialized randomly as matrix of size of previous layer * next layer \n",
    "            self.W[i+1] = np.random.randn(self.sizes[i], self.sizes[i+1])\n",
    "            # Setting up the biases per layer. Initialized to 0 as matrix of size of 1 * next layer \n",
    "            self.B[i+1] = np.zeros((1, self.sizes[i+1]))\n",
    "            \n",
    "    \n",
    "\n",
    "\n",
    "    def forward_pass(self, x, act_fun):\n",
    "        self.A = {}\n",
    "        self.H = {}\n",
    "        self.H[0] = x.reshape(1, -1)\n",
    "        for i in range(self.n_hidden):\n",
    "            self.A[i+1] = np.matmul(self.H[i], self.W[i+1]) + self.B[i+1]\n",
    "            self.H[i+1] = self.activation_fun(act_fun,self.A[i+1])\n",
    "        self.A[self.n_hidden+1] = np.matmul(self.H[self.n_hidden], self.W[self.n_hidden+1]) + self.B[self.n_hidden+1]\n",
    "        self.H[self.n_hidden+1] = self.softmax(self.A[self.n_hidden+1])\n",
    "        return self.H[self.n_hidden+1]\n",
    "    \n",
    "    def predict(self, X, act_fun):\n",
    "        Y_pred = []\n",
    "        for x in X:\n",
    "            y_pred = self.forward_pass(x, act_fun)\n",
    "            Y_pred.append(y_pred)\n",
    "        return np.array(Y_pred).squeeze()\n",
    "    \n",
    "    def softmax(self, X):\n",
    "        exps = np.exp(X)\n",
    "        return exps / np.sum(exps, axis=1, keepdims=True)\n",
    "    \n",
    "    def activation_fun(self, fun, X):\n",
    "        \n",
    "        if fun == \"tanh\":\n",
    "            return self.tanh(X)\n",
    "        elif fun == \"relu\":\n",
    "            return self.relu(X)\n",
    "        else:\n",
    "            return self.sigmoid(X);\n",
    "        \n",
    "    def tanh(self, X):\n",
    "        return np.tanh(X)\n",
    "    \n",
    "    def relu(self, X):\n",
    "        return X * (X>0)\n",
    "        \n",
    "    def sigmoid(self, x):\n",
    "        return 1.0/(1.0 + np.exp(-x))\n",
    "\n",
    "\n",
    "    def cross_entropy(self,label,pred):\n",
    "        yl=np.multiply(pred,label)\n",
    "        yl=yl[yl!=0]\n",
    "        yl=-np.log(yl)\n",
    "        yl=np.mean(yl)\n",
    "        return yl\n",
    "\n",
    "\n",
    "    def fit(self, act_fun, X, Y):\n",
    "        ny = Y.shape[1]\n",
    "        self.n_inputs = X.shape[1] * X.shape[1]\n",
    "        self.n_outputs = ny\n",
    "        self.weights_init()\n",
    "        \n",
    "        \n",
    "        return self.predict(X, act_fun)"
   ]
  },
  {
   "cell_type": "code",
   "execution_count": 279,
   "id": "cad53fad",
   "metadata": {},
   "outputs": [
    {
     "name": "stdout",
     "output_type": "stream",
     "text": [
      "(60000, 10) (10000, 10)\n",
      "(60000, 28, 28)\n"
     ]
    }
   ],
   "source": [
    "x_train = x_train/255.0\n",
    "x_test = x_test/255.0\n",
    "enc = OneHotEncoder()\n",
    "y_OH_train = enc.fit_transform(np.expand_dims(y_train, 1)).toarray()\n",
    "y_OH_test = enc.fit_transform(np.expand_dims(y_test, 1)).toarray()\n",
    "print(y_OH_train.shape, y_OH_test.shape)\n",
    "print(x_train.shape)"
   ]
  },
  {
   "cell_type": "code",
   "execution_count": 280,
   "id": "073a3b43",
   "metadata": {},
   "outputs": [],
   "source": [
    "obj = FFSN_MultiClass([150, 260, 380])\n",
    "activation_name = \"sigmoid\"\n",
    "clas_pred = obj.fit(activation_name, x_train, y_OH_train)"
   ]
  },
  {
   "cell_type": "code",
   "execution_count": 283,
   "id": "ce1e5b7b",
   "metadata": {},
   "outputs": [
    {
     "name": "stdout",
     "output_type": "stream",
     "text": [
      "[0.         0.         0.         0.         0.         0.99889245\n",
      " 0.00000002 0.         0.00000014 0.00110738]\n"
     ]
    }
   ],
   "source": [
    " print(clas_pred[120])"
   ]
  },
  {
   "cell_type": "code",
   "execution_count": 284,
   "id": "4aecf74e",
   "metadata": {},
   "outputs": [
    {
     "name": "stdout",
     "output_type": "stream",
     "text": [
      "[0. 0. 0. 0. 0. 1. 0. 0. 0. 0.]\n"
     ]
    }
   ],
   "source": [
    "print(y_OH_train[120])"
   ]
  },
  {
   "cell_type": "markdown",
   "id": "f6ce67c7",
   "metadata": {},
   "source": [
    "## Question 3"
   ]
  },
  {
   "cell_type": "code",
   "execution_count": null,
   "id": "cfb69700",
   "metadata": {},
   "outputs": [],
   "source": []
  }
 ],
 "metadata": {
  "kernelspec": {
   "display_name": "Python 3 (ipykernel)",
   "language": "python",
   "name": "python3"
  },
  "language_info": {
   "codemirror_mode": {
    "name": "ipython",
    "version": 3
   },
   "file_extension": ".py",
   "mimetype": "text/x-python",
   "name": "python",
   "nbconvert_exporter": "python",
   "pygments_lexer": "ipython3",
   "version": "3.9.13"
  }
 },
 "nbformat": 4,
 "nbformat_minor": 5
}
