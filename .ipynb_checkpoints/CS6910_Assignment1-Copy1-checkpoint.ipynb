{
 "cells": [
  {
   "cell_type": "code",
   "execution_count": 1,
   "id": "b66a8681",
   "metadata": {
    "scrolled": true
   },
   "outputs": [
    {
     "name": "stdout",
     "output_type": "stream",
     "text": [
      "Requirement already satisfied: wandb in c:\\anaconda\\lib\\site-packages (0.13.10)\n",
      "Requirement already satisfied: Click!=8.0.0,>=7.0 in c:\\anaconda\\lib\\site-packages (from wandb) (8.0.4)\n",
      "Requirement already satisfied: requests<3,>=2.0.0 in c:\\anaconda\\lib\\site-packages (from wandb) (2.28.1)\n",
      "Requirement already satisfied: psutil>=5.0.0 in c:\\anaconda\\lib\\site-packages (from wandb) (5.9.0)\n",
      "Requirement already satisfied: sentry-sdk>=1.0.0 in c:\\anaconda\\lib\\site-packages (from wandb) (1.15.0)\n",
      "Requirement already satisfied: appdirs>=1.4.3 in c:\\anaconda\\lib\\site-packages (from wandb) (1.4.4)\n",
      "Requirement already satisfied: protobuf!=4.21.0,<5,>=3.19.0 in c:\\anaconda\\lib\\site-packages (from wandb) (3.19.6)\n",
      "Requirement already satisfied: PyYAML in c:\\anaconda\\lib\\site-packages (from wandb) (6.0)\n",
      "Requirement already satisfied: typing-extensions in c:\\anaconda\\lib\\site-packages (from wandb) (4.3.0)\n",
      "Requirement already satisfied: GitPython>=1.0.0 in c:\\anaconda\\lib\\site-packages (from wandb) (3.1.31)\n",
      "Requirement already satisfied: docker-pycreds>=0.4.0 in c:\\anaconda\\lib\\site-packages (from wandb) (0.4.0)\n",
      "Requirement already satisfied: setproctitle in c:\\anaconda\\lib\\site-packages (from wandb) (1.3.2)\n",
      "Requirement already satisfied: setuptools in c:\\anaconda\\lib\\site-packages (from wandb) (63.4.1)\n",
      "Requirement already satisfied: pathtools in c:\\anaconda\\lib\\site-packages (from wandb) (0.1.2)\n",
      "Requirement already satisfied: colorama in c:\\anaconda\\lib\\site-packages (from Click!=8.0.0,>=7.0->wandb) (0.4.5)\n",
      "Requirement already satisfied: six>=1.4.0 in c:\\anaconda\\lib\\site-packages (from docker-pycreds>=0.4.0->wandb) (1.16.0)\n",
      "Requirement already satisfied: gitdb<5,>=4.0.1 in c:\\anaconda\\lib\\site-packages (from GitPython>=1.0.0->wandb) (4.0.10)\n",
      "Requirement already satisfied: urllib3<1.27,>=1.21.1 in c:\\anaconda\\lib\\site-packages (from requests<3,>=2.0.0->wandb) (1.26.11)\n",
      "Requirement already satisfied: certifi>=2017.4.17 in c:\\anaconda\\lib\\site-packages (from requests<3,>=2.0.0->wandb) (2022.9.14)\n",
      "Requirement already satisfied: idna<4,>=2.5 in c:\\anaconda\\lib\\site-packages (from requests<3,>=2.0.0->wandb) (3.3)\n",
      "Requirement already satisfied: charset-normalizer<3,>=2 in c:\\anaconda\\lib\\site-packages (from requests<3,>=2.0.0->wandb) (2.0.4)\n",
      "Requirement already satisfied: smmap<6,>=3.0.1 in c:\\anaconda\\lib\\site-packages (from gitdb<5,>=4.0.1->GitPython>=1.0.0->wandb) (5.0.0)\n",
      "Note: you may need to restart the kernel to use updated packages.\n"
     ]
    }
   ],
   "source": [
    "pip install wandb"
   ]
  },
  {
   "cell_type": "code",
   "execution_count": 2,
   "id": "fc286b45",
   "metadata": {},
   "outputs": [],
   "source": [
    "import wandb"
   ]
  },
  {
   "cell_type": "code",
   "execution_count": 3,
   "id": "2fe66c6d",
   "metadata": {},
   "outputs": [
    {
     "name": "stderr",
     "output_type": "stream",
     "text": [
      "wandb: Appending key for api.wandb.ai to your netrc file: C:\\Users\\Shivam Maurya/.netrc\n"
     ]
    }
   ],
   "source": [
    "!wandb login b032cc059132c9aac4f1b317f6f9ad007ef9e4d4"
   ]
  },
  {
   "cell_type": "code",
   "execution_count": 4,
   "id": "9d0611fd",
   "metadata": {},
   "outputs": [
    {
     "name": "stderr",
     "output_type": "stream",
     "text": [
      "Failed to detect the name of this notebook, you can set it manually with the WANDB_NOTEBOOK_NAME environment variable to enable code saving.\n",
      "\u001b[34m\u001b[1mwandb\u001b[0m: Currently logged in as: \u001b[33mcs22m083\u001b[0m. Use \u001b[1m`wandb login --relogin`\u001b[0m to force relogin\n"
     ]
    },
    {
     "data": {
      "text/html": [
       "wandb version 0.14.0 is available!  To upgrade, please run:\n",
       " $ pip install wandb --upgrade"
      ],
      "text/plain": [
       "<IPython.core.display.HTML object>"
      ]
     },
     "metadata": {},
     "output_type": "display_data"
    },
    {
     "data": {
      "text/html": [
       "Tracking run with wandb version 0.13.10"
      ],
      "text/plain": [
       "<IPython.core.display.HTML object>"
      ]
     },
     "metadata": {},
     "output_type": "display_data"
    },
    {
     "data": {
      "text/html": [
       "Run data is saved locally in <code>C:\\Users\\Shivam Maurya\\OneDrive\\Desktop\\IIT_MADRAS\\Deep Learning\\assignment 1\\CS6910-Deep_Learning_Assignment-1\\wandb\\run-20230317_161656-1qtem9n2</code>"
      ],
      "text/plain": [
       "<IPython.core.display.HTML object>"
      ]
     },
     "metadata": {},
     "output_type": "display_data"
    },
    {
     "data": {
      "text/html": [
       "Syncing run <strong><a href='https://wandb.ai/cs22m083/CS6910_Assignment_1/runs/1qtem9n2' target=\"_blank\">Question:1</a></strong> to <a href='https://wandb.ai/cs22m083/CS6910_Assignment_1' target=\"_blank\">Weights & Biases</a> (<a href='https://wandb.me/run' target=\"_blank\">docs</a>)<br/>"
      ],
      "text/plain": [
       "<IPython.core.display.HTML object>"
      ]
     },
     "metadata": {},
     "output_type": "display_data"
    },
    {
     "data": {
      "text/html": [
       " View project at <a href='https://wandb.ai/cs22m083/CS6910_Assignment_1' target=\"_blank\">https://wandb.ai/cs22m083/CS6910_Assignment_1</a>"
      ],
      "text/plain": [
       "<IPython.core.display.HTML object>"
      ]
     },
     "metadata": {},
     "output_type": "display_data"
    },
    {
     "data": {
      "text/html": [
       " View run at <a href='https://wandb.ai/cs22m083/CS6910_Assignment_1/runs/1qtem9n2' target=\"_blank\">https://wandb.ai/cs22m083/CS6910_Assignment_1/runs/1qtem9n2</a>"
      ],
      "text/plain": [
       "<IPython.core.display.HTML object>"
      ]
     },
     "metadata": {},
     "output_type": "display_data"
    },
    {
     "data": {
      "text/html": [
       "<button onClick=\"this.nextSibling.style.display='block';this.style.display='none';\">Display W&B run</button><iframe src='https://wandb.ai/cs22m083/CS6910_Assignment_1/runs/1qtem9n2?jupyter=true' style='border:none;width:100%;height:420px;display:none;'></iframe>"
      ],
      "text/plain": [
       "<wandb.sdk.wandb_run.Run at 0x1e3015aaa60>"
      ]
     },
     "execution_count": 4,
     "metadata": {},
     "output_type": "execute_result"
    }
   ],
   "source": [
    "wandb.init(project=\"CS6910_Assignment_1\", name=\"Question:1\")"
   ]
  },
  {
   "cell_type": "markdown",
   "id": "7e1f9384",
   "metadata": {},
   "source": [
    "## Question 1 "
   ]
  },
  {
   "cell_type": "code",
   "execution_count": 5,
   "id": "df6e725d",
   "metadata": {},
   "outputs": [],
   "source": [
    "import numpy as np\n",
    "import pandas as pd\n",
    "from keras.datasets import mnist\n",
    "import seaborn as sns\n",
    "import matplotlib.pyplot as plt\n",
    "import matplotlib.colors\n",
    "from sklearn import metrics\n",
    "from sklearn.model_selection import train_test_split\n",
    "from sklearn.metrics import accuracy_score, mean_squared_error, log_loss\n",
    "from sklearn.preprocessing import OneHotEncoder"
   ]
  },
  {
   "cell_type": "code",
   "execution_count": 6,
   "id": "77c23e0c",
   "metadata": {},
   "outputs": [],
   "source": [
    "from matplotlib import pyplot as plt\n"
   ]
  },
  {
   "cell_type": "code",
   "execution_count": 7,
   "id": "8e2b386f",
   "metadata": {},
   "outputs": [],
   "source": [
    "from tensorflow.keras.datasets.fashion_mnist import load_data"
   ]
  },
  {
   "cell_type": "code",
   "execution_count": 8,
   "id": "42364895",
   "metadata": {},
   "outputs": [],
   "source": [
    "from keras.datasets import fashion_mnist"
   ]
  },
  {
   "cell_type": "code",
   "execution_count": 9,
   "id": "993f3eb5",
   "metadata": {},
   "outputs": [],
   "source": [
    "#Load the fashion MNIST data \n",
    "(x_train, y_train), (x_test, y_test) = fashion_mnist.load_data()"
   ]
  },
  {
   "cell_type": "code",
   "execution_count": 10,
   "id": "ed050f3c",
   "metadata": {},
   "outputs": [],
   "source": [
    "class_names = ['T-shirt', 'Trouser', 'Pullover', 'Dress', 'Coat', 'Sandal', 'Shirt', 'Sneaker', 'Bag', 'Ankle boot']"
   ]
  },
  {
   "cell_type": "code",
   "execution_count": 11,
   "id": "2b3acdab",
   "metadata": {},
   "outputs": [],
   "source": [
    "my_cmap = matplotlib.colors.LinearSegmentedColormap.from_list(\"\", [\"red\",\"yellow\",\"green\"])"
   ]
  },
  {
   "cell_type": "code",
   "execution_count": 12,
   "id": "ca18e047",
   "metadata": {},
   "outputs": [
    {
     "data": {
      "image/png": "[encoded data removed]",
      "text/plain": [
       "<Figure size 1000x500 with 10 Axes>"
      ]
     },
     "metadata": {},
     "output_type": "display_data"
    }
   ],
   "source": [
    "# Plot one sample image for each class\n",
    "fig, ax = plt.subplots(2, 5, figsize=(10, 5)) #  returns a tuple containing a figure and axes object(s)\n",
    "ax = ax.ravel()\n",
    "\n",
    "for i in range(len(class_names)):\n",
    "    ax[i].set_title(class_names[i])\n",
    "    # Find the index of the first image with the current label\n",
    "    idx = np.argmax(y_train == i) # Returns the indices of the maximum values along an axis.\n",
    "    # Plotting the image\n",
    "    ax[i].imshow(x_train[idx], cmap= 'gray') # display data as an image \n",
    "    wandb.log({\"Question1\": [wandb.Image(x_train[idx], caption= class_names[i])]})\n",
    "plt.show()"
   ]
  },
  {
   "cell_type": "code",
   "execution_count": 13,
   "id": "02a39f3f",
   "metadata": {},
   "outputs": [
    {
     "data": {
      "text/html": [
       "Waiting for W&B process to finish... <strong style=\"color:green\">(success).</strong>"
      ],
      "text/plain": [
       "<IPython.core.display.HTML object>"
      ]
     },
     "metadata": {},
     "output_type": "display_data"
    },
    {
     "data": {
      "application/vnd.jupyter.widget-view+json": {
       "model_id": "292c51da27c14cf9a359ce29b3200b90",
       "version_major": 2,
       "version_minor": 0
      },
      "text/plain": [
       "VBox(children=(Label(value='0.006 MB of 0.027 MB uploaded (0.000 MB deduped)\\r'), FloatProgress(value=0.232684…"
      ]
     },
     "metadata": {},
     "output_type": "display_data"
    },
    {
     "data": {
      "text/html": [
       " View run <strong style=\"color:#cdcd00\">Question:1</strong> at: <a href='https://wandb.ai/cs22m083/CS6910_Assignment_1/runs/1qtem9n2' target=\"_blank\">https://wandb.ai/cs22m083/CS6910_Assignment_1/runs/1qtem9n2</a><br/>Synced 5 W&B file(s), 10 media file(s), 0 artifact file(s) and 0 other file(s)"
      ],
      "text/plain": [
       "<IPython.core.display.HTML object>"
      ]
     },
     "metadata": {},
     "output_type": "display_data"
    },
    {
     "data": {
      "text/html": [
       "Find logs at: <code>.\\wandb\\run-20230317_161656-1qtem9n2\\logs</code>"
      ],
      "text/plain": [
       "<IPython.core.display.HTML object>"
      ]
     },
     "metadata": {},
     "output_type": "display_data"
    }
   ],
   "source": [
    "wandb.finish()"
   ]
  },
  {
   "cell_type": "markdown",
   "id": "b795a645",
   "metadata": {},
   "source": [
    "## Question 2\n"
   ]
  },
  {
   "cell_type": "code",
   "execution_count": 14,
   "id": "10673929",
   "metadata": {},
   "outputs": [],
   "source": [
    "class FFSN_MultiClass:\n",
    "    def __init__(self, hidden_sizes=[3]):\n",
    "        self.A = {}\n",
    "        self.H = {}\n",
    "        self.n_inputs = 0\n",
    "        self.n_outputs= 0\n",
    "        self.W = {}\n",
    "        self.B = {}\n",
    "        self.sizes = []\n",
    "        self.hidden_size = hidden_sizes\n",
    "        self.n_hidden = len(hidden_sizes)\n",
    "        \n",
    "    # Function to initialize the weights between the layers of the network. Weights are initialized randomly.             \n",
    "    def weights_init(self):\n",
    "        \n",
    "        np.random.seed(120)\n",
    "        np.random.RandomState(120)\n",
    "        self.sizes = [self.n_inputs] + self.hidden_size + [self.n_outputs]\n",
    "        for i in range(self.n_hidden + 1):\n",
    "            size = self.sizes[i+1]\n",
    "            self.B[i+1] = np.zeros((1, size))# Zero initialization of Biases as matrix of size of 1 * next layer.\n",
    "            self.W[i+1] = np.random.randn(self.sizes[i], size) # Random initialization of weights per layer.\n",
    "            \n",
    "\n",
    "\n",
    "    def forward_pass(self, x, act_fun):\n",
    "        \n",
    "        self.H[0] = x.reshape(1, -1)\n",
    "        \n",
    "        for i in range(self.n_hidden):\n",
    "            bias = self.B[i+1]\n",
    "            weight = self.W[i+1]\n",
    "            self.A[i+1] = np.matmul(self.H[i], weight) + bias\n",
    "            self.H[i+1] = self.activation_fun( act_fun,  self.A[i+1] )\n",
    "            \n",
    "        self.A[self.n_hidden+1] = np.matmul(self.H[self.n_hidden], self.W[self.n_hidden+1]) + self.B[self.n_hidden+1]\n",
    "        self.H[self.n_hidden+1] = self.softmax(self.A[self.n_hidden+1])\n",
    "        return self.H[self.n_hidden+1]\n",
    "    \n",
    "    def predict(self, X, act_fun):\n",
    "        Y_pred = []\n",
    "        for x in X:\n",
    "            y_pred = self.forward_pass(x, act_fun)\n",
    "            Y_pred.append(y_pred)\n",
    "        return np.array(Y_pred).squeeze()\n",
    "    \n",
    "    def softmax(self, X):\n",
    "        exps = np.exp(X)\n",
    "        return exps / np.sum(exps, axis=1, keepdims=True)\n",
    "    \n",
    "    def activation_fun(self, fun, X):\n",
    "        \n",
    "        if fun == \"tanh\":\n",
    "            return self.tanh(X)\n",
    "        elif fun == \"relu\":\n",
    "            return self.relu(X)\n",
    "        else:\n",
    "            return self.sigmoid(X);\n",
    "        \n",
    "    def tanh(self, x):\n",
    "        return np.tanh(x)\n",
    "    \n",
    "    def relu(self, x):\n",
    "        y = (x > 0)\n",
    "        return X * y\n",
    "        \n",
    "    \n",
    "    #Sigmoid Function\n",
    "    def sigmoid(self, x):\n",
    "        \n",
    "        return (1./(1.0 + np.exp(-x)))\n",
    "\n",
    "\n",
    "    def fit(self, act_fun, X, Y):\n",
    "        ny = Y.shape[1]\n",
    "        self.n_inputs = X.shape[1] * X.shape[1]\n",
    "        self.n_outputs = ny\n",
    "        self.weights_init()\n",
    "        \n",
    "        \n",
    "        return self.predict(X, act_fun)"
   ]
  },
  {
   "cell_type": "code",
   "execution_count": 15,
   "id": "761c40c4",
   "metadata": {},
   "outputs": [
    {
     "name": "stdout",
     "output_type": "stream",
     "text": [
      "(60000, 10) (10000, 10)\n",
      "(60000, 28, 28)\n"
     ]
    }
   ],
   "source": [
    "enc = OneHotEncoder()\n",
    "x_train = x_train/255.0\n",
    "x_test = x_test/255.0\n",
    "y_OH_test = enc.fit_transform(np.expand_dims(y_test, 1)).toarray()\n",
    "y_OH_train = enc.fit_transform(np.expand_dims(y_train, 1)).toarray()\n",
    "print(y_OH_train.shape, y_OH_test.shape)\n",
    "print(x_train.shape)"
   ]
  },
  {
   "cell_type": "code",
   "execution_count": 16,
   "id": "5207d441",
   "metadata": {},
   "outputs": [],
   "source": [
    "obj = FFSN_MultiClass([150, 260, 380])\n",
    "activation_name = \"sigmoid\"\n",
    "clas_pred = obj.fit(activation_name, x_train, y_OH_train)"
   ]
  },
  {
   "cell_type": "code",
   "execution_count": 17,
   "id": "81c492e6",
   "metadata": {},
   "outputs": [],
   "source": [
    "np.set_printoptions(suppress=True)"
   ]
  },
  {
   "cell_type": "code",
   "execution_count": 18,
   "id": "3ba987a0",
   "metadata": {},
   "outputs": [
    {
     "name": "stdout",
     "output_type": "stream",
     "text": [
      "[0.00024276 0.0001071  0.         0.         0.00000016 0.98679121\n",
      " 0.00390697 0.00005168 0.00000237 0.00889774]\n"
     ]
    }
   ],
   "source": [
    " print(clas_pred[50])"
   ]
  },
  {
   "cell_type": "code",
   "execution_count": 19,
   "id": "c7469931",
   "metadata": {},
   "outputs": [
    {
     "name": "stdout",
     "output_type": "stream",
     "text": [
      "[0. 0. 0. 1. 0. 0. 0. 0. 0. 0.]\n"
     ]
    }
   ],
   "source": [
    "print(y_OH_train[50])"
   ]
  },
  {
   "cell_type": "markdown",
   "id": "31d71606",
   "metadata": {},
   "source": [
    "## Question 3"
   ]
  },
  {
   "cell_type": "code",
   "execution_count": 20,
   "id": "6b7232a4",
   "metadata": {},
   "outputs": [],
   "source": [
    "class FFNN():\n",
    " \n",
    "    def __init__(self,opt, hidden_sizes, loss_fun, activation_fun, output_act, b_s= 1024, epochs = 10, initialization = \"Random\", log=0, train_losses = None, train_accuracy = None, test_losses = None, test_accuracy = None):\n",
    "        \n",
    "        self.train_accuracy_list = train_accuracy\n",
    "        self.batch_size = b_s\n",
    "        self.layer_sizes = []\n",
    "        self.output_activation = output_act\n",
    "        self.dw = {}\n",
    "        self.output_layer_size=1\n",
    "        self.input_layer_size=0\n",
    "        self.A = {}\n",
    "        self.hidden_layer_sizes = hidden_sizes\n",
    "        self.dH = {}\n",
    "        self.loss_function = loss_fun\n",
    "        self.H = {}\n",
    "        self.train_losses_list = train_losses\n",
    "        self.optimizer = opt\n",
    "        self.dA = {}\n",
    "        self.activation_function = activation_fun\n",
    "        self.weights = {}\n",
    "        self.db = {}\n",
    "        self.biases = {}\n",
    "        #Layer sizes array will be initialzed after input and output layer size is obtained\n",
    "        self.val_accuracy_list = test_accuracy\n",
    "        self.val_losses_list = test_losses\n",
    "        self.wan_log = log\n",
    "        self.epochs = epochs\n",
    "        self.initialization = initialization\n",
    "\n",
    "\n",
    "    def initialize_weights(self):\n",
    "      \n",
    "        #Function to initialize the weights between the layers of the network. Weights are initialized randomly.\n",
    "        self.layer_sizes = [self.input_layer_size] + self.hidden_layer_sizes + [self.output_layer_size]\n",
    "        np.random.seed(137)\n",
    "        np.random.RandomState(137)\n",
    "        ln = len(self.hidden_layer_sizes)\n",
    "        self.optimizer.initialize(self.layer_sizes)\n",
    "        weight_counts =ln  +1\n",
    "        for i in range(weight_counts):\n",
    "            \n",
    "            s_size = (self.layer_sizes[i], self.layer_sizes[i+1])\n",
    "            lsize_i = self.layer_sizes[i]\n",
    "            lsize_i1 = self.layer_sizes[i+1]\n",
    "        \n",
    "            if self.initialization == \"Xavier\":\n",
    "               \n",
    "                self.weights[i+1] = np.random.normal(0.0, np.sqrt(2 / float(lsize_i + lsize_i1)) , size = s_size)\n",
    "\n",
    "            elif self.initialization == \"Random\":\n",
    "               \n",
    "                self.weights[i+1] = np.random.randn(lsize_i, lsize_i1)\n",
    "            self.biases[i+1] = np.zeros((1, lsize_i1))\n",
    "\n",
    "\n",
    "    def forward_propogation(self, X):\n",
    "        \n",
    "        ln = len(self.hidden_layer_sizes)\n",
    "        \n",
    "        self.H = {}\n",
    "        #Initialize the output from input layer as H[0] into a single row(row vector)\n",
    "        self.H[0] = X.reshape(1,-1)\n",
    "        self.A = {}\n",
    "        #Compute a(x) = W_x*h(x-1) and h(a(x)) = activation(a(x)) for hidden layer\n",
    "        for i in range(ln):\n",
    "            weight = self.weights[i+1]\n",
    "            bias = self.biases[i+1]\n",
    "            self.A[i+1] = np.matmul(self.H[i], weight) + bias\n",
    "            self.H[i+1] = self.activation_function.compute_activation(self.A[i+1])\n",
    "\n",
    "        ln = ln +1\n",
    "        weight = self.weights[ln]\n",
    "        bias = self.biases[ln]\n",
    "        self.A[ln] = np.matmul(self.H[ln-1], weight) + bias\n",
    "        #Compute a(x) and h(a(x)) = softmax(a(x)) for output layer\n",
    "        self.H[ln] = self.output_activation.compute_activation(self.A[ln]) \n",
    "        return  self.H[ln]\n",
    "\n",
    "    def backward_propogation(self, X, Y,  dw_i, db_i):\n",
    "        \n",
    "        ln = len(self.hidden_layer_sizes)\n",
    "        #Compute the gradient of loss wrt the activation of output layer\n",
    "        self.dA[ln +1] = self.loss_function.last_output_derivative(self.H[ln +1], Y, self.output_activation.compute_derivative(self.A[ln +1]))\n",
    "\n",
    "        #Compute the partial derivatives for the weights and biases of the layers\n",
    "        # change in weight : (assuming 2 hidden layers) dL/dW3 = dA3/dW3 * dL/dA3 = d(W3*H2 + B3)/dW3 * dL/dA3 = H2 * dL/dA3\n",
    "        # change in biase : (assuming 2 hidden layers) dL/dB3 = dA3/dB3 * dL/dA3 = d(W3*H2 + B3)/dB3 * dL/dA3 = 1 * dL/dA3\n",
    "        for i in range(ln, -1, -1):\n",
    "            weight = self.weights[i+1].T\n",
    "            db_i[i+1] = self.dA[i+1]\n",
    "            dw_i[i+1] = np.matmul(self.H[i].T, self.dA[i+1])\n",
    "            \n",
    "            if i!=0:\n",
    "                self.dH[i] = np.matmul(self.dA[i+1],weight)  \n",
    "                act_grad = self.activation_function.compute_derivative(self.A[i])\n",
    "                self.dA[i] = np.multiply(act_grad, self.dH[i])    \n",
    "               \n",
    "        return dw_i, db_i\n",
    "\n",
    "\n",
    "    def fit(self, X, Y, X_val, Y_val, console = 1):\n",
    "        \n",
    "        #Function to fit the data (X,Y) on the model. This performs forward + backward pass for epoch number of times. Gradient is updated after each batch is processed.\n",
    "        self.output_layer_size = Y.shape[1] # Number of columns in output (label count)\n",
    "        self.console_log = console\n",
    "        self.input_layer_size = X.shape[1]*X.shape[1] # Number of features in data(features)\n",
    "        hidden_ls = self.hidden_layer_sizes\n",
    "        self.initialize_weights()\n",
    "        ln = len(self.hidden_layer_sizes)+1\n",
    "        for e in range(self.epochs):\n",
    "            count = -1\n",
    "            for i in range(ln):\n",
    "                layer_size = self.layer_sizes[i+1]\n",
    "                self.db[i+1] = np.zeros((1, layer_size))\n",
    "                self.dw[i+1] = np.zeros((self.layer_sizes[i], layer_size))\n",
    "                \n",
    "            y_preds = []\n",
    "\n",
    "            for x, y in zip(X, Y):\n",
    "                count += 1\n",
    "                db_i = {}\n",
    "                dw_i = {}\n",
    "\n",
    "                if count==self.batch_size:\n",
    "                    #Done wih current batch\n",
    "        \n",
    "                    if self.optimizer.optimizer_name()==\"nag\":\n",
    "                        b_lookahead = {}\n",
    "                        w_lookahead = {}\n",
    "                        \n",
    "                        for i in range(ln):\n",
    "                            b_upd = self.optimizer.gamma*self.optimizer.update_history_b[i+1]\n",
    "                            w_upd = self.optimizer.gamma*self.optimizer.update_history_w[i+1]\n",
    "                            b_lookahead[i+1] = self.biases[i+1] - b_upd\n",
    "                            w_lookahead[i+1] = self.weights[i+1] - w_upd\n",
    "                            \n",
    "                        \n",
    "                        weights_old = self.weights\n",
    "                        self.weights = w_lookahead\n",
    "                        self.forward_propogation(x)\n",
    "                        dw_lookahead, db_lookahead = self.backward_propogation(x,y, dw_i, db_i) \n",
    "                        self.biases = b_lookahead\n",
    "                        biases_old = self.biases\n",
    "                        self.weights, self.biases = self.optimizer.update_parameters(weights_old, biases_old, dw_lookahead, db_lookahead, hidden_ls)\n",
    "\n",
    "                    else: \n",
    "                        self.weights, self.biases = self.optimizer.update_parameters(self.weights, self.biases, self.dw, self.db, hidden_ls)\n",
    "                    \n",
    "                    for i in range(ln):\n",
    "                        lsize1 = self.layer_sizes[i+1]\n",
    "                        lsize = self.layer_sizes[i]\n",
    "                        self.db[i+1] = np.zeros((1, lsize1))\n",
    "                        self.dw[i+1] = np.zeros((lsize, lsize1))\n",
    "\n",
    "                    count = 0\n",
    "                #Forward Propogation\n",
    "                self.forward_propogation(x)\n",
    "\n",
    "                #Predictions\n",
    "                y_preds.append(self.H[ln])\n",
    "\n",
    "                #Backward Propogation using Loss funtion\n",
    "                self.backward_propogation(x,y, dw_i, db_i) \n",
    "\n",
    "                for i in range(ln):\n",
    "                    b_i = db_i[i+1]\n",
    "                    w_i = dw_i[i+1]\n",
    "                    self.db[i+1] = self.db[i+1] + b_i\n",
    "                    self.dw[i+1] = self.dw[i+1] + w_i\n",
    "                    \n",
    "           \n",
    "            #Update weights based on loss(GD hence once every epoch update)\n",
    "            if self.optimizer.optimizer_name()==\"nag\":\n",
    "                b_lookahead = {}\n",
    "                w_lookahead = {}\n",
    "                \n",
    "                for i in range(ln):\n",
    "                    bias = self.biases[i+1]\n",
    "                    weight = self.weights[i+1]\n",
    "                    b_upd = self.optimizer.gamma*self.optimizer.update_history_b[i+1]\n",
    "                    w_upd = self.optimizer.gamma*self.optimizer.update_history_w[i+1]\n",
    "                    b_lookahead[i+1] = bias - b_upd\n",
    "                    w_lookahead[i+1] = weight - w_upd     \n",
    "                \n",
    "                biases_old, weights_old= self.biases, self.weights\n",
    "                self.biases, self.weights = b_lookahead , w_lookahead\n",
    "                \n",
    "                self.forward_propogation(x)\n",
    "                dw_lookahead, db_lookahead = self.backward_propogation(x, y, dw_i, db_i) \n",
    "                self.weights, self.biases = self.optimizer.update_parameters(weights_old, biases_old, dw_lookahead, db_lookahead, hidden_ls)\n",
    "\n",
    "            else:  \n",
    "                self.weights, self.biases = self.optimizer.update_parameters(self.weights, self.biases, self.dw, self.db, hidden_ls)\n",
    "            \n",
    "            y_preds = np.array(y_preds).squeeze()\n",
    "            y_preds_validation = self.predict(X_val)\n",
    "            \n",
    "            validation_loss = self.loss_function.compute_loss(Y_val, y_preds_validation, self.batch_size)\n",
    "            if self.val_losses_list != None:\n",
    "                self.val_losses_list.append(validation_loss) \n",
    "            \n",
    "            training_loss = self.loss_function.compute_loss(Y, y_preds, self.batch_size)\n",
    "            if self.train_losses_list != None:\n",
    "                self.train_losses_list.append(training_loss)\n",
    "                \n",
    "            validation_accuracy = accuracy_score(np.argmax(Y_val,1), np.argmax(y_preds_validation,1))\n",
    "            if self.val_accuracy_list != None:\n",
    "                self.val_accuracy_list.append(validation_accuracy)\n",
    "                \n",
    "            training_accuracy = accuracy_score(np.argmax(Y,1), np.argmax(y_preds,1))\n",
    "            if self.train_accuracy_list != None:\n",
    "                self.train_accuracy_list.append(training_accuracy)\n",
    "           \n",
    "              \n",
    "            if self.console_log == 1: #For Printing Log results on Console \n",
    "                print(\"Training Loss: \",round(training_loss,3),\"Val_loss:\", round(validation_loss, 3), \" Training Accuracy: \",round(training_accuracy,3), \"Val_accuracy:\", round(validation_accuracy,3), \" <-:Epoch:\",e+1,)\n",
    "            \n",
    "            \n",
    "            elif self.wan_log==1:#For Log metrics on wandb\n",
    "                \n",
    "                wandb.log({\"Training_accuracy\": training_accuracy, \"Validation_accuracy\": validation_accuracy, \"Training_loss\": training_loss, \"Validation_loss\": validation_loss, 'Epoch': e+1})\n",
    "\n",
    "    \n",
    "        return training_loss, validation_loss, training_accuracy, validation_accuracy\n",
    "\n",
    "    def predict(self, X):\n",
    "        y_pred = []\n",
    "        for x in X:\n",
    "            pred = self.forward_propogation(x)\n",
    "            y_pred.append(pred)\n",
    "\n",
    "        y_pred = np.array(y_pred).squeeze()\n",
    "        return y_pred"
   ]
  },
  {
   "cell_type": "markdown",
   "id": "0a0da190",
   "metadata": {},
   "source": [
    "## Optimization Function"
   ]
  },
  {
   "cell_type": "code",
   "execution_count": 21,
   "id": "f78fa892",
   "metadata": {},
   "outputs": [],
   "source": [
    "class Optimizer():\n",
    "    \n",
    "    def __init__(self, optimizer,  learning_rate = 0.001,  gamma = 0.001, beta1 = 0.9, beta2 = 0.999, weight_decay = 0.0, epsilon = 1e-8):\n",
    "        \n",
    "        self.update_history_b = {}\n",
    "        self.m_b = {}\n",
    "        self.optimizer = optimizer\n",
    "        self.learning_rate = learning_rate\n",
    "        self.db_look_ahead = {}\n",
    "        self.b_look_ahead = {}\n",
    "        self.weight_decay = weight_decay\n",
    "        self.v_b = {}\n",
    "        self.dw_look_ahead ={}\n",
    "        self.gamma = gamma\n",
    "        self.w_look_ahead = {}\n",
    "        self.update_history_w = {}\n",
    "        self.lr =0\n",
    "        self.epsilon = epsilon\n",
    "        self.m_w = {}\n",
    "        self.v_w ={}\n",
    "        if( self.optimizer == \"sgd\"):\n",
    "            self.learning_rate = learning_rate\n",
    "            self.weight_decay = weight_decay\n",
    "            \n",
    "        if( self.optimizer == \"momentum\" ):\n",
    "            self.weight_decay = weight_decay\n",
    "            self.initialized = False\n",
    "            self.update_history_w = {}\n",
    "            self.learning_rate = learning_rate\n",
    "            self.update_history_b = {}\n",
    "            self.gamma = gamma\n",
    "        \n",
    "        if( self.optimizer == \"nag\"):\n",
    "            self.initialized = False\n",
    "            self.update_history_b = {}\n",
    "            self.update_history_w = {}\n",
    "            self.learning_rate = learning_rate\n",
    "            self.b_look_ahead={}\n",
    "            self.w_look_ahead={}\n",
    "            self.gamma = gamma\n",
    "            self.db_look_ahead={}\n",
    "            self.dw_look_ahead={}\n",
    "\n",
    "        if( self.optimizer == \"rmsprop\"):\n",
    "            self.initialized = False\n",
    "            self.weight_decay = weight_decay\n",
    "            self.v_b = {}\n",
    "            self.v_w = {}\n",
    "            self.epsilon = epsilon\n",
    "            self.gamma = gamma\n",
    "            self.learning_rate = learning_rate\n",
    "            \n",
    "            \n",
    "\n",
    "        if( self.optimizer == \"adam\" or self.optimizer == \"nadam\"):\n",
    "            self.initialized = False\n",
    "            self.epsilon = epsilon\n",
    "            self.v_b = {}\n",
    "            self.v_w = {}\n",
    "            self.beta1 = beta1\n",
    "            self.beta2 = beta2\n",
    "            self.m_b = {}\n",
    "            self.m_w = {}\n",
    "            self.iterations = 1\n",
    "            self.learning_rate = learning_rate\n",
    "            self.weight_decay = weight_decay\n",
    "        \n",
    "\n",
    "    def set_learning_rate(self, learning_rate):\n",
    "\n",
    "        if(self.optimizer == \"sgd\"):\n",
    "            self.learning_rate = learning_rate\n",
    "\n",
    "        if( self.optimizer == \"momentum\" ):\n",
    "            self.learning_rate = learning_rate\n",
    "        \n",
    "        if( self.optimizer == \"nag\"):\n",
    "            self.learning_rate = learning_rate\n",
    "\n",
    "        if( self.optimizer == \"rmsprop\"):\n",
    "            self.learning_rate = learning_rate\n",
    "\n",
    "        if( self.optimizer == \"adam\" or self.optimizer == \"nadam\"):\n",
    "            self.learning_rate = learning_rate\n",
    "\n",
    "\n",
    "\n",
    "    def set_weight_decay(self, weight_dec):\n",
    "        self.weight_decay = weight_dec\n",
    "        \n",
    "    def set_initial_parameters(self, parameters):\n",
    "        \n",
    "        if(self.optimizer == \"sgd\"):\n",
    "            self.weight_decay = parameters[\"weight_decay\"]\n",
    "            self.learning_rate = parameters[\"learning_rate\"]\n",
    "\n",
    "        if( self.optimizer == \"momentum\" ):\n",
    "            self.weight_decay = parameters[\"weight_decay\"]\n",
    "            self.gamma = parameters[\"gamma\"]\n",
    "            self.learning_rate = parameters[\"learning_rate\"]\n",
    "            \n",
    "        \n",
    "        if( self.optimizer == \"nag\"):\n",
    "            self.gamma = parameters[\"gamma\"]\n",
    "            self.learning_rate = parameters[\"learning_rate\"]\n",
    "\n",
    "        if( self.optimizer == \"rmsprop\"):\n",
    "            \n",
    "            self.weight_decay = parameters[\"weight_decay\"]\n",
    "            self.learning_rate = parameters[\"learning_rate\"]\n",
    "            self.lr = 0.01\n",
    "            self.epsilon = parameters[\"epsilon\"]\n",
    "            self.gamma = parameters[\"gamma\"]\n",
    "            \n",
    "\n",
    "        if( self.optimizer == \"adam\" or self.optimizer == \"nadam\"):\n",
    "            self.weight_decay = parameters[\"weight_decay\"]\n",
    "            self.lr = 0.01\n",
    "            self.epsilon = parameters[\"epsilon\"]\n",
    "            self.beta1, self.beta2  = parameters[\"beta1\"], parameters[\"beta2\"]\n",
    "            self.learning_rate = parameters[\"learning_rate\"]\n",
    "            \n",
    "    def initialize(self, all_layers):\n",
    "        \n",
    "        self.b_look_ahead.clear()\n",
    "        self.update_history_b.clear()\n",
    "        ln = len(all_layers)\n",
    "        self.m_b.clear()\n",
    "        self.dw_look_ahead.clear()\n",
    "        self.v_b.clear()\n",
    "        self.w_look_ahead.clear()\n",
    "        ln = ln -1\n",
    "        self.update_history_w.clear()\n",
    "        self.m_w.clear()\n",
    "        self.db_look_ahead.clear()\n",
    "        self.v_w.clear()\n",
    "        \n",
    "        if(self.optimizer == \"sgd\"):\n",
    "            return\n",
    "\n",
    "        if( self.optimizer == \"momentum\" ):\n",
    "            \n",
    "            for i in range(ln):\n",
    "                all_layer = all_layers[i+1]\n",
    "                self.update_history_b[i+1] = np.zeros((1, all_layer))\n",
    "                self.update_history_w[i+1] = np.zeros((all_layers[i], all_layer))\n",
    "                \n",
    "        if( self.optimizer == \"nag\"):\n",
    "            \n",
    "            for i in range(ln):\n",
    "                all_layer = all_layers[i+1]\n",
    "                self.update_history_w[i+1] = np.zeros((all_layers[i], all_layer))\n",
    "                self.dw_look_ahead[i+1] = np.zeros((all_layers[i], all_layer))\n",
    "                self.w_look_ahead[i+1] = np.zeros((all_layers[i], all_layer))\n",
    "                self.update_history_b[i+1] = np.zeros((1, all_layer))\n",
    "                self.db_look_ahead[i+1] = np.zeros((1, all_layer))\n",
    "                self.b_look_ahead[i+1] = np.zeros((1, all_layer))\n",
    "\n",
    "        if( self.optimizer == \"rmsprop\"):\n",
    "            \n",
    "            for i in range(ln):\n",
    "                all_layer = all_layers[i+1]\n",
    "                self.v_w[i+1] = np.zeros((all_layers[i], all_layer))\n",
    "                self.v_b[i+1] = np.zeros((1, all_layer))\n",
    "\n",
    "        if( self.optimizer == \"adam\" or self.optimizer == \"nadam\"):\n",
    "            \n",
    "            for i in range(ln):\n",
    "                all_layer = all_layers[i+1]\n",
    "                self.m_b[i+1] = np.zeros((1, all_layer))\n",
    "                self.v_b[i+1] = np.zeros((1, all_layer))\n",
    "                self.m_w[i+1] = np.zeros((all_layers[i], all_layer))\n",
    "                self.v_w[i+1] = np.zeros((all_layers[i], all_layer))\n",
    "                \n",
    "    def optimizer_name(self):\n",
    "\n",
    "        if(self.optimizer == \"sgd\"):\n",
    "            return \"sgd\"\n",
    "\n",
    "        if( self.optimizer == \"momentum\" ):\n",
    "            return \"momentum\"\n",
    "        \n",
    "        if( self.optimizer == \"nag\"):\n",
    "            return \"nag\"\n",
    "\n",
    "        if( self.optimizer == \"rmsprop\"):\n",
    "            return \"rmsprop\"\n",
    "\n",
    "        if( self.optimizer == \"adam\"):\n",
    "            return \"adam\"\n",
    "        if( self.optimizer == \"nadam\"):\n",
    "            return \"nadam\"\n",
    "\n",
    "    def update_parameters(self, weights, biases, dw, db, layers):\n",
    "        nlayer = len(layers)+1\n",
    "        if(self.optimizer == \"sgd\"):\n",
    "            for i in range(nlayer):\n",
    "                decay_wt = self.weight_decay*weights[i+1]\n",
    "                dw[i+1] = dw[i+1] + decay_wt\n",
    "                grad_b = self.learning_rate * db[i+1]\n",
    "                grad_w = self.learning_rate * dw[i+1]\n",
    "                biases[i+1] = biases[i+1] - grad_b # b_t = b_{t-1} - eta*(dL/db)\n",
    "                weights[i+1] = weights[i+1] - grad_w # w_t = w_{t-1} - eta*(dL/dw)\n",
    "            \n",
    "            return weights, biases\n",
    "\n",
    "        if( self.optimizer == \"momentum\" ):\n",
    "            \"\"\"\n",
    "            Function to perform the weight update step based on optimizer algorithm\n",
    "            \"\"\"\n",
    "\n",
    "            for i in range(nlayer):\n",
    "                \n",
    "                wt_decay = self.weight_decay*weights[i+1]\n",
    "                dw[i+1] = dw[i+1] + wt_decay\n",
    "                upd_bias = self.learning_rate*db[i+1]\n",
    "                upd_weight = self.learning_rate*dw[i+1]\n",
    "                self.update_history_b[i+1] =self.gamma*self.update_history_b[i+1] + upd_bias \n",
    "                self.update_history_w[i+1] =self.gamma*self.update_history_w[i+1] + upd_weight\n",
    "                biases[i+1] = biases[i+1] - self.update_history_b[i+1]\n",
    "                weights[i+1] = weights[i+1] - self.update_history_w[i+1]\n",
    "            \n",
    "            return weights, biases\n",
    "        \n",
    "        if( self.optimizer == \"nag\"):\n",
    "            \"\"\"\n",
    "            Function to perform the weight update step based on optimizer algorithm\n",
    "            \"\"\"\n",
    "            for i in range(nlayer):\n",
    "                \n",
    "                grad_db = self.learning_rate*db[i+1]\n",
    "                grad_dw = self.learning_rate*dw[i+1]\n",
    "                self.update_history_b[i+1] = self.gamma*self.update_history_b[i+1] \n",
    "                self.update_history_b[i+1] += grad_db\n",
    "                biases[i+1] = biases[i+1] - self.update_history_b[i+1]\n",
    "                self.update_history_w[i+1] = self.gamma*self.update_history_w[i+1] \n",
    "                self.update_history_w[i+1] += grad_dw\n",
    "                weights[i+1] = weights[i+1] - self.update_history_w[i+1]\n",
    "                \n",
    "\n",
    "            return weights, biases\n",
    "\n",
    "        if( self.optimizer == \"rmsprop\"):\n",
    "            for i in range(nlayer):\n",
    "                eps = self.epsilon\n",
    "                lr = self.learning_rate\n",
    "                wt_decay = self.weight_decay*weights[i+1]\n",
    "                dw[i+1] = dw[i+1] + wt_decay\n",
    "                \n",
    "                v_weight = self.gamma*self.v_w[i+1] \n",
    "                self.v_w[i+1] = v_weight + (1-self.gamma)* ((dw[i+1])**2)\n",
    "                \n",
    "                v_bias = self.gamma*self.v_b[i+1]\n",
    "                self.v_b[i+1] = v_bias + (1-self.gamma)* ((db[i+1])**2)\n",
    "                \n",
    "                biase_upd = ((lr)/np.sqrt(self.v_b[i+1] + eps))*db[i+1]\n",
    "                weight_upd = ((lr)/np.sqrt(self.v_w[i+1] + eps))*dw[i+1]\n",
    "\n",
    "                biases[i+1] = biases[i+1] - biase_upd\n",
    "                weights[i+1] = weights[i+1] - weight_upd\n",
    "            \n",
    "            return weights, biases\n",
    "\n",
    "        if( self.optimizer == \"adam\" or self.optimizer == \"nadam\"):\n",
    "            #Function to perform the weight update step based on optimizer algorithm\n",
    "           \n",
    "            for i in range(nlayer):\n",
    "                eps = self.epsilon\n",
    "                lr = self.learning_rate\n",
    "                upd_wt = self.weight_decay*weights[i+1]\n",
    "                dw[i+1] = dw[i+1] + upd_wt\n",
    "\n",
    "                m_bias = self.beta1*self.m_b[i+1] \n",
    "                self.m_b[i+1] = m_bias + (1-self.beta1)* (db[i+1])\n",
    "                m_weight = self.beta1*self.m_w[i+1] \n",
    "                self.m_w[i+1] = m_weight + (1-self.beta1)* (dw[i+1])\n",
    "                v_weight = self.beta2*self.v_w[i+1] \n",
    "                self.v_w[i+1] = v_weight + (1-self.beta2)* ((dw[i+1])**2)\n",
    "                v_bias = self.beta2*self.v_b[i+1] \n",
    "                self.v_b[i+1] = v_bias + (1-self.beta2)* ((db[i+1])**2)\n",
    "                \n",
    "                v_hat_div = (1-(self.beta2**self.iterations))\n",
    "                m_hat_div = (1-(self.beta1**self.iterations))\n",
    "                v_b_hat = self.v_b[i+1] / v_hat_div\n",
    "                m_b_hat = self.m_b[i+1] / m_hat_div\n",
    "                v_w_hat = self.v_w[i+1] / v_hat_div\n",
    "                m_w_hat = self.m_w[i+1] / m_hat_div\n",
    "                \n",
    "                if(self.optimizer == \"nadam\"):\n",
    "                    \n",
    "                    weight_upd = ((lr)/(np.sqrt(v_w_hat) + eps))*(self.beta1 * m_w_hat + (nadam_impl * dw[i+1]))\n",
    "                    weights[i+1] = weights[i+1] - weight_upd\n",
    "                    biases_upd = ((lr)/(np.sqrt(v_b_hat) + eps))*(self.beta1 * m_b_hat + (nadam_impl * db[i+1]))\n",
    "                    biases[i+1] = biases[i+1] - biases_upd\n",
    "                elif(self.optimizer == \"adam\"):\n",
    "                    weights_upd = ((lr)/(np.sqrt(v_w_hat) + eps))*(m_w_hat)\n",
    "                    biases_upd = ((lr)/(np.sqrt(v_b_hat) + eps))*(m_b_hat)\n",
    "                    \n",
    "                    weights[i+1] = weights[i+1] - weights_upd\n",
    "                    biases[i+1] = biases[i+1] - biases_upd\n",
    "                \n",
    "                nadam_impl = (1-self.beta1)/(1-(self.beta1**self.iterations))\n",
    "                \n",
    "            self.iterations = self.iterations + 1\n",
    "            \n",
    "            return weights, biases\n"
   ]
  },
  {
   "cell_type": "markdown",
   "id": "b48d8118",
   "metadata": {},
   "source": [
    "## Activation Function"
   ]
  },
  {
   "cell_type": "code",
   "execution_count": 22,
   "id": "ddbeae04",
   "metadata": {},
   "outputs": [],
   "source": [
    "class ActivationFunction():\n",
    "    def __init__(self, fun = \"sigmoid\"):\n",
    "        self.act_fun = fun\n",
    "\n",
    "    def compute_activation(self, X):\n",
    "\n",
    "        if(self.act_fun == \"sigmoid\"):\n",
    "            return 1.0/(1.0+np.exp(-X)) # sigmoid function\n",
    "        if(self.act_fun == \"softmax\"):\n",
    "            exponentials = np.exp(X) # softmax function\n",
    "            return exponentials / np.sum(exponentials)\n",
    "        if(self.act_fun == \"tanh\"):\n",
    "            return np.tanh(X) # tanh function\n",
    "        if(self.act_fun == \"relu\"):\n",
    "            return X * (X > 0) # relu function\n",
    "            \n",
    "    def compute_derivative(self, X):\n",
    "        if(self.act_fun == \"sigmoid\"):\n",
    "            val = self.compute_activation(X)\n",
    "            return val*(1-val)\n",
    "        if(self.act_fun == \"softmax\"):\n",
    "            softmax = self.compute_activation(X)\n",
    "            return softmax*(1-softmax)\n",
    "        if(self.act_fun == \"tanh\"):\n",
    "            return 1 - (np.tanh(X) ** 2)\n",
    "        if(self.act_fun == \"relu\"): \n",
    "            X[X > 0.0] = 1.0\n",
    "            X[X <= 0.0] = 0.0\n",
    "            return X"
   ]
  },
  {
   "cell_type": "markdown",
   "id": "943179e7",
   "metadata": {},
   "source": [
    "## Loss Function"
   ]
  },
  {
   "cell_type": "code",
   "execution_count": 23,
   "id": "4ba2acca",
   "metadata": {},
   "outputs": [],
   "source": [
    "class LossFunction():\n",
    "    def __init__(self, fun = \"cross_entropy\"):\n",
    "        self.loss_fun = fun\n",
    "    \n",
    "    def compute_loss(self, Y_true, Y_pred, batch_size):\n",
    "        ln = len(Y_true)\n",
    "        lss = 0\n",
    "        if(self.loss_fun == \"squared_loss\"):\n",
    "            return (1/2) * np.sum((Y_pred-Y_true)**2) / ln\n",
    "        \n",
    "        if(self.loss_fun == \"cross_entropy\"):\n",
    "            for p in Y_pred[0]:\n",
    "                if p < 10e-8  or np.isnan(p):\n",
    "                    p = 10e-8\n",
    "                    lss += 1\n",
    "            loss = np.multiply(Y_pred,Y_true)\n",
    "            loss = loss[loss != 0]\n",
    "            lss  = loss\n",
    "            loss = -np.log(loss)\n",
    "            loss = np.mean(loss)\n",
    "            return loss\n",
    "\n",
    "    def name(self):\n",
    "        if(self.loss_fun == \"squared_loss\"):\n",
    "            return \"squared_loss\" \n",
    "        \n",
    "        if(self.loss_fun == \"cross_entropy\"):\n",
    "            return \"cross_entropy_loss\"\n",
    "\n",
    "    def compute_derivative(self, Y_pred,Y_true):\n",
    "        \n",
    "        if(self.loss_fun == \"squared_loss\"):\n",
    "            return (Y_pred)*(Y_pred-Y_true)/len(Y_true)\n",
    "        \n",
    "        if(self.loss_fun == \"cross_entropy\"):\n",
    "            return -Y_true/(Y_pred)\n",
    "            \n",
    "\n",
    "    def last_output_derivative(self, Y_pred,Y_true,activation_derivative):\n",
    "        ln = len(Y_true)\n",
    "        lss = 0\n",
    "        for p in Y_pred[0]:\n",
    "                if (np.isnan(p) or p < 10e-8):\n",
    "                    lss += 1\n",
    "                    p = 10e-8\n",
    "        if(self.loss_fun == \"squared_loss\"):\n",
    "            return (Y_pred - Y_true)*activation_derivative / ln\n",
    "        \n",
    "        if(self.loss_fun == \"cross_entropy\"):\n",
    "            return -(Y_true - Y_pred)"
   ]
  },
  {
   "cell_type": "markdown",
   "id": "b2d7606a",
   "metadata": {},
   "source": [
    "## Testing Model"
   ]
  },
  {
   "cell_type": "code",
   "execution_count": 24,
   "id": "7bbfef27",
   "metadata": {},
   "outputs": [
    {
     "name": "stdout",
     "output_type": "stream",
     "text": [
      "Training Loss:  0.559 Val_loss: 0.455  Training Accuracy:  0.799 Val_accuracy: 0.835  <-:Epoch: 1\n",
      "Training Loss:  0.401 Val_loss: 0.416  Training Accuracy:  0.854 Val_accuracy: 0.848  <-:Epoch: 2\n",
      "Training Loss:  0.366 Val_loss: 0.399  Training Accuracy:  0.866 Val_accuracy: 0.855  <-:Epoch: 3\n",
      "Training Loss:  0.344 Val_loss: 0.388  Training Accuracy:  0.874 Val_accuracy: 0.858  <-:Epoch: 4\n",
      "Training Loss:  0.328 Val_loss: 0.38  Training Accuracy:  0.88 Val_accuracy: 0.863  <-:Epoch: 5\n",
      "Training Loss:  0.315 Val_loss: 0.373  Training Accuracy:  0.884 Val_accuracy: 0.866  <-:Epoch: 6\n",
      "Training Loss:  0.304 Val_loss: 0.369  Training Accuracy:  0.888 Val_accuracy: 0.867  <-:Epoch: 7\n",
      "Training Loss:  0.294 Val_loss: 0.365  Training Accuracy:  0.891 Val_accuracy: 0.868  <-:Epoch: 8\n",
      "Training Loss:  0.285 Val_loss: 0.363  Training Accuracy:  0.894 Val_accuracy: 0.87  <-:Epoch: 9\n",
      "Training Loss:  0.277 Val_loss: 0.363  Training Accuracy:  0.897 Val_accuracy: 0.87  <-:Epoch: 10\n"
     ]
    }
   ],
   "source": [
    "# Parameters Selection for Different Optimization Algorithm\n",
    "parameters_sgd = {\"learning_rate\":0.001, \"weight_decay\":0.5} #sgd\n",
    "parameters_momentum = {\"learning_rate\":0.0001, \"gamma\":0.6, \"weight_decay\":0} #momentum\n",
    "parameters_nag = {\"learning_rate\":0.001, \"gamma\":0.009} #nag\n",
    "parameters_rmsprop = {\"learning_rate\":0.01, \"gamma\":0.009, \"epsilon\":1e-8, \"weight_decay\":0.5} #rmsprop\n",
    "parameters_adam = {\"learning_rate\":0.0006, \"beta1\":0.09, \"beta2\":0.999, \"epsilon\":1e-8, \"weight_decay\":0.001} #adam\n",
    "parameters_nadam = {\"learning_rate\":0.0006, \"beta1\":0.09, \"beta2\":0.999, \"epsilon\":1e-8, \"weight_decay\":0.001} #nadam\n",
    "\n",
    "\n",
    "# \"sgd\" : gradient_descent, \"momentum\" : momentum_gd, \"nag\": nag , \"rmsprop\":  RMSProp, \"adam\": Adam \"nadam\": Nadam\n",
    "\n",
    "optimizer = Optimizer(\"adam\")\n",
    "optimizer.set_initial_parameters(parameters_adam)\n",
    "\n",
    "\n",
    "#  \"cross_entropy\" : Cross Entropy Loss Function,  \"squared_loss\" : Squared Error Loss Function\n",
    "loss_fun = LossFunction(\"cross_entropy\")\n",
    "\n",
    "#Select activation-function(hidden layers) pass below respective string to select any Activation Fuction Eg:\"tanh\" in ActivationFunction\n",
    "# \"sigmoid\": SigmoidFunction, \"softmax\": SoftmaxFunction, \"tanh\": TanhFunction, \"relu\":ReLUFunction\n",
    "act_fun_hidden = ActivationFunction(\"tanh\")\n",
    "\n",
    "#Select activation - function for output layer\n",
    "act_fun_output = ActivationFunction(\"softmax\")\n",
    "\n",
    "#Add layer sizes for the hidden layers\n",
    "layers = [32, 64, 128]\n",
    "\n",
    "model = FFNN(optimizer, layers, loss_fun, act_fun_hidden, act_fun_output, 64, 10, initialization = \"Xavier\")\n",
    "train_loss, val_loss, train_accuracy, val_accuracy = model.fit(x_train, y_OH_train, x_test, y_OH_test)\n"
   ]
  },
  {
   "cell_type": "code",
   "execution_count": 25,
   "id": "fd01c31b",
   "metadata": {},
   "outputs": [
    {
     "name": "stdout",
     "output_type": "stream",
     "text": [
      "Training accuracy 0.87\n",
      "Validation Loss: 0.363 Validation Accuracy: 0.87\n"
     ]
    }
   ],
   "source": [
    "#Accuracy for test data\n",
    "y_preds = model.predict(x_test)\n",
    "accuracy_train = accuracy_score(np.argmax(y_OH_test,1), np.argmax(y_preds,1))\n",
    "print(\"Training accuracy\", round(accuracy_train, 3))\n",
    "print(\"Validation Loss:\", round(val_loss,3), \"Validation Accuracy:\", round(val_accuracy,3))"
   ]
  },
  {
   "cell_type": "markdown",
   "id": "462165aa",
   "metadata": {},
   "source": [
    "## Question 4"
   ]
  },
  {
   "cell_type": "code",
   "execution_count": 26,
   "id": "1051bde7",
   "metadata": {},
   "outputs": [],
   "source": [
    "sweep_config = {\n",
    "    #RandomSearch over the hyperparameters\n",
    "    'method': 'random',\n",
    "    'metric': { 'goal': 'maximize','name': 'accuracy'},\n",
    "    \n",
    "    'parameters': {'activation': {'values': ['sigmoid' , 'tanh', 'relu']},\n",
    "                \n",
    "                    'batch_size':{'values':[16,32,64]},\n",
    "                    'optimizer': {'values': ['sgd', 'momentum', 'nag', 'rmsprop', 'adam', 'nadam']},\n",
    "                    'hidden_layers': {'values': [ [32,64],[32,64,128],[32,64,128,256]]},\n",
    "                    'epochs': {'values': [5,10]},\n",
    "                    'weight_decay': {'values': [0.0, 0.0005, 0.5]},\n",
    "                    'gamma': {'values': [0.03, 0.0006, 0.002]},\n",
    "                    'learning_rate': {'values': [0.0001, 0.005, 0.0006, 0.01, 0.0003, 0.0005]},\n",
    "                    'initialization':{'values': ['Xavier', 'Random']}\n",
    "                  }\n",
    "               }"
   ]
  },
  {
   "cell_type": "code",
   "execution_count": 27,
   "id": "a36d1a26",
   "metadata": {},
   "outputs": [],
   "source": [
    "def train():\n",
    "\n",
    "    var1 = wandb.init(project=\"CS6910_Assignment_1\", name=\"Question:4\")\n",
    "    var2 = var1.config\n",
    "\n",
    "    # var2 is a variable that holds and saves hyperparameters and inputs\n",
    "    wandb.run.name = 'optimizer:-' + var2.optimizer + ' epochs:-' + str(var2.epochs) + ' activation:-' + var2.activation + ' init:-' + var2.initialization + ' layers:-' + str(len(var2.hidden_layers)) +' decay:-' + str(var2.weight_decay) + ' gamma:-' + str(var2.gamma) + ' learning_rate:-' + str(var2.learning_rate) + ' batch_size:-' + str(var2.batch_size)\n",
    "\n",
    "    \n",
    "    loss_fun = LossFunction(\"cross_entropy\")\n",
    "    epochs = var2.epochs\n",
    "    weight_decay = var2.weight_decay\n",
    "    hidden_layers = var2.hidden_layers\n",
    "    gamma = var2.gamma\n",
    "    learning_rate = var2.learning_rate\n",
    "\n",
    "    if var2.activation==\"sigmoid\":\n",
    "        activation = ActivationFunction(\"sigmoid\")\n",
    "    if var2.activation==\"tanh\":\n",
    "        activation = ActivationFunction(\"tanh\")\n",
    "    if var2.activation==\"relu\":\n",
    "        activation = ActivationFunction(\"relu\")\n",
    "\n",
    "    output_activation = ActivationFunction(\"softmax\")\n",
    "\n",
    "\n",
    "    parameters_sgd = {\"learning_rate\": learning_rate, \"weight_decay\":weight_decay}\n",
    "    parameters_momentum = {\"learning_rate\": learning_rate, \"gamma\": gamma, \"weight_decay\":weight_decay}\n",
    "    parameters_nag = {\"learning_rate\": learning_rate, \"gamma\": gamma}\n",
    "    parameters_rmsprop = {\"learning_rate\": learning_rate, \"gamma\":gamma, \"epsilon\":1e-8, \"weight_decay\":weight_decay}\n",
    "    parameters_adam = {\"learning_rate\": learning_rate, \"beta1\":0.09, \"beta2\":0.999, \"epsilon\":1e-8, \"weight_decay\":weight_decay}\n",
    "    parameters_nadam = {\"learning_rate\": learning_rate, \"beta1\":0.09, \"beta2\":0.999, \"epsilon\":1e-8, \"weight_decay\":weight_decay}\n",
    "\n",
    "    if var2.optimizer==\"sgd\":\n",
    "        optimizer = Optimizer(\"sgd\")\n",
    "        optimizer.set_initial_parameters(parameters_sgd)\n",
    "\n",
    "    if var2.optimizer==\"momentum\":\n",
    "        #Select optimizer(momentum)\n",
    "        optimizer = Optimizer(\"momentum\")\n",
    "        optimizer.set_initial_parameters(parameters_momentum)\n",
    "\n",
    "    if var2.optimizer==\"nag\":\n",
    "        #Select optimizer(momentum)\n",
    "        optimizer = Optimizer(\"nag\")\n",
    "        optimizer.set_initial_parameters(parameters_nag)\n",
    "\n",
    "    if var2.optimizer==\"rmsprop\":\n",
    "        #Select optimizer(rmsprop)\n",
    "        optimizer = Optimizer(\"rmsprop\")\n",
    "        optimizer.set_initial_parameters(parameters_rmsprop)\n",
    "\n",
    "    if var2.optimizer==\"adam\":\n",
    "        #Select optimizer(adam)\n",
    "        optimizer = Optimizer(\"adam\")\n",
    "        optimizer.set_initial_parameters(parameters_adam)\n",
    "\n",
    "    if var2.optimizer==\"nadam\":\n",
    "        #Select optimizer(nadam)\n",
    "        optimizer = Optimizer(\"nadam\")\n",
    "        optimizer.set_initial_parameters(parameters_nadam)\n",
    "\n",
    "    if(var2.initialization == \"Random\"):\n",
    "        initn = \"Random\"\n",
    "    else:\n",
    "        initn = \"Xavier\"\n",
    "    \n",
    "    batch_size = var2.batch_size\n",
    "\n",
    "    #Model training \n",
    "    #Ensure that log=1 parameter is set for logging onto wandb\n",
    "    model = FFNN(optimizer, hidden_layers, loss_fun, activation, output_activation, batch_size, epochs, initn, log=1)\n",
    "\n",
    "    train_loss, val_loss, train_accuracy, val_accuracy = model.fit(x_train, y_OH_train, x_test, y_OH_test, console= 0)\n",
    "    print(\" Training Loss: \",train_loss, \" Validation Loss:\",val_loss ,\" Training Accuracy: \",train_accuracy, \" Validation Accuracy:\", val_accuracy)\n",
    "\n",
    "    #Log validation accuracy for this run\n",
    "    wandb.log({\"Accuracy\": val_accuracy})"
   ]
  },
  {
   "cell_type": "code",
   "execution_count": 28,
   "id": "73f9dd57",
   "metadata": {},
   "outputs": [
    {
     "name": "stdout",
     "output_type": "stream",
     "text": [
      "Create sweep with ID: cezmcy51\n",
      "Sweep URL: https://wandb.ai/cs22m083/CS6910_Assignment_1/sweeps/cezmcy51\n"
     ]
    }
   ],
   "source": [
    "sweep_id = wandb.sweep(sweep_config, project=\"CS6910_Assignment_1\")"
   ]
  },
  {
   "cell_type": "code",
   "execution_count": 29,
   "id": "9fe33634",
   "metadata": {},
   "outputs": [
    {
     "name": "stderr",
     "output_type": "stream",
     "text": [
      "\u001b[34m\u001b[1mwandb\u001b[0m: Agent Starting Run: sj6dy16w with config:\n",
      "\u001b[34m\u001b[1mwandb\u001b[0m: \tactivation: sigmoid\n",
      "\u001b[34m\u001b[1mwandb\u001b[0m: \tbatch_size: 16\n",
      "\u001b[34m\u001b[1mwandb\u001b[0m: \tepochs: 10\n",
      "\u001b[34m\u001b[1mwandb\u001b[0m: \tgamma: 0.03\n",
      "\u001b[34m\u001b[1mwandb\u001b[0m: \thidden_layers: [32, 64, 128]\n",
      "\u001b[34m\u001b[1mwandb\u001b[0m: \tinitialization: Random\n",
      "\u001b[34m\u001b[1mwandb\u001b[0m: \tlearning_rate: 0.005\n",
      "\u001b[34m\u001b[1mwandb\u001b[0m: \toptimizer: adam\n",
      "\u001b[34m\u001b[1mwandb\u001b[0m: \tweight_decay: 0\n",
      "Failed to detect the name of this notebook, you can set it manually with the WANDB_NOTEBOOK_NAME environment variable to enable code saving.\n",
      "\u001b[34m\u001b[1mwandb\u001b[0m: \u001b[33mWARNING\u001b[0m Ignored wandb.init() arg project when running a sweep.\n"
     ]
    },
    {
     "data": {
      "text/html": [
       "wandb version 0.14.0 is available!  To upgrade, please run:\n",
       " $ pip install wandb --upgrade"
      ],
      "text/plain": [
       "<IPython.core.display.HTML object>"
      ]
     },
     "metadata": {},
     "output_type": "display_data"
    },
    {
     "data": {
      "text/html": [
       "Tracking run with wandb version 0.13.10"
      ],
      "text/plain": [
       "<IPython.core.display.HTML object>"
      ]
     },
     "metadata": {},
     "output_type": "display_data"
    },
    {
     "data": {
      "text/html": [
       "Run data is saved locally in <code>C:\\Users\\Shivam Maurya\\OneDrive\\Desktop\\IIT_MADRAS\\Deep Learning\\assignment 1\\CS6910-Deep_Learning_Assignment-1\\wandb\\run-20230317_162050-sj6dy16w</code>"
      ],
      "text/plain": [
       "<IPython.core.display.HTML object>"
      ]
     },
     "metadata": {},
     "output_type": "display_data"
    },
    {
     "data": {
      "text/html": [
       "Syncing run <strong><a href='https://wandb.ai/cs22m083/CS6910_Assignment_1/runs/sj6dy16w' target=\"_blank\">Question:4</a></strong> to <a href='https://wandb.ai/cs22m083/CS6910_Assignment_1' target=\"_blank\">Weights & Biases</a> (<a href='https://wandb.me/run' target=\"_blank\">docs</a>)<br/>Sweep page: <a href='https://wandb.ai/cs22m083/CS6910_Assignment_1/sweeps/cezmcy51' target=\"_blank\">https://wandb.ai/cs22m083/CS6910_Assignment_1/sweeps/cezmcy51</a>"
      ],
      "text/plain": [
       "<IPython.core.display.HTML object>"
      ]
     },
     "metadata": {},
     "output_type": "display_data"
    },
    {
     "data": {
      "text/html": [
       " View project at <a href='https://wandb.ai/cs22m083/CS6910_Assignment_1' target=\"_blank\">https://wandb.ai/cs22m083/CS6910_Assignment_1</a>"
      ],
      "text/plain": [
       "<IPython.core.display.HTML object>"
      ]
     },
     "metadata": {},
     "output_type": "display_data"
    },
    {
     "data": {
      "text/html": [
       " View sweep at <a href='https://wandb.ai/cs22m083/CS6910_Assignment_1/sweeps/cezmcy51' target=\"_blank\">https://wandb.ai/cs22m083/CS6910_Assignment_1/sweeps/cezmcy51</a>"
      ],
      "text/plain": [
       "<IPython.core.display.HTML object>"
      ]
     },
     "metadata": {},
     "output_type": "display_data"
    },
    {
     "data": {
      "text/html": [
       " View run at <a href='https://wandb.ai/cs22m083/CS6910_Assignment_1/runs/sj6dy16w' target=\"_blank\">https://wandb.ai/cs22m083/CS6910_Assignment_1/runs/sj6dy16w</a>"
      ],
      "text/plain": [
       "<IPython.core.display.HTML object>"
      ]
     },
     "metadata": {},
     "output_type": "display_data"
    },
    {
     "name": "stdout",
     "output_type": "stream",
     "text": [
      " Training Loss:  0.39661467813921125  Validation Loss: 0.46765179867394874  Training Accuracy:  0.85935  Validation Accuracy: 0.8433\n"
     ]
    },
    {
     "data": {
      "text/html": [
       "Waiting for W&B process to finish... <strong style=\"color:green\">(success).</strong>"
      ],
      "text/plain": [
       "<IPython.core.display.HTML object>"
      ]
     },
     "metadata": {},
     "output_type": "display_data"
    },
    {
     "data": {
      "text/html": [
       "<style>\n",
       "    table.wandb td:nth-child(1) { padding: 0 10px; text-align: left ; width: auto;} td:nth-child(2) {text-align: left ; width: 100%}\n",
       "    .wandb-row { display: flex; flex-direction: row; flex-wrap: wrap; justify-content: flex-start; width: 100% }\n",
       "    .wandb-col { display: flex; flex-direction: column; flex-basis: 100%; flex: 1; padding: 10px; }\n",
       "    </style>\n",
       "<div class=\"wandb-row\"><div class=\"wandb-col\"><h3>Run history:</h3><br/><table class=\"wandb\"><tr><td>Accuracy</td><td>▁</td></tr><tr><td>Epoch</td><td>▁▂▃▃▄▅▆▆▇█</td></tr><tr><td>Training_accuracy</td><td>▁▅▆▇▇▇████</td></tr><tr><td>Training_loss</td><td>█▄▃▂▂▂▁▁▁▁</td></tr><tr><td>Validation_accuracy</td><td>▁▄▇▇▇▇█▇██</td></tr><tr><td>Validation_loss</td><td>█▄▂▃▁▂▁▂▁▁</td></tr></table><br/></div><div class=\"wandb-col\"><h3>Run summary:</h3><br/><table class=\"wandb\"><tr><td>Accuracy</td><td>0.8433</td></tr><tr><td>Epoch</td><td>10</td></tr><tr><td>Training_accuracy</td><td>0.85935</td></tr><tr><td>Training_loss</td><td>0.39661</td></tr><tr><td>Validation_accuracy</td><td>0.8433</td></tr><tr><td>Validation_loss</td><td>0.46765</td></tr></table><br/></div></div>"
      ],
      "text/plain": [
       "<IPython.core.display.HTML object>"
      ]
     },
     "metadata": {},
     "output_type": "display_data"
    },
    {
     "data": {
      "text/html": [
       " View run <strong style=\"color:#cdcd00\">Question:4</strong> at: <a href='https://wandb.ai/cs22m083/CS6910_Assignment_1/runs/sj6dy16w' target=\"_blank\">https://wandb.ai/cs22m083/CS6910_Assignment_1/runs/sj6dy16w</a><br/>Synced 6 W&B file(s), 0 media file(s), 0 artifact file(s) and 0 other file(s)"
      ],
      "text/plain": [
       "<IPython.core.display.HTML object>"
      ]
     },
     "metadata": {},
     "output_type": "display_data"
    },
    {
     "data": {
      "text/html": [
       "Find logs at: <code>.\\wandb\\run-20230317_162050-sj6dy16w\\logs</code>"
      ],
      "text/plain": [
       "<IPython.core.display.HTML object>"
      ]
     },
     "metadata": {},
     "output_type": "display_data"
    },
    {
     "name": "stderr",
     "output_type": "stream",
     "text": [
      "\u001b[34m\u001b[1mwandb\u001b[0m: Agent Starting Run: gqs15yyz with config:\n",
      "\u001b[34m\u001b[1mwandb\u001b[0m: \tactivation: sigmoid\n",
      "\u001b[34m\u001b[1mwandb\u001b[0m: \tbatch_size: 16\n",
      "\u001b[34m\u001b[1mwandb\u001b[0m: \tepochs: 10\n",
      "\u001b[34m\u001b[1mwandb\u001b[0m: \tgamma: 0.0006\n",
      "\u001b[34m\u001b[1mwandb\u001b[0m: \thidden_layers: [32, 64, 128, 256]\n",
      "\u001b[34m\u001b[1mwandb\u001b[0m: \tinitialization: Random\n",
      "\u001b[34m\u001b[1mwandb\u001b[0m: \tlearning_rate: 0.005\n",
      "\u001b[34m\u001b[1mwandb\u001b[0m: \toptimizer: adam\n",
      "\u001b[34m\u001b[1mwandb\u001b[0m: \tweight_decay: 0\n",
      "Failed to detect the name of this notebook, you can set it manually with the WANDB_NOTEBOOK_NAME environment variable to enable code saving.\n",
      "\u001b[34m\u001b[1mwandb\u001b[0m: \u001b[33mWARNING\u001b[0m Ignored wandb.init() arg project when running a sweep.\n"
     ]
    },
    {
     "data": {
      "text/html": [
       "wandb version 0.14.0 is available!  To upgrade, please run:\n",
       " $ pip install wandb --upgrade"
      ],
      "text/plain": [
       "<IPython.core.display.HTML object>"
      ]
     },
     "metadata": {},
     "output_type": "display_data"
    },
    {
     "data": {
      "text/html": [
       "Tracking run with wandb version 0.13.10"
      ],
      "text/plain": [
       "<IPython.core.display.HTML object>"
      ]
     },
     "metadata": {},
     "output_type": "display_data"
    },
    {
     "data": {
      "text/html": [
       "Run data is saved locally in <code>C:\\Users\\Shivam Maurya\\OneDrive\\Desktop\\IIT_MADRAS\\Deep Learning\\assignment 1\\CS6910-Deep_Learning_Assignment-1\\wandb\\run-20230317_162436-gqs15yyz</code>"
      ],
      "text/plain": [
       "<IPython.core.display.HTML object>"
      ]
     },
     "metadata": {},
     "output_type": "display_data"
    },
    {
     "data": {
      "text/html": [
       "Syncing run <strong><a href='https://wandb.ai/cs22m083/CS6910_Assignment_1/runs/gqs15yyz' target=\"_blank\">Question:4</a></strong> to <a href='https://wandb.ai/cs22m083/CS6910_Assignment_1' target=\"_blank\">Weights & Biases</a> (<a href='https://wandb.me/run' target=\"_blank\">docs</a>)<br/>Sweep page: <a href='https://wandb.ai/cs22m083/CS6910_Assignment_1/sweeps/cezmcy51' target=\"_blank\">https://wandb.ai/cs22m083/CS6910_Assignment_1/sweeps/cezmcy51</a>"
      ],
      "text/plain": [
       "<IPython.core.display.HTML object>"
      ]
     },
     "metadata": {},
     "output_type": "display_data"
    },
    {
     "data": {
      "text/html": [
       " View project at <a href='https://wandb.ai/cs22m083/CS6910_Assignment_1' target=\"_blank\">https://wandb.ai/cs22m083/CS6910_Assignment_1</a>"
      ],
      "text/plain": [
       "<IPython.core.display.HTML object>"
      ]
     },
     "metadata": {},
     "output_type": "display_data"
    },
    {
     "data": {
      "text/html": [
       " View sweep at <a href='https://wandb.ai/cs22m083/CS6910_Assignment_1/sweeps/cezmcy51' target=\"_blank\">https://wandb.ai/cs22m083/CS6910_Assignment_1/sweeps/cezmcy51</a>"
      ],
      "text/plain": [
       "<IPython.core.display.HTML object>"
      ]
     },
     "metadata": {},
     "output_type": "display_data"
    },
    {
     "data": {
      "text/html": [
       " View run at <a href='https://wandb.ai/cs22m083/CS6910_Assignment_1/runs/gqs15yyz' target=\"_blank\">https://wandb.ai/cs22m083/CS6910_Assignment_1/runs/gqs15yyz</a>"
      ],
      "text/plain": [
       "<IPython.core.display.HTML object>"
      ]
     },
     "metadata": {},
     "output_type": "display_data"
    },
    {
     "name": "stdout",
     "output_type": "stream",
     "text": [
      " Training Loss:  0.48819665589748645  Validation Loss: 0.5078990443179041  Training Accuracy:  0.8338666666666666  Validation Accuracy: 0.827\n"
     ]
    },
    {
     "data": {
      "text/html": [
       "Waiting for W&B process to finish... <strong style=\"color:green\">(success).</strong>"
      ],
      "text/plain": [
       "<IPython.core.display.HTML object>"
      ]
     },
     "metadata": {},
     "output_type": "display_data"
    },
    {
     "data": {
      "application/vnd.jupyter.widget-view+json": {
       "model_id": "b90d53caded0472a91e9a0f9656bf7e4",
       "version_major": 2,
       "version_minor": 0
      },
      "text/plain": [
       "VBox(children=(Label(value='0.001 MB of 0.001 MB uploaded (0.000 MB deduped)\\r'), FloatProgress(value=1.0, max…"
      ]
     },
     "metadata": {},
     "output_type": "display_data"
    },
    {
     "data": {
      "text/html": [
       "<style>\n",
       "    table.wandb td:nth-child(1) { padding: 0 10px; text-align: left ; width: auto;} td:nth-child(2) {text-align: left ; width: 100%}\n",
       "    .wandb-row { display: flex; flex-direction: row; flex-wrap: wrap; justify-content: flex-start; width: 100% }\n",
       "    .wandb-col { display: flex; flex-direction: column; flex-basis: 100%; flex: 1; padding: 10px; }\n",
       "    </style>\n",
       "<div class=\"wandb-row\"><div class=\"wandb-col\"><h3>Run history:</h3><br/><table class=\"wandb\"><tr><td>Accuracy</td><td>▁</td></tr><tr><td>Epoch</td><td>▁▂▃▃▄▅▆▆▇█</td></tr><tr><td>Training_accuracy</td><td>▁▅▆▆▇▇████</td></tr><tr><td>Training_loss</td><td>█▄▃▂▂▂▂▁▁▁</td></tr><tr><td>Validation_accuracy</td><td>▂▁▄▇▆▅█▇▇█</td></tr><tr><td>Validation_loss</td><td>██▅▃▃▅▂▃▂▁</td></tr></table><br/></div><div class=\"wandb-col\"><h3>Run summary:</h3><br/><table class=\"wandb\"><tr><td>Accuracy</td><td>0.827</td></tr><tr><td>Epoch</td><td>10</td></tr><tr><td>Training_accuracy</td><td>0.83387</td></tr><tr><td>Training_loss</td><td>0.4882</td></tr><tr><td>Validation_accuracy</td><td>0.827</td></tr><tr><td>Validation_loss</td><td>0.5079</td></tr></table><br/></div></div>"
      ],
      "text/plain": [
       "<IPython.core.display.HTML object>"
      ]
     },
     "metadata": {},
     "output_type": "display_data"
    },
    {
     "data": {
      "text/html": [
       " View run <strong style=\"color:#cdcd00\">Question:4</strong> at: <a href='https://wandb.ai/cs22m083/CS6910_Assignment_1/runs/gqs15yyz' target=\"_blank\">https://wandb.ai/cs22m083/CS6910_Assignment_1/runs/gqs15yyz</a><br/>Synced 6 W&B file(s), 0 media file(s), 0 artifact file(s) and 0 other file(s)"
      ],
      "text/plain": [
       "<IPython.core.display.HTML object>"
      ]
     },
     "metadata": {},
     "output_type": "display_data"
    },
    {
     "data": {
      "text/html": [
       "Find logs at: <code>.\\wandb\\run-20230317_162436-gqs15yyz\\logs</code>"
      ],
      "text/plain": [
       "<IPython.core.display.HTML object>"
      ]
     },
     "metadata": {},
     "output_type": "display_data"
    },
    {
     "name": "stderr",
     "output_type": "stream",
     "text": [
      "\u001b[34m\u001b[1mwandb\u001b[0m: Sweep Agent: Waiting for job.\n",
      "\u001b[34m\u001b[1mwandb\u001b[0m: Job received.\n",
      "\u001b[34m\u001b[1mwandb\u001b[0m: Agent Starting Run: zckg9bk8 with config:\n",
      "\u001b[34m\u001b[1mwandb\u001b[0m: \tactivation: relu\n",
      "\u001b[34m\u001b[1mwandb\u001b[0m: \tbatch_size: 32\n",
      "\u001b[34m\u001b[1mwandb\u001b[0m: \tepochs: 5\n",
      "\u001b[34m\u001b[1mwandb\u001b[0m: \tgamma: 0.0006\n",
      "\u001b[34m\u001b[1mwandb\u001b[0m: \thidden_layers: [32, 64, 128, 256]\n",
      "\u001b[34m\u001b[1mwandb\u001b[0m: \tinitialization: Xavier\n",
      "\u001b[34m\u001b[1mwandb\u001b[0m: \tlearning_rate: 0.005\n",
      "\u001b[34m\u001b[1mwandb\u001b[0m: \toptimizer: sgd\n",
      "\u001b[34m\u001b[1mwandb\u001b[0m: \tweight_decay: 0.0005\n",
      "Failed to detect the name of this notebook, you can set it manually with the WANDB_NOTEBOOK_NAME environment variable to enable code saving.\n",
      "\u001b[34m\u001b[1mwandb\u001b[0m: \u001b[33mWARNING\u001b[0m Ignored wandb.init() arg project when running a sweep.\n"
     ]
    },
    {
     "data": {
      "text/html": [
       "wandb version 0.14.0 is available!  To upgrade, please run:\n",
       " $ pip install wandb --upgrade"
      ],
      "text/plain": [
       "<IPython.core.display.HTML object>"
      ]
     },
     "metadata": {},
     "output_type": "display_data"
    },
    {
     "data": {
      "text/html": [
       "Tracking run with wandb version 0.13.10"
      ],
      "text/plain": [
       "<IPython.core.display.HTML object>"
      ]
     },
     "metadata": {},
     "output_type": "display_data"
    },
    {
     "data": {
      "text/html": [
       "Run data is saved locally in <code>C:\\Users\\Shivam Maurya\\OneDrive\\Desktop\\IIT_MADRAS\\Deep Learning\\assignment 1\\CS6910-Deep_Learning_Assignment-1\\wandb\\run-20230317_163033-zckg9bk8</code>"
      ],
      "text/plain": [
       "<IPython.core.display.HTML object>"
      ]
     },
     "metadata": {},
     "output_type": "display_data"
    },
    {
     "data": {
      "text/html": [
       "Syncing run <strong><a href='https://wandb.ai/cs22m083/CS6910_Assignment_1/runs/zckg9bk8' target=\"_blank\">Question:4</a></strong> to <a href='https://wandb.ai/cs22m083/CS6910_Assignment_1' target=\"_blank\">Weights & Biases</a> (<a href='https://wandb.me/run' target=\"_blank\">docs</a>)<br/>Sweep page: <a href='https://wandb.ai/cs22m083/CS6910_Assignment_1/sweeps/cezmcy51' target=\"_blank\">https://wandb.ai/cs22m083/CS6910_Assignment_1/sweeps/cezmcy51</a>"
      ],
      "text/plain": [
       "<IPython.core.display.HTML object>"
      ]
     },
     "metadata": {},
     "output_type": "display_data"
    },
    {
     "data": {
      "text/html": [
       " View project at <a href='https://wandb.ai/cs22m083/CS6910_Assignment_1' target=\"_blank\">https://wandb.ai/cs22m083/CS6910_Assignment_1</a>"
      ],
      "text/plain": [
       "<IPython.core.display.HTML object>"
      ]
     },
     "metadata": {},
     "output_type": "display_data"
    },
    {
     "data": {
      "text/html": [
       " View sweep at <a href='https://wandb.ai/cs22m083/CS6910_Assignment_1/sweeps/cezmcy51' target=\"_blank\">https://wandb.ai/cs22m083/CS6910_Assignment_1/sweeps/cezmcy51</a>"
      ],
      "text/plain": [
       "<IPython.core.display.HTML object>"
      ]
     },
     "metadata": {},
     "output_type": "display_data"
    },
    {
     "data": {
      "text/html": [
       " View run at <a href='https://wandb.ai/cs22m083/CS6910_Assignment_1/runs/zckg9bk8' target=\"_blank\">https://wandb.ai/cs22m083/CS6910_Assignment_1/runs/zckg9bk8</a>"
      ],
      "text/plain": [
       "<IPython.core.display.HTML object>"
      ]
     },
     "metadata": {},
     "output_type": "display_data"
    },
    {
     "name": "stdout",
     "output_type": "stream",
     "text": [
      " Training Loss:  0.3481033596036321  Validation Loss: 0.3971345538448674  Training Accuracy:  0.8716833333333334  Validation Accuracy: 0.8544\n"
     ]
    },
    {
     "data": {
      "text/html": [
       "Waiting for W&B process to finish... <strong style=\"color:green\">(success).</strong>"
      ],
      "text/plain": [
       "<IPython.core.display.HTML object>"
      ]
     },
     "metadata": {},
     "output_type": "display_data"
    },
    {
     "data": {
      "text/html": [
       "<style>\n",
       "    table.wandb td:nth-child(1) { padding: 0 10px; text-align: left ; width: auto;} td:nth-child(2) {text-align: left ; width: 100%}\n",
       "    .wandb-row { display: flex; flex-direction: row; flex-wrap: wrap; justify-content: flex-start; width: 100% }\n",
       "    .wandb-col { display: flex; flex-direction: column; flex-basis: 100%; flex: 1; padding: 10px; }\n",
       "    </style>\n",
       "<div class=\"wandb-row\"><div class=\"wandb-col\"><h3>Run history:</h3><br/><table class=\"wandb\"><tr><td>Accuracy</td><td>▁</td></tr><tr><td>Epoch</td><td>▁▃▅▆█</td></tr><tr><td>Training_accuracy</td><td>▁▆▇██</td></tr><tr><td>Training_loss</td><td>█▃▂▁▁</td></tr><tr><td>Validation_accuracy</td><td>▁▄▇▇█</td></tr><tr><td>Validation_loss</td><td>█▅▂▂▁</td></tr></table><br/></div><div class=\"wandb-col\"><h3>Run summary:</h3><br/><table class=\"wandb\"><tr><td>Accuracy</td><td>0.8544</td></tr><tr><td>Epoch</td><td>5</td></tr><tr><td>Training_accuracy</td><td>0.87168</td></tr><tr><td>Training_loss</td><td>0.3481</td></tr><tr><td>Validation_accuracy</td><td>0.8544</td></tr><tr><td>Validation_loss</td><td>0.39713</td></tr></table><br/></div></div>"
      ],
      "text/plain": [
       "<IPython.core.display.HTML object>"
      ]
     },
     "metadata": {},
     "output_type": "display_data"
    },
    {
     "data": {
      "text/html": [
       " View run <strong style=\"color:#cdcd00\">Question:4</strong> at: <a href='https://wandb.ai/cs22m083/CS6910_Assignment_1/runs/zckg9bk8' target=\"_blank\">https://wandb.ai/cs22m083/CS6910_Assignment_1/runs/zckg9bk8</a><br/>Synced 6 W&B file(s), 0 media file(s), 0 artifact file(s) and 0 other file(s)"
      ],
      "text/plain": [
       "<IPython.core.display.HTML object>"
      ]
     },
     "metadata": {},
     "output_type": "display_data"
    },
    {
     "data": {
      "text/html": [
       "Find logs at: <code>.\\wandb\\run-20230317_163033-zckg9bk8\\logs</code>"
      ],
      "text/plain": [
       "<IPython.core.display.HTML object>"
      ]
     },
     "metadata": {},
     "output_type": "display_data"
    },
    {
     "name": "stderr",
     "output_type": "stream",
     "text": [
      "\u001b[34m\u001b[1mwandb\u001b[0m: Agent Starting Run: ye4u40i2 with config:\n",
      "\u001b[34m\u001b[1mwandb\u001b[0m: \tactivation: sigmoid\n",
      "\u001b[34m\u001b[1mwandb\u001b[0m: \tbatch_size: 16\n",
      "\u001b[34m\u001b[1mwandb\u001b[0m: \tepochs: 10\n",
      "\u001b[34m\u001b[1mwandb\u001b[0m: \tgamma: 0.002\n",
      "\u001b[34m\u001b[1mwandb\u001b[0m: \thidden_layers: [32, 64, 128, 256]\n",
      "\u001b[34m\u001b[1mwandb\u001b[0m: \tinitialization: Random\n",
      "\u001b[34m\u001b[1mwandb\u001b[0m: \tlearning_rate: 0.0003\n",
      "\u001b[34m\u001b[1mwandb\u001b[0m: \toptimizer: nag\n",
      "\u001b[34m\u001b[1mwandb\u001b[0m: \tweight_decay: 0.0005\n",
      "Failed to detect the name of this notebook, you can set it manually with the WANDB_NOTEBOOK_NAME environment variable to enable code saving.\n",
      "\u001b[34m\u001b[1mwandb\u001b[0m: \u001b[33mWARNING\u001b[0m Ignored wandb.init() arg project when running a sweep.\n"
     ]
    },
    {
     "data": {
      "text/html": [
       "wandb version 0.14.0 is available!  To upgrade, please run:\n",
       " $ pip install wandb --upgrade"
      ],
      "text/plain": [
       "<IPython.core.display.HTML object>"
      ]
     },
     "metadata": {},
     "output_type": "display_data"
    },
    {
     "data": {
      "text/html": [
       "Tracking run with wandb version 0.13.10"
      ],
      "text/plain": [
       "<IPython.core.display.HTML object>"
      ]
     },
     "metadata": {},
     "output_type": "display_data"
    },
    {
     "data": {
      "text/html": [
       "Run data is saved locally in <code>C:\\Users\\Shivam Maurya\\OneDrive\\Desktop\\IIT_MADRAS\\Deep Learning\\assignment 1\\CS6910-Deep_Learning_Assignment-1\\wandb\\run-20230317_163319-ye4u40i2</code>"
      ],
      "text/plain": [
       "<IPython.core.display.HTML object>"
      ]
     },
     "metadata": {},
     "output_type": "display_data"
    },
    {
     "data": {
      "text/html": [
       "Syncing run <strong><a href='https://wandb.ai/cs22m083/CS6910_Assignment_1/runs/ye4u40i2' target=\"_blank\">Question:4</a></strong> to <a href='https://wandb.ai/cs22m083/CS6910_Assignment_1' target=\"_blank\">Weights & Biases</a> (<a href='https://wandb.me/run' target=\"_blank\">docs</a>)<br/>Sweep page: <a href='https://wandb.ai/cs22m083/CS6910_Assignment_1/sweeps/cezmcy51' target=\"_blank\">https://wandb.ai/cs22m083/CS6910_Assignment_1/sweeps/cezmcy51</a>"
      ],
      "text/plain": [
       "<IPython.core.display.HTML object>"
      ]
     },
     "metadata": {},
     "output_type": "display_data"
    },
    {
     "data": {
      "text/html": [
       " View project at <a href='https://wandb.ai/cs22m083/CS6910_Assignment_1' target=\"_blank\">https://wandb.ai/cs22m083/CS6910_Assignment_1</a>"
      ],
      "text/plain": [
       "<IPython.core.display.HTML object>"
      ]
     },
     "metadata": {},
     "output_type": "display_data"
    },
    {
     "data": {
      "text/html": [
       " View sweep at <a href='https://wandb.ai/cs22m083/CS6910_Assignment_1/sweeps/cezmcy51' target=\"_blank\">https://wandb.ai/cs22m083/CS6910_Assignment_1/sweeps/cezmcy51</a>"
      ],
      "text/plain": [
       "<IPython.core.display.HTML object>"
      ]
     },
     "metadata": {},
     "output_type": "display_data"
    },
    {
     "data": {
      "text/html": [
       " View run at <a href='https://wandb.ai/cs22m083/CS6910_Assignment_1/runs/ye4u40i2' target=\"_blank\">https://wandb.ai/cs22m083/CS6910_Assignment_1/runs/ye4u40i2</a>"
      ],
      "text/plain": [
       "<IPython.core.display.HTML object>"
      ]
     },
     "metadata": {},
     "output_type": "display_data"
    },
    {
     "name": "stdout",
     "output_type": "stream",
     "text": [
      " Training Loss:  1.1895461612560456  Validation Loss: 1.194681937708019  Training Accuracy:  0.58155  Validation Accuracy: 0.5773\n"
     ]
    },
    {
     "data": {
      "text/html": [
       "Waiting for W&B process to finish... <strong style=\"color:green\">(success).</strong>"
      ],
      "text/plain": [
       "<IPython.core.display.HTML object>"
      ]
     },
     "metadata": {},
     "output_type": "display_data"
    },
    {
     "data": {
      "text/html": [
       "<style>\n",
       "    table.wandb td:nth-child(1) { padding: 0 10px; text-align: left ; width: auto;} td:nth-child(2) {text-align: left ; width: 100%}\n",
       "    .wandb-row { display: flex; flex-direction: row; flex-wrap: wrap; justify-content: flex-start; width: 100% }\n",
       "    .wandb-col { display: flex; flex-direction: column; flex-basis: 100%; flex: 1; padding: 10px; }\n",
       "    </style>\n",
       "<div class=\"wandb-row\"><div class=\"wandb-col\"><h3>Run history:</h3><br/><table class=\"wandb\"><tr><td>Accuracy</td><td>▁</td></tr><tr><td>Epoch</td><td>▁▂▃▃▄▅▆▆▇█</td></tr><tr><td>Training_accuracy</td><td>▁▄▅▆▇▇████</td></tr><tr><td>Training_loss</td><td>█▃▂▂▁▁▁▁▁▁</td></tr><tr><td>Validation_accuracy</td><td>▁▄▅▆▇▇▇███</td></tr><tr><td>Validation_loss</td><td>█▅▄▃▂▂▂▁▁▁</td></tr></table><br/></div><div class=\"wandb-col\"><h3>Run summary:</h3><br/><table class=\"wandb\"><tr><td>Accuracy</td><td>0.5773</td></tr><tr><td>Epoch</td><td>10</td></tr><tr><td>Training_accuracy</td><td>0.58155</td></tr><tr><td>Training_loss</td><td>1.18955</td></tr><tr><td>Validation_accuracy</td><td>0.5773</td></tr><tr><td>Validation_loss</td><td>1.19468</td></tr></table><br/></div></div>"
      ],
      "text/plain": [
       "<IPython.core.display.HTML object>"
      ]
     },
     "metadata": {},
     "output_type": "display_data"
    },
    {
     "data": {
      "text/html": [
       " View run <strong style=\"color:#cdcd00\">Question:4</strong> at: <a href='https://wandb.ai/cs22m083/CS6910_Assignment_1/runs/ye4u40i2' target=\"_blank\">https://wandb.ai/cs22m083/CS6910_Assignment_1/runs/ye4u40i2</a><br/>Synced 6 W&B file(s), 0 media file(s), 0 artifact file(s) and 0 other file(s)"
      ],
      "text/plain": [
       "<IPython.core.display.HTML object>"
      ]
     },
     "metadata": {},
     "output_type": "display_data"
    },
    {
     "data": {
      "text/html": [
       "Find logs at: <code>.\\wandb\\run-20230317_163319-ye4u40i2\\logs</code>"
      ],
      "text/plain": [
       "<IPython.core.display.HTML object>"
      ]
     },
     "metadata": {},
     "output_type": "display_data"
    },
    {
     "name": "stderr",
     "output_type": "stream",
     "text": [
      "\u001b[34m\u001b[1mwandb\u001b[0m: Agent Starting Run: guol6lz3 with config:\n",
      "\u001b[34m\u001b[1mwandb\u001b[0m: \tactivation: tanh\n",
      "\u001b[34m\u001b[1mwandb\u001b[0m: \tbatch_size: 64\n",
      "\u001b[34m\u001b[1mwandb\u001b[0m: \tepochs: 5\n",
      "\u001b[34m\u001b[1mwandb\u001b[0m: \tgamma: 0.03\n",
      "\u001b[34m\u001b[1mwandb\u001b[0m: \thidden_layers: [32, 64]\n",
      "\u001b[34m\u001b[1mwandb\u001b[0m: \tinitialization: Xavier\n",
      "\u001b[34m\u001b[1mwandb\u001b[0m: \tlearning_rate: 0.01\n",
      "\u001b[34m\u001b[1mwandb\u001b[0m: \toptimizer: nadam\n",
      "\u001b[34m\u001b[1mwandb\u001b[0m: \tweight_decay: 0.0005\n",
      "Failed to detect the name of this notebook, you can set it manually with the WANDB_NOTEBOOK_NAME environment variable to enable code saving.\n",
      "\u001b[34m\u001b[1mwandb\u001b[0m: \u001b[33mWARNING\u001b[0m Ignored wandb.init() arg project when running a sweep.\n"
     ]
    },
    {
     "data": {
      "text/html": [
       "wandb version 0.14.0 is available!  To upgrade, please run:\n",
       " $ pip install wandb --upgrade"
      ],
      "text/plain": [
       "<IPython.core.display.HTML object>"
      ]
     },
     "metadata": {},
     "output_type": "display_data"
    },
    {
     "data": {
      "text/html": [
       "Tracking run with wandb version 0.13.10"
      ],
      "text/plain": [
       "<IPython.core.display.HTML object>"
      ]
     },
     "metadata": {},
     "output_type": "display_data"
    },
    {
     "data": {
      "text/html": [
       "Run data is saved locally in <code>C:\\Users\\Shivam Maurya\\OneDrive\\Desktop\\IIT_MADRAS\\Deep Learning\\assignment 1\\CS6910-Deep_Learning_Assignment-1\\wandb\\run-20230317_163937-guol6lz3</code>"
      ],
      "text/plain": [
       "<IPython.core.display.HTML object>"
      ]
     },
     "metadata": {},
     "output_type": "display_data"
    },
    {
     "data": {
      "text/html": [
       "Syncing run <strong><a href='https://wandb.ai/cs22m083/CS6910_Assignment_1/runs/guol6lz3' target=\"_blank\">Question:4</a></strong> to <a href='https://wandb.ai/cs22m083/CS6910_Assignment_1' target=\"_blank\">Weights & Biases</a> (<a href='https://wandb.me/run' target=\"_blank\">docs</a>)<br/>Sweep page: <a href='https://wandb.ai/cs22m083/CS6910_Assignment_1/sweeps/cezmcy51' target=\"_blank\">https://wandb.ai/cs22m083/CS6910_Assignment_1/sweeps/cezmcy51</a>"
      ],
      "text/plain": [
       "<IPython.core.display.HTML object>"
      ]
     },
     "metadata": {},
     "output_type": "display_data"
    },
    {
     "data": {
      "text/html": [
       " View project at <a href='https://wandb.ai/cs22m083/CS6910_Assignment_1' target=\"_blank\">https://wandb.ai/cs22m083/CS6910_Assignment_1</a>"
      ],
      "text/plain": [
       "<IPython.core.display.HTML object>"
      ]
     },
     "metadata": {},
     "output_type": "display_data"
    },
    {
     "data": {
      "text/html": [
       " View sweep at <a href='https://wandb.ai/cs22m083/CS6910_Assignment_1/sweeps/cezmcy51' target=\"_blank\">https://wandb.ai/cs22m083/CS6910_Assignment_1/sweeps/cezmcy51</a>"
      ],
      "text/plain": [
       "<IPython.core.display.HTML object>"
      ]
     },
     "metadata": {},
     "output_type": "display_data"
    },
    {
     "data": {
      "text/html": [
       " View run at <a href='https://wandb.ai/cs22m083/CS6910_Assignment_1/runs/guol6lz3' target=\"_blank\">https://wandb.ai/cs22m083/CS6910_Assignment_1/runs/guol6lz3</a>"
      ],
      "text/plain": [
       "<IPython.core.display.HTML object>"
      ]
     },
     "metadata": {},
     "output_type": "display_data"
    },
    {
     "data": {
      "text/html": [
       "Waiting for W&B process to finish... <strong style=\"color:red\">(failed 1).</strong> Press Ctrl-C to abort syncing."
      ],
      "text/plain": [
       "<IPython.core.display.HTML object>"
      ]
     },
     "metadata": {},
     "output_type": "display_data"
    },
    {
     "data": {
      "application/vnd.jupyter.widget-view+json": {
       "model_id": "17bb6f42b0304079b183ecbb980ab4f8",
       "version_major": 2,
       "version_minor": 0
      },
      "text/plain": [
       "VBox(children=(Label(value='0.001 MB of 0.022 MB uploaded (0.000 MB deduped)\\r'), FloatProgress(value=0.051430…"
      ]
     },
     "metadata": {},
     "output_type": "display_data"
    },
    {
     "data": {
      "text/html": [
       " View run <strong style=\"color:#cdcd00\">Question:4</strong> at: <a href='https://wandb.ai/cs22m083/CS6910_Assignment_1/runs/guol6lz3' target=\"_blank\">https://wandb.ai/cs22m083/CS6910_Assignment_1/runs/guol6lz3</a><br/>Synced 5 W&B file(s), 0 media file(s), 0 artifact file(s) and 0 other file(s)"
      ],
      "text/plain": [
       "<IPython.core.display.HTML object>"
      ]
     },
     "metadata": {},
     "output_type": "display_data"
    },
    {
     "data": {
      "text/html": [
       "Find logs at: <code>.\\wandb\\run-20230317_163937-guol6lz3\\logs</code>"
      ],
      "text/plain": [
       "<IPython.core.display.HTML object>"
      ]
     },
     "metadata": {},
     "output_type": "display_data"
    },
    {
     "name": "stderr",
     "output_type": "stream",
     "text": [
      "Run guol6lz3 errored: UnboundLocalError(\"local variable 'nadam_impl' referenced before assignment\")\n",
      "\u001b[34m\u001b[1mwandb\u001b[0m: \u001b[32m\u001b[41mERROR\u001b[0m Run guol6lz3 errored: UnboundLocalError(\"local variable 'nadam_impl' referenced before assignment\")\n",
      "\u001b[34m\u001b[1mwandb\u001b[0m: Agent Starting Run: u5w3rxx7 with config:\n",
      "\u001b[34m\u001b[1mwandb\u001b[0m: \tactivation: relu\n",
      "\u001b[34m\u001b[1mwandb\u001b[0m: \tbatch_size: 16\n",
      "\u001b[34m\u001b[1mwandb\u001b[0m: \tepochs: 10\n",
      "\u001b[34m\u001b[1mwandb\u001b[0m: \tgamma: 0.03\n",
      "\u001b[34m\u001b[1mwandb\u001b[0m: \thidden_layers: [32, 64, 128, 256]\n",
      "\u001b[34m\u001b[1mwandb\u001b[0m: \tinitialization: Xavier\n",
      "\u001b[34m\u001b[1mwandb\u001b[0m: \tlearning_rate: 0.0001\n",
      "\u001b[34m\u001b[1mwandb\u001b[0m: \toptimizer: nag\n",
      "\u001b[34m\u001b[1mwandb\u001b[0m: \tweight_decay: 0.5\n",
      "Failed to detect the name of this notebook, you can set it manually with the WANDB_NOTEBOOK_NAME environment variable to enable code saving.\n",
      "\u001b[34m\u001b[1mwandb\u001b[0m: \u001b[33mWARNING\u001b[0m Ignored wandb.init() arg project when running a sweep.\n"
     ]
    },
    {
     "data": {
      "text/html": [
       "wandb version 0.14.0 is available!  To upgrade, please run:\n",
       " $ pip install wandb --upgrade"
      ],
      "text/plain": [
       "<IPython.core.display.HTML object>"
      ]
     },
     "metadata": {},
     "output_type": "display_data"
    },
    {
     "data": {
      "text/html": [
       "Tracking run with wandb version 0.13.10"
      ],
      "text/plain": [
       "<IPython.core.display.HTML object>"
      ]
     },
     "metadata": {},
     "output_type": "display_data"
    },
    {
     "data": {
      "text/html": [
       "Run data is saved locally in <code>C:\\Users\\Shivam Maurya\\OneDrive\\Desktop\\IIT_MADRAS\\Deep Learning\\assignment 1\\CS6910-Deep_Learning_Assignment-1\\wandb\\run-20230317_163959-u5w3rxx7</code>"
      ],
      "text/plain": [
       "<IPython.core.display.HTML object>"
      ]
     },
     "metadata": {},
     "output_type": "display_data"
    },
    {
     "data": {
      "text/html": [
       "Syncing run <strong><a href='https://wandb.ai/cs22m083/CS6910_Assignment_1/runs/u5w3rxx7' target=\"_blank\">Question:4</a></strong> to <a href='https://wandb.ai/cs22m083/CS6910_Assignment_1' target=\"_blank\">Weights & Biases</a> (<a href='https://wandb.me/run' target=\"_blank\">docs</a>)<br/>Sweep page: <a href='https://wandb.ai/cs22m083/CS6910_Assignment_1/sweeps/cezmcy51' target=\"_blank\">https://wandb.ai/cs22m083/CS6910_Assignment_1/sweeps/cezmcy51</a>"
      ],
      "text/plain": [
       "<IPython.core.display.HTML object>"
      ]
     },
     "metadata": {},
     "output_type": "display_data"
    },
    {
     "data": {
      "text/html": [
       " View project at <a href='https://wandb.ai/cs22m083/CS6910_Assignment_1' target=\"_blank\">https://wandb.ai/cs22m083/CS6910_Assignment_1</a>"
      ],
      "text/plain": [
       "<IPython.core.display.HTML object>"
      ]
     },
     "metadata": {},
     "output_type": "display_data"
    },
    {
     "data": {
      "text/html": [
       " View sweep at <a href='https://wandb.ai/cs22m083/CS6910_Assignment_1/sweeps/cezmcy51' target=\"_blank\">https://wandb.ai/cs22m083/CS6910_Assignment_1/sweeps/cezmcy51</a>"
      ],
      "text/plain": [
       "<IPython.core.display.HTML object>"
      ]
     },
     "metadata": {},
     "output_type": "display_data"
    },
    {
     "data": {
      "text/html": [
       " View run at <a href='https://wandb.ai/cs22m083/CS6910_Assignment_1/runs/u5w3rxx7' target=\"_blank\">https://wandb.ai/cs22m083/CS6910_Assignment_1/runs/u5w3rxx7</a>"
      ],
      "text/plain": [
       "<IPython.core.display.HTML object>"
      ]
     },
     "metadata": {},
     "output_type": "display_data"
    },
    {
     "name": "stdout",
     "output_type": "stream",
     "text": [
      " Training Loss:  1.0247837171737908  Validation Loss: 0.9955189058130387  Training Accuracy:  0.6320666666666667  Validation Accuracy: 0.6342\n"
     ]
    },
    {
     "data": {
      "text/html": [
       "Waiting for W&B process to finish... <strong style=\"color:green\">(success).</strong>"
      ],
      "text/plain": [
       "<IPython.core.display.HTML object>"
      ]
     },
     "metadata": {},
     "output_type": "display_data"
    },
    {
     "data": {
      "text/html": [
       "<style>\n",
       "    table.wandb td:nth-child(1) { padding: 0 10px; text-align: left ; width: auto;} td:nth-child(2) {text-align: left ; width: 100%}\n",
       "    .wandb-row { display: flex; flex-direction: row; flex-wrap: wrap; justify-content: flex-start; width: 100% }\n",
       "    .wandb-col { display: flex; flex-direction: column; flex-basis: 100%; flex: 1; padding: 10px; }\n",
       "    </style>\n",
       "<div class=\"wandb-row\"><div class=\"wandb-col\"><h3>Run history:</h3><br/><table class=\"wandb\"><tr><td>Accuracy</td><td>▁</td></tr><tr><td>Epoch</td><td>▁▂▃▃▄▅▆▆▇█</td></tr><tr><td>Training_accuracy</td><td>▁▂▂▄▅▆▇███</td></tr><tr><td>Training_loss</td><td>██▇▇▆▄▃▂▂▁</td></tr><tr><td>Validation_accuracy</td><td>▁▁▃▄▆▇▇███</td></tr><tr><td>Validation_loss</td><td>██▇▆▅▄▃▂▁▁</td></tr></table><br/></div><div class=\"wandb-col\"><h3>Run summary:</h3><br/><table class=\"wandb\"><tr><td>Accuracy</td><td>0.6342</td></tr><tr><td>Epoch</td><td>10</td></tr><tr><td>Training_accuracy</td><td>0.63207</td></tr><tr><td>Training_loss</td><td>1.02478</td></tr><tr><td>Validation_accuracy</td><td>0.6342</td></tr><tr><td>Validation_loss</td><td>0.99552</td></tr></table><br/></div></div>"
      ],
      "text/plain": [
       "<IPython.core.display.HTML object>"
      ]
     },
     "metadata": {},
     "output_type": "display_data"
    },
    {
     "data": {
      "text/html": [
       " View run <strong style=\"color:#cdcd00\">Question:4</strong> at: <a href='https://wandb.ai/cs22m083/CS6910_Assignment_1/runs/u5w3rxx7' target=\"_blank\">https://wandb.ai/cs22m083/CS6910_Assignment_1/runs/u5w3rxx7</a><br/>Synced 6 W&B file(s), 0 media file(s), 0 artifact file(s) and 0 other file(s)"
      ],
      "text/plain": [
       "<IPython.core.display.HTML object>"
      ]
     },
     "metadata": {},
     "output_type": "display_data"
    },
    {
     "data": {
      "text/html": [
       "Find logs at: <code>.\\wandb\\run-20230317_163959-u5w3rxx7\\logs</code>"
      ],
      "text/plain": [
       "<IPython.core.display.HTML object>"
      ]
     },
     "metadata": {},
     "output_type": "display_data"
    },
    {
     "name": "stderr",
     "output_type": "stream",
     "text": [
      "\u001b[34m\u001b[1mwandb\u001b[0m: Agent Starting Run: c4gv90fw with config:\n",
      "\u001b[34m\u001b[1mwandb\u001b[0m: \tactivation: sigmoid\n",
      "\u001b[34m\u001b[1mwandb\u001b[0m: \tbatch_size: 64\n",
      "\u001b[34m\u001b[1mwandb\u001b[0m: \tepochs: 5\n",
      "\u001b[34m\u001b[1mwandb\u001b[0m: \tgamma: 0.0006\n",
      "\u001b[34m\u001b[1mwandb\u001b[0m: \thidden_layers: [32, 64]\n",
      "\u001b[34m\u001b[1mwandb\u001b[0m: \tinitialization: Random\n",
      "\u001b[34m\u001b[1mwandb\u001b[0m: \tlearning_rate: 0.01\n",
      "\u001b[34m\u001b[1mwandb\u001b[0m: \toptimizer: momentum\n",
      "\u001b[34m\u001b[1mwandb\u001b[0m: \tweight_decay: 0.0005\n",
      "Failed to detect the name of this notebook, you can set it manually with the WANDB_NOTEBOOK_NAME environment variable to enable code saving.\n",
      "\u001b[34m\u001b[1mwandb\u001b[0m: \u001b[33mWARNING\u001b[0m Ignored wandb.init() arg project when running a sweep.\n"
     ]
    },
    {
     "data": {
      "text/html": [
       "wandb version 0.14.0 is available!  To upgrade, please run:\n",
       " $ pip install wandb --upgrade"
      ],
      "text/plain": [
       "<IPython.core.display.HTML object>"
      ]
     },
     "metadata": {},
     "output_type": "display_data"
    },
    {
     "data": {
      "text/html": [
       "Tracking run with wandb version 0.13.10"
      ],
      "text/plain": [
       "<IPython.core.display.HTML object>"
      ]
     },
     "metadata": {},
     "output_type": "display_data"
    },
    {
     "data": {
      "text/html": [
       "Run data is saved locally in <code>C:\\Users\\Shivam Maurya\\OneDrive\\Desktop\\IIT_MADRAS\\Deep Learning\\assignment 1\\CS6910-Deep_Learning_Assignment-1\\wandb\\run-20230317_164612-c4gv90fw</code>"
      ],
      "text/plain": [
       "<IPython.core.display.HTML object>"
      ]
     },
     "metadata": {},
     "output_type": "display_data"
    },
    {
     "data": {
      "text/html": [
       "Syncing run <strong><a href='https://wandb.ai/cs22m083/CS6910_Assignment_1/runs/c4gv90fw' target=\"_blank\">Question:4</a></strong> to <a href='https://wandb.ai/cs22m083/CS6910_Assignment_1' target=\"_blank\">Weights & Biases</a> (<a href='https://wandb.me/run' target=\"_blank\">docs</a>)<br/>Sweep page: <a href='https://wandb.ai/cs22m083/CS6910_Assignment_1/sweeps/cezmcy51' target=\"_blank\">https://wandb.ai/cs22m083/CS6910_Assignment_1/sweeps/cezmcy51</a>"
      ],
      "text/plain": [
       "<IPython.core.display.HTML object>"
      ]
     },
     "metadata": {},
     "output_type": "display_data"
    },
    {
     "data": {
      "text/html": [
       " View project at <a href='https://wandb.ai/cs22m083/CS6910_Assignment_1' target=\"_blank\">https://wandb.ai/cs22m083/CS6910_Assignment_1</a>"
      ],
      "text/plain": [
       "<IPython.core.display.HTML object>"
      ]
     },
     "metadata": {},
     "output_type": "display_data"
    },
    {
     "data": {
      "text/html": [
       " View sweep at <a href='https://wandb.ai/cs22m083/CS6910_Assignment_1/sweeps/cezmcy51' target=\"_blank\">https://wandb.ai/cs22m083/CS6910_Assignment_1/sweeps/cezmcy51</a>"
      ],
      "text/plain": [
       "<IPython.core.display.HTML object>"
      ]
     },
     "metadata": {},
     "output_type": "display_data"
    },
    {
     "data": {
      "text/html": [
       " View run at <a href='https://wandb.ai/cs22m083/CS6910_Assignment_1/runs/c4gv90fw' target=\"_blank\">https://wandb.ai/cs22m083/CS6910_Assignment_1/runs/c4gv90fw</a>"
      ],
      "text/plain": [
       "<IPython.core.display.HTML object>"
      ]
     },
     "metadata": {},
     "output_type": "display_data"
    },
    {
     "name": "stdout",
     "output_type": "stream",
     "text": [
      " Training Loss:  0.47152537424245444  Validation Loss: 0.5084395029914472  Training Accuracy:  0.8305833333333333  Validation Accuracy: 0.8202\n"
     ]
    },
    {
     "data": {
      "text/html": [
       "Waiting for W&B process to finish... <strong style=\"color:green\">(success).</strong>"
      ],
      "text/plain": [
       "<IPython.core.display.HTML object>"
      ]
     },
     "metadata": {},
     "output_type": "display_data"
    },
    {
     "data": {
      "text/html": [
       "<style>\n",
       "    table.wandb td:nth-child(1) { padding: 0 10px; text-align: left ; width: auto;} td:nth-child(2) {text-align: left ; width: 100%}\n",
       "    .wandb-row { display: flex; flex-direction: row; flex-wrap: wrap; justify-content: flex-start; width: 100% }\n",
       "    .wandb-col { display: flex; flex-direction: column; flex-basis: 100%; flex: 1; padding: 10px; }\n",
       "    </style>\n",
       "<div class=\"wandb-row\"><div class=\"wandb-col\"><h3>Run history:</h3><br/><table class=\"wandb\"><tr><td>Accuracy</td><td>▁</td></tr><tr><td>Epoch</td><td>▁▃▅▆█</td></tr><tr><td>Training_accuracy</td><td>▁▆▇██</td></tr><tr><td>Training_loss</td><td>█▃▂▁▁</td></tr><tr><td>Validation_accuracy</td><td>▁▅▆██</td></tr><tr><td>Validation_loss</td><td>█▅▃▂▁</td></tr></table><br/></div><div class=\"wandb-col\"><h3>Run summary:</h3><br/><table class=\"wandb\"><tr><td>Accuracy</td><td>0.8202</td></tr><tr><td>Epoch</td><td>5</td></tr><tr><td>Training_accuracy</td><td>0.83058</td></tr><tr><td>Training_loss</td><td>0.47153</td></tr><tr><td>Validation_accuracy</td><td>0.8202</td></tr><tr><td>Validation_loss</td><td>0.50844</td></tr></table><br/></div></div>"
      ],
      "text/plain": [
       "<IPython.core.display.HTML object>"
      ]
     },
     "metadata": {},
     "output_type": "display_data"
    },
    {
     "data": {
      "text/html": [
       " View run <strong style=\"color:#cdcd00\">Question:4</strong> at: <a href='https://wandb.ai/cs22m083/CS6910_Assignment_1/runs/c4gv90fw' target=\"_blank\">https://wandb.ai/cs22m083/CS6910_Assignment_1/runs/c4gv90fw</a><br/>Synced 6 W&B file(s), 0 media file(s), 0 artifact file(s) and 0 other file(s)"
      ],
      "text/plain": [
       "<IPython.core.display.HTML object>"
      ]
     },
     "metadata": {},
     "output_type": "display_data"
    },
    {
     "data": {
      "text/html": [
       "Find logs at: <code>.\\wandb\\run-20230317_164612-c4gv90fw\\logs</code>"
      ],
      "text/plain": [
       "<IPython.core.display.HTML object>"
      ]
     },
     "metadata": {},
     "output_type": "display_data"
    },
    {
     "name": "stderr",
     "output_type": "stream",
     "text": [
      "\u001b[34m\u001b[1mwandb\u001b[0m: Agent Starting Run: ih4bn9x7 with config:\n",
      "\u001b[34m\u001b[1mwandb\u001b[0m: \tactivation: sigmoid\n",
      "\u001b[34m\u001b[1mwandb\u001b[0m: \tbatch_size: 32\n",
      "\u001b[34m\u001b[1mwandb\u001b[0m: \tepochs: 10\n",
      "\u001b[34m\u001b[1mwandb\u001b[0m: \tgamma: 0.002\n",
      "\u001b[34m\u001b[1mwandb\u001b[0m: \thidden_layers: [32, 64, 128, 256]\n",
      "\u001b[34m\u001b[1mwandb\u001b[0m: \tinitialization: Random\n",
      "\u001b[34m\u001b[1mwandb\u001b[0m: \tlearning_rate: 0.0001\n",
      "\u001b[34m\u001b[1mwandb\u001b[0m: \toptimizer: nadam\n",
      "\u001b[34m\u001b[1mwandb\u001b[0m: \tweight_decay: 0.0005\n",
      "Failed to detect the name of this notebook, you can set it manually with the WANDB_NOTEBOOK_NAME environment variable to enable code saving.\n",
      "\u001b[34m\u001b[1mwandb\u001b[0m: \u001b[33mWARNING\u001b[0m Ignored wandb.init() arg project when running a sweep.\n"
     ]
    },
    {
     "data": {
      "text/html": [
       "wandb version 0.14.0 is available!  To upgrade, please run:\n",
       " $ pip install wandb --upgrade"
      ],
      "text/plain": [
       "<IPython.core.display.HTML object>"
      ]
     },
     "metadata": {},
     "output_type": "display_data"
    },
    {
     "data": {
      "text/html": [
       "Tracking run with wandb version 0.13.10"
      ],
      "text/plain": [
       "<IPython.core.display.HTML object>"
      ]
     },
     "metadata": {},
     "output_type": "display_data"
    },
    {
     "data": {
      "text/html": [
       "Run data is saved locally in <code>C:\\Users\\Shivam Maurya\\OneDrive\\Desktop\\IIT_MADRAS\\Deep Learning\\assignment 1\\CS6910-Deep_Learning_Assignment-1\\wandb\\run-20230317_164743-ih4bn9x7</code>"
      ],
      "text/plain": [
       "<IPython.core.display.HTML object>"
      ]
     },
     "metadata": {},
     "output_type": "display_data"
    },
    {
     "data": {
      "text/html": [
       "Syncing run <strong><a href='https://wandb.ai/cs22m083/CS6910_Assignment_1/runs/ih4bn9x7' target=\"_blank\">Question:4</a></strong> to <a href='https://wandb.ai/cs22m083/CS6910_Assignment_1' target=\"_blank\">Weights & Biases</a> (<a href='https://wandb.me/run' target=\"_blank\">docs</a>)<br/>Sweep page: <a href='https://wandb.ai/cs22m083/CS6910_Assignment_1/sweeps/cezmcy51' target=\"_blank\">https://wandb.ai/cs22m083/CS6910_Assignment_1/sweeps/cezmcy51</a>"
      ],
      "text/plain": [
       "<IPython.core.display.HTML object>"
      ]
     },
     "metadata": {},
     "output_type": "display_data"
    },
    {
     "data": {
      "text/html": [
       " View project at <a href='https://wandb.ai/cs22m083/CS6910_Assignment_1' target=\"_blank\">https://wandb.ai/cs22m083/CS6910_Assignment_1</a>"
      ],
      "text/plain": [
       "<IPython.core.display.HTML object>"
      ]
     },
     "metadata": {},
     "output_type": "display_data"
    },
    {
     "data": {
      "text/html": [
       " View sweep at <a href='https://wandb.ai/cs22m083/CS6910_Assignment_1/sweeps/cezmcy51' target=\"_blank\">https://wandb.ai/cs22m083/CS6910_Assignment_1/sweeps/cezmcy51</a>"
      ],
      "text/plain": [
       "<IPython.core.display.HTML object>"
      ]
     },
     "metadata": {},
     "output_type": "display_data"
    },
    {
     "data": {
      "text/html": [
       " View run at <a href='https://wandb.ai/cs22m083/CS6910_Assignment_1/runs/ih4bn9x7' target=\"_blank\">https://wandb.ai/cs22m083/CS6910_Assignment_1/runs/ih4bn9x7</a>"
      ],
      "text/plain": [
       "<IPython.core.display.HTML object>"
      ]
     },
     "metadata": {},
     "output_type": "display_data"
    },
    {
     "data": {
      "text/html": [
       "Waiting for W&B process to finish... <strong style=\"color:red\">(failed 1).</strong> Press Ctrl-C to abort syncing."
      ],
      "text/plain": [
       "<IPython.core.display.HTML object>"
      ]
     },
     "metadata": {},
     "output_type": "display_data"
    },
    {
     "data": {
      "application/vnd.jupyter.widget-view+json": {
       "model_id": "6fac804292544bf9afc0a27f9cbb685a",
       "version_major": 2,
       "version_minor": 0
      },
      "text/plain": [
       "VBox(children=(Label(value='0.001 MB of 0.001 MB uploaded (0.000 MB deduped)\\r'), FloatProgress(value=1.0, max…"
      ]
     },
     "metadata": {},
     "output_type": "display_data"
    },
    {
     "data": {
      "text/html": [
       " View run <strong style=\"color:#cdcd00\">Question:4</strong> at: <a href='https://wandb.ai/cs22m083/CS6910_Assignment_1/runs/ih4bn9x7' target=\"_blank\">https://wandb.ai/cs22m083/CS6910_Assignment_1/runs/ih4bn9x7</a><br/>Synced 5 W&B file(s), 0 media file(s), 0 artifact file(s) and 0 other file(s)"
      ],
      "text/plain": [
       "<IPython.core.display.HTML object>"
      ]
     },
     "metadata": {},
     "output_type": "display_data"
    },
    {
     "data": {
      "text/html": [
       "Find logs at: <code>.\\wandb\\run-20230317_164743-ih4bn9x7\\logs</code>"
      ],
      "text/plain": [
       "<IPython.core.display.HTML object>"
      ]
     },
     "metadata": {},
     "output_type": "display_data"
    },
    {
     "name": "stderr",
     "output_type": "stream",
     "text": [
      "Run ih4bn9x7 errored: UnboundLocalError(\"local variable 'nadam_impl' referenced before assignment\")\n",
      "\u001b[34m\u001b[1mwandb\u001b[0m: \u001b[32m\u001b[41mERROR\u001b[0m Run ih4bn9x7 errored: UnboundLocalError(\"local variable 'nadam_impl' referenced before assignment\")\n",
      "\u001b[34m\u001b[1mwandb\u001b[0m: Agent Starting Run: ilo7aniq with config:\n",
      "\u001b[34m\u001b[1mwandb\u001b[0m: \tactivation: sigmoid\n",
      "\u001b[34m\u001b[1mwandb\u001b[0m: \tbatch_size: 64\n",
      "\u001b[34m\u001b[1mwandb\u001b[0m: \tepochs: 10\n",
      "\u001b[34m\u001b[1mwandb\u001b[0m: \tgamma: 0.0006\n",
      "\u001b[34m\u001b[1mwandb\u001b[0m: \thidden_layers: [32, 64, 128]\n",
      "\u001b[34m\u001b[1mwandb\u001b[0m: \tinitialization: Random\n",
      "\u001b[34m\u001b[1mwandb\u001b[0m: \tlearning_rate: 0.0006\n",
      "\u001b[34m\u001b[1mwandb\u001b[0m: \toptimizer: nadam\n",
      "\u001b[34m\u001b[1mwandb\u001b[0m: \tweight_decay: 0.5\n",
      "Failed to detect the name of this notebook, you can set it manually with the WANDB_NOTEBOOK_NAME environment variable to enable code saving.\n",
      "\u001b[34m\u001b[1mwandb\u001b[0m: \u001b[33mWARNING\u001b[0m Ignored wandb.init() arg project when running a sweep.\n"
     ]
    },
    {
     "data": {
      "text/html": [
       "wandb version 0.14.0 is available!  To upgrade, please run:\n",
       " $ pip install wandb --upgrade"
      ],
      "text/plain": [
       "<IPython.core.display.HTML object>"
      ]
     },
     "metadata": {},
     "output_type": "display_data"
    },
    {
     "data": {
      "text/html": [
       "Tracking run with wandb version 0.13.10"
      ],
      "text/plain": [
       "<IPython.core.display.HTML object>"
      ]
     },
     "metadata": {},
     "output_type": "display_data"
    },
    {
     "data": {
      "text/html": [
       "Run data is saved locally in <code>C:\\Users\\Shivam Maurya\\OneDrive\\Desktop\\IIT_MADRAS\\Deep Learning\\assignment 1\\CS6910-Deep_Learning_Assignment-1\\wandb\\run-20230317_164804-ilo7aniq</code>"
      ],
      "text/plain": [
       "<IPython.core.display.HTML object>"
      ]
     },
     "metadata": {},
     "output_type": "display_data"
    },
    {
     "data": {
      "text/html": [
       "Syncing run <strong><a href='https://wandb.ai/cs22m083/CS6910_Assignment_1/runs/ilo7aniq' target=\"_blank\">Question:4</a></strong> to <a href='https://wandb.ai/cs22m083/CS6910_Assignment_1' target=\"_blank\">Weights & Biases</a> (<a href='https://wandb.me/run' target=\"_blank\">docs</a>)<br/>Sweep page: <a href='https://wandb.ai/cs22m083/CS6910_Assignment_1/sweeps/cezmcy51' target=\"_blank\">https://wandb.ai/cs22m083/CS6910_Assignment_1/sweeps/cezmcy51</a>"
      ],
      "text/plain": [
       "<IPython.core.display.HTML object>"
      ]
     },
     "metadata": {},
     "output_type": "display_data"
    },
    {
     "data": {
      "text/html": [
       " View project at <a href='https://wandb.ai/cs22m083/CS6910_Assignment_1' target=\"_blank\">https://wandb.ai/cs22m083/CS6910_Assignment_1</a>"
      ],
      "text/plain": [
       "<IPython.core.display.HTML object>"
      ]
     },
     "metadata": {},
     "output_type": "display_data"
    },
    {
     "data": {
      "text/html": [
       " View sweep at <a href='https://wandb.ai/cs22m083/CS6910_Assignment_1/sweeps/cezmcy51' target=\"_blank\">https://wandb.ai/cs22m083/CS6910_Assignment_1/sweeps/cezmcy51</a>"
      ],
      "text/plain": [
       "<IPython.core.display.HTML object>"
      ]
     },
     "metadata": {},
     "output_type": "display_data"
    },
    {
     "data": {
      "text/html": [
       " View run at <a href='https://wandb.ai/cs22m083/CS6910_Assignment_1/runs/ilo7aniq' target=\"_blank\">https://wandb.ai/cs22m083/CS6910_Assignment_1/runs/ilo7aniq</a>"
      ],
      "text/plain": [
       "<IPython.core.display.HTML object>"
      ]
     },
     "metadata": {},
     "output_type": "display_data"
    },
    {
     "data": {
      "text/html": [
       "Waiting for W&B process to finish... <strong style=\"color:red\">(failed 1).</strong> Press Ctrl-C to abort syncing."
      ],
      "text/plain": [
       "<IPython.core.display.HTML object>"
      ]
     },
     "metadata": {},
     "output_type": "display_data"
    },
    {
     "data": {
      "application/vnd.jupyter.widget-view+json": {
       "model_id": "63c884c96667420f9b21eba02cb413f4",
       "version_major": 2,
       "version_minor": 0
      },
      "text/plain": [
       "VBox(children=(Label(value='0.001 MB of 0.001 MB uploaded (0.000 MB deduped)\\r'), FloatProgress(value=1.0, max…"
      ]
     },
     "metadata": {},
     "output_type": "display_data"
    },
    {
     "data": {
      "text/html": [
       " View run <strong style=\"color:#cdcd00\">Question:4</strong> at: <a href='https://wandb.ai/cs22m083/CS6910_Assignment_1/runs/ilo7aniq' target=\"_blank\">https://wandb.ai/cs22m083/CS6910_Assignment_1/runs/ilo7aniq</a><br/>Synced 5 W&B file(s), 0 media file(s), 0 artifact file(s) and 0 other file(s)"
      ],
      "text/plain": [
       "<IPython.core.display.HTML object>"
      ]
     },
     "metadata": {},
     "output_type": "display_data"
    },
    {
     "data": {
      "text/html": [
       "Find logs at: <code>.\\wandb\\run-20230317_164804-ilo7aniq\\logs</code>"
      ],
      "text/plain": [
       "<IPython.core.display.HTML object>"
      ]
     },
     "metadata": {},
     "output_type": "display_data"
    },
    {
     "name": "stderr",
     "output_type": "stream",
     "text": [
      "Run ilo7aniq errored: UnboundLocalError(\"local variable 'nadam_impl' referenced before assignment\")\n",
      "\u001b[34m\u001b[1mwandb\u001b[0m: \u001b[32m\u001b[41mERROR\u001b[0m Run ilo7aniq errored: UnboundLocalError(\"local variable 'nadam_impl' referenced before assignment\")\n",
      "\u001b[34m\u001b[1mwandb\u001b[0m: Agent Starting Run: rxao2a91 with config:\n",
      "\u001b[34m\u001b[1mwandb\u001b[0m: \tactivation: sigmoid\n",
      "\u001b[34m\u001b[1mwandb\u001b[0m: \tbatch_size: 16\n",
      "\u001b[34m\u001b[1mwandb\u001b[0m: \tepochs: 5\n",
      "\u001b[34m\u001b[1mwandb\u001b[0m: \tgamma: 0.002\n",
      "\u001b[34m\u001b[1mwandb\u001b[0m: \thidden_layers: [32, 64, 128]\n",
      "\u001b[34m\u001b[1mwandb\u001b[0m: \tinitialization: Xavier\n",
      "\u001b[34m\u001b[1mwandb\u001b[0m: \tlearning_rate: 0.0006\n",
      "\u001b[34m\u001b[1mwandb\u001b[0m: \toptimizer: nag\n",
      "\u001b[34m\u001b[1mwandb\u001b[0m: \tweight_decay: 0.0005\n",
      "Failed to detect the name of this notebook, you can set it manually with the WANDB_NOTEBOOK_NAME environment variable to enable code saving.\n",
      "\u001b[34m\u001b[1mwandb\u001b[0m: \u001b[33mWARNING\u001b[0m Ignored wandb.init() arg project when running a sweep.\n"
     ]
    },
    {
     "data": {
      "text/html": [
       "wandb version 0.14.0 is available!  To upgrade, please run:\n",
       " $ pip install wandb --upgrade"
      ],
      "text/plain": [
       "<IPython.core.display.HTML object>"
      ]
     },
     "metadata": {},
     "output_type": "display_data"
    },
    {
     "data": {
      "text/html": [
       "Tracking run with wandb version 0.13.10"
      ],
      "text/plain": [
       "<IPython.core.display.HTML object>"
      ]
     },
     "metadata": {},
     "output_type": "display_data"
    },
    {
     "data": {
      "text/html": [
       "Run data is saved locally in <code>C:\\Users\\Shivam Maurya\\OneDrive\\Desktop\\IIT_MADRAS\\Deep Learning\\assignment 1\\CS6910-Deep_Learning_Assignment-1\\wandb\\run-20230317_164825-rxao2a91</code>"
      ],
      "text/plain": [
       "<IPython.core.display.HTML object>"
      ]
     },
     "metadata": {},
     "output_type": "display_data"
    },
    {
     "data": {
      "text/html": [
       "Syncing run <strong><a href='https://wandb.ai/cs22m083/CS6910_Assignment_1/runs/rxao2a91' target=\"_blank\">Question:4</a></strong> to <a href='https://wandb.ai/cs22m083/CS6910_Assignment_1' target=\"_blank\">Weights & Biases</a> (<a href='https://wandb.me/run' target=\"_blank\">docs</a>)<br/>Sweep page: <a href='https://wandb.ai/cs22m083/CS6910_Assignment_1/sweeps/cezmcy51' target=\"_blank\">https://wandb.ai/cs22m083/CS6910_Assignment_1/sweeps/cezmcy51</a>"
      ],
      "text/plain": [
       "<IPython.core.display.HTML object>"
      ]
     },
     "metadata": {},
     "output_type": "display_data"
    },
    {
     "data": {
      "text/html": [
       " View project at <a href='https://wandb.ai/cs22m083/CS6910_Assignment_1' target=\"_blank\">https://wandb.ai/cs22m083/CS6910_Assignment_1</a>"
      ],
      "text/plain": [
       "<IPython.core.display.HTML object>"
      ]
     },
     "metadata": {},
     "output_type": "display_data"
    },
    {
     "data": {
      "text/html": [
       " View sweep at <a href='https://wandb.ai/cs22m083/CS6910_Assignment_1/sweeps/cezmcy51' target=\"_blank\">https://wandb.ai/cs22m083/CS6910_Assignment_1/sweeps/cezmcy51</a>"
      ],
      "text/plain": [
       "<IPython.core.display.HTML object>"
      ]
     },
     "metadata": {},
     "output_type": "display_data"
    },
    {
     "data": {
      "text/html": [
       " View run at <a href='https://wandb.ai/cs22m083/CS6910_Assignment_1/runs/rxao2a91' target=\"_blank\">https://wandb.ai/cs22m083/CS6910_Assignment_1/runs/rxao2a91</a>"
      ],
      "text/plain": [
       "<IPython.core.display.HTML object>"
      ]
     },
     "metadata": {},
     "output_type": "display_data"
    },
    {
     "name": "stdout",
     "output_type": "stream",
     "text": [
      " Training Loss:  2.298169046258796  Validation Loss: 2.2956454615022923  Training Accuracy:  0.11866666666666667  Validation Accuracy: 0.1\n"
     ]
    },
    {
     "data": {
      "text/html": [
       "Waiting for W&B process to finish... <strong style=\"color:green\">(success).</strong>"
      ],
      "text/plain": [
       "<IPython.core.display.HTML object>"
      ]
     },
     "metadata": {},
     "output_type": "display_data"
    },
    {
     "data": {
      "text/html": [
       "<style>\n",
       "    table.wandb td:nth-child(1) { padding: 0 10px; text-align: left ; width: auto;} td:nth-child(2) {text-align: left ; width: 100%}\n",
       "    .wandb-row { display: flex; flex-direction: row; flex-wrap: wrap; justify-content: flex-start; width: 100% }\n",
       "    .wandb-col { display: flex; flex-direction: column; flex-basis: 100%; flex: 1; padding: 10px; }\n",
       "    </style>\n",
       "<div class=\"wandb-row\"><div class=\"wandb-col\"><h3>Run history:</h3><br/><table class=\"wandb\"><tr><td>Accuracy</td><td>▁</td></tr><tr><td>Epoch</td><td>▁▃▅▆█</td></tr><tr><td>Training_accuracy</td><td>▁▃▅▆█</td></tr><tr><td>Training_loss</td><td>█▃▃▂▁</td></tr><tr><td>Validation_accuracy</td><td>▁▁▁▁▁</td></tr><tr><td>Validation_loss</td><td>█▆▅▃▁</td></tr></table><br/></div><div class=\"wandb-col\"><h3>Run summary:</h3><br/><table class=\"wandb\"><tr><td>Accuracy</td><td>0.1</td></tr><tr><td>Epoch</td><td>5</td></tr><tr><td>Training_accuracy</td><td>0.11867</td></tr><tr><td>Training_loss</td><td>2.29817</td></tr><tr><td>Validation_accuracy</td><td>0.1</td></tr><tr><td>Validation_loss</td><td>2.29565</td></tr></table><br/></div></div>"
      ],
      "text/plain": [
       "<IPython.core.display.HTML object>"
      ]
     },
     "metadata": {},
     "output_type": "display_data"
    },
    {
     "data": {
      "text/html": [
       " View run <strong style=\"color:#cdcd00\">Question:4</strong> at: <a href='https://wandb.ai/cs22m083/CS6910_Assignment_1/runs/rxao2a91' target=\"_blank\">https://wandb.ai/cs22m083/CS6910_Assignment_1/runs/rxao2a91</a><br/>Synced 6 W&B file(s), 0 media file(s), 0 artifact file(s) and 0 other file(s)"
      ],
      "text/plain": [
       "<IPython.core.display.HTML object>"
      ]
     },
     "metadata": {},
     "output_type": "display_data"
    },
    {
     "data": {
      "text/html": [
       "Find logs at: <code>.\\wandb\\run-20230317_164825-rxao2a91\\logs</code>"
      ],
      "text/plain": [
       "<IPython.core.display.HTML object>"
      ]
     },
     "metadata": {},
     "output_type": "display_data"
    },
    {
     "name": "stderr",
     "output_type": "stream",
     "text": [
      "\u001b[34m\u001b[1mwandb\u001b[0m: Agent Starting Run: o747ohz6 with config:\n",
      "\u001b[34m\u001b[1mwandb\u001b[0m: \tactivation: sigmoid\n",
      "\u001b[34m\u001b[1mwandb\u001b[0m: \tbatch_size: 16\n",
      "\u001b[34m\u001b[1mwandb\u001b[0m: \tepochs: 5\n",
      "\u001b[34m\u001b[1mwandb\u001b[0m: \tgamma: 0.03\n",
      "\u001b[34m\u001b[1mwandb\u001b[0m: \thidden_layers: [32, 64, 128]\n",
      "\u001b[34m\u001b[1mwandb\u001b[0m: \tinitialization: Xavier\n",
      "\u001b[34m\u001b[1mwandb\u001b[0m: \tlearning_rate: 0.0006\n",
      "\u001b[34m\u001b[1mwandb\u001b[0m: \toptimizer: rmsprop\n",
      "\u001b[34m\u001b[1mwandb\u001b[0m: \tweight_decay: 0\n",
      "Failed to detect the name of this notebook, you can set it manually with the WANDB_NOTEBOOK_NAME environment variable to enable code saving.\n",
      "\u001b[34m\u001b[1mwandb\u001b[0m: \u001b[33mWARNING\u001b[0m Ignored wandb.init() arg project when running a sweep.\n"
     ]
    },
    {
     "data": {
      "text/html": [
       "wandb version 0.14.0 is available!  To upgrade, please run:\n",
       " $ pip install wandb --upgrade"
      ],
      "text/plain": [
       "<IPython.core.display.HTML object>"
      ]
     },
     "metadata": {},
     "output_type": "display_data"
    },
    {
     "data": {
      "text/html": [
       "Tracking run with wandb version 0.13.10"
      ],
      "text/plain": [
       "<IPython.core.display.HTML object>"
      ]
     },
     "metadata": {},
     "output_type": "display_data"
    },
    {
     "data": {
      "text/html": [
       "Run data is saved locally in <code>C:\\Users\\Shivam Maurya\\OneDrive\\Desktop\\IIT_MADRAS\\Deep Learning\\assignment 1\\CS6910-Deep_Learning_Assignment-1\\wandb\\run-20230317_165023-o747ohz6</code>"
      ],
      "text/plain": [
       "<IPython.core.display.HTML object>"
      ]
     },
     "metadata": {},
     "output_type": "display_data"
    },
    {
     "data": {
      "text/html": [
       "Syncing run <strong><a href='https://wandb.ai/cs22m083/CS6910_Assignment_1/runs/o747ohz6' target=\"_blank\">Question:4</a></strong> to <a href='https://wandb.ai/cs22m083/CS6910_Assignment_1' target=\"_blank\">Weights & Biases</a> (<a href='https://wandb.me/run' target=\"_blank\">docs</a>)<br/>Sweep page: <a href='https://wandb.ai/cs22m083/CS6910_Assignment_1/sweeps/cezmcy51' target=\"_blank\">https://wandb.ai/cs22m083/CS6910_Assignment_1/sweeps/cezmcy51</a>"
      ],
      "text/plain": [
       "<IPython.core.display.HTML object>"
      ]
     },
     "metadata": {},
     "output_type": "display_data"
    },
    {
     "data": {
      "text/html": [
       " View project at <a href='https://wandb.ai/cs22m083/CS6910_Assignment_1' target=\"_blank\">https://wandb.ai/cs22m083/CS6910_Assignment_1</a>"
      ],
      "text/plain": [
       "<IPython.core.display.HTML object>"
      ]
     },
     "metadata": {},
     "output_type": "display_data"
    },
    {
     "data": {
      "text/html": [
       " View sweep at <a href='https://wandb.ai/cs22m083/CS6910_Assignment_1/sweeps/cezmcy51' target=\"_blank\">https://wandb.ai/cs22m083/CS6910_Assignment_1/sweeps/cezmcy51</a>"
      ],
      "text/plain": [
       "<IPython.core.display.HTML object>"
      ]
     },
     "metadata": {},
     "output_type": "display_data"
    },
    {
     "data": {
      "text/html": [
       " View run at <a href='https://wandb.ai/cs22m083/CS6910_Assignment_1/runs/o747ohz6' target=\"_blank\">https://wandb.ai/cs22m083/CS6910_Assignment_1/runs/o747ohz6</a>"
      ],
      "text/plain": [
       "<IPython.core.display.HTML object>"
      ]
     },
     "metadata": {},
     "output_type": "display_data"
    },
    {
     "name": "stdout",
     "output_type": "stream",
     "text": [
      " Training Loss:  0.5589338039166702  Validation Loss: 0.6000648601893317  Training Accuracy:  0.8331  Validation Accuracy: 0.824\n"
     ]
    },
    {
     "data": {
      "text/html": [
       "Waiting for W&B process to finish... <strong style=\"color:green\">(success).</strong>"
      ],
      "text/plain": [
       "<IPython.core.display.HTML object>"
      ]
     },
     "metadata": {},
     "output_type": "display_data"
    },
    {
     "data": {
      "application/vnd.jupyter.widget-view+json": {
       "model_id": "daded3cc2e7b4f90a339b9511b935b5f",
       "version_major": 2,
       "version_minor": 0
      },
      "text/plain": [
       "VBox(children=(Label(value='0.001 MB of 0.001 MB uploaded (0.000 MB deduped)\\r'), FloatProgress(value=1.0, max…"
      ]
     },
     "metadata": {},
     "output_type": "display_data"
    },
    {
     "data": {
      "text/html": [
       "<style>\n",
       "    table.wandb td:nth-child(1) { padding: 0 10px; text-align: left ; width: auto;} td:nth-child(2) {text-align: left ; width: 100%}\n",
       "    .wandb-row { display: flex; flex-direction: row; flex-wrap: wrap; justify-content: flex-start; width: 100% }\n",
       "    .wandb-col { display: flex; flex-direction: column; flex-basis: 100%; flex: 1; padding: 10px; }\n",
       "    </style>\n",
       "<div class=\"wandb-row\"><div class=\"wandb-col\"><h3>Run history:</h3><br/><table class=\"wandb\"><tr><td>Accuracy</td><td>▁</td></tr><tr><td>Epoch</td><td>▁▃▅▆█</td></tr><tr><td>Training_accuracy</td><td>▁▇▇██</td></tr><tr><td>Training_loss</td><td>█▂▁▁▁</td></tr><tr><td>Validation_accuracy</td><td>▁▆▇▇█</td></tr><tr><td>Validation_loss</td><td>█▃▂▂▁</td></tr></table><br/></div><div class=\"wandb-col\"><h3>Run summary:</h3><br/><table class=\"wandb\"><tr><td>Accuracy</td><td>0.824</td></tr><tr><td>Epoch</td><td>5</td></tr><tr><td>Training_accuracy</td><td>0.8331</td></tr><tr><td>Training_loss</td><td>0.55893</td></tr><tr><td>Validation_accuracy</td><td>0.824</td></tr><tr><td>Validation_loss</td><td>0.60006</td></tr></table><br/></div></div>"
      ],
      "text/plain": [
       "<IPython.core.display.HTML object>"
      ]
     },
     "metadata": {},
     "output_type": "display_data"
    },
    {
     "data": {
      "text/html": [
       " View run <strong style=\"color:#cdcd00\">Question:4</strong> at: <a href='https://wandb.ai/cs22m083/CS6910_Assignment_1/runs/o747ohz6' target=\"_blank\">https://wandb.ai/cs22m083/CS6910_Assignment_1/runs/o747ohz6</a><br/>Synced 6 W&B file(s), 0 media file(s), 0 artifact file(s) and 0 other file(s)"
      ],
      "text/plain": [
       "<IPython.core.display.HTML object>"
      ]
     },
     "metadata": {},
     "output_type": "display_data"
    },
    {
     "data": {
      "text/html": [
       "Find logs at: <code>.\\wandb\\run-20230317_165023-o747ohz6\\logs</code>"
      ],
      "text/plain": [
       "<IPython.core.display.HTML object>"
      ]
     },
     "metadata": {},
     "output_type": "display_data"
    },
    {
     "name": "stderr",
     "output_type": "stream",
     "text": [
      "\u001b[34m\u001b[1mwandb\u001b[0m: Sweep Agent: Waiting for job.\n",
      "\u001b[34m\u001b[1mwandb\u001b[0m: Job received.\n",
      "\u001b[34m\u001b[1mwandb\u001b[0m: Agent Starting Run: uew3s917 with config:\n",
      "\u001b[34m\u001b[1mwandb\u001b[0m: \tactivation: sigmoid\n",
      "\u001b[34m\u001b[1mwandb\u001b[0m: \tbatch_size: 64\n",
      "\u001b[34m\u001b[1mwandb\u001b[0m: \tepochs: 10\n",
      "\u001b[34m\u001b[1mwandb\u001b[0m: \tgamma: 0.002\n",
      "\u001b[34m\u001b[1mwandb\u001b[0m: \thidden_layers: [32, 64, 128, 256]\n",
      "\u001b[34m\u001b[1mwandb\u001b[0m: \tinitialization: Random\n",
      "\u001b[34m\u001b[1mwandb\u001b[0m: \tlearning_rate: 0.005\n",
      "\u001b[34m\u001b[1mwandb\u001b[0m: \toptimizer: nadam\n",
      "\u001b[34m\u001b[1mwandb\u001b[0m: \tweight_decay: 0.0005\n",
      "Failed to detect the name of this notebook, you can set it manually with the WANDB_NOTEBOOK_NAME environment variable to enable code saving.\n",
      "\u001b[34m\u001b[1mwandb\u001b[0m: \u001b[33mWARNING\u001b[0m Ignored wandb.init() arg project when running a sweep.\n"
     ]
    },
    {
     "data": {
      "text/html": [
       "wandb version 0.14.0 is available!  To upgrade, please run:\n",
       " $ pip install wandb --upgrade"
      ],
      "text/plain": [
       "<IPython.core.display.HTML object>"
      ]
     },
     "metadata": {},
     "output_type": "display_data"
    },
    {
     "data": {
      "text/html": [
       "Tracking run with wandb version 0.13.10"
      ],
      "text/plain": [
       "<IPython.core.display.HTML object>"
      ]
     },
     "metadata": {},
     "output_type": "display_data"
    },
    {
     "data": {
      "text/html": [
       "Run data is saved locally in <code>C:\\Users\\Shivam Maurya\\OneDrive\\Desktop\\IIT_MADRAS\\Deep Learning\\assignment 1\\CS6910-Deep_Learning_Assignment-1\\wandb\\run-20230317_165236-uew3s917</code>"
      ],
      "text/plain": [
       "<IPython.core.display.HTML object>"
      ]
     },
     "metadata": {},
     "output_type": "display_data"
    },
    {
     "data": {
      "text/html": [
       "Syncing run <strong><a href='https://wandb.ai/cs22m083/CS6910_Assignment_1/runs/uew3s917' target=\"_blank\">Question:4</a></strong> to <a href='https://wandb.ai/cs22m083/CS6910_Assignment_1' target=\"_blank\">Weights & Biases</a> (<a href='https://wandb.me/run' target=\"_blank\">docs</a>)<br/>Sweep page: <a href='https://wandb.ai/cs22m083/CS6910_Assignment_1/sweeps/cezmcy51' target=\"_blank\">https://wandb.ai/cs22m083/CS6910_Assignment_1/sweeps/cezmcy51</a>"
      ],
      "text/plain": [
       "<IPython.core.display.HTML object>"
      ]
     },
     "metadata": {},
     "output_type": "display_data"
    },
    {
     "data": {
      "text/html": [
       " View project at <a href='https://wandb.ai/cs22m083/CS6910_Assignment_1' target=\"_blank\">https://wandb.ai/cs22m083/CS6910_Assignment_1</a>"
      ],
      "text/plain": [
       "<IPython.core.display.HTML object>"
      ]
     },
     "metadata": {},
     "output_type": "display_data"
    },
    {
     "data": {
      "text/html": [
       " View sweep at <a href='https://wandb.ai/cs22m083/CS6910_Assignment_1/sweeps/cezmcy51' target=\"_blank\">https://wandb.ai/cs22m083/CS6910_Assignment_1/sweeps/cezmcy51</a>"
      ],
      "text/plain": [
       "<IPython.core.display.HTML object>"
      ]
     },
     "metadata": {},
     "output_type": "display_data"
    },
    {
     "data": {
      "text/html": [
       " View run at <a href='https://wandb.ai/cs22m083/CS6910_Assignment_1/runs/uew3s917' target=\"_blank\">https://wandb.ai/cs22m083/CS6910_Assignment_1/runs/uew3s917</a>"
      ],
      "text/plain": [
       "<IPython.core.display.HTML object>"
      ]
     },
     "metadata": {},
     "output_type": "display_data"
    },
    {
     "data": {
      "text/html": [
       "Waiting for W&B process to finish... <strong style=\"color:red\">(failed 1).</strong> Press Ctrl-C to abort syncing."
      ],
      "text/plain": [
       "<IPython.core.display.HTML object>"
      ]
     },
     "metadata": {},
     "output_type": "display_data"
    },
    {
     "data": {
      "application/vnd.jupyter.widget-view+json": {
       "model_id": "9a2cb23a99304d4bae99aa9d1b3a256d",
       "version_major": 2,
       "version_minor": 0
      },
      "text/plain": [
       "VBox(children=(Label(value='0.001 MB of 0.022 MB uploaded (0.000 MB deduped)\\r'), FloatProgress(value=0.051379…"
      ]
     },
     "metadata": {},
     "output_type": "display_data"
    },
    {
     "data": {
      "text/html": [
       " View run <strong style=\"color:#cdcd00\">Question:4</strong> at: <a href='https://wandb.ai/cs22m083/CS6910_Assignment_1/runs/uew3s917' target=\"_blank\">https://wandb.ai/cs22m083/CS6910_Assignment_1/runs/uew3s917</a><br/>Synced 5 W&B file(s), 0 media file(s), 0 artifact file(s) and 0 other file(s)"
      ],
      "text/plain": [
       "<IPython.core.display.HTML object>"
      ]
     },
     "metadata": {},
     "output_type": "display_data"
    },
    {
     "data": {
      "text/html": [
       "Find logs at: <code>.\\wandb\\run-20230317_165236-uew3s917\\logs</code>"
      ],
      "text/plain": [
       "<IPython.core.display.HTML object>"
      ]
     },
     "metadata": {},
     "output_type": "display_data"
    },
    {
     "name": "stderr",
     "output_type": "stream",
     "text": [
      "Run uew3s917 errored: UnboundLocalError(\"local variable 'nadam_impl' referenced before assignment\")\n",
      "\u001b[34m\u001b[1mwandb\u001b[0m: \u001b[32m\u001b[41mERROR\u001b[0m Run uew3s917 errored: UnboundLocalError(\"local variable 'nadam_impl' referenced before assignment\")\n",
      "\u001b[34m\u001b[1mwandb\u001b[0m: Agent Starting Run: y38lh9jd with config:\n",
      "\u001b[34m\u001b[1mwandb\u001b[0m: \tactivation: relu\n",
      "\u001b[34m\u001b[1mwandb\u001b[0m: \tbatch_size: 16\n",
      "\u001b[34m\u001b[1mwandb\u001b[0m: \tepochs: 5\n",
      "\u001b[34m\u001b[1mwandb\u001b[0m: \tgamma: 0.03\n",
      "\u001b[34m\u001b[1mwandb\u001b[0m: \thidden_layers: [32, 64, 128]\n",
      "\u001b[34m\u001b[1mwandb\u001b[0m: \tinitialization: Xavier\n",
      "\u001b[34m\u001b[1mwandb\u001b[0m: \tlearning_rate: 0.0005\n",
      "\u001b[34m\u001b[1mwandb\u001b[0m: \toptimizer: rmsprop\n",
      "\u001b[34m\u001b[1mwandb\u001b[0m: \tweight_decay: 0.5\n",
      "Failed to detect the name of this notebook, you can set it manually with the WANDB_NOTEBOOK_NAME environment variable to enable code saving.\n",
      "\u001b[34m\u001b[1mwandb\u001b[0m: \u001b[33mWARNING\u001b[0m Ignored wandb.init() arg project when running a sweep.\n"
     ]
    },
    {
     "data": {
      "text/html": [
       "wandb version 0.14.0 is available!  To upgrade, please run:\n",
       " $ pip install wandb --upgrade"
      ],
      "text/plain": [
       "<IPython.core.display.HTML object>"
      ]
     },
     "metadata": {},
     "output_type": "display_data"
    },
    {
     "data": {
      "text/html": [
       "Tracking run with wandb version 0.13.10"
      ],
      "text/plain": [
       "<IPython.core.display.HTML object>"
      ]
     },
     "metadata": {},
     "output_type": "display_data"
    },
    {
     "data": {
      "text/html": [
       "Run data is saved locally in <code>C:\\Users\\Shivam Maurya\\OneDrive\\Desktop\\IIT_MADRAS\\Deep Learning\\assignment 1\\CS6910-Deep_Learning_Assignment-1\\wandb\\run-20230317_165259-y38lh9jd</code>"
      ],
      "text/plain": [
       "<IPython.core.display.HTML object>"
      ]
     },
     "metadata": {},
     "output_type": "display_data"
    },
    {
     "data": {
      "text/html": [
       "Syncing run <strong><a href='https://wandb.ai/cs22m083/CS6910_Assignment_1/runs/y38lh9jd' target=\"_blank\">Question:4</a></strong> to <a href='https://wandb.ai/cs22m083/CS6910_Assignment_1' target=\"_blank\">Weights & Biases</a> (<a href='https://wandb.me/run' target=\"_blank\">docs</a>)<br/>Sweep page: <a href='https://wandb.ai/cs22m083/CS6910_Assignment_1/sweeps/cezmcy51' target=\"_blank\">https://wandb.ai/cs22m083/CS6910_Assignment_1/sweeps/cezmcy51</a>"
      ],
      "text/plain": [
       "<IPython.core.display.HTML object>"
      ]
     },
     "metadata": {},
     "output_type": "display_data"
    },
    {
     "data": {
      "text/html": [
       " View project at <a href='https://wandb.ai/cs22m083/CS6910_Assignment_1' target=\"_blank\">https://wandb.ai/cs22m083/CS6910_Assignment_1</a>"
      ],
      "text/plain": [
       "<IPython.core.display.HTML object>"
      ]
     },
     "metadata": {},
     "output_type": "display_data"
    },
    {
     "data": {
      "text/html": [
       " View sweep at <a href='https://wandb.ai/cs22m083/CS6910_Assignment_1/sweeps/cezmcy51' target=\"_blank\">https://wandb.ai/cs22m083/CS6910_Assignment_1/sweeps/cezmcy51</a>"
      ],
      "text/plain": [
       "<IPython.core.display.HTML object>"
      ]
     },
     "metadata": {},
     "output_type": "display_data"
    },
    {
     "data": {
      "text/html": [
       " View run at <a href='https://wandb.ai/cs22m083/CS6910_Assignment_1/runs/y38lh9jd' target=\"_blank\">https://wandb.ai/cs22m083/CS6910_Assignment_1/runs/y38lh9jd</a>"
      ],
      "text/plain": [
       "<IPython.core.display.HTML object>"
      ]
     },
     "metadata": {},
     "output_type": "display_data"
    },
    {
     "name": "stdout",
     "output_type": "stream",
     "text": [
      " Training Loss:  0.681808374778824  Validation Loss: 0.7065978658867267  Training Accuracy:  0.7652333333333333  Validation Accuracy: 0.7614\n"
     ]
    },
    {
     "data": {
      "text/html": [
       "Waiting for W&B process to finish... <strong style=\"color:green\">(success).</strong>"
      ],
      "text/plain": [
       "<IPython.core.display.HTML object>"
      ]
     },
     "metadata": {},
     "output_type": "display_data"
    },
    {
     "data": {
      "text/html": [
       "<style>\n",
       "    table.wandb td:nth-child(1) { padding: 0 10px; text-align: left ; width: auto;} td:nth-child(2) {text-align: left ; width: 100%}\n",
       "    .wandb-row { display: flex; flex-direction: row; flex-wrap: wrap; justify-content: flex-start; width: 100% }\n",
       "    .wandb-col { display: flex; flex-direction: column; flex-basis: 100%; flex: 1; padding: 10px; }\n",
       "    </style>\n",
       "<div class=\"wandb-row\"><div class=\"wandb-col\"><h3>Run history:</h3><br/><table class=\"wandb\"><tr><td>Accuracy</td><td>▁</td></tr><tr><td>Epoch</td><td>▁▃▅▆█</td></tr><tr><td>Training_accuracy</td><td>▁▇███</td></tr><tr><td>Training_loss</td><td>█▁▁▁▁</td></tr><tr><td>Validation_accuracy</td><td>▁█▆▄▄</td></tr><tr><td>Validation_loss</td><td>█▁▂▃▂</td></tr></table><br/></div><div class=\"wandb-col\"><h3>Run summary:</h3><br/><table class=\"wandb\"><tr><td>Accuracy</td><td>0.7614</td></tr><tr><td>Epoch</td><td>5</td></tr><tr><td>Training_accuracy</td><td>0.76523</td></tr><tr><td>Training_loss</td><td>0.68181</td></tr><tr><td>Validation_accuracy</td><td>0.7614</td></tr><tr><td>Validation_loss</td><td>0.7066</td></tr></table><br/></div></div>"
      ],
      "text/plain": [
       "<IPython.core.display.HTML object>"
      ]
     },
     "metadata": {},
     "output_type": "display_data"
    },
    {
     "data": {
      "text/html": [
       " View run <strong style=\"color:#cdcd00\">Question:4</strong> at: <a href='https://wandb.ai/cs22m083/CS6910_Assignment_1/runs/y38lh9jd' target=\"_blank\">https://wandb.ai/cs22m083/CS6910_Assignment_1/runs/y38lh9jd</a><br/>Synced 6 W&B file(s), 0 media file(s), 0 artifact file(s) and 0 other file(s)"
      ],
      "text/plain": [
       "<IPython.core.display.HTML object>"
      ]
     },
     "metadata": {},
     "output_type": "display_data"
    },
    {
     "data": {
      "text/html": [
       "Find logs at: <code>.\\wandb\\run-20230317_165259-y38lh9jd\\logs</code>"
      ],
      "text/plain": [
       "<IPython.core.display.HTML object>"
      ]
     },
     "metadata": {},
     "output_type": "display_data"
    },
    {
     "name": "stderr",
     "output_type": "stream",
     "text": [
      "\u001b[34m\u001b[1mwandb\u001b[0m: Sweep Agent: Waiting for job.\n",
      "\u001b[34m\u001b[1mwandb\u001b[0m: Job received.\n",
      "\u001b[34m\u001b[1mwandb\u001b[0m: Agent Starting Run: uv7v6lj4 with config:\n",
      "\u001b[34m\u001b[1mwandb\u001b[0m: \tactivation: tanh\n",
      "\u001b[34m\u001b[1mwandb\u001b[0m: \tbatch_size: 16\n",
      "\u001b[34m\u001b[1mwandb\u001b[0m: \tepochs: 5\n",
      "\u001b[34m\u001b[1mwandb\u001b[0m: \tgamma: 0.002\n",
      "\u001b[34m\u001b[1mwandb\u001b[0m: \thidden_layers: [32, 64]\n",
      "\u001b[34m\u001b[1mwandb\u001b[0m: \tinitialization: Xavier\n",
      "\u001b[34m\u001b[1mwandb\u001b[0m: \tlearning_rate: 0.0003\n",
      "\u001b[34m\u001b[1mwandb\u001b[0m: \toptimizer: rmsprop\n",
      "\u001b[34m\u001b[1mwandb\u001b[0m: \tweight_decay: 0\n",
      "Failed to detect the name of this notebook, you can set it manually with the WANDB_NOTEBOOK_NAME environment variable to enable code saving.\n",
      "\u001b[34m\u001b[1mwandb\u001b[0m: \u001b[33mWARNING\u001b[0m Ignored wandb.init() arg project when running a sweep.\n"
     ]
    },
    {
     "data": {
      "text/html": [
       "wandb version 0.14.0 is available!  To upgrade, please run:\n",
       " $ pip install wandb --upgrade"
      ],
      "text/plain": [
       "<IPython.core.display.HTML object>"
      ]
     },
     "metadata": {},
     "output_type": "display_data"
    },
    {
     "data": {
      "text/html": [
       "Tracking run with wandb version 0.13.10"
      ],
      "text/plain": [
       "<IPython.core.display.HTML object>"
      ]
     },
     "metadata": {},
     "output_type": "display_data"
    },
    {
     "data": {
      "text/html": [
       "Run data is saved locally in <code>C:\\Users\\Shivam Maurya\\OneDrive\\Desktop\\IIT_MADRAS\\Deep Learning\\assignment 1\\CS6910-Deep_Learning_Assignment-1\\wandb\\run-20230317_165501-uv7v6lj4</code>"
      ],
      "text/plain": [
       "<IPython.core.display.HTML object>"
      ]
     },
     "metadata": {},
     "output_type": "display_data"
    },
    {
     "data": {
      "text/html": [
       "Syncing run <strong><a href='https://wandb.ai/cs22m083/CS6910_Assignment_1/runs/uv7v6lj4' target=\"_blank\">Question:4</a></strong> to <a href='https://wandb.ai/cs22m083/CS6910_Assignment_1' target=\"_blank\">Weights & Biases</a> (<a href='https://wandb.me/run' target=\"_blank\">docs</a>)<br/>Sweep page: <a href='https://wandb.ai/cs22m083/CS6910_Assignment_1/sweeps/cezmcy51' target=\"_blank\">https://wandb.ai/cs22m083/CS6910_Assignment_1/sweeps/cezmcy51</a>"
      ],
      "text/plain": [
       "<IPython.core.display.HTML object>"
      ]
     },
     "metadata": {},
     "output_type": "display_data"
    },
    {
     "data": {
      "text/html": [
       " View project at <a href='https://wandb.ai/cs22m083/CS6910_Assignment_1' target=\"_blank\">https://wandb.ai/cs22m083/CS6910_Assignment_1</a>"
      ],
      "text/plain": [
       "<IPython.core.display.HTML object>"
      ]
     },
     "metadata": {},
     "output_type": "display_data"
    },
    {
     "data": {
      "text/html": [
       " View sweep at <a href='https://wandb.ai/cs22m083/CS6910_Assignment_1/sweeps/cezmcy51' target=\"_blank\">https://wandb.ai/cs22m083/CS6910_Assignment_1/sweeps/cezmcy51</a>"
      ],
      "text/plain": [
       "<IPython.core.display.HTML object>"
      ]
     },
     "metadata": {},
     "output_type": "display_data"
    },
    {
     "data": {
      "text/html": [
       " View run at <a href='https://wandb.ai/cs22m083/CS6910_Assignment_1/runs/uv7v6lj4' target=\"_blank\">https://wandb.ai/cs22m083/CS6910_Assignment_1/runs/uv7v6lj4</a>"
      ],
      "text/plain": [
       "<IPython.core.display.HTML object>"
      ]
     },
     "metadata": {},
     "output_type": "display_data"
    },
    {
     "name": "stdout",
     "output_type": "stream",
     "text": [
      " Training Loss:  0.4647485894241407  Validation Loss: 0.5178245448560398  Training Accuracy:  0.84645  Validation Accuracy: 0.8363\n"
     ]
    },
    {
     "data": {
      "text/html": [
       "Waiting for W&B process to finish... <strong style=\"color:green\">(success).</strong>"
      ],
      "text/plain": [
       "<IPython.core.display.HTML object>"
      ]
     },
     "metadata": {},
     "output_type": "display_data"
    },
    {
     "data": {
      "application/vnd.jupyter.widget-view+json": {
       "model_id": "ea575532f2964adc972f570968ae69eb",
       "version_major": 2,
       "version_minor": 0
      },
      "text/plain": [
       "VBox(children=(Label(value='0.001 MB of 0.001 MB uploaded (0.000 MB deduped)\\r'), FloatProgress(value=1.0, max…"
      ]
     },
     "metadata": {},
     "output_type": "display_data"
    },
    {
     "data": {
      "text/html": [
       "<style>\n",
       "    table.wandb td:nth-child(1) { padding: 0 10px; text-align: left ; width: auto;} td:nth-child(2) {text-align: left ; width: 100%}\n",
       "    .wandb-row { display: flex; flex-direction: row; flex-wrap: wrap; justify-content: flex-start; width: 100% }\n",
       "    .wandb-col { display: flex; flex-direction: column; flex-basis: 100%; flex: 1; padding: 10px; }\n",
       "    </style>\n",
       "<div class=\"wandb-row\"><div class=\"wandb-col\"><h3>Run history:</h3><br/><table class=\"wandb\"><tr><td>Accuracy</td><td>▁</td></tr><tr><td>Epoch</td><td>▁▃▅▆█</td></tr><tr><td>Training_accuracy</td><td>▁▆▇▇█</td></tr><tr><td>Training_loss</td><td>█▃▂▁▁</td></tr><tr><td>Validation_accuracy</td><td>▁▅▅██</td></tr><tr><td>Validation_loss</td><td>█▆▄▁▂</td></tr></table><br/></div><div class=\"wandb-col\"><h3>Run summary:</h3><br/><table class=\"wandb\"><tr><td>Accuracy</td><td>0.8363</td></tr><tr><td>Epoch</td><td>5</td></tr><tr><td>Training_accuracy</td><td>0.84645</td></tr><tr><td>Training_loss</td><td>0.46475</td></tr><tr><td>Validation_accuracy</td><td>0.8363</td></tr><tr><td>Validation_loss</td><td>0.51782</td></tr></table><br/></div></div>"
      ],
      "text/plain": [
       "<IPython.core.display.HTML object>"
      ]
     },
     "metadata": {},
     "output_type": "display_data"
    },
    {
     "data": {
      "text/html": [
       " View run <strong style=\"color:#cdcd00\">Question:4</strong> at: <a href='https://wandb.ai/cs22m083/CS6910_Assignment_1/runs/uv7v6lj4' target=\"_blank\">https://wandb.ai/cs22m083/CS6910_Assignment_1/runs/uv7v6lj4</a><br/>Synced 6 W&B file(s), 0 media file(s), 0 artifact file(s) and 0 other file(s)"
      ],
      "text/plain": [
       "<IPython.core.display.HTML object>"
      ]
     },
     "metadata": {},
     "output_type": "display_data"
    },
    {
     "data": {
      "text/html": [
       "Find logs at: <code>.\\wandb\\run-20230317_165501-uv7v6lj4\\logs</code>"
      ],
      "text/plain": [
       "<IPython.core.display.HTML object>"
      ]
     },
     "metadata": {},
     "output_type": "display_data"
    },
    {
     "name": "stderr",
     "output_type": "stream",
     "text": [
      "\u001b[34m\u001b[1mwandb\u001b[0m: Agent Starting Run: nwqsnivc with config:\n",
      "\u001b[34m\u001b[1mwandb\u001b[0m: \tactivation: tanh\n",
      "\u001b[34m\u001b[1mwandb\u001b[0m: \tbatch_size: 32\n",
      "\u001b[34m\u001b[1mwandb\u001b[0m: \tepochs: 5\n",
      "\u001b[34m\u001b[1mwandb\u001b[0m: \tgamma: 0.03\n",
      "\u001b[34m\u001b[1mwandb\u001b[0m: \thidden_layers: [32, 64, 128, 256]\n",
      "\u001b[34m\u001b[1mwandb\u001b[0m: \tinitialization: Xavier\n",
      "\u001b[34m\u001b[1mwandb\u001b[0m: \tlearning_rate: 0.0001\n",
      "\u001b[34m\u001b[1mwandb\u001b[0m: \toptimizer: adam\n",
      "\u001b[34m\u001b[1mwandb\u001b[0m: \tweight_decay: 0.0005\n",
      "Failed to detect the name of this notebook, you can set it manually with the WANDB_NOTEBOOK_NAME environment variable to enable code saving.\n",
      "\u001b[34m\u001b[1mwandb\u001b[0m: \u001b[33mWARNING\u001b[0m Ignored wandb.init() arg project when running a sweep.\n"
     ]
    },
    {
     "data": {
      "text/html": [
       "wandb version 0.14.0 is available!  To upgrade, please run:\n",
       " $ pip install wandb --upgrade"
      ],
      "text/plain": [
       "<IPython.core.display.HTML object>"
      ]
     },
     "metadata": {},
     "output_type": "display_data"
    },
    {
     "data": {
      "text/html": [
       "Tracking run with wandb version 0.13.10"
      ],
      "text/plain": [
       "<IPython.core.display.HTML object>"
      ]
     },
     "metadata": {},
     "output_type": "display_data"
    },
    {
     "data": {
      "text/html": [
       "Run data is saved locally in <code>C:\\Users\\Shivam Maurya\\OneDrive\\Desktop\\IIT_MADRAS\\Deep Learning\\assignment 1\\CS6910-Deep_Learning_Assignment-1\\wandb\\run-20230317_165632-nwqsnivc</code>"
      ],
      "text/plain": [
       "<IPython.core.display.HTML object>"
      ]
     },
     "metadata": {},
     "output_type": "display_data"
    },
    {
     "data": {
      "text/html": [
       "Syncing run <strong><a href='https://wandb.ai/cs22m083/CS6910_Assignment_1/runs/nwqsnivc' target=\"_blank\">Question:4</a></strong> to <a href='https://wandb.ai/cs22m083/CS6910_Assignment_1' target=\"_blank\">Weights & Biases</a> (<a href='https://wandb.me/run' target=\"_blank\">docs</a>)<br/>Sweep page: <a href='https://wandb.ai/cs22m083/CS6910_Assignment_1/sweeps/cezmcy51' target=\"_blank\">https://wandb.ai/cs22m083/CS6910_Assignment_1/sweeps/cezmcy51</a>"
      ],
      "text/plain": [
       "<IPython.core.display.HTML object>"
      ]
     },
     "metadata": {},
     "output_type": "display_data"
    },
    {
     "data": {
      "text/html": [
       " View project at <a href='https://wandb.ai/cs22m083/CS6910_Assignment_1' target=\"_blank\">https://wandb.ai/cs22m083/CS6910_Assignment_1</a>"
      ],
      "text/plain": [
       "<IPython.core.display.HTML object>"
      ]
     },
     "metadata": {},
     "output_type": "display_data"
    },
    {
     "data": {
      "text/html": [
       " View sweep at <a href='https://wandb.ai/cs22m083/CS6910_Assignment_1/sweeps/cezmcy51' target=\"_blank\">https://wandb.ai/cs22m083/CS6910_Assignment_1/sweeps/cezmcy51</a>"
      ],
      "text/plain": [
       "<IPython.core.display.HTML object>"
      ]
     },
     "metadata": {},
     "output_type": "display_data"
    },
    {
     "data": {
      "text/html": [
       " View run at <a href='https://wandb.ai/cs22m083/CS6910_Assignment_1/runs/nwqsnivc' target=\"_blank\">https://wandb.ai/cs22m083/CS6910_Assignment_1/runs/nwqsnivc</a>"
      ],
      "text/plain": [
       "<IPython.core.display.HTML object>"
      ]
     },
     "metadata": {},
     "output_type": "display_data"
    },
    {
     "name": "stdout",
     "output_type": "stream",
     "text": [
      " Training Loss:  0.3709904071463237  Validation Loss: 0.4050658145820652  Training Accuracy:  0.8662  Validation Accuracy: 0.8538\n"
     ]
    },
    {
     "data": {
      "text/html": [
       "Waiting for W&B process to finish... <strong style=\"color:green\">(success).</strong>"
      ],
      "text/plain": [
       "<IPython.core.display.HTML object>"
      ]
     },
     "metadata": {},
     "output_type": "display_data"
    },
    {
     "data": {
      "text/html": [
       "<style>\n",
       "    table.wandb td:nth-child(1) { padding: 0 10px; text-align: left ; width: auto;} td:nth-child(2) {text-align: left ; width: 100%}\n",
       "    .wandb-row { display: flex; flex-direction: row; flex-wrap: wrap; justify-content: flex-start; width: 100% }\n",
       "    .wandb-col { display: flex; flex-direction: column; flex-basis: 100%; flex: 1; padding: 10px; }\n",
       "    </style>\n",
       "<div class=\"wandb-row\"><div class=\"wandb-col\"><h3>Run history:</h3><br/><table class=\"wandb\"><tr><td>Accuracy</td><td>▁</td></tr><tr><td>Epoch</td><td>▁▃▅▆█</td></tr><tr><td>Training_accuracy</td><td>▁▆▇██</td></tr><tr><td>Training_loss</td><td>█▃▂▁▁</td></tr><tr><td>Validation_accuracy</td><td>▁▄▆▇█</td></tr><tr><td>Validation_loss</td><td>█▅▃▂▁</td></tr></table><br/></div><div class=\"wandb-col\"><h3>Run summary:</h3><br/><table class=\"wandb\"><tr><td>Accuracy</td><td>0.8538</td></tr><tr><td>Epoch</td><td>5</td></tr><tr><td>Training_accuracy</td><td>0.8662</td></tr><tr><td>Training_loss</td><td>0.37099</td></tr><tr><td>Validation_accuracy</td><td>0.8538</td></tr><tr><td>Validation_loss</td><td>0.40507</td></tr></table><br/></div></div>"
      ],
      "text/plain": [
       "<IPython.core.display.HTML object>"
      ]
     },
     "metadata": {},
     "output_type": "display_data"
    },
    {
     "data": {
      "text/html": [
       " View run <strong style=\"color:#cdcd00\">Question:4</strong> at: <a href='https://wandb.ai/cs22m083/CS6910_Assignment_1/runs/nwqsnivc' target=\"_blank\">https://wandb.ai/cs22m083/CS6910_Assignment_1/runs/nwqsnivc</a><br/>Synced 6 W&B file(s), 0 media file(s), 0 artifact file(s) and 0 other file(s)"
      ],
      "text/plain": [
       "<IPython.core.display.HTML object>"
      ]
     },
     "metadata": {},
     "output_type": "display_data"
    },
    {
     "data": {
      "text/html": [
       "Find logs at: <code>.\\wandb\\run-20230317_165632-nwqsnivc\\logs</code>"
      ],
      "text/plain": [
       "<IPython.core.display.HTML object>"
      ]
     },
     "metadata": {},
     "output_type": "display_data"
    },
    {
     "name": "stderr",
     "output_type": "stream",
     "text": [
      "\u001b[34m\u001b[1mwandb\u001b[0m: Agent Starting Run: oukaqp58 with config:\n",
      "\u001b[34m\u001b[1mwandb\u001b[0m: \tactivation: relu\n",
      "\u001b[34m\u001b[1mwandb\u001b[0m: \tbatch_size: 64\n",
      "\u001b[34m\u001b[1mwandb\u001b[0m: \tepochs: 5\n",
      "\u001b[34m\u001b[1mwandb\u001b[0m: \tgamma: 0.03\n",
      "\u001b[34m\u001b[1mwandb\u001b[0m: \thidden_layers: [32, 64, 128]\n",
      "\u001b[34m\u001b[1mwandb\u001b[0m: \tinitialization: Xavier\n",
      "\u001b[34m\u001b[1mwandb\u001b[0m: \tlearning_rate: 0.01\n",
      "\u001b[34m\u001b[1mwandb\u001b[0m: \toptimizer: rmsprop\n",
      "\u001b[34m\u001b[1mwandb\u001b[0m: \tweight_decay: 0\n",
      "Failed to detect the name of this notebook, you can set it manually with the WANDB_NOTEBOOK_NAME environment variable to enable code saving.\n",
      "\u001b[34m\u001b[1mwandb\u001b[0m: \u001b[33mWARNING\u001b[0m Ignored wandb.init() arg project when running a sweep.\n"
     ]
    },
    {
     "data": {
      "text/html": [
       "wandb version 0.14.0 is available!  To upgrade, please run:\n",
       " $ pip install wandb --upgrade"
      ],
      "text/plain": [
       "<IPython.core.display.HTML object>"
      ]
     },
     "metadata": {},
     "output_type": "display_data"
    },
    {
     "data": {
      "text/html": [
       "Tracking run with wandb version 0.13.10"
      ],
      "text/plain": [
       "<IPython.core.display.HTML object>"
      ]
     },
     "metadata": {},
     "output_type": "display_data"
    },
    {
     "data": {
      "text/html": [
       "Run data is saved locally in <code>C:\\Users\\Shivam Maurya\\OneDrive\\Desktop\\IIT_MADRAS\\Deep Learning\\assignment 1\\CS6910-Deep_Learning_Assignment-1\\wandb\\run-20230317_165907-oukaqp58</code>"
      ],
      "text/plain": [
       "<IPython.core.display.HTML object>"
      ]
     },
     "metadata": {},
     "output_type": "display_data"
    },
    {
     "data": {
      "text/html": [
       "Syncing run <strong><a href='https://wandb.ai/cs22m083/CS6910_Assignment_1/runs/oukaqp58' target=\"_blank\">Question:4</a></strong> to <a href='https://wandb.ai/cs22m083/CS6910_Assignment_1' target=\"_blank\">Weights & Biases</a> (<a href='https://wandb.me/run' target=\"_blank\">docs</a>)<br/>Sweep page: <a href='https://wandb.ai/cs22m083/CS6910_Assignment_1/sweeps/cezmcy51' target=\"_blank\">https://wandb.ai/cs22m083/CS6910_Assignment_1/sweeps/cezmcy51</a>"
      ],
      "text/plain": [
       "<IPython.core.display.HTML object>"
      ]
     },
     "metadata": {},
     "output_type": "display_data"
    },
    {
     "data": {
      "text/html": [
       " View project at <a href='https://wandb.ai/cs22m083/CS6910_Assignment_1' target=\"_blank\">https://wandb.ai/cs22m083/CS6910_Assignment_1</a>"
      ],
      "text/plain": [
       "<IPython.core.display.HTML object>"
      ]
     },
     "metadata": {},
     "output_type": "display_data"
    },
    {
     "data": {
      "text/html": [
       " View sweep at <a href='https://wandb.ai/cs22m083/CS6910_Assignment_1/sweeps/cezmcy51' target=\"_blank\">https://wandb.ai/cs22m083/CS6910_Assignment_1/sweeps/cezmcy51</a>"
      ],
      "text/plain": [
       "<IPython.core.display.HTML object>"
      ]
     },
     "metadata": {},
     "output_type": "display_data"
    },
    {
     "data": {
      "text/html": [
       " View run at <a href='https://wandb.ai/cs22m083/CS6910_Assignment_1/runs/oukaqp58' target=\"_blank\">https://wandb.ai/cs22m083/CS6910_Assignment_1/runs/oukaqp58</a>"
      ],
      "text/plain": [
       "<IPython.core.display.HTML object>"
      ]
     },
     "metadata": {},
     "output_type": "display_data"
    },
    {
     "name": "stdout",
     "output_type": "stream",
     "text": [
      " Training Loss:  1.7140765409756828  Validation Loss: 1.9444745864792197  Training Accuracy:  0.7181166666666666  Validation Accuracy: 0.7306\n"
     ]
    },
    {
     "data": {
      "text/html": [
       "Waiting for W&B process to finish... <strong style=\"color:green\">(success).</strong>"
      ],
      "text/plain": [
       "<IPython.core.display.HTML object>"
      ]
     },
     "metadata": {},
     "output_type": "display_data"
    },
    {
     "data": {
      "application/vnd.jupyter.widget-view+json": {
       "model_id": "d84ac750dd9f45d29fde01429153f048",
       "version_major": 2,
       "version_minor": 0
      },
      "text/plain": [
       "VBox(children=(Label(value='0.001 MB of 0.001 MB uploaded (0.000 MB deduped)\\r'), FloatProgress(value=1.0, max…"
      ]
     },
     "metadata": {},
     "output_type": "display_data"
    },
    {
     "data": {
      "text/html": [
       "<style>\n",
       "    table.wandb td:nth-child(1) { padding: 0 10px; text-align: left ; width: auto;} td:nth-child(2) {text-align: left ; width: 100%}\n",
       "    .wandb-row { display: flex; flex-direction: row; flex-wrap: wrap; justify-content: flex-start; width: 100% }\n",
       "    .wandb-col { display: flex; flex-direction: column; flex-basis: 100%; flex: 1; padding: 10px; }\n",
       "    </style>\n",
       "<div class=\"wandb-row\"><div class=\"wandb-col\"><h3>Run history:</h3><br/><table class=\"wandb\"><tr><td>Accuracy</td><td>▁</td></tr><tr><td>Epoch</td><td>▁▃▅▆█</td></tr><tr><td>Training_accuracy</td><td>▃▇▁▄█</td></tr><tr><td>Training_loss</td><td>▁▂█▃▁</td></tr><tr><td>Validation_accuracy</td><td>▆▁▅█▇</td></tr><tr><td>Validation_loss</td><td>▂█▃▁▂</td></tr></table><br/></div><div class=\"wandb-col\"><h3>Run summary:</h3><br/><table class=\"wandb\"><tr><td>Accuracy</td><td>0.7306</td></tr><tr><td>Epoch</td><td>5</td></tr><tr><td>Training_accuracy</td><td>0.71812</td></tr><tr><td>Training_loss</td><td>1.71408</td></tr><tr><td>Validation_accuracy</td><td>0.7306</td></tr><tr><td>Validation_loss</td><td>1.94447</td></tr></table><br/></div></div>"
      ],
      "text/plain": [
       "<IPython.core.display.HTML object>"
      ]
     },
     "metadata": {},
     "output_type": "display_data"
    },
    {
     "data": {
      "text/html": [
       " View run <strong style=\"color:#cdcd00\">Question:4</strong> at: <a href='https://wandb.ai/cs22m083/CS6910_Assignment_1/runs/oukaqp58' target=\"_blank\">https://wandb.ai/cs22m083/CS6910_Assignment_1/runs/oukaqp58</a><br/>Synced 6 W&B file(s), 0 media file(s), 0 artifact file(s) and 0 other file(s)"
      ],
      "text/plain": [
       "<IPython.core.display.HTML object>"
      ]
     },
     "metadata": {},
     "output_type": "display_data"
    },
    {
     "data": {
      "text/html": [
       "Find logs at: <code>.\\wandb\\run-20230317_165907-oukaqp58\\logs</code>"
      ],
      "text/plain": [
       "<IPython.core.display.HTML object>"
      ]
     },
     "metadata": {},
     "output_type": "display_data"
    },
    {
     "name": "stderr",
     "output_type": "stream",
     "text": [
      "\u001b[34m\u001b[1mwandb\u001b[0m: Agent Starting Run: yccagifg with config:\n",
      "\u001b[34m\u001b[1mwandb\u001b[0m: \tactivation: sigmoid\n",
      "\u001b[34m\u001b[1mwandb\u001b[0m: \tbatch_size: 32\n",
      "\u001b[34m\u001b[1mwandb\u001b[0m: \tepochs: 10\n",
      "\u001b[34m\u001b[1mwandb\u001b[0m: \tgamma: 0.03\n",
      "\u001b[34m\u001b[1mwandb\u001b[0m: \thidden_layers: [32, 64, 128, 256]\n",
      "\u001b[34m\u001b[1mwandb\u001b[0m: \tinitialization: Xavier\n",
      "\u001b[34m\u001b[1mwandb\u001b[0m: \tlearning_rate: 0.01\n",
      "\u001b[34m\u001b[1mwandb\u001b[0m: \toptimizer: rmsprop\n",
      "\u001b[34m\u001b[1mwandb\u001b[0m: \tweight_decay: 0\n",
      "Failed to detect the name of this notebook, you can set it manually with the WANDB_NOTEBOOK_NAME environment variable to enable code saving.\n",
      "\u001b[34m\u001b[1mwandb\u001b[0m: \u001b[33mWARNING\u001b[0m Ignored wandb.init() arg project when running a sweep.\n"
     ]
    },
    {
     "data": {
      "text/html": [
       "wandb version 0.14.0 is available!  To upgrade, please run:\n",
       " $ pip install wandb --upgrade"
      ],
      "text/plain": [
       "<IPython.core.display.HTML object>"
      ]
     },
     "metadata": {},
     "output_type": "display_data"
    },
    {
     "data": {
      "text/html": [
       "Tracking run with wandb version 0.13.10"
      ],
      "text/plain": [
       "<IPython.core.display.HTML object>"
      ]
     },
     "metadata": {},
     "output_type": "display_data"
    },
    {
     "data": {
      "text/html": [
       "Run data is saved locally in <code>C:\\Users\\Shivam Maurya\\OneDrive\\Desktop\\IIT_MADRAS\\Deep Learning\\assignment 1\\CS6910-Deep_Learning_Assignment-1\\wandb\\run-20230317_170054-yccagifg</code>"
      ],
      "text/plain": [
       "<IPython.core.display.HTML object>"
      ]
     },
     "metadata": {},
     "output_type": "display_data"
    },
    {
     "data": {
      "text/html": [
       "Syncing run <strong><a href='https://wandb.ai/cs22m083/CS6910_Assignment_1/runs/yccagifg' target=\"_blank\">Question:4</a></strong> to <a href='https://wandb.ai/cs22m083/CS6910_Assignment_1' target=\"_blank\">Weights & Biases</a> (<a href='https://wandb.me/run' target=\"_blank\">docs</a>)<br/>Sweep page: <a href='https://wandb.ai/cs22m083/CS6910_Assignment_1/sweeps/cezmcy51' target=\"_blank\">https://wandb.ai/cs22m083/CS6910_Assignment_1/sweeps/cezmcy51</a>"
      ],
      "text/plain": [
       "<IPython.core.display.HTML object>"
      ]
     },
     "metadata": {},
     "output_type": "display_data"
    },
    {
     "data": {
      "text/html": [
       " View project at <a href='https://wandb.ai/cs22m083/CS6910_Assignment_1' target=\"_blank\">https://wandb.ai/cs22m083/CS6910_Assignment_1</a>"
      ],
      "text/plain": [
       "<IPython.core.display.HTML object>"
      ]
     },
     "metadata": {},
     "output_type": "display_data"
    },
    {
     "data": {
      "text/html": [
       " View sweep at <a href='https://wandb.ai/cs22m083/CS6910_Assignment_1/sweeps/cezmcy51' target=\"_blank\">https://wandb.ai/cs22m083/CS6910_Assignment_1/sweeps/cezmcy51</a>"
      ],
      "text/plain": [
       "<IPython.core.display.HTML object>"
      ]
     },
     "metadata": {},
     "output_type": "display_data"
    },
    {
     "data": {
      "text/html": [
       " View run at <a href='https://wandb.ai/cs22m083/CS6910_Assignment_1/runs/yccagifg' target=\"_blank\">https://wandb.ai/cs22m083/CS6910_Assignment_1/runs/yccagifg</a>"
      ],
      "text/plain": [
       "<IPython.core.display.HTML object>"
      ]
     },
     "metadata": {},
     "output_type": "display_data"
    },
    {
     "name": "stdout",
     "output_type": "stream",
     "text": [
      " Training Loss:  1.0613510359044416  Validation Loss: 1.3159098053630955  Training Accuracy:  0.8076666666666666  Validation Accuracy: 0.7949\n"
     ]
    },
    {
     "data": {
      "text/html": [
       "Waiting for W&B process to finish... <strong style=\"color:green\">(success).</strong>"
      ],
      "text/plain": [
       "<IPython.core.display.HTML object>"
      ]
     },
     "metadata": {},
     "output_type": "display_data"
    },
    {
     "data": {
      "text/html": [
       "<style>\n",
       "    table.wandb td:nth-child(1) { padding: 0 10px; text-align: left ; width: auto;} td:nth-child(2) {text-align: left ; width: 100%}\n",
       "    .wandb-row { display: flex; flex-direction: row; flex-wrap: wrap; justify-content: flex-start; width: 100% }\n",
       "    .wandb-col { display: flex; flex-direction: column; flex-basis: 100%; flex: 1; padding: 10px; }\n",
       "    </style>\n",
       "<div class=\"wandb-row\"><div class=\"wandb-col\"><h3>Run history:</h3><br/><table class=\"wandb\"><tr><td>Accuracy</td><td>▁</td></tr><tr><td>Epoch</td><td>▁▂▃▃▄▅▆▆▇█</td></tr><tr><td>Training_accuracy</td><td>▁▆▇███████</td></tr><tr><td>Training_loss</td><td>█▂▁▂▂▂▄▅▅▇</td></tr><tr><td>Validation_accuracy</td><td>▁▆▅██▄▇█▇▆</td></tr><tr><td>Validation_loss</td><td>▃▂▂▁▂▅▅▇▇█</td></tr></table><br/></div><div class=\"wandb-col\"><h3>Run summary:</h3><br/><table class=\"wandb\"><tr><td>Accuracy</td><td>0.7949</td></tr><tr><td>Epoch</td><td>10</td></tr><tr><td>Training_accuracy</td><td>0.80767</td></tr><tr><td>Training_loss</td><td>1.06135</td></tr><tr><td>Validation_accuracy</td><td>0.7949</td></tr><tr><td>Validation_loss</td><td>1.31591</td></tr></table><br/></div></div>"
      ],
      "text/plain": [
       "<IPython.core.display.HTML object>"
      ]
     },
     "metadata": {},
     "output_type": "display_data"
    },
    {
     "data": {
      "text/html": [
       " View run <strong style=\"color:#cdcd00\">Question:4</strong> at: <a href='https://wandb.ai/cs22m083/CS6910_Assignment_1/runs/yccagifg' target=\"_blank\">https://wandb.ai/cs22m083/CS6910_Assignment_1/runs/yccagifg</a><br/>Synced 6 W&B file(s), 0 media file(s), 0 artifact file(s) and 0 other file(s)"
      ],
      "text/plain": [
       "<IPython.core.display.HTML object>"
      ]
     },
     "metadata": {},
     "output_type": "display_data"
    },
    {
     "data": {
      "text/html": [
       "Find logs at: <code>.\\wandb\\run-20230317_170054-yccagifg\\logs</code>"
      ],
      "text/plain": [
       "<IPython.core.display.HTML object>"
      ]
     },
     "metadata": {},
     "output_type": "display_data"
    },
    {
     "name": "stderr",
     "output_type": "stream",
     "text": [
      "\u001b[34m\u001b[1mwandb\u001b[0m: Agent Starting Run: yglian6h with config:\n",
      "\u001b[34m\u001b[1mwandb\u001b[0m: \tactivation: relu\n",
      "\u001b[34m\u001b[1mwandb\u001b[0m: \tbatch_size: 32\n",
      "\u001b[34m\u001b[1mwandb\u001b[0m: \tepochs: 10\n",
      "\u001b[34m\u001b[1mwandb\u001b[0m: \tgamma: 0.0006\n",
      "\u001b[34m\u001b[1mwandb\u001b[0m: \thidden_layers: [32, 64, 128]\n",
      "\u001b[34m\u001b[1mwandb\u001b[0m: \tinitialization: Xavier\n",
      "\u001b[34m\u001b[1mwandb\u001b[0m: \tlearning_rate: 0.01\n",
      "\u001b[34m\u001b[1mwandb\u001b[0m: \toptimizer: sgd\n",
      "\u001b[34m\u001b[1mwandb\u001b[0m: \tweight_decay: 0\n",
      "Failed to detect the name of this notebook, you can set it manually with the WANDB_NOTEBOOK_NAME environment variable to enable code saving.\n",
      "\u001b[34m\u001b[1mwandb\u001b[0m: \u001b[33mWARNING\u001b[0m Ignored wandb.init() arg project when running a sweep.\n"
     ]
    },
    {
     "data": {
      "text/html": [
       "wandb version 0.14.0 is available!  To upgrade, please run:\n",
       " $ pip install wandb --upgrade"
      ],
      "text/plain": [
       "<IPython.core.display.HTML object>"
      ]
     },
     "metadata": {},
     "output_type": "display_data"
    },
    {
     "data": {
      "text/html": [
       "Tracking run with wandb version 0.13.10"
      ],
      "text/plain": [
       "<IPython.core.display.HTML object>"
      ]
     },
     "metadata": {},
     "output_type": "display_data"
    },
    {
     "data": {
      "text/html": [
       "Run data is saved locally in <code>C:\\Users\\Shivam Maurya\\OneDrive\\Desktop\\IIT_MADRAS\\Deep Learning\\assignment 1\\CS6910-Deep_Learning_Assignment-1\\wandb\\run-20230317_170552-yglian6h</code>"
      ],
      "text/plain": [
       "<IPython.core.display.HTML object>"
      ]
     },
     "metadata": {},
     "output_type": "display_data"
    },
    {
     "data": {
      "text/html": [
       "Syncing run <strong><a href='https://wandb.ai/cs22m083/CS6910_Assignment_1/runs/yglian6h' target=\"_blank\">Question:4</a></strong> to <a href='https://wandb.ai/cs22m083/CS6910_Assignment_1' target=\"_blank\">Weights & Biases</a> (<a href='https://wandb.me/run' target=\"_blank\">docs</a>)<br/>Sweep page: <a href='https://wandb.ai/cs22m083/CS6910_Assignment_1/sweeps/cezmcy51' target=\"_blank\">https://wandb.ai/cs22m083/CS6910_Assignment_1/sweeps/cezmcy51</a>"
      ],
      "text/plain": [
       "<IPython.core.display.HTML object>"
      ]
     },
     "metadata": {},
     "output_type": "display_data"
    },
    {
     "data": {
      "text/html": [
       " View project at <a href='https://wandb.ai/cs22m083/CS6910_Assignment_1' target=\"_blank\">https://wandb.ai/cs22m083/CS6910_Assignment_1</a>"
      ],
      "text/plain": [
       "<IPython.core.display.HTML object>"
      ]
     },
     "metadata": {},
     "output_type": "display_data"
    },
    {
     "data": {
      "text/html": [
       " View sweep at <a href='https://wandb.ai/cs22m083/CS6910_Assignment_1/sweeps/cezmcy51' target=\"_blank\">https://wandb.ai/cs22m083/CS6910_Assignment_1/sweeps/cezmcy51</a>"
      ],
      "text/plain": [
       "<IPython.core.display.HTML object>"
      ]
     },
     "metadata": {},
     "output_type": "display_data"
    },
    {
     "data": {
      "text/html": [
       " View run at <a href='https://wandb.ai/cs22m083/CS6910_Assignment_1/runs/yglian6h' target=\"_blank\">https://wandb.ai/cs22m083/CS6910_Assignment_1/runs/yglian6h</a>"
      ],
      "text/plain": [
       "<IPython.core.display.HTML object>"
      ]
     },
     "metadata": {},
     "output_type": "display_data"
    },
    {
     "name": "stdout",
     "output_type": "stream",
     "text": [
      " Training Loss:  0.3449210481498605  Validation Loss: 0.42942877470310115  Training Accuracy:  0.8719166666666667  Validation Accuracy: 0.8448\n"
     ]
    },
    {
     "data": {
      "text/html": [
       "Waiting for W&B process to finish... <strong style=\"color:green\">(success).</strong>"
      ],
      "text/plain": [
       "<IPython.core.display.HTML object>"
      ]
     },
     "metadata": {},
     "output_type": "display_data"
    },
    {
     "data": {
      "application/vnd.jupyter.widget-view+json": {
       "model_id": "cd8d2eeb767947cf8340a13ae3298eac",
       "version_major": 2,
       "version_minor": 0
      },
      "text/plain": [
       "VBox(children=(Label(value='0.001 MB of 0.001 MB uploaded (0.000 MB deduped)\\r'), FloatProgress(value=1.0, max…"
      ]
     },
     "metadata": {},
     "output_type": "display_data"
    },
    {
     "data": {
      "text/html": [
       "<style>\n",
       "    table.wandb td:nth-child(1) { padding: 0 10px; text-align: left ; width: auto;} td:nth-child(2) {text-align: left ; width: 100%}\n",
       "    .wandb-row { display: flex; flex-direction: row; flex-wrap: wrap; justify-content: flex-start; width: 100% }\n",
       "    .wandb-col { display: flex; flex-direction: column; flex-basis: 100%; flex: 1; padding: 10px; }\n",
       "    </style>\n",
       "<div class=\"wandb-row\"><div class=\"wandb-col\"><h3>Run history:</h3><br/><table class=\"wandb\"><tr><td>Accuracy</td><td>▁</td></tr><tr><td>Epoch</td><td>▁▂▃▃▄▅▆▆▇█</td></tr><tr><td>Training_accuracy</td><td>▁▆▇▇▇█████</td></tr><tr><td>Training_loss</td><td>█▃▃▂▂▂▁▁▁▁</td></tr><tr><td>Validation_accuracy</td><td>▁▄▇▇▇▇▇███</td></tr><tr><td>Validation_loss</td><td>█▅▁▂▂▂▂▁▁▂</td></tr></table><br/></div><div class=\"wandb-col\"><h3>Run summary:</h3><br/><table class=\"wandb\"><tr><td>Accuracy</td><td>0.8448</td></tr><tr><td>Epoch</td><td>10</td></tr><tr><td>Training_accuracy</td><td>0.87192</td></tr><tr><td>Training_loss</td><td>0.34492</td></tr><tr><td>Validation_accuracy</td><td>0.8448</td></tr><tr><td>Validation_loss</td><td>0.42943</td></tr></table><br/></div></div>"
      ],
      "text/plain": [
       "<IPython.core.display.HTML object>"
      ]
     },
     "metadata": {},
     "output_type": "display_data"
    },
    {
     "data": {
      "text/html": [
       " View run <strong style=\"color:#cdcd00\">Question:4</strong> at: <a href='https://wandb.ai/cs22m083/CS6910_Assignment_1/runs/yglian6h' target=\"_blank\">https://wandb.ai/cs22m083/CS6910_Assignment_1/runs/yglian6h</a><br/>Synced 6 W&B file(s), 0 media file(s), 0 artifact file(s) and 0 other file(s)"
      ],
      "text/plain": [
       "<IPython.core.display.HTML object>"
      ]
     },
     "metadata": {},
     "output_type": "display_data"
    },
    {
     "data": {
      "text/html": [
       "Find logs at: <code>.\\wandb\\run-20230317_170552-yglian6h\\logs</code>"
      ],
      "text/plain": [
       "<IPython.core.display.HTML object>"
      ]
     },
     "metadata": {},
     "output_type": "display_data"
    },
    {
     "name": "stderr",
     "output_type": "stream",
     "text": [
      "\u001b[34m\u001b[1mwandb\u001b[0m: Agent Starting Run: crpsk0ez with config:\n",
      "\u001b[34m\u001b[1mwandb\u001b[0m: \tactivation: sigmoid\n",
      "\u001b[34m\u001b[1mwandb\u001b[0m: \tbatch_size: 64\n",
      "\u001b[34m\u001b[1mwandb\u001b[0m: \tepochs: 5\n",
      "\u001b[34m\u001b[1mwandb\u001b[0m: \tgamma: 0.03\n",
      "\u001b[34m\u001b[1mwandb\u001b[0m: \thidden_layers: [32, 64, 128]\n",
      "\u001b[34m\u001b[1mwandb\u001b[0m: \tinitialization: Random\n",
      "\u001b[34m\u001b[1mwandb\u001b[0m: \tlearning_rate: 0.0003\n",
      "\u001b[34m\u001b[1mwandb\u001b[0m: \toptimizer: momentum\n",
      "\u001b[34m\u001b[1mwandb\u001b[0m: \tweight_decay: 0.0005\n",
      "Failed to detect the name of this notebook, you can set it manually with the WANDB_NOTEBOOK_NAME environment variable to enable code saving.\n",
      "\u001b[34m\u001b[1mwandb\u001b[0m: \u001b[33mWARNING\u001b[0m Ignored wandb.init() arg project when running a sweep.\n"
     ]
    },
    {
     "data": {
      "text/html": [
       "wandb version 0.14.0 is available!  To upgrade, please run:\n",
       " $ pip install wandb --upgrade"
      ],
      "text/plain": [
       "<IPython.core.display.HTML object>"
      ]
     },
     "metadata": {},
     "output_type": "display_data"
    },
    {
     "data": {
      "text/html": [
       "Tracking run with wandb version 0.13.10"
      ],
      "text/plain": [
       "<IPython.core.display.HTML object>"
      ]
     },
     "metadata": {},
     "output_type": "display_data"
    },
    {
     "data": {
      "text/html": [
       "Run data is saved locally in <code>C:\\Users\\Shivam Maurya\\OneDrive\\Desktop\\IIT_MADRAS\\Deep Learning\\assignment 1\\CS6910-Deep_Learning_Assignment-1\\wandb\\run-20230317_170900-crpsk0ez</code>"
      ],
      "text/plain": [
       "<IPython.core.display.HTML object>"
      ]
     },
     "metadata": {},
     "output_type": "display_data"
    },
    {
     "data": {
      "text/html": [
       "Syncing run <strong><a href='https://wandb.ai/cs22m083/CS6910_Assignment_1/runs/crpsk0ez' target=\"_blank\">Question:4</a></strong> to <a href='https://wandb.ai/cs22m083/CS6910_Assignment_1' target=\"_blank\">Weights & Biases</a> (<a href='https://wandb.me/run' target=\"_blank\">docs</a>)<br/>Sweep page: <a href='https://wandb.ai/cs22m083/CS6910_Assignment_1/sweeps/cezmcy51' target=\"_blank\">https://wandb.ai/cs22m083/CS6910_Assignment_1/sweeps/cezmcy51</a>"
      ],
      "text/plain": [
       "<IPython.core.display.HTML object>"
      ]
     },
     "metadata": {},
     "output_type": "display_data"
    },
    {
     "data": {
      "text/html": [
       " View project at <a href='https://wandb.ai/cs22m083/CS6910_Assignment_1' target=\"_blank\">https://wandb.ai/cs22m083/CS6910_Assignment_1</a>"
      ],
      "text/plain": [
       "<IPython.core.display.HTML object>"
      ]
     },
     "metadata": {},
     "output_type": "display_data"
    },
    {
     "data": {
      "text/html": [
       " View sweep at <a href='https://wandb.ai/cs22m083/CS6910_Assignment_1/sweeps/cezmcy51' target=\"_blank\">https://wandb.ai/cs22m083/CS6910_Assignment_1/sweeps/cezmcy51</a>"
      ],
      "text/plain": [
       "<IPython.core.display.HTML object>"
      ]
     },
     "metadata": {},
     "output_type": "display_data"
    },
    {
     "data": {
      "text/html": [
       " View run at <a href='https://wandb.ai/cs22m083/CS6910_Assignment_1/runs/crpsk0ez' target=\"_blank\">https://wandb.ai/cs22m083/CS6910_Assignment_1/runs/crpsk0ez</a>"
      ],
      "text/plain": [
       "<IPython.core.display.HTML object>"
      ]
     },
     "metadata": {},
     "output_type": "display_data"
    },
    {
     "name": "stdout",
     "output_type": "stream",
     "text": [
      " Training Loss:  0.8324159468314088  Validation Loss: 0.8296167104126998  Training Accuracy:  0.69485  Validation Accuracy: 0.6886\n"
     ]
    },
    {
     "data": {
      "text/html": [
       "Waiting for W&B process to finish... <strong style=\"color:green\">(success).</strong>"
      ],
      "text/plain": [
       "<IPython.core.display.HTML object>"
      ]
     },
     "metadata": {},
     "output_type": "display_data"
    },
    {
     "data": {
      "application/vnd.jupyter.widget-view+json": {
       "model_id": "e2f9b6ab2e914d059c438070cdb38365",
       "version_major": 2,
       "version_minor": 0
      },
      "text/plain": [
       "VBox(children=(Label(value='0.001 MB of 0.001 MB uploaded (0.000 MB deduped)\\r'), FloatProgress(value=1.0, max…"
      ]
     },
     "metadata": {},
     "output_type": "display_data"
    },
    {
     "data": {
      "text/html": [
       "<style>\n",
       "    table.wandb td:nth-child(1) { padding: 0 10px; text-align: left ; width: auto;} td:nth-child(2) {text-align: left ; width: 100%}\n",
       "    .wandb-row { display: flex; flex-direction: row; flex-wrap: wrap; justify-content: flex-start; width: 100% }\n",
       "    .wandb-col { display: flex; flex-direction: column; flex-basis: 100%; flex: 1; padding: 10px; }\n",
       "    </style>\n",
       "<div class=\"wandb-row\"><div class=\"wandb-col\"><h3>Run history:</h3><br/><table class=\"wandb\"><tr><td>Accuracy</td><td>▁</td></tr><tr><td>Epoch</td><td>▁▃▅▆█</td></tr><tr><td>Training_accuracy</td><td>▁▅▇▇█</td></tr><tr><td>Training_loss</td><td>█▃▂▁▁</td></tr><tr><td>Validation_accuracy</td><td>▁▄▆▇█</td></tr><tr><td>Validation_loss</td><td>█▅▃▂▁</td></tr></table><br/></div><div class=\"wandb-col\"><h3>Run summary:</h3><br/><table class=\"wandb\"><tr><td>Accuracy</td><td>0.6886</td></tr><tr><td>Epoch</td><td>5</td></tr><tr><td>Training_accuracy</td><td>0.69485</td></tr><tr><td>Training_loss</td><td>0.83242</td></tr><tr><td>Validation_accuracy</td><td>0.6886</td></tr><tr><td>Validation_loss</td><td>0.82962</td></tr></table><br/></div></div>"
      ],
      "text/plain": [
       "<IPython.core.display.HTML object>"
      ]
     },
     "metadata": {},
     "output_type": "display_data"
    },
    {
     "data": {
      "text/html": [
       " View run <strong style=\"color:#cdcd00\">Question:4</strong> at: <a href='https://wandb.ai/cs22m083/CS6910_Assignment_1/runs/crpsk0ez' target=\"_blank\">https://wandb.ai/cs22m083/CS6910_Assignment_1/runs/crpsk0ez</a><br/>Synced 6 W&B file(s), 0 media file(s), 0 artifact file(s) and 0 other file(s)"
      ],
      "text/plain": [
       "<IPython.core.display.HTML object>"
      ]
     },
     "metadata": {},
     "output_type": "display_data"
    },
    {
     "data": {
      "text/html": [
       "Find logs at: <code>.\\wandb\\run-20230317_170900-crpsk0ez\\logs</code>"
      ],
      "text/plain": [
       "<IPython.core.display.HTML object>"
      ]
     },
     "metadata": {},
     "output_type": "display_data"
    },
    {
     "name": "stderr",
     "output_type": "stream",
     "text": [
      "\u001b[34m\u001b[1mwandb\u001b[0m: Agent Starting Run: brhlb2th with config:\n",
      "\u001b[34m\u001b[1mwandb\u001b[0m: \tactivation: tanh\n",
      "\u001b[34m\u001b[1mwandb\u001b[0m: \tbatch_size: 64\n",
      "\u001b[34m\u001b[1mwandb\u001b[0m: \tepochs: 5\n",
      "\u001b[34m\u001b[1mwandb\u001b[0m: \tgamma: 0.002\n",
      "\u001b[34m\u001b[1mwandb\u001b[0m: \thidden_layers: [32, 64]\n",
      "\u001b[34m\u001b[1mwandb\u001b[0m: \tinitialization: Random\n",
      "\u001b[34m\u001b[1mwandb\u001b[0m: \tlearning_rate: 0.0005\n",
      "\u001b[34m\u001b[1mwandb\u001b[0m: \toptimizer: nadam\n",
      "\u001b[34m\u001b[1mwandb\u001b[0m: \tweight_decay: 0\n",
      "Failed to detect the name of this notebook, you can set it manually with the WANDB_NOTEBOOK_NAME environment variable to enable code saving.\n",
      "\u001b[34m\u001b[1mwandb\u001b[0m: \u001b[33mWARNING\u001b[0m Ignored wandb.init() arg project when running a sweep.\n"
     ]
    },
    {
     "data": {
      "text/html": [
       "wandb version 0.14.0 is available!  To upgrade, please run:\n",
       " $ pip install wandb --upgrade"
      ],
      "text/plain": [
       "<IPython.core.display.HTML object>"
      ]
     },
     "metadata": {},
     "output_type": "display_data"
    },
    {
     "data": {
      "text/html": [
       "Tracking run with wandb version 0.13.10"
      ],
      "text/plain": [
       "<IPython.core.display.HTML object>"
      ]
     },
     "metadata": {},
     "output_type": "display_data"
    },
    {
     "data": {
      "text/html": [
       "Run data is saved locally in <code>C:\\Users\\Shivam Maurya\\OneDrive\\Desktop\\IIT_MADRAS\\Deep Learning\\assignment 1\\CS6910-Deep_Learning_Assignment-1\\wandb\\run-20230317_171046-brhlb2th</code>"
      ],
      "text/plain": [
       "<IPython.core.display.HTML object>"
      ]
     },
     "metadata": {},
     "output_type": "display_data"
    },
    {
     "data": {
      "text/html": [
       "Syncing run <strong><a href='https://wandb.ai/cs22m083/CS6910_Assignment_1/runs/brhlb2th' target=\"_blank\">Question:4</a></strong> to <a href='https://wandb.ai/cs22m083/CS6910_Assignment_1' target=\"_blank\">Weights & Biases</a> (<a href='https://wandb.me/run' target=\"_blank\">docs</a>)<br/>Sweep page: <a href='https://wandb.ai/cs22m083/CS6910_Assignment_1/sweeps/cezmcy51' target=\"_blank\">https://wandb.ai/cs22m083/CS6910_Assignment_1/sweeps/cezmcy51</a>"
      ],
      "text/plain": [
       "<IPython.core.display.HTML object>"
      ]
     },
     "metadata": {},
     "output_type": "display_data"
    },
    {
     "data": {
      "text/html": [
       " View project at <a href='https://wandb.ai/cs22m083/CS6910_Assignment_1' target=\"_blank\">https://wandb.ai/cs22m083/CS6910_Assignment_1</a>"
      ],
      "text/plain": [
       "<IPython.core.display.HTML object>"
      ]
     },
     "metadata": {},
     "output_type": "display_data"
    },
    {
     "data": {
      "text/html": [
       " View sweep at <a href='https://wandb.ai/cs22m083/CS6910_Assignment_1/sweeps/cezmcy51' target=\"_blank\">https://wandb.ai/cs22m083/CS6910_Assignment_1/sweeps/cezmcy51</a>"
      ],
      "text/plain": [
       "<IPython.core.display.HTML object>"
      ]
     },
     "metadata": {},
     "output_type": "display_data"
    },
    {
     "data": {
      "text/html": [
       " View run at <a href='https://wandb.ai/cs22m083/CS6910_Assignment_1/runs/brhlb2th' target=\"_blank\">https://wandb.ai/cs22m083/CS6910_Assignment_1/runs/brhlb2th</a>"
      ],
      "text/plain": [
       "<IPython.core.display.HTML object>"
      ]
     },
     "metadata": {},
     "output_type": "display_data"
    },
    {
     "data": {
      "text/html": [
       "Waiting for W&B process to finish... <strong style=\"color:red\">(failed 1).</strong> Press Ctrl-C to abort syncing."
      ],
      "text/plain": [
       "<IPython.core.display.HTML object>"
      ]
     },
     "metadata": {},
     "output_type": "display_data"
    },
    {
     "data": {
      "application/vnd.jupyter.widget-view+json": {
       "model_id": "66feab7628964ce496c481a1f886405c",
       "version_major": 2,
       "version_minor": 0
      },
      "text/plain": [
       "VBox(children=(Label(value='0.001 MB of 0.001 MB uploaded (0.000 MB deduped)\\r'), FloatProgress(value=1.0, max…"
      ]
     },
     "metadata": {},
     "output_type": "display_data"
    },
    {
     "data": {
      "text/html": [
       " View run <strong style=\"color:#cdcd00\">Question:4</strong> at: <a href='https://wandb.ai/cs22m083/CS6910_Assignment_1/runs/brhlb2th' target=\"_blank\">https://wandb.ai/cs22m083/CS6910_Assignment_1/runs/brhlb2th</a><br/>Synced 5 W&B file(s), 0 media file(s), 0 artifact file(s) and 0 other file(s)"
      ],
      "text/plain": [
       "<IPython.core.display.HTML object>"
      ]
     },
     "metadata": {},
     "output_type": "display_data"
    },
    {
     "data": {
      "text/html": [
       "Find logs at: <code>.\\wandb\\run-20230317_171046-brhlb2th\\logs</code>"
      ],
      "text/plain": [
       "<IPython.core.display.HTML object>"
      ]
     },
     "metadata": {},
     "output_type": "display_data"
    },
    {
     "name": "stderr",
     "output_type": "stream",
     "text": [
      "Run brhlb2th errored: UnboundLocalError(\"local variable 'nadam_impl' referenced before assignment\")\n",
      "\u001b[34m\u001b[1mwandb\u001b[0m: \u001b[32m\u001b[41mERROR\u001b[0m Run brhlb2th errored: UnboundLocalError(\"local variable 'nadam_impl' referenced before assignment\")\n",
      "\u001b[34m\u001b[1mwandb\u001b[0m: Agent Starting Run: v7d9v10h with config:\n",
      "\u001b[34m\u001b[1mwandb\u001b[0m: \tactivation: tanh\n",
      "\u001b[34m\u001b[1mwandb\u001b[0m: \tbatch_size: 16\n",
      "\u001b[34m\u001b[1mwandb\u001b[0m: \tepochs: 10\n",
      "\u001b[34m\u001b[1mwandb\u001b[0m: \tgamma: 0.03\n",
      "\u001b[34m\u001b[1mwandb\u001b[0m: \thidden_layers: [32, 64]\n",
      "\u001b[34m\u001b[1mwandb\u001b[0m: \tinitialization: Random\n",
      "\u001b[34m\u001b[1mwandb\u001b[0m: \tlearning_rate: 0.0006\n",
      "\u001b[34m\u001b[1mwandb\u001b[0m: \toptimizer: nag\n",
      "\u001b[34m\u001b[1mwandb\u001b[0m: \tweight_decay: 0\n",
      "Failed to detect the name of this notebook, you can set it manually with the WANDB_NOTEBOOK_NAME environment variable to enable code saving.\n",
      "\u001b[34m\u001b[1mwandb\u001b[0m: \u001b[33mWARNING\u001b[0m Ignored wandb.init() arg project when running a sweep.\n"
     ]
    },
    {
     "data": {
      "text/html": [
       "wandb version 0.14.0 is available!  To upgrade, please run:\n",
       " $ pip install wandb --upgrade"
      ],
      "text/plain": [
       "<IPython.core.display.HTML object>"
      ]
     },
     "metadata": {},
     "output_type": "display_data"
    },
    {
     "data": {
      "text/html": [
       "Tracking run with wandb version 0.13.10"
      ],
      "text/plain": [
       "<IPython.core.display.HTML object>"
      ]
     },
     "metadata": {},
     "output_type": "display_data"
    },
    {
     "data": {
      "text/html": [
       "Run data is saved locally in <code>C:\\Users\\Shivam Maurya\\OneDrive\\Desktop\\IIT_MADRAS\\Deep Learning\\assignment 1\\CS6910-Deep_Learning_Assignment-1\\wandb\\run-20230317_171108-v7d9v10h</code>"
      ],
      "text/plain": [
       "<IPython.core.display.HTML object>"
      ]
     },
     "metadata": {},
     "output_type": "display_data"
    },
    {
     "data": {
      "text/html": [
       "Syncing run <strong><a href='https://wandb.ai/cs22m083/CS6910_Assignment_1/runs/v7d9v10h' target=\"_blank\">Question:4</a></strong> to <a href='https://wandb.ai/cs22m083/CS6910_Assignment_1' target=\"_blank\">Weights & Biases</a> (<a href='https://wandb.me/run' target=\"_blank\">docs</a>)<br/>Sweep page: <a href='https://wandb.ai/cs22m083/CS6910_Assignment_1/sweeps/cezmcy51' target=\"_blank\">https://wandb.ai/cs22m083/CS6910_Assignment_1/sweeps/cezmcy51</a>"
      ],
      "text/plain": [
       "<IPython.core.display.HTML object>"
      ]
     },
     "metadata": {},
     "output_type": "display_data"
    },
    {
     "data": {
      "text/html": [
       " View project at <a href='https://wandb.ai/cs22m083/CS6910_Assignment_1' target=\"_blank\">https://wandb.ai/cs22m083/CS6910_Assignment_1</a>"
      ],
      "text/plain": [
       "<IPython.core.display.HTML object>"
      ]
     },
     "metadata": {},
     "output_type": "display_data"
    },
    {
     "data": {
      "text/html": [
       " View sweep at <a href='https://wandb.ai/cs22m083/CS6910_Assignment_1/sweeps/cezmcy51' target=\"_blank\">https://wandb.ai/cs22m083/CS6910_Assignment_1/sweeps/cezmcy51</a>"
      ],
      "text/plain": [
       "<IPython.core.display.HTML object>"
      ]
     },
     "metadata": {},
     "output_type": "display_data"
    },
    {
     "data": {
      "text/html": [
       " View run at <a href='https://wandb.ai/cs22m083/CS6910_Assignment_1/runs/v7d9v10h' target=\"_blank\">https://wandb.ai/cs22m083/CS6910_Assignment_1/runs/v7d9v10h</a>"
      ],
      "text/plain": [
       "<IPython.core.display.HTML object>"
      ]
     },
     "metadata": {},
     "output_type": "display_data"
    },
    {
     "name": "stdout",
     "output_type": "stream",
     "text": [
      " Training Loss:  1.5230841616308028  Validation Loss: 1.5633236331267686  Training Accuracy:  0.5488  Validation Accuracy: 0.543\n"
     ]
    },
    {
     "data": {
      "text/html": [
       "Waiting for W&B process to finish... <strong style=\"color:green\">(success).</strong>"
      ],
      "text/plain": [
       "<IPython.core.display.HTML object>"
      ]
     },
     "metadata": {},
     "output_type": "display_data"
    },
    {
     "data": {
      "text/html": [
       "<style>\n",
       "    table.wandb td:nth-child(1) { padding: 0 10px; text-align: left ; width: auto;} td:nth-child(2) {text-align: left ; width: 100%}\n",
       "    .wandb-row { display: flex; flex-direction: row; flex-wrap: wrap; justify-content: flex-start; width: 100% }\n",
       "    .wandb-col { display: flex; flex-direction: column; flex-basis: 100%; flex: 1; padding: 10px; }\n",
       "    </style>\n",
       "<div class=\"wandb-row\"><div class=\"wandb-col\"><h3>Run history:</h3><br/><table class=\"wandb\"><tr><td>Accuracy</td><td>▁</td></tr><tr><td>Epoch</td><td>▁▂▃▃▄▅▆▆▇█</td></tr><tr><td>Training_accuracy</td><td>▁▄▆▆▇▇▇███</td></tr><tr><td>Training_loss</td><td>█▄▃▂▂▁▁▁▁▁</td></tr><tr><td>Validation_accuracy</td><td>▁▄▅▆▇▇▇███</td></tr><tr><td>Validation_loss</td><td>█▅▃▃▂▂▁▁▁▁</td></tr></table><br/></div><div class=\"wandb-col\"><h3>Run summary:</h3><br/><table class=\"wandb\"><tr><td>Accuracy</td><td>0.543</td></tr><tr><td>Epoch</td><td>10</td></tr><tr><td>Training_accuracy</td><td>0.5488</td></tr><tr><td>Training_loss</td><td>1.52308</td></tr><tr><td>Validation_accuracy</td><td>0.543</td></tr><tr><td>Validation_loss</td><td>1.56332</td></tr></table><br/></div></div>"
      ],
      "text/plain": [
       "<IPython.core.display.HTML object>"
      ]
     },
     "metadata": {},
     "output_type": "display_data"
    },
    {
     "data": {
      "text/html": [
       " View run <strong style=\"color:#cdcd00\">Question:4</strong> at: <a href='https://wandb.ai/cs22m083/CS6910_Assignment_1/runs/v7d9v10h' target=\"_blank\">https://wandb.ai/cs22m083/CS6910_Assignment_1/runs/v7d9v10h</a><br/>Synced 6 W&B file(s), 0 media file(s), 0 artifact file(s) and 0 other file(s)"
      ],
      "text/plain": [
       "<IPython.core.display.HTML object>"
      ]
     },
     "metadata": {},
     "output_type": "display_data"
    },
    {
     "data": {
      "text/html": [
       "Find logs at: <code>.\\wandb\\run-20230317_171108-v7d9v10h\\logs</code>"
      ],
      "text/plain": [
       "<IPython.core.display.HTML object>"
      ]
     },
     "metadata": {},
     "output_type": "display_data"
    },
    {
     "name": "stderr",
     "output_type": "stream",
     "text": [
      "\u001b[34m\u001b[1mwandb\u001b[0m: Sweep Agent: Waiting for job.\n",
      "\u001b[34m\u001b[1mwandb\u001b[0m: Job received.\n",
      "\u001b[34m\u001b[1mwandb\u001b[0m: Agent Starting Run: s36pj45u with config:\n",
      "\u001b[34m\u001b[1mwandb\u001b[0m: \tactivation: relu\n",
      "\u001b[34m\u001b[1mwandb\u001b[0m: \tbatch_size: 16\n",
      "\u001b[34m\u001b[1mwandb\u001b[0m: \tepochs: 5\n",
      "\u001b[34m\u001b[1mwandb\u001b[0m: \tgamma: 0.03\n",
      "\u001b[34m\u001b[1mwandb\u001b[0m: \thidden_layers: [32, 64, 128, 256]\n",
      "\u001b[34m\u001b[1mwandb\u001b[0m: \tinitialization: Random\n",
      "\u001b[34m\u001b[1mwandb\u001b[0m: \tlearning_rate: 0.0006\n",
      "\u001b[34m\u001b[1mwandb\u001b[0m: \toptimizer: adam\n",
      "\u001b[34m\u001b[1mwandb\u001b[0m: \tweight_decay: 0\n",
      "Failed to detect the name of this notebook, you can set it manually with the WANDB_NOTEBOOK_NAME environment variable to enable code saving.\n",
      "\u001b[34m\u001b[1mwandb\u001b[0m: \u001b[33mWARNING\u001b[0m Ignored wandb.init() arg project when running a sweep.\n"
     ]
    },
    {
     "data": {
      "text/html": [
       "wandb version 0.14.0 is available!  To upgrade, please run:\n",
       " $ pip install wandb --upgrade"
      ],
      "text/plain": [
       "<IPython.core.display.HTML object>"
      ]
     },
     "metadata": {},
     "output_type": "display_data"
    },
    {
     "data": {
      "text/html": [
       "Tracking run with wandb version 0.13.10"
      ],
      "text/plain": [
       "<IPython.core.display.HTML object>"
      ]
     },
     "metadata": {},
     "output_type": "display_data"
    },
    {
     "data": {
      "text/html": [
       "Run data is saved locally in <code>C:\\Users\\Shivam Maurya\\OneDrive\\Desktop\\IIT_MADRAS\\Deep Learning\\assignment 1\\CS6910-Deep_Learning_Assignment-1\\wandb\\run-20230317_171354-s36pj45u</code>"
      ],
      "text/plain": [
       "<IPython.core.display.HTML object>"
      ]
     },
     "metadata": {},
     "output_type": "display_data"
    },
    {
     "data": {
      "text/html": [
       "Syncing run <strong><a href='https://wandb.ai/cs22m083/CS6910_Assignment_1/runs/s36pj45u' target=\"_blank\">Question:4</a></strong> to <a href='https://wandb.ai/cs22m083/CS6910_Assignment_1' target=\"_blank\">Weights & Biases</a> (<a href='https://wandb.me/run' target=\"_blank\">docs</a>)<br/>Sweep page: <a href='https://wandb.ai/cs22m083/CS6910_Assignment_1/sweeps/cezmcy51' target=\"_blank\">https://wandb.ai/cs22m083/CS6910_Assignment_1/sweeps/cezmcy51</a>"
      ],
      "text/plain": [
       "<IPython.core.display.HTML object>"
      ]
     },
     "metadata": {},
     "output_type": "display_data"
    },
    {
     "data": {
      "text/html": [
       " View project at <a href='https://wandb.ai/cs22m083/CS6910_Assignment_1' target=\"_blank\">https://wandb.ai/cs22m083/CS6910_Assignment_1</a>"
      ],
      "text/plain": [
       "<IPython.core.display.HTML object>"
      ]
     },
     "metadata": {},
     "output_type": "display_data"
    },
    {
     "data": {
      "text/html": [
       " View sweep at <a href='https://wandb.ai/cs22m083/CS6910_Assignment_1/sweeps/cezmcy51' target=\"_blank\">https://wandb.ai/cs22m083/CS6910_Assignment_1/sweeps/cezmcy51</a>"
      ],
      "text/plain": [
       "<IPython.core.display.HTML object>"
      ]
     },
     "metadata": {},
     "output_type": "display_data"
    },
    {
     "data": {
      "text/html": [
       " View run at <a href='https://wandb.ai/cs22m083/CS6910_Assignment_1/runs/s36pj45u' target=\"_blank\">https://wandb.ai/cs22m083/CS6910_Assignment_1/runs/s36pj45u</a>"
      ],
      "text/plain": [
       "<IPython.core.display.HTML object>"
      ]
     },
     "metadata": {},
     "output_type": "display_data"
    },
    {
     "name": "stderr",
     "output_type": "stream",
     "text": [
      "C:\\Users\\Shivam Maurya\\AppData\\Local\\Temp\\ipykernel_8020\\2821308850.py:10: RuntimeWarning: overflow encountered in exp\n",
      "  exponentials = np.exp(X) # softmax function\n",
      "C:\\Users\\Shivam Maurya\\AppData\\Local\\Temp\\ipykernel_8020\\2821308850.py:11: RuntimeWarning: invalid value encountered in true_divide\n",
      "  return exponentials / np.sum(exponentials)\n"
     ]
    },
    {
     "name": "stdout",
     "output_type": "stream",
     "text": [
      " Training Loss:  nan  Validation Loss: nan  Training Accuracy:  0.1  Validation Accuracy: 0.1\n"
     ]
    },
    {
     "data": {
      "text/html": [
       "Waiting for W&B process to finish... <strong style=\"color:green\">(success).</strong>"
      ],
      "text/plain": [
       "<IPython.core.display.HTML object>"
      ]
     },
     "metadata": {},
     "output_type": "display_data"
    },
    {
     "data": {
      "text/html": [
       "<style>\n",
       "    table.wandb td:nth-child(1) { padding: 0 10px; text-align: left ; width: auto;} td:nth-child(2) {text-align: left ; width: 100%}\n",
       "    .wandb-row { display: flex; flex-direction: row; flex-wrap: wrap; justify-content: flex-start; width: 100% }\n",
       "    .wandb-col { display: flex; flex-direction: column; flex-basis: 100%; flex: 1; padding: 10px; }\n",
       "    </style>\n",
       "<div class=\"wandb-row\"><div class=\"wandb-col\"><h3>Run history:</h3><br/><table class=\"wandb\"><tr><td>Accuracy</td><td>▁</td></tr><tr><td>Epoch</td><td>▁▃▅▆█</td></tr><tr><td>Training_accuracy</td><td>▁████</td></tr><tr><td>Validation_accuracy</td><td>▁▁▁▁▁</td></tr></table><br/></div><div class=\"wandb-col\"><h3>Run summary:</h3><br/><table class=\"wandb\"><tr><td>Accuracy</td><td>0.1</td></tr><tr><td>Epoch</td><td>5</td></tr><tr><td>Training_accuracy</td><td>0.1</td></tr><tr><td>Training_loss</td><td>nan</td></tr><tr><td>Validation_accuracy</td><td>0.1</td></tr><tr><td>Validation_loss</td><td>nan</td></tr></table><br/></div></div>"
      ],
      "text/plain": [
       "<IPython.core.display.HTML object>"
      ]
     },
     "metadata": {},
     "output_type": "display_data"
    },
    {
     "data": {
      "text/html": [
       " View run <strong style=\"color:#cdcd00\">Question:4</strong> at: <a href='https://wandb.ai/cs22m083/CS6910_Assignment_1/runs/s36pj45u' target=\"_blank\">https://wandb.ai/cs22m083/CS6910_Assignment_1/runs/s36pj45u</a><br/>Synced 6 W&B file(s), 0 media file(s), 0 artifact file(s) and 0 other file(s)"
      ],
      "text/plain": [
       "<IPython.core.display.HTML object>"
      ]
     },
     "metadata": {},
     "output_type": "display_data"
    },
    {
     "data": {
      "text/html": [
       "Find logs at: <code>.\\wandb\\run-20230317_171354-s36pj45u\\logs</code>"
      ],
      "text/plain": [
       "<IPython.core.display.HTML object>"
      ]
     },
     "metadata": {},
     "output_type": "display_data"
    },
    {
     "name": "stderr",
     "output_type": "stream",
     "text": [
      "\u001b[34m\u001b[1mwandb\u001b[0m: Agent Starting Run: qe6fqh4y with config:\n",
      "\u001b[34m\u001b[1mwandb\u001b[0m: \tactivation: tanh\n",
      "\u001b[34m\u001b[1mwandb\u001b[0m: \tbatch_size: 64\n",
      "\u001b[34m\u001b[1mwandb\u001b[0m: \tepochs: 10\n",
      "\u001b[34m\u001b[1mwandb\u001b[0m: \tgamma: 0.002\n",
      "\u001b[34m\u001b[1mwandb\u001b[0m: \thidden_layers: [32, 64, 128]\n",
      "\u001b[34m\u001b[1mwandb\u001b[0m: \tinitialization: Xavier\n",
      "\u001b[34m\u001b[1mwandb\u001b[0m: \tlearning_rate: 0.005\n",
      "\u001b[34m\u001b[1mwandb\u001b[0m: \toptimizer: rmsprop\n",
      "\u001b[34m\u001b[1mwandb\u001b[0m: \tweight_decay: 0.0005\n",
      "Failed to detect the name of this notebook, you can set it manually with the WANDB_NOTEBOOK_NAME environment variable to enable code saving.\n",
      "\u001b[34m\u001b[1mwandb\u001b[0m: \u001b[33mWARNING\u001b[0m Ignored wandb.init() arg project when running a sweep.\n"
     ]
    },
    {
     "data": {
      "text/html": [
       "wandb version 0.14.0 is available!  To upgrade, please run:\n",
       " $ pip install wandb --upgrade"
      ],
      "text/plain": [
       "<IPython.core.display.HTML object>"
      ]
     },
     "metadata": {},
     "output_type": "display_data"
    },
    {
     "data": {
      "text/html": [
       "Tracking run with wandb version 0.13.10"
      ],
      "text/plain": [
       "<IPython.core.display.HTML object>"
      ]
     },
     "metadata": {},
     "output_type": "display_data"
    },
    {
     "data": {
      "text/html": [
       "Run data is saved locally in <code>C:\\Users\\Shivam Maurya\\OneDrive\\Desktop\\IIT_MADRAS\\Deep Learning\\assignment 1\\CS6910-Deep_Learning_Assignment-1\\wandb\\run-20230317_171640-qe6fqh4y</code>"
      ],
      "text/plain": [
       "<IPython.core.display.HTML object>"
      ]
     },
     "metadata": {},
     "output_type": "display_data"
    },
    {
     "data": {
      "text/html": [
       "Syncing run <strong><a href='https://wandb.ai/cs22m083/CS6910_Assignment_1/runs/qe6fqh4y' target=\"_blank\">Question:4</a></strong> to <a href='https://wandb.ai/cs22m083/CS6910_Assignment_1' target=\"_blank\">Weights & Biases</a> (<a href='https://wandb.me/run' target=\"_blank\">docs</a>)<br/>Sweep page: <a href='https://wandb.ai/cs22m083/CS6910_Assignment_1/sweeps/cezmcy51' target=\"_blank\">https://wandb.ai/cs22m083/CS6910_Assignment_1/sweeps/cezmcy51</a>"
      ],
      "text/plain": [
       "<IPython.core.display.HTML object>"
      ]
     },
     "metadata": {},
     "output_type": "display_data"
    },
    {
     "data": {
      "text/html": [
       " View project at <a href='https://wandb.ai/cs22m083/CS6910_Assignment_1' target=\"_blank\">https://wandb.ai/cs22m083/CS6910_Assignment_1</a>"
      ],
      "text/plain": [
       "<IPython.core.display.HTML object>"
      ]
     },
     "metadata": {},
     "output_type": "display_data"
    },
    {
     "data": {
      "text/html": [
       " View sweep at <a href='https://wandb.ai/cs22m083/CS6910_Assignment_1/sweeps/cezmcy51' target=\"_blank\">https://wandb.ai/cs22m083/CS6910_Assignment_1/sweeps/cezmcy51</a>"
      ],
      "text/plain": [
       "<IPython.core.display.HTML object>"
      ]
     },
     "metadata": {},
     "output_type": "display_data"
    },
    {
     "data": {
      "text/html": [
       " View run at <a href='https://wandb.ai/cs22m083/CS6910_Assignment_1/runs/qe6fqh4y' target=\"_blank\">https://wandb.ai/cs22m083/CS6910_Assignment_1/runs/qe6fqh4y</a>"
      ],
      "text/plain": [
       "<IPython.core.display.HTML object>"
      ]
     },
     "metadata": {},
     "output_type": "display_data"
    },
    {
     "name": "stdout",
     "output_type": "stream",
     "text": [
      " Training Loss:  0.4614468228424928  Validation Loss: 0.4862252272689991  Training Accuracy:  0.8454166666666667  Validation Accuracy: 0.8432\n"
     ]
    },
    {
     "data": {
      "text/html": [
       "Waiting for W&B process to finish... <strong style=\"color:green\">(success).</strong>"
      ],
      "text/plain": [
       "<IPython.core.display.HTML object>"
      ]
     },
     "metadata": {},
     "output_type": "display_data"
    },
    {
     "data": {
      "text/html": [
       "<style>\n",
       "    table.wandb td:nth-child(1) { padding: 0 10px; text-align: left ; width: auto;} td:nth-child(2) {text-align: left ; width: 100%}\n",
       "    .wandb-row { display: flex; flex-direction: row; flex-wrap: wrap; justify-content: flex-start; width: 100% }\n",
       "    .wandb-col { display: flex; flex-direction: column; flex-basis: 100%; flex: 1; padding: 10px; }\n",
       "    </style>\n",
       "<div class=\"wandb-row\"><div class=\"wandb-col\"><h3>Run history:</h3><br/><table class=\"wandb\"><tr><td>Accuracy</td><td>▁</td></tr><tr><td>Epoch</td><td>▁▂▃▃▄▅▆▆▇█</td></tr><tr><td>Training_accuracy</td><td>▁▆▇▇▇█████</td></tr><tr><td>Training_loss</td><td>█▃▂▂▂▁▁▁▁▁</td></tr><tr><td>Validation_accuracy</td><td>▄▆▁▅▆▇▇▇▇█</td></tr><tr><td>Validation_loss</td><td>▄▄█▅▃▂▂▃▂▁</td></tr></table><br/></div><div class=\"wandb-col\"><h3>Run summary:</h3><br/><table class=\"wandb\"><tr><td>Accuracy</td><td>0.8432</td></tr><tr><td>Epoch</td><td>10</td></tr><tr><td>Training_accuracy</td><td>0.84542</td></tr><tr><td>Training_loss</td><td>0.46145</td></tr><tr><td>Validation_accuracy</td><td>0.8432</td></tr><tr><td>Validation_loss</td><td>0.48623</td></tr></table><br/></div></div>"
      ],
      "text/plain": [
       "<IPython.core.display.HTML object>"
      ]
     },
     "metadata": {},
     "output_type": "display_data"
    },
    {
     "data": {
      "text/html": [
       " View run <strong style=\"color:#cdcd00\">Question:4</strong> at: <a href='https://wandb.ai/cs22m083/CS6910_Assignment_1/runs/qe6fqh4y' target=\"_blank\">https://wandb.ai/cs22m083/CS6910_Assignment_1/runs/qe6fqh4y</a><br/>Synced 6 W&B file(s), 0 media file(s), 0 artifact file(s) and 0 other file(s)"
      ],
      "text/plain": [
       "<IPython.core.display.HTML object>"
      ]
     },
     "metadata": {},
     "output_type": "display_data"
    },
    {
     "data": {
      "text/html": [
       "Find logs at: <code>.\\wandb\\run-20230317_171640-qe6fqh4y\\logs</code>"
      ],
      "text/plain": [
       "<IPython.core.display.HTML object>"
      ]
     },
     "metadata": {},
     "output_type": "display_data"
    },
    {
     "name": "stderr",
     "output_type": "stream",
     "text": [
      "\u001b[34m\u001b[1mwandb\u001b[0m: Agent Starting Run: whw1sy65 with config:\n",
      "\u001b[34m\u001b[1mwandb\u001b[0m: \tactivation: sigmoid\n",
      "\u001b[34m\u001b[1mwandb\u001b[0m: \tbatch_size: 32\n",
      "\u001b[34m\u001b[1mwandb\u001b[0m: \tepochs: 5\n",
      "\u001b[34m\u001b[1mwandb\u001b[0m: \tgamma: 0.002\n",
      "\u001b[34m\u001b[1mwandb\u001b[0m: \thidden_layers: [32, 64, 128]\n",
      "\u001b[34m\u001b[1mwandb\u001b[0m: \tinitialization: Random\n",
      "\u001b[34m\u001b[1mwandb\u001b[0m: \tlearning_rate: 0.01\n",
      "\u001b[34m\u001b[1mwandb\u001b[0m: \toptimizer: momentum\n",
      "\u001b[34m\u001b[1mwandb\u001b[0m: \tweight_decay: 0.0005\n",
      "Failed to detect the name of this notebook, you can set it manually with the WANDB_NOTEBOOK_NAME environment variable to enable code saving.\n",
      "\u001b[34m\u001b[1mwandb\u001b[0m: \u001b[33mWARNING\u001b[0m Ignored wandb.init() arg project when running a sweep.\n"
     ]
    },
    {
     "data": {
      "text/html": [
       "wandb version 0.14.0 is available!  To upgrade, please run:\n",
       " $ pip install wandb --upgrade"
      ],
      "text/plain": [
       "<IPython.core.display.HTML object>"
      ]
     },
     "metadata": {},
     "output_type": "display_data"
    },
    {
     "data": {
      "text/html": [
       "Tracking run with wandb version 0.13.10"
      ],
      "text/plain": [
       "<IPython.core.display.HTML object>"
      ]
     },
     "metadata": {},
     "output_type": "display_data"
    },
    {
     "data": {
      "text/html": [
       "Run data is saved locally in <code>C:\\Users\\Shivam Maurya\\OneDrive\\Desktop\\IIT_MADRAS\\Deep Learning\\assignment 1\\CS6910-Deep_Learning_Assignment-1\\wandb\\run-20230317_171947-whw1sy65</code>"
      ],
      "text/plain": [
       "<IPython.core.display.HTML object>"
      ]
     },
     "metadata": {},
     "output_type": "display_data"
    },
    {
     "data": {
      "text/html": [
       "Syncing run <strong><a href='https://wandb.ai/cs22m083/CS6910_Assignment_1/runs/whw1sy65' target=\"_blank\">Question:4</a></strong> to <a href='https://wandb.ai/cs22m083/CS6910_Assignment_1' target=\"_blank\">Weights & Biases</a> (<a href='https://wandb.me/run' target=\"_blank\">docs</a>)<br/>Sweep page: <a href='https://wandb.ai/cs22m083/CS6910_Assignment_1/sweeps/cezmcy51' target=\"_blank\">https://wandb.ai/cs22m083/CS6910_Assignment_1/sweeps/cezmcy51</a>"
      ],
      "text/plain": [
       "<IPython.core.display.HTML object>"
      ]
     },
     "metadata": {},
     "output_type": "display_data"
    },
    {
     "data": {
      "text/html": [
       " View project at <a href='https://wandb.ai/cs22m083/CS6910_Assignment_1' target=\"_blank\">https://wandb.ai/cs22m083/CS6910_Assignment_1</a>"
      ],
      "text/plain": [
       "<IPython.core.display.HTML object>"
      ]
     },
     "metadata": {},
     "output_type": "display_data"
    },
    {
     "data": {
      "text/html": [
       " View sweep at <a href='https://wandb.ai/cs22m083/CS6910_Assignment_1/sweeps/cezmcy51' target=\"_blank\">https://wandb.ai/cs22m083/CS6910_Assignment_1/sweeps/cezmcy51</a>"
      ],
      "text/plain": [
       "<IPython.core.display.HTML object>"
      ]
     },
     "metadata": {},
     "output_type": "display_data"
    },
    {
     "data": {
      "text/html": [
       " View run at <a href='https://wandb.ai/cs22m083/CS6910_Assignment_1/runs/whw1sy65' target=\"_blank\">https://wandb.ai/cs22m083/CS6910_Assignment_1/runs/whw1sy65</a>"
      ],
      "text/plain": [
       "<IPython.core.display.HTML object>"
      ]
     },
     "metadata": {},
     "output_type": "display_data"
    },
    {
     "name": "stdout",
     "output_type": "stream",
     "text": [
      " Training Loss:  0.48801102316415557  Validation Loss: 0.5390637516024136  Training Accuracy:  0.8273666666666667  Validation Accuracy: 0.804\n"
     ]
    },
    {
     "data": {
      "text/html": [
       "Waiting for W&B process to finish... <strong style=\"color:green\">(success).</strong>"
      ],
      "text/plain": [
       "<IPython.core.display.HTML object>"
      ]
     },
     "metadata": {},
     "output_type": "display_data"
    },
    {
     "data": {
      "application/vnd.jupyter.widget-view+json": {
       "model_id": "46b7c573a8924933b4e7adcb5e9f0247",
       "version_major": 2,
       "version_minor": 0
      },
      "text/plain": [
       "VBox(children=(Label(value='0.001 MB of 0.001 MB uploaded (0.000 MB deduped)\\r'), FloatProgress(value=1.0, max…"
      ]
     },
     "metadata": {},
     "output_type": "display_data"
    },
    {
     "data": {
      "text/html": [
       "<style>\n",
       "    table.wandb td:nth-child(1) { padding: 0 10px; text-align: left ; width: auto;} td:nth-child(2) {text-align: left ; width: 100%}\n",
       "    .wandb-row { display: flex; flex-direction: row; flex-wrap: wrap; justify-content: flex-start; width: 100% }\n",
       "    .wandb-col { display: flex; flex-direction: column; flex-basis: 100%; flex: 1; padding: 10px; }\n",
       "    </style>\n",
       "<div class=\"wandb-row\"><div class=\"wandb-col\"><h3>Run history:</h3><br/><table class=\"wandb\"><tr><td>Accuracy</td><td>▁</td></tr><tr><td>Epoch</td><td>▁▃▅▆█</td></tr><tr><td>Training_accuracy</td><td>▁▅▇▇█</td></tr><tr><td>Training_loss</td><td>█▃▂▁▁</td></tr><tr><td>Validation_accuracy</td><td>▁▆▇██</td></tr><tr><td>Validation_loss</td><td>█▃▂▁▁</td></tr></table><br/></div><div class=\"wandb-col\"><h3>Run summary:</h3><br/><table class=\"wandb\"><tr><td>Accuracy</td><td>0.804</td></tr><tr><td>Epoch</td><td>5</td></tr><tr><td>Training_accuracy</td><td>0.82737</td></tr><tr><td>Training_loss</td><td>0.48801</td></tr><tr><td>Validation_accuracy</td><td>0.804</td></tr><tr><td>Validation_loss</td><td>0.53906</td></tr></table><br/></div></div>"
      ],
      "text/plain": [
       "<IPython.core.display.HTML object>"
      ]
     },
     "metadata": {},
     "output_type": "display_data"
    },
    {
     "data": {
      "text/html": [
       " View run <strong style=\"color:#cdcd00\">Question:4</strong> at: <a href='https://wandb.ai/cs22m083/CS6910_Assignment_1/runs/whw1sy65' target=\"_blank\">https://wandb.ai/cs22m083/CS6910_Assignment_1/runs/whw1sy65</a><br/>Synced 6 W&B file(s), 0 media file(s), 0 artifact file(s) and 0 other file(s)"
      ],
      "text/plain": [
       "<IPython.core.display.HTML object>"
      ]
     },
     "metadata": {},
     "output_type": "display_data"
    },
    {
     "data": {
      "text/html": [
       "Find logs at: <code>.\\wandb\\run-20230317_171947-whw1sy65\\logs</code>"
      ],
      "text/plain": [
       "<IPython.core.display.HTML object>"
      ]
     },
     "metadata": {},
     "output_type": "display_data"
    },
    {
     "name": "stderr",
     "output_type": "stream",
     "text": [
      "\u001b[34m\u001b[1mwandb\u001b[0m: Agent Starting Run: e6qoja30 with config:\n",
      "\u001b[34m\u001b[1mwandb\u001b[0m: \tactivation: sigmoid\n",
      "\u001b[34m\u001b[1mwandb\u001b[0m: \tbatch_size: 16\n",
      "\u001b[34m\u001b[1mwandb\u001b[0m: \tepochs: 10\n",
      "\u001b[34m\u001b[1mwandb\u001b[0m: \tgamma: 0.002\n",
      "\u001b[34m\u001b[1mwandb\u001b[0m: \thidden_layers: [32, 64, 128]\n",
      "\u001b[34m\u001b[1mwandb\u001b[0m: \tinitialization: Xavier\n",
      "\u001b[34m\u001b[1mwandb\u001b[0m: \tlearning_rate: 0.0005\n",
      "\u001b[34m\u001b[1mwandb\u001b[0m: \toptimizer: nag\n",
      "\u001b[34m\u001b[1mwandb\u001b[0m: \tweight_decay: 0.5\n",
      "Failed to detect the name of this notebook, you can set it manually with the WANDB_NOTEBOOK_NAME environment variable to enable code saving.\n",
      "\u001b[34m\u001b[1mwandb\u001b[0m: \u001b[33mWARNING\u001b[0m Ignored wandb.init() arg project when running a sweep.\n"
     ]
    },
    {
     "data": {
      "text/html": [
       "wandb version 0.14.0 is available!  To upgrade, please run:\n",
       " $ pip install wandb --upgrade"
      ],
      "text/plain": [
       "<IPython.core.display.HTML object>"
      ]
     },
     "metadata": {},
     "output_type": "display_data"
    },
    {
     "data": {
      "text/html": [
       "Tracking run with wandb version 0.13.10"
      ],
      "text/plain": [
       "<IPython.core.display.HTML object>"
      ]
     },
     "metadata": {},
     "output_type": "display_data"
    },
    {
     "data": {
      "text/html": [
       "Run data is saved locally in <code>C:\\Users\\Shivam Maurya\\OneDrive\\Desktop\\IIT_MADRAS\\Deep Learning\\assignment 1\\CS6910-Deep_Learning_Assignment-1\\wandb\\run-20230317_172134-e6qoja30</code>"
      ],
      "text/plain": [
       "<IPython.core.display.HTML object>"
      ]
     },
     "metadata": {},
     "output_type": "display_data"
    },
    {
     "data": {
      "text/html": [
       "Syncing run <strong><a href='https://wandb.ai/cs22m083/CS6910_Assignment_1/runs/e6qoja30' target=\"_blank\">Question:4</a></strong> to <a href='https://wandb.ai/cs22m083/CS6910_Assignment_1' target=\"_blank\">Weights & Biases</a> (<a href='https://wandb.me/run' target=\"_blank\">docs</a>)<br/>Sweep page: <a href='https://wandb.ai/cs22m083/CS6910_Assignment_1/sweeps/cezmcy51' target=\"_blank\">https://wandb.ai/cs22m083/CS6910_Assignment_1/sweeps/cezmcy51</a>"
      ],
      "text/plain": [
       "<IPython.core.display.HTML object>"
      ]
     },
     "metadata": {},
     "output_type": "display_data"
    },
    {
     "data": {
      "text/html": [
       " View project at <a href='https://wandb.ai/cs22m083/CS6910_Assignment_1' target=\"_blank\">https://wandb.ai/cs22m083/CS6910_Assignment_1</a>"
      ],
      "text/plain": [
       "<IPython.core.display.HTML object>"
      ]
     },
     "metadata": {},
     "output_type": "display_data"
    },
    {
     "data": {
      "text/html": [
       " View sweep at <a href='https://wandb.ai/cs22m083/CS6910_Assignment_1/sweeps/cezmcy51' target=\"_blank\">https://wandb.ai/cs22m083/CS6910_Assignment_1/sweeps/cezmcy51</a>"
      ],
      "text/plain": [
       "<IPython.core.display.HTML object>"
      ]
     },
     "metadata": {},
     "output_type": "display_data"
    },
    {
     "data": {
      "text/html": [
       " View run at <a href='https://wandb.ai/cs22m083/CS6910_Assignment_1/runs/e6qoja30' target=\"_blank\">https://wandb.ai/cs22m083/CS6910_Assignment_1/runs/e6qoja30</a>"
      ],
      "text/plain": [
       "<IPython.core.display.HTML object>"
      ]
     },
     "metadata": {},
     "output_type": "display_data"
    },
    {
     "name": "stdout",
     "output_type": "stream",
     "text": [
      " Training Loss:  2.2890401923596495  Validation Loss: 2.286479247621283  Training Accuracy:  0.13923333333333332  Validation Accuracy: 0.1319\n"
     ]
    },
    {
     "data": {
      "text/html": [
       "Waiting for W&B process to finish... <strong style=\"color:green\">(success).</strong>"
      ],
      "text/plain": [
       "<IPython.core.display.HTML object>"
      ]
     },
     "metadata": {},
     "output_type": "display_data"
    },
    {
     "data": {
      "text/html": [
       "<style>\n",
       "    table.wandb td:nth-child(1) { padding: 0 10px; text-align: left ; width: auto;} td:nth-child(2) {text-align: left ; width: 100%}\n",
       "    .wandb-row { display: flex; flex-direction: row; flex-wrap: wrap; justify-content: flex-start; width: 100% }\n",
       "    .wandb-col { display: flex; flex-direction: column; flex-basis: 100%; flex: 1; padding: 10px; }\n",
       "    </style>\n",
       "<div class=\"wandb-row\"><div class=\"wandb-col\"><h3>Run history:</h3><br/><table class=\"wandb\"><tr><td>Accuracy</td><td>▁</td></tr><tr><td>Epoch</td><td>▁▂▃▃▄▅▆▆▇█</td></tr><tr><td>Training_accuracy</td><td>▁▂▃▃▄▄▅▆▇█</td></tr><tr><td>Training_loss</td><td>█▅▄▄▄▃▃▂▂▁</td></tr><tr><td>Validation_accuracy</td><td>▁▁▁▁▁▁▁▁▃█</td></tr><tr><td>Validation_loss</td><td>█▇▇▆▆▅▄▃▂▁</td></tr></table><br/></div><div class=\"wandb-col\"><h3>Run summary:</h3><br/><table class=\"wandb\"><tr><td>Accuracy</td><td>0.1319</td></tr><tr><td>Epoch</td><td>10</td></tr><tr><td>Training_accuracy</td><td>0.13923</td></tr><tr><td>Training_loss</td><td>2.28904</td></tr><tr><td>Validation_accuracy</td><td>0.1319</td></tr><tr><td>Validation_loss</td><td>2.28648</td></tr></table><br/></div></div>"
      ],
      "text/plain": [
       "<IPython.core.display.HTML object>"
      ]
     },
     "metadata": {},
     "output_type": "display_data"
    },
    {
     "data": {
      "text/html": [
       " View run <strong style=\"color:#cdcd00\">Question:4</strong> at: <a href='https://wandb.ai/cs22m083/CS6910_Assignment_1/runs/e6qoja30' target=\"_blank\">https://wandb.ai/cs22m083/CS6910_Assignment_1/runs/e6qoja30</a><br/>Synced 6 W&B file(s), 0 media file(s), 0 artifact file(s) and 0 other file(s)"
      ],
      "text/plain": [
       "<IPython.core.display.HTML object>"
      ]
     },
     "metadata": {},
     "output_type": "display_data"
    },
    {
     "data": {
      "text/html": [
       "Find logs at: <code>.\\wandb\\run-20230317_172134-e6qoja30\\logs</code>"
      ],
      "text/plain": [
       "<IPython.core.display.HTML object>"
      ]
     },
     "metadata": {},
     "output_type": "display_data"
    },
    {
     "name": "stderr",
     "output_type": "stream",
     "text": [
      "\u001b[34m\u001b[1mwandb\u001b[0m: Agent Starting Run: f9ba9m9r with config:\n",
      "\u001b[34m\u001b[1mwandb\u001b[0m: \tactivation: tanh\n",
      "\u001b[34m\u001b[1mwandb\u001b[0m: \tbatch_size: 32\n",
      "\u001b[34m\u001b[1mwandb\u001b[0m: \tepochs: 10\n",
      "\u001b[34m\u001b[1mwandb\u001b[0m: \tgamma: 0.0006\n",
      "\u001b[34m\u001b[1mwandb\u001b[0m: \thidden_layers: [32, 64, 128]\n",
      "\u001b[34m\u001b[1mwandb\u001b[0m: \tinitialization: Xavier\n",
      "\u001b[34m\u001b[1mwandb\u001b[0m: \tlearning_rate: 0.0003\n",
      "\u001b[34m\u001b[1mwandb\u001b[0m: \toptimizer: momentum\n",
      "\u001b[34m\u001b[1mwandb\u001b[0m: \tweight_decay: 0\n",
      "Failed to detect the name of this notebook, you can set it manually with the WANDB_NOTEBOOK_NAME environment variable to enable code saving.\n",
      "\u001b[34m\u001b[1mwandb\u001b[0m: \u001b[33mWARNING\u001b[0m Ignored wandb.init() arg project when running a sweep.\n"
     ]
    },
    {
     "data": {
      "text/html": [
       "wandb version 0.14.0 is available!  To upgrade, please run:\n",
       " $ pip install wandb --upgrade"
      ],
      "text/plain": [
       "<IPython.core.display.HTML object>"
      ]
     },
     "metadata": {},
     "output_type": "display_data"
    },
    {
     "data": {
      "text/html": [
       "Tracking run with wandb version 0.13.10"
      ],
      "text/plain": [
       "<IPython.core.display.HTML object>"
      ]
     },
     "metadata": {},
     "output_type": "display_data"
    },
    {
     "data": {
      "text/html": [
       "Run data is saved locally in <code>C:\\Users\\Shivam Maurya\\OneDrive\\Desktop\\IIT_MADRAS\\Deep Learning\\assignment 1\\CS6910-Deep_Learning_Assignment-1\\wandb\\run-20230317_172502-f9ba9m9r</code>"
      ],
      "text/plain": [
       "<IPython.core.display.HTML object>"
      ]
     },
     "metadata": {},
     "output_type": "display_data"
    },
    {
     "data": {
      "text/html": [
       "Syncing run <strong><a href='https://wandb.ai/cs22m083/CS6910_Assignment_1/runs/f9ba9m9r' target=\"_blank\">Question:4</a></strong> to <a href='https://wandb.ai/cs22m083/CS6910_Assignment_1' target=\"_blank\">Weights & Biases</a> (<a href='https://wandb.me/run' target=\"_blank\">docs</a>)<br/>Sweep page: <a href='https://wandb.ai/cs22m083/CS6910_Assignment_1/sweeps/cezmcy51' target=\"_blank\">https://wandb.ai/cs22m083/CS6910_Assignment_1/sweeps/cezmcy51</a>"
      ],
      "text/plain": [
       "<IPython.core.display.HTML object>"
      ]
     },
     "metadata": {},
     "output_type": "display_data"
    },
    {
     "data": {
      "text/html": [
       " View project at <a href='https://wandb.ai/cs22m083/CS6910_Assignment_1' target=\"_blank\">https://wandb.ai/cs22m083/CS6910_Assignment_1</a>"
      ],
      "text/plain": [
       "<IPython.core.display.HTML object>"
      ]
     },
     "metadata": {},
     "output_type": "display_data"
    },
    {
     "data": {
      "text/html": [
       " View sweep at <a href='https://wandb.ai/cs22m083/CS6910_Assignment_1/sweeps/cezmcy51' target=\"_blank\">https://wandb.ai/cs22m083/CS6910_Assignment_1/sweeps/cezmcy51</a>"
      ],
      "text/plain": [
       "<IPython.core.display.HTML object>"
      ]
     },
     "metadata": {},
     "output_type": "display_data"
    },
    {
     "data": {
      "text/html": [
       " View run at <a href='https://wandb.ai/cs22m083/CS6910_Assignment_1/runs/f9ba9m9r' target=\"_blank\">https://wandb.ai/cs22m083/CS6910_Assignment_1/runs/f9ba9m9r</a>"
      ],
      "text/plain": [
       "<IPython.core.display.HTML object>"
      ]
     },
     "metadata": {},
     "output_type": "display_data"
    },
    {
     "name": "stdout",
     "output_type": "stream",
     "text": [
      " Training Loss:  0.3436112156041858  Validation Loss: 0.3888321821886497  Training Accuracy:  0.8763833333333333  Validation Accuracy: 0.8602\n"
     ]
    },
    {
     "data": {
      "text/html": [
       "Waiting for W&B process to finish... <strong style=\"color:green\">(success).</strong>"
      ],
      "text/plain": [
       "<IPython.core.display.HTML object>"
      ]
     },
     "metadata": {},
     "output_type": "display_data"
    },
    {
     "data": {
      "text/html": [
       "<style>\n",
       "    table.wandb td:nth-child(1) { padding: 0 10px; text-align: left ; width: auto;} td:nth-child(2) {text-align: left ; width: 100%}\n",
       "    .wandb-row { display: flex; flex-direction: row; flex-wrap: wrap; justify-content: flex-start; width: 100% }\n",
       "    .wandb-col { display: flex; flex-direction: column; flex-basis: 100%; flex: 1; padding: 10px; }\n",
       "    </style>\n",
       "<div class=\"wandb-row\"><div class=\"wandb-col\"><h3>Run history:</h3><br/><table class=\"wandb\"><tr><td>Accuracy</td><td>▁</td></tr><tr><td>Epoch</td><td>▁▂▃▃▄▅▆▆▇█</td></tr><tr><td>Training_accuracy</td><td>▁▅▆▇▇▇████</td></tr><tr><td>Training_loss</td><td>█▃▃▂▂▂▁▁▁▁</td></tr><tr><td>Validation_accuracy</td><td>▁▄▅▆▆▇▇▇██</td></tr><tr><td>Validation_loss</td><td>█▅▄▃▃▂▂▁▁▁</td></tr></table><br/></div><div class=\"wandb-col\"><h3>Run summary:</h3><br/><table class=\"wandb\"><tr><td>Accuracy</td><td>0.8602</td></tr><tr><td>Epoch</td><td>10</td></tr><tr><td>Training_accuracy</td><td>0.87638</td></tr><tr><td>Training_loss</td><td>0.34361</td></tr><tr><td>Validation_accuracy</td><td>0.8602</td></tr><tr><td>Validation_loss</td><td>0.38883</td></tr></table><br/></div></div>"
      ],
      "text/plain": [
       "<IPython.core.display.HTML object>"
      ]
     },
     "metadata": {},
     "output_type": "display_data"
    },
    {
     "data": {
      "text/html": [
       " View run <strong style=\"color:#cdcd00\">Question:4</strong> at: <a href='https://wandb.ai/cs22m083/CS6910_Assignment_1/runs/f9ba9m9r' target=\"_blank\">https://wandb.ai/cs22m083/CS6910_Assignment_1/runs/f9ba9m9r</a><br/>Synced 6 W&B file(s), 0 media file(s), 0 artifact file(s) and 0 other file(s)"
      ],
      "text/plain": [
       "<IPython.core.display.HTML object>"
      ]
     },
     "metadata": {},
     "output_type": "display_data"
    },
    {
     "data": {
      "text/html": [
       "Find logs at: <code>.\\wandb\\run-20230317_172502-f9ba9m9r\\logs</code>"
      ],
      "text/plain": [
       "<IPython.core.display.HTML object>"
      ]
     },
     "metadata": {},
     "output_type": "display_data"
    },
    {
     "name": "stderr",
     "output_type": "stream",
     "text": [
      "\u001b[34m\u001b[1mwandb\u001b[0m: Agent Starting Run: leba0lb6 with config:\n",
      "\u001b[34m\u001b[1mwandb\u001b[0m: \tactivation: tanh\n",
      "\u001b[34m\u001b[1mwandb\u001b[0m: \tbatch_size: 64\n",
      "\u001b[34m\u001b[1mwandb\u001b[0m: \tepochs: 5\n",
      "\u001b[34m\u001b[1mwandb\u001b[0m: \tgamma: 0.0006\n",
      "\u001b[34m\u001b[1mwandb\u001b[0m: \thidden_layers: [32, 64]\n",
      "\u001b[34m\u001b[1mwandb\u001b[0m: \tinitialization: Xavier\n",
      "\u001b[34m\u001b[1mwandb\u001b[0m: \tlearning_rate: 0.0001\n",
      "\u001b[34m\u001b[1mwandb\u001b[0m: \toptimizer: nag\n",
      "\u001b[34m\u001b[1mwandb\u001b[0m: \tweight_decay: 0.0005\n",
      "Failed to detect the name of this notebook, you can set it manually with the WANDB_NOTEBOOK_NAME environment variable to enable code saving.\n",
      "\u001b[34m\u001b[1mwandb\u001b[0m: \u001b[33mWARNING\u001b[0m Ignored wandb.init() arg project when running a sweep.\n"
     ]
    },
    {
     "data": {
      "text/html": [
       "wandb version 0.14.0 is available!  To upgrade, please run:\n",
       " $ pip install wandb --upgrade"
      ],
      "text/plain": [
       "<IPython.core.display.HTML object>"
      ]
     },
     "metadata": {},
     "output_type": "display_data"
    },
    {
     "data": {
      "text/html": [
       "Tracking run with wandb version 0.13.10"
      ],
      "text/plain": [
       "<IPython.core.display.HTML object>"
      ]
     },
     "metadata": {},
     "output_type": "display_data"
    },
    {
     "data": {
      "text/html": [
       "Run data is saved locally in <code>C:\\Users\\Shivam Maurya\\OneDrive\\Desktop\\IIT_MADRAS\\Deep Learning\\assignment 1\\CS6910-Deep_Learning_Assignment-1\\wandb\\run-20230317_172803-leba0lb6</code>"
      ],
      "text/plain": [
       "<IPython.core.display.HTML object>"
      ]
     },
     "metadata": {},
     "output_type": "display_data"
    },
    {
     "data": {
      "text/html": [
       "Syncing run <strong><a href='https://wandb.ai/cs22m083/CS6910_Assignment_1/runs/leba0lb6' target=\"_blank\">Question:4</a></strong> to <a href='https://wandb.ai/cs22m083/CS6910_Assignment_1' target=\"_blank\">Weights & Biases</a> (<a href='https://wandb.me/run' target=\"_blank\">docs</a>)<br/>Sweep page: <a href='https://wandb.ai/cs22m083/CS6910_Assignment_1/sweeps/cezmcy51' target=\"_blank\">https://wandb.ai/cs22m083/CS6910_Assignment_1/sweeps/cezmcy51</a>"
      ],
      "text/plain": [
       "<IPython.core.display.HTML object>"
      ]
     },
     "metadata": {},
     "output_type": "display_data"
    },
    {
     "data": {
      "text/html": [
       " View project at <a href='https://wandb.ai/cs22m083/CS6910_Assignment_1' target=\"_blank\">https://wandb.ai/cs22m083/CS6910_Assignment_1</a>"
      ],
      "text/plain": [
       "<IPython.core.display.HTML object>"
      ]
     },
     "metadata": {},
     "output_type": "display_data"
    },
    {
     "data": {
      "text/html": [
       " View sweep at <a href='https://wandb.ai/cs22m083/CS6910_Assignment_1/sweeps/cezmcy51' target=\"_blank\">https://wandb.ai/cs22m083/CS6910_Assignment_1/sweeps/cezmcy51</a>"
      ],
      "text/plain": [
       "<IPython.core.display.HTML object>"
      ]
     },
     "metadata": {},
     "output_type": "display_data"
    },
    {
     "data": {
      "text/html": [
       " View run at <a href='https://wandb.ai/cs22m083/CS6910_Assignment_1/runs/leba0lb6' target=\"_blank\">https://wandb.ai/cs22m083/CS6910_Assignment_1/runs/leba0lb6</a>"
      ],
      "text/plain": [
       "<IPython.core.display.HTML object>"
      ]
     },
     "metadata": {},
     "output_type": "display_data"
    },
    {
     "name": "stdout",
     "output_type": "stream",
     "text": [
      " Training Loss:  1.8518617942323947  Validation Loss: 1.811815911661824  Training Accuracy:  0.47035  Validation Accuracy: 0.4972\n"
     ]
    },
    {
     "data": {
      "text/html": [
       "Waiting for W&B process to finish... <strong style=\"color:green\">(success).</strong>"
      ],
      "text/plain": [
       "<IPython.core.display.HTML object>"
      ]
     },
     "metadata": {},
     "output_type": "display_data"
    },
    {
     "data": {
      "text/html": [
       "<style>\n",
       "    table.wandb td:nth-child(1) { padding: 0 10px; text-align: left ; width: auto;} td:nth-child(2) {text-align: left ; width: 100%}\n",
       "    .wandb-row { display: flex; flex-direction: row; flex-wrap: wrap; justify-content: flex-start; width: 100% }\n",
       "    .wandb-col { display: flex; flex-direction: column; flex-basis: 100%; flex: 1; padding: 10px; }\n",
       "    </style>\n",
       "<div class=\"wandb-row\"><div class=\"wandb-col\"><h3>Run history:</h3><br/><table class=\"wandb\"><tr><td>Accuracy</td><td>▁</td></tr><tr><td>Epoch</td><td>▁▃▅▆█</td></tr><tr><td>Training_accuracy</td><td>▁▃▅▆█</td></tr><tr><td>Training_loss</td><td>█▆▄▂▁</td></tr><tr><td>Validation_accuracy</td><td>▁▃▅▇█</td></tr><tr><td>Validation_loss</td><td>█▆▄▃▁</td></tr></table><br/></div><div class=\"wandb-col\"><h3>Run summary:</h3><br/><table class=\"wandb\"><tr><td>Accuracy</td><td>0.4972</td></tr><tr><td>Epoch</td><td>5</td></tr><tr><td>Training_accuracy</td><td>0.47035</td></tr><tr><td>Training_loss</td><td>1.85186</td></tr><tr><td>Validation_accuracy</td><td>0.4972</td></tr><tr><td>Validation_loss</td><td>1.81182</td></tr></table><br/></div></div>"
      ],
      "text/plain": [
       "<IPython.core.display.HTML object>"
      ]
     },
     "metadata": {},
     "output_type": "display_data"
    },
    {
     "data": {
      "text/html": [
       " View run <strong style=\"color:#cdcd00\">Question:4</strong> at: <a href='https://wandb.ai/cs22m083/CS6910_Assignment_1/runs/leba0lb6' target=\"_blank\">https://wandb.ai/cs22m083/CS6910_Assignment_1/runs/leba0lb6</a><br/>Synced 6 W&B file(s), 0 media file(s), 0 artifact file(s) and 0 other file(s)"
      ],
      "text/plain": [
       "<IPython.core.display.HTML object>"
      ]
     },
     "metadata": {},
     "output_type": "display_data"
    },
    {
     "data": {
      "text/html": [
       "Find logs at: <code>.\\wandb\\run-20230317_172803-leba0lb6\\logs</code>"
      ],
      "text/plain": [
       "<IPython.core.display.HTML object>"
      ]
     },
     "metadata": {},
     "output_type": "display_data"
    },
    {
     "name": "stderr",
     "output_type": "stream",
     "text": [
      "\u001b[34m\u001b[1mwandb\u001b[0m: Agent Starting Run: o8r1xk7i with config:\n",
      "\u001b[34m\u001b[1mwandb\u001b[0m: \tactivation: relu\n",
      "\u001b[34m\u001b[1mwandb\u001b[0m: \tbatch_size: 16\n",
      "\u001b[34m\u001b[1mwandb\u001b[0m: \tepochs: 10\n",
      "\u001b[34m\u001b[1mwandb\u001b[0m: \tgamma: 0.03\n",
      "\u001b[34m\u001b[1mwandb\u001b[0m: \thidden_layers: [32, 64]\n",
      "\u001b[34m\u001b[1mwandb\u001b[0m: \tinitialization: Random\n",
      "\u001b[34m\u001b[1mwandb\u001b[0m: \tlearning_rate: 0.01\n",
      "\u001b[34m\u001b[1mwandb\u001b[0m: \toptimizer: momentum\n",
      "\u001b[34m\u001b[1mwandb\u001b[0m: \tweight_decay: 0\n",
      "Failed to detect the name of this notebook, you can set it manually with the WANDB_NOTEBOOK_NAME environment variable to enable code saving.\n",
      "\u001b[34m\u001b[1mwandb\u001b[0m: \u001b[33mWARNING\u001b[0m Ignored wandb.init() arg project when running a sweep.\n"
     ]
    },
    {
     "data": {
      "text/html": [
       "wandb version 0.14.0 is available!  To upgrade, please run:\n",
       " $ pip install wandb --upgrade"
      ],
      "text/plain": [
       "<IPython.core.display.HTML object>"
      ]
     },
     "metadata": {},
     "output_type": "display_data"
    },
    {
     "data": {
      "text/html": [
       "Tracking run with wandb version 0.13.10"
      ],
      "text/plain": [
       "<IPython.core.display.HTML object>"
      ]
     },
     "metadata": {},
     "output_type": "display_data"
    },
    {
     "data": {
      "text/html": [
       "Run data is saved locally in <code>C:\\Users\\Shivam Maurya\\OneDrive\\Desktop\\IIT_MADRAS\\Deep Learning\\assignment 1\\CS6910-Deep_Learning_Assignment-1\\wandb\\run-20230317_172929-o8r1xk7i</code>"
      ],
      "text/plain": [
       "<IPython.core.display.HTML object>"
      ]
     },
     "metadata": {},
     "output_type": "display_data"
    },
    {
     "data": {
      "text/html": [
       "Syncing run <strong><a href='https://wandb.ai/cs22m083/CS6910_Assignment_1/runs/o8r1xk7i' target=\"_blank\">Question:4</a></strong> to <a href='https://wandb.ai/cs22m083/CS6910_Assignment_1' target=\"_blank\">Weights & Biases</a> (<a href='https://wandb.me/run' target=\"_blank\">docs</a>)<br/>Sweep page: <a href='https://wandb.ai/cs22m083/CS6910_Assignment_1/sweeps/cezmcy51' target=\"_blank\">https://wandb.ai/cs22m083/CS6910_Assignment_1/sweeps/cezmcy51</a>"
      ],
      "text/plain": [
       "<IPython.core.display.HTML object>"
      ]
     },
     "metadata": {},
     "output_type": "display_data"
    },
    {
     "data": {
      "text/html": [
       " View project at <a href='https://wandb.ai/cs22m083/CS6910_Assignment_1' target=\"_blank\">https://wandb.ai/cs22m083/CS6910_Assignment_1</a>"
      ],
      "text/plain": [
       "<IPython.core.display.HTML object>"
      ]
     },
     "metadata": {},
     "output_type": "display_data"
    },
    {
     "data": {
      "text/html": [
       " View sweep at <a href='https://wandb.ai/cs22m083/CS6910_Assignment_1/sweeps/cezmcy51' target=\"_blank\">https://wandb.ai/cs22m083/CS6910_Assignment_1/sweeps/cezmcy51</a>"
      ],
      "text/plain": [
       "<IPython.core.display.HTML object>"
      ]
     },
     "metadata": {},
     "output_type": "display_data"
    },
    {
     "data": {
      "text/html": [
       " View run at <a href='https://wandb.ai/cs22m083/CS6910_Assignment_1/runs/o8r1xk7i' target=\"_blank\">https://wandb.ai/cs22m083/CS6910_Assignment_1/runs/o8r1xk7i</a>"
      ],
      "text/plain": [
       "<IPython.core.display.HTML object>"
      ]
     },
     "metadata": {},
     "output_type": "display_data"
    },
    {
     "name": "stderr",
     "output_type": "stream",
     "text": [
      "C:\\Users\\Shivam Maurya\\AppData\\Local\\Temp\\ipykernel_8020\\2821308850.py:10: RuntimeWarning: overflow encountered in exp\n",
      "  exponentials = np.exp(X) # softmax function\n",
      "C:\\Users\\Shivam Maurya\\AppData\\Local\\Temp\\ipykernel_8020\\2821308850.py:11: RuntimeWarning: invalid value encountered in true_divide\n",
      "  return exponentials / np.sum(exponentials)\n"
     ]
    },
    {
     "name": "stdout",
     "output_type": "stream",
     "text": [
      " Training Loss:  nan  Validation Loss: nan  Training Accuracy:  0.1  Validation Accuracy: 0.1\n"
     ]
    },
    {
     "data": {
      "text/html": [
       "Waiting for W&B process to finish... <strong style=\"color:green\">(success).</strong>"
      ],
      "text/plain": [
       "<IPython.core.display.HTML object>"
      ]
     },
     "metadata": {},
     "output_type": "display_data"
    },
    {
     "data": {
      "text/html": [
       "<style>\n",
       "    table.wandb td:nth-child(1) { padding: 0 10px; text-align: left ; width: auto;} td:nth-child(2) {text-align: left ; width: 100%}\n",
       "    .wandb-row { display: flex; flex-direction: row; flex-wrap: wrap; justify-content: flex-start; width: 100% }\n",
       "    .wandb-col { display: flex; flex-direction: column; flex-basis: 100%; flex: 1; padding: 10px; }\n",
       "    </style>\n",
       "<div class=\"wandb-row\"><div class=\"wandb-col\"><h3>Run history:</h3><br/><table class=\"wandb\"><tr><td>Accuracy</td><td>▁</td></tr><tr><td>Epoch</td><td>▁▂▃▃▄▅▆▆▇█</td></tr><tr><td>Training_accuracy</td><td>▁█████████</td></tr><tr><td>Validation_accuracy</td><td>▁▁▁▁▁▁▁▁▁▁</td></tr></table><br/></div><div class=\"wandb-col\"><h3>Run summary:</h3><br/><table class=\"wandb\"><tr><td>Accuracy</td><td>0.1</td></tr><tr><td>Epoch</td><td>10</td></tr><tr><td>Training_accuracy</td><td>0.1</td></tr><tr><td>Training_loss</td><td>nan</td></tr><tr><td>Validation_accuracy</td><td>0.1</td></tr><tr><td>Validation_loss</td><td>nan</td></tr></table><br/></div></div>"
      ],
      "text/plain": [
       "<IPython.core.display.HTML object>"
      ]
     },
     "metadata": {},
     "output_type": "display_data"
    },
    {
     "data": {
      "text/html": [
       " View run <strong style=\"color:#cdcd00\">Question:4</strong> at: <a href='https://wandb.ai/cs22m083/CS6910_Assignment_1/runs/o8r1xk7i' target=\"_blank\">https://wandb.ai/cs22m083/CS6910_Assignment_1/runs/o8r1xk7i</a><br/>Synced 6 W&B file(s), 0 media file(s), 0 artifact file(s) and 0 other file(s)"
      ],
      "text/plain": [
       "<IPython.core.display.HTML object>"
      ]
     },
     "metadata": {},
     "output_type": "display_data"
    },
    {
     "data": {
      "text/html": [
       "Find logs at: <code>.\\wandb\\run-20230317_172929-o8r1xk7i\\logs</code>"
      ],
      "text/plain": [
       "<IPython.core.display.HTML object>"
      ]
     },
     "metadata": {},
     "output_type": "display_data"
    },
    {
     "name": "stderr",
     "output_type": "stream",
     "text": [
      "\u001b[34m\u001b[1mwandb\u001b[0m: Agent Starting Run: id1gbjak with config:\n",
      "\u001b[34m\u001b[1mwandb\u001b[0m: \tactivation: sigmoid\n",
      "\u001b[34m\u001b[1mwandb\u001b[0m: \tbatch_size: 16\n",
      "\u001b[34m\u001b[1mwandb\u001b[0m: \tepochs: 5\n",
      "\u001b[34m\u001b[1mwandb\u001b[0m: \tgamma: 0.002\n",
      "\u001b[34m\u001b[1mwandb\u001b[0m: \thidden_layers: [32, 64, 128]\n",
      "\u001b[34m\u001b[1mwandb\u001b[0m: \tinitialization: Random\n",
      "\u001b[34m\u001b[1mwandb\u001b[0m: \tlearning_rate: 0.01\n",
      "\u001b[34m\u001b[1mwandb\u001b[0m: \toptimizer: momentum\n",
      "\u001b[34m\u001b[1mwandb\u001b[0m: \tweight_decay: 0\n",
      "Failed to detect the name of this notebook, you can set it manually with the WANDB_NOTEBOOK_NAME environment variable to enable code saving.\n",
      "\u001b[34m\u001b[1mwandb\u001b[0m: \u001b[33mWARNING\u001b[0m Ignored wandb.init() arg project when running a sweep.\n"
     ]
    },
    {
     "data": {
      "text/html": [
       "wandb version 0.14.0 is available!  To upgrade, please run:\n",
       " $ pip install wandb --upgrade"
      ],
      "text/plain": [
       "<IPython.core.display.HTML object>"
      ]
     },
     "metadata": {},
     "output_type": "display_data"
    },
    {
     "data": {
      "text/html": [
       "Tracking run with wandb version 0.13.10"
      ],
      "text/plain": [
       "<IPython.core.display.HTML object>"
      ]
     },
     "metadata": {},
     "output_type": "display_data"
    },
    {
     "data": {
      "text/html": [
       "Run data is saved locally in <code>C:\\Users\\Shivam Maurya\\OneDrive\\Desktop\\IIT_MADRAS\\Deep Learning\\assignment 1\\CS6910-Deep_Learning_Assignment-1\\wandb\\run-20230317_173203-id1gbjak</code>"
      ],
      "text/plain": [
       "<IPython.core.display.HTML object>"
      ]
     },
     "metadata": {},
     "output_type": "display_data"
    },
    {
     "data": {
      "text/html": [
       "Syncing run <strong><a href='https://wandb.ai/cs22m083/CS6910_Assignment_1/runs/id1gbjak' target=\"_blank\">Question:4</a></strong> to <a href='https://wandb.ai/cs22m083/CS6910_Assignment_1' target=\"_blank\">Weights & Biases</a> (<a href='https://wandb.me/run' target=\"_blank\">docs</a>)<br/>Sweep page: <a href='https://wandb.ai/cs22m083/CS6910_Assignment_1/sweeps/cezmcy51' target=\"_blank\">https://wandb.ai/cs22m083/CS6910_Assignment_1/sweeps/cezmcy51</a>"
      ],
      "text/plain": [
       "<IPython.core.display.HTML object>"
      ]
     },
     "metadata": {},
     "output_type": "display_data"
    },
    {
     "data": {
      "text/html": [
       " View project at <a href='https://wandb.ai/cs22m083/CS6910_Assignment_1' target=\"_blank\">https://wandb.ai/cs22m083/CS6910_Assignment_1</a>"
      ],
      "text/plain": [
       "<IPython.core.display.HTML object>"
      ]
     },
     "metadata": {},
     "output_type": "display_data"
    },
    {
     "data": {
      "text/html": [
       " View sweep at <a href='https://wandb.ai/cs22m083/CS6910_Assignment_1/sweeps/cezmcy51' target=\"_blank\">https://wandb.ai/cs22m083/CS6910_Assignment_1/sweeps/cezmcy51</a>"
      ],
      "text/plain": [
       "<IPython.core.display.HTML object>"
      ]
     },
     "metadata": {},
     "output_type": "display_data"
    },
    {
     "data": {
      "text/html": [
       " View run at <a href='https://wandb.ai/cs22m083/CS6910_Assignment_1/runs/id1gbjak' target=\"_blank\">https://wandb.ai/cs22m083/CS6910_Assignment_1/runs/id1gbjak</a>"
      ],
      "text/plain": [
       "<IPython.core.display.HTML object>"
      ]
     },
     "metadata": {},
     "output_type": "display_data"
    },
    {
     "name": "stdout",
     "output_type": "stream",
     "text": [
      " Training Loss:  0.48660168778463064  Validation Loss: 0.525711237467158  Training Accuracy:  0.8270833333333333  Validation Accuracy: 0.8146\n"
     ]
    },
    {
     "data": {
      "text/html": [
       "Waiting for W&B process to finish... <strong style=\"color:green\">(success).</strong>"
      ],
      "text/plain": [
       "<IPython.core.display.HTML object>"
      ]
     },
     "metadata": {},
     "output_type": "display_data"
    },
    {
     "data": {
      "text/html": [
       "<style>\n",
       "    table.wandb td:nth-child(1) { padding: 0 10px; text-align: left ; width: auto;} td:nth-child(2) {text-align: left ; width: 100%}\n",
       "    .wandb-row { display: flex; flex-direction: row; flex-wrap: wrap; justify-content: flex-start; width: 100% }\n",
       "    .wandb-col { display: flex; flex-direction: column; flex-basis: 100%; flex: 1; padding: 10px; }\n",
       "    </style>\n",
       "<div class=\"wandb-row\"><div class=\"wandb-col\"><h3>Run history:</h3><br/><table class=\"wandb\"><tr><td>Accuracy</td><td>▁</td></tr><tr><td>Epoch</td><td>▁▃▅▆█</td></tr><tr><td>Training_accuracy</td><td>▁▆▇██</td></tr><tr><td>Training_loss</td><td>█▃▂▁▁</td></tr><tr><td>Validation_accuracy</td><td>▁▅▇▇█</td></tr><tr><td>Validation_loss</td><td>█▄▂▂▁</td></tr></table><br/></div><div class=\"wandb-col\"><h3>Run summary:</h3><br/><table class=\"wandb\"><tr><td>Accuracy</td><td>0.8146</td></tr><tr><td>Epoch</td><td>5</td></tr><tr><td>Training_accuracy</td><td>0.82708</td></tr><tr><td>Training_loss</td><td>0.4866</td></tr><tr><td>Validation_accuracy</td><td>0.8146</td></tr><tr><td>Validation_loss</td><td>0.52571</td></tr></table><br/></div></div>"
      ],
      "text/plain": [
       "<IPython.core.display.HTML object>"
      ]
     },
     "metadata": {},
     "output_type": "display_data"
    },
    {
     "data": {
      "text/html": [
       " View run <strong style=\"color:#cdcd00\">Question:4</strong> at: <a href='https://wandb.ai/cs22m083/CS6910_Assignment_1/runs/id1gbjak' target=\"_blank\">https://wandb.ai/cs22m083/CS6910_Assignment_1/runs/id1gbjak</a><br/>Synced 6 W&B file(s), 0 media file(s), 0 artifact file(s) and 0 other file(s)"
      ],
      "text/plain": [
       "<IPython.core.display.HTML object>"
      ]
     },
     "metadata": {},
     "output_type": "display_data"
    },
    {
     "data": {
      "text/html": [
       "Find logs at: <code>.\\wandb\\run-20230317_173203-id1gbjak\\logs</code>"
      ],
      "text/plain": [
       "<IPython.core.display.HTML object>"
      ]
     },
     "metadata": {},
     "output_type": "display_data"
    },
    {
     "name": "stderr",
     "output_type": "stream",
     "text": [
      "\u001b[34m\u001b[1mwandb\u001b[0m: Agent Starting Run: ocouev8d with config:\n",
      "\u001b[34m\u001b[1mwandb\u001b[0m: \tactivation: sigmoid\n",
      "\u001b[34m\u001b[1mwandb\u001b[0m: \tbatch_size: 64\n",
      "\u001b[34m\u001b[1mwandb\u001b[0m: \tepochs: 10\n",
      "\u001b[34m\u001b[1mwandb\u001b[0m: \tgamma: 0.0006\n",
      "\u001b[34m\u001b[1mwandb\u001b[0m: \thidden_layers: [32, 64, 128]\n",
      "\u001b[34m\u001b[1mwandb\u001b[0m: \tinitialization: Xavier\n",
      "\u001b[34m\u001b[1mwandb\u001b[0m: \tlearning_rate: 0.0005\n",
      "\u001b[34m\u001b[1mwandb\u001b[0m: \toptimizer: sgd\n",
      "\u001b[34m\u001b[1mwandb\u001b[0m: \tweight_decay: 0.0005\n",
      "Failed to detect the name of this notebook, you can set it manually with the WANDB_NOTEBOOK_NAME environment variable to enable code saving.\n",
      "\u001b[34m\u001b[1mwandb\u001b[0m: \u001b[33mWARNING\u001b[0m Ignored wandb.init() arg project when running a sweep.\n"
     ]
    },
    {
     "data": {
      "text/html": [
       "wandb version 0.14.0 is available!  To upgrade, please run:\n",
       " $ pip install wandb --upgrade"
      ],
      "text/plain": [
       "<IPython.core.display.HTML object>"
      ]
     },
     "metadata": {},
     "output_type": "display_data"
    },
    {
     "data": {
      "text/html": [
       "Tracking run with wandb version 0.13.10"
      ],
      "text/plain": [
       "<IPython.core.display.HTML object>"
      ]
     },
     "metadata": {},
     "output_type": "display_data"
    },
    {
     "data": {
      "text/html": [
       "Run data is saved locally in <code>C:\\Users\\Shivam Maurya\\OneDrive\\Desktop\\IIT_MADRAS\\Deep Learning\\assignment 1\\CS6910-Deep_Learning_Assignment-1\\wandb\\run-20230317_173351-ocouev8d</code>"
      ],
      "text/plain": [
       "<IPython.core.display.HTML object>"
      ]
     },
     "metadata": {},
     "output_type": "display_data"
    },
    {
     "data": {
      "text/html": [
       "Syncing run <strong><a href='https://wandb.ai/cs22m083/CS6910_Assignment_1/runs/ocouev8d' target=\"_blank\">Question:4</a></strong> to <a href='https://wandb.ai/cs22m083/CS6910_Assignment_1' target=\"_blank\">Weights & Biases</a> (<a href='https://wandb.me/run' target=\"_blank\">docs</a>)<br/>Sweep page: <a href='https://wandb.ai/cs22m083/CS6910_Assignment_1/sweeps/cezmcy51' target=\"_blank\">https://wandb.ai/cs22m083/CS6910_Assignment_1/sweeps/cezmcy51</a>"
      ],
      "text/plain": [
       "<IPython.core.display.HTML object>"
      ]
     },
     "metadata": {},
     "output_type": "display_data"
    },
    {
     "data": {
      "text/html": [
       " View project at <a href='https://wandb.ai/cs22m083/CS6910_Assignment_1' target=\"_blank\">https://wandb.ai/cs22m083/CS6910_Assignment_1</a>"
      ],
      "text/plain": [
       "<IPython.core.display.HTML object>"
      ]
     },
     "metadata": {},
     "output_type": "display_data"
    },
    {
     "data": {
      "text/html": [
       " View sweep at <a href='https://wandb.ai/cs22m083/CS6910_Assignment_1/sweeps/cezmcy51' target=\"_blank\">https://wandb.ai/cs22m083/CS6910_Assignment_1/sweeps/cezmcy51</a>"
      ],
      "text/plain": [
       "<IPython.core.display.HTML object>"
      ]
     },
     "metadata": {},
     "output_type": "display_data"
    },
    {
     "data": {
      "text/html": [
       " View run at <a href='https://wandb.ai/cs22m083/CS6910_Assignment_1/runs/ocouev8d' target=\"_blank\">https://wandb.ai/cs22m083/CS6910_Assignment_1/runs/ocouev8d</a>"
      ],
      "text/plain": [
       "<IPython.core.display.HTML object>"
      ]
     },
     "metadata": {},
     "output_type": "display_data"
    },
    {
     "name": "stdout",
     "output_type": "stream",
     "text": [
      " Training Loss:  0.6799959444531642  Validation Loss: 0.6738163394005838  Training Accuracy:  0.7504166666666666  Validation Accuracy: 0.7596\n"
     ]
    },
    {
     "data": {
      "text/html": [
       "Waiting for W&B process to finish... <strong style=\"color:green\">(success).</strong>"
      ],
      "text/plain": [
       "<IPython.core.display.HTML object>"
      ]
     },
     "metadata": {},
     "output_type": "display_data"
    },
    {
     "data": {
      "application/vnd.jupyter.widget-view+json": {
       "model_id": "8159d08335cd4a979be467fd88419c57",
       "version_major": 2,
       "version_minor": 0
      },
      "text/plain": [
       "VBox(children=(Label(value='0.001 MB of 0.001 MB uploaded (0.000 MB deduped)\\r'), FloatProgress(value=1.0, max…"
      ]
     },
     "metadata": {},
     "output_type": "display_data"
    },
    {
     "data": {
      "text/html": [
       "<style>\n",
       "    table.wandb td:nth-child(1) { padding: 0 10px; text-align: left ; width: auto;} td:nth-child(2) {text-align: left ; width: 100%}\n",
       "    .wandb-row { display: flex; flex-direction: row; flex-wrap: wrap; justify-content: flex-start; width: 100% }\n",
       "    .wandb-col { display: flex; flex-direction: column; flex-basis: 100%; flex: 1; padding: 10px; }\n",
       "    </style>\n",
       "<div class=\"wandb-row\"><div class=\"wandb-col\"><h3>Run history:</h3><br/><table class=\"wandb\"><tr><td>Accuracy</td><td>▁</td></tr><tr><td>Epoch</td><td>▁▂▃▃▄▅▆▆▇█</td></tr><tr><td>Training_accuracy</td><td>▁▂▄▅▆▇▇▇██</td></tr><tr><td>Training_loss</td><td>█▇▅▄▃▂▂▁▁▁</td></tr><tr><td>Validation_accuracy</td><td>▁▄▅▆▆▇▇███</td></tr><tr><td>Validation_loss</td><td>█▆▅▃▃▂▂▁▁▁</td></tr></table><br/></div><div class=\"wandb-col\"><h3>Run summary:</h3><br/><table class=\"wandb\"><tr><td>Accuracy</td><td>0.7596</td></tr><tr><td>Epoch</td><td>10</td></tr><tr><td>Training_accuracy</td><td>0.75042</td></tr><tr><td>Training_loss</td><td>0.68</td></tr><tr><td>Validation_accuracy</td><td>0.7596</td></tr><tr><td>Validation_loss</td><td>0.67382</td></tr></table><br/></div></div>"
      ],
      "text/plain": [
       "<IPython.core.display.HTML object>"
      ]
     },
     "metadata": {},
     "output_type": "display_data"
    },
    {
     "data": {
      "text/html": [
       " View run <strong style=\"color:#cdcd00\">Question:4</strong> at: <a href='https://wandb.ai/cs22m083/CS6910_Assignment_1/runs/ocouev8d' target=\"_blank\">https://wandb.ai/cs22m083/CS6910_Assignment_1/runs/ocouev8d</a><br/>Synced 6 W&B file(s), 0 media file(s), 0 artifact file(s) and 0 other file(s)"
      ],
      "text/plain": [
       "<IPython.core.display.HTML object>"
      ]
     },
     "metadata": {},
     "output_type": "display_data"
    },
    {
     "data": {
      "text/html": [
       "Find logs at: <code>.\\wandb\\run-20230317_173351-ocouev8d\\logs</code>"
      ],
      "text/plain": [
       "<IPython.core.display.HTML object>"
      ]
     },
     "metadata": {},
     "output_type": "display_data"
    },
    {
     "name": "stderr",
     "output_type": "stream",
     "text": [
      "\u001b[34m\u001b[1mwandb\u001b[0m: Agent Starting Run: 1jbn0zim with config:\n",
      "\u001b[34m\u001b[1mwandb\u001b[0m: \tactivation: sigmoid\n",
      "\u001b[34m\u001b[1mwandb\u001b[0m: \tbatch_size: 16\n",
      "\u001b[34m\u001b[1mwandb\u001b[0m: \tepochs: 5\n",
      "\u001b[34m\u001b[1mwandb\u001b[0m: \tgamma: 0.03\n",
      "\u001b[34m\u001b[1mwandb\u001b[0m: \thidden_layers: [32, 64, 128, 256]\n",
      "\u001b[34m\u001b[1mwandb\u001b[0m: \tinitialization: Xavier\n",
      "\u001b[34m\u001b[1mwandb\u001b[0m: \tlearning_rate: 0.0003\n",
      "\u001b[34m\u001b[1mwandb\u001b[0m: \toptimizer: sgd\n",
      "\u001b[34m\u001b[1mwandb\u001b[0m: \tweight_decay: 0\n",
      "Failed to detect the name of this notebook, you can set it manually with the WANDB_NOTEBOOK_NAME environment variable to enable code saving.\n",
      "\u001b[34m\u001b[1mwandb\u001b[0m: \u001b[33mWARNING\u001b[0m Ignored wandb.init() arg project when running a sweep.\n"
     ]
    },
    {
     "data": {
      "text/html": [
       "wandb version 0.14.0 is available!  To upgrade, please run:\n",
       " $ pip install wandb --upgrade"
      ],
      "text/plain": [
       "<IPython.core.display.HTML object>"
      ]
     },
     "metadata": {},
     "output_type": "display_data"
    },
    {
     "data": {
      "text/html": [
       "Tracking run with wandb version 0.13.10"
      ],
      "text/plain": [
       "<IPython.core.display.HTML object>"
      ]
     },
     "metadata": {},
     "output_type": "display_data"
    },
    {
     "data": {
      "text/html": [
       "Run data is saved locally in <code>C:\\Users\\Shivam Maurya\\OneDrive\\Desktop\\IIT_MADRAS\\Deep Learning\\assignment 1\\CS6910-Deep_Learning_Assignment-1\\wandb\\run-20230317_173703-1jbn0zim</code>"
      ],
      "text/plain": [
       "<IPython.core.display.HTML object>"
      ]
     },
     "metadata": {},
     "output_type": "display_data"
    },
    {
     "data": {
      "text/html": [
       "Syncing run <strong><a href='https://wandb.ai/cs22m083/CS6910_Assignment_1/runs/1jbn0zim' target=\"_blank\">Question:4</a></strong> to <a href='https://wandb.ai/cs22m083/CS6910_Assignment_1' target=\"_blank\">Weights & Biases</a> (<a href='https://wandb.me/run' target=\"_blank\">docs</a>)<br/>Sweep page: <a href='https://wandb.ai/cs22m083/CS6910_Assignment_1/sweeps/cezmcy51' target=\"_blank\">https://wandb.ai/cs22m083/CS6910_Assignment_1/sweeps/cezmcy51</a>"
      ],
      "text/plain": [
       "<IPython.core.display.HTML object>"
      ]
     },
     "metadata": {},
     "output_type": "display_data"
    },
    {
     "data": {
      "text/html": [
       " View project at <a href='https://wandb.ai/cs22m083/CS6910_Assignment_1' target=\"_blank\">https://wandb.ai/cs22m083/CS6910_Assignment_1</a>"
      ],
      "text/plain": [
       "<IPython.core.display.HTML object>"
      ]
     },
     "metadata": {},
     "output_type": "display_data"
    },
    {
     "data": {
      "text/html": [
       " View sweep at <a href='https://wandb.ai/cs22m083/CS6910_Assignment_1/sweeps/cezmcy51' target=\"_blank\">https://wandb.ai/cs22m083/CS6910_Assignment_1/sweeps/cezmcy51</a>"
      ],
      "text/plain": [
       "<IPython.core.display.HTML object>"
      ]
     },
     "metadata": {},
     "output_type": "display_data"
    },
    {
     "data": {
      "text/html": [
       " View run at <a href='https://wandb.ai/cs22m083/CS6910_Assignment_1/runs/1jbn0zim' target=\"_blank\">https://wandb.ai/cs22m083/CS6910_Assignment_1/runs/1jbn0zim</a>"
      ],
      "text/plain": [
       "<IPython.core.display.HTML object>"
      ]
     },
     "metadata": {},
     "output_type": "display_data"
    },
    {
     "name": "stdout",
     "output_type": "stream",
     "text": [
      " Training Loss:  2.3000809510030518  Validation Loss: 2.29731814088381  Training Accuracy:  0.1114  Validation Accuracy: 0.1\n"
     ]
    },
    {
     "data": {
      "text/html": [
       "Waiting for W&B process to finish... <strong style=\"color:green\">(success).</strong>"
      ],
      "text/plain": [
       "<IPython.core.display.HTML object>"
      ]
     },
     "metadata": {},
     "output_type": "display_data"
    },
    {
     "data": {
      "application/vnd.jupyter.widget-view+json": {
       "model_id": "087ee51580af43568a129fb9f6b07920",
       "version_major": 2,
       "version_minor": 0
      },
      "text/plain": [
       "VBox(children=(Label(value='0.001 MB of 0.001 MB uploaded (0.000 MB deduped)\\r'), FloatProgress(value=1.0, max…"
      ]
     },
     "metadata": {},
     "output_type": "display_data"
    },
    {
     "data": {
      "text/html": [
       "<style>\n",
       "    table.wandb td:nth-child(1) { padding: 0 10px; text-align: left ; width: auto;} td:nth-child(2) {text-align: left ; width: 100%}\n",
       "    .wandb-row { display: flex; flex-direction: row; flex-wrap: wrap; justify-content: flex-start; width: 100% }\n",
       "    .wandb-col { display: flex; flex-direction: column; flex-basis: 100%; flex: 1; padding: 10px; }\n",
       "    </style>\n",
       "<div class=\"wandb-row\"><div class=\"wandb-col\"><h3>Run history:</h3><br/><table class=\"wandb\"><tr><td>Accuracy</td><td>▁</td></tr><tr><td>Epoch</td><td>▁▃▅▆█</td></tr><tr><td>Training_accuracy</td><td>▁▂▃▅█</td></tr><tr><td>Training_loss</td><td>█▇▆▄▁</td></tr><tr><td>Validation_accuracy</td><td>▁▁▁▁▁</td></tr><tr><td>Validation_loss</td><td>█▇▆▄▁</td></tr></table><br/></div><div class=\"wandb-col\"><h3>Run summary:</h3><br/><table class=\"wandb\"><tr><td>Accuracy</td><td>0.1</td></tr><tr><td>Epoch</td><td>5</td></tr><tr><td>Training_accuracy</td><td>0.1114</td></tr><tr><td>Training_loss</td><td>2.30008</td></tr><tr><td>Validation_accuracy</td><td>0.1</td></tr><tr><td>Validation_loss</td><td>2.29732</td></tr></table><br/></div></div>"
      ],
      "text/plain": [
       "<IPython.core.display.HTML object>"
      ]
     },
     "metadata": {},
     "output_type": "display_data"
    },
    {
     "data": {
      "text/html": [
       " View run <strong style=\"color:#cdcd00\">Question:4</strong> at: <a href='https://wandb.ai/cs22m083/CS6910_Assignment_1/runs/1jbn0zim' target=\"_blank\">https://wandb.ai/cs22m083/CS6910_Assignment_1/runs/1jbn0zim</a><br/>Synced 6 W&B file(s), 0 media file(s), 0 artifact file(s) and 0 other file(s)"
      ],
      "text/plain": [
       "<IPython.core.display.HTML object>"
      ]
     },
     "metadata": {},
     "output_type": "display_data"
    },
    {
     "data": {
      "text/html": [
       "Find logs at: <code>.\\wandb\\run-20230317_173703-1jbn0zim\\logs</code>"
      ],
      "text/plain": [
       "<IPython.core.display.HTML object>"
      ]
     },
     "metadata": {},
     "output_type": "display_data"
    },
    {
     "name": "stderr",
     "output_type": "stream",
     "text": [
      "\u001b[34m\u001b[1mwandb\u001b[0m: Agent Starting Run: 2bo3woqp with config:\n",
      "\u001b[34m\u001b[1mwandb\u001b[0m: \tactivation: sigmoid\n",
      "\u001b[34m\u001b[1mwandb\u001b[0m: \tbatch_size: 32\n",
      "\u001b[34m\u001b[1mwandb\u001b[0m: \tepochs: 10\n",
      "\u001b[34m\u001b[1mwandb\u001b[0m: \tgamma: 0.03\n",
      "\u001b[34m\u001b[1mwandb\u001b[0m: \thidden_layers: [32, 64, 128]\n",
      "\u001b[34m\u001b[1mwandb\u001b[0m: \tinitialization: Xavier\n",
      "\u001b[34m\u001b[1mwandb\u001b[0m: \tlearning_rate: 0.0006\n",
      "\u001b[34m\u001b[1mwandb\u001b[0m: \toptimizer: adam\n",
      "\u001b[34m\u001b[1mwandb\u001b[0m: \tweight_decay: 0\n",
      "Failed to detect the name of this notebook, you can set it manually with the WANDB_NOTEBOOK_NAME environment variable to enable code saving.\n",
      "\u001b[34m\u001b[1mwandb\u001b[0m: \u001b[33mWARNING\u001b[0m Ignored wandb.init() arg project when running a sweep.\n"
     ]
    },
    {
     "data": {
      "text/html": [
       "wandb version 0.14.0 is available!  To upgrade, please run:\n",
       " $ pip install wandb --upgrade"
      ],
      "text/plain": [
       "<IPython.core.display.HTML object>"
      ]
     },
     "metadata": {},
     "output_type": "display_data"
    },
    {
     "data": {
      "text/html": [
       "Tracking run with wandb version 0.13.10"
      ],
      "text/plain": [
       "<IPython.core.display.HTML object>"
      ]
     },
     "metadata": {},
     "output_type": "display_data"
    },
    {
     "data": {
      "text/html": [
       "Run data is saved locally in <code>C:\\Users\\Shivam Maurya\\OneDrive\\Desktop\\IIT_MADRAS\\Deep Learning\\assignment 1\\CS6910-Deep_Learning_Assignment-1\\wandb\\run-20230317_173938-2bo3woqp</code>"
      ],
      "text/plain": [
       "<IPython.core.display.HTML object>"
      ]
     },
     "metadata": {},
     "output_type": "display_data"
    },
    {
     "data": {
      "text/html": [
       "Syncing run <strong><a href='https://wandb.ai/cs22m083/CS6910_Assignment_1/runs/2bo3woqp' target=\"_blank\">Question:4</a></strong> to <a href='https://wandb.ai/cs22m083/CS6910_Assignment_1' target=\"_blank\">Weights & Biases</a> (<a href='https://wandb.me/run' target=\"_blank\">docs</a>)<br/>Sweep page: <a href='https://wandb.ai/cs22m083/CS6910_Assignment_1/sweeps/cezmcy51' target=\"_blank\">https://wandb.ai/cs22m083/CS6910_Assignment_1/sweeps/cezmcy51</a>"
      ],
      "text/plain": [
       "<IPython.core.display.HTML object>"
      ]
     },
     "metadata": {},
     "output_type": "display_data"
    },
    {
     "data": {
      "text/html": [
       " View project at <a href='https://wandb.ai/cs22m083/CS6910_Assignment_1' target=\"_blank\">https://wandb.ai/cs22m083/CS6910_Assignment_1</a>"
      ],
      "text/plain": [
       "<IPython.core.display.HTML object>"
      ]
     },
     "metadata": {},
     "output_type": "display_data"
    },
    {
     "data": {
      "text/html": [
       " View sweep at <a href='https://wandb.ai/cs22m083/CS6910_Assignment_1/sweeps/cezmcy51' target=\"_blank\">https://wandb.ai/cs22m083/CS6910_Assignment_1/sweeps/cezmcy51</a>"
      ],
      "text/plain": [
       "<IPython.core.display.HTML object>"
      ]
     },
     "metadata": {},
     "output_type": "display_data"
    },
    {
     "data": {
      "text/html": [
       " View run at <a href='https://wandb.ai/cs22m083/CS6910_Assignment_1/runs/2bo3woqp' target=\"_blank\">https://wandb.ai/cs22m083/CS6910_Assignment_1/runs/2bo3woqp</a>"
      ],
      "text/plain": [
       "<IPython.core.display.HTML object>"
      ]
     },
     "metadata": {},
     "output_type": "display_data"
    },
    {
     "name": "stdout",
     "output_type": "stream",
     "text": [
      " Training Loss:  0.32261834346462487  Validation Loss: 0.38078086786126897  Training Accuracy:  0.8836833333333334  Validation Accuracy: 0.8639\n"
     ]
    },
    {
     "data": {
      "text/html": [
       "Waiting for W&B process to finish... <strong style=\"color:green\">(success).</strong>"
      ],
      "text/plain": [
       "<IPython.core.display.HTML object>"
      ]
     },
     "metadata": {},
     "output_type": "display_data"
    },
    {
     "data": {
      "application/vnd.jupyter.widget-view+json": {
       "model_id": "70df80614135442480d2147743349b78",
       "version_major": 2,
       "version_minor": 0
      },
      "text/plain": [
       "VBox(children=(Label(value='0.001 MB of 0.001 MB uploaded (0.000 MB deduped)\\r'), FloatProgress(value=1.0, max…"
      ]
     },
     "metadata": {},
     "output_type": "display_data"
    },
    {
     "data": {
      "text/html": [
       "<style>\n",
       "    table.wandb td:nth-child(1) { padding: 0 10px; text-align: left ; width: auto;} td:nth-child(2) {text-align: left ; width: 100%}\n",
       "    .wandb-row { display: flex; flex-direction: row; flex-wrap: wrap; justify-content: flex-start; width: 100% }\n",
       "    .wandb-col { display: flex; flex-direction: column; flex-basis: 100%; flex: 1; padding: 10px; }\n",
       "    </style>\n",
       "<div class=\"wandb-row\"><div class=\"wandb-col\"><h3>Run history:</h3><br/><table class=\"wandb\"><tr><td>Accuracy</td><td>▁</td></tr><tr><td>Epoch</td><td>▁▂▃▃▄▅▆▆▇█</td></tr><tr><td>Training_accuracy</td><td>▁▆▇▇▇█████</td></tr><tr><td>Training_loss</td><td>█▃▂▂▂▁▁▁▁▁</td></tr><tr><td>Validation_accuracy</td><td>▁▅▆▇▇▇████</td></tr><tr><td>Validation_loss</td><td>█▅▃▃▂▂▂▁▁▁</td></tr></table><br/></div><div class=\"wandb-col\"><h3>Run summary:</h3><br/><table class=\"wandb\"><tr><td>Accuracy</td><td>0.8639</td></tr><tr><td>Epoch</td><td>10</td></tr><tr><td>Training_accuracy</td><td>0.88368</td></tr><tr><td>Training_loss</td><td>0.32262</td></tr><tr><td>Validation_accuracy</td><td>0.8639</td></tr><tr><td>Validation_loss</td><td>0.38078</td></tr></table><br/></div></div>"
      ],
      "text/plain": [
       "<IPython.core.display.HTML object>"
      ]
     },
     "metadata": {},
     "output_type": "display_data"
    },
    {
     "data": {
      "text/html": [
       " View run <strong style=\"color:#cdcd00\">Question:4</strong> at: <a href='https://wandb.ai/cs22m083/CS6910_Assignment_1/runs/2bo3woqp' target=\"_blank\">https://wandb.ai/cs22m083/CS6910_Assignment_1/runs/2bo3woqp</a><br/>Synced 6 W&B file(s), 0 media file(s), 0 artifact file(s) and 0 other file(s)"
      ],
      "text/plain": [
       "<IPython.core.display.HTML object>"
      ]
     },
     "metadata": {},
     "output_type": "display_data"
    },
    {
     "data": {
      "text/html": [
       "Find logs at: <code>.\\wandb\\run-20230317_173938-2bo3woqp\\logs</code>"
      ],
      "text/plain": [
       "<IPython.core.display.HTML object>"
      ]
     },
     "metadata": {},
     "output_type": "display_data"
    },
    {
     "name": "stderr",
     "output_type": "stream",
     "text": [
      "\u001b[34m\u001b[1mwandb\u001b[0m: Agent Starting Run: knysg6tf with config:\n",
      "\u001b[34m\u001b[1mwandb\u001b[0m: \tactivation: relu\n",
      "\u001b[34m\u001b[1mwandb\u001b[0m: \tbatch_size: 16\n",
      "\u001b[34m\u001b[1mwandb\u001b[0m: \tepochs: 10\n",
      "\u001b[34m\u001b[1mwandb\u001b[0m: \tgamma: 0.0006\n",
      "\u001b[34m\u001b[1mwandb\u001b[0m: \thidden_layers: [32, 64, 128, 256]\n",
      "\u001b[34m\u001b[1mwandb\u001b[0m: \tinitialization: Random\n",
      "\u001b[34m\u001b[1mwandb\u001b[0m: \tlearning_rate: 0.0001\n",
      "\u001b[34m\u001b[1mwandb\u001b[0m: \toptimizer: momentum\n",
      "\u001b[34m\u001b[1mwandb\u001b[0m: \tweight_decay: 0.0005\n",
      "Failed to detect the name of this notebook, you can set it manually with the WANDB_NOTEBOOK_NAME environment variable to enable code saving.\n",
      "\u001b[34m\u001b[1mwandb\u001b[0m: \u001b[33mWARNING\u001b[0m Ignored wandb.init() arg project when running a sweep.\n"
     ]
    },
    {
     "data": {
      "text/html": [
       "wandb version 0.14.0 is available!  To upgrade, please run:\n",
       " $ pip install wandb --upgrade"
      ],
      "text/plain": [
       "<IPython.core.display.HTML object>"
      ]
     },
     "metadata": {},
     "output_type": "display_data"
    },
    {
     "data": {
      "text/html": [
       "Tracking run with wandb version 0.13.10"
      ],
      "text/plain": [
       "<IPython.core.display.HTML object>"
      ]
     },
     "metadata": {},
     "output_type": "display_data"
    },
    {
     "data": {
      "text/html": [
       "Run data is saved locally in <code>C:\\Users\\Shivam Maurya\\OneDrive\\Desktop\\IIT_MADRAS\\Deep Learning\\assignment 1\\CS6910-Deep_Learning_Assignment-1\\wandb\\run-20230317_174302-knysg6tf</code>"
      ],
      "text/plain": [
       "<IPython.core.display.HTML object>"
      ]
     },
     "metadata": {},
     "output_type": "display_data"
    },
    {
     "data": {
      "text/html": [
       "Syncing run <strong><a href='https://wandb.ai/cs22m083/CS6910_Assignment_1/runs/knysg6tf' target=\"_blank\">Question:4</a></strong> to <a href='https://wandb.ai/cs22m083/CS6910_Assignment_1' target=\"_blank\">Weights & Biases</a> (<a href='https://wandb.me/run' target=\"_blank\">docs</a>)<br/>Sweep page: <a href='https://wandb.ai/cs22m083/CS6910_Assignment_1/sweeps/cezmcy51' target=\"_blank\">https://wandb.ai/cs22m083/CS6910_Assignment_1/sweeps/cezmcy51</a>"
      ],
      "text/plain": [
       "<IPython.core.display.HTML object>"
      ]
     },
     "metadata": {},
     "output_type": "display_data"
    },
    {
     "data": {
      "text/html": [
       " View project at <a href='https://wandb.ai/cs22m083/CS6910_Assignment_1' target=\"_blank\">https://wandb.ai/cs22m083/CS6910_Assignment_1</a>"
      ],
      "text/plain": [
       "<IPython.core.display.HTML object>"
      ]
     },
     "metadata": {},
     "output_type": "display_data"
    },
    {
     "data": {
      "text/html": [
       " View sweep at <a href='https://wandb.ai/cs22m083/CS6910_Assignment_1/sweeps/cezmcy51' target=\"_blank\">https://wandb.ai/cs22m083/CS6910_Assignment_1/sweeps/cezmcy51</a>"
      ],
      "text/plain": [
       "<IPython.core.display.HTML object>"
      ]
     },
     "metadata": {},
     "output_type": "display_data"
    },
    {
     "data": {
      "text/html": [
       " View run at <a href='https://wandb.ai/cs22m083/CS6910_Assignment_1/runs/knysg6tf' target=\"_blank\">https://wandb.ai/cs22m083/CS6910_Assignment_1/runs/knysg6tf</a>"
      ],
      "text/plain": [
       "<IPython.core.display.HTML object>"
      ]
     },
     "metadata": {},
     "output_type": "display_data"
    },
    {
     "name": "stderr",
     "output_type": "stream",
     "text": [
      "C:\\Users\\Shivam Maurya\\AppData\\Local\\Temp\\ipykernel_8020\\2821308850.py:10: RuntimeWarning: overflow encountered in exp\n",
      "  exponentials = np.exp(X) # softmax function\n",
      "C:\\Users\\Shivam Maurya\\AppData\\Local\\Temp\\ipykernel_8020\\2821308850.py:11: RuntimeWarning: invalid value encountered in true_divide\n",
      "  return exponentials / np.sum(exponentials)\n"
     ]
    },
    {
     "name": "stdout",
     "output_type": "stream",
     "text": [
      " Training Loss:  nan  Validation Loss: nan  Training Accuracy:  0.1  Validation Accuracy: 0.1\n"
     ]
    },
    {
     "data": {
      "text/html": [
       "Waiting for W&B process to finish... <strong style=\"color:green\">(success).</strong>"
      ],
      "text/plain": [
       "<IPython.core.display.HTML object>"
      ]
     },
     "metadata": {},
     "output_type": "display_data"
    },
    {
     "data": {
      "text/html": [
       "<style>\n",
       "    table.wandb td:nth-child(1) { padding: 0 10px; text-align: left ; width: auto;} td:nth-child(2) {text-align: left ; width: 100%}\n",
       "    .wandb-row { display: flex; flex-direction: row; flex-wrap: wrap; justify-content: flex-start; width: 100% }\n",
       "    .wandb-col { display: flex; flex-direction: column; flex-basis: 100%; flex: 1; padding: 10px; }\n",
       "    </style>\n",
       "<div class=\"wandb-row\"><div class=\"wandb-col\"><h3>Run history:</h3><br/><table class=\"wandb\"><tr><td>Accuracy</td><td>▁</td></tr><tr><td>Epoch</td><td>▁▂▃▃▄▅▆▆▇█</td></tr><tr><td>Training_accuracy</td><td>▁█████████</td></tr><tr><td>Validation_accuracy</td><td>▁▁▁▁▁▁▁▁▁▁</td></tr></table><br/></div><div class=\"wandb-col\"><h3>Run summary:</h3><br/><table class=\"wandb\"><tr><td>Accuracy</td><td>0.1</td></tr><tr><td>Epoch</td><td>10</td></tr><tr><td>Training_accuracy</td><td>0.1</td></tr><tr><td>Training_loss</td><td>nan</td></tr><tr><td>Validation_accuracy</td><td>0.1</td></tr><tr><td>Validation_loss</td><td>nan</td></tr></table><br/></div></div>"
      ],
      "text/plain": [
       "<IPython.core.display.HTML object>"
      ]
     },
     "metadata": {},
     "output_type": "display_data"
    },
    {
     "data": {
      "text/html": [
       " View run <strong style=\"color:#cdcd00\">Question:4</strong> at: <a href='https://wandb.ai/cs22m083/CS6910_Assignment_1/runs/knysg6tf' target=\"_blank\">https://wandb.ai/cs22m083/CS6910_Assignment_1/runs/knysg6tf</a><br/>Synced 6 W&B file(s), 0 media file(s), 0 artifact file(s) and 0 other file(s)"
      ],
      "text/plain": [
       "<IPython.core.display.HTML object>"
      ]
     },
     "metadata": {},
     "output_type": "display_data"
    },
    {
     "data": {
      "text/html": [
       "Find logs at: <code>.\\wandb\\run-20230317_174302-knysg6tf\\logs</code>"
      ],
      "text/plain": [
       "<IPython.core.display.HTML object>"
      ]
     },
     "metadata": {},
     "output_type": "display_data"
    },
    {
     "name": "stderr",
     "output_type": "stream",
     "text": [
      "\u001b[34m\u001b[1mwandb\u001b[0m: Agent Starting Run: r41nqrfb with config:\n",
      "\u001b[34m\u001b[1mwandb\u001b[0m: \tactivation: relu\n",
      "\u001b[34m\u001b[1mwandb\u001b[0m: \tbatch_size: 64\n",
      "\u001b[34m\u001b[1mwandb\u001b[0m: \tepochs: 10\n",
      "\u001b[34m\u001b[1mwandb\u001b[0m: \tgamma: 0.002\n",
      "\u001b[34m\u001b[1mwandb\u001b[0m: \thidden_layers: [32, 64, 128, 256]\n",
      "\u001b[34m\u001b[1mwandb\u001b[0m: \tinitialization: Xavier\n",
      "\u001b[34m\u001b[1mwandb\u001b[0m: \tlearning_rate: 0.01\n",
      "\u001b[34m\u001b[1mwandb\u001b[0m: \toptimizer: momentum\n",
      "\u001b[34m\u001b[1mwandb\u001b[0m: \tweight_decay: 0\n",
      "Failed to detect the name of this notebook, you can set it manually with the WANDB_NOTEBOOK_NAME environment variable to enable code saving.\n",
      "\u001b[34m\u001b[1mwandb\u001b[0m: \u001b[33mWARNING\u001b[0m Ignored wandb.init() arg project when running a sweep.\n"
     ]
    },
    {
     "data": {
      "text/html": [
       "wandb version 0.14.0 is available!  To upgrade, please run:\n",
       " $ pip install wandb --upgrade"
      ],
      "text/plain": [
       "<IPython.core.display.HTML object>"
      ]
     },
     "metadata": {},
     "output_type": "display_data"
    },
    {
     "data": {
      "text/html": [
       "Tracking run with wandb version 0.13.10"
      ],
      "text/plain": [
       "<IPython.core.display.HTML object>"
      ]
     },
     "metadata": {},
     "output_type": "display_data"
    },
    {
     "data": {
      "text/html": [
       "Run data is saved locally in <code>C:\\Users\\Shivam Maurya\\OneDrive\\Desktop\\IIT_MADRAS\\Deep Learning\\assignment 1\\CS6910-Deep_Learning_Assignment-1\\wandb\\run-20230317_174744-r41nqrfb</code>"
      ],
      "text/plain": [
       "<IPython.core.display.HTML object>"
      ]
     },
     "metadata": {},
     "output_type": "display_data"
    },
    {
     "data": {
      "text/html": [
       "Syncing run <strong><a href='https://wandb.ai/cs22m083/CS6910_Assignment_1/runs/r41nqrfb' target=\"_blank\">Question:4</a></strong> to <a href='https://wandb.ai/cs22m083/CS6910_Assignment_1' target=\"_blank\">Weights & Biases</a> (<a href='https://wandb.me/run' target=\"_blank\">docs</a>)<br/>Sweep page: <a href='https://wandb.ai/cs22m083/CS6910_Assignment_1/sweeps/cezmcy51' target=\"_blank\">https://wandb.ai/cs22m083/CS6910_Assignment_1/sweeps/cezmcy51</a>"
      ],
      "text/plain": [
       "<IPython.core.display.HTML object>"
      ]
     },
     "metadata": {},
     "output_type": "display_data"
    },
    {
     "data": {
      "text/html": [
       " View project at <a href='https://wandb.ai/cs22m083/CS6910_Assignment_1' target=\"_blank\">https://wandb.ai/cs22m083/CS6910_Assignment_1</a>"
      ],
      "text/plain": [
       "<IPython.core.display.HTML object>"
      ]
     },
     "metadata": {},
     "output_type": "display_data"
    },
    {
     "data": {
      "text/html": [
       " View sweep at <a href='https://wandb.ai/cs22m083/CS6910_Assignment_1/sweeps/cezmcy51' target=\"_blank\">https://wandb.ai/cs22m083/CS6910_Assignment_1/sweeps/cezmcy51</a>"
      ],
      "text/plain": [
       "<IPython.core.display.HTML object>"
      ]
     },
     "metadata": {},
     "output_type": "display_data"
    },
    {
     "data": {
      "text/html": [
       " View run at <a href='https://wandb.ai/cs22m083/CS6910_Assignment_1/runs/r41nqrfb' target=\"_blank\">https://wandb.ai/cs22m083/CS6910_Assignment_1/runs/r41nqrfb</a>"
      ],
      "text/plain": [
       "<IPython.core.display.HTML object>"
      ]
     },
     "metadata": {},
     "output_type": "display_data"
    },
    {
     "name": "stderr",
     "output_type": "stream",
     "text": [
      "C:\\Users\\Shivam Maurya\\AppData\\Local\\Temp\\ipykernel_8020\\2821308850.py:10: RuntimeWarning: overflow encountered in exp\n",
      "  exponentials = np.exp(X) # softmax function\n",
      "C:\\Users\\Shivam Maurya\\AppData\\Local\\Temp\\ipykernel_8020\\2821308850.py:11: RuntimeWarning: invalid value encountered in true_divide\n",
      "  return exponentials / np.sum(exponentials)\n"
     ]
    },
    {
     "name": "stdout",
     "output_type": "stream",
     "text": [
      " Training Loss:  nan  Validation Loss: nan  Training Accuracy:  0.1  Validation Accuracy: 0.1\n"
     ]
    },
    {
     "data": {
      "text/html": [
       "Waiting for W&B process to finish... <strong style=\"color:green\">(success).</strong>"
      ],
      "text/plain": [
       "<IPython.core.display.HTML object>"
      ]
     },
     "metadata": {},
     "output_type": "display_data"
    },
    {
     "data": {
      "application/vnd.jupyter.widget-view+json": {
       "model_id": "c30432334aee4572b4231988fa449ff2",
       "version_major": 2,
       "version_minor": 0
      },
      "text/plain": [
       "VBox(children=(Label(value='0.001 MB of 0.001 MB uploaded (0.000 MB deduped)\\r'), FloatProgress(value=1.0, max…"
      ]
     },
     "metadata": {},
     "output_type": "display_data"
    },
    {
     "data": {
      "text/html": [
       "<style>\n",
       "    table.wandb td:nth-child(1) { padding: 0 10px; text-align: left ; width: auto;} td:nth-child(2) {text-align: left ; width: 100%}\n",
       "    .wandb-row { display: flex; flex-direction: row; flex-wrap: wrap; justify-content: flex-start; width: 100% }\n",
       "    .wandb-col { display: flex; flex-direction: column; flex-basis: 100%; flex: 1; padding: 10px; }\n",
       "    </style>\n",
       "<div class=\"wandb-row\"><div class=\"wandb-col\"><h3>Run history:</h3><br/><table class=\"wandb\"><tr><td>Accuracy</td><td>▁</td></tr><tr><td>Epoch</td><td>▁▂▃▃▄▅▆▆▇█</td></tr><tr><td>Training_accuracy</td><td>█▁▁▁▁▁▁▁▁▁</td></tr><tr><td>Validation_accuracy</td><td>▁▁▁▁▁▁▁▁▁▁</td></tr></table><br/></div><div class=\"wandb-col\"><h3>Run summary:</h3><br/><table class=\"wandb\"><tr><td>Accuracy</td><td>0.1</td></tr><tr><td>Epoch</td><td>10</td></tr><tr><td>Training_accuracy</td><td>0.1</td></tr><tr><td>Training_loss</td><td>nan</td></tr><tr><td>Validation_accuracy</td><td>0.1</td></tr><tr><td>Validation_loss</td><td>nan</td></tr></table><br/></div></div>"
      ],
      "text/plain": [
       "<IPython.core.display.HTML object>"
      ]
     },
     "metadata": {},
     "output_type": "display_data"
    },
    {
     "data": {
      "text/html": [
       " View run <strong style=\"color:#cdcd00\">Question:4</strong> at: <a href='https://wandb.ai/cs22m083/CS6910_Assignment_1/runs/r41nqrfb' target=\"_blank\">https://wandb.ai/cs22m083/CS6910_Assignment_1/runs/r41nqrfb</a><br/>Synced 6 W&B file(s), 0 media file(s), 0 artifact file(s) and 0 other file(s)"
      ],
      "text/plain": [
       "<IPython.core.display.HTML object>"
      ]
     },
     "metadata": {},
     "output_type": "display_data"
    },
    {
     "data": {
      "text/html": [
       "Find logs at: <code>.\\wandb\\run-20230317_174744-r41nqrfb\\logs</code>"
      ],
      "text/plain": [
       "<IPython.core.display.HTML object>"
      ]
     },
     "metadata": {},
     "output_type": "display_data"
    },
    {
     "name": "stderr",
     "output_type": "stream",
     "text": [
      "\u001b[34m\u001b[1mwandb\u001b[0m: Agent Starting Run: dzupi71c with config:\n",
      "\u001b[34m\u001b[1mwandb\u001b[0m: \tactivation: relu\n",
      "\u001b[34m\u001b[1mwandb\u001b[0m: \tbatch_size: 32\n",
      "\u001b[34m\u001b[1mwandb\u001b[0m: \tepochs: 10\n",
      "\u001b[34m\u001b[1mwandb\u001b[0m: \tgamma: 0.03\n",
      "\u001b[34m\u001b[1mwandb\u001b[0m: \thidden_layers: [32, 64, 128]\n",
      "\u001b[34m\u001b[1mwandb\u001b[0m: \tinitialization: Xavier\n",
      "\u001b[34m\u001b[1mwandb\u001b[0m: \tlearning_rate: 0.0003\n",
      "\u001b[34m\u001b[1mwandb\u001b[0m: \toptimizer: adam\n",
      "\u001b[34m\u001b[1mwandb\u001b[0m: \tweight_decay: 0\n",
      "Failed to detect the name of this notebook, you can set it manually with the WANDB_NOTEBOOK_NAME environment variable to enable code saving.\n",
      "\u001b[34m\u001b[1mwandb\u001b[0m: \u001b[33mWARNING\u001b[0m Ignored wandb.init() arg project when running a sweep.\n"
     ]
    },
    {
     "data": {
      "text/html": [
       "wandb version 0.14.0 is available!  To upgrade, please run:\n",
       " $ pip install wandb --upgrade"
      ],
      "text/plain": [
       "<IPython.core.display.HTML object>"
      ]
     },
     "metadata": {},
     "output_type": "display_data"
    },
    {
     "data": {
      "text/html": [
       "Tracking run with wandb version 0.13.10"
      ],
      "text/plain": [
       "<IPython.core.display.HTML object>"
      ]
     },
     "metadata": {},
     "output_type": "display_data"
    },
    {
     "data": {
      "text/html": [
       "Run data is saved locally in <code>C:\\Users\\Shivam Maurya\\OneDrive\\Desktop\\IIT_MADRAS\\Deep Learning\\assignment 1\\CS6910-Deep_Learning_Assignment-1\\wandb\\run-20230317_175216-dzupi71c</code>"
      ],
      "text/plain": [
       "<IPython.core.display.HTML object>"
      ]
     },
     "metadata": {},
     "output_type": "display_data"
    },
    {
     "data": {
      "text/html": [
       "Syncing run <strong><a href='https://wandb.ai/cs22m083/CS6910_Assignment_1/runs/dzupi71c' target=\"_blank\">Question:4</a></strong> to <a href='https://wandb.ai/cs22m083/CS6910_Assignment_1' target=\"_blank\">Weights & Biases</a> (<a href='https://wandb.me/run' target=\"_blank\">docs</a>)<br/>Sweep page: <a href='https://wandb.ai/cs22m083/CS6910_Assignment_1/sweeps/cezmcy51' target=\"_blank\">https://wandb.ai/cs22m083/CS6910_Assignment_1/sweeps/cezmcy51</a>"
      ],
      "text/plain": [
       "<IPython.core.display.HTML object>"
      ]
     },
     "metadata": {},
     "output_type": "display_data"
    },
    {
     "data": {
      "text/html": [
       " View project at <a href='https://wandb.ai/cs22m083/CS6910_Assignment_1' target=\"_blank\">https://wandb.ai/cs22m083/CS6910_Assignment_1</a>"
      ],
      "text/plain": [
       "<IPython.core.display.HTML object>"
      ]
     },
     "metadata": {},
     "output_type": "display_data"
    },
    {
     "data": {
      "text/html": [
       " View sweep at <a href='https://wandb.ai/cs22m083/CS6910_Assignment_1/sweeps/cezmcy51' target=\"_blank\">https://wandb.ai/cs22m083/CS6910_Assignment_1/sweeps/cezmcy51</a>"
      ],
      "text/plain": [
       "<IPython.core.display.HTML object>"
      ]
     },
     "metadata": {},
     "output_type": "display_data"
    },
    {
     "data": {
      "text/html": [
       " View run at <a href='https://wandb.ai/cs22m083/CS6910_Assignment_1/runs/dzupi71c' target=\"_blank\">https://wandb.ai/cs22m083/CS6910_Assignment_1/runs/dzupi71c</a>"
      ],
      "text/plain": [
       "<IPython.core.display.HTML object>"
      ]
     },
     "metadata": {},
     "output_type": "display_data"
    },
    {
     "name": "stdout",
     "output_type": "stream",
     "text": [
      " Training Loss:  0.2834997582057263  Validation Loss: 0.3578605602836916  Training Accuracy:  0.8958833333333334  Validation Accuracy: 0.8747\n"
     ]
    },
    {
     "data": {
      "text/html": [
       "Waiting for W&B process to finish... <strong style=\"color:green\">(success).</strong>"
      ],
      "text/plain": [
       "<IPython.core.display.HTML object>"
      ]
     },
     "metadata": {},
     "output_type": "display_data"
    },
    {
     "data": {
      "text/html": [
       "<style>\n",
       "    table.wandb td:nth-child(1) { padding: 0 10px; text-align: left ; width: auto;} td:nth-child(2) {text-align: left ; width: 100%}\n",
       "    .wandb-row { display: flex; flex-direction: row; flex-wrap: wrap; justify-content: flex-start; width: 100% }\n",
       "    .wandb-col { display: flex; flex-direction: column; flex-basis: 100%; flex: 1; padding: 10px; }\n",
       "    </style>\n",
       "<div class=\"wandb-row\"><div class=\"wandb-col\"><h3>Run history:</h3><br/><table class=\"wandb\"><tr><td>Accuracy</td><td>▁</td></tr><tr><td>Epoch</td><td>▁▂▃▃▄▅▆▆▇█</td></tr><tr><td>Training_accuracy</td><td>▁▅▆▆▇▇▇███</td></tr><tr><td>Training_loss</td><td>█▄▃▃▂▂▂▁▁▁</td></tr><tr><td>Validation_accuracy</td><td>▁▄▆▆▇▇▇███</td></tr><tr><td>Validation_loss</td><td>█▅▃▂▂▂▂▁▁▁</td></tr></table><br/></div><div class=\"wandb-col\"><h3>Run summary:</h3><br/><table class=\"wandb\"><tr><td>Accuracy</td><td>0.8747</td></tr><tr><td>Epoch</td><td>10</td></tr><tr><td>Training_accuracy</td><td>0.89588</td></tr><tr><td>Training_loss</td><td>0.2835</td></tr><tr><td>Validation_accuracy</td><td>0.8747</td></tr><tr><td>Validation_loss</td><td>0.35786</td></tr></table><br/></div></div>"
      ],
      "text/plain": [
       "<IPython.core.display.HTML object>"
      ]
     },
     "metadata": {},
     "output_type": "display_data"
    },
    {
     "data": {
      "text/html": [
       " View run <strong style=\"color:#cdcd00\">Question:4</strong> at: <a href='https://wandb.ai/cs22m083/CS6910_Assignment_1/runs/dzupi71c' target=\"_blank\">https://wandb.ai/cs22m083/CS6910_Assignment_1/runs/dzupi71c</a><br/>Synced 6 W&B file(s), 0 media file(s), 0 artifact file(s) and 0 other file(s)"
      ],
      "text/plain": [
       "<IPython.core.display.HTML object>"
      ]
     },
     "metadata": {},
     "output_type": "display_data"
    },
    {
     "data": {
      "text/html": [
       "Find logs at: <code>.\\wandb\\run-20230317_175216-dzupi71c\\logs</code>"
      ],
      "text/plain": [
       "<IPython.core.display.HTML object>"
      ]
     },
     "metadata": {},
     "output_type": "display_data"
    },
    {
     "name": "stderr",
     "output_type": "stream",
     "text": [
      "\u001b[34m\u001b[1mwandb\u001b[0m: Agent Starting Run: 3qgjj619 with config:\n",
      "\u001b[34m\u001b[1mwandb\u001b[0m: \tactivation: tanh\n",
      "\u001b[34m\u001b[1mwandb\u001b[0m: \tbatch_size: 16\n",
      "\u001b[34m\u001b[1mwandb\u001b[0m: \tepochs: 5\n",
      "\u001b[34m\u001b[1mwandb\u001b[0m: \tgamma: 0.03\n",
      "\u001b[34m\u001b[1mwandb\u001b[0m: \thidden_layers: [32, 64]\n",
      "\u001b[34m\u001b[1mwandb\u001b[0m: \tinitialization: Random\n",
      "\u001b[34m\u001b[1mwandb\u001b[0m: \tlearning_rate: 0.0005\n",
      "\u001b[34m\u001b[1mwandb\u001b[0m: \toptimizer: adam\n",
      "\u001b[34m\u001b[1mwandb\u001b[0m: \tweight_decay: 0.0005\n",
      "Failed to detect the name of this notebook, you can set it manually with the WANDB_NOTEBOOK_NAME environment variable to enable code saving.\n",
      "\u001b[34m\u001b[1mwandb\u001b[0m: \u001b[33mWARNING\u001b[0m Ignored wandb.init() arg project when running a sweep.\n"
     ]
    },
    {
     "data": {
      "text/html": [
       "wandb version 0.14.0 is available!  To upgrade, please run:\n",
       " $ pip install wandb --upgrade"
      ],
      "text/plain": [
       "<IPython.core.display.HTML object>"
      ]
     },
     "metadata": {},
     "output_type": "display_data"
    },
    {
     "data": {
      "text/html": [
       "Tracking run with wandb version 0.13.10"
      ],
      "text/plain": [
       "<IPython.core.display.HTML object>"
      ]
     },
     "metadata": {},
     "output_type": "display_data"
    },
    {
     "data": {
      "text/html": [
       "Run data is saved locally in <code>C:\\Users\\Shivam Maurya\\OneDrive\\Desktop\\IIT_MADRAS\\Deep Learning\\assignment 1\\CS6910-Deep_Learning_Assignment-1\\wandb\\run-20230317_175533-3qgjj619</code>"
      ],
      "text/plain": [
       "<IPython.core.display.HTML object>"
      ]
     },
     "metadata": {},
     "output_type": "display_data"
    },
    {
     "data": {
      "text/html": [
       "Syncing run <strong><a href='https://wandb.ai/cs22m083/CS6910_Assignment_1/runs/3qgjj619' target=\"_blank\">Question:4</a></strong> to <a href='https://wandb.ai/cs22m083/CS6910_Assignment_1' target=\"_blank\">Weights & Biases</a> (<a href='https://wandb.me/run' target=\"_blank\">docs</a>)<br/>Sweep page: <a href='https://wandb.ai/cs22m083/CS6910_Assignment_1/sweeps/cezmcy51' target=\"_blank\">https://wandb.ai/cs22m083/CS6910_Assignment_1/sweeps/cezmcy51</a>"
      ],
      "text/plain": [
       "<IPython.core.display.HTML object>"
      ]
     },
     "metadata": {},
     "output_type": "display_data"
    },
    {
     "data": {
      "text/html": [
       " View project at <a href='https://wandb.ai/cs22m083/CS6910_Assignment_1' target=\"_blank\">https://wandb.ai/cs22m083/CS6910_Assignment_1</a>"
      ],
      "text/plain": [
       "<IPython.core.display.HTML object>"
      ]
     },
     "metadata": {},
     "output_type": "display_data"
    },
    {
     "data": {
      "text/html": [
       " View sweep at <a href='https://wandb.ai/cs22m083/CS6910_Assignment_1/sweeps/cezmcy51' target=\"_blank\">https://wandb.ai/cs22m083/CS6910_Assignment_1/sweeps/cezmcy51</a>"
      ],
      "text/plain": [
       "<IPython.core.display.HTML object>"
      ]
     },
     "metadata": {},
     "output_type": "display_data"
    },
    {
     "data": {
      "text/html": [
       " View run at <a href='https://wandb.ai/cs22m083/CS6910_Assignment_1/runs/3qgjj619' target=\"_blank\">https://wandb.ai/cs22m083/CS6910_Assignment_1/runs/3qgjj619</a>"
      ],
      "text/plain": [
       "<IPython.core.display.HTML object>"
      ]
     },
     "metadata": {},
     "output_type": "display_data"
    },
    {
     "name": "stdout",
     "output_type": "stream",
     "text": [
      " Training Loss:  0.7290886864178597  Validation Loss: 0.7493819332498437  Training Accuracy:  0.7052333333333334  Validation Accuracy: 0.7009\n"
     ]
    },
    {
     "data": {
      "text/html": [
       "Waiting for W&B process to finish... <strong style=\"color:green\">(success).</strong>"
      ],
      "text/plain": [
       "<IPython.core.display.HTML object>"
      ]
     },
     "metadata": {},
     "output_type": "display_data"
    },
    {
     "data": {
      "text/html": [
       "<style>\n",
       "    table.wandb td:nth-child(1) { padding: 0 10px; text-align: left ; width: auto;} td:nth-child(2) {text-align: left ; width: 100%}\n",
       "    .wandb-row { display: flex; flex-direction: row; flex-wrap: wrap; justify-content: flex-start; width: 100% }\n",
       "    .wandb-col { display: flex; flex-direction: column; flex-basis: 100%; flex: 1; padding: 10px; }\n",
       "    </style>\n",
       "<div class=\"wandb-row\"><div class=\"wandb-col\"><h3>Run history:</h3><br/><table class=\"wandb\"><tr><td>Accuracy</td><td>▁</td></tr><tr><td>Epoch</td><td>▁▃▅▆█</td></tr><tr><td>Training_accuracy</td><td>▁▆▇██</td></tr><tr><td>Training_loss</td><td>█▂▂▁▁</td></tr><tr><td>Validation_accuracy</td><td>▁▅▆██</td></tr><tr><td>Validation_loss</td><td>█▄▃▂▁</td></tr></table><br/></div><div class=\"wandb-col\"><h3>Run summary:</h3><br/><table class=\"wandb\"><tr><td>Accuracy</td><td>0.7009</td></tr><tr><td>Epoch</td><td>5</td></tr><tr><td>Training_accuracy</td><td>0.70523</td></tr><tr><td>Training_loss</td><td>0.72909</td></tr><tr><td>Validation_accuracy</td><td>0.7009</td></tr><tr><td>Validation_loss</td><td>0.74938</td></tr></table><br/></div></div>"
      ],
      "text/plain": [
       "<IPython.core.display.HTML object>"
      ]
     },
     "metadata": {},
     "output_type": "display_data"
    },
    {
     "data": {
      "text/html": [
       " View run <strong style=\"color:#cdcd00\">Question:4</strong> at: <a href='https://wandb.ai/cs22m083/CS6910_Assignment_1/runs/3qgjj619' target=\"_blank\">https://wandb.ai/cs22m083/CS6910_Assignment_1/runs/3qgjj619</a><br/>Synced 6 W&B file(s), 0 media file(s), 0 artifact file(s) and 0 other file(s)"
      ],
      "text/plain": [
       "<IPython.core.display.HTML object>"
      ]
     },
     "metadata": {},
     "output_type": "display_data"
    },
    {
     "data": {
      "text/html": [
       "Find logs at: <code>.\\wandb\\run-20230317_175533-3qgjj619\\logs</code>"
      ],
      "text/plain": [
       "<IPython.core.display.HTML object>"
      ]
     },
     "metadata": {},
     "output_type": "display_data"
    },
    {
     "name": "stderr",
     "output_type": "stream",
     "text": [
      "\u001b[34m\u001b[1mwandb\u001b[0m: Agent Starting Run: ul03cdrr with config:\n",
      "\u001b[34m\u001b[1mwandb\u001b[0m: \tactivation: tanh\n",
      "\u001b[34m\u001b[1mwandb\u001b[0m: \tbatch_size: 32\n",
      "\u001b[34m\u001b[1mwandb\u001b[0m: \tepochs: 5\n",
      "\u001b[34m\u001b[1mwandb\u001b[0m: \tgamma: 0.002\n",
      "\u001b[34m\u001b[1mwandb\u001b[0m: \thidden_layers: [32, 64]\n",
      "\u001b[34m\u001b[1mwandb\u001b[0m: \tinitialization: Xavier\n",
      "\u001b[34m\u001b[1mwandb\u001b[0m: \tlearning_rate: 0.0005\n",
      "\u001b[34m\u001b[1mwandb\u001b[0m: \toptimizer: adam\n",
      "\u001b[34m\u001b[1mwandb\u001b[0m: \tweight_decay: 0.5\n",
      "Failed to detect the name of this notebook, you can set it manually with the WANDB_NOTEBOOK_NAME environment variable to enable code saving.\n",
      "\u001b[34m\u001b[1mwandb\u001b[0m: \u001b[33mWARNING\u001b[0m Ignored wandb.init() arg project when running a sweep.\n"
     ]
    },
    {
     "data": {
      "text/html": [
       "wandb version 0.14.0 is available!  To upgrade, please run:\n",
       " $ pip install wandb --upgrade"
      ],
      "text/plain": [
       "<IPython.core.display.HTML object>"
      ]
     },
     "metadata": {},
     "output_type": "display_data"
    },
    {
     "data": {
      "text/html": [
       "Tracking run with wandb version 0.13.10"
      ],
      "text/plain": [
       "<IPython.core.display.HTML object>"
      ]
     },
     "metadata": {},
     "output_type": "display_data"
    },
    {
     "data": {
      "text/html": [
       "Run data is saved locally in <code>C:\\Users\\Shivam Maurya\\OneDrive\\Desktop\\IIT_MADRAS\\Deep Learning\\assignment 1\\CS6910-Deep_Learning_Assignment-1\\wandb\\run-20230317_175704-ul03cdrr</code>"
      ],
      "text/plain": [
       "<IPython.core.display.HTML object>"
      ]
     },
     "metadata": {},
     "output_type": "display_data"
    },
    {
     "data": {
      "text/html": [
       "Syncing run <strong><a href='https://wandb.ai/cs22m083/CS6910_Assignment_1/runs/ul03cdrr' target=\"_blank\">Question:4</a></strong> to <a href='https://wandb.ai/cs22m083/CS6910_Assignment_1' target=\"_blank\">Weights & Biases</a> (<a href='https://wandb.me/run' target=\"_blank\">docs</a>)<br/>Sweep page: <a href='https://wandb.ai/cs22m083/CS6910_Assignment_1/sweeps/cezmcy51' target=\"_blank\">https://wandb.ai/cs22m083/CS6910_Assignment_1/sweeps/cezmcy51</a>"
      ],
      "text/plain": [
       "<IPython.core.display.HTML object>"
      ]
     },
     "metadata": {},
     "output_type": "display_data"
    },
    {
     "data": {
      "text/html": [
       " View project at <a href='https://wandb.ai/cs22m083/CS6910_Assignment_1' target=\"_blank\">https://wandb.ai/cs22m083/CS6910_Assignment_1</a>"
      ],
      "text/plain": [
       "<IPython.core.display.HTML object>"
      ]
     },
     "metadata": {},
     "output_type": "display_data"
    },
    {
     "data": {
      "text/html": [
       " View sweep at <a href='https://wandb.ai/cs22m083/CS6910_Assignment_1/sweeps/cezmcy51' target=\"_blank\">https://wandb.ai/cs22m083/CS6910_Assignment_1/sweeps/cezmcy51</a>"
      ],
      "text/plain": [
       "<IPython.core.display.HTML object>"
      ]
     },
     "metadata": {},
     "output_type": "display_data"
    },
    {
     "data": {
      "text/html": [
       " View run at <a href='https://wandb.ai/cs22m083/CS6910_Assignment_1/runs/ul03cdrr' target=\"_blank\">https://wandb.ai/cs22m083/CS6910_Assignment_1/runs/ul03cdrr</a>"
      ],
      "text/plain": [
       "<IPython.core.display.HTML object>"
      ]
     },
     "metadata": {},
     "output_type": "display_data"
    },
    {
     "name": "stdout",
     "output_type": "stream",
     "text": [
      " Training Loss:  0.5286801962442647  Validation Loss: 0.5510503432885882  Training Accuracy:  0.8252666666666667  Validation Accuracy: 0.8187\n"
     ]
    },
    {
     "data": {
      "text/html": [
       "Waiting for W&B process to finish... <strong style=\"color:green\">(success).</strong>"
      ],
      "text/plain": [
       "<IPython.core.display.HTML object>"
      ]
     },
     "metadata": {},
     "output_type": "display_data"
    },
    {
     "data": {
      "application/vnd.jupyter.widget-view+json": {
       "model_id": "291016034a134990a4aa432efa24d625",
       "version_major": 2,
       "version_minor": 0
      },
      "text/plain": [
       "VBox(children=(Label(value='0.001 MB of 0.001 MB uploaded (0.000 MB deduped)\\r'), FloatProgress(value=1.0, max…"
      ]
     },
     "metadata": {},
     "output_type": "display_data"
    },
    {
     "data": {
      "text/html": [
       "<style>\n",
       "    table.wandb td:nth-child(1) { padding: 0 10px; text-align: left ; width: auto;} td:nth-child(2) {text-align: left ; width: 100%}\n",
       "    .wandb-row { display: flex; flex-direction: row; flex-wrap: wrap; justify-content: flex-start; width: 100% }\n",
       "    .wandb-col { display: flex; flex-direction: column; flex-basis: 100%; flex: 1; padding: 10px; }\n",
       "    </style>\n",
       "<div class=\"wandb-row\"><div class=\"wandb-col\"><h3>Run history:</h3><br/><table class=\"wandb\"><tr><td>Accuracy</td><td>▁</td></tr><tr><td>Epoch</td><td>▁▃▅▆█</td></tr><tr><td>Training_accuracy</td><td>▁████</td></tr><tr><td>Training_loss</td><td>█▂▁▁▁</td></tr><tr><td>Validation_accuracy</td><td>▁▇▇▇█</td></tr><tr><td>Validation_loss</td><td>█▄▂▂▁</td></tr></table><br/></div><div class=\"wandb-col\"><h3>Run summary:</h3><br/><table class=\"wandb\"><tr><td>Accuracy</td><td>0.8187</td></tr><tr><td>Epoch</td><td>5</td></tr><tr><td>Training_accuracy</td><td>0.82527</td></tr><tr><td>Training_loss</td><td>0.52868</td></tr><tr><td>Validation_accuracy</td><td>0.8187</td></tr><tr><td>Validation_loss</td><td>0.55105</td></tr></table><br/></div></div>"
      ],
      "text/plain": [
       "<IPython.core.display.HTML object>"
      ]
     },
     "metadata": {},
     "output_type": "display_data"
    },
    {
     "data": {
      "text/html": [
       " View run <strong style=\"color:#cdcd00\">Question:4</strong> at: <a href='https://wandb.ai/cs22m083/CS6910_Assignment_1/runs/ul03cdrr' target=\"_blank\">https://wandb.ai/cs22m083/CS6910_Assignment_1/runs/ul03cdrr</a><br/>Synced 6 W&B file(s), 0 media file(s), 0 artifact file(s) and 0 other file(s)"
      ],
      "text/plain": [
       "<IPython.core.display.HTML object>"
      ]
     },
     "metadata": {},
     "output_type": "display_data"
    },
    {
     "data": {
      "text/html": [
       "Find logs at: <code>.\\wandb\\run-20230317_175704-ul03cdrr\\logs</code>"
      ],
      "text/plain": [
       "<IPython.core.display.HTML object>"
      ]
     },
     "metadata": {},
     "output_type": "display_data"
    },
    {
     "name": "stderr",
     "output_type": "stream",
     "text": [
      "\u001b[34m\u001b[1mwandb\u001b[0m: Agent Starting Run: eyqbn7by with config:\n",
      "\u001b[34m\u001b[1mwandb\u001b[0m: \tactivation: relu\n",
      "\u001b[34m\u001b[1mwandb\u001b[0m: \tbatch_size: 64\n",
      "\u001b[34m\u001b[1mwandb\u001b[0m: \tepochs: 10\n",
      "\u001b[34m\u001b[1mwandb\u001b[0m: \tgamma: 0.002\n",
      "\u001b[34m\u001b[1mwandb\u001b[0m: \thidden_layers: [32, 64, 128]\n",
      "\u001b[34m\u001b[1mwandb\u001b[0m: \tinitialization: Xavier\n",
      "\u001b[34m\u001b[1mwandb\u001b[0m: \tlearning_rate: 0.005\n",
      "\u001b[34m\u001b[1mwandb\u001b[0m: \toptimizer: nadam\n",
      "\u001b[34m\u001b[1mwandb\u001b[0m: \tweight_decay: 0.5\n",
      "Failed to detect the name of this notebook, you can set it manually with the WANDB_NOTEBOOK_NAME environment variable to enable code saving.\n",
      "\u001b[34m\u001b[1mwandb\u001b[0m: \u001b[33mWARNING\u001b[0m Ignored wandb.init() arg project when running a sweep.\n"
     ]
    },
    {
     "data": {
      "text/html": [
       "wandb version 0.14.0 is available!  To upgrade, please run:\n",
       " $ pip install wandb --upgrade"
      ],
      "text/plain": [
       "<IPython.core.display.HTML object>"
      ]
     },
     "metadata": {},
     "output_type": "display_data"
    },
    {
     "data": {
      "text/html": [
       "Tracking run with wandb version 0.13.10"
      ],
      "text/plain": [
       "<IPython.core.display.HTML object>"
      ]
     },
     "metadata": {},
     "output_type": "display_data"
    },
    {
     "data": {
      "text/html": [
       "Run data is saved locally in <code>C:\\Users\\Shivam Maurya\\OneDrive\\Desktop\\IIT_MADRAS\\Deep Learning\\assignment 1\\CS6910-Deep_Learning_Assignment-1\\wandb\\run-20230317_175830-eyqbn7by</code>"
      ],
      "text/plain": [
       "<IPython.core.display.HTML object>"
      ]
     },
     "metadata": {},
     "output_type": "display_data"
    },
    {
     "data": {
      "text/html": [
       "Syncing run <strong><a href='https://wandb.ai/cs22m083/CS6910_Assignment_1/runs/eyqbn7by' target=\"_blank\">Question:4</a></strong> to <a href='https://wandb.ai/cs22m083/CS6910_Assignment_1' target=\"_blank\">Weights & Biases</a> (<a href='https://wandb.me/run' target=\"_blank\">docs</a>)<br/>Sweep page: <a href='https://wandb.ai/cs22m083/CS6910_Assignment_1/sweeps/cezmcy51' target=\"_blank\">https://wandb.ai/cs22m083/CS6910_Assignment_1/sweeps/cezmcy51</a>"
      ],
      "text/plain": [
       "<IPython.core.display.HTML object>"
      ]
     },
     "metadata": {},
     "output_type": "display_data"
    },
    {
     "data": {
      "text/html": [
       " View project at <a href='https://wandb.ai/cs22m083/CS6910_Assignment_1' target=\"_blank\">https://wandb.ai/cs22m083/CS6910_Assignment_1</a>"
      ],
      "text/plain": [
       "<IPython.core.display.HTML object>"
      ]
     },
     "metadata": {},
     "output_type": "display_data"
    },
    {
     "data": {
      "text/html": [
       " View sweep at <a href='https://wandb.ai/cs22m083/CS6910_Assignment_1/sweeps/cezmcy51' target=\"_blank\">https://wandb.ai/cs22m083/CS6910_Assignment_1/sweeps/cezmcy51</a>"
      ],
      "text/plain": [
       "<IPython.core.display.HTML object>"
      ]
     },
     "metadata": {},
     "output_type": "display_data"
    },
    {
     "data": {
      "text/html": [
       " View run at <a href='https://wandb.ai/cs22m083/CS6910_Assignment_1/runs/eyqbn7by' target=\"_blank\">https://wandb.ai/cs22m083/CS6910_Assignment_1/runs/eyqbn7by</a>"
      ],
      "text/plain": [
       "<IPython.core.display.HTML object>"
      ]
     },
     "metadata": {},
     "output_type": "display_data"
    },
    {
     "data": {
      "text/html": [
       "Waiting for W&B process to finish... <strong style=\"color:red\">(failed 1).</strong> Press Ctrl-C to abort syncing."
      ],
      "text/plain": [
       "<IPython.core.display.HTML object>"
      ]
     },
     "metadata": {},
     "output_type": "display_data"
    },
    {
     "data": {
      "application/vnd.jupyter.widget-view+json": {
       "model_id": "8084c9cbeafa4a5bb4006d3e5460dfa3",
       "version_major": 2,
       "version_minor": 0
      },
      "text/plain": [
       "VBox(children=(Label(value='0.001 MB of 0.001 MB uploaded (0.000 MB deduped)\\r'), FloatProgress(value=1.0, max…"
      ]
     },
     "metadata": {},
     "output_type": "display_data"
    },
    {
     "data": {
      "text/html": [
       " View run <strong style=\"color:#cdcd00\">Question:4</strong> at: <a href='https://wandb.ai/cs22m083/CS6910_Assignment_1/runs/eyqbn7by' target=\"_blank\">https://wandb.ai/cs22m083/CS6910_Assignment_1/runs/eyqbn7by</a><br/>Synced 5 W&B file(s), 0 media file(s), 0 artifact file(s) and 0 other file(s)"
      ],
      "text/plain": [
       "<IPython.core.display.HTML object>"
      ]
     },
     "metadata": {},
     "output_type": "display_data"
    },
    {
     "data": {
      "text/html": [
       "Find logs at: <code>.\\wandb\\run-20230317_175830-eyqbn7by\\logs</code>"
      ],
      "text/plain": [
       "<IPython.core.display.HTML object>"
      ]
     },
     "metadata": {},
     "output_type": "display_data"
    },
    {
     "name": "stderr",
     "output_type": "stream",
     "text": [
      "Run eyqbn7by errored: UnboundLocalError(\"local variable 'nadam_impl' referenced before assignment\")\n",
      "\u001b[34m\u001b[1mwandb\u001b[0m: \u001b[32m\u001b[41mERROR\u001b[0m Run eyqbn7by errored: UnboundLocalError(\"local variable 'nadam_impl' referenced before assignment\")\n",
      "\u001b[34m\u001b[1mwandb\u001b[0m: Agent Starting Run: kg2jvztt with config:\n",
      "\u001b[34m\u001b[1mwandb\u001b[0m: \tactivation: tanh\n",
      "\u001b[34m\u001b[1mwandb\u001b[0m: \tbatch_size: 16\n",
      "\u001b[34m\u001b[1mwandb\u001b[0m: \tepochs: 10\n",
      "\u001b[34m\u001b[1mwandb\u001b[0m: \tgamma: 0.002\n",
      "\u001b[34m\u001b[1mwandb\u001b[0m: \thidden_layers: [32, 64, 128, 256]\n",
      "\u001b[34m\u001b[1mwandb\u001b[0m: \tinitialization: Xavier\n",
      "\u001b[34m\u001b[1mwandb\u001b[0m: \tlearning_rate: 0.01\n",
      "\u001b[34m\u001b[1mwandb\u001b[0m: \toptimizer: sgd\n",
      "\u001b[34m\u001b[1mwandb\u001b[0m: \tweight_decay: 0.0005\n",
      "Failed to detect the name of this notebook, you can set it manually with the WANDB_NOTEBOOK_NAME environment variable to enable code saving.\n",
      "\u001b[34m\u001b[1mwandb\u001b[0m: \u001b[33mWARNING\u001b[0m Ignored wandb.init() arg project when running a sweep.\n"
     ]
    },
    {
     "data": {
      "text/html": [
       "wandb version 0.14.0 is available!  To upgrade, please run:\n",
       " $ pip install wandb --upgrade"
      ],
      "text/plain": [
       "<IPython.core.display.HTML object>"
      ]
     },
     "metadata": {},
     "output_type": "display_data"
    },
    {
     "data": {
      "text/html": [
       "Tracking run with wandb version 0.13.10"
      ],
      "text/plain": [
       "<IPython.core.display.HTML object>"
      ]
     },
     "metadata": {},
     "output_type": "display_data"
    },
    {
     "data": {
      "text/html": [
       "Run data is saved locally in <code>C:\\Users\\Shivam Maurya\\OneDrive\\Desktop\\IIT_MADRAS\\Deep Learning\\assignment 1\\CS6910-Deep_Learning_Assignment-1\\wandb\\run-20230317_175851-kg2jvztt</code>"
      ],
      "text/plain": [
       "<IPython.core.display.HTML object>"
      ]
     },
     "metadata": {},
     "output_type": "display_data"
    },
    {
     "data": {
      "text/html": [
       "Syncing run <strong><a href='https://wandb.ai/cs22m083/CS6910_Assignment_1/runs/kg2jvztt' target=\"_blank\">Question:4</a></strong> to <a href='https://wandb.ai/cs22m083/CS6910_Assignment_1' target=\"_blank\">Weights & Biases</a> (<a href='https://wandb.me/run' target=\"_blank\">docs</a>)<br/>Sweep page: <a href='https://wandb.ai/cs22m083/CS6910_Assignment_1/sweeps/cezmcy51' target=\"_blank\">https://wandb.ai/cs22m083/CS6910_Assignment_1/sweeps/cezmcy51</a>"
      ],
      "text/plain": [
       "<IPython.core.display.HTML object>"
      ]
     },
     "metadata": {},
     "output_type": "display_data"
    },
    {
     "data": {
      "text/html": [
       " View project at <a href='https://wandb.ai/cs22m083/CS6910_Assignment_1' target=\"_blank\">https://wandb.ai/cs22m083/CS6910_Assignment_1</a>"
      ],
      "text/plain": [
       "<IPython.core.display.HTML object>"
      ]
     },
     "metadata": {},
     "output_type": "display_data"
    },
    {
     "data": {
      "text/html": [
       " View sweep at <a href='https://wandb.ai/cs22m083/CS6910_Assignment_1/sweeps/cezmcy51' target=\"_blank\">https://wandb.ai/cs22m083/CS6910_Assignment_1/sweeps/cezmcy51</a>"
      ],
      "text/plain": [
       "<IPython.core.display.HTML object>"
      ]
     },
     "metadata": {},
     "output_type": "display_data"
    },
    {
     "data": {
      "text/html": [
       " View run at <a href='https://wandb.ai/cs22m083/CS6910_Assignment_1/runs/kg2jvztt' target=\"_blank\">https://wandb.ai/cs22m083/CS6910_Assignment_1/runs/kg2jvztt</a>"
      ],
      "text/plain": [
       "<IPython.core.display.HTML object>"
      ]
     },
     "metadata": {},
     "output_type": "display_data"
    },
    {
     "name": "stdout",
     "output_type": "stream",
     "text": [
      " Training Loss:  0.3348989989147223  Validation Loss: 0.4272072554681885  Training Accuracy:  0.8755  Validation Accuracy: 0.848\n"
     ]
    },
    {
     "data": {
      "text/html": [
       "Waiting for W&B process to finish... <strong style=\"color:green\">(success).</strong>"
      ],
      "text/plain": [
       "<IPython.core.display.HTML object>"
      ]
     },
     "metadata": {},
     "output_type": "display_data"
    },
    {
     "data": {
      "text/html": [
       "<style>\n",
       "    table.wandb td:nth-child(1) { padding: 0 10px; text-align: left ; width: auto;} td:nth-child(2) {text-align: left ; width: 100%}\n",
       "    .wandb-row { display: flex; flex-direction: row; flex-wrap: wrap; justify-content: flex-start; width: 100% }\n",
       "    .wandb-col { display: flex; flex-direction: column; flex-basis: 100%; flex: 1; padding: 10px; }\n",
       "    </style>\n",
       "<div class=\"wandb-row\"><div class=\"wandb-col\"><h3>Run history:</h3><br/><table class=\"wandb\"><tr><td>Accuracy</td><td>▁</td></tr><tr><td>Epoch</td><td>▁▂▃▃▄▅▆▆▇█</td></tr><tr><td>Training_accuracy</td><td>▁▅▆▇▇▇████</td></tr><tr><td>Training_loss</td><td>█▄▃▃▂▂▂▁▁▁</td></tr><tr><td>Validation_accuracy</td><td>▁▅▄▅▆▆▅▅█▇</td></tr><tr><td>Validation_loss</td><td>█▄▄▃▄▃▅▄▁▂</td></tr></table><br/></div><div class=\"wandb-col\"><h3>Run summary:</h3><br/><table class=\"wandb\"><tr><td>Accuracy</td><td>0.848</td></tr><tr><td>Epoch</td><td>10</td></tr><tr><td>Training_accuracy</td><td>0.8755</td></tr><tr><td>Training_loss</td><td>0.3349</td></tr><tr><td>Validation_accuracy</td><td>0.848</td></tr><tr><td>Validation_loss</td><td>0.42721</td></tr></table><br/></div></div>"
      ],
      "text/plain": [
       "<IPython.core.display.HTML object>"
      ]
     },
     "metadata": {},
     "output_type": "display_data"
    },
    {
     "data": {
      "text/html": [
       " View run <strong style=\"color:#cdcd00\">Question:4</strong> at: <a href='https://wandb.ai/cs22m083/CS6910_Assignment_1/runs/kg2jvztt' target=\"_blank\">https://wandb.ai/cs22m083/CS6910_Assignment_1/runs/kg2jvztt</a><br/>Synced 6 W&B file(s), 0 media file(s), 0 artifact file(s) and 0 other file(s)"
      ],
      "text/plain": [
       "<IPython.core.display.HTML object>"
      ]
     },
     "metadata": {},
     "output_type": "display_data"
    },
    {
     "data": {
      "text/html": [
       "Find logs at: <code>.\\wandb\\run-20230317_175851-kg2jvztt\\logs</code>"
      ],
      "text/plain": [
       "<IPython.core.display.HTML object>"
      ]
     },
     "metadata": {},
     "output_type": "display_data"
    },
    {
     "name": "stderr",
     "output_type": "stream",
     "text": [
      "\u001b[34m\u001b[1mwandb\u001b[0m: Agent Starting Run: jea8re5o with config:\n",
      "\u001b[34m\u001b[1mwandb\u001b[0m: \tactivation: tanh\n",
      "\u001b[34m\u001b[1mwandb\u001b[0m: \tbatch_size: 16\n",
      "\u001b[34m\u001b[1mwandb\u001b[0m: \tepochs: 5\n",
      "\u001b[34m\u001b[1mwandb\u001b[0m: \tgamma: 0.002\n",
      "\u001b[34m\u001b[1mwandb\u001b[0m: \thidden_layers: [32, 64, 128, 256]\n",
      "\u001b[34m\u001b[1mwandb\u001b[0m: \tinitialization: Random\n",
      "\u001b[34m\u001b[1mwandb\u001b[0m: \tlearning_rate: 0.01\n",
      "\u001b[34m\u001b[1mwandb\u001b[0m: \toptimizer: nag\n",
      "\u001b[34m\u001b[1mwandb\u001b[0m: \tweight_decay: 0.5\n",
      "Failed to detect the name of this notebook, you can set it manually with the WANDB_NOTEBOOK_NAME environment variable to enable code saving.\n",
      "\u001b[34m\u001b[1mwandb\u001b[0m: \u001b[33mWARNING\u001b[0m Ignored wandb.init() arg project when running a sweep.\n"
     ]
    },
    {
     "data": {
      "text/html": [
       "wandb version 0.14.0 is available!  To upgrade, please run:\n",
       " $ pip install wandb --upgrade"
      ],
      "text/plain": [
       "<IPython.core.display.HTML object>"
      ]
     },
     "metadata": {},
     "output_type": "display_data"
    },
    {
     "data": {
      "text/html": [
       "Tracking run with wandb version 0.13.10"
      ],
      "text/plain": [
       "<IPython.core.display.HTML object>"
      ]
     },
     "metadata": {},
     "output_type": "display_data"
    },
    {
     "data": {
      "text/html": [
       "Run data is saved locally in <code>C:\\Users\\Shivam Maurya\\OneDrive\\Desktop\\IIT_MADRAS\\Deep Learning\\assignment 1\\CS6910-Deep_Learning_Assignment-1\\wandb\\run-20230317_180335-jea8re5o</code>"
      ],
      "text/plain": [
       "<IPython.core.display.HTML object>"
      ]
     },
     "metadata": {},
     "output_type": "display_data"
    },
    {
     "data": {
      "text/html": [
       "Syncing run <strong><a href='https://wandb.ai/cs22m083/CS6910_Assignment_1/runs/jea8re5o' target=\"_blank\">Question:4</a></strong> to <a href='https://wandb.ai/cs22m083/CS6910_Assignment_1' target=\"_blank\">Weights & Biases</a> (<a href='https://wandb.me/run' target=\"_blank\">docs</a>)<br/>Sweep page: <a href='https://wandb.ai/cs22m083/CS6910_Assignment_1/sweeps/cezmcy51' target=\"_blank\">https://wandb.ai/cs22m083/CS6910_Assignment_1/sweeps/cezmcy51</a>"
      ],
      "text/plain": [
       "<IPython.core.display.HTML object>"
      ]
     },
     "metadata": {},
     "output_type": "display_data"
    },
    {
     "data": {
      "text/html": [
       " View project at <a href='https://wandb.ai/cs22m083/CS6910_Assignment_1' target=\"_blank\">https://wandb.ai/cs22m083/CS6910_Assignment_1</a>"
      ],
      "text/plain": [
       "<IPython.core.display.HTML object>"
      ]
     },
     "metadata": {},
     "output_type": "display_data"
    },
    {
     "data": {
      "text/html": [
       " View sweep at <a href='https://wandb.ai/cs22m083/CS6910_Assignment_1/sweeps/cezmcy51' target=\"_blank\">https://wandb.ai/cs22m083/CS6910_Assignment_1/sweeps/cezmcy51</a>"
      ],
      "text/plain": [
       "<IPython.core.display.HTML object>"
      ]
     },
     "metadata": {},
     "output_type": "display_data"
    },
    {
     "data": {
      "text/html": [
       " View run at <a href='https://wandb.ai/cs22m083/CS6910_Assignment_1/runs/jea8re5o' target=\"_blank\">https://wandb.ai/cs22m083/CS6910_Assignment_1/runs/jea8re5o</a>"
      ],
      "text/plain": [
       "<IPython.core.display.HTML object>"
      ]
     },
     "metadata": {},
     "output_type": "display_data"
    },
    {
     "name": "stdout",
     "output_type": "stream",
     "text": [
      " Training Loss:  1.9816305368772857  Validation Loss: 2.092353765414282  Training Accuracy:  0.3703  Validation Accuracy: 0.3342\n"
     ]
    },
    {
     "data": {
      "text/html": [
       "Waiting for W&B process to finish... <strong style=\"color:green\">(success).</strong>"
      ],
      "text/plain": [
       "<IPython.core.display.HTML object>"
      ]
     },
     "metadata": {},
     "output_type": "display_data"
    },
    {
     "data": {
      "application/vnd.jupyter.widget-view+json": {
       "model_id": "ca5186b17f7d40948fa7a6b2abe4eb16",
       "version_major": 2,
       "version_minor": 0
      },
      "text/plain": [
       "VBox(children=(Label(value='0.001 MB of 0.001 MB uploaded (0.000 MB deduped)\\r'), FloatProgress(value=1.0, max…"
      ]
     },
     "metadata": {},
     "output_type": "display_data"
    },
    {
     "data": {
      "text/html": [
       "<style>\n",
       "    table.wandb td:nth-child(1) { padding: 0 10px; text-align: left ; width: auto;} td:nth-child(2) {text-align: left ; width: 100%}\n",
       "    .wandb-row { display: flex; flex-direction: row; flex-wrap: wrap; justify-content: flex-start; width: 100% }\n",
       "    .wandb-col { display: flex; flex-direction: column; flex-basis: 100%; flex: 1; padding: 10px; }\n",
       "    </style>\n",
       "<div class=\"wandb-row\"><div class=\"wandb-col\"><h3>Run history:</h3><br/><table class=\"wandb\"><tr><td>Accuracy</td><td>▁</td></tr><tr><td>Epoch</td><td>▁▃▅▆█</td></tr><tr><td>Training_accuracy</td><td>▁▃▆▇█</td></tr><tr><td>Training_loss</td><td>█▄▃▂▁</td></tr><tr><td>Validation_accuracy</td><td>▁▂▇██</td></tr><tr><td>Validation_loss</td><td>█▆▂▁▃</td></tr></table><br/></div><div class=\"wandb-col\"><h3>Run summary:</h3><br/><table class=\"wandb\"><tr><td>Accuracy</td><td>0.3342</td></tr><tr><td>Epoch</td><td>5</td></tr><tr><td>Training_accuracy</td><td>0.3703</td></tr><tr><td>Training_loss</td><td>1.98163</td></tr><tr><td>Validation_accuracy</td><td>0.3342</td></tr><tr><td>Validation_loss</td><td>2.09235</td></tr></table><br/></div></div>"
      ],
      "text/plain": [
       "<IPython.core.display.HTML object>"
      ]
     },
     "metadata": {},
     "output_type": "display_data"
    },
    {
     "data": {
      "text/html": [
       " View run <strong style=\"color:#cdcd00\">Question:4</strong> at: <a href='https://wandb.ai/cs22m083/CS6910_Assignment_1/runs/jea8re5o' target=\"_blank\">https://wandb.ai/cs22m083/CS6910_Assignment_1/runs/jea8re5o</a><br/>Synced 6 W&B file(s), 0 media file(s), 0 artifact file(s) and 0 other file(s)"
      ],
      "text/plain": [
       "<IPython.core.display.HTML object>"
      ]
     },
     "metadata": {},
     "output_type": "display_data"
    },
    {
     "data": {
      "text/html": [
       "Find logs at: <code>.\\wandb\\run-20230317_180335-jea8re5o\\logs</code>"
      ],
      "text/plain": [
       "<IPython.core.display.HTML object>"
      ]
     },
     "metadata": {},
     "output_type": "display_data"
    },
    {
     "name": "stderr",
     "output_type": "stream",
     "text": [
      "\u001b[34m\u001b[1mwandb\u001b[0m: Agent Starting Run: 6o24dadn with config:\n",
      "\u001b[34m\u001b[1mwandb\u001b[0m: \tactivation: tanh\n",
      "\u001b[34m\u001b[1mwandb\u001b[0m: \tbatch_size: 32\n",
      "\u001b[34m\u001b[1mwandb\u001b[0m: \tepochs: 10\n",
      "\u001b[34m\u001b[1mwandb\u001b[0m: \tgamma: 0.03\n",
      "\u001b[34m\u001b[1mwandb\u001b[0m: \thidden_layers: [32, 64, 128, 256]\n",
      "\u001b[34m\u001b[1mwandb\u001b[0m: \tinitialization: Xavier\n",
      "\u001b[34m\u001b[1mwandb\u001b[0m: \tlearning_rate: 0.01\n",
      "\u001b[34m\u001b[1mwandb\u001b[0m: \toptimizer: sgd\n",
      "\u001b[34m\u001b[1mwandb\u001b[0m: \tweight_decay: 0.0005\n",
      "Failed to detect the name of this notebook, you can set it manually with the WANDB_NOTEBOOK_NAME environment variable to enable code saving.\n",
      "\u001b[34m\u001b[1mwandb\u001b[0m: \u001b[33mWARNING\u001b[0m Ignored wandb.init() arg project when running a sweep.\n"
     ]
    },
    {
     "data": {
      "text/html": [
       "wandb version 0.14.0 is available!  To upgrade, please run:\n",
       " $ pip install wandb --upgrade"
      ],
      "text/plain": [
       "<IPython.core.display.HTML object>"
      ]
     },
     "metadata": {},
     "output_type": "display_data"
    },
    {
     "data": {
      "text/html": [
       "Tracking run with wandb version 0.13.10"
      ],
      "text/plain": [
       "<IPython.core.display.HTML object>"
      ]
     },
     "metadata": {},
     "output_type": "display_data"
    },
    {
     "data": {
      "text/html": [
       "Run data is saved locally in <code>C:\\Users\\Shivam Maurya\\OneDrive\\Desktop\\IIT_MADRAS\\Deep Learning\\assignment 1\\CS6910-Deep_Learning_Assignment-1\\wandb\\run-20230317_180620-6o24dadn</code>"
      ],
      "text/plain": [
       "<IPython.core.display.HTML object>"
      ]
     },
     "metadata": {},
     "output_type": "display_data"
    },
    {
     "data": {
      "text/html": [
       "Syncing run <strong><a href='https://wandb.ai/cs22m083/CS6910_Assignment_1/runs/6o24dadn' target=\"_blank\">Question:4</a></strong> to <a href='https://wandb.ai/cs22m083/CS6910_Assignment_1' target=\"_blank\">Weights & Biases</a> (<a href='https://wandb.me/run' target=\"_blank\">docs</a>)<br/>Sweep page: <a href='https://wandb.ai/cs22m083/CS6910_Assignment_1/sweeps/cezmcy51' target=\"_blank\">https://wandb.ai/cs22m083/CS6910_Assignment_1/sweeps/cezmcy51</a>"
      ],
      "text/plain": [
       "<IPython.core.display.HTML object>"
      ]
     },
     "metadata": {},
     "output_type": "display_data"
    },
    {
     "data": {
      "text/html": [
       " View project at <a href='https://wandb.ai/cs22m083/CS6910_Assignment_1' target=\"_blank\">https://wandb.ai/cs22m083/CS6910_Assignment_1</a>"
      ],
      "text/plain": [
       "<IPython.core.display.HTML object>"
      ]
     },
     "metadata": {},
     "output_type": "display_data"
    },
    {
     "data": {
      "text/html": [
       " View sweep at <a href='https://wandb.ai/cs22m083/CS6910_Assignment_1/sweeps/cezmcy51' target=\"_blank\">https://wandb.ai/cs22m083/CS6910_Assignment_1/sweeps/cezmcy51</a>"
      ],
      "text/plain": [
       "<IPython.core.display.HTML object>"
      ]
     },
     "metadata": {},
     "output_type": "display_data"
    },
    {
     "data": {
      "text/html": [
       " View run at <a href='https://wandb.ai/cs22m083/CS6910_Assignment_1/runs/6o24dadn' target=\"_blank\">https://wandb.ai/cs22m083/CS6910_Assignment_1/runs/6o24dadn</a>"
      ],
      "text/plain": [
       "<IPython.core.display.HTML object>"
      ]
     },
     "metadata": {},
     "output_type": "display_data"
    },
    {
     "name": "stdout",
     "output_type": "stream",
     "text": [
      " Training Loss:  0.34871352620631774  Validation Loss: 0.4294195288712852  Training Accuracy:  0.8711  Validation Accuracy: 0.8488\n"
     ]
    },
    {
     "data": {
      "text/html": [
       "Waiting for W&B process to finish... <strong style=\"color:green\">(success).</strong>"
      ],
      "text/plain": [
       "<IPython.core.display.HTML object>"
      ]
     },
     "metadata": {},
     "output_type": "display_data"
    },
    {
     "data": {
      "text/html": [
       "<style>\n",
       "    table.wandb td:nth-child(1) { padding: 0 10px; text-align: left ; width: auto;} td:nth-child(2) {text-align: left ; width: 100%}\n",
       "    .wandb-row { display: flex; flex-direction: row; flex-wrap: wrap; justify-content: flex-start; width: 100% }\n",
       "    .wandb-col { display: flex; flex-direction: column; flex-basis: 100%; flex: 1; padding: 10px; }\n",
       "    </style>\n",
       "<div class=\"wandb-row\"><div class=\"wandb-col\"><h3>Run history:</h3><br/><table class=\"wandb\"><tr><td>Accuracy</td><td>▁</td></tr><tr><td>Epoch</td><td>▁▂▃▃▄▅▆▆▇█</td></tr><tr><td>Training_accuracy</td><td>▁▅▆▇▇▇▇███</td></tr><tr><td>Training_loss</td><td>█▄▃▂▂▂▂▁▁▁</td></tr><tr><td>Validation_accuracy</td><td>▃▁▆▇█▆█▆▇█</td></tr><tr><td>Validation_loss</td><td>▆█▃▃▁▂▁▃▂▁</td></tr></table><br/></div><div class=\"wandb-col\"><h3>Run summary:</h3><br/><table class=\"wandb\"><tr><td>Accuracy</td><td>0.8488</td></tr><tr><td>Epoch</td><td>10</td></tr><tr><td>Training_accuracy</td><td>0.8711</td></tr><tr><td>Training_loss</td><td>0.34871</td></tr><tr><td>Validation_accuracy</td><td>0.8488</td></tr><tr><td>Validation_loss</td><td>0.42942</td></tr></table><br/></div></div>"
      ],
      "text/plain": [
       "<IPython.core.display.HTML object>"
      ]
     },
     "metadata": {},
     "output_type": "display_data"
    },
    {
     "data": {
      "text/html": [
       " View run <strong style=\"color:#cdcd00\">Question:4</strong> at: <a href='https://wandb.ai/cs22m083/CS6910_Assignment_1/runs/6o24dadn' target=\"_blank\">https://wandb.ai/cs22m083/CS6910_Assignment_1/runs/6o24dadn</a><br/>Synced 6 W&B file(s), 0 media file(s), 0 artifact file(s) and 0 other file(s)"
      ],
      "text/plain": [
       "<IPython.core.display.HTML object>"
      ]
     },
     "metadata": {},
     "output_type": "display_data"
    },
    {
     "data": {
      "text/html": [
       "Find logs at: <code>.\\wandb\\run-20230317_180620-6o24dadn\\logs</code>"
      ],
      "text/plain": [
       "<IPython.core.display.HTML object>"
      ]
     },
     "metadata": {},
     "output_type": "display_data"
    },
    {
     "name": "stderr",
     "output_type": "stream",
     "text": [
      "\u001b[34m\u001b[1mwandb\u001b[0m: Agent Starting Run: scdxtbyh with config:\n",
      "\u001b[34m\u001b[1mwandb\u001b[0m: \tactivation: tanh\n",
      "\u001b[34m\u001b[1mwandb\u001b[0m: \tbatch_size: 64\n",
      "\u001b[34m\u001b[1mwandb\u001b[0m: \tepochs: 10\n",
      "\u001b[34m\u001b[1mwandb\u001b[0m: \tgamma: 0.002\n",
      "\u001b[34m\u001b[1mwandb\u001b[0m: \thidden_layers: [32, 64]\n",
      "\u001b[34m\u001b[1mwandb\u001b[0m: \tinitialization: Random\n",
      "\u001b[34m\u001b[1mwandb\u001b[0m: \tlearning_rate: 0.005\n",
      "\u001b[34m\u001b[1mwandb\u001b[0m: \toptimizer: nag\n",
      "\u001b[34m\u001b[1mwandb\u001b[0m: \tweight_decay: 0.0005\n",
      "Failed to detect the name of this notebook, you can set it manually with the WANDB_NOTEBOOK_NAME environment variable to enable code saving.\n",
      "\u001b[34m\u001b[1mwandb\u001b[0m: \u001b[33mWARNING\u001b[0m Ignored wandb.init() arg project when running a sweep.\n"
     ]
    },
    {
     "data": {
      "text/html": [
       "wandb version 0.14.0 is available!  To upgrade, please run:\n",
       " $ pip install wandb --upgrade"
      ],
      "text/plain": [
       "<IPython.core.display.HTML object>"
      ]
     },
     "metadata": {},
     "output_type": "display_data"
    },
    {
     "data": {
      "text/html": [
       "Tracking run with wandb version 0.13.10"
      ],
      "text/plain": [
       "<IPython.core.display.HTML object>"
      ]
     },
     "metadata": {},
     "output_type": "display_data"
    },
    {
     "data": {
      "text/html": [
       "Run data is saved locally in <code>C:\\Users\\Shivam Maurya\\OneDrive\\Desktop\\IIT_MADRAS\\Deep Learning\\assignment 1\\CS6910-Deep_Learning_Assignment-1\\wandb\\run-20230317_181058-scdxtbyh</code>"
      ],
      "text/plain": [
       "<IPython.core.display.HTML object>"
      ]
     },
     "metadata": {},
     "output_type": "display_data"
    },
    {
     "data": {
      "text/html": [
       "Syncing run <strong><a href='https://wandb.ai/cs22m083/CS6910_Assignment_1/runs/scdxtbyh' target=\"_blank\">Question:4</a></strong> to <a href='https://wandb.ai/cs22m083/CS6910_Assignment_1' target=\"_blank\">Weights & Biases</a> (<a href='https://wandb.me/run' target=\"_blank\">docs</a>)<br/>Sweep page: <a href='https://wandb.ai/cs22m083/CS6910_Assignment_1/sweeps/cezmcy51' target=\"_blank\">https://wandb.ai/cs22m083/CS6910_Assignment_1/sweeps/cezmcy51</a>"
      ],
      "text/plain": [
       "<IPython.core.display.HTML object>"
      ]
     },
     "metadata": {},
     "output_type": "display_data"
    },
    {
     "data": {
      "text/html": [
       " View project at <a href='https://wandb.ai/cs22m083/CS6910_Assignment_1' target=\"_blank\">https://wandb.ai/cs22m083/CS6910_Assignment_1</a>"
      ],
      "text/plain": [
       "<IPython.core.display.HTML object>"
      ]
     },
     "metadata": {},
     "output_type": "display_data"
    },
    {
     "data": {
      "text/html": [
       " View sweep at <a href='https://wandb.ai/cs22m083/CS6910_Assignment_1/sweeps/cezmcy51' target=\"_blank\">https://wandb.ai/cs22m083/CS6910_Assignment_1/sweeps/cezmcy51</a>"
      ],
      "text/plain": [
       "<IPython.core.display.HTML object>"
      ]
     },
     "metadata": {},
     "output_type": "display_data"
    },
    {
     "data": {
      "text/html": [
       " View run at <a href='https://wandb.ai/cs22m083/CS6910_Assignment_1/runs/scdxtbyh' target=\"_blank\">https://wandb.ai/cs22m083/CS6910_Assignment_1/runs/scdxtbyh</a>"
      ],
      "text/plain": [
       "<IPython.core.display.HTML object>"
      ]
     },
     "metadata": {},
     "output_type": "display_data"
    },
    {
     "name": "stdout",
     "output_type": "stream",
     "text": [
      " Training Loss:  1.438379357472823  Validation Loss: 1.4972159760595118  Training Accuracy:  0.57825  Validation Accuracy: 0.5586\n"
     ]
    },
    {
     "data": {
      "text/html": [
       "Waiting for W&B process to finish... <strong style=\"color:green\">(success).</strong>"
      ],
      "text/plain": [
       "<IPython.core.display.HTML object>"
      ]
     },
     "metadata": {},
     "output_type": "display_data"
    },
    {
     "data": {
      "application/vnd.jupyter.widget-view+json": {
       "model_id": "8447d00b389a4a1eb3f8c9daf5e63bd3",
       "version_major": 2,
       "version_minor": 0
      },
      "text/plain": [
       "VBox(children=(Label(value='0.001 MB of 0.001 MB uploaded (0.000 MB deduped)\\r'), FloatProgress(value=1.0, max…"
      ]
     },
     "metadata": {},
     "output_type": "display_data"
    },
    {
     "data": {
      "text/html": [
       "<style>\n",
       "    table.wandb td:nth-child(1) { padding: 0 10px; text-align: left ; width: auto;} td:nth-child(2) {text-align: left ; width: 100%}\n",
       "    .wandb-row { display: flex; flex-direction: row; flex-wrap: wrap; justify-content: flex-start; width: 100% }\n",
       "    .wandb-col { display: flex; flex-direction: column; flex-basis: 100%; flex: 1; padding: 10px; }\n",
       "    </style>\n",
       "<div class=\"wandb-row\"><div class=\"wandb-col\"><h3>Run history:</h3><br/><table class=\"wandb\"><tr><td>Accuracy</td><td>▁</td></tr><tr><td>Epoch</td><td>▁▂▃▃▄▅▆▆▇█</td></tr><tr><td>Training_accuracy</td><td>▁▅▆▇▇█████</td></tr><tr><td>Training_loss</td><td>█▃▂▁▁▁▁▁▁▁</td></tr><tr><td>Validation_accuracy</td><td>▁▄▆▇▇▇████</td></tr><tr><td>Validation_loss</td><td>█▃▂▂▁▁▁▁▁▁</td></tr></table><br/></div><div class=\"wandb-col\"><h3>Run summary:</h3><br/><table class=\"wandb\"><tr><td>Accuracy</td><td>0.5586</td></tr><tr><td>Epoch</td><td>10</td></tr><tr><td>Training_accuracy</td><td>0.57825</td></tr><tr><td>Training_loss</td><td>1.43838</td></tr><tr><td>Validation_accuracy</td><td>0.5586</td></tr><tr><td>Validation_loss</td><td>1.49722</td></tr></table><br/></div></div>"
      ],
      "text/plain": [
       "<IPython.core.display.HTML object>"
      ]
     },
     "metadata": {},
     "output_type": "display_data"
    },
    {
     "data": {
      "text/html": [
       " View run <strong style=\"color:#cdcd00\">Question:4</strong> at: <a href='https://wandb.ai/cs22m083/CS6910_Assignment_1/runs/scdxtbyh' target=\"_blank\">https://wandb.ai/cs22m083/CS6910_Assignment_1/runs/scdxtbyh</a><br/>Synced 6 W&B file(s), 0 media file(s), 0 artifact file(s) and 0 other file(s)"
      ],
      "text/plain": [
       "<IPython.core.display.HTML object>"
      ]
     },
     "metadata": {},
     "output_type": "display_data"
    },
    {
     "data": {
      "text/html": [
       "Find logs at: <code>.\\wandb\\run-20230317_181058-scdxtbyh\\logs</code>"
      ],
      "text/plain": [
       "<IPython.core.display.HTML object>"
      ]
     },
     "metadata": {},
     "output_type": "display_data"
    },
    {
     "name": "stderr",
     "output_type": "stream",
     "text": [
      "\u001b[34m\u001b[1mwandb\u001b[0m: Agent Starting Run: yi3y969w with config:\n",
      "\u001b[34m\u001b[1mwandb\u001b[0m: \tactivation: sigmoid\n",
      "\u001b[34m\u001b[1mwandb\u001b[0m: \tbatch_size: 16\n",
      "\u001b[34m\u001b[1mwandb\u001b[0m: \tepochs: 5\n",
      "\u001b[34m\u001b[1mwandb\u001b[0m: \tgamma: 0.002\n",
      "\u001b[34m\u001b[1mwandb\u001b[0m: \thidden_layers: [32, 64, 128, 256]\n",
      "\u001b[34m\u001b[1mwandb\u001b[0m: \tinitialization: Xavier\n",
      "\u001b[34m\u001b[1mwandb\u001b[0m: \tlearning_rate: 0.01\n",
      "\u001b[34m\u001b[1mwandb\u001b[0m: \toptimizer: adam\n",
      "\u001b[34m\u001b[1mwandb\u001b[0m: \tweight_decay: 0.0005\n",
      "Failed to detect the name of this notebook, you can set it manually with the WANDB_NOTEBOOK_NAME environment variable to enable code saving.\n",
      "\u001b[34m\u001b[1mwandb\u001b[0m: \u001b[33mWARNING\u001b[0m Ignored wandb.init() arg project when running a sweep.\n"
     ]
    },
    {
     "data": {
      "text/html": [
       "wandb version 0.14.0 is available!  To upgrade, please run:\n",
       " $ pip install wandb --upgrade"
      ],
      "text/plain": [
       "<IPython.core.display.HTML object>"
      ]
     },
     "metadata": {},
     "output_type": "display_data"
    },
    {
     "data": {
      "text/html": [
       "Tracking run with wandb version 0.13.10"
      ],
      "text/plain": [
       "<IPython.core.display.HTML object>"
      ]
     },
     "metadata": {},
     "output_type": "display_data"
    },
    {
     "data": {
      "text/html": [
       "Run data is saved locally in <code>C:\\Users\\Shivam Maurya\\OneDrive\\Desktop\\IIT_MADRAS\\Deep Learning\\assignment 1\\CS6910-Deep_Learning_Assignment-1\\wandb\\run-20230317_181327-yi3y969w</code>"
      ],
      "text/plain": [
       "<IPython.core.display.HTML object>"
      ]
     },
     "metadata": {},
     "output_type": "display_data"
    },
    {
     "data": {
      "text/html": [
       "Syncing run <strong><a href='https://wandb.ai/cs22m083/CS6910_Assignment_1/runs/yi3y969w' target=\"_blank\">Question:4</a></strong> to <a href='https://wandb.ai/cs22m083/CS6910_Assignment_1' target=\"_blank\">Weights & Biases</a> (<a href='https://wandb.me/run' target=\"_blank\">docs</a>)<br/>Sweep page: <a href='https://wandb.ai/cs22m083/CS6910_Assignment_1/sweeps/cezmcy51' target=\"_blank\">https://wandb.ai/cs22m083/CS6910_Assignment_1/sweeps/cezmcy51</a>"
      ],
      "text/plain": [
       "<IPython.core.display.HTML object>"
      ]
     },
     "metadata": {},
     "output_type": "display_data"
    },
    {
     "data": {
      "text/html": [
       " View project at <a href='https://wandb.ai/cs22m083/CS6910_Assignment_1' target=\"_blank\">https://wandb.ai/cs22m083/CS6910_Assignment_1</a>"
      ],
      "text/plain": [
       "<IPython.core.display.HTML object>"
      ]
     },
     "metadata": {},
     "output_type": "display_data"
    },
    {
     "data": {
      "text/html": [
       " View sweep at <a href='https://wandb.ai/cs22m083/CS6910_Assignment_1/sweeps/cezmcy51' target=\"_blank\">https://wandb.ai/cs22m083/CS6910_Assignment_1/sweeps/cezmcy51</a>"
      ],
      "text/plain": [
       "<IPython.core.display.HTML object>"
      ]
     },
     "metadata": {},
     "output_type": "display_data"
    },
    {
     "data": {
      "text/html": [
       " View run at <a href='https://wandb.ai/cs22m083/CS6910_Assignment_1/runs/yi3y969w' target=\"_blank\">https://wandb.ai/cs22m083/CS6910_Assignment_1/runs/yi3y969w</a>"
      ],
      "text/plain": [
       "<IPython.core.display.HTML object>"
      ]
     },
     "metadata": {},
     "output_type": "display_data"
    },
    {
     "name": "stdout",
     "output_type": "stream",
     "text": [
      " Training Loss:  0.5615327412800134  Validation Loss: 0.5848068190894139  Training Accuracy:  0.802  Validation Accuracy: 0.7997\n"
     ]
    },
    {
     "data": {
      "text/html": [
       "Waiting for W&B process to finish... <strong style=\"color:green\">(success).</strong>"
      ],
      "text/plain": [
       "<IPython.core.display.HTML object>"
      ]
     },
     "metadata": {},
     "output_type": "display_data"
    },
    {
     "data": {
      "text/html": [
       "<style>\n",
       "    table.wandb td:nth-child(1) { padding: 0 10px; text-align: left ; width: auto;} td:nth-child(2) {text-align: left ; width: 100%}\n",
       "    .wandb-row { display: flex; flex-direction: row; flex-wrap: wrap; justify-content: flex-start; width: 100% }\n",
       "    .wandb-col { display: flex; flex-direction: column; flex-basis: 100%; flex: 1; padding: 10px; }\n",
       "    </style>\n",
       "<div class=\"wandb-row\"><div class=\"wandb-col\"><h3>Run history:</h3><br/><table class=\"wandb\"><tr><td>Accuracy</td><td>▁</td></tr><tr><td>Epoch</td><td>▁▃▅▆█</td></tr><tr><td>Training_accuracy</td><td>▁▇▇██</td></tr><tr><td>Training_loss</td><td>█▂▂▁▁</td></tr><tr><td>Validation_accuracy</td><td>▁▂▇▃█</td></tr><tr><td>Validation_loss</td><td>▇▅▂█▁</td></tr></table><br/></div><div class=\"wandb-col\"><h3>Run summary:</h3><br/><table class=\"wandb\"><tr><td>Accuracy</td><td>0.7997</td></tr><tr><td>Epoch</td><td>5</td></tr><tr><td>Training_accuracy</td><td>0.802</td></tr><tr><td>Training_loss</td><td>0.56153</td></tr><tr><td>Validation_accuracy</td><td>0.7997</td></tr><tr><td>Validation_loss</td><td>0.58481</td></tr></table><br/></div></div>"
      ],
      "text/plain": [
       "<IPython.core.display.HTML object>"
      ]
     },
     "metadata": {},
     "output_type": "display_data"
    },
    {
     "data": {
      "text/html": [
       " View run <strong style=\"color:#cdcd00\">Question:4</strong> at: <a href='https://wandb.ai/cs22m083/CS6910_Assignment_1/runs/yi3y969w' target=\"_blank\">https://wandb.ai/cs22m083/CS6910_Assignment_1/runs/yi3y969w</a><br/>Synced 6 W&B file(s), 0 media file(s), 0 artifact file(s) and 0 other file(s)"
      ],
      "text/plain": [
       "<IPython.core.display.HTML object>"
      ]
     },
     "metadata": {},
     "output_type": "display_data"
    },
    {
     "data": {
      "text/html": [
       "Find logs at: <code>.\\wandb\\run-20230317_181327-yi3y969w\\logs</code>"
      ],
      "text/plain": [
       "<IPython.core.display.HTML object>"
      ]
     },
     "metadata": {},
     "output_type": "display_data"
    },
    {
     "name": "stderr",
     "output_type": "stream",
     "text": [
      "\u001b[34m\u001b[1mwandb\u001b[0m: Agent Starting Run: xjbqsqx4 with config:\n",
      "\u001b[34m\u001b[1mwandb\u001b[0m: \tactivation: relu\n",
      "\u001b[34m\u001b[1mwandb\u001b[0m: \tbatch_size: 64\n",
      "\u001b[34m\u001b[1mwandb\u001b[0m: \tepochs: 5\n",
      "\u001b[34m\u001b[1mwandb\u001b[0m: \tgamma: 0.002\n",
      "\u001b[34m\u001b[1mwandb\u001b[0m: \thidden_layers: [32, 64, 128]\n",
      "\u001b[34m\u001b[1mwandb\u001b[0m: \tinitialization: Random\n",
      "\u001b[34m\u001b[1mwandb\u001b[0m: \tlearning_rate: 0.0003\n",
      "\u001b[34m\u001b[1mwandb\u001b[0m: \toptimizer: nadam\n",
      "\u001b[34m\u001b[1mwandb\u001b[0m: \tweight_decay: 0\n",
      "Failed to detect the name of this notebook, you can set it manually with the WANDB_NOTEBOOK_NAME environment variable to enable code saving.\n",
      "\u001b[34m\u001b[1mwandb\u001b[0m: \u001b[33mWARNING\u001b[0m Ignored wandb.init() arg project when running a sweep.\n"
     ]
    },
    {
     "data": {
      "text/html": [
       "wandb version 0.14.0 is available!  To upgrade, please run:\n",
       " $ pip install wandb --upgrade"
      ],
      "text/plain": [
       "<IPython.core.display.HTML object>"
      ]
     },
     "metadata": {},
     "output_type": "display_data"
    },
    {
     "data": {
      "text/html": [
       "Tracking run with wandb version 0.13.10"
      ],
      "text/plain": [
       "<IPython.core.display.HTML object>"
      ]
     },
     "metadata": {},
     "output_type": "display_data"
    },
    {
     "data": {
      "text/html": [
       "Run data is saved locally in <code>C:\\Users\\Shivam Maurya\\OneDrive\\Desktop\\IIT_MADRAS\\Deep Learning\\assignment 1\\CS6910-Deep_Learning_Assignment-1\\wandb\\run-20230317_181618-xjbqsqx4</code>"
      ],
      "text/plain": [
       "<IPython.core.display.HTML object>"
      ]
     },
     "metadata": {},
     "output_type": "display_data"
    },
    {
     "data": {
      "text/html": [
       "Syncing run <strong><a href='https://wandb.ai/cs22m083/CS6910_Assignment_1/runs/xjbqsqx4' target=\"_blank\">Question:4</a></strong> to <a href='https://wandb.ai/cs22m083/CS6910_Assignment_1' target=\"_blank\">Weights & Biases</a> (<a href='https://wandb.me/run' target=\"_blank\">docs</a>)<br/>Sweep page: <a href='https://wandb.ai/cs22m083/CS6910_Assignment_1/sweeps/cezmcy51' target=\"_blank\">https://wandb.ai/cs22m083/CS6910_Assignment_1/sweeps/cezmcy51</a>"
      ],
      "text/plain": [
       "<IPython.core.display.HTML object>"
      ]
     },
     "metadata": {},
     "output_type": "display_data"
    },
    {
     "data": {
      "text/html": [
       " View project at <a href='https://wandb.ai/cs22m083/CS6910_Assignment_1' target=\"_blank\">https://wandb.ai/cs22m083/CS6910_Assignment_1</a>"
      ],
      "text/plain": [
       "<IPython.core.display.HTML object>"
      ]
     },
     "metadata": {},
     "output_type": "display_data"
    },
    {
     "data": {
      "text/html": [
       " View sweep at <a href='https://wandb.ai/cs22m083/CS6910_Assignment_1/sweeps/cezmcy51' target=\"_blank\">https://wandb.ai/cs22m083/CS6910_Assignment_1/sweeps/cezmcy51</a>"
      ],
      "text/plain": [
       "<IPython.core.display.HTML object>"
      ]
     },
     "metadata": {},
     "output_type": "display_data"
    },
    {
     "data": {
      "text/html": [
       " View run at <a href='https://wandb.ai/cs22m083/CS6910_Assignment_1/runs/xjbqsqx4' target=\"_blank\">https://wandb.ai/cs22m083/CS6910_Assignment_1/runs/xjbqsqx4</a>"
      ],
      "text/plain": [
       "<IPython.core.display.HTML object>"
      ]
     },
     "metadata": {},
     "output_type": "display_data"
    },
    {
     "name": "stderr",
     "output_type": "stream",
     "text": [
      "C:\\Users\\Shivam Maurya\\AppData\\Local\\Temp\\ipykernel_8020\\2821308850.py:10: RuntimeWarning: overflow encountered in exp\n",
      "  exponentials = np.exp(X) # softmax function\n",
      "C:\\Users\\Shivam Maurya\\AppData\\Local\\Temp\\ipykernel_8020\\2821308850.py:11: RuntimeWarning: invalid value encountered in true_divide\n",
      "  return exponentials / np.sum(exponentials)\n"
     ]
    },
    {
     "data": {
      "text/html": [
       "Waiting for W&B process to finish... <strong style=\"color:red\">(failed 1).</strong> Press Ctrl-C to abort syncing."
      ],
      "text/plain": [
       "<IPython.core.display.HTML object>"
      ]
     },
     "metadata": {},
     "output_type": "display_data"
    },
    {
     "data": {
      "application/vnd.jupyter.widget-view+json": {
       "model_id": "dea1e3d0f4e84043b82996d00c83cb9a",
       "version_major": 2,
       "version_minor": 0
      },
      "text/plain": [
       "VBox(children=(Label(value='0.001 MB of 0.001 MB uploaded (0.000 MB deduped)\\r'), FloatProgress(value=1.0, max…"
      ]
     },
     "metadata": {},
     "output_type": "display_data"
    },
    {
     "data": {
      "text/html": [
       " View run <strong style=\"color:#cdcd00\">Question:4</strong> at: <a href='https://wandb.ai/cs22m083/CS6910_Assignment_1/runs/xjbqsqx4' target=\"_blank\">https://wandb.ai/cs22m083/CS6910_Assignment_1/runs/xjbqsqx4</a><br/>Synced 6 W&B file(s), 0 media file(s), 0 artifact file(s) and 0 other file(s)"
      ],
      "text/plain": [
       "<IPython.core.display.HTML object>"
      ]
     },
     "metadata": {},
     "output_type": "display_data"
    },
    {
     "data": {
      "text/html": [
       "Find logs at: <code>.\\wandb\\run-20230317_181618-xjbqsqx4\\logs</code>"
      ],
      "text/plain": [
       "<IPython.core.display.HTML object>"
      ]
     },
     "metadata": {},
     "output_type": "display_data"
    },
    {
     "name": "stderr",
     "output_type": "stream",
     "text": [
      "Run xjbqsqx4 errored: UnboundLocalError(\"local variable 'nadam_impl' referenced before assignment\")\n",
      "\u001b[34m\u001b[1mwandb\u001b[0m: \u001b[32m\u001b[41mERROR\u001b[0m Run xjbqsqx4 errored: UnboundLocalError(\"local variable 'nadam_impl' referenced before assignment\")\n",
      "\u001b[34m\u001b[1mwandb\u001b[0m: Agent Starting Run: rrejuugn with config:\n",
      "\u001b[34m\u001b[1mwandb\u001b[0m: \tactivation: tanh\n",
      "\u001b[34m\u001b[1mwandb\u001b[0m: \tbatch_size: 16\n",
      "\u001b[34m\u001b[1mwandb\u001b[0m: \tepochs: 10\n",
      "\u001b[34m\u001b[1mwandb\u001b[0m: \tgamma: 0.002\n",
      "\u001b[34m\u001b[1mwandb\u001b[0m: \thidden_layers: [32, 64, 128]\n",
      "\u001b[34m\u001b[1mwandb\u001b[0m: \tinitialization: Random\n",
      "\u001b[34m\u001b[1mwandb\u001b[0m: \tlearning_rate: 0.0001\n",
      "\u001b[34m\u001b[1mwandb\u001b[0m: \toptimizer: nadam\n",
      "\u001b[34m\u001b[1mwandb\u001b[0m: \tweight_decay: 0.0005\n",
      "Failed to detect the name of this notebook, you can set it manually with the WANDB_NOTEBOOK_NAME environment variable to enable code saving.\n",
      "\u001b[34m\u001b[1mwandb\u001b[0m: \u001b[33mWARNING\u001b[0m Ignored wandb.init() arg project when running a sweep.\n"
     ]
    },
    {
     "data": {
      "text/html": [
       "wandb version 0.14.0 is available!  To upgrade, please run:\n",
       " $ pip install wandb --upgrade"
      ],
      "text/plain": [
       "<IPython.core.display.HTML object>"
      ]
     },
     "metadata": {},
     "output_type": "display_data"
    },
    {
     "data": {
      "text/html": [
       "Tracking run with wandb version 0.13.10"
      ],
      "text/plain": [
       "<IPython.core.display.HTML object>"
      ]
     },
     "metadata": {},
     "output_type": "display_data"
    },
    {
     "data": {
      "text/html": [
       "Run data is saved locally in <code>C:\\Users\\Shivam Maurya\\OneDrive\\Desktop\\IIT_MADRAS\\Deep Learning\\assignment 1\\CS6910-Deep_Learning_Assignment-1\\wandb\\run-20230317_181640-rrejuugn</code>"
      ],
      "text/plain": [
       "<IPython.core.display.HTML object>"
      ]
     },
     "metadata": {},
     "output_type": "display_data"
    },
    {
     "data": {
      "text/html": [
       "Syncing run <strong><a href='https://wandb.ai/cs22m083/CS6910_Assignment_1/runs/rrejuugn' target=\"_blank\">Question:4</a></strong> to <a href='https://wandb.ai/cs22m083/CS6910_Assignment_1' target=\"_blank\">Weights & Biases</a> (<a href='https://wandb.me/run' target=\"_blank\">docs</a>)<br/>Sweep page: <a href='https://wandb.ai/cs22m083/CS6910_Assignment_1/sweeps/cezmcy51' target=\"_blank\">https://wandb.ai/cs22m083/CS6910_Assignment_1/sweeps/cezmcy51</a>"
      ],
      "text/plain": [
       "<IPython.core.display.HTML object>"
      ]
     },
     "metadata": {},
     "output_type": "display_data"
    },
    {
     "data": {
      "text/html": [
       " View project at <a href='https://wandb.ai/cs22m083/CS6910_Assignment_1' target=\"_blank\">https://wandb.ai/cs22m083/CS6910_Assignment_1</a>"
      ],
      "text/plain": [
       "<IPython.core.display.HTML object>"
      ]
     },
     "metadata": {},
     "output_type": "display_data"
    },
    {
     "data": {
      "text/html": [
       " View sweep at <a href='https://wandb.ai/cs22m083/CS6910_Assignment_1/sweeps/cezmcy51' target=\"_blank\">https://wandb.ai/cs22m083/CS6910_Assignment_1/sweeps/cezmcy51</a>"
      ],
      "text/plain": [
       "<IPython.core.display.HTML object>"
      ]
     },
     "metadata": {},
     "output_type": "display_data"
    },
    {
     "data": {
      "text/html": [
       " View run at <a href='https://wandb.ai/cs22m083/CS6910_Assignment_1/runs/rrejuugn' target=\"_blank\">https://wandb.ai/cs22m083/CS6910_Assignment_1/runs/rrejuugn</a>"
      ],
      "text/plain": [
       "<IPython.core.display.HTML object>"
      ]
     },
     "metadata": {},
     "output_type": "display_data"
    },
    {
     "data": {
      "text/html": [
       "Waiting for W&B process to finish... <strong style=\"color:red\">(failed 1).</strong> Press Ctrl-C to abort syncing."
      ],
      "text/plain": [
       "<IPython.core.display.HTML object>"
      ]
     },
     "metadata": {},
     "output_type": "display_data"
    },
    {
     "data": {
      "application/vnd.jupyter.widget-view+json": {
       "model_id": "fc917adbcde74336a273cd99c49b51c8",
       "version_major": 2,
       "version_minor": 0
      },
      "text/plain": [
       "VBox(children=(Label(value='0.001 MB of 0.001 MB uploaded (0.000 MB deduped)\\r'), FloatProgress(value=1.0, max…"
      ]
     },
     "metadata": {},
     "output_type": "display_data"
    },
    {
     "data": {
      "text/html": [
       " View run <strong style=\"color:#cdcd00\">Question:4</strong> at: <a href='https://wandb.ai/cs22m083/CS6910_Assignment_1/runs/rrejuugn' target=\"_blank\">https://wandb.ai/cs22m083/CS6910_Assignment_1/runs/rrejuugn</a><br/>Synced 5 W&B file(s), 0 media file(s), 0 artifact file(s) and 0 other file(s)"
      ],
      "text/plain": [
       "<IPython.core.display.HTML object>"
      ]
     },
     "metadata": {},
     "output_type": "display_data"
    },
    {
     "data": {
      "text/html": [
       "Find logs at: <code>.\\wandb\\run-20230317_181640-rrejuugn\\logs</code>"
      ],
      "text/plain": [
       "<IPython.core.display.HTML object>"
      ]
     },
     "metadata": {},
     "output_type": "display_data"
    },
    {
     "name": "stderr",
     "output_type": "stream",
     "text": [
      "Run rrejuugn errored: UnboundLocalError(\"local variable 'nadam_impl' referenced before assignment\")\n",
      "\u001b[34m\u001b[1mwandb\u001b[0m: \u001b[32m\u001b[41mERROR\u001b[0m Run rrejuugn errored: UnboundLocalError(\"local variable 'nadam_impl' referenced before assignment\")\n",
      "\u001b[34m\u001b[1mwandb\u001b[0m: Agent Starting Run: id2fhuj6 with config:\n",
      "\u001b[34m\u001b[1mwandb\u001b[0m: \tactivation: tanh\n",
      "\u001b[34m\u001b[1mwandb\u001b[0m: \tbatch_size: 16\n",
      "\u001b[34m\u001b[1mwandb\u001b[0m: \tepochs: 10\n",
      "\u001b[34m\u001b[1mwandb\u001b[0m: \tgamma: 0.002\n",
      "\u001b[34m\u001b[1mwandb\u001b[0m: \thidden_layers: [32, 64, 128]\n",
      "\u001b[34m\u001b[1mwandb\u001b[0m: \tinitialization: Xavier\n",
      "\u001b[34m\u001b[1mwandb\u001b[0m: \tlearning_rate: 0.0003\n",
      "\u001b[34m\u001b[1mwandb\u001b[0m: \toptimizer: rmsprop\n",
      "\u001b[34m\u001b[1mwandb\u001b[0m: \tweight_decay: 0\n",
      "Failed to detect the name of this notebook, you can set it manually with the WANDB_NOTEBOOK_NAME environment variable to enable code saving.\n",
      "\u001b[34m\u001b[1mwandb\u001b[0m: \u001b[33mWARNING\u001b[0m Ignored wandb.init() arg project when running a sweep.\n"
     ]
    },
    {
     "data": {
      "text/html": [
       "wandb version 0.14.0 is available!  To upgrade, please run:\n",
       " $ pip install wandb --upgrade"
      ],
      "text/plain": [
       "<IPython.core.display.HTML object>"
      ]
     },
     "metadata": {},
     "output_type": "display_data"
    },
    {
     "data": {
      "text/html": [
       "Tracking run with wandb version 0.13.10"
      ],
      "text/plain": [
       "<IPython.core.display.HTML object>"
      ]
     },
     "metadata": {},
     "output_type": "display_data"
    },
    {
     "data": {
      "text/html": [
       "Run data is saved locally in <code>C:\\Users\\Shivam Maurya\\OneDrive\\Desktop\\IIT_MADRAS\\Deep Learning\\assignment 1\\CS6910-Deep_Learning_Assignment-1\\wandb\\run-20230317_181701-id2fhuj6</code>"
      ],
      "text/plain": [
       "<IPython.core.display.HTML object>"
      ]
     },
     "metadata": {},
     "output_type": "display_data"
    },
    {
     "data": {
      "text/html": [
       "Syncing run <strong><a href='https://wandb.ai/cs22m083/CS6910_Assignment_1/runs/id2fhuj6' target=\"_blank\">Question:4</a></strong> to <a href='https://wandb.ai/cs22m083/CS6910_Assignment_1' target=\"_blank\">Weights & Biases</a> (<a href='https://wandb.me/run' target=\"_blank\">docs</a>)<br/>Sweep page: <a href='https://wandb.ai/cs22m083/CS6910_Assignment_1/sweeps/cezmcy51' target=\"_blank\">https://wandb.ai/cs22m083/CS6910_Assignment_1/sweeps/cezmcy51</a>"
      ],
      "text/plain": [
       "<IPython.core.display.HTML object>"
      ]
     },
     "metadata": {},
     "output_type": "display_data"
    },
    {
     "data": {
      "text/html": [
       " View project at <a href='https://wandb.ai/cs22m083/CS6910_Assignment_1' target=\"_blank\">https://wandb.ai/cs22m083/CS6910_Assignment_1</a>"
      ],
      "text/plain": [
       "<IPython.core.display.HTML object>"
      ]
     },
     "metadata": {},
     "output_type": "display_data"
    },
    {
     "data": {
      "text/html": [
       " View sweep at <a href='https://wandb.ai/cs22m083/CS6910_Assignment_1/sweeps/cezmcy51' target=\"_blank\">https://wandb.ai/cs22m083/CS6910_Assignment_1/sweeps/cezmcy51</a>"
      ],
      "text/plain": [
       "<IPython.core.display.HTML object>"
      ]
     },
     "metadata": {},
     "output_type": "display_data"
    },
    {
     "data": {
      "text/html": [
       " View run at <a href='https://wandb.ai/cs22m083/CS6910_Assignment_1/runs/id2fhuj6' target=\"_blank\">https://wandb.ai/cs22m083/CS6910_Assignment_1/runs/id2fhuj6</a>"
      ],
      "text/plain": [
       "<IPython.core.display.HTML object>"
      ]
     },
     "metadata": {},
     "output_type": "display_data"
    },
    {
     "name": "stdout",
     "output_type": "stream",
     "text": [
      " Training Loss:  0.4624093081056864  Validation Loss: 0.5369274126476236  Training Accuracy:  0.85325  Validation Accuracy: 0.8398\n"
     ]
    },
    {
     "data": {
      "text/html": [
       "Waiting for W&B process to finish... <strong style=\"color:green\">(success).</strong>"
      ],
      "text/plain": [
       "<IPython.core.display.HTML object>"
      ]
     },
     "metadata": {},
     "output_type": "display_data"
    },
    {
     "data": {
      "text/html": [
       "<style>\n",
       "    table.wandb td:nth-child(1) { padding: 0 10px; text-align: left ; width: auto;} td:nth-child(2) {text-align: left ; width: 100%}\n",
       "    .wandb-row { display: flex; flex-direction: row; flex-wrap: wrap; justify-content: flex-start; width: 100% }\n",
       "    .wandb-col { display: flex; flex-direction: column; flex-basis: 100%; flex: 1; padding: 10px; }\n",
       "    </style>\n",
       "<div class=\"wandb-row\"><div class=\"wandb-col\"><h3>Run history:</h3><br/><table class=\"wandb\"><tr><td>Accuracy</td><td>▁</td></tr><tr><td>Epoch</td><td>▁▂▃▃▄▅▆▆▇█</td></tr><tr><td>Training_accuracy</td><td>▁▆▆▇▇▇▇███</td></tr><tr><td>Training_loss</td><td>█▂▂▂▁▁▁▁▁▁</td></tr><tr><td>Validation_accuracy</td><td>▁▅▃▅▆▆▇▇█▇</td></tr><tr><td>Validation_loss</td><td>█▂▇▂▁▂▂▁▃▇</td></tr></table><br/></div><div class=\"wandb-col\"><h3>Run summary:</h3><br/><table class=\"wandb\"><tr><td>Accuracy</td><td>0.8398</td></tr><tr><td>Epoch</td><td>10</td></tr><tr><td>Training_accuracy</td><td>0.85325</td></tr><tr><td>Training_loss</td><td>0.46241</td></tr><tr><td>Validation_accuracy</td><td>0.8398</td></tr><tr><td>Validation_loss</td><td>0.53693</td></tr></table><br/></div></div>"
      ],
      "text/plain": [
       "<IPython.core.display.HTML object>"
      ]
     },
     "metadata": {},
     "output_type": "display_data"
    },
    {
     "data": {
      "text/html": [
       " View run <strong style=\"color:#cdcd00\">Question:4</strong> at: <a href='https://wandb.ai/cs22m083/CS6910_Assignment_1/runs/id2fhuj6' target=\"_blank\">https://wandb.ai/cs22m083/CS6910_Assignment_1/runs/id2fhuj6</a><br/>Synced 6 W&B file(s), 0 media file(s), 0 artifact file(s) and 0 other file(s)"
      ],
      "text/plain": [
       "<IPython.core.display.HTML object>"
      ]
     },
     "metadata": {},
     "output_type": "display_data"
    },
    {
     "data": {
      "text/html": [
       "Find logs at: <code>.\\wandb\\run-20230317_181701-id2fhuj6\\logs</code>"
      ],
      "text/plain": [
       "<IPython.core.display.HTML object>"
      ]
     },
     "metadata": {},
     "output_type": "display_data"
    },
    {
     "name": "stderr",
     "output_type": "stream",
     "text": [
      "\u001b[34m\u001b[1mwandb\u001b[0m: Agent Starting Run: y8lwo2iv with config:\n",
      "\u001b[34m\u001b[1mwandb\u001b[0m: \tactivation: tanh\n",
      "\u001b[34m\u001b[1mwandb\u001b[0m: \tbatch_size: 32\n",
      "\u001b[34m\u001b[1mwandb\u001b[0m: \tepochs: 5\n",
      "\u001b[34m\u001b[1mwandb\u001b[0m: \tgamma: 0.0006\n",
      "\u001b[34m\u001b[1mwandb\u001b[0m: \thidden_layers: [32, 64, 128, 256]\n",
      "\u001b[34m\u001b[1mwandb\u001b[0m: \tinitialization: Random\n",
      "\u001b[34m\u001b[1mwandb\u001b[0m: \tlearning_rate: 0.0001\n",
      "\u001b[34m\u001b[1mwandb\u001b[0m: \toptimizer: sgd\n",
      "\u001b[34m\u001b[1mwandb\u001b[0m: \tweight_decay: 0\n",
      "Failed to detect the name of this notebook, you can set it manually with the WANDB_NOTEBOOK_NAME environment variable to enable code saving.\n",
      "\u001b[34m\u001b[1mwandb\u001b[0m: \u001b[33mWARNING\u001b[0m Ignored wandb.init() arg project when running a sweep.\n"
     ]
    },
    {
     "data": {
      "text/html": [
       "wandb version 0.14.0 is available!  To upgrade, please run:\n",
       " $ pip install wandb --upgrade"
      ],
      "text/plain": [
       "<IPython.core.display.HTML object>"
      ]
     },
     "metadata": {},
     "output_type": "display_data"
    },
    {
     "data": {
      "text/html": [
       "Tracking run with wandb version 0.13.10"
      ],
      "text/plain": [
       "<IPython.core.display.HTML object>"
      ]
     },
     "metadata": {},
     "output_type": "display_data"
    },
    {
     "data": {
      "text/html": [
       "Run data is saved locally in <code>C:\\Users\\Shivam Maurya\\OneDrive\\Desktop\\IIT_MADRAS\\Deep Learning\\assignment 1\\CS6910-Deep_Learning_Assignment-1\\wandb\\run-20230317_182019-y8lwo2iv</code>"
      ],
      "text/plain": [
       "<IPython.core.display.HTML object>"
      ]
     },
     "metadata": {},
     "output_type": "display_data"
    },
    {
     "data": {
      "text/html": [
       "Syncing run <strong><a href='https://wandb.ai/cs22m083/CS6910_Assignment_1/runs/y8lwo2iv' target=\"_blank\">Question:4</a></strong> to <a href='https://wandb.ai/cs22m083/CS6910_Assignment_1' target=\"_blank\">Weights & Biases</a> (<a href='https://wandb.me/run' target=\"_blank\">docs</a>)<br/>Sweep page: <a href='https://wandb.ai/cs22m083/CS6910_Assignment_1/sweeps/cezmcy51' target=\"_blank\">https://wandb.ai/cs22m083/CS6910_Assignment_1/sweeps/cezmcy51</a>"
      ],
      "text/plain": [
       "<IPython.core.display.HTML object>"
      ]
     },
     "metadata": {},
     "output_type": "display_data"
    },
    {
     "data": {
      "text/html": [
       " View project at <a href='https://wandb.ai/cs22m083/CS6910_Assignment_1' target=\"_blank\">https://wandb.ai/cs22m083/CS6910_Assignment_1</a>"
      ],
      "text/plain": [
       "<IPython.core.display.HTML object>"
      ]
     },
     "metadata": {},
     "output_type": "display_data"
    },
    {
     "data": {
      "text/html": [
       " View sweep at <a href='https://wandb.ai/cs22m083/CS6910_Assignment_1/sweeps/cezmcy51' target=\"_blank\">https://wandb.ai/cs22m083/CS6910_Assignment_1/sweeps/cezmcy51</a>"
      ],
      "text/plain": [
       "<IPython.core.display.HTML object>"
      ]
     },
     "metadata": {},
     "output_type": "display_data"
    },
    {
     "data": {
      "text/html": [
       " View run at <a href='https://wandb.ai/cs22m083/CS6910_Assignment_1/runs/y8lwo2iv' target=\"_blank\">https://wandb.ai/cs22m083/CS6910_Assignment_1/runs/y8lwo2iv</a>"
      ],
      "text/plain": [
       "<IPython.core.display.HTML object>"
      ]
     },
     "metadata": {},
     "output_type": "display_data"
    },
    {
     "name": "stdout",
     "output_type": "stream",
     "text": [
      " Training Loss:  1.351667241426802  Validation Loss: 1.3436764811668491  Training Accuracy:  0.5807666666666667  Validation Accuracy: 0.5878\n"
     ]
    },
    {
     "data": {
      "text/html": [
       "Waiting for W&B process to finish... <strong style=\"color:green\">(success).</strong>"
      ],
      "text/plain": [
       "<IPython.core.display.HTML object>"
      ]
     },
     "metadata": {},
     "output_type": "display_data"
    },
    {
     "data": {
      "text/html": [
       "<style>\n",
       "    table.wandb td:nth-child(1) { padding: 0 10px; text-align: left ; width: auto;} td:nth-child(2) {text-align: left ; width: 100%}\n",
       "    .wandb-row { display: flex; flex-direction: row; flex-wrap: wrap; justify-content: flex-start; width: 100% }\n",
       "    .wandb-col { display: flex; flex-direction: column; flex-basis: 100%; flex: 1; padding: 10px; }\n",
       "    </style>\n",
       "<div class=\"wandb-row\"><div class=\"wandb-col\"><h3>Run history:</h3><br/><table class=\"wandb\"><tr><td>Accuracy</td><td>▁</td></tr><tr><td>Epoch</td><td>▁▃▅▆█</td></tr><tr><td>Training_accuracy</td><td>▁▄▇██</td></tr><tr><td>Training_loss</td><td>█▂▂▁▁</td></tr><tr><td>Validation_accuracy</td><td>▁▅▇▇█</td></tr><tr><td>Validation_loss</td><td>█▄▂▂▁</td></tr></table><br/></div><div class=\"wandb-col\"><h3>Run summary:</h3><br/><table class=\"wandb\"><tr><td>Accuracy</td><td>0.5878</td></tr><tr><td>Epoch</td><td>5</td></tr><tr><td>Training_accuracy</td><td>0.58077</td></tr><tr><td>Training_loss</td><td>1.35167</td></tr><tr><td>Validation_accuracy</td><td>0.5878</td></tr><tr><td>Validation_loss</td><td>1.34368</td></tr></table><br/></div></div>"
      ],
      "text/plain": [
       "<IPython.core.display.HTML object>"
      ]
     },
     "metadata": {},
     "output_type": "display_data"
    },
    {
     "data": {
      "text/html": [
       " View run <strong style=\"color:#cdcd00\">Question:4</strong> at: <a href='https://wandb.ai/cs22m083/CS6910_Assignment_1/runs/y8lwo2iv' target=\"_blank\">https://wandb.ai/cs22m083/CS6910_Assignment_1/runs/y8lwo2iv</a><br/>Synced 6 W&B file(s), 0 media file(s), 0 artifact file(s) and 0 other file(s)"
      ],
      "text/plain": [
       "<IPython.core.display.HTML object>"
      ]
     },
     "metadata": {},
     "output_type": "display_data"
    },
    {
     "data": {
      "text/html": [
       "Find logs at: <code>.\\wandb\\run-20230317_182019-y8lwo2iv\\logs</code>"
      ],
      "text/plain": [
       "<IPython.core.display.HTML object>"
      ]
     },
     "metadata": {},
     "output_type": "display_data"
    },
    {
     "name": "stderr",
     "output_type": "stream",
     "text": [
      "\u001b[34m\u001b[1mwandb\u001b[0m: Agent Starting Run: ow155zxz with config:\n",
      "\u001b[34m\u001b[1mwandb\u001b[0m: \tactivation: relu\n",
      "\u001b[34m\u001b[1mwandb\u001b[0m: \tbatch_size: 16\n",
      "\u001b[34m\u001b[1mwandb\u001b[0m: \tepochs: 5\n",
      "\u001b[34m\u001b[1mwandb\u001b[0m: \tgamma: 0.0006\n",
      "\u001b[34m\u001b[1mwandb\u001b[0m: \thidden_layers: [32, 64]\n",
      "\u001b[34m\u001b[1mwandb\u001b[0m: \tinitialization: Xavier\n",
      "\u001b[34m\u001b[1mwandb\u001b[0m: \tlearning_rate: 0.01\n",
      "\u001b[34m\u001b[1mwandb\u001b[0m: \toptimizer: nag\n",
      "\u001b[34m\u001b[1mwandb\u001b[0m: \tweight_decay: 0.0005\n",
      "Failed to detect the name of this notebook, you can set it manually with the WANDB_NOTEBOOK_NAME environment variable to enable code saving.\n",
      "\u001b[34m\u001b[1mwandb\u001b[0m: \u001b[33mWARNING\u001b[0m Ignored wandb.init() arg project when running a sweep.\n"
     ]
    },
    {
     "data": {
      "text/html": [
       "wandb version 0.14.0 is available!  To upgrade, please run:\n",
       " $ pip install wandb --upgrade"
      ],
      "text/plain": [
       "<IPython.core.display.HTML object>"
      ]
     },
     "metadata": {},
     "output_type": "display_data"
    },
    {
     "data": {
      "text/html": [
       "Tracking run with wandb version 0.13.10"
      ],
      "text/plain": [
       "<IPython.core.display.HTML object>"
      ]
     },
     "metadata": {},
     "output_type": "display_data"
    },
    {
     "data": {
      "text/html": [
       "Run data is saved locally in <code>C:\\Users\\Shivam Maurya\\OneDrive\\Desktop\\IIT_MADRAS\\Deep Learning\\assignment 1\\CS6910-Deep_Learning_Assignment-1\\wandb\\run-20230317_182248-ow155zxz</code>"
      ],
      "text/plain": [
       "<IPython.core.display.HTML object>"
      ]
     },
     "metadata": {},
     "output_type": "display_data"
    },
    {
     "data": {
      "text/html": [
       "Syncing run <strong><a href='https://wandb.ai/cs22m083/CS6910_Assignment_1/runs/ow155zxz' target=\"_blank\">Question:4</a></strong> to <a href='https://wandb.ai/cs22m083/CS6910_Assignment_1' target=\"_blank\">Weights & Biases</a> (<a href='https://wandb.me/run' target=\"_blank\">docs</a>)<br/>Sweep page: <a href='https://wandb.ai/cs22m083/CS6910_Assignment_1/sweeps/cezmcy51' target=\"_blank\">https://wandb.ai/cs22m083/CS6910_Assignment_1/sweeps/cezmcy51</a>"
      ],
      "text/plain": [
       "<IPython.core.display.HTML object>"
      ]
     },
     "metadata": {},
     "output_type": "display_data"
    },
    {
     "data": {
      "text/html": [
       " View project at <a href='https://wandb.ai/cs22m083/CS6910_Assignment_1' target=\"_blank\">https://wandb.ai/cs22m083/CS6910_Assignment_1</a>"
      ],
      "text/plain": [
       "<IPython.core.display.HTML object>"
      ]
     },
     "metadata": {},
     "output_type": "display_data"
    },
    {
     "data": {
      "text/html": [
       " View sweep at <a href='https://wandb.ai/cs22m083/CS6910_Assignment_1/sweeps/cezmcy51' target=\"_blank\">https://wandb.ai/cs22m083/CS6910_Assignment_1/sweeps/cezmcy51</a>"
      ],
      "text/plain": [
       "<IPython.core.display.HTML object>"
      ]
     },
     "metadata": {},
     "output_type": "display_data"
    },
    {
     "data": {
      "text/html": [
       " View run at <a href='https://wandb.ai/cs22m083/CS6910_Assignment_1/runs/ow155zxz' target=\"_blank\">https://wandb.ai/cs22m083/CS6910_Assignment_1/runs/ow155zxz</a>"
      ],
      "text/plain": [
       "<IPython.core.display.HTML object>"
      ]
     },
     "metadata": {},
     "output_type": "display_data"
    },
    {
     "name": "stdout",
     "output_type": "stream",
     "text": [
      " Training Loss:  0.562359066267533  Validation Loss: 0.5185687717870051  Training Accuracy:  0.8048166666666666  Validation Accuracy: 0.8078\n"
     ]
    },
    {
     "data": {
      "text/html": [
       "Waiting for W&B process to finish... <strong style=\"color:green\">(success).</strong>"
      ],
      "text/plain": [
       "<IPython.core.display.HTML object>"
      ]
     },
     "metadata": {},
     "output_type": "display_data"
    },
    {
     "data": {
      "application/vnd.jupyter.widget-view+json": {
       "model_id": "25c5c2afcce04cb682a6465a04f70df9",
       "version_major": 2,
       "version_minor": 0
      },
      "text/plain": [
       "VBox(children=(Label(value='0.001 MB of 0.001 MB uploaded (0.000 MB deduped)\\r'), FloatProgress(value=1.0, max…"
      ]
     },
     "metadata": {},
     "output_type": "display_data"
    },
    {
     "data": {
      "text/html": [
       "<style>\n",
       "    table.wandb td:nth-child(1) { padding: 0 10px; text-align: left ; width: auto;} td:nth-child(2) {text-align: left ; width: 100%}\n",
       "    .wandb-row { display: flex; flex-direction: row; flex-wrap: wrap; justify-content: flex-start; width: 100% }\n",
       "    .wandb-col { display: flex; flex-direction: column; flex-basis: 100%; flex: 1; padding: 10px; }\n",
       "    </style>\n",
       "<div class=\"wandb-row\"><div class=\"wandb-col\"><h3>Run history:</h3><br/><table class=\"wandb\"><tr><td>Accuracy</td><td>▁</td></tr><tr><td>Epoch</td><td>▁▃▅▆█</td></tr><tr><td>Training_accuracy</td><td>▁▆▇██</td></tr><tr><td>Training_loss</td><td>█▃▂▁▁</td></tr><tr><td>Validation_accuracy</td><td>▁▅▇▇█</td></tr><tr><td>Validation_loss</td><td>█▄▃▂▁</td></tr></table><br/></div><div class=\"wandb-col\"><h3>Run summary:</h3><br/><table class=\"wandb\"><tr><td>Accuracy</td><td>0.8078</td></tr><tr><td>Epoch</td><td>5</td></tr><tr><td>Training_accuracy</td><td>0.80482</td></tr><tr><td>Training_loss</td><td>0.56236</td></tr><tr><td>Validation_accuracy</td><td>0.8078</td></tr><tr><td>Validation_loss</td><td>0.51857</td></tr></table><br/></div></div>"
      ],
      "text/plain": [
       "<IPython.core.display.HTML object>"
      ]
     },
     "metadata": {},
     "output_type": "display_data"
    },
    {
     "data": {
      "text/html": [
       " View run <strong style=\"color:#cdcd00\">Question:4</strong> at: <a href='https://wandb.ai/cs22m083/CS6910_Assignment_1/runs/ow155zxz' target=\"_blank\">https://wandb.ai/cs22m083/CS6910_Assignment_1/runs/ow155zxz</a><br/>Synced 6 W&B file(s), 0 media file(s), 0 artifact file(s) and 0 other file(s)"
      ],
      "text/plain": [
       "<IPython.core.display.HTML object>"
      ]
     },
     "metadata": {},
     "output_type": "display_data"
    },
    {
     "data": {
      "text/html": [
       "Find logs at: <code>.\\wandb\\run-20230317_182248-ow155zxz\\logs</code>"
      ],
      "text/plain": [
       "<IPython.core.display.HTML object>"
      ]
     },
     "metadata": {},
     "output_type": "display_data"
    },
    {
     "name": "stderr",
     "output_type": "stream",
     "text": [
      "\u001b[34m\u001b[1mwandb\u001b[0m: Sweep Agent: Waiting for job.\n",
      "\u001b[34m\u001b[1mwandb\u001b[0m: Job received.\n",
      "\u001b[34m\u001b[1mwandb\u001b[0m: Agent Starting Run: w6tatbcu with config:\n",
      "\u001b[34m\u001b[1mwandb\u001b[0m: \tactivation: tanh\n",
      "\u001b[34m\u001b[1mwandb\u001b[0m: \tbatch_size: 16\n",
      "\u001b[34m\u001b[1mwandb\u001b[0m: \tepochs: 10\n",
      "\u001b[34m\u001b[1mwandb\u001b[0m: \tgamma: 0.002\n",
      "\u001b[34m\u001b[1mwandb\u001b[0m: \thidden_layers: [32, 64, 128, 256]\n",
      "\u001b[34m\u001b[1mwandb\u001b[0m: \tinitialization: Random\n",
      "\u001b[34m\u001b[1mwandb\u001b[0m: \tlearning_rate: 0.0003\n",
      "\u001b[34m\u001b[1mwandb\u001b[0m: \toptimizer: nag\n",
      "\u001b[34m\u001b[1mwandb\u001b[0m: \tweight_decay: 0.0005\n",
      "Failed to detect the name of this notebook, you can set it manually with the WANDB_NOTEBOOK_NAME environment variable to enable code saving.\n",
      "\u001b[34m\u001b[1mwandb\u001b[0m: \u001b[33mWARNING\u001b[0m Ignored wandb.init() arg project when running a sweep.\n"
     ]
    },
    {
     "data": {
      "text/html": [
       "wandb version 0.14.0 is available!  To upgrade, please run:\n",
       " $ pip install wandb --upgrade"
      ],
      "text/plain": [
       "<IPython.core.display.HTML object>"
      ]
     },
     "metadata": {},
     "output_type": "display_data"
    },
    {
     "data": {
      "text/html": [
       "Tracking run with wandb version 0.13.10"
      ],
      "text/plain": [
       "<IPython.core.display.HTML object>"
      ]
     },
     "metadata": {},
     "output_type": "display_data"
    },
    {
     "data": {
      "text/html": [
       "Run data is saved locally in <code>C:\\Users\\Shivam Maurya\\OneDrive\\Desktop\\IIT_MADRAS\\Deep Learning\\assignment 1\\CS6910-Deep_Learning_Assignment-1\\wandb\\run-20230317_182430-w6tatbcu</code>"
      ],
      "text/plain": [
       "<IPython.core.display.HTML object>"
      ]
     },
     "metadata": {},
     "output_type": "display_data"
    },
    {
     "data": {
      "text/html": [
       "Syncing run <strong><a href='https://wandb.ai/cs22m083/CS6910_Assignment_1/runs/w6tatbcu' target=\"_blank\">Question:4</a></strong> to <a href='https://wandb.ai/cs22m083/CS6910_Assignment_1' target=\"_blank\">Weights & Biases</a> (<a href='https://wandb.me/run' target=\"_blank\">docs</a>)<br/>Sweep page: <a href='https://wandb.ai/cs22m083/CS6910_Assignment_1/sweeps/cezmcy51' target=\"_blank\">https://wandb.ai/cs22m083/CS6910_Assignment_1/sweeps/cezmcy51</a>"
      ],
      "text/plain": [
       "<IPython.core.display.HTML object>"
      ]
     },
     "metadata": {},
     "output_type": "display_data"
    },
    {
     "data": {
      "text/html": [
       " View project at <a href='https://wandb.ai/cs22m083/CS6910_Assignment_1' target=\"_blank\">https://wandb.ai/cs22m083/CS6910_Assignment_1</a>"
      ],
      "text/plain": [
       "<IPython.core.display.HTML object>"
      ]
     },
     "metadata": {},
     "output_type": "display_data"
    },
    {
     "data": {
      "text/html": [
       " View sweep at <a href='https://wandb.ai/cs22m083/CS6910_Assignment_1/sweeps/cezmcy51' target=\"_blank\">https://wandb.ai/cs22m083/CS6910_Assignment_1/sweeps/cezmcy51</a>"
      ],
      "text/plain": [
       "<IPython.core.display.HTML object>"
      ]
     },
     "metadata": {},
     "output_type": "display_data"
    },
    {
     "data": {
      "text/html": [
       " View run at <a href='https://wandb.ai/cs22m083/CS6910_Assignment_1/runs/w6tatbcu' target=\"_blank\">https://wandb.ai/cs22m083/CS6910_Assignment_1/runs/w6tatbcu</a>"
      ],
      "text/plain": [
       "<IPython.core.display.HTML object>"
      ]
     },
     "metadata": {},
     "output_type": "display_data"
    },
    {
     "name": "stdout",
     "output_type": "stream",
     "text": [
      " Training Loss:  2.1963945839101155  Validation Loss: 2.2100342157495523  Training Accuracy:  0.49821666666666664  Validation Accuracy: 0.4911\n"
     ]
    },
    {
     "data": {
      "text/html": [
       "Waiting for W&B process to finish... <strong style=\"color:green\">(success).</strong>"
      ],
      "text/plain": [
       "<IPython.core.display.HTML object>"
      ]
     },
     "metadata": {},
     "output_type": "display_data"
    },
    {
     "data": {
      "text/html": [
       "<style>\n",
       "    table.wandb td:nth-child(1) { padding: 0 10px; text-align: left ; width: auto;} td:nth-child(2) {text-align: left ; width: 100%}\n",
       "    .wandb-row { display: flex; flex-direction: row; flex-wrap: wrap; justify-content: flex-start; width: 100% }\n",
       "    .wandb-col { display: flex; flex-direction: column; flex-basis: 100%; flex: 1; padding: 10px; }\n",
       "    </style>\n",
       "<div class=\"wandb-row\"><div class=\"wandb-col\"><h3>Run history:</h3><br/><table class=\"wandb\"><tr><td>Accuracy</td><td>▁</td></tr><tr><td>Epoch</td><td>▁▂▃▃▄▅▆▆▇█</td></tr><tr><td>Training_accuracy</td><td>▁▄▅▅▅▆▇███</td></tr><tr><td>Training_loss</td><td>█▄▃▂▂▂▁▁▁▁</td></tr><tr><td>Validation_accuracy</td><td>▁▂▄▄▅▆▇███</td></tr><tr><td>Validation_loss</td><td>█▄▃▃▂▂▁▁▁▁</td></tr></table><br/></div><div class=\"wandb-col\"><h3>Run summary:</h3><br/><table class=\"wandb\"><tr><td>Accuracy</td><td>0.4911</td></tr><tr><td>Epoch</td><td>10</td></tr><tr><td>Training_accuracy</td><td>0.49822</td></tr><tr><td>Training_loss</td><td>2.19639</td></tr><tr><td>Validation_accuracy</td><td>0.4911</td></tr><tr><td>Validation_loss</td><td>2.21003</td></tr></table><br/></div></div>"
      ],
      "text/plain": [
       "<IPython.core.display.HTML object>"
      ]
     },
     "metadata": {},
     "output_type": "display_data"
    },
    {
     "data": {
      "text/html": [
       " View run <strong style=\"color:#cdcd00\">Question:4</strong> at: <a href='https://wandb.ai/cs22m083/CS6910_Assignment_1/runs/w6tatbcu' target=\"_blank\">https://wandb.ai/cs22m083/CS6910_Assignment_1/runs/w6tatbcu</a><br/>Synced 6 W&B file(s), 0 media file(s), 0 artifact file(s) and 0 other file(s)"
      ],
      "text/plain": [
       "<IPython.core.display.HTML object>"
      ]
     },
     "metadata": {},
     "output_type": "display_data"
    },
    {
     "data": {
      "text/html": [
       "Find logs at: <code>.\\wandb\\run-20230317_182430-w6tatbcu\\logs</code>"
      ],
      "text/plain": [
       "<IPython.core.display.HTML object>"
      ]
     },
     "metadata": {},
     "output_type": "display_data"
    },
    {
     "name": "stderr",
     "output_type": "stream",
     "text": [
      "\u001b[34m\u001b[1mwandb\u001b[0m: Agent Starting Run: qnqxsmbs with config:\n",
      "\u001b[34m\u001b[1mwandb\u001b[0m: \tactivation: relu\n",
      "\u001b[34m\u001b[1mwandb\u001b[0m: \tbatch_size: 32\n",
      "\u001b[34m\u001b[1mwandb\u001b[0m: \tepochs: 5\n",
      "\u001b[34m\u001b[1mwandb\u001b[0m: \tgamma: 0.03\n",
      "\u001b[34m\u001b[1mwandb\u001b[0m: \thidden_layers: [32, 64, 128, 256]\n",
      "\u001b[34m\u001b[1mwandb\u001b[0m: \tinitialization: Xavier\n",
      "\u001b[34m\u001b[1mwandb\u001b[0m: \tlearning_rate: 0.0005\n",
      "\u001b[34m\u001b[1mwandb\u001b[0m: \toptimizer: sgd\n",
      "\u001b[34m\u001b[1mwandb\u001b[0m: \tweight_decay: 0\n",
      "Failed to detect the name of this notebook, you can set it manually with the WANDB_NOTEBOOK_NAME environment variable to enable code saving.\n",
      "\u001b[34m\u001b[1mwandb\u001b[0m: \u001b[33mWARNING\u001b[0m Ignored wandb.init() arg project when running a sweep.\n"
     ]
    },
    {
     "data": {
      "text/html": [
       "wandb version 0.14.0 is available!  To upgrade, please run:\n",
       " $ pip install wandb --upgrade"
      ],
      "text/plain": [
       "<IPython.core.display.HTML object>"
      ]
     },
     "metadata": {},
     "output_type": "display_data"
    },
    {
     "data": {
      "text/html": [
       "Tracking run with wandb version 0.13.10"
      ],
      "text/plain": [
       "<IPython.core.display.HTML object>"
      ]
     },
     "metadata": {},
     "output_type": "display_data"
    },
    {
     "data": {
      "text/html": [
       "Run data is saved locally in <code>C:\\Users\\Shivam Maurya\\OneDrive\\Desktop\\IIT_MADRAS\\Deep Learning\\assignment 1\\CS6910-Deep_Learning_Assignment-1\\wandb\\run-20230317_182935-qnqxsmbs</code>"
      ],
      "text/plain": [
       "<IPython.core.display.HTML object>"
      ]
     },
     "metadata": {},
     "output_type": "display_data"
    },
    {
     "data": {
      "text/html": [
       "Syncing run <strong><a href='https://wandb.ai/cs22m083/CS6910_Assignment_1/runs/qnqxsmbs' target=\"_blank\">Question:4</a></strong> to <a href='https://wandb.ai/cs22m083/CS6910_Assignment_1' target=\"_blank\">Weights & Biases</a> (<a href='https://wandb.me/run' target=\"_blank\">docs</a>)<br/>Sweep page: <a href='https://wandb.ai/cs22m083/CS6910_Assignment_1/sweeps/cezmcy51' target=\"_blank\">https://wandb.ai/cs22m083/CS6910_Assignment_1/sweeps/cezmcy51</a>"
      ],
      "text/plain": [
       "<IPython.core.display.HTML object>"
      ]
     },
     "metadata": {},
     "output_type": "display_data"
    },
    {
     "data": {
      "text/html": [
       " View project at <a href='https://wandb.ai/cs22m083/CS6910_Assignment_1' target=\"_blank\">https://wandb.ai/cs22m083/CS6910_Assignment_1</a>"
      ],
      "text/plain": [
       "<IPython.core.display.HTML object>"
      ]
     },
     "metadata": {},
     "output_type": "display_data"
    },
    {
     "data": {
      "text/html": [
       " View sweep at <a href='https://wandb.ai/cs22m083/CS6910_Assignment_1/sweeps/cezmcy51' target=\"_blank\">https://wandb.ai/cs22m083/CS6910_Assignment_1/sweeps/cezmcy51</a>"
      ],
      "text/plain": [
       "<IPython.core.display.HTML object>"
      ]
     },
     "metadata": {},
     "output_type": "display_data"
    },
    {
     "data": {
      "text/html": [
       " View run at <a href='https://wandb.ai/cs22m083/CS6910_Assignment_1/runs/qnqxsmbs' target=\"_blank\">https://wandb.ai/cs22m083/CS6910_Assignment_1/runs/qnqxsmbs</a>"
      ],
      "text/plain": [
       "<IPython.core.display.HTML object>"
      ]
     },
     "metadata": {},
     "output_type": "display_data"
    },
    {
     "name": "stdout",
     "output_type": "stream",
     "text": [
      " Training Loss:  0.3891256453848877  Validation Loss: 0.4250401866899121  Training Accuracy:  0.8607  Validation Accuracy: 0.8422\n"
     ]
    },
    {
     "data": {
      "text/html": [
       "Waiting for W&B process to finish... <strong style=\"color:green\">(success).</strong>"
      ],
      "text/plain": [
       "<IPython.core.display.HTML object>"
      ]
     },
     "metadata": {},
     "output_type": "display_data"
    },
    {
     "data": {
      "text/html": [
       "<style>\n",
       "    table.wandb td:nth-child(1) { padding: 0 10px; text-align: left ; width: auto;} td:nth-child(2) {text-align: left ; width: 100%}\n",
       "    .wandb-row { display: flex; flex-direction: row; flex-wrap: wrap; justify-content: flex-start; width: 100% }\n",
       "    .wandb-col { display: flex; flex-direction: column; flex-basis: 100%; flex: 1; padding: 10px; }\n",
       "    </style>\n",
       "<div class=\"wandb-row\"><div class=\"wandb-col\"><h3>Run history:</h3><br/><table class=\"wandb\"><tr><td>Accuracy</td><td>▁</td></tr><tr><td>Epoch</td><td>▁▃▅▆█</td></tr><tr><td>Training_accuracy</td><td>▁▆▇██</td></tr><tr><td>Training_loss</td><td>█▃▂▁▁</td></tr><tr><td>Validation_accuracy</td><td>▁▄▆▇█</td></tr><tr><td>Validation_loss</td><td>█▅▃▂▁</td></tr></table><br/></div><div class=\"wandb-col\"><h3>Run summary:</h3><br/><table class=\"wandb\"><tr><td>Accuracy</td><td>0.8422</td></tr><tr><td>Epoch</td><td>5</td></tr><tr><td>Training_accuracy</td><td>0.8607</td></tr><tr><td>Training_loss</td><td>0.38913</td></tr><tr><td>Validation_accuracy</td><td>0.8422</td></tr><tr><td>Validation_loss</td><td>0.42504</td></tr></table><br/></div></div>"
      ],
      "text/plain": [
       "<IPython.core.display.HTML object>"
      ]
     },
     "metadata": {},
     "output_type": "display_data"
    },
    {
     "data": {
      "text/html": [
       " View run <strong style=\"color:#cdcd00\">Question:4</strong> at: <a href='https://wandb.ai/cs22m083/CS6910_Assignment_1/runs/qnqxsmbs' target=\"_blank\">https://wandb.ai/cs22m083/CS6910_Assignment_1/runs/qnqxsmbs</a><br/>Synced 6 W&B file(s), 0 media file(s), 0 artifact file(s) and 0 other file(s)"
      ],
      "text/plain": [
       "<IPython.core.display.HTML object>"
      ]
     },
     "metadata": {},
     "output_type": "display_data"
    },
    {
     "data": {
      "text/html": [
       "Find logs at: <code>.\\wandb\\run-20230317_182935-qnqxsmbs\\logs</code>"
      ],
      "text/plain": [
       "<IPython.core.display.HTML object>"
      ]
     },
     "metadata": {},
     "output_type": "display_data"
    },
    {
     "name": "stderr",
     "output_type": "stream",
     "text": [
      "\u001b[34m\u001b[1mwandb\u001b[0m: Agent Starting Run: pbxtyb20 with config:\n",
      "\u001b[34m\u001b[1mwandb\u001b[0m: \tactivation: tanh\n",
      "\u001b[34m\u001b[1mwandb\u001b[0m: \tbatch_size: 16\n",
      "\u001b[34m\u001b[1mwandb\u001b[0m: \tepochs: 10\n",
      "\u001b[34m\u001b[1mwandb\u001b[0m: \tgamma: 0.03\n",
      "\u001b[34m\u001b[1mwandb\u001b[0m: \thidden_layers: [32, 64]\n",
      "\u001b[34m\u001b[1mwandb\u001b[0m: \tinitialization: Xavier\n",
      "\u001b[34m\u001b[1mwandb\u001b[0m: \tlearning_rate: 0.005\n",
      "\u001b[34m\u001b[1mwandb\u001b[0m: \toptimizer: nag\n",
      "\u001b[34m\u001b[1mwandb\u001b[0m: \tweight_decay: 0.0005\n",
      "Failed to detect the name of this notebook, you can set it manually with the WANDB_NOTEBOOK_NAME environment variable to enable code saving.\n",
      "\u001b[34m\u001b[1mwandb\u001b[0m: \u001b[33mWARNING\u001b[0m Ignored wandb.init() arg project when running a sweep.\n"
     ]
    },
    {
     "data": {
      "text/html": [
       "wandb version 0.14.0 is available!  To upgrade, please run:\n",
       " $ pip install wandb --upgrade"
      ],
      "text/plain": [
       "<IPython.core.display.HTML object>"
      ]
     },
     "metadata": {},
     "output_type": "display_data"
    },
    {
     "data": {
      "text/html": [
       "Tracking run with wandb version 0.13.10"
      ],
      "text/plain": [
       "<IPython.core.display.HTML object>"
      ]
     },
     "metadata": {},
     "output_type": "display_data"
    },
    {
     "data": {
      "text/html": [
       "Run data is saved locally in <code>C:\\Users\\Shivam Maurya\\OneDrive\\Desktop\\IIT_MADRAS\\Deep Learning\\assignment 1\\CS6910-Deep_Learning_Assignment-1\\wandb\\run-20230317_183210-pbxtyb20</code>"
      ],
      "text/plain": [
       "<IPython.core.display.HTML object>"
      ]
     },
     "metadata": {},
     "output_type": "display_data"
    },
    {
     "data": {
      "text/html": [
       "Syncing run <strong><a href='https://wandb.ai/cs22m083/CS6910_Assignment_1/runs/pbxtyb20' target=\"_blank\">Question:4</a></strong> to <a href='https://wandb.ai/cs22m083/CS6910_Assignment_1' target=\"_blank\">Weights & Biases</a> (<a href='https://wandb.me/run' target=\"_blank\">docs</a>)<br/>Sweep page: <a href='https://wandb.ai/cs22m083/CS6910_Assignment_1/sweeps/cezmcy51' target=\"_blank\">https://wandb.ai/cs22m083/CS6910_Assignment_1/sweeps/cezmcy51</a>"
      ],
      "text/plain": [
       "<IPython.core.display.HTML object>"
      ]
     },
     "metadata": {},
     "output_type": "display_data"
    },
    {
     "data": {
      "text/html": [
       " View project at <a href='https://wandb.ai/cs22m083/CS6910_Assignment_1' target=\"_blank\">https://wandb.ai/cs22m083/CS6910_Assignment_1</a>"
      ],
      "text/plain": [
       "<IPython.core.display.HTML object>"
      ]
     },
     "metadata": {},
     "output_type": "display_data"
    },
    {
     "data": {
      "text/html": [
       " View sweep at <a href='https://wandb.ai/cs22m083/CS6910_Assignment_1/sweeps/cezmcy51' target=\"_blank\">https://wandb.ai/cs22m083/CS6910_Assignment_1/sweeps/cezmcy51</a>"
      ],
      "text/plain": [
       "<IPython.core.display.HTML object>"
      ]
     },
     "metadata": {},
     "output_type": "display_data"
    },
    {
     "data": {
      "text/html": [
       " View run at <a href='https://wandb.ai/cs22m083/CS6910_Assignment_1/runs/pbxtyb20' target=\"_blank\">https://wandb.ai/cs22m083/CS6910_Assignment_1/runs/pbxtyb20</a>"
      ],
      "text/plain": [
       "<IPython.core.display.HTML object>"
      ]
     },
     "metadata": {},
     "output_type": "display_data"
    },
    {
     "name": "stdout",
     "output_type": "stream",
     "text": [
      " Training Loss:  0.5053253028510513  Validation Loss: 0.5350017350173637  Training Accuracy:  0.8302833333333334  Validation Accuracy: 0.8127\n"
     ]
    },
    {
     "data": {
      "text/html": [
       "Waiting for W&B process to finish... <strong style=\"color:green\">(success).</strong>"
      ],
      "text/plain": [
       "<IPython.core.display.HTML object>"
      ]
     },
     "metadata": {},
     "output_type": "display_data"
    },
    {
     "data": {
      "text/html": [
       "<style>\n",
       "    table.wandb td:nth-child(1) { padding: 0 10px; text-align: left ; width: auto;} td:nth-child(2) {text-align: left ; width: 100%}\n",
       "    .wandb-row { display: flex; flex-direction: row; flex-wrap: wrap; justify-content: flex-start; width: 100% }\n",
       "    .wandb-col { display: flex; flex-direction: column; flex-basis: 100%; flex: 1; padding: 10px; }\n",
       "    </style>\n",
       "<div class=\"wandb-row\"><div class=\"wandb-col\"><h3>Run history:</h3><br/><table class=\"wandb\"><tr><td>Accuracy</td><td>▁</td></tr><tr><td>Epoch</td><td>▁▂▃▃▄▅▆▆▇█</td></tr><tr><td>Training_accuracy</td><td>▁▆▇▇▇█████</td></tr><tr><td>Training_loss</td><td>█▃▂▁▁▁▁▁▁▁</td></tr><tr><td>Validation_accuracy</td><td>▁▄▅▄▄▅▆▇▇█</td></tr><tr><td>Validation_loss</td><td>█▄▄▄▃▃▃▂▂▁</td></tr></table><br/></div><div class=\"wandb-col\"><h3>Run summary:</h3><br/><table class=\"wandb\"><tr><td>Accuracy</td><td>0.8127</td></tr><tr><td>Epoch</td><td>10</td></tr><tr><td>Training_accuracy</td><td>0.83028</td></tr><tr><td>Training_loss</td><td>0.50533</td></tr><tr><td>Validation_accuracy</td><td>0.8127</td></tr><tr><td>Validation_loss</td><td>0.535</td></tr></table><br/></div></div>"
      ],
      "text/plain": [
       "<IPython.core.display.HTML object>"
      ]
     },
     "metadata": {},
     "output_type": "display_data"
    },
    {
     "data": {
      "text/html": [
       " View run <strong style=\"color:#cdcd00\">Question:4</strong> at: <a href='https://wandb.ai/cs22m083/CS6910_Assignment_1/runs/pbxtyb20' target=\"_blank\">https://wandb.ai/cs22m083/CS6910_Assignment_1/runs/pbxtyb20</a><br/>Synced 6 W&B file(s), 0 media file(s), 0 artifact file(s) and 0 other file(s)"
      ],
      "text/plain": [
       "<IPython.core.display.HTML object>"
      ]
     },
     "metadata": {},
     "output_type": "display_data"
    },
    {
     "data": {
      "text/html": [
       "Find logs at: <code>.\\wandb\\run-20230317_183210-pbxtyb20\\logs</code>"
      ],
      "text/plain": [
       "<IPython.core.display.HTML object>"
      ]
     },
     "metadata": {},
     "output_type": "display_data"
    },
    {
     "name": "stderr",
     "output_type": "stream",
     "text": [
      "\u001b[34m\u001b[1mwandb\u001b[0m: Sweep Agent: Waiting for job.\n",
      "\u001b[34m\u001b[1mwandb\u001b[0m: Job received.\n",
      "\u001b[34m\u001b[1mwandb\u001b[0m: Agent Starting Run: 46ayg84o with config:\n",
      "\u001b[34m\u001b[1mwandb\u001b[0m: \tactivation: tanh\n",
      "\u001b[34m\u001b[1mwandb\u001b[0m: \tbatch_size: 32\n",
      "\u001b[34m\u001b[1mwandb\u001b[0m: \tepochs: 5\n",
      "\u001b[34m\u001b[1mwandb\u001b[0m: \tgamma: 0.0006\n",
      "\u001b[34m\u001b[1mwandb\u001b[0m: \thidden_layers: [32, 64]\n",
      "\u001b[34m\u001b[1mwandb\u001b[0m: \tinitialization: Xavier\n",
      "\u001b[34m\u001b[1mwandb\u001b[0m: \tlearning_rate: 0.0005\n",
      "\u001b[34m\u001b[1mwandb\u001b[0m: \toptimizer: sgd\n",
      "\u001b[34m\u001b[1mwandb\u001b[0m: \tweight_decay: 0.5\n",
      "Failed to detect the name of this notebook, you can set it manually with the WANDB_NOTEBOOK_NAME environment variable to enable code saving.\n",
      "\u001b[34m\u001b[1mwandb\u001b[0m: \u001b[33mWARNING\u001b[0m Ignored wandb.init() arg project when running a sweep.\n"
     ]
    },
    {
     "data": {
      "text/html": [
       "wandb version 0.14.0 is available!  To upgrade, please run:\n",
       " $ pip install wandb --upgrade"
      ],
      "text/plain": [
       "<IPython.core.display.HTML object>"
      ]
     },
     "metadata": {},
     "output_type": "display_data"
    },
    {
     "data": {
      "text/html": [
       "Tracking run with wandb version 0.13.10"
      ],
      "text/plain": [
       "<IPython.core.display.HTML object>"
      ]
     },
     "metadata": {},
     "output_type": "display_data"
    },
    {
     "data": {
      "text/html": [
       "Run data is saved locally in <code>C:\\Users\\Shivam Maurya\\OneDrive\\Desktop\\IIT_MADRAS\\Deep Learning\\assignment 1\\CS6910-Deep_Learning_Assignment-1\\wandb\\run-20230317_183454-46ayg84o</code>"
      ],
      "text/plain": [
       "<IPython.core.display.HTML object>"
      ]
     },
     "metadata": {},
     "output_type": "display_data"
    },
    {
     "data": {
      "text/html": [
       "Syncing run <strong><a href='https://wandb.ai/cs22m083/CS6910_Assignment_1/runs/46ayg84o' target=\"_blank\">Question:4</a></strong> to <a href='https://wandb.ai/cs22m083/CS6910_Assignment_1' target=\"_blank\">Weights & Biases</a> (<a href='https://wandb.me/run' target=\"_blank\">docs</a>)<br/>Sweep page: <a href='https://wandb.ai/cs22m083/CS6910_Assignment_1/sweeps/cezmcy51' target=\"_blank\">https://wandb.ai/cs22m083/CS6910_Assignment_1/sweeps/cezmcy51</a>"
      ],
      "text/plain": [
       "<IPython.core.display.HTML object>"
      ]
     },
     "metadata": {},
     "output_type": "display_data"
    },
    {
     "data": {
      "text/html": [
       " View project at <a href='https://wandb.ai/cs22m083/CS6910_Assignment_1' target=\"_blank\">https://wandb.ai/cs22m083/CS6910_Assignment_1</a>"
      ],
      "text/plain": [
       "<IPython.core.display.HTML object>"
      ]
     },
     "metadata": {},
     "output_type": "display_data"
    },
    {
     "data": {
      "text/html": [
       " View sweep at <a href='https://wandb.ai/cs22m083/CS6910_Assignment_1/sweeps/cezmcy51' target=\"_blank\">https://wandb.ai/cs22m083/CS6910_Assignment_1/sweeps/cezmcy51</a>"
      ],
      "text/plain": [
       "<IPython.core.display.HTML object>"
      ]
     },
     "metadata": {},
     "output_type": "display_data"
    },
    {
     "data": {
      "text/html": [
       " View run at <a href='https://wandb.ai/cs22m083/CS6910_Assignment_1/runs/46ayg84o' target=\"_blank\">https://wandb.ai/cs22m083/CS6910_Assignment_1/runs/46ayg84o</a>"
      ],
      "text/plain": [
       "<IPython.core.display.HTML object>"
      ]
     },
     "metadata": {},
     "output_type": "display_data"
    },
    {
     "name": "stdout",
     "output_type": "stream",
     "text": [
      " Training Loss:  0.5216499192928479  Validation Loss: 0.5399653820406457  Training Accuracy:  0.8308  Validation Accuracy: 0.8212\n"
     ]
    },
    {
     "data": {
      "text/html": [
       "Waiting for W&B process to finish... <strong style=\"color:green\">(success).</strong>"
      ],
      "text/plain": [
       "<IPython.core.display.HTML object>"
      ]
     },
     "metadata": {},
     "output_type": "display_data"
    },
    {
     "data": {
      "application/vnd.jupyter.widget-view+json": {
       "model_id": "a711f882c0214a5a8275873fe7ae8e2a",
       "version_major": 2,
       "version_minor": 0
      },
      "text/plain": [
       "VBox(children=(Label(value='0.001 MB of 0.001 MB uploaded (0.000 MB deduped)\\r'), FloatProgress(value=1.0, max…"
      ]
     },
     "metadata": {},
     "output_type": "display_data"
    },
    {
     "data": {
      "text/html": [
       "<style>\n",
       "    table.wandb td:nth-child(1) { padding: 0 10px; text-align: left ; width: auto;} td:nth-child(2) {text-align: left ; width: 100%}\n",
       "    .wandb-row { display: flex; flex-direction: row; flex-wrap: wrap; justify-content: flex-start; width: 100% }\n",
       "    .wandb-col { display: flex; flex-direction: column; flex-basis: 100%; flex: 1; padding: 10px; }\n",
       "    </style>\n",
       "<div class=\"wandb-row\"><div class=\"wandb-col\"><h3>Run history:</h3><br/><table class=\"wandb\"><tr><td>Accuracy</td><td>▁</td></tr><tr><td>Epoch</td><td>▁▃▅▆█</td></tr><tr><td>Training_accuracy</td><td>▁▇███</td></tr><tr><td>Training_loss</td><td>█▂▁▁▁</td></tr><tr><td>Validation_accuracy</td><td>▁▆▇██</td></tr><tr><td>Validation_loss</td><td>█▃▂▁▁</td></tr></table><br/></div><div class=\"wandb-col\"><h3>Run summary:</h3><br/><table class=\"wandb\"><tr><td>Accuracy</td><td>0.8212</td></tr><tr><td>Epoch</td><td>5</td></tr><tr><td>Training_accuracy</td><td>0.8308</td></tr><tr><td>Training_loss</td><td>0.52165</td></tr><tr><td>Validation_accuracy</td><td>0.8212</td></tr><tr><td>Validation_loss</td><td>0.53997</td></tr></table><br/></div></div>"
      ],
      "text/plain": [
       "<IPython.core.display.HTML object>"
      ]
     },
     "metadata": {},
     "output_type": "display_data"
    },
    {
     "data": {
      "text/html": [
       " View run <strong style=\"color:#cdcd00\">Question:4</strong> at: <a href='https://wandb.ai/cs22m083/CS6910_Assignment_1/runs/46ayg84o' target=\"_blank\">https://wandb.ai/cs22m083/CS6910_Assignment_1/runs/46ayg84o</a><br/>Synced 6 W&B file(s), 0 media file(s), 0 artifact file(s) and 0 other file(s)"
      ],
      "text/plain": [
       "<IPython.core.display.HTML object>"
      ]
     },
     "metadata": {},
     "output_type": "display_data"
    },
    {
     "data": {
      "text/html": [
       "Find logs at: <code>.\\wandb\\run-20230317_183454-46ayg84o\\logs</code>"
      ],
      "text/plain": [
       "<IPython.core.display.HTML object>"
      ]
     },
     "metadata": {},
     "output_type": "display_data"
    },
    {
     "name": "stderr",
     "output_type": "stream",
     "text": [
      "\u001b[34m\u001b[1mwandb\u001b[0m: Agent Starting Run: 4abstb33 with config:\n",
      "\u001b[34m\u001b[1mwandb\u001b[0m: \tactivation: sigmoid\n",
      "\u001b[34m\u001b[1mwandb\u001b[0m: \tbatch_size: 64\n",
      "\u001b[34m\u001b[1mwandb\u001b[0m: \tepochs: 5\n",
      "\u001b[34m\u001b[1mwandb\u001b[0m: \tgamma: 0.002\n",
      "\u001b[34m\u001b[1mwandb\u001b[0m: \thidden_layers: [32, 64, 128, 256]\n",
      "\u001b[34m\u001b[1mwandb\u001b[0m: \tinitialization: Xavier\n",
      "\u001b[34m\u001b[1mwandb\u001b[0m: \tlearning_rate: 0.01\n",
      "\u001b[34m\u001b[1mwandb\u001b[0m: \toptimizer: rmsprop\n",
      "\u001b[34m\u001b[1mwandb\u001b[0m: \tweight_decay: 0.5\n",
      "Failed to detect the name of this notebook, you can set it manually with the WANDB_NOTEBOOK_NAME environment variable to enable code saving.\n",
      "\u001b[34m\u001b[1mwandb\u001b[0m: \u001b[33mWARNING\u001b[0m Ignored wandb.init() arg project when running a sweep.\n"
     ]
    },
    {
     "data": {
      "text/html": [
       "wandb version 0.14.0 is available!  To upgrade, please run:\n",
       " $ pip install wandb --upgrade"
      ],
      "text/plain": [
       "<IPython.core.display.HTML object>"
      ]
     },
     "metadata": {},
     "output_type": "display_data"
    },
    {
     "data": {
      "text/html": [
       "Tracking run with wandb version 0.13.10"
      ],
      "text/plain": [
       "<IPython.core.display.HTML object>"
      ]
     },
     "metadata": {},
     "output_type": "display_data"
    },
    {
     "data": {
      "text/html": [
       "Run data is saved locally in <code>C:\\Users\\Shivam Maurya\\OneDrive\\Desktop\\IIT_MADRAS\\Deep Learning\\assignment 1\\CS6910-Deep_Learning_Assignment-1\\wandb\\run-20230317_183616-4abstb33</code>"
      ],
      "text/plain": [
       "<IPython.core.display.HTML object>"
      ]
     },
     "metadata": {},
     "output_type": "display_data"
    },
    {
     "data": {
      "text/html": [
       "Syncing run <strong><a href='https://wandb.ai/cs22m083/CS6910_Assignment_1/runs/4abstb33' target=\"_blank\">Question:4</a></strong> to <a href='https://wandb.ai/cs22m083/CS6910_Assignment_1' target=\"_blank\">Weights & Biases</a> (<a href='https://wandb.me/run' target=\"_blank\">docs</a>)<br/>Sweep page: <a href='https://wandb.ai/cs22m083/CS6910_Assignment_1/sweeps/cezmcy51' target=\"_blank\">https://wandb.ai/cs22m083/CS6910_Assignment_1/sweeps/cezmcy51</a>"
      ],
      "text/plain": [
       "<IPython.core.display.HTML object>"
      ]
     },
     "metadata": {},
     "output_type": "display_data"
    },
    {
     "data": {
      "text/html": [
       " View project at <a href='https://wandb.ai/cs22m083/CS6910_Assignment_1' target=\"_blank\">https://wandb.ai/cs22m083/CS6910_Assignment_1</a>"
      ],
      "text/plain": [
       "<IPython.core.display.HTML object>"
      ]
     },
     "metadata": {},
     "output_type": "display_data"
    },
    {
     "data": {
      "text/html": [
       " View sweep at <a href='https://wandb.ai/cs22m083/CS6910_Assignment_1/sweeps/cezmcy51' target=\"_blank\">https://wandb.ai/cs22m083/CS6910_Assignment_1/sweeps/cezmcy51</a>"
      ],
      "text/plain": [
       "<IPython.core.display.HTML object>"
      ]
     },
     "metadata": {},
     "output_type": "display_data"
    },
    {
     "data": {
      "text/html": [
       " View run at <a href='https://wandb.ai/cs22m083/CS6910_Assignment_1/runs/4abstb33' target=\"_blank\">https://wandb.ai/cs22m083/CS6910_Assignment_1/runs/4abstb33</a>"
      ],
      "text/plain": [
       "<IPython.core.display.HTML object>"
      ]
     },
     "metadata": {},
     "output_type": "display_data"
    },
    {
     "name": "stdout",
     "output_type": "stream",
     "text": [
      " Training Loss:  2.3040098215828246  Validation Loss: 2.3038323201113866  Training Accuracy:  0.09781666666666666  Validation Accuracy: 0.1\n"
     ]
    },
    {
     "data": {
      "text/html": [
       "Waiting for W&B process to finish... <strong style=\"color:green\">(success).</strong>"
      ],
      "text/plain": [
       "<IPython.core.display.HTML object>"
      ]
     },
     "metadata": {},
     "output_type": "display_data"
    },
    {
     "data": {
      "text/html": [
       "<style>\n",
       "    table.wandb td:nth-child(1) { padding: 0 10px; text-align: left ; width: auto;} td:nth-child(2) {text-align: left ; width: 100%}\n",
       "    .wandb-row { display: flex; flex-direction: row; flex-wrap: wrap; justify-content: flex-start; width: 100% }\n",
       "    .wandb-col { display: flex; flex-direction: column; flex-basis: 100%; flex: 1; padding: 10px; }\n",
       "    </style>\n",
       "<div class=\"wandb-row\"><div class=\"wandb-col\"><h3>Run history:</h3><br/><table class=\"wandb\"><tr><td>Accuracy</td><td>▁</td></tr><tr><td>Epoch</td><td>▁▃▅▆█</td></tr><tr><td>Training_accuracy</td><td>█▆▂▁▂</td></tr><tr><td>Training_loss</td><td>█▁▁▁▁</td></tr><tr><td>Validation_accuracy</td><td>▁▁▁▁▁</td></tr><tr><td>Validation_loss</td><td>█▂▁▁▁</td></tr></table><br/></div><div class=\"wandb-col\"><h3>Run summary:</h3><br/><table class=\"wandb\"><tr><td>Accuracy</td><td>0.1</td></tr><tr><td>Epoch</td><td>5</td></tr><tr><td>Training_accuracy</td><td>0.09782</td></tr><tr><td>Training_loss</td><td>2.30401</td></tr><tr><td>Validation_accuracy</td><td>0.1</td></tr><tr><td>Validation_loss</td><td>2.30383</td></tr></table><br/></div></div>"
      ],
      "text/plain": [
       "<IPython.core.display.HTML object>"
      ]
     },
     "metadata": {},
     "output_type": "display_data"
    },
    {
     "data": {
      "text/html": [
       " View run <strong style=\"color:#cdcd00\">Question:4</strong> at: <a href='https://wandb.ai/cs22m083/CS6910_Assignment_1/runs/4abstb33' target=\"_blank\">https://wandb.ai/cs22m083/CS6910_Assignment_1/runs/4abstb33</a><br/>Synced 6 W&B file(s), 0 media file(s), 0 artifact file(s) and 0 other file(s)"
      ],
      "text/plain": [
       "<IPython.core.display.HTML object>"
      ]
     },
     "metadata": {},
     "output_type": "display_data"
    },
    {
     "data": {
      "text/html": [
       "Find logs at: <code>.\\wandb\\run-20230317_183616-4abstb33\\logs</code>"
      ],
      "text/plain": [
       "<IPython.core.display.HTML object>"
      ]
     },
     "metadata": {},
     "output_type": "display_data"
    },
    {
     "name": "stderr",
     "output_type": "stream",
     "text": [
      "\u001b[34m\u001b[1mwandb\u001b[0m: Agent Starting Run: j1z1zxhw with config:\n",
      "\u001b[34m\u001b[1mwandb\u001b[0m: \tactivation: relu\n",
      "\u001b[34m\u001b[1mwandb\u001b[0m: \tbatch_size: 16\n",
      "\u001b[34m\u001b[1mwandb\u001b[0m: \tepochs: 5\n",
      "\u001b[34m\u001b[1mwandb\u001b[0m: \tgamma: 0.03\n",
      "\u001b[34m\u001b[1mwandb\u001b[0m: \thidden_layers: [32, 64, 128]\n",
      "\u001b[34m\u001b[1mwandb\u001b[0m: \tinitialization: Random\n",
      "\u001b[34m\u001b[1mwandb\u001b[0m: \tlearning_rate: 0.01\n",
      "\u001b[34m\u001b[1mwandb\u001b[0m: \toptimizer: sgd\n",
      "\u001b[34m\u001b[1mwandb\u001b[0m: \tweight_decay: 0\n",
      "Failed to detect the name of this notebook, you can set it manually with the WANDB_NOTEBOOK_NAME environment variable to enable code saving.\n",
      "\u001b[34m\u001b[1mwandb\u001b[0m: \u001b[33mWARNING\u001b[0m Ignored wandb.init() arg project when running a sweep.\n"
     ]
    },
    {
     "data": {
      "text/html": [
       "wandb version 0.14.0 is available!  To upgrade, please run:\n",
       " $ pip install wandb --upgrade"
      ],
      "text/plain": [
       "<IPython.core.display.HTML object>"
      ]
     },
     "metadata": {},
     "output_type": "display_data"
    },
    {
     "data": {
      "text/html": [
       "Tracking run with wandb version 0.13.10"
      ],
      "text/plain": [
       "<IPython.core.display.HTML object>"
      ]
     },
     "metadata": {},
     "output_type": "display_data"
    },
    {
     "data": {
      "text/html": [
       "Run data is saved locally in <code>C:\\Users\\Shivam Maurya\\OneDrive\\Desktop\\IIT_MADRAS\\Deep Learning\\assignment 1\\CS6910-Deep_Learning_Assignment-1\\wandb\\run-20230317_183850-j1z1zxhw</code>"
      ],
      "text/plain": [
       "<IPython.core.display.HTML object>"
      ]
     },
     "metadata": {},
     "output_type": "display_data"
    },
    {
     "data": {
      "text/html": [
       "Syncing run <strong><a href='https://wandb.ai/cs22m083/CS6910_Assignment_1/runs/j1z1zxhw' target=\"_blank\">Question:4</a></strong> to <a href='https://wandb.ai/cs22m083/CS6910_Assignment_1' target=\"_blank\">Weights & Biases</a> (<a href='https://wandb.me/run' target=\"_blank\">docs</a>)<br/>Sweep page: <a href='https://wandb.ai/cs22m083/CS6910_Assignment_1/sweeps/cezmcy51' target=\"_blank\">https://wandb.ai/cs22m083/CS6910_Assignment_1/sweeps/cezmcy51</a>"
      ],
      "text/plain": [
       "<IPython.core.display.HTML object>"
      ]
     },
     "metadata": {},
     "output_type": "display_data"
    },
    {
     "data": {
      "text/html": [
       " View project at <a href='https://wandb.ai/cs22m083/CS6910_Assignment_1' target=\"_blank\">https://wandb.ai/cs22m083/CS6910_Assignment_1</a>"
      ],
      "text/plain": [
       "<IPython.core.display.HTML object>"
      ]
     },
     "metadata": {},
     "output_type": "display_data"
    },
    {
     "data": {
      "text/html": [
       " View sweep at <a href='https://wandb.ai/cs22m083/CS6910_Assignment_1/sweeps/cezmcy51' target=\"_blank\">https://wandb.ai/cs22m083/CS6910_Assignment_1/sweeps/cezmcy51</a>"
      ],
      "text/plain": [
       "<IPython.core.display.HTML object>"
      ]
     },
     "metadata": {},
     "output_type": "display_data"
    },
    {
     "data": {
      "text/html": [
       " View run at <a href='https://wandb.ai/cs22m083/CS6910_Assignment_1/runs/j1z1zxhw' target=\"_blank\">https://wandb.ai/cs22m083/CS6910_Assignment_1/runs/j1z1zxhw</a>"
      ],
      "text/plain": [
       "<IPython.core.display.HTML object>"
      ]
     },
     "metadata": {},
     "output_type": "display_data"
    },
    {
     "name": "stderr",
     "output_type": "stream",
     "text": [
      "C:\\Users\\Shivam Maurya\\AppData\\Local\\Temp\\ipykernel_8020\\2821308850.py:10: RuntimeWarning: overflow encountered in exp\n",
      "  exponentials = np.exp(X) # softmax function\n",
      "C:\\Users\\Shivam Maurya\\AppData\\Local\\Temp\\ipykernel_8020\\2821308850.py:11: RuntimeWarning: invalid value encountered in true_divide\n",
      "  return exponentials / np.sum(exponentials)\n"
     ]
    },
    {
     "name": "stdout",
     "output_type": "stream",
     "text": [
      " Training Loss:  nan  Validation Loss: nan  Training Accuracy:  0.1  Validation Accuracy: 0.1\n"
     ]
    },
    {
     "data": {
      "text/html": [
       "Waiting for W&B process to finish... <strong style=\"color:green\">(success).</strong>"
      ],
      "text/plain": [
       "<IPython.core.display.HTML object>"
      ]
     },
     "metadata": {},
     "output_type": "display_data"
    },
    {
     "data": {
      "application/vnd.jupyter.widget-view+json": {
       "model_id": "7ff316514d9b4c61880c39e43bbb90d7",
       "version_major": 2,
       "version_minor": 0
      },
      "text/plain": [
       "VBox(children=(Label(value='0.001 MB of 0.001 MB uploaded (0.000 MB deduped)\\r'), FloatProgress(value=1.0, max…"
      ]
     },
     "metadata": {},
     "output_type": "display_data"
    },
    {
     "data": {
      "text/html": [
       "<style>\n",
       "    table.wandb td:nth-child(1) { padding: 0 10px; text-align: left ; width: auto;} td:nth-child(2) {text-align: left ; width: 100%}\n",
       "    .wandb-row { display: flex; flex-direction: row; flex-wrap: wrap; justify-content: flex-start; width: 100% }\n",
       "    .wandb-col { display: flex; flex-direction: column; flex-basis: 100%; flex: 1; padding: 10px; }\n",
       "    </style>\n",
       "<div class=\"wandb-row\"><div class=\"wandb-col\"><h3>Run history:</h3><br/><table class=\"wandb\"><tr><td>Accuracy</td><td>▁</td></tr><tr><td>Epoch</td><td>▁▃▅▆█</td></tr><tr><td>Training_accuracy</td><td>▁▁▁▁▁</td></tr><tr><td>Validation_accuracy</td><td>▁▁▁▁▁</td></tr></table><br/></div><div class=\"wandb-col\"><h3>Run summary:</h3><br/><table class=\"wandb\"><tr><td>Accuracy</td><td>0.1</td></tr><tr><td>Epoch</td><td>5</td></tr><tr><td>Training_accuracy</td><td>0.1</td></tr><tr><td>Training_loss</td><td>nan</td></tr><tr><td>Validation_accuracy</td><td>0.1</td></tr><tr><td>Validation_loss</td><td>nan</td></tr></table><br/></div></div>"
      ],
      "text/plain": [
       "<IPython.core.display.HTML object>"
      ]
     },
     "metadata": {},
     "output_type": "display_data"
    },
    {
     "data": {
      "text/html": [
       " View run <strong style=\"color:#cdcd00\">Question:4</strong> at: <a href='https://wandb.ai/cs22m083/CS6910_Assignment_1/runs/j1z1zxhw' target=\"_blank\">https://wandb.ai/cs22m083/CS6910_Assignment_1/runs/j1z1zxhw</a><br/>Synced 6 W&B file(s), 0 media file(s), 0 artifact file(s) and 0 other file(s)"
      ],
      "text/plain": [
       "<IPython.core.display.HTML object>"
      ]
     },
     "metadata": {},
     "output_type": "display_data"
    },
    {
     "data": {
      "text/html": [
       "Find logs at: <code>.\\wandb\\run-20230317_183850-j1z1zxhw\\logs</code>"
      ],
      "text/plain": [
       "<IPython.core.display.HTML object>"
      ]
     },
     "metadata": {},
     "output_type": "display_data"
    },
    {
     "name": "stderr",
     "output_type": "stream",
     "text": [
      "\u001b[34m\u001b[1mwandb\u001b[0m: Sweep Agent: Waiting for job.\n",
      "\u001b[34m\u001b[1mwandb\u001b[0m: Job received.\n",
      "\u001b[34m\u001b[1mwandb\u001b[0m: Agent Starting Run: 26agjhxn with config:\n",
      "\u001b[34m\u001b[1mwandb\u001b[0m: \tactivation: tanh\n",
      "\u001b[34m\u001b[1mwandb\u001b[0m: \tbatch_size: 16\n",
      "\u001b[34m\u001b[1mwandb\u001b[0m: \tepochs: 5\n",
      "\u001b[34m\u001b[1mwandb\u001b[0m: \tgamma: 0.0006\n",
      "\u001b[34m\u001b[1mwandb\u001b[0m: \thidden_layers: [32, 64, 128]\n",
      "\u001b[34m\u001b[1mwandb\u001b[0m: \tinitialization: Random\n",
      "\u001b[34m\u001b[1mwandb\u001b[0m: \tlearning_rate: 0.0001\n",
      "\u001b[34m\u001b[1mwandb\u001b[0m: \toptimizer: nag\n",
      "\u001b[34m\u001b[1mwandb\u001b[0m: \tweight_decay: 0.0005\n",
      "Failed to detect the name of this notebook, you can set it manually with the WANDB_NOTEBOOK_NAME environment variable to enable code saving.\n",
      "\u001b[34m\u001b[1mwandb\u001b[0m: \u001b[33mWARNING\u001b[0m Ignored wandb.init() arg project when running a sweep.\n"
     ]
    },
    {
     "data": {
      "text/html": [
       "wandb version 0.14.0 is available!  To upgrade, please run:\n",
       " $ pip install wandb --upgrade"
      ],
      "text/plain": [
       "<IPython.core.display.HTML object>"
      ]
     },
     "metadata": {},
     "output_type": "display_data"
    },
    {
     "data": {
      "text/html": [
       "Tracking run with wandb version 0.13.10"
      ],
      "text/plain": [
       "<IPython.core.display.HTML object>"
      ]
     },
     "metadata": {},
     "output_type": "display_data"
    },
    {
     "data": {
      "text/html": [
       "Run data is saved locally in <code>C:\\Users\\Shivam Maurya\\OneDrive\\Desktop\\IIT_MADRAS\\Deep Learning\\assignment 1\\CS6910-Deep_Learning_Assignment-1\\wandb\\run-20230317_184040-26agjhxn</code>"
      ],
      "text/plain": [
       "<IPython.core.display.HTML object>"
      ]
     },
     "metadata": {},
     "output_type": "display_data"
    },
    {
     "data": {
      "text/html": [
       "Syncing run <strong><a href='https://wandb.ai/cs22m083/CS6910_Assignment_1/runs/26agjhxn' target=\"_blank\">Question:4</a></strong> to <a href='https://wandb.ai/cs22m083/CS6910_Assignment_1' target=\"_blank\">Weights & Biases</a> (<a href='https://wandb.me/run' target=\"_blank\">docs</a>)<br/>Sweep page: <a href='https://wandb.ai/cs22m083/CS6910_Assignment_1/sweeps/cezmcy51' target=\"_blank\">https://wandb.ai/cs22m083/CS6910_Assignment_1/sweeps/cezmcy51</a>"
      ],
      "text/plain": [
       "<IPython.core.display.HTML object>"
      ]
     },
     "metadata": {},
     "output_type": "display_data"
    },
    {
     "data": {
      "text/html": [
       " View project at <a href='https://wandb.ai/cs22m083/CS6910_Assignment_1' target=\"_blank\">https://wandb.ai/cs22m083/CS6910_Assignment_1</a>"
      ],
      "text/plain": [
       "<IPython.core.display.HTML object>"
      ]
     },
     "metadata": {},
     "output_type": "display_data"
    },
    {
     "data": {
      "text/html": [
       " View sweep at <a href='https://wandb.ai/cs22m083/CS6910_Assignment_1/sweeps/cezmcy51' target=\"_blank\">https://wandb.ai/cs22m083/CS6910_Assignment_1/sweeps/cezmcy51</a>"
      ],
      "text/plain": [
       "<IPython.core.display.HTML object>"
      ]
     },
     "metadata": {},
     "output_type": "display_data"
    },
    {
     "data": {
      "text/html": [
       " View run at <a href='https://wandb.ai/cs22m083/CS6910_Assignment_1/runs/26agjhxn' target=\"_blank\">https://wandb.ai/cs22m083/CS6910_Assignment_1/runs/26agjhxn</a>"
      ],
      "text/plain": [
       "<IPython.core.display.HTML object>"
      ]
     },
     "metadata": {},
     "output_type": "display_data"
    },
    {
     "name": "stdout",
     "output_type": "stream",
     "text": [
      " Training Loss:  4.95344154653577  Validation Loss: 4.919696742251455  Training Accuracy:  0.37695  Validation Accuracy: 0.3734\n"
     ]
    },
    {
     "data": {
      "text/html": [
       "Waiting for W&B process to finish... <strong style=\"color:green\">(success).</strong>"
      ],
      "text/plain": [
       "<IPython.core.display.HTML object>"
      ]
     },
     "metadata": {},
     "output_type": "display_data"
    },
    {
     "data": {
      "text/html": [
       "<style>\n",
       "    table.wandb td:nth-child(1) { padding: 0 10px; text-align: left ; width: auto;} td:nth-child(2) {text-align: left ; width: 100%}\n",
       "    .wandb-row { display: flex; flex-direction: row; flex-wrap: wrap; justify-content: flex-start; width: 100% }\n",
       "    .wandb-col { display: flex; flex-direction: column; flex-basis: 100%; flex: 1; padding: 10px; }\n",
       "    </style>\n",
       "<div class=\"wandb-row\"><div class=\"wandb-col\"><h3>Run history:</h3><br/><table class=\"wandb\"><tr><td>Accuracy</td><td>▁</td></tr><tr><td>Epoch</td><td>▁▃▅▆█</td></tr><tr><td>Training_accuracy</td><td>▁▄▆▇█</td></tr><tr><td>Training_loss</td><td>█▄▂▁▁</td></tr><tr><td>Validation_accuracy</td><td>▁▄▆▇█</td></tr><tr><td>Validation_loss</td><td>█▄▃▂▁</td></tr></table><br/></div><div class=\"wandb-col\"><h3>Run summary:</h3><br/><table class=\"wandb\"><tr><td>Accuracy</td><td>0.3734</td></tr><tr><td>Epoch</td><td>5</td></tr><tr><td>Training_accuracy</td><td>0.37695</td></tr><tr><td>Training_loss</td><td>4.95344</td></tr><tr><td>Validation_accuracy</td><td>0.3734</td></tr><tr><td>Validation_loss</td><td>4.9197</td></tr></table><br/></div></div>"
      ],
      "text/plain": [
       "<IPython.core.display.HTML object>"
      ]
     },
     "metadata": {},
     "output_type": "display_data"
    },
    {
     "data": {
      "text/html": [
       " View run <strong style=\"color:#cdcd00\">Question:4</strong> at: <a href='https://wandb.ai/cs22m083/CS6910_Assignment_1/runs/26agjhxn' target=\"_blank\">https://wandb.ai/cs22m083/CS6910_Assignment_1/runs/26agjhxn</a><br/>Synced 6 W&B file(s), 0 media file(s), 0 artifact file(s) and 0 other file(s)"
      ],
      "text/plain": [
       "<IPython.core.display.HTML object>"
      ]
     },
     "metadata": {},
     "output_type": "display_data"
    },
    {
     "data": {
      "text/html": [
       "Find logs at: <code>.\\wandb\\run-20230317_184040-26agjhxn\\logs</code>"
      ],
      "text/plain": [
       "<IPython.core.display.HTML object>"
      ]
     },
     "metadata": {},
     "output_type": "display_data"
    },
    {
     "name": "stderr",
     "output_type": "stream",
     "text": [
      "\u001b[34m\u001b[1mwandb\u001b[0m: Agent Starting Run: zao8414z with config:\n",
      "\u001b[34m\u001b[1mwandb\u001b[0m: \tactivation: sigmoid\n",
      "\u001b[34m\u001b[1mwandb\u001b[0m: \tbatch_size: 32\n",
      "\u001b[34m\u001b[1mwandb\u001b[0m: \tepochs: 5\n",
      "\u001b[34m\u001b[1mwandb\u001b[0m: \tgamma: 0.0006\n",
      "\u001b[34m\u001b[1mwandb\u001b[0m: \thidden_layers: [32, 64]\n",
      "\u001b[34m\u001b[1mwandb\u001b[0m: \tinitialization: Xavier\n",
      "\u001b[34m\u001b[1mwandb\u001b[0m: \tlearning_rate: 0.0003\n",
      "\u001b[34m\u001b[1mwandb\u001b[0m: \toptimizer: momentum\n",
      "\u001b[34m\u001b[1mwandb\u001b[0m: \tweight_decay: 0\n",
      "Failed to detect the name of this notebook, you can set it manually with the WANDB_NOTEBOOK_NAME environment variable to enable code saving.\n",
      "\u001b[34m\u001b[1mwandb\u001b[0m: \u001b[33mWARNING\u001b[0m Ignored wandb.init() arg project when running a sweep.\n"
     ]
    },
    {
     "data": {
      "text/html": [
       "wandb version 0.14.0 is available!  To upgrade, please run:\n",
       " $ pip install wandb --upgrade"
      ],
      "text/plain": [
       "<IPython.core.display.HTML object>"
      ]
     },
     "metadata": {},
     "output_type": "display_data"
    },
    {
     "data": {
      "text/html": [
       "Tracking run with wandb version 0.13.10"
      ],
      "text/plain": [
       "<IPython.core.display.HTML object>"
      ]
     },
     "metadata": {},
     "output_type": "display_data"
    },
    {
     "data": {
      "text/html": [
       "Run data is saved locally in <code>C:\\Users\\Shivam Maurya\\OneDrive\\Desktop\\IIT_MADRAS\\Deep Learning\\assignment 1\\CS6910-Deep_Learning_Assignment-1\\wandb\\run-20230317_184234-zao8414z</code>"
      ],
      "text/plain": [
       "<IPython.core.display.HTML object>"
      ]
     },
     "metadata": {},
     "output_type": "display_data"
    },
    {
     "data": {
      "text/html": [
       "Syncing run <strong><a href='https://wandb.ai/cs22m083/CS6910_Assignment_1/runs/zao8414z' target=\"_blank\">Question:4</a></strong> to <a href='https://wandb.ai/cs22m083/CS6910_Assignment_1' target=\"_blank\">Weights & Biases</a> (<a href='https://wandb.me/run' target=\"_blank\">docs</a>)<br/>Sweep page: <a href='https://wandb.ai/cs22m083/CS6910_Assignment_1/sweeps/cezmcy51' target=\"_blank\">https://wandb.ai/cs22m083/CS6910_Assignment_1/sweeps/cezmcy51</a>"
      ],
      "text/plain": [
       "<IPython.core.display.HTML object>"
      ]
     },
     "metadata": {},
     "output_type": "display_data"
    },
    {
     "data": {
      "text/html": [
       " View project at <a href='https://wandb.ai/cs22m083/CS6910_Assignment_1' target=\"_blank\">https://wandb.ai/cs22m083/CS6910_Assignment_1</a>"
      ],
      "text/plain": [
       "<IPython.core.display.HTML object>"
      ]
     },
     "metadata": {},
     "output_type": "display_data"
    },
    {
     "data": {
      "text/html": [
       " View sweep at <a href='https://wandb.ai/cs22m083/CS6910_Assignment_1/sweeps/cezmcy51' target=\"_blank\">https://wandb.ai/cs22m083/CS6910_Assignment_1/sweeps/cezmcy51</a>"
      ],
      "text/plain": [
       "<IPython.core.display.HTML object>"
      ]
     },
     "metadata": {},
     "output_type": "display_data"
    },
    {
     "data": {
      "text/html": [
       " View run at <a href='https://wandb.ai/cs22m083/CS6910_Assignment_1/runs/zao8414z' target=\"_blank\">https://wandb.ai/cs22m083/CS6910_Assignment_1/runs/zao8414z</a>"
      ],
      "text/plain": [
       "<IPython.core.display.HTML object>"
      ]
     },
     "metadata": {},
     "output_type": "display_data"
    },
    {
     "name": "stdout",
     "output_type": "stream",
     "text": [
      " Training Loss:  0.926817443573174  Validation Loss: 0.8893627290121953  Training Accuracy:  0.6776166666666666  Validation Accuracy: 0.6923\n"
     ]
    },
    {
     "data": {
      "text/html": [
       "Waiting for W&B process to finish... <strong style=\"color:green\">(success).</strong>"
      ],
      "text/plain": [
       "<IPython.core.display.HTML object>"
      ]
     },
     "metadata": {},
     "output_type": "display_data"
    },
    {
     "data": {
      "application/vnd.jupyter.widget-view+json": {
       "model_id": "db75f114aa7040a0b63cac736e4fc38b",
       "version_major": 2,
       "version_minor": 0
      },
      "text/plain": [
       "VBox(children=(Label(value='0.001 MB of 0.001 MB uploaded (0.000 MB deduped)\\r'), FloatProgress(value=1.0, max…"
      ]
     },
     "metadata": {},
     "output_type": "display_data"
    },
    {
     "data": {
      "text/html": [
       "<style>\n",
       "    table.wandb td:nth-child(1) { padding: 0 10px; text-align: left ; width: auto;} td:nth-child(2) {text-align: left ; width: 100%}\n",
       "    .wandb-row { display: flex; flex-direction: row; flex-wrap: wrap; justify-content: flex-start; width: 100% }\n",
       "    .wandb-col { display: flex; flex-direction: column; flex-basis: 100%; flex: 1; padding: 10px; }\n",
       "    </style>\n",
       "<div class=\"wandb-row\"><div class=\"wandb-col\"><h3>Run history:</h3><br/><table class=\"wandb\"><tr><td>Accuracy</td><td>▁</td></tr><tr><td>Epoch</td><td>▁▃▅▆█</td></tr><tr><td>Training_accuracy</td><td>▁▅▆▇█</td></tr><tr><td>Training_loss</td><td>█▅▃▂▁</td></tr><tr><td>Validation_accuracy</td><td>▁▂▄▆█</td></tr><tr><td>Validation_loss</td><td>█▅▃▂▁</td></tr></table><br/></div><div class=\"wandb-col\"><h3>Run summary:</h3><br/><table class=\"wandb\"><tr><td>Accuracy</td><td>0.6923</td></tr><tr><td>Epoch</td><td>5</td></tr><tr><td>Training_accuracy</td><td>0.67762</td></tr><tr><td>Training_loss</td><td>0.92682</td></tr><tr><td>Validation_accuracy</td><td>0.6923</td></tr><tr><td>Validation_loss</td><td>0.88936</td></tr></table><br/></div></div>"
      ],
      "text/plain": [
       "<IPython.core.display.HTML object>"
      ]
     },
     "metadata": {},
     "output_type": "display_data"
    },
    {
     "data": {
      "text/html": [
       " View run <strong style=\"color:#cdcd00\">Question:4</strong> at: <a href='https://wandb.ai/cs22m083/CS6910_Assignment_1/runs/zao8414z' target=\"_blank\">https://wandb.ai/cs22m083/CS6910_Assignment_1/runs/zao8414z</a><br/>Synced 6 W&B file(s), 0 media file(s), 0 artifact file(s) and 0 other file(s)"
      ],
      "text/plain": [
       "<IPython.core.display.HTML object>"
      ]
     },
     "metadata": {},
     "output_type": "display_data"
    },
    {
     "data": {
      "text/html": [
       "Find logs at: <code>.\\wandb\\run-20230317_184234-zao8414z\\logs</code>"
      ],
      "text/plain": [
       "<IPython.core.display.HTML object>"
      ]
     },
     "metadata": {},
     "output_type": "display_data"
    },
    {
     "name": "stderr",
     "output_type": "stream",
     "text": [
      "\u001b[34m\u001b[1mwandb\u001b[0m: Agent Starting Run: 748eqm80 with config:\n",
      "\u001b[34m\u001b[1mwandb\u001b[0m: \tactivation: relu\n",
      "\u001b[34m\u001b[1mwandb\u001b[0m: \tbatch_size: 32\n",
      "\u001b[34m\u001b[1mwandb\u001b[0m: \tepochs: 10\n",
      "\u001b[34m\u001b[1mwandb\u001b[0m: \tgamma: 0.03\n",
      "\u001b[34m\u001b[1mwandb\u001b[0m: \thidden_layers: [32, 64, 128, 256]\n",
      "\u001b[34m\u001b[1mwandb\u001b[0m: \tinitialization: Random\n",
      "\u001b[34m\u001b[1mwandb\u001b[0m: \tlearning_rate: 0.005\n",
      "\u001b[34m\u001b[1mwandb\u001b[0m: \toptimizer: nadam\n",
      "\u001b[34m\u001b[1mwandb\u001b[0m: \tweight_decay: 0.0005\n",
      "Failed to detect the name of this notebook, you can set it manually with the WANDB_NOTEBOOK_NAME environment variable to enable code saving.\n",
      "\u001b[34m\u001b[1mwandb\u001b[0m: \u001b[33mWARNING\u001b[0m Ignored wandb.init() arg project when running a sweep.\n"
     ]
    },
    {
     "data": {
      "text/html": [
       "wandb version 0.14.0 is available!  To upgrade, please run:\n",
       " $ pip install wandb --upgrade"
      ],
      "text/plain": [
       "<IPython.core.display.HTML object>"
      ]
     },
     "metadata": {},
     "output_type": "display_data"
    },
    {
     "data": {
      "text/html": [
       "Tracking run with wandb version 0.13.10"
      ],
      "text/plain": [
       "<IPython.core.display.HTML object>"
      ]
     },
     "metadata": {},
     "output_type": "display_data"
    },
    {
     "data": {
      "text/html": [
       "Run data is saved locally in <code>C:\\Users\\Shivam Maurya\\OneDrive\\Desktop\\IIT_MADRAS\\Deep Learning\\assignment 1\\CS6910-Deep_Learning_Assignment-1\\wandb\\run-20230317_184404-748eqm80</code>"
      ],
      "text/plain": [
       "<IPython.core.display.HTML object>"
      ]
     },
     "metadata": {},
     "output_type": "display_data"
    },
    {
     "data": {
      "text/html": [
       "Syncing run <strong><a href='https://wandb.ai/cs22m083/CS6910_Assignment_1/runs/748eqm80' target=\"_blank\">Question:4</a></strong> to <a href='https://wandb.ai/cs22m083/CS6910_Assignment_1' target=\"_blank\">Weights & Biases</a> (<a href='https://wandb.me/run' target=\"_blank\">docs</a>)<br/>Sweep page: <a href='https://wandb.ai/cs22m083/CS6910_Assignment_1/sweeps/cezmcy51' target=\"_blank\">https://wandb.ai/cs22m083/CS6910_Assignment_1/sweeps/cezmcy51</a>"
      ],
      "text/plain": [
       "<IPython.core.display.HTML object>"
      ]
     },
     "metadata": {},
     "output_type": "display_data"
    },
    {
     "data": {
      "text/html": [
       " View project at <a href='https://wandb.ai/cs22m083/CS6910_Assignment_1' target=\"_blank\">https://wandb.ai/cs22m083/CS6910_Assignment_1</a>"
      ],
      "text/plain": [
       "<IPython.core.display.HTML object>"
      ]
     },
     "metadata": {},
     "output_type": "display_data"
    },
    {
     "data": {
      "text/html": [
       " View sweep at <a href='https://wandb.ai/cs22m083/CS6910_Assignment_1/sweeps/cezmcy51' target=\"_blank\">https://wandb.ai/cs22m083/CS6910_Assignment_1/sweeps/cezmcy51</a>"
      ],
      "text/plain": [
       "<IPython.core.display.HTML object>"
      ]
     },
     "metadata": {},
     "output_type": "display_data"
    },
    {
     "data": {
      "text/html": [
       " View run at <a href='https://wandb.ai/cs22m083/CS6910_Assignment_1/runs/748eqm80' target=\"_blank\">https://wandb.ai/cs22m083/CS6910_Assignment_1/runs/748eqm80</a>"
      ],
      "text/plain": [
       "<IPython.core.display.HTML object>"
      ]
     },
     "metadata": {},
     "output_type": "display_data"
    },
    {
     "name": "stderr",
     "output_type": "stream",
     "text": [
      "C:\\Users\\Shivam Maurya\\AppData\\Local\\Temp\\ipykernel_8020\\2821308850.py:10: RuntimeWarning: overflow encountered in exp\n",
      "  exponentials = np.exp(X) # softmax function\n",
      "C:\\Users\\Shivam Maurya\\AppData\\Local\\Temp\\ipykernel_8020\\2821308850.py:11: RuntimeWarning: invalid value encountered in true_divide\n",
      "  return exponentials / np.sum(exponentials)\n"
     ]
    },
    {
     "data": {
      "text/html": [
       "Waiting for W&B process to finish... <strong style=\"color:red\">(failed 1).</strong> Press Ctrl-C to abort syncing."
      ],
      "text/plain": [
       "<IPython.core.display.HTML object>"
      ]
     },
     "metadata": {},
     "output_type": "display_data"
    },
    {
     "data": {
      "text/html": [
       " View run <strong style=\"color:#cdcd00\">Question:4</strong> at: <a href='https://wandb.ai/cs22m083/CS6910_Assignment_1/runs/748eqm80' target=\"_blank\">https://wandb.ai/cs22m083/CS6910_Assignment_1/runs/748eqm80</a><br/>Synced 6 W&B file(s), 0 media file(s), 0 artifact file(s) and 0 other file(s)"
      ],
      "text/plain": [
       "<IPython.core.display.HTML object>"
      ]
     },
     "metadata": {},
     "output_type": "display_data"
    },
    {
     "data": {
      "text/html": [
       "Find logs at: <code>.\\wandb\\run-20230317_184404-748eqm80\\logs</code>"
      ],
      "text/plain": [
       "<IPython.core.display.HTML object>"
      ]
     },
     "metadata": {},
     "output_type": "display_data"
    },
    {
     "name": "stderr",
     "output_type": "stream",
     "text": [
      "Run 748eqm80 errored: UnboundLocalError(\"local variable 'nadam_impl' referenced before assignment\")\n",
      "\u001b[34m\u001b[1mwandb\u001b[0m: \u001b[32m\u001b[41mERROR\u001b[0m Run 748eqm80 errored: UnboundLocalError(\"local variable 'nadam_impl' referenced before assignment\")\n",
      "\u001b[34m\u001b[1mwandb\u001b[0m: Agent Starting Run: c6glxf97 with config:\n",
      "\u001b[34m\u001b[1mwandb\u001b[0m: \tactivation: tanh\n",
      "\u001b[34m\u001b[1mwandb\u001b[0m: \tbatch_size: 64\n",
      "\u001b[34m\u001b[1mwandb\u001b[0m: \tepochs: 5\n",
      "\u001b[34m\u001b[1mwandb\u001b[0m: \tgamma: 0.002\n",
      "\u001b[34m\u001b[1mwandb\u001b[0m: \thidden_layers: [32, 64, 128, 256]\n",
      "\u001b[34m\u001b[1mwandb\u001b[0m: \tinitialization: Xavier\n",
      "\u001b[34m\u001b[1mwandb\u001b[0m: \tlearning_rate: 0.0003\n",
      "\u001b[34m\u001b[1mwandb\u001b[0m: \toptimizer: adam\n",
      "\u001b[34m\u001b[1mwandb\u001b[0m: \tweight_decay: 0.0005\n",
      "Failed to detect the name of this notebook, you can set it manually with the WANDB_NOTEBOOK_NAME environment variable to enable code saving.\n",
      "\u001b[34m\u001b[1mwandb\u001b[0m: \u001b[33mWARNING\u001b[0m Ignored wandb.init() arg project when running a sweep.\n"
     ]
    },
    {
     "data": {
      "text/html": [
       "wandb version 0.14.0 is available!  To upgrade, please run:\n",
       " $ pip install wandb --upgrade"
      ],
      "text/plain": [
       "<IPython.core.display.HTML object>"
      ]
     },
     "metadata": {},
     "output_type": "display_data"
    },
    {
     "data": {
      "text/html": [
       "Tracking run with wandb version 0.13.10"
      ],
      "text/plain": [
       "<IPython.core.display.HTML object>"
      ]
     },
     "metadata": {},
     "output_type": "display_data"
    },
    {
     "data": {
      "text/html": [
       "Run data is saved locally in <code>C:\\Users\\Shivam Maurya\\OneDrive\\Desktop\\IIT_MADRAS\\Deep Learning\\assignment 1\\CS6910-Deep_Learning_Assignment-1\\wandb\\run-20230317_184426-c6glxf97</code>"
      ],
      "text/plain": [
       "<IPython.core.display.HTML object>"
      ]
     },
     "metadata": {},
     "output_type": "display_data"
    },
    {
     "data": {
      "text/html": [
       "Syncing run <strong><a href='https://wandb.ai/cs22m083/CS6910_Assignment_1/runs/c6glxf97' target=\"_blank\">Question:4</a></strong> to <a href='https://wandb.ai/cs22m083/CS6910_Assignment_1' target=\"_blank\">Weights & Biases</a> (<a href='https://wandb.me/run' target=\"_blank\">docs</a>)<br/>Sweep page: <a href='https://wandb.ai/cs22m083/CS6910_Assignment_1/sweeps/cezmcy51' target=\"_blank\">https://wandb.ai/cs22m083/CS6910_Assignment_1/sweeps/cezmcy51</a>"
      ],
      "text/plain": [
       "<IPython.core.display.HTML object>"
      ]
     },
     "metadata": {},
     "output_type": "display_data"
    },
    {
     "data": {
      "text/html": [
       " View project at <a href='https://wandb.ai/cs22m083/CS6910_Assignment_1' target=\"_blank\">https://wandb.ai/cs22m083/CS6910_Assignment_1</a>"
      ],
      "text/plain": [
       "<IPython.core.display.HTML object>"
      ]
     },
     "metadata": {},
     "output_type": "display_data"
    },
    {
     "data": {
      "text/html": [
       " View sweep at <a href='https://wandb.ai/cs22m083/CS6910_Assignment_1/sweeps/cezmcy51' target=\"_blank\">https://wandb.ai/cs22m083/CS6910_Assignment_1/sweeps/cezmcy51</a>"
      ],
      "text/plain": [
       "<IPython.core.display.HTML object>"
      ]
     },
     "metadata": {},
     "output_type": "display_data"
    },
    {
     "data": {
      "text/html": [
       " View run at <a href='https://wandb.ai/cs22m083/CS6910_Assignment_1/runs/c6glxf97' target=\"_blank\">https://wandb.ai/cs22m083/CS6910_Assignment_1/runs/c6glxf97</a>"
      ],
      "text/plain": [
       "<IPython.core.display.HTML object>"
      ]
     },
     "metadata": {},
     "output_type": "display_data"
    },
    {
     "name": "stdout",
     "output_type": "stream",
     "text": [
      " Training Loss:  0.3464798838879446  Validation Loss: 0.38793862324452305  Training Accuracy:  0.8726  Validation Accuracy: 0.859\n"
     ]
    },
    {
     "data": {
      "text/html": [
       "Waiting for W&B process to finish... <strong style=\"color:green\">(success).</strong>"
      ],
      "text/plain": [
       "<IPython.core.display.HTML object>"
      ]
     },
     "metadata": {},
     "output_type": "display_data"
    },
    {
     "data": {
      "application/vnd.jupyter.widget-view+json": {
       "model_id": "256db2a2014842b39525be04fcf79466",
       "version_major": 2,
       "version_minor": 0
      },
      "text/plain": [
       "VBox(children=(Label(value='0.001 MB of 0.001 MB uploaded (0.000 MB deduped)\\r'), FloatProgress(value=1.0, max…"
      ]
     },
     "metadata": {},
     "output_type": "display_data"
    },
    {
     "data": {
      "text/html": [
       "<style>\n",
       "    table.wandb td:nth-child(1) { padding: 0 10px; text-align: left ; width: auto;} td:nth-child(2) {text-align: left ; width: 100%}\n",
       "    .wandb-row { display: flex; flex-direction: row; flex-wrap: wrap; justify-content: flex-start; width: 100% }\n",
       "    .wandb-col { display: flex; flex-direction: column; flex-basis: 100%; flex: 1; padding: 10px; }\n",
       "    </style>\n",
       "<div class=\"wandb-row\"><div class=\"wandb-col\"><h3>Run history:</h3><br/><table class=\"wandb\"><tr><td>Accuracy</td><td>▁</td></tr><tr><td>Epoch</td><td>▁▃▅▆█</td></tr><tr><td>Training_accuracy</td><td>▁▆▇██</td></tr><tr><td>Training_loss</td><td>█▃▂▁▁</td></tr><tr><td>Validation_accuracy</td><td>▁▄▆▇█</td></tr><tr><td>Validation_loss</td><td>█▅▃▂▁</td></tr></table><br/></div><div class=\"wandb-col\"><h3>Run summary:</h3><br/><table class=\"wandb\"><tr><td>Accuracy</td><td>0.859</td></tr><tr><td>Epoch</td><td>5</td></tr><tr><td>Training_accuracy</td><td>0.8726</td></tr><tr><td>Training_loss</td><td>0.34648</td></tr><tr><td>Validation_accuracy</td><td>0.859</td></tr><tr><td>Validation_loss</td><td>0.38794</td></tr></table><br/></div></div>"
      ],
      "text/plain": [
       "<IPython.core.display.HTML object>"
      ]
     },
     "metadata": {},
     "output_type": "display_data"
    },
    {
     "data": {
      "text/html": [
       " View run <strong style=\"color:#cdcd00\">Question:4</strong> at: <a href='https://wandb.ai/cs22m083/CS6910_Assignment_1/runs/c6glxf97' target=\"_blank\">https://wandb.ai/cs22m083/CS6910_Assignment_1/runs/c6glxf97</a><br/>Synced 6 W&B file(s), 0 media file(s), 0 artifact file(s) and 0 other file(s)"
      ],
      "text/plain": [
       "<IPython.core.display.HTML object>"
      ]
     },
     "metadata": {},
     "output_type": "display_data"
    },
    {
     "data": {
      "text/html": [
       "Find logs at: <code>.\\wandb\\run-20230317_184426-c6glxf97\\logs</code>"
      ],
      "text/plain": [
       "<IPython.core.display.HTML object>"
      ]
     },
     "metadata": {},
     "output_type": "display_data"
    },
    {
     "name": "stderr",
     "output_type": "stream",
     "text": [
      "\u001b[34m\u001b[1mwandb\u001b[0m: Agent Starting Run: 8d8yvu3g with config:\n",
      "\u001b[34m\u001b[1mwandb\u001b[0m: \tactivation: sigmoid\n",
      "\u001b[34m\u001b[1mwandb\u001b[0m: \tbatch_size: 32\n",
      "\u001b[34m\u001b[1mwandb\u001b[0m: \tepochs: 5\n",
      "\u001b[34m\u001b[1mwandb\u001b[0m: \tgamma: 0.03\n",
      "\u001b[34m\u001b[1mwandb\u001b[0m: \thidden_layers: [32, 64]\n",
      "\u001b[34m\u001b[1mwandb\u001b[0m: \tinitialization: Xavier\n",
      "\u001b[34m\u001b[1mwandb\u001b[0m: \tlearning_rate: 0.01\n",
      "\u001b[34m\u001b[1mwandb\u001b[0m: \toptimizer: momentum\n",
      "\u001b[34m\u001b[1mwandb\u001b[0m: \tweight_decay: 0.0005\n",
      "Failed to detect the name of this notebook, you can set it manually with the WANDB_NOTEBOOK_NAME environment variable to enable code saving.\n",
      "\u001b[34m\u001b[1mwandb\u001b[0m: \u001b[33mWARNING\u001b[0m Ignored wandb.init() arg project when running a sweep.\n"
     ]
    },
    {
     "data": {
      "text/html": [
       "wandb version 0.14.0 is available!  To upgrade, please run:\n",
       " $ pip install wandb --upgrade"
      ],
      "text/plain": [
       "<IPython.core.display.HTML object>"
      ]
     },
     "metadata": {},
     "output_type": "display_data"
    },
    {
     "data": {
      "text/html": [
       "Tracking run with wandb version 0.13.10"
      ],
      "text/plain": [
       "<IPython.core.display.HTML object>"
      ]
     },
     "metadata": {},
     "output_type": "display_data"
    },
    {
     "data": {
      "text/html": [
       "Run data is saved locally in <code>C:\\Users\\Shivam Maurya\\OneDrive\\Desktop\\IIT_MADRAS\\Deep Learning\\assignment 1\\CS6910-Deep_Learning_Assignment-1\\wandb\\run-20230317_184655-8d8yvu3g</code>"
      ],
      "text/plain": [
       "<IPython.core.display.HTML object>"
      ]
     },
     "metadata": {},
     "output_type": "display_data"
    },
    {
     "data": {
      "text/html": [
       "Syncing run <strong><a href='https://wandb.ai/cs22m083/CS6910_Assignment_1/runs/8d8yvu3g' target=\"_blank\">Question:4</a></strong> to <a href='https://wandb.ai/cs22m083/CS6910_Assignment_1' target=\"_blank\">Weights & Biases</a> (<a href='https://wandb.me/run' target=\"_blank\">docs</a>)<br/>Sweep page: <a href='https://wandb.ai/cs22m083/CS6910_Assignment_1/sweeps/cezmcy51' target=\"_blank\">https://wandb.ai/cs22m083/CS6910_Assignment_1/sweeps/cezmcy51</a>"
      ],
      "text/plain": [
       "<IPython.core.display.HTML object>"
      ]
     },
     "metadata": {},
     "output_type": "display_data"
    },
    {
     "data": {
      "text/html": [
       " View project at <a href='https://wandb.ai/cs22m083/CS6910_Assignment_1' target=\"_blank\">https://wandb.ai/cs22m083/CS6910_Assignment_1</a>"
      ],
      "text/plain": [
       "<IPython.core.display.HTML object>"
      ]
     },
     "metadata": {},
     "output_type": "display_data"
    },
    {
     "data": {
      "text/html": [
       " View sweep at <a href='https://wandb.ai/cs22m083/CS6910_Assignment_1/sweeps/cezmcy51' target=\"_blank\">https://wandb.ai/cs22m083/CS6910_Assignment_1/sweeps/cezmcy51</a>"
      ],
      "text/plain": [
       "<IPython.core.display.HTML object>"
      ]
     },
     "metadata": {},
     "output_type": "display_data"
    },
    {
     "data": {
      "text/html": [
       " View run at <a href='https://wandb.ai/cs22m083/CS6910_Assignment_1/runs/8d8yvu3g' target=\"_blank\">https://wandb.ai/cs22m083/CS6910_Assignment_1/runs/8d8yvu3g</a>"
      ],
      "text/plain": [
       "<IPython.core.display.HTML object>"
      ]
     },
     "metadata": {},
     "output_type": "display_data"
    },
    {
     "name": "stdout",
     "output_type": "stream",
     "text": [
      " Training Loss:  0.36155166231403957  Validation Loss: 0.4011075289328649  Training Accuracy:  0.8682666666666666  Validation Accuracy: 0.852\n"
     ]
    },
    {
     "data": {
      "text/html": [
       "Waiting for W&B process to finish... <strong style=\"color:green\">(success).</strong>"
      ],
      "text/plain": [
       "<IPython.core.display.HTML object>"
      ]
     },
     "metadata": {},
     "output_type": "display_data"
    },
    {
     "data": {
      "application/vnd.jupyter.widget-view+json": {
       "model_id": "b97ebf20bb6b4fe8944c16b025458bde",
       "version_major": 2,
       "version_minor": 0
      },
      "text/plain": [
       "VBox(children=(Label(value='0.001 MB of 0.001 MB uploaded (0.000 MB deduped)\\r'), FloatProgress(value=1.0, max…"
      ]
     },
     "metadata": {},
     "output_type": "display_data"
    },
    {
     "data": {
      "text/html": [
       "<style>\n",
       "    table.wandb td:nth-child(1) { padding: 0 10px; text-align: left ; width: auto;} td:nth-child(2) {text-align: left ; width: 100%}\n",
       "    .wandb-row { display: flex; flex-direction: row; flex-wrap: wrap; justify-content: flex-start; width: 100% }\n",
       "    .wandb-col { display: flex; flex-direction: column; flex-basis: 100%; flex: 1; padding: 10px; }\n",
       "    </style>\n",
       "<div class=\"wandb-row\"><div class=\"wandb-col\"><h3>Run history:</h3><br/><table class=\"wandb\"><tr><td>Accuracy</td><td>▁</td></tr><tr><td>Epoch</td><td>▁▃▅▆█</td></tr><tr><td>Training_accuracy</td><td>▁▆▇██</td></tr><tr><td>Training_loss</td><td>█▃▂▁▁</td></tr><tr><td>Validation_accuracy</td><td>▁▄▆▇█</td></tr><tr><td>Validation_loss</td><td>█▅▃▂▁</td></tr></table><br/></div><div class=\"wandb-col\"><h3>Run summary:</h3><br/><table class=\"wandb\"><tr><td>Accuracy</td><td>0.852</td></tr><tr><td>Epoch</td><td>5</td></tr><tr><td>Training_accuracy</td><td>0.86827</td></tr><tr><td>Training_loss</td><td>0.36155</td></tr><tr><td>Validation_accuracy</td><td>0.852</td></tr><tr><td>Validation_loss</td><td>0.40111</td></tr></table><br/></div></div>"
      ],
      "text/plain": [
       "<IPython.core.display.HTML object>"
      ]
     },
     "metadata": {},
     "output_type": "display_data"
    },
    {
     "data": {
      "text/html": [
       " View run <strong style=\"color:#cdcd00\">Question:4</strong> at: <a href='https://wandb.ai/cs22m083/CS6910_Assignment_1/runs/8d8yvu3g' target=\"_blank\">https://wandb.ai/cs22m083/CS6910_Assignment_1/runs/8d8yvu3g</a><br/>Synced 6 W&B file(s), 0 media file(s), 0 artifact file(s) and 0 other file(s)"
      ],
      "text/plain": [
       "<IPython.core.display.HTML object>"
      ]
     },
     "metadata": {},
     "output_type": "display_data"
    },
    {
     "data": {
      "text/html": [
       "Find logs at: <code>.\\wandb\\run-20230317_184655-8d8yvu3g\\logs</code>"
      ],
      "text/plain": [
       "<IPython.core.display.HTML object>"
      ]
     },
     "metadata": {},
     "output_type": "display_data"
    },
    {
     "name": "stderr",
     "output_type": "stream",
     "text": [
      "\u001b[34m\u001b[1mwandb\u001b[0m: Sweep Agent: Waiting for job.\n",
      "\u001b[34m\u001b[1mwandb\u001b[0m: Job received.\n",
      "\u001b[34m\u001b[1mwandb\u001b[0m: Agent Starting Run: hs0eqqg2 with config:\n",
      "\u001b[34m\u001b[1mwandb\u001b[0m: \tactivation: tanh\n",
      "\u001b[34m\u001b[1mwandb\u001b[0m: \tbatch_size: 64\n",
      "\u001b[34m\u001b[1mwandb\u001b[0m: \tepochs: 5\n",
      "\u001b[34m\u001b[1mwandb\u001b[0m: \tgamma: 0.0006\n",
      "\u001b[34m\u001b[1mwandb\u001b[0m: \thidden_layers: [32, 64, 128]\n",
      "\u001b[34m\u001b[1mwandb\u001b[0m: \tinitialization: Random\n",
      "\u001b[34m\u001b[1mwandb\u001b[0m: \tlearning_rate: 0.0006\n",
      "\u001b[34m\u001b[1mwandb\u001b[0m: \toptimizer: adam\n",
      "\u001b[34m\u001b[1mwandb\u001b[0m: \tweight_decay: 0.0005\n",
      "Failed to detect the name of this notebook, you can set it manually with the WANDB_NOTEBOOK_NAME environment variable to enable code saving.\n",
      "\u001b[34m\u001b[1mwandb\u001b[0m: \u001b[33mWARNING\u001b[0m Ignored wandb.init() arg project when running a sweep.\n"
     ]
    },
    {
     "data": {
      "text/html": [
       "wandb version 0.14.0 is available!  To upgrade, please run:\n",
       " $ pip install wandb --upgrade"
      ],
      "text/plain": [
       "<IPython.core.display.HTML object>"
      ]
     },
     "metadata": {},
     "output_type": "display_data"
    },
    {
     "data": {
      "text/html": [
       "Tracking run with wandb version 0.13.10"
      ],
      "text/plain": [
       "<IPython.core.display.HTML object>"
      ]
     },
     "metadata": {},
     "output_type": "display_data"
    },
    {
     "data": {
      "text/html": [
       "Run data is saved locally in <code>C:\\Users\\Shivam Maurya\\OneDrive\\Desktop\\IIT_MADRAS\\Deep Learning\\assignment 1\\CS6910-Deep_Learning_Assignment-1\\wandb\\run-20230317_184831-hs0eqqg2</code>"
      ],
      "text/plain": [
       "<IPython.core.display.HTML object>"
      ]
     },
     "metadata": {},
     "output_type": "display_data"
    },
    {
     "data": {
      "text/html": [
       "Syncing run <strong><a href='https://wandb.ai/cs22m083/CS6910_Assignment_1/runs/hs0eqqg2' target=\"_blank\">Question:4</a></strong> to <a href='https://wandb.ai/cs22m083/CS6910_Assignment_1' target=\"_blank\">Weights & Biases</a> (<a href='https://wandb.me/run' target=\"_blank\">docs</a>)<br/>Sweep page: <a href='https://wandb.ai/cs22m083/CS6910_Assignment_1/sweeps/cezmcy51' target=\"_blank\">https://wandb.ai/cs22m083/CS6910_Assignment_1/sweeps/cezmcy51</a>"
      ],
      "text/plain": [
       "<IPython.core.display.HTML object>"
      ]
     },
     "metadata": {},
     "output_type": "display_data"
    },
    {
     "data": {
      "text/html": [
       " View project at <a href='https://wandb.ai/cs22m083/CS6910_Assignment_1' target=\"_blank\">https://wandb.ai/cs22m083/CS6910_Assignment_1</a>"
      ],
      "text/plain": [
       "<IPython.core.display.HTML object>"
      ]
     },
     "metadata": {},
     "output_type": "display_data"
    },
    {
     "data": {
      "text/html": [
       " View sweep at <a href='https://wandb.ai/cs22m083/CS6910_Assignment_1/sweeps/cezmcy51' target=\"_blank\">https://wandb.ai/cs22m083/CS6910_Assignment_1/sweeps/cezmcy51</a>"
      ],
      "text/plain": [
       "<IPython.core.display.HTML object>"
      ]
     },
     "metadata": {},
     "output_type": "display_data"
    },
    {
     "data": {
      "text/html": [
       " View run at <a href='https://wandb.ai/cs22m083/CS6910_Assignment_1/runs/hs0eqqg2' target=\"_blank\">https://wandb.ai/cs22m083/CS6910_Assignment_1/runs/hs0eqqg2</a>"
      ],
      "text/plain": [
       "<IPython.core.display.HTML object>"
      ]
     },
     "metadata": {},
     "output_type": "display_data"
    },
    {
     "name": "stdout",
     "output_type": "stream",
     "text": [
      " Training Loss:  1.1717541314266762  Validation Loss: 1.1996834074961902  Training Accuracy:  0.6394333333333333  Validation Accuracy: 0.6381\n"
     ]
    },
    {
     "data": {
      "text/html": [
       "Waiting for W&B process to finish... <strong style=\"color:green\">(success).</strong>"
      ],
      "text/plain": [
       "<IPython.core.display.HTML object>"
      ]
     },
     "metadata": {},
     "output_type": "display_data"
    },
    {
     "data": {
      "text/html": [
       "<style>\n",
       "    table.wandb td:nth-child(1) { padding: 0 10px; text-align: left ; width: auto;} td:nth-child(2) {text-align: left ; width: 100%}\n",
       "    .wandb-row { display: flex; flex-direction: row; flex-wrap: wrap; justify-content: flex-start; width: 100% }\n",
       "    .wandb-col { display: flex; flex-direction: column; flex-basis: 100%; flex: 1; padding: 10px; }\n",
       "    </style>\n",
       "<div class=\"wandb-row\"><div class=\"wandb-col\"><h3>Run history:</h3><br/><table class=\"wandb\"><tr><td>Accuracy</td><td>▁</td></tr><tr><td>Epoch</td><td>▁▃▅▆█</td></tr><tr><td>Training_accuracy</td><td>▁▅▇▇█</td></tr><tr><td>Training_loss</td><td>█▃▂▁▁</td></tr><tr><td>Validation_accuracy</td><td>▁▃▆▇█</td></tr><tr><td>Validation_loss</td><td>█▄▃▂▁</td></tr></table><br/></div><div class=\"wandb-col\"><h3>Run summary:</h3><br/><table class=\"wandb\"><tr><td>Accuracy</td><td>0.6381</td></tr><tr><td>Epoch</td><td>5</td></tr><tr><td>Training_accuracy</td><td>0.63943</td></tr><tr><td>Training_loss</td><td>1.17175</td></tr><tr><td>Validation_accuracy</td><td>0.6381</td></tr><tr><td>Validation_loss</td><td>1.19968</td></tr></table><br/></div></div>"
      ],
      "text/plain": [
       "<IPython.core.display.HTML object>"
      ]
     },
     "metadata": {},
     "output_type": "display_data"
    },
    {
     "data": {
      "text/html": [
       " View run <strong style=\"color:#cdcd00\">Question:4</strong> at: <a href='https://wandb.ai/cs22m083/CS6910_Assignment_1/runs/hs0eqqg2' target=\"_blank\">https://wandb.ai/cs22m083/CS6910_Assignment_1/runs/hs0eqqg2</a><br/>Synced 6 W&B file(s), 0 media file(s), 0 artifact file(s) and 0 other file(s)"
      ],
      "text/plain": [
       "<IPython.core.display.HTML object>"
      ]
     },
     "metadata": {},
     "output_type": "display_data"
    },
    {
     "data": {
      "text/html": [
       "Find logs at: <code>.\\wandb\\run-20230317_184831-hs0eqqg2\\logs</code>"
      ],
      "text/plain": [
       "<IPython.core.display.HTML object>"
      ]
     },
     "metadata": {},
     "output_type": "display_data"
    }
   ],
   "source": [
    "wandb.agent(sweep_id, train, count = 60)"
   ]
  },
  {
   "cell_type": "markdown",
   "id": "45a70416",
   "metadata": {},
   "source": [
    "## Question 7"
   ]
  },
  {
   "cell_type": "code",
   "execution_count": 32,
   "id": "42151999",
   "metadata": {},
   "outputs": [
    {
     "ename": "KeyError",
     "evalue": "1",
     "output_type": "error",
     "traceback": [
      "\u001b[1;31m---------------------------------------------------------------------------\u001b[0m",
      "\u001b[1;31mKeyError\u001b[0m                                  Traceback (most recent call last)",
      "\u001b[1;32m~\\AppData\\Local\\Temp\\ipykernel_26496\\510206151.py\u001b[0m in \u001b[0;36m<module>\u001b[1;34m\u001b[0m\n\u001b[0;32m      9\u001b[0m \u001b[1;33m\u001b[0m\u001b[0m\n\u001b[0;32m     10\u001b[0m \u001b[0mmodel\u001b[0m \u001b[1;33m=\u001b[0m \u001b[0mFFNN\u001b[0m\u001b[1;33m(\u001b[0m\u001b[0moptimizer\u001b[0m\u001b[1;33m,\u001b[0m \u001b[0mlayers\u001b[0m\u001b[1;33m,\u001b[0m \u001b[0mloss_fun\u001b[0m\u001b[1;33m,\u001b[0m \u001b[0mactivation\u001b[0m\u001b[1;33m,\u001b[0m \u001b[0moutput_activation\u001b[0m\u001b[1;33m,\u001b[0m \u001b[1;36m64\u001b[0m\u001b[1;33m,\u001b[0m \u001b[1;36m15\u001b[0m\u001b[1;33m,\u001b[0m \u001b[0minitialization\u001b[0m \u001b[1;33m=\u001b[0m \u001b[1;34m\"Xavier-Normal\"\u001b[0m\u001b[1;33m)\u001b[0m\u001b[1;33m\u001b[0m\u001b[1;33m\u001b[0m\u001b[0m\n\u001b[1;32m---> 11\u001b[1;33m \u001b[0mtrain_loss\u001b[0m\u001b[1;33m,\u001b[0m \u001b[0mval_loss\u001b[0m\u001b[1;33m,\u001b[0m \u001b[0mtrain_accuracy\u001b[0m\u001b[1;33m,\u001b[0m \u001b[0mval_accuracy\u001b[0m \u001b[1;33m=\u001b[0m \u001b[0mmodel\u001b[0m\u001b[1;33m.\u001b[0m\u001b[0mfit\u001b[0m\u001b[1;33m(\u001b[0m\u001b[0mx_train\u001b[0m\u001b[1;33m,\u001b[0m \u001b[0my_OH_train\u001b[0m\u001b[1;33m,\u001b[0m \u001b[0mx_test\u001b[0m\u001b[1;33m,\u001b[0m \u001b[0my_OH_test\u001b[0m\u001b[1;33m)\u001b[0m\u001b[1;33m\u001b[0m\u001b[1;33m\u001b[0m\u001b[0m\n\u001b[0m",
      "\u001b[1;32m~\\AppData\\Local\\Temp\\ipykernel_26496\\1289230289.py\u001b[0m in \u001b[0;36mfit\u001b[1;34m(self, X, Y, X_val, Y_val, console)\u001b[0m\n\u001b[0;32m    156\u001b[0m                     \u001b[0mcount\u001b[0m \u001b[1;33m=\u001b[0m \u001b[1;36m0\u001b[0m\u001b[1;33m\u001b[0m\u001b[1;33m\u001b[0m\u001b[0m\n\u001b[0;32m    157\u001b[0m                 \u001b[1;31m#Forward Propogation\u001b[0m\u001b[1;33m\u001b[0m\u001b[1;33m\u001b[0m\u001b[0m\n\u001b[1;32m--> 158\u001b[1;33m                 \u001b[0mself\u001b[0m\u001b[1;33m.\u001b[0m\u001b[0mforward_propogation\u001b[0m\u001b[1;33m(\u001b[0m\u001b[0mx\u001b[0m\u001b[1;33m)\u001b[0m\u001b[1;33m\u001b[0m\u001b[1;33m\u001b[0m\u001b[0m\n\u001b[0m\u001b[0;32m    159\u001b[0m \u001b[1;33m\u001b[0m\u001b[0m\n\u001b[0;32m    160\u001b[0m                 \u001b[1;31m#Predictions\u001b[0m\u001b[1;33m\u001b[0m\u001b[1;33m\u001b[0m\u001b[0m\n",
      "\u001b[1;32m~\\AppData\\Local\\Temp\\ipykernel_26496\\1289230289.py\u001b[0m in \u001b[0;36mforward_propogation\u001b[1;34m(self, X)\u001b[0m\n\u001b[0;32m     65\u001b[0m         \u001b[1;31m#Compute a(x) = W_x*h(x-1) and h(a(x)) = activation(a(x)) for hidden layer\u001b[0m\u001b[1;33m\u001b[0m\u001b[1;33m\u001b[0m\u001b[0m\n\u001b[0;32m     66\u001b[0m         \u001b[1;32mfor\u001b[0m \u001b[0mi\u001b[0m \u001b[1;32min\u001b[0m \u001b[0mrange\u001b[0m\u001b[1;33m(\u001b[0m\u001b[0mln\u001b[0m\u001b[1;33m)\u001b[0m\u001b[1;33m:\u001b[0m\u001b[1;33m\u001b[0m\u001b[1;33m\u001b[0m\u001b[0m\n\u001b[1;32m---> 67\u001b[1;33m             \u001b[0mweight\u001b[0m \u001b[1;33m=\u001b[0m \u001b[0mself\u001b[0m\u001b[1;33m.\u001b[0m\u001b[0mweights\u001b[0m\u001b[1;33m[\u001b[0m\u001b[0mi\u001b[0m\u001b[1;33m+\u001b[0m\u001b[1;36m1\u001b[0m\u001b[1;33m]\u001b[0m\u001b[1;33m\u001b[0m\u001b[1;33m\u001b[0m\u001b[0m\n\u001b[0m\u001b[0;32m     68\u001b[0m             \u001b[0mbias\u001b[0m \u001b[1;33m=\u001b[0m \u001b[0mself\u001b[0m\u001b[1;33m.\u001b[0m\u001b[0mbiases\u001b[0m\u001b[1;33m[\u001b[0m\u001b[0mi\u001b[0m\u001b[1;33m+\u001b[0m\u001b[1;36m1\u001b[0m\u001b[1;33m]\u001b[0m\u001b[1;33m\u001b[0m\u001b[1;33m\u001b[0m\u001b[0m\n\u001b[0;32m     69\u001b[0m             \u001b[0mself\u001b[0m\u001b[1;33m.\u001b[0m\u001b[0mA\u001b[0m\u001b[1;33m[\u001b[0m\u001b[0mi\u001b[0m\u001b[1;33m+\u001b[0m\u001b[1;36m1\u001b[0m\u001b[1;33m]\u001b[0m \u001b[1;33m=\u001b[0m \u001b[0mnp\u001b[0m\u001b[1;33m.\u001b[0m\u001b[0mmatmul\u001b[0m\u001b[1;33m(\u001b[0m\u001b[0mself\u001b[0m\u001b[1;33m.\u001b[0m\u001b[0mH\u001b[0m\u001b[1;33m[\u001b[0m\u001b[0mi\u001b[0m\u001b[1;33m]\u001b[0m\u001b[1;33m,\u001b[0m \u001b[0mweight\u001b[0m\u001b[1;33m)\u001b[0m \u001b[1;33m+\u001b[0m \u001b[0mbias\u001b[0m\u001b[1;33m\u001b[0m\u001b[1;33m\u001b[0m\u001b[0m\n",
      "\u001b[1;31mKeyError\u001b[0m: 1"
     ]
    }
   ],
   "source": [
    "#Add layer sizes for the hidden layers\n",
    "parameters = {\"learning_rate\":0.001, \"beta1\":0.09, \"beta2\":0.999, \"epsilon\":1e-8, \"weight_decay\":0.0005}\n",
    "loss_fun = LossFunction(\"cross_entropy\") # Loss Function\n",
    "layers = [32, 64, 128]\n",
    "optimizer = Optimizer(\"adam\") # Optimizer : adam\n",
    "optimizer.set_initial_parameters(parameters)\n",
    "activation = ActivationFunction(\"relu\") #activation(hidden layers)\n",
    "output_activation = ActivationFunction(\"softmax\") #activation(output layer)\n",
    "\n",
    "model = FFNN(optimizer, layers, loss_fun, activation, output_activation, 64, 15, initialization = \"Xavier-Normal\")\n",
    "train_loss, val_loss, train_accuracy, val_accuracy = model.fit(x_train, y_OH_train, x_test, y_OH_test)"
   ]
  },
  {
   "cell_type": "code",
   "execution_count": 30,
   "id": "fc3be2e2",
   "metadata": {},
   "outputs": [
    {
     "name": "stdout",
     "output_type": "stream",
     "text": [
      "Validation Loss: 0.48003619444098794  Validation Accuracy: 0.8265\n"
     ]
    }
   ],
   "source": [
    "# Accuracy for Test Data(Validation)\n",
    "print(\"Validation Loss:\",val_loss ,\" Validation Accuracy:\", val_accuracy)"
   ]
  },
  {
   "cell_type": "markdown",
   "id": "cc46e46a",
   "metadata": {},
   "source": [
    "### Plotting Confusion Matrix"
   ]
  },
  {
   "cell_type": "code",
   "execution_count": 36,
   "id": "57397691",
   "metadata": {},
   "outputs": [
    {
     "data": {
      "text/html": [
       "Changes to your `wandb` environment variables will be ignored because your `wandb` session has already started. For more information on how to modify your settings with `wandb.init()` arguments, please refer to <a href='https://wandb.me/wandb-init' target=\"_blank\">the W&B docs</a>."
      ],
      "text/plain": [
       "<IPython.core.display.HTML object>"
      ]
     },
     "metadata": {},
     "output_type": "display_data"
    },
    {
     "data": {
      "text/html": [
       "Finishing last run (ID:7wigpxv1) before initializing another..."
      ],
      "text/plain": [
       "<IPython.core.display.HTML object>"
      ]
     },
     "metadata": {},
     "output_type": "display_data"
    },
    {
     "data": {
      "text/html": [
       "Waiting for W&B process to finish... <strong style=\"color:green\">(success).</strong>"
      ],
      "text/plain": [
       "<IPython.core.display.HTML object>"
      ]
     },
     "metadata": {},
     "output_type": "display_data"
    },
    {
     "data": {
      "application/vnd.jupyter.widget-view+json": {
       "model_id": "bb9b65b1c9694761a7144ca8f9bde47b",
       "version_major": 2,
       "version_minor": 0
      },
      "text/plain": [
       "VBox(children=(Label(value='0.051 MB of 0.072 MB uploaded (0.000 MB deduped)\\r'), FloatProgress(value=0.705649…"
      ]
     },
     "metadata": {},
     "output_type": "display_data"
    },
    {
     "data": {
      "text/html": [
       " View run <strong style=\"color:#cdcd00\">Q:8</strong> at: <a href='https://wandb.ai/cs22m083/CS6910_Assignment_11/runs/7wigpxv1' target=\"_blank\">https://wandb.ai/cs22m083/CS6910_Assignment_11/runs/7wigpxv1</a><br/>Synced 5 W&B file(s), 1 media file(s), 0 artifact file(s) and 0 other file(s)"
      ],
      "text/plain": [
       "<IPython.core.display.HTML object>"
      ]
     },
     "metadata": {},
     "output_type": "display_data"
    },
    {
     "data": {
      "text/html": [
       "Find logs at: <code>.\\wandb\\run-20230311_230917-7wigpxv1\\logs</code>"
      ],
      "text/plain": [
       "<IPython.core.display.HTML object>"
      ]
     },
     "metadata": {},
     "output_type": "display_data"
    },
    {
     "data": {
      "text/html": [
       "Successfully finished last run (ID:7wigpxv1). Initializing new run:<br/>"
      ],
      "text/plain": [
       "<IPython.core.display.HTML object>"
      ]
     },
     "metadata": {},
     "output_type": "display_data"
    },
    {
     "data": {
      "application/vnd.jupyter.widget-view+json": {
       "model_id": "1879d878f7224b5fa25ea16de7437a0e",
       "version_major": 2,
       "version_minor": 0
      },
      "text/plain": [
       "VBox(children=(Label(value='Waiting for wandb.init()...\\r'), FloatProgress(value=0.01693333333435779, max=1.0)…"
      ]
     },
     "metadata": {},
     "output_type": "display_data"
    },
    {
     "data": {
      "text/html": [
       "wandb version 0.13.11 is available!  To upgrade, please run:\n",
       " $ pip install wandb --upgrade"
      ],
      "text/plain": [
       "<IPython.core.display.HTML object>"
      ]
     },
     "metadata": {},
     "output_type": "display_data"
    },
    {
     "data": {
      "text/html": [
       "Tracking run with wandb version 0.13.10"
      ],
      "text/plain": [
       "<IPython.core.display.HTML object>"
      ]
     },
     "metadata": {},
     "output_type": "display_data"
    },
    {
     "data": {
      "text/html": [
       "Run data is saved locally in <code>C:\\Users\\Shivam Maurya\\OneDrive\\Desktop\\IIT MADRAS\\Deep Learning\\assignment 1\\CS6910-Deep_Learning_Assignment-1\\wandb\\run-20230312_102505-fivdopaz</code>"
      ],
      "text/plain": [
       "<IPython.core.display.HTML object>"
      ]
     },
     "metadata": {},
     "output_type": "display_data"
    },
    {
     "data": {
      "text/html": [
       "Syncing run <strong><a href='https://wandb.ai/cs22m083/CS6910_Assignment_11/runs/fivdopaz' target=\"_blank\">Question_7</a></strong> to <a href='https://wandb.ai/cs22m083/CS6910_Assignment_11' target=\"_blank\">Weights & Biases</a> (<a href='https://wandb.me/run' target=\"_blank\">docs</a>)<br/>"
      ],
      "text/plain": [
       "<IPython.core.display.HTML object>"
      ]
     },
     "metadata": {},
     "output_type": "display_data"
    },
    {
     "data": {
      "text/html": [
       " View project at <a href='https://wandb.ai/cs22m083/CS6910_Assignment_11' target=\"_blank\">https://wandb.ai/cs22m083/CS6910_Assignment_11</a>"
      ],
      "text/plain": [
       "<IPython.core.display.HTML object>"
      ]
     },
     "metadata": {},
     "output_type": "display_data"
    },
    {
     "data": {
      "text/html": [
       " View run at <a href='https://wandb.ai/cs22m083/CS6910_Assignment_11/runs/fivdopaz' target=\"_blank\">https://wandb.ai/cs22m083/CS6910_Assignment_11/runs/fivdopaz</a>"
      ],
      "text/plain": [
       "<IPython.core.display.HTML object>"
      ]
     },
     "metadata": {},
     "output_type": "display_data"
    },
    {
     "data": {
      "image/png": "[encoded data removed]",
      "text/plain": [
       "<Figure size 800x800 with 2 Axes>"
      ]
     },
     "metadata": {},
     "output_type": "display_data"
    }
   ],
   "source": [
    "class_label = [\"T-shirt/top\", \"Trouser\", \"Pullover\", \"Dress\", \"Coat\", \"Sandal\", \"Shirt\", \"Sneaker\", \"Bag\", \"Ankle boot\"]\n",
    "wandb.init(project=\"CS6910_Assignment_1\", name=\"Question:7\")\n",
    "y_p = np.argmax(y_preds,1)\n",
    "y_t = np.argmax(y_OH_test,1)\n",
    "conf_matrix = metrics.confusion_matrix(y_t , y_p)\n",
    "df_conf_matrix = pd.DataFrame(conf_matrix)\n",
    "plt.figure(figsize=(8, 8))\n",
    "my_cmap = matplotlib.colors.LinearSegmentedColormap.from_list(\"\", [\"yellow\",\"orange\"])\n",
    "ax = sns.heatmap(df_conf_matrix, annot=True,  cmap= my_cmap, fmt='d',linewidths=3, linecolor='white')\n",
    "ax.set_xticklabels(class_label,rotation=90)\n",
    "ax.set_yticklabels(class_label,rotation=0)\n",
    "plt.title('Confusion Matrix', fontsize=8)\n",
    "plt.ylabel(\"Predicted Class\")\n",
    "plt.xlabel(\"True Class\")  \n",
    "wandb.log({\"Confusion_Matrix\": wandb.Image(plt)})"
   ]
  },
  {
   "cell_type": "code",
   "execution_count": 37,
   "id": "fc1ef201",
   "metadata": {},
   "outputs": [
    {
     "data": {
      "text/html": [
       "Waiting for W&B process to finish... <strong style=\"color:green\">(success).</strong>"
      ],
      "text/plain": [
       "<IPython.core.display.HTML object>"
      ]
     },
     "metadata": {},
     "output_type": "display_data"
    },
    {
     "data": {
      "application/vnd.jupyter.widget-view+json": {
       "model_id": "68a91bc67a1449cdb269a94b41d21a35",
       "version_major": 2,
       "version_minor": 0
      },
      "text/plain": [
       "VBox(children=(Label(value='0.058 MB of 0.079 MB uploaded (0.000 MB deduped)\\r'), FloatProgress(value=0.732266…"
      ]
     },
     "metadata": {},
     "output_type": "display_data"
    },
    {
     "data": {
      "text/html": [
       " View run <strong style=\"color:#cdcd00\">Question_7</strong> at: <a href='https://wandb.ai/cs22m083/CS6910_Assignment_11/runs/fivdopaz' target=\"_blank\">https://wandb.ai/cs22m083/CS6910_Assignment_11/runs/fivdopaz</a><br/>Synced 5 W&B file(s), 1 media file(s), 0 artifact file(s) and 0 other file(s)"
      ],
      "text/plain": [
       "<IPython.core.display.HTML object>"
      ]
     },
     "metadata": {},
     "output_type": "display_data"
    },
    {
     "data": {
      "text/html": [
       "Find logs at: <code>.\\wandb\\run-20230312_102505-fivdopaz\\logs</code>"
      ],
      "text/plain": [
       "<IPython.core.display.HTML object>"
      ]
     },
     "metadata": {},
     "output_type": "display_data"
    }
   ],
   "source": [
    "wandb.finish()"
   ]
  },
  {
   "cell_type": "markdown",
   "id": "53de683d",
   "metadata": {},
   "source": [
    "## Question 8"
   ]
  },
  {
   "cell_type": "code",
   "execution_count": 38,
   "id": "66a72d69",
   "metadata": {},
   "outputs": [
    {
     "name": "stdout",
     "output_type": "stream",
     "text": [
      "SQUARED_ERROR\n",
      "Training Loss:  0.142 Val_loss: 0.117  Training Accuracy:  0.8 Val_accuracy: 0.836  <-:Epoch: 1\n",
      "Training Loss:  0.107 Val_loss: 0.109  Training Accuracy:  0.851 Val_accuracy: 0.847  <-:Epoch: 2\n",
      "Training Loss:  0.099 Val_loss: 0.107  Training Accuracy:  0.863 Val_accuracy: 0.851  <-:Epoch: 3\n",
      "Training Loss:  0.094 Val_loss: 0.105  Training Accuracy:  0.87 Val_accuracy: 0.853  <-:Epoch: 4\n",
      "Training Loss:  0.092 Val_loss: 0.104  Training Accuracy:  0.874 Val_accuracy: 0.853  <-:Epoch: 5\n",
      "Training Loss:  0.089 Val_loss: 0.103  Training Accuracy:  0.878 Val_accuracy: 0.855  <-:Epoch: 6\n",
      "Training Loss:  0.087 Val_loss: 0.103  Training Accuracy:  0.88 Val_accuracy: 0.855  <-:Epoch: 7\n",
      "Training Loss:  0.086 Val_loss: 0.102  Training Accuracy:  0.883 Val_accuracy: 0.856  <-:Epoch: 8\n",
      "Training Loss:  0.085 Val_loss: 0.102  Training Accuracy:  0.885 Val_accuracy: 0.857  <-:Epoch: 9\n",
      "Training Loss:  0.084 Val_loss: 0.102  Training Accuracy:  0.887 Val_accuracy: 0.857  <-:Epoch: 10\n",
      "***********************************************************************************************************\n",
      "CROSS_ENTROPY\n",
      "Training Loss:  0.134 Val_loss: 0.116  Training Accuracy:  0.807 Val_accuracy: 0.836  <-:Epoch: 1\n",
      "Training Loss:  0.102 Val_loss: 0.111  Training Accuracy:  0.857 Val_accuracy: 0.843  <-:Epoch: 2\n",
      "Training Loss:  0.096 Val_loss: 0.107  Training Accuracy:  0.867 Val_accuracy: 0.849  <-:Epoch: 3\n",
      "Training Loss:  0.092 Val_loss: 0.105  Training Accuracy:  0.873 Val_accuracy: 0.849  <-:Epoch: 4\n",
      "Training Loss:  0.089 Val_loss: 0.103  Training Accuracy:  0.877 Val_accuracy: 0.853  <-:Epoch: 5\n",
      "Training Loss:  0.087 Val_loss: 0.102  Training Accuracy:  0.88 Val_accuracy: 0.855  <-:Epoch: 6\n",
      "Training Loss:  0.086 Val_loss: 0.101  Training Accuracy:  0.883 Val_accuracy: 0.856  <-:Epoch: 7\n",
      "Training Loss:  0.084 Val_loss: 0.1  Training Accuracy:  0.885 Val_accuracy: 0.858  <-:Epoch: 8\n",
      "Training Loss:  0.083 Val_loss: 0.1  Training Accuracy:  0.886 Val_accuracy: 0.858  <-:Epoch: 9\n",
      "Training Loss:  0.082 Val_loss: 0.099  Training Accuracy:  0.888 Val_accuracy: 0.859  <-:Epoch: 10\n"
     ]
    }
   ],
   "source": [
    "''' Parameters Selection for Different Optimization Algorithm '''\n",
    "# parameters_nadam = {\"learning_rate\":0.0006, \"beta1\":0.09, \"beta2\":0.999, \"epsilon\":1e-8, \"weight_decay\":0.001} #nadam\n",
    "# parameters_sgd = {\"learning_rate\":0.001, \"weight_decay\":0.5} #sgd\n",
    "# parameters_momentum = {\"learning_rate\":0.0001, \"gamma\":0.6, \"weight_decay\":0} #momentum\n",
    "# parameters_nag = {\"learning_rate\":0.001, \"gamma\":0.009} #nag\n",
    "# parameters_rmsprop = {\"learning_rate\":0.01, \"gamma\":0.009, \"epsilon\":1e-8, \"weight_decay\":0.5} #rmsprop\n",
    "parameters_adam = {\"learning_rate\":0.0006, \"beta1\":0.09, \"beta2\":0.999, \"epsilon\":1e-8, \"weight_decay\":0.001} #adam\n",
    "\n",
    "'''For Selecting different Optimization Function'''\n",
    "# \"sgd\" : gradient_descent, \"momentum\" : momentum_gd, \"nag\": nag , \"rmsprop\":  RMSProp, \"adam\": Adam \"nadam\": Nadam\n",
    "\n",
    "optimizer = Optimizer(\"adam\")\n",
    "optimizer.set_initial_parameters(parameters_adam)\n",
    "\n",
    "\n",
    "#  \"cross_entropy\" : Cross Entropy Loss Function,  \"squared_loss\" : Squared Error Loss Function\n",
    "\n",
    "loss_fun_se = LossFunction(\"squared_loss\")\n",
    "train_se_losses = []\n",
    "val_se_losses = []\n",
    "train_se_accuracy = []\n",
    "val_se_accuracy = []\n",
    "\n",
    "\n",
    "\n",
    "loss_fun_cross = LossFunction(\"cross_entropy\")\n",
    "train_ce_losses = []\n",
    "val_ce_losses = []\n",
    "train_ce_accuracy = []\n",
    "val_ce_accuracy = []\n",
    "\n",
    "#Select activation-function(hidden layers) pass below respective string to select any Activation Fuction Eg:\"tanh\" in ActivationFunction\n",
    "# \"sigmoid\": SigmoidFunction, \"softmax\": SoftmaxFunction, \"tanh\": TanhFunction, \"relu\":ReLUFunction\n",
    "act_fun_hidden = ActivationFunction(\"tanh\")\n",
    "\n",
    "#Select activation - function for output layer\n",
    "act_fun_output = ActivationFunction(\"softmax\")\n",
    "\n",
    "#Add layer sizes for the hidden layers\n",
    "layers = [32, 64, 128]\n",
    "\n",
    "print(\"SQUARED_ERROR\")\n",
    "model = FFNN(optimizer, layers, loss_fun_se, act_fun_hidden, act_fun_output, 64, 10, \"Xavier\", 0, train_se_losses, train_se_accuracy, val_se_losses, val_se_accuracy)\n",
    "se_train_loss, se_val_loss, se_train_accuracy, se_val_accuracy = model.fit(x_train, y_OH_train, x_test, y_OH_test)\n",
    "\n",
    "print(\"***********************************************************************************************************\")\n",
    "\n",
    "print(\"CROSS_ENTROPY\")\n",
    "model = FFNN(optimizer, layers, loss_fun_se, act_fun_hidden, act_fun_output, 64, 10, \"Xavier\", 0, train_ce_losses, train_ce_accuracy, val_ce_losses, val_ce_accuracy)\n",
    "ce_train_loss, ce_val_loss, ce_train_accuracy, ce_val_accuracy = model.fit(x_train, y_OH_train, x_test, y_OH_test)\n",
    "ln = len(val_ce_accuracy)+1"
   ]
  },
  {
   "cell_type": "code",
   "execution_count": 58,
   "id": "4c917686",
   "metadata": {},
   "outputs": [
    {
     "data": {
      "text/html": [
       "Changes to your `wandb` environment variables will be ignored because your `wandb` session has already started. For more information on how to modify your settings with `wandb.init()` arguments, please refer to <a href='https://wandb.me/wandb-init' target=\"_blank\">the W&B docs</a>."
      ],
      "text/plain": [
       "<IPython.core.display.HTML object>"
      ]
     },
     "metadata": {},
     "output_type": "display_data"
    },
    {
     "data": {
      "text/html": [
       "wandb version 0.13.11 is available!  To upgrade, please run:\n",
       " $ pip install wandb --upgrade"
      ],
      "text/plain": [
       "<IPython.core.display.HTML object>"
      ]
     },
     "metadata": {},
     "output_type": "display_data"
    },
    {
     "data": {
      "text/html": [
       "Tracking run with wandb version 0.13.10"
      ],
      "text/plain": [
       "<IPython.core.display.HTML object>"
      ]
     },
     "metadata": {},
     "output_type": "display_data"
    },
    {
     "data": {
      "text/html": [
       "Run data is saved locally in <code>C:\\Users\\Shivam Maurya\\OneDrive\\Desktop\\IIT MADRAS\\Deep Learning\\assignment 1\\CS6910-Deep_Learning_Assignment-1\\wandb\\run-20230313_163650-tf9sq6zw</code>"
      ],
      "text/plain": [
       "<IPython.core.display.HTML object>"
      ]
     },
     "metadata": {},
     "output_type": "display_data"
    },
    {
     "data": {
      "text/html": [
       "Syncing run <strong><a href='https://wandb.ai/cs22m083/CS6910_Assignment_11/runs/tf9sq6zw' target=\"_blank\">Q:8</a></strong> to <a href='https://wandb.ai/cs22m083/CS6910_Assignment_11' target=\"_blank\">Weights & Biases</a> (<a href='https://wandb.me/run' target=\"_blank\">docs</a>)<br/>"
      ],
      "text/plain": [
       "<IPython.core.display.HTML object>"
      ]
     },
     "metadata": {},
     "output_type": "display_data"
    },
    {
     "data": {
      "text/html": [
       " View project at <a href='https://wandb.ai/cs22m083/CS6910_Assignment_11' target=\"_blank\">https://wandb.ai/cs22m083/CS6910_Assignment_11</a>"
      ],
      "text/plain": [
       "<IPython.core.display.HTML object>"
      ]
     },
     "metadata": {},
     "output_type": "display_data"
    },
    {
     "data": {
      "text/html": [
       " View run at <a href='https://wandb.ai/cs22m083/CS6910_Assignment_11/runs/tf9sq6zw' target=\"_blank\">https://wandb.ai/cs22m083/CS6910_Assignment_11/runs/tf9sq6zw</a>"
      ],
      "text/plain": [
       "<IPython.core.display.HTML object>"
      ]
     },
     "metadata": {},
     "output_type": "display_data"
    },
    {
     "data": {
      "image/png": "[encoded data removed]",
      "text/plain": [
       "<Figure size 800x800 with 1 Axes>"
      ]
     },
     "metadata": {},
     "output_type": "display_data"
    }
   ],
   "source": [
    "wandb.init(project=\"CS6910_Assignment_1\", name= \"Question:8\")\n",
    "plt.figure(figsize=(8, 8))\n",
    "sizelst = list(range(1, ln))\n",
    "plt.plot(sizelst, val_se_losses, 'r', label ='Squared_Loss') \n",
    "plt.plot(sizelst, val_ce_losses, 'g', label ='Cross_Entropy')\n",
    "plt.title('Validation Loss Comparison: Squared Loss v/s Crossentropy Loss', fontsize=20)\n",
    "plt.ylabel(\"Validation Loss\")\n",
    "plt.xlabel(\"Epochs\") \n",
    "plt.legend()\n",
    "wandb.log({\"Validation Loss per epoch for Squared v/s CrossEntropy Loss \": wandb.Image(plt)})\n",
    "plt.show()\n"
   ]
  },
  {
   "cell_type": "markdown",
   "id": "4cc0d502",
   "metadata": {},
   "source": [
    "## Question 10"
   ]
  },
  {
   "cell_type": "code",
   "execution_count": 63,
   "id": "d4f6add6",
   "metadata": {},
   "outputs": [],
   "source": [
    "(x_mnist_train, y_mnist_train), (x_mnist_test, y_mnist_test) = mnist.load_data()\n",
    "enc = OneHotEncoder()\n",
    "#Normalize the data\n",
    "x_mnist_train = x_mnist_train/255.0\n",
    "x_mnist_test = x_mnist_test/255.0\n",
    "\n",
    "y_OH_test_mnist = enc.fit_transform(np.expand_dims(y_mnist_test, 1)).toarray()\n",
    "\n",
    "#Splitting to get 0.1 parts of data as validation set\n",
    "x_mnist_train, x_mnist_val, y_mnist_train, y_mnist_val = train_test_split(x_mnist_train, y_mnist_train, test_size=0.1, random_state=137)\n",
    "y_OH_train_mnist = enc.fit_transform(np.expand_dims(y_mnist_train, 1)).toarray()\n",
    "y_OH_val_mnist = enc.fit_transform(np.expand_dims(y_mnist_val, 1)).toarray()"
   ]
  },
  {
   "cell_type": "code",
   "execution_count": 64,
   "id": "9b6c8c16",
   "metadata": {},
   "outputs": [],
   "source": [
    "# Parameters Selection for Different Optimization Algorithm\n",
    "parameters_sgd = {\"learning_rate\":0.001, \"weight_decay\":0.5} #sgd\n",
    "parameters_momentum = {\"learning_rate\":0.0001, \"gamma\":0.6, \"weight_decay\":0} #momentum\n",
    "parameters_nag = {\"learning_rate\":0.001, \"gamma\":0.009} #nag\n",
    "parameters_rmsprop = {\"learning_rate\":0.01, \"gamma\":0.009, \"epsilon\":1e-8, \"weight_decay\":0.5} #rmsprop\n",
    "parameters_adam = {\"learning_rate\":0.0006, \"beta1\":0.09, \"beta2\":0.999, \"epsilon\":1e-8, \"weight_decay\":0.001} #adam\n",
    "parameters_nadam = {\"learning_rate\":0.0006, \"beta1\":0.09, \"beta2\":0.999, \"epsilon\":1e-8, \"weight_decay\":0.001} #nadam\n",
    "\n",
    "\n",
    "# \"sgd\" : gradient_descent, \"momentum\" : momentum_gd, \"nag\": nag , \"rmsprop\":  RMSProp, \"adam\": Adam \"nadam\": Nadam\n",
    "\n",
    "optimizer = Optimizer(\"adam\")\n",
    "optimizer.set_initial_parameters(parameters_adam)\n",
    "\n",
    "\n",
    "#  \"cross_entropy\" : Cross Entropy Loss Function,  \"squared_loss\" : Squared Error Loss Function\n",
    "loss_fun = LossFunction(\"cross_entropy\")\n",
    "\n",
    "#Select activation-function(hidden layers) pass below respective string to select any Activation Fuction Eg:\"tanh\" in ActivationFunction\n",
    "# \"sigmoid\": SigmoidFunction, \"softmax\": SoftmaxFunction, \"tanh\": TanhFunction, \"relu\":ReLUFunction\n",
    "act_fun_hidden = ActivationFunction(\"relu\")\n",
    "\n",
    "#Select activation - function for output layer\n",
    "act_fun_output = ActivationFunction(\"softmax\")\n",
    "\n",
    "#Add layer sizes for the hidden layers\n",
    "layers = [32, 64, 128]\n"
   ]
  },
  {
   "cell_type": "code",
   "execution_count": 65,
   "id": "ccfec956",
   "metadata": {},
   "outputs": [
    {
     "name": "stdout",
     "output_type": "stream",
     "text": [
      "Training Loss:  0.417 Val_loss: 0.217  Training Accuracy:  0.877 Val_accuracy: 0.939  <-:Epoch: 1\n",
      "Training Loss:  0.194 Val_loss: 0.163  Training Accuracy:  0.943 Val_accuracy: 0.952  <-:Epoch: 2\n",
      "Training Loss:  0.15 Val_loss: 0.141  Training Accuracy:  0.954 Val_accuracy: 0.96  <-:Epoch: 3\n",
      "Training Loss:  0.124 Val_loss: 0.129  Training Accuracy:  0.962 Val_accuracy: 0.965  <-:Epoch: 4\n",
      "Training Loss:  0.106 Val_loss: 0.124  Training Accuracy:  0.968 Val_accuracy: 0.966  <-:Epoch: 5\n",
      "Training Loss:  0.093 Val_loss: 0.118  Training Accuracy:  0.972 Val_accuracy: 0.967  <-:Epoch: 6\n",
      "Training Loss:  0.082 Val_loss: 0.115  Training Accuracy:  0.976 Val_accuracy: 0.967  <-:Epoch: 7\n",
      "Training Loss:  0.073 Val_loss: 0.115  Training Accuracy:  0.978 Val_accuracy: 0.969  <-:Epoch: 8\n",
      "Training Loss:  0.065 Val_loss: 0.121  Training Accuracy:  0.98 Val_accuracy: 0.968  <-:Epoch: 9\n",
      "Training Loss:  0.058 Val_loss: 0.125  Training Accuracy:  0.983 Val_accuracy: 0.966  <-:Epoch: 10\n"
     ]
    },
    {
     "data": {
      "text/plain": [
       "(0.05760434519052973,\n",
       " 0.12500245117270742,\n",
       " 0.982574074074074,\n",
       " 0.9661666666666666)"
      ]
     },
     "execution_count": 65,
     "metadata": {},
     "output_type": "execute_result"
    }
   ],
   "source": [
    "model_1 = FFNN(optimizer, layers,  loss_fun , act_fun_hidden, act_fun_output, 64, 10, initialization = \"Xavier\")\n",
    "model_1.fit(x_mnist_train, y_OH_train_mnist, x_mnist_val, y_OH_val_mnist)"
   ]
  },
  {
   "cell_type": "code",
   "execution_count": 70,
   "id": "4888f605",
   "metadata": {},
   "outputs": [
    {
     "name": "stdout",
     "output_type": "stream",
     "text": [
      "Training Loss:  0.352 Val_loss: 0.203  Training Accuracy:  0.898 Val_accuracy: 0.943  <-:Epoch: 1\n",
      "Training Loss:  0.178 Val_loss: 0.154  Training Accuracy:  0.947 Val_accuracy: 0.955  <-:Epoch: 2\n",
      "Training Loss:  0.134 Val_loss: 0.138  Training Accuracy:  0.96 Val_accuracy: 0.96  <-:Epoch: 3\n",
      "Training Loss:  0.109 Val_loss: 0.133  Training Accuracy:  0.967 Val_accuracy: 0.964  <-:Epoch: 4\n",
      "Training Loss:  0.091 Val_loss: 0.129  Training Accuracy:  0.973 Val_accuracy: 0.964  <-:Epoch: 5\n",
      "Training Loss:  0.078 Val_loss: 0.127  Training Accuracy:  0.977 Val_accuracy: 0.966  <-:Epoch: 6\n",
      "Training Loss:  0.068 Val_loss: 0.127  Training Accuracy:  0.98 Val_accuracy: 0.964  <-:Epoch: 7\n",
      "Training Loss:  0.059 Val_loss: 0.131  Training Accuracy:  0.983 Val_accuracy: 0.964  <-:Epoch: 8\n",
      "Training Loss:  0.052 Val_loss: 0.137  Training Accuracy:  0.985 Val_accuracy: 0.963  <-:Epoch: 9\n",
      "Training Loss:  0.045 Val_loss: 0.142  Training Accuracy:  0.988 Val_accuracy: 0.964  <-:Epoch: 10\n",
      "Training Loss:  0.039 Val_loss: 0.151  Training Accuracy:  0.99 Val_accuracy: 0.962  <-:Epoch: 11\n",
      "Training Loss:  0.034 Val_loss: 0.157  Training Accuracy:  0.991 Val_accuracy: 0.963  <-:Epoch: 12\n",
      "Training Loss:  0.03 Val_loss: 0.16  Training Accuracy:  0.992 Val_accuracy: 0.962  <-:Epoch: 13\n",
      "Training Loss:  0.027 Val_loss: 0.152  Training Accuracy:  0.992 Val_accuracy: 0.965  <-:Epoch: 14\n",
      "Training Loss:  0.025 Val_loss: 0.161  Training Accuracy:  0.992 Val_accuracy: 0.963  <-:Epoch: 15\n"
     ]
    },
    {
     "data": {
      "text/plain": [
       "(0.025274249017432037,\n",
       " 0.16125203268060956,\n",
       " 0.9922222222222222,\n",
       " 0.9626666666666667)"
      ]
     },
     "execution_count": 70,
     "metadata": {},
     "output_type": "execute_result"
    }
   ],
   "source": [
    "optimizer = Optimizer(\"nadam\")\n",
    "optimizer.set_initial_parameters(parameters_nadam)\n",
    "\n",
    "\n",
    "#  \"cross_entropy\" : Cross Entropy Loss Function,  \"squared_loss\" : Squared Error Loss Function\n",
    "loss_fun = LossFunction(\"cross_entropy\")\n",
    "\n",
    "#Select activation-function(hidden layers) pass below respective string to select any Activation Fuction Eg:\"tanh\" in ActivationFunction\n",
    "# \"sigmoid\": SigmoidFunction, \"softmax\": SoftmaxFunction, \"tanh\": TanhFunction, \"relu\":ReLUFunction\n",
    "act_fun_hidden = ActivationFunction(\"tanh\")\n",
    "\n",
    "#Select activation - function for output layer\n",
    "act_fun_output = ActivationFunction(\"softmax\")\n",
    "model_2 = FFNN(optimizer, layers,  loss_fun , act_fun_hidden, act_fun_output, 32, 15, initialization = \"Xavier\")\n",
    "model_2.fit(x_mnist_train, y_OH_train_mnist, x_mnist_val, y_OH_val_mnist)"
   ]
  },
  {
   "cell_type": "code",
   "execution_count": 54,
   "id": "9b38223d",
   "metadata": {},
   "outputs": [
    {
     "name": "stdout",
     "output_type": "stream",
     "text": [
      "Training Loss:  0.419 Val_loss: 0.216  Training Accuracy:  0.875 Val_accuracy: 0.938  <-:Epoch: 1\n",
      "Training Loss:  0.196 Val_loss: 0.157  Training Accuracy:  0.942 Val_accuracy: 0.954  <-:Epoch: 2\n",
      "Training Loss:  0.15 Val_loss: 0.141  Training Accuracy:  0.955 Val_accuracy: 0.96  <-:Epoch: 3\n",
      "Training Loss:  0.124 Val_loss: 0.131  Training Accuracy:  0.962 Val_accuracy: 0.963  <-:Epoch: 4\n",
      "Training Loss:  0.106 Val_loss: 0.126  Training Accuracy:  0.968 Val_accuracy: 0.964  <-:Epoch: 5\n",
      "Training Loss:  0.093 Val_loss: 0.121  Training Accuracy:  0.972 Val_accuracy: 0.965  <-:Epoch: 6\n",
      "Training Loss:  0.082 Val_loss: 0.121  Training Accuracy:  0.976 Val_accuracy: 0.967  <-:Epoch: 7\n",
      "Training Loss:  0.073 Val_loss: 0.12  Training Accuracy:  0.978 Val_accuracy: 0.967  <-:Epoch: 8\n",
      "Training Loss:  0.065 Val_loss: 0.123  Training Accuracy:  0.981 Val_accuracy: 0.966  <-:Epoch: 9\n",
      "Training Loss:  0.058 Val_loss: 0.122  Training Accuracy:  0.983 Val_accuracy: 0.968  <-:Epoch: 10\n",
      "Training Loss:  0.052 Val_loss: 0.129  Training Accuracy:  0.985 Val_accuracy: 0.966  <-:Epoch: 11\n",
      "Training Loss:  0.047 Val_loss: 0.126  Training Accuracy:  0.986 Val_accuracy: 0.968  <-:Epoch: 12\n",
      "Training Loss:  0.042 Val_loss: 0.123  Training Accuracy:  0.987 Val_accuracy: 0.968  <-:Epoch: 13\n",
      "Training Loss:  0.038 Val_loss: 0.13  Training Accuracy:  0.989 Val_accuracy: 0.967  <-:Epoch: 14\n",
      "Training Loss:  0.033 Val_loss: 0.132  Training Accuracy:  0.99 Val_accuracy: 0.969  <-:Epoch: 15\n",
      "Training Loss:  0.031 Val_loss: 0.133  Training Accuracy:  0.991 Val_accuracy: 0.97  <-:Epoch: 16\n"
     ]
    },
    {
     "data": {
      "text/plain": [
       "(0.030778866269608688,\n",
       " 0.13318754991504142,\n",
       " 0.9914444444444445,\n",
       " 0.9703333333333334)"
      ]
     },
     "execution_count": 54,
     "metadata": {},
     "output_type": "execute_result"
    }
   ],
   "source": [
    "optimizer = Optimizer(\"nadam\")\n",
    "optimizer.set_initial_parameters(parameters_nadam)\n",
    "\n",
    "\n",
    "#  \"cross_entropy\" : Cross Entropy Loss Function,  \"squared_loss\" : Squared Error Loss Function\n",
    "loss_fun = LossFunction(\"cross_entropy\")\n",
    "\n",
    "#Select activation-function(hidden layers) pass below respective string to select any Activation Fuction Eg:\"tanh\" in ActivationFunction\n",
    "# \"sigmoid\": SigmoidFunction, \"softmax\": SoftmaxFunction, \"tanh\": TanhFunction, \"relu\":ReLUFunction\n",
    "act_fun_hidden = ActivationFunction(\"relu\")\n",
    "\n",
    "#Select activation - function for output layer\n",
    "act_fun_output = ActivationFunction(\"softmax\")\n",
    "model_3 = FFNN(optimizer, layers,  loss_fun , act_fun_hidden, act_fun_output, 64, 16, initialization = \"Xavier\")\n",
    "model_3.fit(x_mnist_train, y_OH_train_mnist, x_mnist_val, y_OH_val_mnist)"
   ]
  },
  {
   "cell_type": "code",
   "execution_count": 88,
   "id": "26f1c269",
   "metadata": {},
   "outputs": [
    {
     "name": "stdout",
     "output_type": "stream",
     "text": [
      "Test Accuracy for model 1: 0.9648\n",
      "Test Accuracy for model 2: 0.9654\n",
      "Test Accuracy for model 3: 0.9688\n"
     ]
    }
   ],
   "source": [
    "y_pred1 = model_1.predict(x_mnist_test)\n",
    "y_pred2 = model_2.predict(x_mnist_test)\n",
    "y_pred3 = model_3.predict(x_mnist_test)\n",
    "\n",
    "\n",
    "print(\"Model-1 Test Accuracy:-\", accuracy_score(np.argmax(y_OH_test_mnist,1), np.argmax(y_pred1,1)))\n",
    "print(\"Model-2 Test Accuracy:-\", accuracy_score(np.argmax(y_OH_test_mnist,1), np.argmax(y_pred2,1)))\n",
    "print(\"Model-3 Test Accuracy:-\", accuracy_score(np.argmax(y_OH_test_mnist,1), np.argmax(y_pred3,1)))"
   ]
  },
  {
   "cell_type": "code",
   "execution_count": null,
   "id": "4c2d55b5",
   "metadata": {},
   "outputs": [],
   "source": []
  }
 ],
 "metadata": {
  "kernelspec": {
   "display_name": "Python 3 (ipykernel)",
   "language": "python",
   "name": "python3"
  },
  "language_info": {
   "codemirror_mode": {
    "name": "ipython",
    "version": 3
   },
   "file_extension": ".py",
   "mimetype": "text/x-python",
   "name": "python",
   "nbconvert_exporter": "python",
   "pygments_lexer": "ipython3",
   "version": "3.9.13"
  }
 },
 "nbformat": 4,
 "nbformat_minor": 5
}
