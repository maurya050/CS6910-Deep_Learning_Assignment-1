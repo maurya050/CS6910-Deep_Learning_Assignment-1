{
 "cells": [
  {
   "cell_type": "code",
   "execution_count": 1,
   "id": "b66a8681",
   "metadata": {
    "scrolled": true
   },
   "outputs": [
    {
     "name": "stdout",
     "output_type": "stream",
     "text": [
      "Requirement already satisfied: wandb in c:\\anaconda\\lib\\site-packages (0.13.10)\n",
      "Requirement already satisfied: appdirs>=1.4.3 in c:\\anaconda\\lib\\site-packages (from wandb) (1.4.4)\n",
      "Requirement already satisfied: setproctitle in c:\\anaconda\\lib\\site-packages (from wandb) (1.3.2)\n",
      "Requirement already satisfied: requests<3,>=2.0.0 in c:\\anaconda\\lib\\site-packages (from wandb) (2.28.1)\n",
      "Requirement already satisfied: setuptools in c:\\anaconda\\lib\\site-packages (from wandb) (63.4.1)\n",
      "Requirement already satisfied: GitPython>=1.0.0 in c:\\anaconda\\lib\\site-packages (from wandb) (3.1.31)\n",
      "Requirement already satisfied: Click!=8.0.0,>=7.0 in c:\\anaconda\\lib\\site-packages (from wandb) (8.0.4)\n",
      "Requirement already satisfied: sentry-sdk>=1.0.0 in c:\\anaconda\\lib\\site-packages (from wandb) (1.15.0)\n",
      "Requirement already satisfied: docker-pycreds>=0.4.0 in c:\\anaconda\\lib\\site-packages (from wandb) (0.4.0)\n",
      "Requirement already satisfied: pathtools in c:\\anaconda\\lib\\site-packages (from wandb) (0.1.2)\n",
      "Requirement already satisfied: psutil>=5.0.0 in c:\\anaconda\\lib\\site-packages (from wandb) (5.9.0)\n",
      "Requirement already satisfied: protobuf!=4.21.0,<5,>=3.19.0 in c:\\anaconda\\lib\\site-packages (from wandb) (3.19.6)\n",
      "Requirement already satisfied: typing-extensions in c:\\anaconda\\lib\\site-packages (from wandb) (4.3.0)\n",
      "Requirement already satisfied: PyYAML in c:\\anaconda\\lib\\site-packages (from wandb) (6.0)\n",
      "Requirement already satisfied: colorama in c:\\anaconda\\lib\\site-packages (from Click!=8.0.0,>=7.0->wandb) (0.4.5)\n",
      "Requirement already satisfied: six>=1.4.0 in c:\\anaconda\\lib\\site-packages (from docker-pycreds>=0.4.0->wandb) (1.16.0)\n",
      "Requirement already satisfied: gitdb<5,>=4.0.1 in c:\\anaconda\\lib\\site-packages (from GitPython>=1.0.0->wandb) (4.0.10)\n",
      "Requirement already satisfied: urllib3<1.27,>=1.21.1 in c:\\anaconda\\lib\\site-packages (from requests<3,>=2.0.0->wandb) (1.26.11)\n",
      "Requirement already satisfied: idna<4,>=2.5 in c:\\anaconda\\lib\\site-packages (from requests<3,>=2.0.0->wandb) (3.3)\n",
      "Requirement already satisfied: charset-normalizer<3,>=2 in c:\\anaconda\\lib\\site-packages (from requests<3,>=2.0.0->wandb) (2.0.4)\n",
      "Requirement already satisfied: certifi>=2017.4.17 in c:\\anaconda\\lib\\site-packages (from requests<3,>=2.0.0->wandb) (2022.9.14)\n",
      "Requirement already satisfied: smmap<6,>=3.0.1 in c:\\anaconda\\lib\\site-packages (from gitdb<5,>=4.0.1->GitPython>=1.0.0->wandb) (5.0.0)\n",
      "Note: you may need to restart the kernel to use updated packages.\n"
     ]
    }
   ],
   "source": [
    "pip install wandb"
   ]
  },
  {
   "cell_type": "code",
   "execution_count": 2,
   "id": "fc286b45",
   "metadata": {},
   "outputs": [],
   "source": [
    "import wandb"
   ]
  },
  {
   "cell_type": "code",
   "execution_count": 3,
   "id": "2fe66c6d",
   "metadata": {},
   "outputs": [
    {
     "name": "stderr",
     "output_type": "stream",
     "text": [
      "wandb: Appending key for api.wandb.ai to your netrc file: C:\\Users\\Shivam Maurya/.netrc\n"
     ]
    }
   ],
   "source": [
    "!wandb login b032cc059132c9aac4f1b317f6f9ad007ef9e4d4"
   ]
  },
  {
   "cell_type": "code",
   "execution_count": 4,
   "id": "9d0611fd",
   "metadata": {},
   "outputs": [
    {
     "name": "stderr",
     "output_type": "stream",
     "text": [
      "Failed to detect the name of this notebook, you can set it manually with the WANDB_NOTEBOOK_NAME environment variable to enable code saving.\n",
      "\u001b[34m\u001b[1mwandb\u001b[0m: Currently logged in as: \u001b[33mcs22m083\u001b[0m. Use \u001b[1m`wandb login --relogin`\u001b[0m to force relogin\n"
     ]
    },
    {
     "data": {
      "text/html": [
       "wandb version 0.14.0 is available!  To upgrade, please run:\n",
       " $ pip install wandb --upgrade"
      ],
      "text/plain": [
       "<IPython.core.display.HTML object>"
      ]
     },
     "metadata": {},
     "output_type": "display_data"
    },
    {
     "data": {
      "text/html": [
       "Tracking run with wandb version 0.13.10"
      ],
      "text/plain": [
       "<IPython.core.display.HTML object>"
      ]
     },
     "metadata": {},
     "output_type": "display_data"
    },
    {
     "data": {
      "text/html": [
       "Run data is saved locally in <code>C:\\Users\\Shivam Maurya\\OneDrive\\Desktop\\IIT_MADRAS\\Deep Learning\\assignment 1\\CS6910-Deep_Learning_Assignment-1\\wandb\\run-20230318_122958-abkoou6s</code>"
      ],
      "text/plain": [
       "<IPython.core.display.HTML object>"
      ]
     },
     "metadata": {},
     "output_type": "display_data"
    },
    {
     "data": {
      "text/html": [
       "Syncing run <strong><a href='https://wandb.ai/cs22m083/CS6910_Assignment1/runs/abkoou6s' target=\"_blank\">Question:1</a></strong> to <a href='https://wandb.ai/cs22m083/CS6910_Assignment1' target=\"_blank\">Weights & Biases</a> (<a href='https://wandb.me/run' target=\"_blank\">docs</a>)<br/>"
      ],
      "text/plain": [
       "<IPython.core.display.HTML object>"
      ]
     },
     "metadata": {},
     "output_type": "display_data"
    },
    {
     "data": {
      "text/html": [
       " View project at <a href='https://wandb.ai/cs22m083/CS6910_Assignment1' target=\"_blank\">https://wandb.ai/cs22m083/CS6910_Assignment1</a>"
      ],
      "text/plain": [
       "<IPython.core.display.HTML object>"
      ]
     },
     "metadata": {},
     "output_type": "display_data"
    },
    {
     "data": {
      "text/html": [
       " View run at <a href='https://wandb.ai/cs22m083/CS6910_Assignment1/runs/abkoou6s' target=\"_blank\">https://wandb.ai/cs22m083/CS6910_Assignment1/runs/abkoou6s</a>"
      ],
      "text/plain": [
       "<IPython.core.display.HTML object>"
      ]
     },
     "metadata": {},
     "output_type": "display_data"
    },
    {
     "data": {
      "text/html": [
       "<button onClick=\"this.nextSibling.style.display='block';this.style.display='none';\">Display W&B run</button><iframe src='https://wandb.ai/cs22m083/CS6910_Assignment1/runs/abkoou6s?jupyter=true' style='border:none;width:100%;height:420px;display:none;'></iframe>"
      ],
      "text/plain": [
       "<wandb.sdk.wandb_run.Run at 0x1f6cfd3b040>"
      ]
     },
     "execution_count": 4,
     "metadata": {},
     "output_type": "execute_result"
    }
   ],
   "source": [
    "wandb.init(project=\"CS6910_Assignment1\", name=\"Question:1\")"
   ]
  },
  {
   "cell_type": "markdown",
   "id": "7e1f9384",
   "metadata": {},
   "source": [
    "## Question 1 "
   ]
  },
  {
   "cell_type": "code",
   "execution_count": 5,
   "id": "df6e725d",
   "metadata": {},
   "outputs": [],
   "source": [
    "import numpy as np\n",
    "import pandas as pd\n",
    "from keras.datasets import mnist\n",
    "import seaborn as sns\n",
    "import matplotlib.pyplot as plt\n",
    "import matplotlib.colors\n",
    "from sklearn import metrics\n",
    "from sklearn.model_selection import train_test_split\n",
    "from sklearn.metrics import accuracy_score, mean_squared_error, log_loss\n",
    "from sklearn.preprocessing import OneHotEncoder"
   ]
  },
  {
   "cell_type": "code",
   "execution_count": 6,
   "id": "77c23e0c",
   "metadata": {},
   "outputs": [],
   "source": [
    "from matplotlib import pyplot as plt\n"
   ]
  },
  {
   "cell_type": "code",
   "execution_count": 7,
   "id": "8e2b386f",
   "metadata": {},
   "outputs": [],
   "source": [
    "from tensorflow.keras.datasets.fashion_mnist import load_data"
   ]
  },
  {
   "cell_type": "code",
   "execution_count": 8,
   "id": "42364895",
   "metadata": {},
   "outputs": [],
   "source": [
    "from keras.datasets import fashion_mnist\n",
    "import warnings\n",
    "warnings.filterwarnings(\"ignore\")"
   ]
  },
  {
   "cell_type": "code",
   "execution_count": 9,
   "id": "993f3eb5",
   "metadata": {},
   "outputs": [],
   "source": [
    "#Load the fashion MNIST data \n",
    "(x_train, y_train), (x_test, y_test) = fashion_mnist.load_data()"
   ]
  },
  {
   "cell_type": "code",
   "execution_count": 10,
   "id": "ed050f3c",
   "metadata": {},
   "outputs": [],
   "source": [
    "class_names = ['T-shirt', 'Trouser', 'Pullover', 'Dress', 'Coat', 'Sandal', 'Shirt', 'Sneaker', 'Bag', 'Ankle boot']"
   ]
  },
  {
   "cell_type": "code",
   "execution_count": 11,
   "id": "2b3acdab",
   "metadata": {},
   "outputs": [],
   "source": [
    "my_cmap = matplotlib.colors.LinearSegmentedColormap.from_list(\"\", [\"red\",\"yellow\",\"green\"])"
   ]
  },
  {
   "cell_type": "code",
   "execution_count": 12,
   "id": "ca18e047",
   "metadata": {},
   "outputs": [
    {
     "data": {
      "image/png": "[encoded data removed]",
      "text/plain": [
       "<Figure size 1000x500 with 10 Axes>"
      ]
     },
     "metadata": {},
     "output_type": "display_data"
    }
   ],
   "source": [
    "# Plot one sample image for each class\n",
    "fig, ax = plt.subplots(2, 5, figsize=(10, 5)) #  returns a tuple containing a figure and axes object(s)\n",
    "ax = ax.ravel()\n",
    "\n",
    "for i in range(len(class_names)):\n",
    "    ax[i].set_title(class_names[i])\n",
    "    # Find the index of the first image with the current label\n",
    "    idx = np.argmax(y_train == i) # Returns the indices of the maximum values along an axis.\n",
    "    # Plotting the image\n",
    "    ax[i].imshow(x_train[idx], cmap= 'gray') # display data as an image \n",
    "    wandb.log({\"Question1\": [wandb.Image(x_train[idx], caption= class_names[i])]})\n",
    "plt.show()"
   ]
  },
  {
   "cell_type": "code",
   "execution_count": 13,
   "id": "02a39f3f",
   "metadata": {},
   "outputs": [
    {
     "data": {
      "text/html": [
       "Waiting for W&B process to finish... <strong style=\"color:green\">(success).</strong>"
      ],
      "text/plain": [
       "<IPython.core.display.HTML object>"
      ]
     },
     "metadata": {},
     "output_type": "display_data"
    },
    {
     "data": {
      "application/vnd.jupyter.widget-view+json": {
       "model_id": "31234b0c5aa14a67b5950e8c4f82be73",
       "version_major": 2,
       "version_minor": 0
      },
      "text/plain": [
       "VBox(children=(Label(value='0.006 MB of 0.027 MB uploaded (0.000 MB deduped)\\r'), FloatProgress(value=0.232692…"
      ]
     },
     "metadata": {},
     "output_type": "display_data"
    },
    {
     "data": {
      "text/html": [
       " View run <strong style=\"color:#cdcd00\">Question:1</strong> at: <a href='https://wandb.ai/cs22m083/CS6910_Assignment1/runs/abkoou6s' target=\"_blank\">https://wandb.ai/cs22m083/CS6910_Assignment1/runs/abkoou6s</a><br/>Synced 5 W&B file(s), 10 media file(s), 0 artifact file(s) and 0 other file(s)"
      ],
      "text/plain": [
       "<IPython.core.display.HTML object>"
      ]
     },
     "metadata": {},
     "output_type": "display_data"
    },
    {
     "data": {
      "text/html": [
       "Find logs at: <code>.\\wandb\\run-20230318_122958-abkoou6s\\logs</code>"
      ],
      "text/plain": [
       "<IPython.core.display.HTML object>"
      ]
     },
     "metadata": {},
     "output_type": "display_data"
    }
   ],
   "source": [
    "wandb.finish()"
   ]
  },
  {
   "cell_type": "markdown",
   "id": "b795a645",
   "metadata": {},
   "source": [
    "## Question 2\n"
   ]
  },
  {
   "cell_type": "code",
   "execution_count": 14,
   "id": "10673929",
   "metadata": {},
   "outputs": [],
   "source": [
    "class FFSN_MultiClass:\n",
    "    def __init__(self, hidden_sizes=[3]):\n",
    "        self.A = {}\n",
    "        self.H = {}\n",
    "        self.n_inputs = 0\n",
    "        self.n_outputs= 0\n",
    "        self.W = {}\n",
    "        self.B = {}\n",
    "        self.sizes = []\n",
    "        self.hidden_size = hidden_sizes\n",
    "        self.n_hidden = len(hidden_sizes)\n",
    "        \n",
    "    # Function to initialize the weights between the layers of the network. Weights are initialized randomly.             \n",
    "    def weights_init(self):\n",
    "        \n",
    "        np.random.seed(120)\n",
    "        np.random.RandomState(120)\n",
    "        self.sizes = [self.n_inputs] + self.hidden_size + [self.n_outputs]\n",
    "        for i in range(self.n_hidden + 1):\n",
    "            size = self.sizes[i+1]\n",
    "            self.B[i+1] = np.zeros((1, size))# Zero initialization of Biases as matrix of size of 1 * next layer.\n",
    "            self.W[i+1] = np.random.randn(self.sizes[i], size) # Random initialization of weights per layer.\n",
    "            \n",
    "\n",
    "\n",
    "    def forward_pass(self, x, act_fun):\n",
    "        \n",
    "        self.H[0] = x.reshape(1, -1)\n",
    "        \n",
    "        for i in range(self.n_hidden):\n",
    "            bias = self.B[i+1]\n",
    "            weight = self.W[i+1]\n",
    "            self.A[i+1] = np.matmul(self.H[i], weight) + bias\n",
    "            self.H[i+1] = self.activation_fun( act_fun,  self.A[i+1] )\n",
    "            \n",
    "        self.A[self.n_hidden+1] = np.matmul(self.H[self.n_hidden], self.W[self.n_hidden+1]) + self.B[self.n_hidden+1]\n",
    "        self.H[self.n_hidden+1] = self.softmax(self.A[self.n_hidden+1])\n",
    "        return self.H[self.n_hidden+1]\n",
    "    \n",
    "    def predict(self, X, act_fun):\n",
    "        Y_pred = []\n",
    "        for x in X:\n",
    "            y_pred = self.forward_pass(x, act_fun)\n",
    "            Y_pred.append(y_pred)\n",
    "        return np.array(Y_pred).squeeze()\n",
    "    \n",
    "    def softmax(self, X):\n",
    "        exps = np.exp(X)\n",
    "        return exps / np.sum(exps, axis=1, keepdims=True)\n",
    "    \n",
    "    def activation_fun(self, fun, X):\n",
    "        \n",
    "        if fun == \"tanh\":\n",
    "            return self.tanh(X)\n",
    "        elif fun == \"relu\":\n",
    "            return self.relu(X)\n",
    "        else:\n",
    "            return self.sigmoid(X);\n",
    "        \n",
    "    def tanh(self, x):\n",
    "        return np.tanh(x)\n",
    "    \n",
    "    def relu(self, x):\n",
    "        y = (x > 0)\n",
    "        return X * y\n",
    "        \n",
    "    \n",
    "    #Sigmoid Function\n",
    "    def sigmoid(self, x):\n",
    "        \n",
    "        return (1./(1.0 + np.exp(-x)))\n",
    "\n",
    "\n",
    "    def fit(self, act_fun, X, Y):\n",
    "        ny = Y.shape[1]\n",
    "        self.n_inputs = X.shape[1] * X.shape[1]\n",
    "        self.n_outputs = ny\n",
    "        self.weights_init()\n",
    "        \n",
    "        \n",
    "        return self.predict(X, act_fun)"
   ]
  },
  {
   "cell_type": "code",
   "execution_count": 15,
   "id": "761c40c4",
   "metadata": {},
   "outputs": [
    {
     "name": "stdout",
     "output_type": "stream",
     "text": [
      "(60000, 10) (10000, 10)\n",
      "(60000, 28, 28)\n"
     ]
    }
   ],
   "source": [
    "enc = OneHotEncoder()\n",
    "x_train = x_train/255.0\n",
    "x_test = x_test/255.0\n",
    "y_OH_test = enc.fit_transform(np.expand_dims(y_test, 1)).toarray()\n",
    "y_OH_train = enc.fit_transform(np.expand_dims(y_train, 1)).toarray()\n",
    "print(y_OH_train.shape, y_OH_test.shape)\n",
    "print(x_train.shape)"
   ]
  },
  {
   "cell_type": "code",
   "execution_count": 16,
   "id": "5207d441",
   "metadata": {},
   "outputs": [],
   "source": [
    "layr = [150, 260, 380]\n",
    "obj = FFSN_MultiClass(layr)\n",
    "activation_name = \"sigmoid\"\n",
    "clas_pred = obj.fit(activation_name, x_train, y_OH_train)"
   ]
  },
  {
   "cell_type": "code",
   "execution_count": 17,
   "id": "014c0216",
   "metadata": {},
   "outputs": [],
   "source": [
    "np.set_printoptions(suppress=True)"
   ]
  },
  {
   "cell_type": "code",
   "execution_count": 18,
   "id": "3ba987a0",
   "metadata": {},
   "outputs": [
    {
     "name": "stdout",
     "output_type": "stream",
     "text": [
      "[0.00024276 0.0001071  0.         0.         0.00000016 0.98679121\n",
      " 0.00390697 0.00005168 0.00000237 0.00889774]\n"
     ]
    }
   ],
   "source": [
    " print(clas_pred[50])"
   ]
  },
  {
   "cell_type": "code",
   "execution_count": 19,
   "id": "c7469931",
   "metadata": {},
   "outputs": [
    {
     "name": "stdout",
     "output_type": "stream",
     "text": [
      "[0. 0. 0. 1. 0. 0. 0. 0. 0. 0.]\n"
     ]
    }
   ],
   "source": [
    "print(y_OH_train[50])"
   ]
  },
  {
   "cell_type": "markdown",
   "id": "31d71606",
   "metadata": {},
   "source": [
    "## Question 3"
   ]
  },
  {
   "cell_type": "code",
   "execution_count": 20,
   "id": "6b7232a4",
   "metadata": {},
   "outputs": [],
   "source": [
    "class FFNN():\n",
    " \n",
    "    def __init__(self,opt, hidden_sizes, loss_fun, activation_fun, output_act, b_s= 1024, epochs = 10, initialization = \"Random\", log=0, train_losses = None, train_accuracy = None, test_losses = None, test_accuracy = None):\n",
    "        \n",
    "        self.train_accuracy_list = train_accuracy\n",
    "        self.batch_size = b_s\n",
    "        self.layer_sizes = []\n",
    "        self.output_activation = output_act\n",
    "        self.dw = {}\n",
    "        self.output_layer_size=1\n",
    "        self.input_layer_size=0\n",
    "        self.A = {}\n",
    "        self.hidden_layer_sizes = hidden_sizes\n",
    "        self.dH = {}\n",
    "        self.loss_function = loss_fun\n",
    "        self.H = {}\n",
    "        self.train_losses_list = train_losses\n",
    "        self.optimizer = opt\n",
    "        self.dA = {}\n",
    "        self.activation_function = activation_fun\n",
    "        self.weights = {}\n",
    "        self.db = {}\n",
    "        self.biases = {}\n",
    "        #Layer sizes array will be initialzed after input and output layer size is obtained\n",
    "        self.val_accuracy_list = test_accuracy\n",
    "        self.val_losses_list = test_losses\n",
    "        self.wan_log = log\n",
    "        self.epochs = epochs\n",
    "        self.initialization = initialization\n",
    "\n",
    "\n",
    "    def initialize_weights(self):\n",
    "      \n",
    "        #Function to initialize the weights between the layers of the network. Weights are initialized randomly.\n",
    "        self.layer_sizes = [self.input_layer_size] + self.hidden_layer_sizes + [self.output_layer_size]\n",
    "        np.random.seed(137)\n",
    "        np.random.RandomState(137)\n",
    "        ln = len(self.hidden_layer_sizes)\n",
    "        self.optimizer.initialize(self.layer_sizes)\n",
    "        weight_counts =ln  +1\n",
    "        for i in range(weight_counts):\n",
    "            \n",
    "            s_size = (self.layer_sizes[i], self.layer_sizes[i+1])\n",
    "            lsize_i = self.layer_sizes[i]\n",
    "            lsize_i1 = self.layer_sizes[i+1]\n",
    "        \n",
    "            if self.initialization == \"Xavier\":\n",
    "               \n",
    "                self.weights[i+1] = np.random.normal(0.0, np.sqrt(2 / float(lsize_i + lsize_i1)) , size = s_size)\n",
    "\n",
    "            elif self.initialization == \"Random\":\n",
    "               \n",
    "                self.weights[i+1] = np.random.randn(lsize_i, lsize_i1)\n",
    "            self.biases[i+1] = np.zeros((1, lsize_i1))\n",
    "\n",
    "\n",
    "    def forward_propogation(self, X):\n",
    "        \n",
    "        ln = len(self.hidden_layer_sizes)\n",
    "        \n",
    "        self.H = {}\n",
    "        #Initialize the output from input layer as H[0] into a single row(row vector)\n",
    "        self.H[0] = X.reshape(1,-1)\n",
    "        self.A = {}\n",
    "        #Compute a(x) = W_x*h(x-1) and h(a(x)) = activation(a(x)) for hidden layer\n",
    "        for i in range(ln):\n",
    "            weight = self.weights[i+1]\n",
    "            bias = self.biases[i+1]\n",
    "            self.A[i+1] = np.matmul(self.H[i], weight) + bias\n",
    "            self.H[i+1] = self.activation_function.compute_activation(self.A[i+1])\n",
    "\n",
    "        ln = ln +1\n",
    "        weight = self.weights[ln]\n",
    "        bias = self.biases[ln]\n",
    "        self.A[ln] = np.matmul(self.H[ln-1], weight) + bias\n",
    "        #Compute a(x) and h(a(x)) = softmax(a(x)) for output layer\n",
    "        self.H[ln] = self.output_activation.compute_activation(self.A[ln]) \n",
    "        return  self.H[ln]\n",
    "\n",
    "    def backward_propogation(self, X, Y,  dw_i, db_i):\n",
    "        \n",
    "        ln = len(self.hidden_layer_sizes)\n",
    "        #Compute the gradient of loss wrt the activation of output layer\n",
    "        self.dA[ln +1] = self.loss_function.last_output_derivative(self.H[ln +1], Y, self.output_activation.compute_derivative(self.A[ln +1]))\n",
    "\n",
    "        #Compute the partial derivatives for the weights and biases of the layers\n",
    "        # change in weight : (assuming 2 hidden layers) dL/dW3 = dA3/dW3 * dL/dA3 = d(W3*H2 + B3)/dW3 * dL/dA3 = H2 * dL/dA3\n",
    "        # change in biase : (assuming 2 hidden layers) dL/dB3 = dA3/dB3 * dL/dA3 = d(W3*H2 + B3)/dB3 * dL/dA3 = 1 * dL/dA3\n",
    "        for i in range(ln, -1, -1):\n",
    "            weight = self.weights[i+1].T\n",
    "            db_i[i+1] = self.dA[i+1]\n",
    "            dw_i[i+1] = np.matmul(self.H[i].T, self.dA[i+1])\n",
    "            \n",
    "            if i!=0:\n",
    "                self.dH[i] = np.matmul(self.dA[i+1],weight)  \n",
    "                act_grad = self.activation_function.compute_derivative(self.A[i])\n",
    "                self.dA[i] = np.multiply(act_grad, self.dH[i])    \n",
    "               \n",
    "        return dw_i, db_i\n",
    "\n",
    "\n",
    "    def fit(self, X, Y, X_val, Y_val, console = 1):\n",
    "        \n",
    "        #Function to fit the data (X,Y) on the model. This performs forward + backward pass for epoch number of times. Gradient is updated after each batch is processed.\n",
    "        self.output_layer_size = Y.shape[1] # Number of columns in output (label count)\n",
    "        self.console_log = console\n",
    "        self.input_layer_size = X.shape[1]*X.shape[1] # Number of features in data(features)\n",
    "        hidden_ls = self.hidden_layer_sizes\n",
    "        self.initialize_weights()\n",
    "        ln = len(self.hidden_layer_sizes)+1\n",
    "        for e in range(self.epochs):\n",
    "            count = -1\n",
    "            for i in range(ln):\n",
    "                layer_size = self.layer_sizes[i+1]\n",
    "                self.db[i+1] = np.zeros((1, layer_size))\n",
    "                self.dw[i+1] = np.zeros((self.layer_sizes[i], layer_size))\n",
    "                \n",
    "            y_preds = []\n",
    "\n",
    "            for x, y in zip(X, Y):\n",
    "                count += 1\n",
    "                db_i = {}\n",
    "                dw_i = {}\n",
    "\n",
    "                if count==self.batch_size:\n",
    "                    #Done wih current batch\n",
    "        \n",
    "                    if self.optimizer.optimizer_name()==\"nag\":\n",
    "                        b_lookahead = {}\n",
    "                        w_lookahead = {}\n",
    "                        \n",
    "                        for i in range(ln):\n",
    "                            b_upd = self.optimizer.gamma*self.optimizer.update_history_b[i+1]\n",
    "                            w_upd = self.optimizer.gamma*self.optimizer.update_history_w[i+1]\n",
    "                            b_lookahead[i+1] = self.biases[i+1] - b_upd\n",
    "                            w_lookahead[i+1] = self.weights[i+1] - w_upd\n",
    "                            \n",
    "                        \n",
    "                        weights_old = self.weights\n",
    "                        self.weights = w_lookahead\n",
    "                        self.forward_propogation(x)\n",
    "                        dw_lookahead, db_lookahead = self.backward_propogation(x,y, dw_i, db_i) \n",
    "                        self.biases = b_lookahead\n",
    "                        biases_old = self.biases\n",
    "                        self.weights, self.biases = self.optimizer.update_parameters(weights_old, biases_old, dw_lookahead, db_lookahead, hidden_ls)\n",
    "\n",
    "                    else: \n",
    "                        self.weights, self.biases = self.optimizer.update_parameters(self.weights, self.biases, self.dw, self.db, hidden_ls)\n",
    "                    \n",
    "                    for i in range(ln):\n",
    "                        lsize1 = self.layer_sizes[i+1]\n",
    "                        lsize = self.layer_sizes[i]\n",
    "                        self.db[i+1] = np.zeros((1, lsize1))\n",
    "                        self.dw[i+1] = np.zeros((lsize, lsize1))\n",
    "\n",
    "                    count = 0\n",
    "                #Forward Propogation\n",
    "                self.forward_propogation(x)\n",
    "\n",
    "                #Predictions\n",
    "                y_preds.append(self.H[ln])\n",
    "\n",
    "                #Backward Propogation using Loss funtion\n",
    "                self.backward_propogation(x,y, dw_i, db_i) \n",
    "\n",
    "                for i in range(ln):\n",
    "                    b_i = db_i[i+1]\n",
    "                    w_i = dw_i[i+1]\n",
    "                    self.db[i+1] = self.db[i+1] + b_i\n",
    "                    self.dw[i+1] = self.dw[i+1] + w_i\n",
    "                    \n",
    "           \n",
    "            #Update weights based on loss(GD hence once every epoch update)\n",
    "            if self.optimizer.optimizer_name()==\"nag\":\n",
    "                b_lookahead = {}\n",
    "                w_lookahead = {}\n",
    "                \n",
    "                for i in range(ln):\n",
    "                    bias = self.biases[i+1]\n",
    "                    weight = self.weights[i+1]\n",
    "                    b_upd = self.optimizer.gamma*self.optimizer.update_history_b[i+1]\n",
    "                    w_upd = self.optimizer.gamma*self.optimizer.update_history_w[i+1]\n",
    "                    b_lookahead[i+1] = bias - b_upd\n",
    "                    w_lookahead[i+1] = weight - w_upd     \n",
    "                \n",
    "                biases_old, weights_old= self.biases, self.weights\n",
    "                self.biases, self.weights = b_lookahead , w_lookahead\n",
    "                \n",
    "                self.forward_propogation(x)\n",
    "                dw_lookahead, db_lookahead = self.backward_propogation(x, y, dw_i, db_i) \n",
    "                self.weights, self.biases = self.optimizer.update_parameters(weights_old, biases_old, dw_lookahead, db_lookahead, hidden_ls)\n",
    "\n",
    "            else:  \n",
    "                self.weights, self.biases = self.optimizer.update_parameters(self.weights, self.biases, self.dw, self.db, hidden_ls)\n",
    "            \n",
    "            y_preds = np.array(y_preds).squeeze()\n",
    "            y_preds_validation = self.predict(X_val)\n",
    "            \n",
    "            validation_loss = self.loss_function.compute_loss(Y_val, y_preds_validation, self.batch_size)\n",
    "            if self.val_losses_list != None:\n",
    "                self.val_losses_list.append(validation_loss) \n",
    "            \n",
    "            training_loss = self.loss_function.compute_loss(Y, y_preds, self.batch_size)\n",
    "            if self.train_losses_list != None:\n",
    "                self.train_losses_list.append(training_loss)\n",
    "                \n",
    "            validation_accuracy = accuracy_score(np.argmax(Y_val,1), np.argmax(y_preds_validation,1))\n",
    "            if self.val_accuracy_list != None:\n",
    "                self.val_accuracy_list.append(validation_accuracy)\n",
    "                \n",
    "            training_accuracy = accuracy_score(np.argmax(Y,1), np.argmax(y_preds,1))\n",
    "            if self.train_accuracy_list != None:\n",
    "                self.train_accuracy_list.append(training_accuracy)\n",
    "           \n",
    "              \n",
    "            if self.console_log == 1: #For Printing Log results on Console \n",
    "                print(\"Training Loss: \",round(training_loss,3),\"Val_loss:\", round(validation_loss, 3), \" Training Accuracy: \",round(training_accuracy,3), \"Val_accuracy:\", round(validation_accuracy,3), \" <-:Epoch:\",e+1,)\n",
    "            \n",
    "            \n",
    "            elif self.wan_log==1:#For Log metrics on wandb\n",
    "                \n",
    "                wandb.log({\"Training_accuracy\": training_accuracy, \"Validation_accuracy\": validation_accuracy, \"Training_loss\": training_loss, \"Validation_loss\": validation_loss, 'Epoch': e+1})\n",
    "\n",
    "    \n",
    "        return training_loss, validation_loss, training_accuracy, validation_accuracy\n",
    "\n",
    "    def predict(self, X):\n",
    "        y_pred = []\n",
    "        for x in X:\n",
    "            pred = self.forward_propogation(x)\n",
    "            y_pred.append(pred)\n",
    "\n",
    "        y_pred = np.array(y_pred).squeeze()\n",
    "        return y_pred"
   ]
  },
  {
   "cell_type": "markdown",
   "id": "0a0da190",
   "metadata": {},
   "source": [
    "## Optimization Function"
   ]
  },
  {
   "cell_type": "code",
   "execution_count": 21,
   "id": "f78fa892",
   "metadata": {},
   "outputs": [],
   "source": [
    "class Optimizer():\n",
    "    \n",
    "    def __init__(self, optimizer,  learning_rate = 0.001,  gamma = 0.001, beta1 = 0.9, beta2 = 0.999, weight_decay = 0.0, epsilon = 1e-8):\n",
    "        \n",
    "        self.update_history_b = {}\n",
    "        self.m_b = {}\n",
    "        self.optimizer = optimizer\n",
    "        self.learning_rate = learning_rate\n",
    "        self.db_look_ahead = {}\n",
    "        self.b_look_ahead = {}\n",
    "        self.weight_decay = weight_decay\n",
    "        self.v_b = {}\n",
    "        self.dw_look_ahead ={}\n",
    "        self.gamma = gamma\n",
    "        self.w_look_ahead = {}\n",
    "        self.update_history_w = {}\n",
    "        self.lr =0\n",
    "        self.epsilon = epsilon\n",
    "        self.m_w = {}\n",
    "        self.v_w ={}\n",
    "        if( self.optimizer == \"sgd\"):\n",
    "            self.learning_rate = learning_rate\n",
    "            self.weight_decay = weight_decay\n",
    "            \n",
    "        if( self.optimizer == \"momentum\" ):\n",
    "            self.weight_decay = weight_decay\n",
    "            self.initialized = False\n",
    "            self.update_history_w = {}\n",
    "            self.learning_rate = learning_rate\n",
    "            self.update_history_b = {}\n",
    "            self.gamma = gamma\n",
    "        \n",
    "        if( self.optimizer == \"nag\"):\n",
    "            self.initialized = False\n",
    "            self.update_history_b = {}\n",
    "            self.update_history_w = {}\n",
    "            self.learning_rate = learning_rate\n",
    "            self.b_look_ahead={}\n",
    "            self.w_look_ahead={}\n",
    "            self.gamma = gamma\n",
    "            self.db_look_ahead={}\n",
    "            self.dw_look_ahead={}\n",
    "\n",
    "        if( self.optimizer == \"rmsprop\"):\n",
    "            self.initialized = False\n",
    "            self.weight_decay = weight_decay\n",
    "            self.v_b = {}\n",
    "            self.v_w = {}\n",
    "            self.epsilon = epsilon\n",
    "            self.gamma = gamma\n",
    "            self.learning_rate = learning_rate\n",
    "            \n",
    "            \n",
    "\n",
    "        if( self.optimizer == \"adam\" or self.optimizer == \"nadam\"):\n",
    "            self.initialized = False\n",
    "            self.epsilon = epsilon\n",
    "            self.v_b = {}\n",
    "            self.v_w = {}\n",
    "            self.beta1 = beta1\n",
    "            self.beta2 = beta2\n",
    "            self.m_b = {}\n",
    "            self.m_w = {}\n",
    "            self.iterations = 1\n",
    "            self.learning_rate = learning_rate\n",
    "            self.weight_decay = weight_decay\n",
    "        \n",
    "\n",
    "    def set_learning_rate(self, learning_rate):\n",
    "\n",
    "        if(self.optimizer == \"sgd\"):\n",
    "            self.learning_rate = learning_rate\n",
    "\n",
    "        if( self.optimizer == \"momentum\" ):\n",
    "            self.learning_rate = learning_rate\n",
    "        \n",
    "        if( self.optimizer == \"nag\"):\n",
    "            self.learning_rate = learning_rate\n",
    "\n",
    "        if( self.optimizer == \"rmsprop\"):\n",
    "            self.learning_rate = learning_rate\n",
    "\n",
    "        if( self.optimizer == \"adam\" or self.optimizer == \"nadam\"):\n",
    "            self.learning_rate = learning_rate\n",
    "\n",
    "\n",
    "\n",
    "    def set_weight_decay(self, weight_dec):\n",
    "        self.weight_decay = weight_dec\n",
    "        \n",
    "    def set_initial_parameters(self, parameters):\n",
    "        \n",
    "        if(self.optimizer == \"sgd\"):\n",
    "            self.weight_decay = parameters[\"weight_decay\"]\n",
    "            self.learning_rate = parameters[\"learning_rate\"]\n",
    "\n",
    "        if( self.optimizer == \"momentum\" ):\n",
    "            self.weight_decay = parameters[\"weight_decay\"]\n",
    "            self.gamma = parameters[\"gamma\"]\n",
    "            self.learning_rate = parameters[\"learning_rate\"]\n",
    "            \n",
    "        \n",
    "        if( self.optimizer == \"nag\"):\n",
    "            self.gamma = parameters[\"gamma\"]\n",
    "            self.learning_rate = parameters[\"learning_rate\"]\n",
    "\n",
    "        if( self.optimizer == \"rmsprop\"):\n",
    "            \n",
    "            self.weight_decay = parameters[\"weight_decay\"]\n",
    "            self.learning_rate = parameters[\"learning_rate\"]\n",
    "            self.lr = 0.01\n",
    "            self.epsilon = parameters[\"epsilon\"]\n",
    "            self.gamma = parameters[\"gamma\"]\n",
    "            \n",
    "\n",
    "        if( self.optimizer == \"adam\" or self.optimizer == \"nadam\"):\n",
    "            self.weight_decay = parameters[\"weight_decay\"]\n",
    "            self.lr = 0.01\n",
    "            self.epsilon = parameters[\"epsilon\"]\n",
    "            self.beta1, self.beta2  = parameters[\"beta1\"], parameters[\"beta2\"]\n",
    "            self.learning_rate = parameters[\"learning_rate\"]\n",
    "            \n",
    "    def initialize(self, all_layers):\n",
    "        \n",
    "        self.b_look_ahead.clear()\n",
    "        self.update_history_b.clear()\n",
    "        ln = len(all_layers)\n",
    "        self.m_b.clear()\n",
    "        self.dw_look_ahead.clear()\n",
    "        self.v_b.clear()\n",
    "        self.w_look_ahead.clear()\n",
    "        ln = ln -1\n",
    "        self.update_history_w.clear()\n",
    "        self.m_w.clear()\n",
    "        self.db_look_ahead.clear()\n",
    "        self.v_w.clear()\n",
    "        \n",
    "        if(self.optimizer == \"sgd\"):\n",
    "            return\n",
    "\n",
    "        if( self.optimizer == \"momentum\" ):\n",
    "            \n",
    "            for i in range(ln):\n",
    "                all_layer = all_layers[i+1]\n",
    "                self.update_history_b[i+1] = np.zeros((1, all_layer))\n",
    "                self.update_history_w[i+1] = np.zeros((all_layers[i], all_layer))\n",
    "                \n",
    "        if( self.optimizer == \"nag\"):\n",
    "            \n",
    "            for i in range(ln):\n",
    "                all_layer = all_layers[i+1]\n",
    "                self.update_history_w[i+1] = np.zeros((all_layers[i], all_layer))\n",
    "                self.dw_look_ahead[i+1] = np.zeros((all_layers[i], all_layer))\n",
    "                self.w_look_ahead[i+1] = np.zeros((all_layers[i], all_layer))\n",
    "                self.update_history_b[i+1] = np.zeros((1, all_layer))\n",
    "                self.db_look_ahead[i+1] = np.zeros((1, all_layer))\n",
    "                self.b_look_ahead[i+1] = np.zeros((1, all_layer))\n",
    "\n",
    "        if( self.optimizer == \"rmsprop\"):\n",
    "            \n",
    "            for i in range(ln):\n",
    "                all_layer = all_layers[i+1]\n",
    "                self.v_w[i+1] = np.zeros((all_layers[i], all_layer))\n",
    "                self.v_b[i+1] = np.zeros((1, all_layer))\n",
    "\n",
    "        if( self.optimizer == \"adam\" or self.optimizer == \"nadam\"):\n",
    "            \n",
    "            for i in range(ln):\n",
    "                all_layer = all_layers[i+1]\n",
    "                self.m_b[i+1] = np.zeros((1, all_layer))\n",
    "                self.v_b[i+1] = np.zeros((1, all_layer))\n",
    "                self.m_w[i+1] = np.zeros((all_layers[i], all_layer))\n",
    "                self.v_w[i+1] = np.zeros((all_layers[i], all_layer))\n",
    "                \n",
    "    def optimizer_name(self):\n",
    "\n",
    "        if(self.optimizer == \"sgd\"):\n",
    "            return \"sgd\"\n",
    "\n",
    "        if( self.optimizer == \"momentum\" ):\n",
    "            return \"momentum\"\n",
    "        \n",
    "        if( self.optimizer == \"nag\"):\n",
    "            return \"nag\"\n",
    "\n",
    "        if( self.optimizer == \"rmsprop\"):\n",
    "            return \"rmsprop\"\n",
    "\n",
    "        if( self.optimizer == \"adam\"):\n",
    "            return \"adam\"\n",
    "        if( self.optimizer == \"nadam\"):\n",
    "            return \"nadam\"\n",
    "\n",
    "    def update_parameters(self, weights, biases, dw, db, layers):\n",
    "        nlayer = len(layers)+1\n",
    "        if(self.optimizer == \"sgd\"):\n",
    "            for i in range(nlayer):\n",
    "                decay_wt = self.weight_decay*weights[i+1]\n",
    "                dw[i+1] = dw[i+1] + decay_wt\n",
    "                grad_b = self.learning_rate * db[i+1]\n",
    "                grad_w = self.learning_rate * dw[i+1]\n",
    "                biases[i+1] = biases[i+1] - grad_b # b_t = b_{t-1} - eta*(dL/db)\n",
    "                weights[i+1] = weights[i+1] - grad_w # w_t = w_{t-1} - eta*(dL/dw)\n",
    "            \n",
    "            return weights, biases\n",
    "\n",
    "        if( self.optimizer == \"momentum\" ):\n",
    "            \"\"\"\n",
    "            Function to perform the weight update step based on optimizer algorithm\n",
    "            \"\"\"\n",
    "\n",
    "            for i in range(nlayer):\n",
    "                \n",
    "                wt_decay = self.weight_decay*weights[i+1]\n",
    "                dw[i+1] = dw[i+1] + wt_decay\n",
    "                upd_bias = self.learning_rate*db[i+1]\n",
    "                upd_weight = self.learning_rate*dw[i+1]\n",
    "                self.update_history_b[i+1] =self.gamma*self.update_history_b[i+1] + upd_bias \n",
    "                self.update_history_w[i+1] =self.gamma*self.update_history_w[i+1] + upd_weight\n",
    "                biases[i+1] = biases[i+1] - self.update_history_b[i+1]\n",
    "                weights[i+1] = weights[i+1] - self.update_history_w[i+1]\n",
    "            \n",
    "            return weights, biases\n",
    "        \n",
    "        if( self.optimizer == \"nag\"):\n",
    "            \"\"\"\n",
    "            Function to perform the weight update step based on optimizer algorithm\n",
    "            \"\"\"\n",
    "            for i in range(nlayer):\n",
    "                \n",
    "                grad_db = self.learning_rate*db[i+1]\n",
    "                grad_dw = self.learning_rate*dw[i+1]\n",
    "                self.update_history_b[i+1] = self.gamma*self.update_history_b[i+1] \n",
    "                self.update_history_b[i+1] += grad_db\n",
    "                biases[i+1] = biases[i+1] - self.update_history_b[i+1]\n",
    "                self.update_history_w[i+1] = self.gamma*self.update_history_w[i+1] \n",
    "                self.update_history_w[i+1] += grad_dw\n",
    "                weights[i+1] = weights[i+1] - self.update_history_w[i+1]\n",
    "                \n",
    "\n",
    "            return weights, biases\n",
    "\n",
    "        if( self.optimizer == \"rmsprop\"):\n",
    "            for i in range(nlayer):\n",
    "                eps = self.epsilon\n",
    "                lr = self.learning_rate\n",
    "                wt_decay = self.weight_decay*weights[i+1]\n",
    "                dw[i+1] = dw[i+1] + wt_decay\n",
    "                \n",
    "                v_weight = self.gamma*self.v_w[i+1] \n",
    "                self.v_w[i+1] = v_weight + (1-self.gamma)* ((dw[i+1])**2)\n",
    "                \n",
    "                v_bias = self.gamma*self.v_b[i+1]\n",
    "                self.v_b[i+1] = v_bias + (1-self.gamma)* ((db[i+1])**2)\n",
    "                \n",
    "                biase_upd = ((lr)/np.sqrt(self.v_b[i+1] + eps))*db[i+1]\n",
    "                weight_upd = ((lr)/np.sqrt(self.v_w[i+1] + eps))*dw[i+1]\n",
    "\n",
    "                biases[i+1] = biases[i+1] - biase_upd\n",
    "                weights[i+1] = weights[i+1] - weight_upd\n",
    "            \n",
    "            return weights, biases\n",
    "\n",
    "        if( self.optimizer == \"adam\" or self.optimizer == \"nadam\"):\n",
    "            #Function to perform the weight update step based on optimizer algorithm\n",
    "           \n",
    "            for i in range(nlayer):\n",
    "                eps = self.epsilon\n",
    "                lr = self.learning_rate\n",
    "                upd_wt = self.weight_decay*weights[i+1]\n",
    "                dw[i+1] = dw[i+1] + upd_wt\n",
    "\n",
    "                m_bias = self.beta1*self.m_b[i+1] \n",
    "                self.m_b[i+1] = m_bias + (1-self.beta1)* (db[i+1])\n",
    "                m_weight = self.beta1*self.m_w[i+1] \n",
    "                self.m_w[i+1] = m_weight + (1-self.beta1)* (dw[i+1])\n",
    "                v_weight = self.beta2*self.v_w[i+1] \n",
    "                self.v_w[i+1] = v_weight + (1-self.beta2)* ((dw[i+1])**2)\n",
    "                v_bias = self.beta2*self.v_b[i+1] \n",
    "                self.v_b[i+1] = v_bias + (1-self.beta2)* ((db[i+1])**2)\n",
    "                \n",
    "                v_hat_div = (1-(self.beta2**self.iterations))\n",
    "                m_hat_div = (1-(self.beta1**self.iterations))\n",
    "                v_b_hat = self.v_b[i+1] / v_hat_div\n",
    "                m_b_hat = self.m_b[i+1] / m_hat_div\n",
    "                v_w_hat = self.v_w[i+1] / v_hat_div\n",
    "                m_w_hat = self.m_w[i+1] / m_hat_div\n",
    "                nadam_impl = (1-self.beta1)/(1-(self.beta1**self.iterations))\n",
    "                if(self.optimizer == \"nadam\"):\n",
    "                    weight_upd = ((lr)/(np.sqrt(v_w_hat) + eps))*(self.beta1 * m_w_hat + (nadam_impl * dw[i+1]))\n",
    "                    weights[i+1] = weights[i+1] - weight_upd\n",
    "                    biases_upd = ((lr)/(np.sqrt(v_b_hat) + eps))*(self.beta1 * m_b_hat + (nadam_impl * db[i+1]))\n",
    "                    biases[i+1] = biases[i+1] - biases_upd\n",
    "                elif(self.optimizer == \"adam\"):\n",
    "                    weights_upd = ((lr)/(np.sqrt(v_w_hat) + eps))*(m_w_hat)\n",
    "                    biases_upd = ((lr)/(np.sqrt(v_b_hat) + eps))*(m_b_hat)\n",
    "                    \n",
    "                    weights[i+1] = weights[i+1] - weights_upd\n",
    "                    biases[i+1] = biases[i+1] - biases_upd\n",
    "                \n",
    "                nadam_impl = (1-self.beta1)/(1-(self.beta1**self.iterations))\n",
    "                \n",
    "            self.iterations = self.iterations + 1\n",
    "            \n",
    "            return weights, biases\n"
   ]
  },
  {
   "cell_type": "markdown",
   "id": "b48d8118",
   "metadata": {},
   "source": [
    "## Activation Function"
   ]
  },
  {
   "cell_type": "code",
   "execution_count": 22,
   "id": "ddbeae04",
   "metadata": {},
   "outputs": [],
   "source": [
    "class ActivationFunction():\n",
    "    def __init__(self, fun = \"sigmoid\"):\n",
    "        self.act_fun = fun\n",
    "\n",
    "    def compute_activation(self, X):\n",
    "\n",
    "        if(self.act_fun == \"sigmoid\"):\n",
    "            return 1.0/(1.0+np.exp(-X)) # sigmoid function\n",
    "        if(self.act_fun == \"softmax\"):\n",
    "            exponentials = np.exp(X) # softmax function\n",
    "            return exponentials / np.sum(exponentials)\n",
    "        if(self.act_fun == \"tanh\"):\n",
    "            return np.tanh(X) # tanh function\n",
    "        if(self.act_fun == \"relu\"):\n",
    "            return X * (X > 0) # relu function\n",
    "            \n",
    "    def compute_derivative(self, X):\n",
    "        if(self.act_fun == \"sigmoid\"):\n",
    "            val = self.compute_activation(X)\n",
    "            return val*(1-val)\n",
    "        if(self.act_fun == \"softmax\"):\n",
    "            softmax = self.compute_activation(X)\n",
    "            return softmax*(1-softmax)\n",
    "        if(self.act_fun == \"tanh\"):\n",
    "            return 1 - (np.tanh(X) ** 2)\n",
    "        if(self.act_fun == \"relu\"): \n",
    "            X[X > 0.0] = 1.0\n",
    "            X[X <= 0.0] = 0.0\n",
    "            return X"
   ]
  },
  {
   "cell_type": "markdown",
   "id": "943179e7",
   "metadata": {},
   "source": [
    "## Loss Function"
   ]
  },
  {
   "cell_type": "code",
   "execution_count": 23,
   "id": "4ba2acca",
   "metadata": {},
   "outputs": [],
   "source": [
    "class LossFunction():\n",
    "    def __init__(self, fun = \"cross_entropy\"):\n",
    "        self.loss_fun = fun\n",
    "    \n",
    "    def compute_loss(self, Y_true, Y_pred, batch_size):\n",
    "        ln = len(Y_true)\n",
    "        lss = 0\n",
    "        if(self.loss_fun == \"squared_loss\"):\n",
    "            return (1/2) * np.sum((Y_pred-Y_true)**2) / ln\n",
    "        \n",
    "        if(self.loss_fun == \"cross_entropy\"):\n",
    "            for p in Y_pred[0]:\n",
    "                if p < 10e-8  or np.isnan(p):\n",
    "                    p = 10e-8\n",
    "                    lss += 1\n",
    "            loss = np.multiply(Y_pred,Y_true)\n",
    "            loss = loss[loss != 0]\n",
    "            lss  = loss\n",
    "            loss = -np.log(loss)\n",
    "            loss = np.mean(loss)\n",
    "            return loss\n",
    "\n",
    "    def name(self):\n",
    "        if(self.loss_fun == \"squared_loss\"):\n",
    "            return \"squared_loss\" \n",
    "        \n",
    "        if(self.loss_fun == \"cross_entropy\"):\n",
    "            return \"cross_entropy_loss\"\n",
    "\n",
    "    def compute_derivative(self, Y_pred,Y_true):\n",
    "        \n",
    "        if(self.loss_fun == \"squared_loss\"):\n",
    "            return (Y_pred)*(Y_pred-Y_true)/len(Y_true)\n",
    "        \n",
    "        if(self.loss_fun == \"cross_entropy\"):\n",
    "            return -Y_true/(Y_pred)\n",
    "            \n",
    "\n",
    "    def last_output_derivative(self, Y_pred,Y_true,activation_derivative):\n",
    "        ln = len(Y_true)\n",
    "        lss = 0\n",
    "        for p in Y_pred[0]:\n",
    "                if (np.isnan(p) or p < 10e-8):\n",
    "                    lss += 1\n",
    "                    p = 10e-8\n",
    "        if(self.loss_fun == \"squared_loss\"):\n",
    "            return (Y_pred - Y_true)*activation_derivative / ln\n",
    "        \n",
    "        if(self.loss_fun == \"cross_entropy\"):\n",
    "            return -(Y_true - Y_pred)"
   ]
  },
  {
   "cell_type": "markdown",
   "id": "b2d7606a",
   "metadata": {},
   "source": [
    "## Testing Model"
   ]
  },
  {
   "cell_type": "code",
   "execution_count": null,
   "id": "7bbfef27",
   "metadata": {},
   "outputs": [
    {
     "name": "stdout",
     "output_type": "stream",
     "text": [
      "Training Loss:  0.559 Val_loss: 0.455  Training Accuracy:  0.799 Val_accuracy: 0.835  <-:Epoch: 1\n",
      "Training Loss:  0.401 Val_loss: 0.416  Training Accuracy:  0.854 Val_accuracy: 0.848  <-:Epoch: 2\n",
      "Training Loss:  0.366 Val_loss: 0.399  Training Accuracy:  0.866 Val_accuracy: 0.855  <-:Epoch: 3\n",
      "Training Loss:  0.344 Val_loss: 0.388  Training Accuracy:  0.874 Val_accuracy: 0.858  <-:Epoch: 4\n"
     ]
    }
   ],
   "source": [
    "# Parameters Selection for Different Optimization Algorithm\n",
    "parameters_sgd = {\"learning_rate\":0.001, \"weight_decay\":0.5} #sgd\n",
    "parameters_momentum = {\"learning_rate\":0.0001, \"gamma\":0.6, \"weight_decay\":0} #momentum\n",
    "parameters_nag = {\"learning_rate\":0.001, \"gamma\":0.009} #nag\n",
    "parameters_rmsprop = {\"learning_rate\":0.01, \"gamma\":0.009, \"epsilon\":1e-8, \"weight_decay\":0.5} #rmsprop\n",
    "parameters_adam = {\"learning_rate\":0.0006, \"beta1\":0.09, \"beta2\":0.999, \"epsilon\":1e-8, \"weight_decay\":0.001} #adam\n",
    "parameters_nadam = {\"learning_rate\":0.0006, \"beta1\":0.09, \"beta2\":0.999, \"epsilon\":1e-8, \"weight_decay\":0.001} #nadam\n",
    "\n",
    "\n",
    "# \"sgd\" : gradient_descent, \"momentum\" : momentum_gd, \"nag\": nag , \"rmsprop\":  RMSProp, \"adam\": Adam \"nadam\": Nadam\n",
    "\n",
    "optimizer = Optimizer(\"adam\")\n",
    "optimizer.set_initial_parameters(parameters_adam)\n",
    "\n",
    "\n",
    "#  \"cross_entropy\" : Cross Entropy Loss Function,  \"squared_loss\" : Squared Error Loss Function\n",
    "loss_fun = LossFunction(\"cross_entropy\")\n",
    "\n",
    "#Select activation-function(hidden layers) pass below respective string to select any Activation Fuction Eg:\"tanh\" in ActivationFunction\n",
    "# \"sigmoid\": SigmoidFunction, \"softmax\": SoftmaxFunction, \"tanh\": TanhFunction, \"relu\":ReLUFunction\n",
    "act_fun_hidden = ActivationFunction(\"tanh\")\n",
    "\n",
    "#Select activation - function for output layer\n",
    "act_fun_output = ActivationFunction(\"softmax\")\n",
    "\n",
    "#Add layer sizes for the hidden layers\n",
    "layers = [32, 64, 128]\n",
    "batch_size = 64\n",
    "model = FFNN(optimizer, layers, loss_fun, act_fun_hidden, act_fun_output, batch_size, 10, initialization = \"Xavier\")\n",
    "train_loss, val_loss, train_accuracy, val_accuracy = model.fit(x_train, y_OH_train, x_test, y_OH_test)\n"
   ]
  },
  {
   "cell_type": "code",
   "execution_count": null,
   "id": "fd01c31b",
   "metadata": {},
   "outputs": [],
   "source": [
    "#Accuracy for test data\n",
    "y_preds = model.predict(x_test)\n",
    "accuracy_train = accuracy_score(np.argmax(y_OH_test,1), np.argmax(y_preds,1))\n",
    "print(\"Training accuracy\", round(accuracy_train, 3))\n",
    "print(\"Validation Loss:\", round(val_loss,3), \"Validation Accuracy:\", round(val_accuracy,3))"
   ]
  },
  {
   "cell_type": "markdown",
   "id": "462165aa",
   "metadata": {},
   "source": [
    "## Question 4"
   ]
  },
  {
   "cell_type": "code",
   "execution_count": 26,
   "id": "1051bde7",
   "metadata": {},
   "outputs": [],
   "source": [
    "sweep_config = {\n",
    "    #RandomSearch over the hyperparameters\n",
    "    'method': 'random',\n",
    "    'metric': { 'goal': 'maximize','name': 'accuracy'},\n",
    "    \n",
    "    'parameters': {'activation': {'values': ['sigmoid' , 'tanh', 'relu']},\n",
    "                \n",
    "                    'batch_size':{'values':[16,32,64]},\n",
    "                    'optimizer': {'values': ['sgd', 'momentum', 'nag', 'rmsprop', 'adam', 'nadam']},\n",
    "                    'hidden_layers': {'values': [ [32,64],[32,64,128],[32,64,128,256]]},\n",
    "                    'epochs': {'values': [5,10]},\n",
    "                    'weight_decay': {'values': [0.0, 0.0005, 0.5]},\n",
    "                    'gamma': {'values': [0.03, 0.0006, 0.002]},\n",
    "                    'learning_rate': {'values': [0.0001, 0.005, 0.0006, 0.01, 0.0003, 0.0005]},\n",
    "                    'initialization':{'values': ['Xavier', 'Random']}\n",
    "                  }\n",
    "               }"
   ]
  },
  {
   "cell_type": "code",
   "execution_count": 27,
   "id": "a36d1a26",
   "metadata": {},
   "outputs": [],
   "source": [
    "def train():\n",
    "\n",
    "    var1 = wandb.init(project=\"CS6910_Assignment1\", name=\"Question:4\")\n",
    "    var2 = var1.config\n",
    "\n",
    "    # var2 is a variable that holds and saves hyperparameters and inputs\n",
    "    wandb.run.name = 'optimizer:-' + var2.optimizer + ' epochs:-' + str(var2.epochs) + ' activation:-' + var2.activation + ' init:-' + var2.initialization + ' layers:-' + str(len(var2.hidden_layers)) +' decay:-' + str(var2.weight_decay) + ' gamma:-' + str(var2.gamma) + ' learning_rate:-' + str(var2.learning_rate) + ' batch_size:-' + str(var2.batch_size)\n",
    "\n",
    "    \n",
    "    loss_fun = LossFunction(\"cross_entropy\")\n",
    "    epochs = var2.epochs\n",
    "    weight_decay = var2.weight_decay\n",
    "    hidden_layers = var2.hidden_layers\n",
    "    gamma = var2.gamma\n",
    "    learning_rate = var2.learning_rate\n",
    "\n",
    "    if var2.activation==\"sigmoid\":\n",
    "        activation = ActivationFunction(\"sigmoid\")\n",
    "    if var2.activation==\"tanh\":\n",
    "        activation = ActivationFunction(\"tanh\")\n",
    "    if var2.activation==\"relu\":\n",
    "        activation = ActivationFunction(\"relu\")\n",
    "\n",
    "    output_activation = ActivationFunction(\"softmax\")\n",
    "\n",
    "\n",
    "    parameters_sgd = {\"learning_rate\": learning_rate, \"weight_decay\":weight_decay}\n",
    "    parameters_momentum = {\"learning_rate\": learning_rate, \"gamma\": gamma, \"weight_decay\":weight_decay}\n",
    "    parameters_nag = {\"learning_rate\": learning_rate, \"gamma\": gamma}\n",
    "    parameters_rmsprop = {\"learning_rate\": learning_rate, \"gamma\":gamma, \"epsilon\":1e-8, \"weight_decay\":weight_decay}\n",
    "    parameters_adam = {\"learning_rate\": learning_rate, \"beta1\":0.09, \"beta2\":0.999, \"epsilon\":1e-8, \"weight_decay\":weight_decay}\n",
    "    parameters_nadam = {\"learning_rate\": learning_rate, \"beta1\":0.09, \"beta2\":0.999, \"epsilon\":1e-8, \"weight_decay\":weight_decay}\n",
    "\n",
    "    if var2.optimizer==\"sgd\":\n",
    "        optimizer = Optimizer(\"sgd\")\n",
    "        optimizer.set_initial_parameters(parameters_sgd)\n",
    "\n",
    "    if var2.optimizer==\"momentum\":\n",
    "        #Select optimizer(momentum)\n",
    "        optimizer = Optimizer(\"momentum\")\n",
    "        optimizer.set_initial_parameters(parameters_momentum)\n",
    "\n",
    "    if var2.optimizer==\"nag\":\n",
    "        #Select optimizer(momentum)\n",
    "        optimizer = Optimizer(\"nag\")\n",
    "        optimizer.set_initial_parameters(parameters_nag)\n",
    "\n",
    "    if var2.optimizer==\"rmsprop\":\n",
    "        #Select optimizer(rmsprop)\n",
    "        optimizer = Optimizer(\"rmsprop\")\n",
    "        optimizer.set_initial_parameters(parameters_rmsprop)\n",
    "\n",
    "    if var2.optimizer==\"adam\":\n",
    "        #Select optimizer(adam)\n",
    "        optimizer = Optimizer(\"adam\")\n",
    "        optimizer.set_initial_parameters(parameters_adam)\n",
    "\n",
    "    if var2.optimizer==\"nadam\":\n",
    "        #Select optimizer(nadam)\n",
    "        optimizer = Optimizer(\"nadam\")\n",
    "        optimizer.set_initial_parameters(parameters_nadam)\n",
    "\n",
    "    if(var2.initialization == \"Random\"):\n",
    "        initn = \"Random\"\n",
    "    else:\n",
    "        initn = \"Xavier\"\n",
    "    \n",
    "    batch_size = var2.batch_size\n",
    "\n",
    "    #Model training \n",
    "    #Ensure that log=1 parameter is set for logging onto wandb\n",
    "    model = FFNN(optimizer, hidden_layers, loss_fun, activation, output_activation, batch_size, epochs, initn, log=1)\n",
    "\n",
    "    train_loss, val_loss, train_accuracy, val_accuracy = model.fit(x_train, y_OH_train, x_test, y_OH_test, console= 0)\n",
    "    print(\" Training Loss: \",train_loss, \" Validation Loss:\",val_loss ,\" Training Accuracy: \",train_accuracy, \" Validation Accuracy:\", val_accuracy)\n",
    "\n",
    "    #Log validation accuracy for this run\n",
    "    wandb.log({\"Accuracy\": val_accuracy})"
   ]
  },
  {
   "cell_type": "code",
   "execution_count": 28,
   "id": "73f9dd57",
   "metadata": {},
   "outputs": [
    {
     "name": "stdout",
     "output_type": "stream",
     "text": [
      "Create sweep with ID: gb9w2qt6\n",
      "Sweep URL: https://wandb.ai/cs22m083/CS6910_Assignment1/sweeps/gb9w2qt6\n"
     ]
    }
   ],
   "source": [
    "sweep_id = wandb.sweep(sweep_config, project=\"CS6910_Assignment1\")"
   ]
  },
  {
   "cell_type": "code",
   "execution_count": 29,
   "id": "9fe33634",
   "metadata": {},
   "outputs": [
    {
     "name": "stderr",
     "output_type": "stream",
     "text": [
      "\u001b[34m\u001b[1mwandb\u001b[0m: Agent Starting Run: j639os4x with config:\n",
      "\u001b[34m\u001b[1mwandb\u001b[0m: \tactivation: relu\n",
      "\u001b[34m\u001b[1mwandb\u001b[0m: \tbatch_size: 32\n",
      "\u001b[34m\u001b[1mwandb\u001b[0m: \tepochs: 5\n",
      "\u001b[34m\u001b[1mwandb\u001b[0m: \tgamma: 0.0006\n",
      "\u001b[34m\u001b[1mwandb\u001b[0m: \thidden_layers: [32, 64]\n",
      "\u001b[34m\u001b[1mwandb\u001b[0m: \tinitialization: Random\n",
      "\u001b[34m\u001b[1mwandb\u001b[0m: \tlearning_rate: 0.0006\n",
      "\u001b[34m\u001b[1mwandb\u001b[0m: \toptimizer: nag\n",
      "\u001b[34m\u001b[1mwandb\u001b[0m: \tweight_decay: 0.5\n",
      "Failed to detect the name of this notebook, you can set it manually with the WANDB_NOTEBOOK_NAME environment variable to enable code saving.\n",
      "\u001b[34m\u001b[1mwandb\u001b[0m: \u001b[33mWARNING\u001b[0m Ignored wandb.init() arg project when running a sweep.\n"
     ]
    },
    {
     "data": {
      "text/html": [
       "wandb version 0.14.0 is available!  To upgrade, please run:\n",
       " $ pip install wandb --upgrade"
      ],
      "text/plain": [
       "<IPython.core.display.HTML object>"
      ]
     },
     "metadata": {},
     "output_type": "display_data"
    },
    {
     "data": {
      "text/html": [
       "Tracking run with wandb version 0.13.10"
      ],
      "text/plain": [
       "<IPython.core.display.HTML object>"
      ]
     },
     "metadata": {},
     "output_type": "display_data"
    },
    {
     "data": {
      "text/html": [
       "Run data is saved locally in <code>C:\\Users\\Shivam Maurya\\OneDrive\\Desktop\\IIT_MADRAS\\Deep Learning\\assignment 1\\CS6910-Deep_Learning_Assignment-1\\wandb\\run-20230318_123339-j639os4x</code>"
      ],
      "text/plain": [
       "<IPython.core.display.HTML object>"
      ]
     },
     "metadata": {},
     "output_type": "display_data"
    },
    {
     "data": {
      "text/html": [
       "Syncing run <strong><a href='https://wandb.ai/cs22m083/CS6910_Assignment1/runs/j639os4x' target=\"_blank\">Question:4</a></strong> to <a href='https://wandb.ai/cs22m083/CS6910_Assignment1' target=\"_blank\">Weights & Biases</a> (<a href='https://wandb.me/run' target=\"_blank\">docs</a>)<br/>Sweep page: <a href='https://wandb.ai/cs22m083/CS6910_Assignment1/sweeps/gb9w2qt6' target=\"_blank\">https://wandb.ai/cs22m083/CS6910_Assignment1/sweeps/gb9w2qt6</a>"
      ],
      "text/plain": [
       "<IPython.core.display.HTML object>"
      ]
     },
     "metadata": {},
     "output_type": "display_data"
    },
    {
     "data": {
      "text/html": [
       " View project at <a href='https://wandb.ai/cs22m083/CS6910_Assignment1' target=\"_blank\">https://wandb.ai/cs22m083/CS6910_Assignment1</a>"
      ],
      "text/plain": [
       "<IPython.core.display.HTML object>"
      ]
     },
     "metadata": {},
     "output_type": "display_data"
    },
    {
     "data": {
      "text/html": [
       " View sweep at <a href='https://wandb.ai/cs22m083/CS6910_Assignment1/sweeps/gb9w2qt6' target=\"_blank\">https://wandb.ai/cs22m083/CS6910_Assignment1/sweeps/gb9w2qt6</a>"
      ],
      "text/plain": [
       "<IPython.core.display.HTML object>"
      ]
     },
     "metadata": {},
     "output_type": "display_data"
    },
    {
     "data": {
      "text/html": [
       " View run at <a href='https://wandb.ai/cs22m083/CS6910_Assignment1/runs/j639os4x' target=\"_blank\">https://wandb.ai/cs22m083/CS6910_Assignment1/runs/j639os4x</a>"
      ],
      "text/plain": [
       "<IPython.core.display.HTML object>"
      ]
     },
     "metadata": {},
     "output_type": "display_data"
    },
    {
     "name": "stdout",
     "output_type": "stream",
     "text": [
      " Training Loss:  5.460824419269098  Validation Loss: 5.638637393834711  Training Accuracy:  0.5682  Validation Accuracy: 0.5527\n"
     ]
    },
    {
     "data": {
      "text/html": [
       "Waiting for W&B process to finish... <strong style=\"color:green\">(success).</strong>"
      ],
      "text/plain": [
       "<IPython.core.display.HTML object>"
      ]
     },
     "metadata": {},
     "output_type": "display_data"
    },
    {
     "data": {
      "text/html": [
       "<style>\n",
       "    table.wandb td:nth-child(1) { padding: 0 10px; text-align: left ; width: auto;} td:nth-child(2) {text-align: left ; width: 100%}\n",
       "    .wandb-row { display: flex; flex-direction: row; flex-wrap: wrap; justify-content: flex-start; width: 100% }\n",
       "    .wandb-col { display: flex; flex-direction: column; flex-basis: 100%; flex: 1; padding: 10px; }\n",
       "    </style>\n",
       "<div class=\"wandb-row\"><div class=\"wandb-col\"><h3>Run history:</h3><br/><table class=\"wandb\"><tr><td>Accuracy</td><td>▁</td></tr><tr><td>Epoch</td><td>▁▃▅▆█</td></tr><tr><td>Training_accuracy</td><td>▁▆▇██</td></tr><tr><td>Training_loss</td><td> █▄▂▁</td></tr><tr><td>Validation_accuracy</td><td>▁▆▅▇█</td></tr><tr><td>Validation_loss</td><td>█▃▃▁▁</td></tr></table><br/></div><div class=\"wandb-col\"><h3>Run summary:</h3><br/><table class=\"wandb\"><tr><td>Accuracy</td><td>0.5527</td></tr><tr><td>Epoch</td><td>5</td></tr><tr><td>Training_accuracy</td><td>0.5682</td></tr><tr><td>Training_loss</td><td>5.46082</td></tr><tr><td>Validation_accuracy</td><td>0.5527</td></tr><tr><td>Validation_loss</td><td>5.63864</td></tr></table><br/></div></div>"
      ],
      "text/plain": [
       "<IPython.core.display.HTML object>"
      ]
     },
     "metadata": {},
     "output_type": "display_data"
    },
    {
     "data": {
      "text/html": [
       " View run <strong style=\"color:#cdcd00\">Question:4</strong> at: <a href='https://wandb.ai/cs22m083/CS6910_Assignment1/runs/j639os4x' target=\"_blank\">https://wandb.ai/cs22m083/CS6910_Assignment1/runs/j639os4x</a><br/>Synced 6 W&B file(s), 0 media file(s), 0 artifact file(s) and 0 other file(s)"
      ],
      "text/plain": [
       "<IPython.core.display.HTML object>"
      ]
     },
     "metadata": {},
     "output_type": "display_data"
    },
    {
     "data": {
      "text/html": [
       "Find logs at: <code>.\\wandb\\run-20230318_123339-j639os4x\\logs</code>"
      ],
      "text/plain": [
       "<IPython.core.display.HTML object>"
      ]
     },
     "metadata": {},
     "output_type": "display_data"
    },
    {
     "name": "stderr",
     "output_type": "stream",
     "text": [
      "\u001b[34m\u001b[1mwandb\u001b[0m: Agent Starting Run: djmto2i4 with config:\n",
      "\u001b[34m\u001b[1mwandb\u001b[0m: \tactivation: sigmoid\n",
      "\u001b[34m\u001b[1mwandb\u001b[0m: \tbatch_size: 64\n",
      "\u001b[34m\u001b[1mwandb\u001b[0m: \tepochs: 5\n",
      "\u001b[34m\u001b[1mwandb\u001b[0m: \tgamma: 0.002\n",
      "\u001b[34m\u001b[1mwandb\u001b[0m: \thidden_layers: [32, 64, 128]\n",
      "\u001b[34m\u001b[1mwandb\u001b[0m: \tinitialization: Xavier\n",
      "\u001b[34m\u001b[1mwandb\u001b[0m: \tlearning_rate: 0.0001\n",
      "\u001b[34m\u001b[1mwandb\u001b[0m: \toptimizer: adam\n",
      "\u001b[34m\u001b[1mwandb\u001b[0m: \tweight_decay: 0\n",
      "Failed to detect the name of this notebook, you can set it manually with the WANDB_NOTEBOOK_NAME environment variable to enable code saving.\n",
      "\u001b[34m\u001b[1mwandb\u001b[0m: \u001b[33mWARNING\u001b[0m Ignored wandb.init() arg project when running a sweep.\n"
     ]
    },
    {
     "data": {
      "text/html": [
       "wandb version 0.14.0 is available!  To upgrade, please run:\n",
       " $ pip install wandb --upgrade"
      ],
      "text/plain": [
       "<IPython.core.display.HTML object>"
      ]
     },
     "metadata": {},
     "output_type": "display_data"
    },
    {
     "data": {
      "text/html": [
       "Tracking run with wandb version 0.13.10"
      ],
      "text/plain": [
       "<IPython.core.display.HTML object>"
      ]
     },
     "metadata": {},
     "output_type": "display_data"
    },
    {
     "data": {
      "text/html": [
       "Run data is saved locally in <code>C:\\Users\\Shivam Maurya\\OneDrive\\Desktop\\IIT_MADRAS\\Deep Learning\\assignment 1\\CS6910-Deep_Learning_Assignment-1\\wandb\\run-20230318_123510-djmto2i4</code>"
      ],
      "text/plain": [
       "<IPython.core.display.HTML object>"
      ]
     },
     "metadata": {},
     "output_type": "display_data"
    },
    {
     "data": {
      "text/html": [
       "Syncing run <strong><a href='https://wandb.ai/cs22m083/CS6910_Assignment1/runs/djmto2i4' target=\"_blank\">Question:4</a></strong> to <a href='https://wandb.ai/cs22m083/CS6910_Assignment1' target=\"_blank\">Weights & Biases</a> (<a href='https://wandb.me/run' target=\"_blank\">docs</a>)<br/>Sweep page: <a href='https://wandb.ai/cs22m083/CS6910_Assignment1/sweeps/gb9w2qt6' target=\"_blank\">https://wandb.ai/cs22m083/CS6910_Assignment1/sweeps/gb9w2qt6</a>"
      ],
      "text/plain": [
       "<IPython.core.display.HTML object>"
      ]
     },
     "metadata": {},
     "output_type": "display_data"
    },
    {
     "data": {
      "text/html": [
       " View project at <a href='https://wandb.ai/cs22m083/CS6910_Assignment1' target=\"_blank\">https://wandb.ai/cs22m083/CS6910_Assignment1</a>"
      ],
      "text/plain": [
       "<IPython.core.display.HTML object>"
      ]
     },
     "metadata": {},
     "output_type": "display_data"
    },
    {
     "data": {
      "text/html": [
       " View sweep at <a href='https://wandb.ai/cs22m083/CS6910_Assignment1/sweeps/gb9w2qt6' target=\"_blank\">https://wandb.ai/cs22m083/CS6910_Assignment1/sweeps/gb9w2qt6</a>"
      ],
      "text/plain": [
       "<IPython.core.display.HTML object>"
      ]
     },
     "metadata": {},
     "output_type": "display_data"
    },
    {
     "data": {
      "text/html": [
       " View run at <a href='https://wandb.ai/cs22m083/CS6910_Assignment1/runs/djmto2i4' target=\"_blank\">https://wandb.ai/cs22m083/CS6910_Assignment1/runs/djmto2i4</a>"
      ],
      "text/plain": [
       "<IPython.core.display.HTML object>"
      ]
     },
     "metadata": {},
     "output_type": "display_data"
    },
    {
     "name": "stdout",
     "output_type": "stream",
     "text": [
      " Training Loss:  0.7629437852946944  Validation Loss: 0.7313029785663262  Training Accuracy:  0.7117333333333333  Validation Accuracy: 0.716\n"
     ]
    },
    {
     "data": {
      "text/html": [
       "Waiting for W&B process to finish... <strong style=\"color:green\">(success).</strong>"
      ],
      "text/plain": [
       "<IPython.core.display.HTML object>"
      ]
     },
     "metadata": {},
     "output_type": "display_data"
    },
    {
     "data": {
      "application/vnd.jupyter.widget-view+json": {
       "model_id": "974dc2556cfd46749aaa74d9e116d24a",
       "version_major": 2,
       "version_minor": 0
      },
      "text/plain": [
       "VBox(children=(Label(value='0.001 MB of 0.001 MB uploaded (0.000 MB deduped)\\r'), FloatProgress(value=1.0, max…"
      ]
     },
     "metadata": {},
     "output_type": "display_data"
    },
    {
     "data": {
      "text/html": [
       "<style>\n",
       "    table.wandb td:nth-child(1) { padding: 0 10px; text-align: left ; width: auto;} td:nth-child(2) {text-align: left ; width: 100%}\n",
       "    .wandb-row { display: flex; flex-direction: row; flex-wrap: wrap; justify-content: flex-start; width: 100% }\n",
       "    .wandb-col { display: flex; flex-direction: column; flex-basis: 100%; flex: 1; padding: 10px; }\n",
       "    </style>\n",
       "<div class=\"wandb-row\"><div class=\"wandb-col\"><h3>Run history:</h3><br/><table class=\"wandb\"><tr><td>Accuracy</td><td>▁</td></tr><tr><td>Epoch</td><td>▁▃▅▆█</td></tr><tr><td>Training_accuracy</td><td>▁▅▆▇█</td></tr><tr><td>Training_loss</td><td>█▅▃▂▁</td></tr><tr><td>Validation_accuracy</td><td>▁▄▇██</td></tr><tr><td>Validation_loss</td><td>█▅▃▂▁</td></tr></table><br/></div><div class=\"wandb-col\"><h3>Run summary:</h3><br/><table class=\"wandb\"><tr><td>Accuracy</td><td>0.716</td></tr><tr><td>Epoch</td><td>5</td></tr><tr><td>Training_accuracy</td><td>0.71173</td></tr><tr><td>Training_loss</td><td>0.76294</td></tr><tr><td>Validation_accuracy</td><td>0.716</td></tr><tr><td>Validation_loss</td><td>0.7313</td></tr></table><br/></div></div>"
      ],
      "text/plain": [
       "<IPython.core.display.HTML object>"
      ]
     },
     "metadata": {},
     "output_type": "display_data"
    },
    {
     "data": {
      "text/html": [
       " View run <strong style=\"color:#cdcd00\">Question:4</strong> at: <a href='https://wandb.ai/cs22m083/CS6910_Assignment1/runs/djmto2i4' target=\"_blank\">https://wandb.ai/cs22m083/CS6910_Assignment1/runs/djmto2i4</a><br/>Synced 6 W&B file(s), 0 media file(s), 0 artifact file(s) and 0 other file(s)"
      ],
      "text/plain": [
       "<IPython.core.display.HTML object>"
      ]
     },
     "metadata": {},
     "output_type": "display_data"
    },
    {
     "data": {
      "text/html": [
       "Find logs at: <code>.\\wandb\\run-20230318_123510-djmto2i4\\logs</code>"
      ],
      "text/plain": [
       "<IPython.core.display.HTML object>"
      ]
     },
     "metadata": {},
     "output_type": "display_data"
    },
    {
     "name": "stderr",
     "output_type": "stream",
     "text": [
      "\u001b[34m\u001b[1mwandb\u001b[0m: Sweep Agent: Waiting for job.\n",
      "\u001b[34m\u001b[1mwandb\u001b[0m: Job received.\n",
      "\u001b[34m\u001b[1mwandb\u001b[0m: Agent Starting Run: if9nknsh with config:\n",
      "\u001b[34m\u001b[1mwandb\u001b[0m: \tactivation: tanh\n",
      "\u001b[34m\u001b[1mwandb\u001b[0m: \tbatch_size: 32\n",
      "\u001b[34m\u001b[1mwandb\u001b[0m: \tepochs: 5\n",
      "\u001b[34m\u001b[1mwandb\u001b[0m: \tgamma: 0.03\n",
      "\u001b[34m\u001b[1mwandb\u001b[0m: \thidden_layers: [32, 64, 128]\n",
      "\u001b[34m\u001b[1mwandb\u001b[0m: \tinitialization: Random\n",
      "\u001b[34m\u001b[1mwandb\u001b[0m: \tlearning_rate: 0.0005\n",
      "\u001b[34m\u001b[1mwandb\u001b[0m: \toptimizer: adam\n",
      "\u001b[34m\u001b[1mwandb\u001b[0m: \tweight_decay: 0\n",
      "Failed to detect the name of this notebook, you can set it manually with the WANDB_NOTEBOOK_NAME environment variable to enable code saving.\n",
      "\u001b[34m\u001b[1mwandb\u001b[0m: \u001b[33mWARNING\u001b[0m Ignored wandb.init() arg project when running a sweep.\n"
     ]
    },
    {
     "data": {
      "text/html": [
       "wandb version 0.14.0 is available!  To upgrade, please run:\n",
       " $ pip install wandb --upgrade"
      ],
      "text/plain": [
       "<IPython.core.display.HTML object>"
      ]
     },
     "metadata": {},
     "output_type": "display_data"
    },
    {
     "data": {
      "text/html": [
       "Tracking run with wandb version 0.13.10"
      ],
      "text/plain": [
       "<IPython.core.display.HTML object>"
      ]
     },
     "metadata": {},
     "output_type": "display_data"
    },
    {
     "data": {
      "text/html": [
       "Run data is saved locally in <code>C:\\Users\\Shivam Maurya\\OneDrive\\Desktop\\IIT_MADRAS\\Deep Learning\\assignment 1\\CS6910-Deep_Learning_Assignment-1\\wandb\\run-20230318_123712-if9nknsh</code>"
      ],
      "text/plain": [
       "<IPython.core.display.HTML object>"
      ]
     },
     "metadata": {},
     "output_type": "display_data"
    },
    {
     "data": {
      "text/html": [
       "Syncing run <strong><a href='https://wandb.ai/cs22m083/CS6910_Assignment1/runs/if9nknsh' target=\"_blank\">Question:4</a></strong> to <a href='https://wandb.ai/cs22m083/CS6910_Assignment1' target=\"_blank\">Weights & Biases</a> (<a href='https://wandb.me/run' target=\"_blank\">docs</a>)<br/>Sweep page: <a href='https://wandb.ai/cs22m083/CS6910_Assignment1/sweeps/gb9w2qt6' target=\"_blank\">https://wandb.ai/cs22m083/CS6910_Assignment1/sweeps/gb9w2qt6</a>"
      ],
      "text/plain": [
       "<IPython.core.display.HTML object>"
      ]
     },
     "metadata": {},
     "output_type": "display_data"
    },
    {
     "data": {
      "text/html": [
       " View project at <a href='https://wandb.ai/cs22m083/CS6910_Assignment1' target=\"_blank\">https://wandb.ai/cs22m083/CS6910_Assignment1</a>"
      ],
      "text/plain": [
       "<IPython.core.display.HTML object>"
      ]
     },
     "metadata": {},
     "output_type": "display_data"
    },
    {
     "data": {
      "text/html": [
       " View sweep at <a href='https://wandb.ai/cs22m083/CS6910_Assignment1/sweeps/gb9w2qt6' target=\"_blank\">https://wandb.ai/cs22m083/CS6910_Assignment1/sweeps/gb9w2qt6</a>"
      ],
      "text/plain": [
       "<IPython.core.display.HTML object>"
      ]
     },
     "metadata": {},
     "output_type": "display_data"
    },
    {
     "data": {
      "text/html": [
       " View run at <a href='https://wandb.ai/cs22m083/CS6910_Assignment1/runs/if9nknsh' target=\"_blank\">https://wandb.ai/cs22m083/CS6910_Assignment1/runs/if9nknsh</a>"
      ],
      "text/plain": [
       "<IPython.core.display.HTML object>"
      ]
     },
     "metadata": {},
     "output_type": "display_data"
    },
    {
     "name": "stdout",
     "output_type": "stream",
     "text": [
      " Training Loss:  1.0348830002874163  Validation Loss: 1.0403913951850823  Training Accuracy:  0.6530666666666667  Validation Accuracy: 0.6461\n"
     ]
    },
    {
     "data": {
      "text/html": [
       "Waiting for W&B process to finish... <strong style=\"color:green\">(success).</strong>"
      ],
      "text/plain": [
       "<IPython.core.display.HTML object>"
      ]
     },
     "metadata": {},
     "output_type": "display_data"
    },
    {
     "data": {
      "text/html": [
       "<style>\n",
       "    table.wandb td:nth-child(1) { padding: 0 10px; text-align: left ; width: auto;} td:nth-child(2) {text-align: left ; width: 100%}\n",
       "    .wandb-row { display: flex; flex-direction: row; flex-wrap: wrap; justify-content: flex-start; width: 100% }\n",
       "    .wandb-col { display: flex; flex-direction: column; flex-basis: 100%; flex: 1; padding: 10px; }\n",
       "    </style>\n",
       "<div class=\"wandb-row\"><div class=\"wandb-col\"><h3>Run history:</h3><br/><table class=\"wandb\"><tr><td>Accuracy</td><td>▁</td></tr><tr><td>Epoch</td><td>▁▃▅▆█</td></tr><tr><td>Training_accuracy</td><td>▁▆▇▇█</td></tr><tr><td>Training_loss</td><td>█▃▂▁▁</td></tr><tr><td>Validation_accuracy</td><td>▁▄▆▇█</td></tr><tr><td>Validation_loss</td><td>█▄▃▂▁</td></tr></table><br/></div><div class=\"wandb-col\"><h3>Run summary:</h3><br/><table class=\"wandb\"><tr><td>Accuracy</td><td>0.6461</td></tr><tr><td>Epoch</td><td>5</td></tr><tr><td>Training_accuracy</td><td>0.65307</td></tr><tr><td>Training_loss</td><td>1.03488</td></tr><tr><td>Validation_accuracy</td><td>0.6461</td></tr><tr><td>Validation_loss</td><td>1.04039</td></tr></table><br/></div></div>"
      ],
      "text/plain": [
       "<IPython.core.display.HTML object>"
      ]
     },
     "metadata": {},
     "output_type": "display_data"
    },
    {
     "data": {
      "text/html": [
       " View run <strong style=\"color:#cdcd00\">Question:4</strong> at: <a href='https://wandb.ai/cs22m083/CS6910_Assignment1/runs/if9nknsh' target=\"_blank\">https://wandb.ai/cs22m083/CS6910_Assignment1/runs/if9nknsh</a><br/>Synced 6 W&B file(s), 0 media file(s), 0 artifact file(s) and 0 other file(s)"
      ],
      "text/plain": [
       "<IPython.core.display.HTML object>"
      ]
     },
     "metadata": {},
     "output_type": "display_data"
    },
    {
     "data": {
      "text/html": [
       "Find logs at: <code>.\\wandb\\run-20230318_123712-if9nknsh\\logs</code>"
      ],
      "text/plain": [
       "<IPython.core.display.HTML object>"
      ]
     },
     "metadata": {},
     "output_type": "display_data"
    },
    {
     "name": "stderr",
     "output_type": "stream",
     "text": [
      "\u001b[34m\u001b[1mwandb\u001b[0m: Agent Starting Run: eqe5hm19 with config:\n",
      "\u001b[34m\u001b[1mwandb\u001b[0m: \tactivation: tanh\n",
      "\u001b[34m\u001b[1mwandb\u001b[0m: \tbatch_size: 16\n",
      "\u001b[34m\u001b[1mwandb\u001b[0m: \tepochs: 5\n",
      "\u001b[34m\u001b[1mwandb\u001b[0m: \tgamma: 0.03\n",
      "\u001b[34m\u001b[1mwandb\u001b[0m: \thidden_layers: [32, 64, 128, 256]\n",
      "\u001b[34m\u001b[1mwandb\u001b[0m: \tinitialization: Random\n",
      "\u001b[34m\u001b[1mwandb\u001b[0m: \tlearning_rate: 0.0006\n",
      "\u001b[34m\u001b[1mwandb\u001b[0m: \toptimizer: momentum\n",
      "\u001b[34m\u001b[1mwandb\u001b[0m: \tweight_decay: 0.5\n",
      "Failed to detect the name of this notebook, you can set it manually with the WANDB_NOTEBOOK_NAME environment variable to enable code saving.\n",
      "\u001b[34m\u001b[1mwandb\u001b[0m: \u001b[33mWARNING\u001b[0m Ignored wandb.init() arg project when running a sweep.\n"
     ]
    },
    {
     "data": {
      "text/html": [
       "wandb version 0.14.0 is available!  To upgrade, please run:\n",
       " $ pip install wandb --upgrade"
      ],
      "text/plain": [
       "<IPython.core.display.HTML object>"
      ]
     },
     "metadata": {},
     "output_type": "display_data"
    },
    {
     "data": {
      "text/html": [
       "Tracking run with wandb version 0.13.10"
      ],
      "text/plain": [
       "<IPython.core.display.HTML object>"
      ]
     },
     "metadata": {},
     "output_type": "display_data"
    },
    {
     "data": {
      "text/html": [
       "Run data is saved locally in <code>C:\\Users\\Shivam Maurya\\OneDrive\\Desktop\\IIT_MADRAS\\Deep Learning\\assignment 1\\CS6910-Deep_Learning_Assignment-1\\wandb\\run-20230318_123910-eqe5hm19</code>"
      ],
      "text/plain": [
       "<IPython.core.display.HTML object>"
      ]
     },
     "metadata": {},
     "output_type": "display_data"
    },
    {
     "data": {
      "text/html": [
       "Syncing run <strong><a href='https://wandb.ai/cs22m083/CS6910_Assignment1/runs/eqe5hm19' target=\"_blank\">Question:4</a></strong> to <a href='https://wandb.ai/cs22m083/CS6910_Assignment1' target=\"_blank\">Weights & Biases</a> (<a href='https://wandb.me/run' target=\"_blank\">docs</a>)<br/>Sweep page: <a href='https://wandb.ai/cs22m083/CS6910_Assignment1/sweeps/gb9w2qt6' target=\"_blank\">https://wandb.ai/cs22m083/CS6910_Assignment1/sweeps/gb9w2qt6</a>"
      ],
      "text/plain": [
       "<IPython.core.display.HTML object>"
      ]
     },
     "metadata": {},
     "output_type": "display_data"
    },
    {
     "data": {
      "text/html": [
       " View project at <a href='https://wandb.ai/cs22m083/CS6910_Assignment1' target=\"_blank\">https://wandb.ai/cs22m083/CS6910_Assignment1</a>"
      ],
      "text/plain": [
       "<IPython.core.display.HTML object>"
      ]
     },
     "metadata": {},
     "output_type": "display_data"
    },
    {
     "data": {
      "text/html": [
       " View sweep at <a href='https://wandb.ai/cs22m083/CS6910_Assignment1/sweeps/gb9w2qt6' target=\"_blank\">https://wandb.ai/cs22m083/CS6910_Assignment1/sweeps/gb9w2qt6</a>"
      ],
      "text/plain": [
       "<IPython.core.display.HTML object>"
      ]
     },
     "metadata": {},
     "output_type": "display_data"
    },
    {
     "data": {
      "text/html": [
       " View run at <a href='https://wandb.ai/cs22m083/CS6910_Assignment1/runs/eqe5hm19' target=\"_blank\">https://wandb.ai/cs22m083/CS6910_Assignment1/runs/eqe5hm19</a>"
      ],
      "text/plain": [
       "<IPython.core.display.HTML object>"
      ]
     },
     "metadata": {},
     "output_type": "display_data"
    },
    {
     "name": "stdout",
     "output_type": "stream",
     "text": [
      " Training Loss:  0.6040174440270617  Validation Loss: 0.6165740893559234  Training Accuracy:  0.8042166666666667  Validation Accuracy: 0.7984\n"
     ]
    },
    {
     "data": {
      "text/html": [
       "Waiting for W&B process to finish... <strong style=\"color:green\">(success).</strong>"
      ],
      "text/plain": [
       "<IPython.core.display.HTML object>"
      ]
     },
     "metadata": {},
     "output_type": "display_data"
    },
    {
     "data": {
      "text/html": [
       "<style>\n",
       "    table.wandb td:nth-child(1) { padding: 0 10px; text-align: left ; width: auto;} td:nth-child(2) {text-align: left ; width: 100%}\n",
       "    .wandb-row { display: flex; flex-direction: row; flex-wrap: wrap; justify-content: flex-start; width: 100% }\n",
       "    .wandb-col { display: flex; flex-direction: column; flex-basis: 100%; flex: 1; padding: 10px; }\n",
       "    </style>\n",
       "<div class=\"wandb-row\"><div class=\"wandb-col\"><h3>Run history:</h3><br/><table class=\"wandb\"><tr><td>Accuracy</td><td>▁</td></tr><tr><td>Epoch</td><td>▁▃▅▆█</td></tr><tr><td>Training_accuracy</td><td>▁▆███</td></tr><tr><td>Training_loss</td><td>█▂▁▁▁</td></tr><tr><td>Validation_accuracy</td><td>▁▇███</td></tr><tr><td>Validation_loss</td><td>█▂▁▁▁</td></tr></table><br/></div><div class=\"wandb-col\"><h3>Run summary:</h3><br/><table class=\"wandb\"><tr><td>Accuracy</td><td>0.7984</td></tr><tr><td>Epoch</td><td>5</td></tr><tr><td>Training_accuracy</td><td>0.80422</td></tr><tr><td>Training_loss</td><td>0.60402</td></tr><tr><td>Validation_accuracy</td><td>0.7984</td></tr><tr><td>Validation_loss</td><td>0.61657</td></tr></table><br/></div></div>"
      ],
      "text/plain": [
       "<IPython.core.display.HTML object>"
      ]
     },
     "metadata": {},
     "output_type": "display_data"
    },
    {
     "data": {
      "text/html": [
       " View run <strong style=\"color:#cdcd00\">Question:4</strong> at: <a href='https://wandb.ai/cs22m083/CS6910_Assignment1/runs/eqe5hm19' target=\"_blank\">https://wandb.ai/cs22m083/CS6910_Assignment1/runs/eqe5hm19</a><br/>Synced 6 W&B file(s), 0 media file(s), 0 artifact file(s) and 0 other file(s)"
      ],
      "text/plain": [
       "<IPython.core.display.HTML object>"
      ]
     },
     "metadata": {},
     "output_type": "display_data"
    },
    {
     "data": {
      "text/html": [
       "Find logs at: <code>.\\wandb\\run-20230318_123910-eqe5hm19\\logs</code>"
      ],
      "text/plain": [
       "<IPython.core.display.HTML object>"
      ]
     },
     "metadata": {},
     "output_type": "display_data"
    },
    {
     "name": "stderr",
     "output_type": "stream",
     "text": [
      "\u001b[34m\u001b[1mwandb\u001b[0m: Sweep Agent: Waiting for job.\n",
      "\u001b[34m\u001b[1mwandb\u001b[0m: Job received.\n",
      "\u001b[34m\u001b[1mwandb\u001b[0m: Agent Starting Run: reszmbof with config:\n",
      "\u001b[34m\u001b[1mwandb\u001b[0m: \tactivation: tanh\n",
      "\u001b[34m\u001b[1mwandb\u001b[0m: \tbatch_size: 16\n",
      "\u001b[34m\u001b[1mwandb\u001b[0m: \tepochs: 5\n",
      "\u001b[34m\u001b[1mwandb\u001b[0m: \tgamma: 0.002\n",
      "\u001b[34m\u001b[1mwandb\u001b[0m: \thidden_layers: [32, 64, 128, 256]\n",
      "\u001b[34m\u001b[1mwandb\u001b[0m: \tinitialization: Random\n",
      "\u001b[34m\u001b[1mwandb\u001b[0m: \tlearning_rate: 0.01\n",
      "\u001b[34m\u001b[1mwandb\u001b[0m: \toptimizer: momentum\n",
      "\u001b[34m\u001b[1mwandb\u001b[0m: \tweight_decay: 0.0005\n",
      "Failed to detect the name of this notebook, you can set it manually with the WANDB_NOTEBOOK_NAME environment variable to enable code saving.\n",
      "\u001b[34m\u001b[1mwandb\u001b[0m: \u001b[33mWARNING\u001b[0m Ignored wandb.init() arg project when running a sweep.\n"
     ]
    },
    {
     "data": {
      "text/html": [
       "wandb version 0.14.0 is available!  To upgrade, please run:\n",
       " $ pip install wandb --upgrade"
      ],
      "text/plain": [
       "<IPython.core.display.HTML object>"
      ]
     },
     "metadata": {},
     "output_type": "display_data"
    },
    {
     "data": {
      "text/html": [
       "Tracking run with wandb version 0.13.10"
      ],
      "text/plain": [
       "<IPython.core.display.HTML object>"
      ]
     },
     "metadata": {},
     "output_type": "display_data"
    },
    {
     "data": {
      "text/html": [
       "Run data is saved locally in <code>C:\\Users\\Shivam Maurya\\OneDrive\\Desktop\\IIT_MADRAS\\Deep Learning\\assignment 1\\CS6910-Deep_Learning_Assignment-1\\wandb\\run-20230318_124205-reszmbof</code>"
      ],
      "text/plain": [
       "<IPython.core.display.HTML object>"
      ]
     },
     "metadata": {},
     "output_type": "display_data"
    },
    {
     "data": {
      "text/html": [
       "Syncing run <strong><a href='https://wandb.ai/cs22m083/CS6910_Assignment1/runs/reszmbof' target=\"_blank\">Question:4</a></strong> to <a href='https://wandb.ai/cs22m083/CS6910_Assignment1' target=\"_blank\">Weights & Biases</a> (<a href='https://wandb.me/run' target=\"_blank\">docs</a>)<br/>Sweep page: <a href='https://wandb.ai/cs22m083/CS6910_Assignment1/sweeps/gb9w2qt6' target=\"_blank\">https://wandb.ai/cs22m083/CS6910_Assignment1/sweeps/gb9w2qt6</a>"
      ],
      "text/plain": [
       "<IPython.core.display.HTML object>"
      ]
     },
     "metadata": {},
     "output_type": "display_data"
    },
    {
     "data": {
      "text/html": [
       " View project at <a href='https://wandb.ai/cs22m083/CS6910_Assignment1' target=\"_blank\">https://wandb.ai/cs22m083/CS6910_Assignment1</a>"
      ],
      "text/plain": [
       "<IPython.core.display.HTML object>"
      ]
     },
     "metadata": {},
     "output_type": "display_data"
    },
    {
     "data": {
      "text/html": [
       " View sweep at <a href='https://wandb.ai/cs22m083/CS6910_Assignment1/sweeps/gb9w2qt6' target=\"_blank\">https://wandb.ai/cs22m083/CS6910_Assignment1/sweeps/gb9w2qt6</a>"
      ],
      "text/plain": [
       "<IPython.core.display.HTML object>"
      ]
     },
     "metadata": {},
     "output_type": "display_data"
    },
    {
     "data": {
      "text/html": [
       " View run at <a href='https://wandb.ai/cs22m083/CS6910_Assignment1/runs/reszmbof' target=\"_blank\">https://wandb.ai/cs22m083/CS6910_Assignment1/runs/reszmbof</a>"
      ],
      "text/plain": [
       "<IPython.core.display.HTML object>"
      ]
     },
     "metadata": {},
     "output_type": "display_data"
    },
    {
     "name": "stdout",
     "output_type": "stream",
     "text": [
      " Training Loss:  15.554036408298254  Validation Loss: 10.524231756082578  Training Accuracy:  0.1004  Validation Accuracy: 0.1002\n"
     ]
    },
    {
     "data": {
      "text/html": [
       "Waiting for W&B process to finish... <strong style=\"color:green\">(success).</strong>"
      ],
      "text/plain": [
       "<IPython.core.display.HTML object>"
      ]
     },
     "metadata": {},
     "output_type": "display_data"
    },
    {
     "data": {
      "text/html": [
       "<style>\n",
       "    table.wandb td:nth-child(1) { padding: 0 10px; text-align: left ; width: auto;} td:nth-child(2) {text-align: left ; width: 100%}\n",
       "    .wandb-row { display: flex; flex-direction: row; flex-wrap: wrap; justify-content: flex-start; width: 100% }\n",
       "    .wandb-col { display: flex; flex-direction: column; flex-basis: 100%; flex: 1; padding: 10px; }\n",
       "    </style>\n",
       "<div class=\"wandb-row\"><div class=\"wandb-col\"><h3>Run history:</h3><br/><table class=\"wandb\"><tr><td>Accuracy</td><td>▁</td></tr><tr><td>Epoch</td><td>▁▃▅▆█</td></tr><tr><td>Training_accuracy</td><td>▅█▄▁▁</td></tr><tr><td>Training_loss</td><td>▃▁▄██</td></tr><tr><td>Validation_accuracy</td><td>▇█▁▁▁</td></tr><tr><td>Validation_loss</td><td>▂▁█▅▃</td></tr></table><br/></div><div class=\"wandb-col\"><h3>Run summary:</h3><br/><table class=\"wandb\"><tr><td>Accuracy</td><td>0.1002</td></tr><tr><td>Epoch</td><td>5</td></tr><tr><td>Training_accuracy</td><td>0.1004</td></tr><tr><td>Training_loss</td><td>15.55404</td></tr><tr><td>Validation_accuracy</td><td>0.1002</td></tr><tr><td>Validation_loss</td><td>10.52423</td></tr></table><br/></div></div>"
      ],
      "text/plain": [
       "<IPython.core.display.HTML object>"
      ]
     },
     "metadata": {},
     "output_type": "display_data"
    },
    {
     "data": {
      "text/html": [
       " View run <strong style=\"color:#cdcd00\">Question:4</strong> at: <a href='https://wandb.ai/cs22m083/CS6910_Assignment1/runs/reszmbof' target=\"_blank\">https://wandb.ai/cs22m083/CS6910_Assignment1/runs/reszmbof</a><br/>Synced 6 W&B file(s), 0 media file(s), 0 artifact file(s) and 0 other file(s)"
      ],
      "text/plain": [
       "<IPython.core.display.HTML object>"
      ]
     },
     "metadata": {},
     "output_type": "display_data"
    },
    {
     "data": {
      "text/html": [
       "Find logs at: <code>.\\wandb\\run-20230318_124205-reszmbof\\logs</code>"
      ],
      "text/plain": [
       "<IPython.core.display.HTML object>"
      ]
     },
     "metadata": {},
     "output_type": "display_data"
    },
    {
     "name": "stderr",
     "output_type": "stream",
     "text": [
      "\u001b[34m\u001b[1mwandb\u001b[0m: Agent Starting Run: 9p5j3ek9 with config:\n",
      "\u001b[34m\u001b[1mwandb\u001b[0m: \tactivation: tanh\n",
      "\u001b[34m\u001b[1mwandb\u001b[0m: \tbatch_size: 64\n",
      "\u001b[34m\u001b[1mwandb\u001b[0m: \tepochs: 5\n",
      "\u001b[34m\u001b[1mwandb\u001b[0m: \tgamma: 0.03\n",
      "\u001b[34m\u001b[1mwandb\u001b[0m: \thidden_layers: [32, 64]\n",
      "\u001b[34m\u001b[1mwandb\u001b[0m: \tinitialization: Xavier\n",
      "\u001b[34m\u001b[1mwandb\u001b[0m: \tlearning_rate: 0.005\n",
      "\u001b[34m\u001b[1mwandb\u001b[0m: \toptimizer: sgd\n",
      "\u001b[34m\u001b[1mwandb\u001b[0m: \tweight_decay: 0.0005\n",
      "Failed to detect the name of this notebook, you can set it manually with the WANDB_NOTEBOOK_NAME environment variable to enable code saving.\n",
      "\u001b[34m\u001b[1mwandb\u001b[0m: \u001b[33mWARNING\u001b[0m Ignored wandb.init() arg project when running a sweep.\n"
     ]
    },
    {
     "data": {
      "text/html": [
       "wandb version 0.14.0 is available!  To upgrade, please run:\n",
       " $ pip install wandb --upgrade"
      ],
      "text/plain": [
       "<IPython.core.display.HTML object>"
      ]
     },
     "metadata": {},
     "output_type": "display_data"
    },
    {
     "data": {
      "text/html": [
       "Tracking run with wandb version 0.13.10"
      ],
      "text/plain": [
       "<IPython.core.display.HTML object>"
      ]
     },
     "metadata": {},
     "output_type": "display_data"
    },
    {
     "data": {
      "text/html": [
       "Run data is saved locally in <code>C:\\Users\\Shivam Maurya\\OneDrive\\Desktop\\IIT_MADRAS\\Deep Learning\\assignment 1\\CS6910-Deep_Learning_Assignment-1\\wandb\\run-20230318_124457-9p5j3ek9</code>"
      ],
      "text/plain": [
       "<IPython.core.display.HTML object>"
      ]
     },
     "metadata": {},
     "output_type": "display_data"
    },
    {
     "data": {
      "text/html": [
       "Syncing run <strong><a href='https://wandb.ai/cs22m083/CS6910_Assignment1/runs/9p5j3ek9' target=\"_blank\">Question:4</a></strong> to <a href='https://wandb.ai/cs22m083/CS6910_Assignment1' target=\"_blank\">Weights & Biases</a> (<a href='https://wandb.me/run' target=\"_blank\">docs</a>)<br/>Sweep page: <a href='https://wandb.ai/cs22m083/CS6910_Assignment1/sweeps/gb9w2qt6' target=\"_blank\">https://wandb.ai/cs22m083/CS6910_Assignment1/sweeps/gb9w2qt6</a>"
      ],
      "text/plain": [
       "<IPython.core.display.HTML object>"
      ]
     },
     "metadata": {},
     "output_type": "display_data"
    },
    {
     "data": {
      "text/html": [
       " View project at <a href='https://wandb.ai/cs22m083/CS6910_Assignment1' target=\"_blank\">https://wandb.ai/cs22m083/CS6910_Assignment1</a>"
      ],
      "text/plain": [
       "<IPython.core.display.HTML object>"
      ]
     },
     "metadata": {},
     "output_type": "display_data"
    },
    {
     "data": {
      "text/html": [
       " View sweep at <a href='https://wandb.ai/cs22m083/CS6910_Assignment1/sweeps/gb9w2qt6' target=\"_blank\">https://wandb.ai/cs22m083/CS6910_Assignment1/sweeps/gb9w2qt6</a>"
      ],
      "text/plain": [
       "<IPython.core.display.HTML object>"
      ]
     },
     "metadata": {},
     "output_type": "display_data"
    },
    {
     "data": {
      "text/html": [
       " View run at <a href='https://wandb.ai/cs22m083/CS6910_Assignment1/runs/9p5j3ek9' target=\"_blank\">https://wandb.ai/cs22m083/CS6910_Assignment1/runs/9p5j3ek9</a>"
      ],
      "text/plain": [
       "<IPython.core.display.HTML object>"
      ]
     },
     "metadata": {},
     "output_type": "display_data"
    },
    {
     "name": "stdout",
     "output_type": "stream",
     "text": [
      " Training Loss:  0.3416145907696603  Validation Loss: 0.4034444942656234  Training Accuracy:  0.87365  Validation Accuracy: 0.8555\n"
     ]
    },
    {
     "data": {
      "text/html": [
       "Waiting for W&B process to finish... <strong style=\"color:green\">(success).</strong>"
      ],
      "text/plain": [
       "<IPython.core.display.HTML object>"
      ]
     },
     "metadata": {},
     "output_type": "display_data"
    },
    {
     "data": {
      "text/html": [
       "<style>\n",
       "    table.wandb td:nth-child(1) { padding: 0 10px; text-align: left ; width: auto;} td:nth-child(2) {text-align: left ; width: 100%}\n",
       "    .wandb-row { display: flex; flex-direction: row; flex-wrap: wrap; justify-content: flex-start; width: 100% }\n",
       "    .wandb-col { display: flex; flex-direction: column; flex-basis: 100%; flex: 1; padding: 10px; }\n",
       "    </style>\n",
       "<div class=\"wandb-row\"><div class=\"wandb-col\"><h3>Run history:</h3><br/><table class=\"wandb\"><tr><td>Accuracy</td><td>▁</td></tr><tr><td>Epoch</td><td>▁▃▅▆█</td></tr><tr><td>Training_accuracy</td><td>▁▆▇██</td></tr><tr><td>Training_loss</td><td>█▃▂▂▁</td></tr><tr><td>Validation_accuracy</td><td>▁▄▆▇█</td></tr><tr><td>Validation_loss</td><td>█▄▂▁▁</td></tr></table><br/></div><div class=\"wandb-col\"><h3>Run summary:</h3><br/><table class=\"wandb\"><tr><td>Accuracy</td><td>0.8555</td></tr><tr><td>Epoch</td><td>5</td></tr><tr><td>Training_accuracy</td><td>0.87365</td></tr><tr><td>Training_loss</td><td>0.34161</td></tr><tr><td>Validation_accuracy</td><td>0.8555</td></tr><tr><td>Validation_loss</td><td>0.40344</td></tr></table><br/></div></div>"
      ],
      "text/plain": [
       "<IPython.core.display.HTML object>"
      ]
     },
     "metadata": {},
     "output_type": "display_data"
    },
    {
     "data": {
      "text/html": [
       " View run <strong style=\"color:#cdcd00\">Question:4</strong> at: <a href='https://wandb.ai/cs22m083/CS6910_Assignment1/runs/9p5j3ek9' target=\"_blank\">https://wandb.ai/cs22m083/CS6910_Assignment1/runs/9p5j3ek9</a><br/>Synced 6 W&B file(s), 0 media file(s), 0 artifact file(s) and 0 other file(s)"
      ],
      "text/plain": [
       "<IPython.core.display.HTML object>"
      ]
     },
     "metadata": {},
     "output_type": "display_data"
    },
    {
     "data": {
      "text/html": [
       "Find logs at: <code>.\\wandb\\run-20230318_124457-9p5j3ek9\\logs</code>"
      ],
      "text/plain": [
       "<IPython.core.display.HTML object>"
      ]
     },
     "metadata": {},
     "output_type": "display_data"
    },
    {
     "name": "stderr",
     "output_type": "stream",
     "text": [
      "\u001b[34m\u001b[1mwandb\u001b[0m: Agent Starting Run: vpz3j935 with config:\n",
      "\u001b[34m\u001b[1mwandb\u001b[0m: \tactivation: tanh\n",
      "\u001b[34m\u001b[1mwandb\u001b[0m: \tbatch_size: 32\n",
      "\u001b[34m\u001b[1mwandb\u001b[0m: \tepochs: 5\n",
      "\u001b[34m\u001b[1mwandb\u001b[0m: \tgamma: 0.0006\n",
      "\u001b[34m\u001b[1mwandb\u001b[0m: \thidden_layers: [32, 64]\n",
      "\u001b[34m\u001b[1mwandb\u001b[0m: \tinitialization: Random\n",
      "\u001b[34m\u001b[1mwandb\u001b[0m: \tlearning_rate: 0.005\n",
      "\u001b[34m\u001b[1mwandb\u001b[0m: \toptimizer: sgd\n",
      "\u001b[34m\u001b[1mwandb\u001b[0m: \tweight_decay: 0.0005\n",
      "Failed to detect the name of this notebook, you can set it manually with the WANDB_NOTEBOOK_NAME environment variable to enable code saving.\n",
      "\u001b[34m\u001b[1mwandb\u001b[0m: \u001b[33mWARNING\u001b[0m Ignored wandb.init() arg project when running a sweep.\n"
     ]
    },
    {
     "data": {
      "text/html": [
       "wandb version 0.14.0 is available!  To upgrade, please run:\n",
       " $ pip install wandb --upgrade"
      ],
      "text/plain": [
       "<IPython.core.display.HTML object>"
      ]
     },
     "metadata": {},
     "output_type": "display_data"
    },
    {
     "data": {
      "text/html": [
       "Tracking run with wandb version 0.13.10"
      ],
      "text/plain": [
       "<IPython.core.display.HTML object>"
      ]
     },
     "metadata": {},
     "output_type": "display_data"
    },
    {
     "data": {
      "text/html": [
       "Run data is saved locally in <code>C:\\Users\\Shivam Maurya\\OneDrive\\Desktop\\IIT_MADRAS\\Deep Learning\\assignment 1\\CS6910-Deep_Learning_Assignment-1\\wandb\\run-20230318_124633-vpz3j935</code>"
      ],
      "text/plain": [
       "<IPython.core.display.HTML object>"
      ]
     },
     "metadata": {},
     "output_type": "display_data"
    },
    {
     "data": {
      "text/html": [
       "Syncing run <strong><a href='https://wandb.ai/cs22m083/CS6910_Assignment1/runs/vpz3j935' target=\"_blank\">Question:4</a></strong> to <a href='https://wandb.ai/cs22m083/CS6910_Assignment1' target=\"_blank\">Weights & Biases</a> (<a href='https://wandb.me/run' target=\"_blank\">docs</a>)<br/>Sweep page: <a href='https://wandb.ai/cs22m083/CS6910_Assignment1/sweeps/gb9w2qt6' target=\"_blank\">https://wandb.ai/cs22m083/CS6910_Assignment1/sweeps/gb9w2qt6</a>"
      ],
      "text/plain": [
       "<IPython.core.display.HTML object>"
      ]
     },
     "metadata": {},
     "output_type": "display_data"
    },
    {
     "data": {
      "text/html": [
       " View project at <a href='https://wandb.ai/cs22m083/CS6910_Assignment1' target=\"_blank\">https://wandb.ai/cs22m083/CS6910_Assignment1</a>"
      ],
      "text/plain": [
       "<IPython.core.display.HTML object>"
      ]
     },
     "metadata": {},
     "output_type": "display_data"
    },
    {
     "data": {
      "text/html": [
       " View sweep at <a href='https://wandb.ai/cs22m083/CS6910_Assignment1/sweeps/gb9w2qt6' target=\"_blank\">https://wandb.ai/cs22m083/CS6910_Assignment1/sweeps/gb9w2qt6</a>"
      ],
      "text/plain": [
       "<IPython.core.display.HTML object>"
      ]
     },
     "metadata": {},
     "output_type": "display_data"
    },
    {
     "data": {
      "text/html": [
       " View run at <a href='https://wandb.ai/cs22m083/CS6910_Assignment1/runs/vpz3j935' target=\"_blank\">https://wandb.ai/cs22m083/CS6910_Assignment1/runs/vpz3j935</a>"
      ],
      "text/plain": [
       "<IPython.core.display.HTML object>"
      ]
     },
     "metadata": {},
     "output_type": "display_data"
    },
    {
     "name": "stdout",
     "output_type": "stream",
     "text": [
      " Training Loss:  0.606923995180844  Validation Loss: 0.6300947973921138  Training Accuracy:  0.7817666666666667  Validation Accuracy: 0.7798\n"
     ]
    },
    {
     "data": {
      "text/html": [
       "Waiting for W&B process to finish... <strong style=\"color:green\">(success).</strong>"
      ],
      "text/plain": [
       "<IPython.core.display.HTML object>"
      ]
     },
     "metadata": {},
     "output_type": "display_data"
    },
    {
     "data": {
      "text/html": [
       "<style>\n",
       "    table.wandb td:nth-child(1) { padding: 0 10px; text-align: left ; width: auto;} td:nth-child(2) {text-align: left ; width: 100%}\n",
       "    .wandb-row { display: flex; flex-direction: row; flex-wrap: wrap; justify-content: flex-start; width: 100% }\n",
       "    .wandb-col { display: flex; flex-direction: column; flex-basis: 100%; flex: 1; padding: 10px; }\n",
       "    </style>\n",
       "<div class=\"wandb-row\"><div class=\"wandb-col\"><h3>Run history:</h3><br/><table class=\"wandb\"><tr><td>Accuracy</td><td>▁</td></tr><tr><td>Epoch</td><td>▁▃▅▆█</td></tr><tr><td>Training_accuracy</td><td>▁▅▆▇█</td></tr><tr><td>Training_loss</td><td>█▃▂▂▁</td></tr><tr><td>Validation_accuracy</td><td>▁▅▅▇█</td></tr><tr><td>Validation_loss</td><td>█▄▃▂▁</td></tr></table><br/></div><div class=\"wandb-col\"><h3>Run summary:</h3><br/><table class=\"wandb\"><tr><td>Accuracy</td><td>0.7798</td></tr><tr><td>Epoch</td><td>5</td></tr><tr><td>Training_accuracy</td><td>0.78177</td></tr><tr><td>Training_loss</td><td>0.60692</td></tr><tr><td>Validation_accuracy</td><td>0.7798</td></tr><tr><td>Validation_loss</td><td>0.63009</td></tr></table><br/></div></div>"
      ],
      "text/plain": [
       "<IPython.core.display.HTML object>"
      ]
     },
     "metadata": {},
     "output_type": "display_data"
    },
    {
     "data": {
      "text/html": [
       " View run <strong style=\"color:#cdcd00\">Question:4</strong> at: <a href='https://wandb.ai/cs22m083/CS6910_Assignment1/runs/vpz3j935' target=\"_blank\">https://wandb.ai/cs22m083/CS6910_Assignment1/runs/vpz3j935</a><br/>Synced 6 W&B file(s), 0 media file(s), 0 artifact file(s) and 0 other file(s)"
      ],
      "text/plain": [
       "<IPython.core.display.HTML object>"
      ]
     },
     "metadata": {},
     "output_type": "display_data"
    },
    {
     "data": {
      "text/html": [
       "Find logs at: <code>.\\wandb\\run-20230318_124633-vpz3j935\\logs</code>"
      ],
      "text/plain": [
       "<IPython.core.display.HTML object>"
      ]
     },
     "metadata": {},
     "output_type": "display_data"
    },
    {
     "name": "stderr",
     "output_type": "stream",
     "text": [
      "\u001b[34m\u001b[1mwandb\u001b[0m: Agent Starting Run: 50h9cfqk with config:\n",
      "\u001b[34m\u001b[1mwandb\u001b[0m: \tactivation: relu\n",
      "\u001b[34m\u001b[1mwandb\u001b[0m: \tbatch_size: 16\n",
      "\u001b[34m\u001b[1mwandb\u001b[0m: \tepochs: 10\n",
      "\u001b[34m\u001b[1mwandb\u001b[0m: \tgamma: 0.002\n",
      "\u001b[34m\u001b[1mwandb\u001b[0m: \thidden_layers: [32, 64, 128, 256]\n",
      "\u001b[34m\u001b[1mwandb\u001b[0m: \tinitialization: Random\n",
      "\u001b[34m\u001b[1mwandb\u001b[0m: \tlearning_rate: 0.01\n",
      "\u001b[34m\u001b[1mwandb\u001b[0m: \toptimizer: adam\n",
      "\u001b[34m\u001b[1mwandb\u001b[0m: \tweight_decay: 0\n",
      "Failed to detect the name of this notebook, you can set it manually with the WANDB_NOTEBOOK_NAME environment variable to enable code saving.\n",
      "\u001b[34m\u001b[1mwandb\u001b[0m: \u001b[33mWARNING\u001b[0m Ignored wandb.init() arg project when running a sweep.\n"
     ]
    },
    {
     "data": {
      "text/html": [
       "wandb version 0.14.0 is available!  To upgrade, please run:\n",
       " $ pip install wandb --upgrade"
      ],
      "text/plain": [
       "<IPython.core.display.HTML object>"
      ]
     },
     "metadata": {},
     "output_type": "display_data"
    },
    {
     "data": {
      "text/html": [
       "Tracking run with wandb version 0.13.10"
      ],
      "text/plain": [
       "<IPython.core.display.HTML object>"
      ]
     },
     "metadata": {},
     "output_type": "display_data"
    },
    {
     "data": {
      "text/html": [
       "Run data is saved locally in <code>C:\\Users\\Shivam Maurya\\OneDrive\\Desktop\\IIT_MADRAS\\Deep Learning\\assignment 1\\CS6910-Deep_Learning_Assignment-1\\wandb\\run-20230318_124809-50h9cfqk</code>"
      ],
      "text/plain": [
       "<IPython.core.display.HTML object>"
      ]
     },
     "metadata": {},
     "output_type": "display_data"
    },
    {
     "data": {
      "text/html": [
       "Syncing run <strong><a href='https://wandb.ai/cs22m083/CS6910_Assignment1/runs/50h9cfqk' target=\"_blank\">Question:4</a></strong> to <a href='https://wandb.ai/cs22m083/CS6910_Assignment1' target=\"_blank\">Weights & Biases</a> (<a href='https://wandb.me/run' target=\"_blank\">docs</a>)<br/>Sweep page: <a href='https://wandb.ai/cs22m083/CS6910_Assignment1/sweeps/gb9w2qt6' target=\"_blank\">https://wandb.ai/cs22m083/CS6910_Assignment1/sweeps/gb9w2qt6</a>"
      ],
      "text/plain": [
       "<IPython.core.display.HTML object>"
      ]
     },
     "metadata": {},
     "output_type": "display_data"
    },
    {
     "data": {
      "text/html": [
       " View project at <a href='https://wandb.ai/cs22m083/CS6910_Assignment1' target=\"_blank\">https://wandb.ai/cs22m083/CS6910_Assignment1</a>"
      ],
      "text/plain": [
       "<IPython.core.display.HTML object>"
      ]
     },
     "metadata": {},
     "output_type": "display_data"
    },
    {
     "data": {
      "text/html": [
       " View sweep at <a href='https://wandb.ai/cs22m083/CS6910_Assignment1/sweeps/gb9w2qt6' target=\"_blank\">https://wandb.ai/cs22m083/CS6910_Assignment1/sweeps/gb9w2qt6</a>"
      ],
      "text/plain": [
       "<IPython.core.display.HTML object>"
      ]
     },
     "metadata": {},
     "output_type": "display_data"
    },
    {
     "data": {
      "text/html": [
       " View run at <a href='https://wandb.ai/cs22m083/CS6910_Assignment1/runs/50h9cfqk' target=\"_blank\">https://wandb.ai/cs22m083/CS6910_Assignment1/runs/50h9cfqk</a>"
      ],
      "text/plain": [
       "<IPython.core.display.HTML object>"
      ]
     },
     "metadata": {},
     "output_type": "display_data"
    },
    {
     "name": "stdout",
     "output_type": "stream",
     "text": [
      " Training Loss:  nan  Validation Loss: nan  Training Accuracy:  0.1  Validation Accuracy: 0.1\n"
     ]
    },
    {
     "data": {
      "text/html": [
       "Waiting for W&B process to finish... <strong style=\"color:green\">(success).</strong>"
      ],
      "text/plain": [
       "<IPython.core.display.HTML object>"
      ]
     },
     "metadata": {},
     "output_type": "display_data"
    },
    {
     "data": {
      "text/html": [
       "<style>\n",
       "    table.wandb td:nth-child(1) { padding: 0 10px; text-align: left ; width: auto;} td:nth-child(2) {text-align: left ; width: 100%}\n",
       "    .wandb-row { display: flex; flex-direction: row; flex-wrap: wrap; justify-content: flex-start; width: 100% }\n",
       "    .wandb-col { display: flex; flex-direction: column; flex-basis: 100%; flex: 1; padding: 10px; }\n",
       "    </style>\n",
       "<div class=\"wandb-row\"><div class=\"wandb-col\"><h3>Run history:</h3><br/><table class=\"wandb\"><tr><td>Accuracy</td><td>▁</td></tr><tr><td>Epoch</td><td>▁▂▃▃▄▅▆▆▇█</td></tr><tr><td>Training_accuracy</td><td>▁█████████</td></tr><tr><td>Validation_accuracy</td><td>▁▁▁▁▁▁▁▁▁▁</td></tr></table><br/></div><div class=\"wandb-col\"><h3>Run summary:</h3><br/><table class=\"wandb\"><tr><td>Accuracy</td><td>0.1</td></tr><tr><td>Epoch</td><td>10</td></tr><tr><td>Training_accuracy</td><td>0.1</td></tr><tr><td>Training_loss</td><td>nan</td></tr><tr><td>Validation_accuracy</td><td>0.1</td></tr><tr><td>Validation_loss</td><td>nan</td></tr></table><br/></div></div>"
      ],
      "text/plain": [
       "<IPython.core.display.HTML object>"
      ]
     },
     "metadata": {},
     "output_type": "display_data"
    },
    {
     "data": {
      "text/html": [
       " View run <strong style=\"color:#cdcd00\">Question:4</strong> at: <a href='https://wandb.ai/cs22m083/CS6910_Assignment1/runs/50h9cfqk' target=\"_blank\">https://wandb.ai/cs22m083/CS6910_Assignment1/runs/50h9cfqk</a><br/>Synced 6 W&B file(s), 0 media file(s), 0 artifact file(s) and 0 other file(s)"
      ],
      "text/plain": [
       "<IPython.core.display.HTML object>"
      ]
     },
     "metadata": {},
     "output_type": "display_data"
    },
    {
     "data": {
      "text/html": [
       "Find logs at: <code>.\\wandb\\run-20230318_124809-50h9cfqk\\logs</code>"
      ],
      "text/plain": [
       "<IPython.core.display.HTML object>"
      ]
     },
     "metadata": {},
     "output_type": "display_data"
    },
    {
     "name": "stderr",
     "output_type": "stream",
     "text": [
      "\u001b[34m\u001b[1mwandb\u001b[0m: Agent Starting Run: z9d93agy with config:\n",
      "\u001b[34m\u001b[1mwandb\u001b[0m: \tactivation: sigmoid\n",
      "\u001b[34m\u001b[1mwandb\u001b[0m: \tbatch_size: 64\n",
      "\u001b[34m\u001b[1mwandb\u001b[0m: \tepochs: 10\n",
      "\u001b[34m\u001b[1mwandb\u001b[0m: \tgamma: 0.002\n",
      "\u001b[34m\u001b[1mwandb\u001b[0m: \thidden_layers: [32, 64]\n",
      "\u001b[34m\u001b[1mwandb\u001b[0m: \tinitialization: Random\n",
      "\u001b[34m\u001b[1mwandb\u001b[0m: \tlearning_rate: 0.01\n",
      "\u001b[34m\u001b[1mwandb\u001b[0m: \toptimizer: nadam\n",
      "\u001b[34m\u001b[1mwandb\u001b[0m: \tweight_decay: 0.0005\n",
      "Failed to detect the name of this notebook, you can set it manually with the WANDB_NOTEBOOK_NAME environment variable to enable code saving.\n",
      "\u001b[34m\u001b[1mwandb\u001b[0m: \u001b[33mWARNING\u001b[0m Ignored wandb.init() arg project when running a sweep.\n"
     ]
    },
    {
     "data": {
      "text/html": [
       "wandb version 0.14.0 is available!  To upgrade, please run:\n",
       " $ pip install wandb --upgrade"
      ],
      "text/plain": [
       "<IPython.core.display.HTML object>"
      ]
     },
     "metadata": {},
     "output_type": "display_data"
    },
    {
     "data": {
      "text/html": [
       "Tracking run with wandb version 0.13.10"
      ],
      "text/plain": [
       "<IPython.core.display.HTML object>"
      ]
     },
     "metadata": {},
     "output_type": "display_data"
    },
    {
     "data": {
      "text/html": [
       "Run data is saved locally in <code>C:\\Users\\Shivam Maurya\\OneDrive\\Desktop\\IIT_MADRAS\\Deep Learning\\assignment 1\\CS6910-Deep_Learning_Assignment-1\\wandb\\run-20230318_125414-z9d93agy</code>"
      ],
      "text/plain": [
       "<IPython.core.display.HTML object>"
      ]
     },
     "metadata": {},
     "output_type": "display_data"
    },
    {
     "data": {
      "text/html": [
       "Syncing run <strong><a href='https://wandb.ai/cs22m083/CS6910_Assignment1/runs/z9d93agy' target=\"_blank\">Question:4</a></strong> to <a href='https://wandb.ai/cs22m083/CS6910_Assignment1' target=\"_blank\">Weights & Biases</a> (<a href='https://wandb.me/run' target=\"_blank\">docs</a>)<br/>Sweep page: <a href='https://wandb.ai/cs22m083/CS6910_Assignment1/sweeps/gb9w2qt6' target=\"_blank\">https://wandb.ai/cs22m083/CS6910_Assignment1/sweeps/gb9w2qt6</a>"
      ],
      "text/plain": [
       "<IPython.core.display.HTML object>"
      ]
     },
     "metadata": {},
     "output_type": "display_data"
    },
    {
     "data": {
      "text/html": [
       " View project at <a href='https://wandb.ai/cs22m083/CS6910_Assignment1' target=\"_blank\">https://wandb.ai/cs22m083/CS6910_Assignment1</a>"
      ],
      "text/plain": [
       "<IPython.core.display.HTML object>"
      ]
     },
     "metadata": {},
     "output_type": "display_data"
    },
    {
     "data": {
      "text/html": [
       " View sweep at <a href='https://wandb.ai/cs22m083/CS6910_Assignment1/sweeps/gb9w2qt6' target=\"_blank\">https://wandb.ai/cs22m083/CS6910_Assignment1/sweeps/gb9w2qt6</a>"
      ],
      "text/plain": [
       "<IPython.core.display.HTML object>"
      ]
     },
     "metadata": {},
     "output_type": "display_data"
    },
    {
     "data": {
      "text/html": [
       " View run at <a href='https://wandb.ai/cs22m083/CS6910_Assignment1/runs/z9d93agy' target=\"_blank\">https://wandb.ai/cs22m083/CS6910_Assignment1/runs/z9d93agy</a>"
      ],
      "text/plain": [
       "<IPython.core.display.HTML object>"
      ]
     },
     "metadata": {},
     "output_type": "display_data"
    },
    {
     "name": "stdout",
     "output_type": "stream",
     "text": [
      " Training Loss:  0.3802187442898779  Validation Loss: 0.4203709719804231  Training Accuracy:  0.86235  Validation Accuracy: 0.8503\n"
     ]
    },
    {
     "data": {
      "text/html": [
       "Waiting for W&B process to finish... <strong style=\"color:green\">(success).</strong>"
      ],
      "text/plain": [
       "<IPython.core.display.HTML object>"
      ]
     },
     "metadata": {},
     "output_type": "display_data"
    },
    {
     "data": {
      "text/html": [
       "<style>\n",
       "    table.wandb td:nth-child(1) { padding: 0 10px; text-align: left ; width: auto;} td:nth-child(2) {text-align: left ; width: 100%}\n",
       "    .wandb-row { display: flex; flex-direction: row; flex-wrap: wrap; justify-content: flex-start; width: 100% }\n",
       "    .wandb-col { display: flex; flex-direction: column; flex-basis: 100%; flex: 1; padding: 10px; }\n",
       "    </style>\n",
       "<div class=\"wandb-row\"><div class=\"wandb-col\"><h3>Run history:</h3><br/><table class=\"wandb\"><tr><td>Accuracy</td><td>▁</td></tr><tr><td>Epoch</td><td>▁▂▃▃▄▅▆▆▇█</td></tr><tr><td>Training_accuracy</td><td>▁▅▆▇▇▇▇███</td></tr><tr><td>Training_loss</td><td>█▄▃▂▂▂▂▁▁▁</td></tr><tr><td>Validation_accuracy</td><td>▁▃▄▅▇▇▇▆▇█</td></tr><tr><td>Validation_loss</td><td>█▆▅▄▃▂▂▃▂▁</td></tr></table><br/></div><div class=\"wandb-col\"><h3>Run summary:</h3><br/><table class=\"wandb\"><tr><td>Accuracy</td><td>0.8503</td></tr><tr><td>Epoch</td><td>10</td></tr><tr><td>Training_accuracy</td><td>0.86235</td></tr><tr><td>Training_loss</td><td>0.38022</td></tr><tr><td>Validation_accuracy</td><td>0.8503</td></tr><tr><td>Validation_loss</td><td>0.42037</td></tr></table><br/></div></div>"
      ],
      "text/plain": [
       "<IPython.core.display.HTML object>"
      ]
     },
     "metadata": {},
     "output_type": "display_data"
    },
    {
     "data": {
      "text/html": [
       " View run <strong style=\"color:#cdcd00\">Question:4</strong> at: <a href='https://wandb.ai/cs22m083/CS6910_Assignment1/runs/z9d93agy' target=\"_blank\">https://wandb.ai/cs22m083/CS6910_Assignment1/runs/z9d93agy</a><br/>Synced 6 W&B file(s), 0 media file(s), 0 artifact file(s) and 0 other file(s)"
      ],
      "text/plain": [
       "<IPython.core.display.HTML object>"
      ]
     },
     "metadata": {},
     "output_type": "display_data"
    },
    {
     "data": {
      "text/html": [
       "Find logs at: <code>.\\wandb\\run-20230318_125414-z9d93agy\\logs</code>"
      ],
      "text/plain": [
       "<IPython.core.display.HTML object>"
      ]
     },
     "metadata": {},
     "output_type": "display_data"
    },
    {
     "name": "stderr",
     "output_type": "stream",
     "text": [
      "\u001b[34m\u001b[1mwandb\u001b[0m: Sweep Agent: Waiting for job.\n",
      "\u001b[34m\u001b[1mwandb\u001b[0m: Job received.\n",
      "\u001b[34m\u001b[1mwandb\u001b[0m: Agent Starting Run: covrapu0 with config:\n",
      "\u001b[34m\u001b[1mwandb\u001b[0m: \tactivation: sigmoid\n",
      "\u001b[34m\u001b[1mwandb\u001b[0m: \tbatch_size: 16\n",
      "\u001b[34m\u001b[1mwandb\u001b[0m: \tepochs: 10\n",
      "\u001b[34m\u001b[1mwandb\u001b[0m: \tgamma: 0.002\n",
      "\u001b[34m\u001b[1mwandb\u001b[0m: \thidden_layers: [32, 64]\n",
      "\u001b[34m\u001b[1mwandb\u001b[0m: \tinitialization: Random\n",
      "\u001b[34m\u001b[1mwandb\u001b[0m: \tlearning_rate: 0.0001\n",
      "\u001b[34m\u001b[1mwandb\u001b[0m: \toptimizer: momentum\n",
      "\u001b[34m\u001b[1mwandb\u001b[0m: \tweight_decay: 0\n",
      "Failed to detect the name of this notebook, you can set it manually with the WANDB_NOTEBOOK_NAME environment variable to enable code saving.\n",
      "\u001b[34m\u001b[1mwandb\u001b[0m: \u001b[33mWARNING\u001b[0m Ignored wandb.init() arg project when running a sweep.\n"
     ]
    },
    {
     "data": {
      "text/html": [
       "wandb version 0.14.0 is available!  To upgrade, please run:\n",
       " $ pip install wandb --upgrade"
      ],
      "text/plain": [
       "<IPython.core.display.HTML object>"
      ]
     },
     "metadata": {},
     "output_type": "display_data"
    },
    {
     "data": {
      "text/html": [
       "Tracking run with wandb version 0.13.10"
      ],
      "text/plain": [
       "<IPython.core.display.HTML object>"
      ]
     },
     "metadata": {},
     "output_type": "display_data"
    },
    {
     "data": {
      "text/html": [
       "Run data is saved locally in <code>C:\\Users\\Shivam Maurya\\OneDrive\\Desktop\\IIT_MADRAS\\Deep Learning\\assignment 1\\CS6910-Deep_Learning_Assignment-1\\wandb\\run-20230318_125714-covrapu0</code>"
      ],
      "text/plain": [
       "<IPython.core.display.HTML object>"
      ]
     },
     "metadata": {},
     "output_type": "display_data"
    },
    {
     "data": {
      "text/html": [
       "Syncing run <strong><a href='https://wandb.ai/cs22m083/CS6910_Assignment1/runs/covrapu0' target=\"_blank\">Question:4</a></strong> to <a href='https://wandb.ai/cs22m083/CS6910_Assignment1' target=\"_blank\">Weights & Biases</a> (<a href='https://wandb.me/run' target=\"_blank\">docs</a>)<br/>Sweep page: <a href='https://wandb.ai/cs22m083/CS6910_Assignment1/sweeps/gb9w2qt6' target=\"_blank\">https://wandb.ai/cs22m083/CS6910_Assignment1/sweeps/gb9w2qt6</a>"
      ],
      "text/plain": [
       "<IPython.core.display.HTML object>"
      ]
     },
     "metadata": {},
     "output_type": "display_data"
    },
    {
     "data": {
      "text/html": [
       " View project at <a href='https://wandb.ai/cs22m083/CS6910_Assignment1' target=\"_blank\">https://wandb.ai/cs22m083/CS6910_Assignment1</a>"
      ],
      "text/plain": [
       "<IPython.core.display.HTML object>"
      ]
     },
     "metadata": {},
     "output_type": "display_data"
    },
    {
     "data": {
      "text/html": [
       " View sweep at <a href='https://wandb.ai/cs22m083/CS6910_Assignment1/sweeps/gb9w2qt6' target=\"_blank\">https://wandb.ai/cs22m083/CS6910_Assignment1/sweeps/gb9w2qt6</a>"
      ],
      "text/plain": [
       "<IPython.core.display.HTML object>"
      ]
     },
     "metadata": {},
     "output_type": "display_data"
    },
    {
     "data": {
      "text/html": [
       " View run at <a href='https://wandb.ai/cs22m083/CS6910_Assignment1/runs/covrapu0' target=\"_blank\">https://wandb.ai/cs22m083/CS6910_Assignment1/runs/covrapu0</a>"
      ],
      "text/plain": [
       "<IPython.core.display.HTML object>"
      ]
     },
     "metadata": {},
     "output_type": "display_data"
    },
    {
     "name": "stdout",
     "output_type": "stream",
     "text": [
      " Training Loss:  0.9871069401931172  Validation Loss: 0.9883903889525555  Training Accuracy:  0.62745  Validation Accuracy: 0.6265\n"
     ]
    },
    {
     "data": {
      "text/html": [
       "Waiting for W&B process to finish... <strong style=\"color:green\">(success).</strong>"
      ],
      "text/plain": [
       "<IPython.core.display.HTML object>"
      ]
     },
     "metadata": {},
     "output_type": "display_data"
    },
    {
     "data": {
      "text/html": [
       "<style>\n",
       "    table.wandb td:nth-child(1) { padding: 0 10px; text-align: left ; width: auto;} td:nth-child(2) {text-align: left ; width: 100%}\n",
       "    .wandb-row { display: flex; flex-direction: row; flex-wrap: wrap; justify-content: flex-start; width: 100% }\n",
       "    .wandb-col { display: flex; flex-direction: column; flex-basis: 100%; flex: 1; padding: 10px; }\n",
       "    </style>\n",
       "<div class=\"wandb-row\"><div class=\"wandb-col\"><h3>Run history:</h3><br/><table class=\"wandb\"><tr><td>Accuracy</td><td>▁</td></tr><tr><td>Epoch</td><td>▁▂▃▃▄▅▆▆▇█</td></tr><tr><td>Training_accuracy</td><td>▁▄▅▆▇▇▇███</td></tr><tr><td>Training_loss</td><td>█▄▃▂▂▂▁▁▁▁</td></tr><tr><td>Validation_accuracy</td><td>▁▄▅▆▇▇▇███</td></tr><tr><td>Validation_loss</td><td>█▅▄▃▂▂▂▁▁▁</td></tr></table><br/></div><div class=\"wandb-col\"><h3>Run summary:</h3><br/><table class=\"wandb\"><tr><td>Accuracy</td><td>0.6265</td></tr><tr><td>Epoch</td><td>10</td></tr><tr><td>Training_accuracy</td><td>0.62745</td></tr><tr><td>Training_loss</td><td>0.98711</td></tr><tr><td>Validation_accuracy</td><td>0.6265</td></tr><tr><td>Validation_loss</td><td>0.98839</td></tr></table><br/></div></div>"
      ],
      "text/plain": [
       "<IPython.core.display.HTML object>"
      ]
     },
     "metadata": {},
     "output_type": "display_data"
    },
    {
     "data": {
      "text/html": [
       " View run <strong style=\"color:#cdcd00\">Question:4</strong> at: <a href='https://wandb.ai/cs22m083/CS6910_Assignment1/runs/covrapu0' target=\"_blank\">https://wandb.ai/cs22m083/CS6910_Assignment1/runs/covrapu0</a><br/>Synced 6 W&B file(s), 0 media file(s), 0 artifact file(s) and 0 other file(s)"
      ],
      "text/plain": [
       "<IPython.core.display.HTML object>"
      ]
     },
     "metadata": {},
     "output_type": "display_data"
    },
    {
     "data": {
      "text/html": [
       "Find logs at: <code>.\\wandb\\run-20230318_125714-covrapu0\\logs</code>"
      ],
      "text/plain": [
       "<IPython.core.display.HTML object>"
      ]
     },
     "metadata": {},
     "output_type": "display_data"
    },
    {
     "name": "stderr",
     "output_type": "stream",
     "text": [
      "\u001b[34m\u001b[1mwandb\u001b[0m: Agent Starting Run: zr8wnnm1 with config:\n",
      "\u001b[34m\u001b[1mwandb\u001b[0m: \tactivation: tanh\n",
      "\u001b[34m\u001b[1mwandb\u001b[0m: \tbatch_size: 64\n",
      "\u001b[34m\u001b[1mwandb\u001b[0m: \tepochs: 5\n",
      "\u001b[34m\u001b[1mwandb\u001b[0m: \tgamma: 0.03\n",
      "\u001b[34m\u001b[1mwandb\u001b[0m: \thidden_layers: [32, 64, 128]\n",
      "\u001b[34m\u001b[1mwandb\u001b[0m: \tinitialization: Xavier\n",
      "\u001b[34m\u001b[1mwandb\u001b[0m: \tlearning_rate: 0.01\n",
      "\u001b[34m\u001b[1mwandb\u001b[0m: \toptimizer: momentum\n",
      "\u001b[34m\u001b[1mwandb\u001b[0m: \tweight_decay: 0\n",
      "Failed to detect the name of this notebook, you can set it manually with the WANDB_NOTEBOOK_NAME environment variable to enable code saving.\n",
      "\u001b[34m\u001b[1mwandb\u001b[0m: \u001b[33mWARNING\u001b[0m Ignored wandb.init() arg project when running a sweep.\n"
     ]
    },
    {
     "data": {
      "text/html": [
       "wandb version 0.14.0 is available!  To upgrade, please run:\n",
       " $ pip install wandb --upgrade"
      ],
      "text/plain": [
       "<IPython.core.display.HTML object>"
      ]
     },
     "metadata": {},
     "output_type": "display_data"
    },
    {
     "data": {
      "text/html": [
       "Tracking run with wandb version 0.13.10"
      ],
      "text/plain": [
       "<IPython.core.display.HTML object>"
      ]
     },
     "metadata": {},
     "output_type": "display_data"
    },
    {
     "data": {
      "text/html": [
       "Run data is saved locally in <code>C:\\Users\\Shivam Maurya\\OneDrive\\Desktop\\IIT_MADRAS\\Deep Learning\\assignment 1\\CS6910-Deep_Learning_Assignment-1\\wandb\\run-20230318_130007-zr8wnnm1</code>"
      ],
      "text/plain": [
       "<IPython.core.display.HTML object>"
      ]
     },
     "metadata": {},
     "output_type": "display_data"
    },
    {
     "data": {
      "text/html": [
       "Syncing run <strong><a href='https://wandb.ai/cs22m083/CS6910_Assignment1/runs/zr8wnnm1' target=\"_blank\">Question:4</a></strong> to <a href='https://wandb.ai/cs22m083/CS6910_Assignment1' target=\"_blank\">Weights & Biases</a> (<a href='https://wandb.me/run' target=\"_blank\">docs</a>)<br/>Sweep page: <a href='https://wandb.ai/cs22m083/CS6910_Assignment1/sweeps/gb9w2qt6' target=\"_blank\">https://wandb.ai/cs22m083/CS6910_Assignment1/sweeps/gb9w2qt6</a>"
      ],
      "text/plain": [
       "<IPython.core.display.HTML object>"
      ]
     },
     "metadata": {},
     "output_type": "display_data"
    },
    {
     "data": {
      "text/html": [
       " View project at <a href='https://wandb.ai/cs22m083/CS6910_Assignment1' target=\"_blank\">https://wandb.ai/cs22m083/CS6910_Assignment1</a>"
      ],
      "text/plain": [
       "<IPython.core.display.HTML object>"
      ]
     },
     "metadata": {},
     "output_type": "display_data"
    },
    {
     "data": {
      "text/html": [
       " View sweep at <a href='https://wandb.ai/cs22m083/CS6910_Assignment1/sweeps/gb9w2qt6' target=\"_blank\">https://wandb.ai/cs22m083/CS6910_Assignment1/sweeps/gb9w2qt6</a>"
      ],
      "text/plain": [
       "<IPython.core.display.HTML object>"
      ]
     },
     "metadata": {},
     "output_type": "display_data"
    },
    {
     "data": {
      "text/html": [
       " View run at <a href='https://wandb.ai/cs22m083/CS6910_Assignment1/runs/zr8wnnm1' target=\"_blank\">https://wandb.ai/cs22m083/CS6910_Assignment1/runs/zr8wnnm1</a>"
      ],
      "text/plain": [
       "<IPython.core.display.HTML object>"
      ]
     },
     "metadata": {},
     "output_type": "display_data"
    },
    {
     "name": "stdout",
     "output_type": "stream",
     "text": [
      " Training Loss:  1.3511263333655512  Validation Loss: 1.0968944434055754  Training Accuracy:  0.6762833333333333  Validation Accuracy: 0.6798\n"
     ]
    },
    {
     "data": {
      "text/html": [
       "Waiting for W&B process to finish... <strong style=\"color:green\">(success).</strong>"
      ],
      "text/plain": [
       "<IPython.core.display.HTML object>"
      ]
     },
     "metadata": {},
     "output_type": "display_data"
    },
    {
     "data": {
      "text/html": [
       "<style>\n",
       "    table.wandb td:nth-child(1) { padding: 0 10px; text-align: left ; width: auto;} td:nth-child(2) {text-align: left ; width: 100%}\n",
       "    .wandb-row { display: flex; flex-direction: row; flex-wrap: wrap; justify-content: flex-start; width: 100% }\n",
       "    .wandb-col { display: flex; flex-direction: column; flex-basis: 100%; flex: 1; padding: 10px; }\n",
       "    </style>\n",
       "<div class=\"wandb-row\"><div class=\"wandb-col\"><h3>Run history:</h3><br/><table class=\"wandb\"><tr><td>Accuracy</td><td>▁</td></tr><tr><td>Epoch</td><td>▁▃▅▆█</td></tr><tr><td>Training_accuracy</td><td>▁▅▇██</td></tr><tr><td>Training_loss</td><td>█▃▁▁▁</td></tr><tr><td>Validation_accuracy</td><td>▁▂██▇</td></tr><tr><td>Validation_loss</td><td>█▇▁▁▂</td></tr></table><br/></div><div class=\"wandb-col\"><h3>Run summary:</h3><br/><table class=\"wandb\"><tr><td>Accuracy</td><td>0.6798</td></tr><tr><td>Epoch</td><td>5</td></tr><tr><td>Training_accuracy</td><td>0.67628</td></tr><tr><td>Training_loss</td><td>1.35113</td></tr><tr><td>Validation_accuracy</td><td>0.6798</td></tr><tr><td>Validation_loss</td><td>1.09689</td></tr></table><br/></div></div>"
      ],
      "text/plain": [
       "<IPython.core.display.HTML object>"
      ]
     },
     "metadata": {},
     "output_type": "display_data"
    },
    {
     "data": {
      "text/html": [
       " View run <strong style=\"color:#cdcd00\">Question:4</strong> at: <a href='https://wandb.ai/cs22m083/CS6910_Assignment1/runs/zr8wnnm1' target=\"_blank\">https://wandb.ai/cs22m083/CS6910_Assignment1/runs/zr8wnnm1</a><br/>Synced 6 W&B file(s), 0 media file(s), 0 artifact file(s) and 0 other file(s)"
      ],
      "text/plain": [
       "<IPython.core.display.HTML object>"
      ]
     },
     "metadata": {},
     "output_type": "display_data"
    },
    {
     "data": {
      "text/html": [
       "Find logs at: <code>.\\wandb\\run-20230318_130007-zr8wnnm1\\logs</code>"
      ],
      "text/plain": [
       "<IPython.core.display.HTML object>"
      ]
     },
     "metadata": {},
     "output_type": "display_data"
    },
    {
     "name": "stderr",
     "output_type": "stream",
     "text": [
      "\u001b[34m\u001b[1mwandb\u001b[0m: Sweep Agent: Waiting for job.\n",
      "\u001b[34m\u001b[1mwandb\u001b[0m: Job received.\n",
      "\u001b[34m\u001b[1mwandb\u001b[0m: Agent Starting Run: 31xgyhon with config:\n",
      "\u001b[34m\u001b[1mwandb\u001b[0m: \tactivation: tanh\n",
      "\u001b[34m\u001b[1mwandb\u001b[0m: \tbatch_size: 64\n",
      "\u001b[34m\u001b[1mwandb\u001b[0m: \tepochs: 10\n",
      "\u001b[34m\u001b[1mwandb\u001b[0m: \tgamma: 0.03\n",
      "\u001b[34m\u001b[1mwandb\u001b[0m: \thidden_layers: [32, 64, 128]\n",
      "\u001b[34m\u001b[1mwandb\u001b[0m: \tinitialization: Xavier\n",
      "\u001b[34m\u001b[1mwandb\u001b[0m: \tlearning_rate: 0.0005\n",
      "\u001b[34m\u001b[1mwandb\u001b[0m: \toptimizer: nag\n",
      "\u001b[34m\u001b[1mwandb\u001b[0m: \tweight_decay: 0.5\n",
      "Failed to detect the name of this notebook, you can set it manually with the WANDB_NOTEBOOK_NAME environment variable to enable code saving.\n",
      "\u001b[34m\u001b[1mwandb\u001b[0m: \u001b[33mWARNING\u001b[0m Ignored wandb.init() arg project when running a sweep.\n"
     ]
    },
    {
     "data": {
      "text/html": [
       "wandb version 0.14.0 is available!  To upgrade, please run:\n",
       " $ pip install wandb --upgrade"
      ],
      "text/plain": [
       "<IPython.core.display.HTML object>"
      ]
     },
     "metadata": {},
     "output_type": "display_data"
    },
    {
     "data": {
      "text/html": [
       "Tracking run with wandb version 0.13.10"
      ],
      "text/plain": [
       "<IPython.core.display.HTML object>"
      ]
     },
     "metadata": {},
     "output_type": "display_data"
    },
    {
     "data": {
      "text/html": [
       "Run data is saved locally in <code>C:\\Users\\Shivam Maurya\\OneDrive\\Desktop\\IIT_MADRAS\\Deep Learning\\assignment 1\\CS6910-Deep_Learning_Assignment-1\\wandb\\run-20230318_130208-31xgyhon</code>"
      ],
      "text/plain": [
       "<IPython.core.display.HTML object>"
      ]
     },
     "metadata": {},
     "output_type": "display_data"
    },
    {
     "data": {
      "text/html": [
       "Syncing run <strong><a href='https://wandb.ai/cs22m083/CS6910_Assignment1/runs/31xgyhon' target=\"_blank\">Question:4</a></strong> to <a href='https://wandb.ai/cs22m083/CS6910_Assignment1' target=\"_blank\">Weights & Biases</a> (<a href='https://wandb.me/run' target=\"_blank\">docs</a>)<br/>Sweep page: <a href='https://wandb.ai/cs22m083/CS6910_Assignment1/sweeps/gb9w2qt6' target=\"_blank\">https://wandb.ai/cs22m083/CS6910_Assignment1/sweeps/gb9w2qt6</a>"
      ],
      "text/plain": [
       "<IPython.core.display.HTML object>"
      ]
     },
     "metadata": {},
     "output_type": "display_data"
    },
    {
     "data": {
      "text/html": [
       " View project at <a href='https://wandb.ai/cs22m083/CS6910_Assignment1' target=\"_blank\">https://wandb.ai/cs22m083/CS6910_Assignment1</a>"
      ],
      "text/plain": [
       "<IPython.core.display.HTML object>"
      ]
     },
     "metadata": {},
     "output_type": "display_data"
    },
    {
     "data": {
      "text/html": [
       " View sweep at <a href='https://wandb.ai/cs22m083/CS6910_Assignment1/sweeps/gb9w2qt6' target=\"_blank\">https://wandb.ai/cs22m083/CS6910_Assignment1/sweeps/gb9w2qt6</a>"
      ],
      "text/plain": [
       "<IPython.core.display.HTML object>"
      ]
     },
     "metadata": {},
     "output_type": "display_data"
    },
    {
     "data": {
      "text/html": [
       " View run at <a href='https://wandb.ai/cs22m083/CS6910_Assignment1/runs/31xgyhon' target=\"_blank\">https://wandb.ai/cs22m083/CS6910_Assignment1/runs/31xgyhon</a>"
      ],
      "text/plain": [
       "<IPython.core.display.HTML object>"
      ]
     },
     "metadata": {},
     "output_type": "display_data"
    },
    {
     "name": "stdout",
     "output_type": "stream",
     "text": [
      " Training Loss:  0.8186292311017817  Validation Loss: 0.82127705771982  Training Accuracy:  0.71365  Validation Accuracy: 0.7023\n"
     ]
    },
    {
     "data": {
      "text/html": [
       "Waiting for W&B process to finish... <strong style=\"color:green\">(success).</strong>"
      ],
      "text/plain": [
       "<IPython.core.display.HTML object>"
      ]
     },
     "metadata": {},
     "output_type": "display_data"
    },
    {
     "data": {
      "text/html": [
       "<style>\n",
       "    table.wandb td:nth-child(1) { padding: 0 10px; text-align: left ; width: auto;} td:nth-child(2) {text-align: left ; width: 100%}\n",
       "    .wandb-row { display: flex; flex-direction: row; flex-wrap: wrap; justify-content: flex-start; width: 100% }\n",
       "    .wandb-col { display: flex; flex-direction: column; flex-basis: 100%; flex: 1; padding: 10px; }\n",
       "    </style>\n",
       "<div class=\"wandb-row\"><div class=\"wandb-col\"><h3>Run history:</h3><br/><table class=\"wandb\"><tr><td>Accuracy</td><td>▁</td></tr><tr><td>Epoch</td><td>▁▂▃▃▄▅▆▆▇█</td></tr><tr><td>Training_accuracy</td><td>▁▅▆▆▇▇▇███</td></tr><tr><td>Training_loss</td><td>█▅▄▃▂▂▂▁▁▁</td></tr><tr><td>Validation_accuracy</td><td>▁▄▅▅▆▇▇▇██</td></tr><tr><td>Validation_loss</td><td>█▆▄▃▃▂▂▁▁▁</td></tr></table><br/></div><div class=\"wandb-col\"><h3>Run summary:</h3><br/><table class=\"wandb\"><tr><td>Accuracy</td><td>0.7023</td></tr><tr><td>Epoch</td><td>10</td></tr><tr><td>Training_accuracy</td><td>0.71365</td></tr><tr><td>Training_loss</td><td>0.81863</td></tr><tr><td>Validation_accuracy</td><td>0.7023</td></tr><tr><td>Validation_loss</td><td>0.82128</td></tr></table><br/></div></div>"
      ],
      "text/plain": [
       "<IPython.core.display.HTML object>"
      ]
     },
     "metadata": {},
     "output_type": "display_data"
    },
    {
     "data": {
      "text/html": [
       " View run <strong style=\"color:#cdcd00\">Question:4</strong> at: <a href='https://wandb.ai/cs22m083/CS6910_Assignment1/runs/31xgyhon' target=\"_blank\">https://wandb.ai/cs22m083/CS6910_Assignment1/runs/31xgyhon</a><br/>Synced 6 W&B file(s), 0 media file(s), 0 artifact file(s) and 0 other file(s)"
      ],
      "text/plain": [
       "<IPython.core.display.HTML object>"
      ]
     },
     "metadata": {},
     "output_type": "display_data"
    },
    {
     "data": {
      "text/html": [
       "Find logs at: <code>.\\wandb\\run-20230318_130208-31xgyhon\\logs</code>"
      ],
      "text/plain": [
       "<IPython.core.display.HTML object>"
      ]
     },
     "metadata": {},
     "output_type": "display_data"
    },
    {
     "name": "stderr",
     "output_type": "stream",
     "text": [
      "\u001b[34m\u001b[1mwandb\u001b[0m: Agent Starting Run: 6nbwn2eq with config:\n",
      "\u001b[34m\u001b[1mwandb\u001b[0m: \tactivation: relu\n",
      "\u001b[34m\u001b[1mwandb\u001b[0m: \tbatch_size: 16\n",
      "\u001b[34m\u001b[1mwandb\u001b[0m: \tepochs: 10\n",
      "\u001b[34m\u001b[1mwandb\u001b[0m: \tgamma: 0.03\n",
      "\u001b[34m\u001b[1mwandb\u001b[0m: \thidden_layers: [32, 64]\n",
      "\u001b[34m\u001b[1mwandb\u001b[0m: \tinitialization: Random\n",
      "\u001b[34m\u001b[1mwandb\u001b[0m: \tlearning_rate: 0.0003\n",
      "\u001b[34m\u001b[1mwandb\u001b[0m: \toptimizer: nag\n",
      "\u001b[34m\u001b[1mwandb\u001b[0m: \tweight_decay: 0.5\n",
      "Failed to detect the name of this notebook, you can set it manually with the WANDB_NOTEBOOK_NAME environment variable to enable code saving.\n",
      "\u001b[34m\u001b[1mwandb\u001b[0m: \u001b[33mWARNING\u001b[0m Ignored wandb.init() arg project when running a sweep.\n"
     ]
    },
    {
     "data": {
      "text/html": [
       "wandb version 0.14.0 is available!  To upgrade, please run:\n",
       " $ pip install wandb --upgrade"
      ],
      "text/plain": [
       "<IPython.core.display.HTML object>"
      ]
     },
     "metadata": {},
     "output_type": "display_data"
    },
    {
     "data": {
      "text/html": [
       "Tracking run with wandb version 0.13.10"
      ],
      "text/plain": [
       "<IPython.core.display.HTML object>"
      ]
     },
     "metadata": {},
     "output_type": "display_data"
    },
    {
     "data": {
      "text/html": [
       "Run data is saved locally in <code>C:\\Users\\Shivam Maurya\\OneDrive\\Desktop\\IIT_MADRAS\\Deep Learning\\assignment 1\\CS6910-Deep_Learning_Assignment-1\\wandb\\run-20230318_130527-6nbwn2eq</code>"
      ],
      "text/plain": [
       "<IPython.core.display.HTML object>"
      ]
     },
     "metadata": {},
     "output_type": "display_data"
    },
    {
     "data": {
      "text/html": [
       "Syncing run <strong><a href='https://wandb.ai/cs22m083/CS6910_Assignment1/runs/6nbwn2eq' target=\"_blank\">Question:4</a></strong> to <a href='https://wandb.ai/cs22m083/CS6910_Assignment1' target=\"_blank\">Weights & Biases</a> (<a href='https://wandb.me/run' target=\"_blank\">docs</a>)<br/>Sweep page: <a href='https://wandb.ai/cs22m083/CS6910_Assignment1/sweeps/gb9w2qt6' target=\"_blank\">https://wandb.ai/cs22m083/CS6910_Assignment1/sweeps/gb9w2qt6</a>"
      ],
      "text/plain": [
       "<IPython.core.display.HTML object>"
      ]
     },
     "metadata": {},
     "output_type": "display_data"
    },
    {
     "data": {
      "text/html": [
       " View project at <a href='https://wandb.ai/cs22m083/CS6910_Assignment1' target=\"_blank\">https://wandb.ai/cs22m083/CS6910_Assignment1</a>"
      ],
      "text/plain": [
       "<IPython.core.display.HTML object>"
      ]
     },
     "metadata": {},
     "output_type": "display_data"
    },
    {
     "data": {
      "text/html": [
       " View sweep at <a href='https://wandb.ai/cs22m083/CS6910_Assignment1/sweeps/gb9w2qt6' target=\"_blank\">https://wandb.ai/cs22m083/CS6910_Assignment1/sweeps/gb9w2qt6</a>"
      ],
      "text/plain": [
       "<IPython.core.display.HTML object>"
      ]
     },
     "metadata": {},
     "output_type": "display_data"
    },
    {
     "data": {
      "text/html": [
       " View run at <a href='https://wandb.ai/cs22m083/CS6910_Assignment1/runs/6nbwn2eq' target=\"_blank\">https://wandb.ai/cs22m083/CS6910_Assignment1/runs/6nbwn2eq</a>"
      ],
      "text/plain": [
       "<IPython.core.display.HTML object>"
      ]
     },
     "metadata": {},
     "output_type": "display_data"
    },
    {
     "name": "stdout",
     "output_type": "stream",
     "text": [
      " Training Loss:  3.5834595851124633  Validation Loss: 3.5149424613135705  Training Accuracy:  0.6229166666666667  Validation Accuracy: 0.6065\n"
     ]
    },
    {
     "data": {
      "text/html": [
       "Waiting for W&B process to finish... <strong style=\"color:green\">(success).</strong>"
      ],
      "text/plain": [
       "<IPython.core.display.HTML object>"
      ]
     },
     "metadata": {},
     "output_type": "display_data"
    },
    {
     "data": {
      "text/html": [
       "<style>\n",
       "    table.wandb td:nth-child(1) { padding: 0 10px; text-align: left ; width: auto;} td:nth-child(2) {text-align: left ; width: 100%}\n",
       "    .wandb-row { display: flex; flex-direction: row; flex-wrap: wrap; justify-content: flex-start; width: 100% }\n",
       "    .wandb-col { display: flex; flex-direction: column; flex-basis: 100%; flex: 1; padding: 10px; }\n",
       "    </style>\n",
       "<div class=\"wandb-row\"><div class=\"wandb-col\"><h3>Run history:</h3><br/><table class=\"wandb\"><tr><td>Accuracy</td><td>▁</td></tr><tr><td>Epoch</td><td>▁▂▃▃▄▅▆▆▇█</td></tr><tr><td>Training_accuracy</td><td>▁▆▇▇▇▇▇███</td></tr><tr><td>Training_loss</td><td> █▅▄▃▂▂▁▁▁</td></tr><tr><td>Validation_accuracy</td><td>▁▅▄▆▅▄▅▆▇█</td></tr><tr><td>Validation_loss</td><td>█▅▄▃▂▂▂▁▁▁</td></tr></table><br/></div><div class=\"wandb-col\"><h3>Run summary:</h3><br/><table class=\"wandb\"><tr><td>Accuracy</td><td>0.6065</td></tr><tr><td>Epoch</td><td>10</td></tr><tr><td>Training_accuracy</td><td>0.62292</td></tr><tr><td>Training_loss</td><td>3.58346</td></tr><tr><td>Validation_accuracy</td><td>0.6065</td></tr><tr><td>Validation_loss</td><td>3.51494</td></tr></table><br/></div></div>"
      ],
      "text/plain": [
       "<IPython.core.display.HTML object>"
      ]
     },
     "metadata": {},
     "output_type": "display_data"
    },
    {
     "data": {
      "text/html": [
       " View run <strong style=\"color:#cdcd00\">Question:4</strong> at: <a href='https://wandb.ai/cs22m083/CS6910_Assignment1/runs/6nbwn2eq' target=\"_blank\">https://wandb.ai/cs22m083/CS6910_Assignment1/runs/6nbwn2eq</a><br/>Synced 6 W&B file(s), 0 media file(s), 0 artifact file(s) and 0 other file(s)"
      ],
      "text/plain": [
       "<IPython.core.display.HTML object>"
      ]
     },
     "metadata": {},
     "output_type": "display_data"
    },
    {
     "data": {
      "text/html": [
       "Find logs at: <code>.\\wandb\\run-20230318_130527-6nbwn2eq\\logs</code>"
      ],
      "text/plain": [
       "<IPython.core.display.HTML object>"
      ]
     },
     "metadata": {},
     "output_type": "display_data"
    },
    {
     "name": "stderr",
     "output_type": "stream",
     "text": [
      "\u001b[34m\u001b[1mwandb\u001b[0m: Agent Starting Run: jkf1wngs with config:\n",
      "\u001b[34m\u001b[1mwandb\u001b[0m: \tactivation: tanh\n",
      "\u001b[34m\u001b[1mwandb\u001b[0m: \tbatch_size: 64\n",
      "\u001b[34m\u001b[1mwandb\u001b[0m: \tepochs: 5\n",
      "\u001b[34m\u001b[1mwandb\u001b[0m: \tgamma: 0.002\n",
      "\u001b[34m\u001b[1mwandb\u001b[0m: \thidden_layers: [32, 64, 128, 256]\n",
      "\u001b[34m\u001b[1mwandb\u001b[0m: \tinitialization: Xavier\n",
      "\u001b[34m\u001b[1mwandb\u001b[0m: \tlearning_rate: 0.01\n",
      "\u001b[34m\u001b[1mwandb\u001b[0m: \toptimizer: nag\n",
      "\u001b[34m\u001b[1mwandb\u001b[0m: \tweight_decay: 0.5\n",
      "Failed to detect the name of this notebook, you can set it manually with the WANDB_NOTEBOOK_NAME environment variable to enable code saving.\n",
      "\u001b[34m\u001b[1mwandb\u001b[0m: \u001b[33mWARNING\u001b[0m Ignored wandb.init() arg project when running a sweep.\n"
     ]
    },
    {
     "data": {
      "text/html": [
       "wandb version 0.14.0 is available!  To upgrade, please run:\n",
       " $ pip install wandb --upgrade"
      ],
      "text/plain": [
       "<IPython.core.display.HTML object>"
      ]
     },
     "metadata": {},
     "output_type": "display_data"
    },
    {
     "data": {
      "text/html": [
       "Tracking run with wandb version 0.13.10"
      ],
      "text/plain": [
       "<IPython.core.display.HTML object>"
      ]
     },
     "metadata": {},
     "output_type": "display_data"
    },
    {
     "data": {
      "text/html": [
       "Run data is saved locally in <code>C:\\Users\\Shivam Maurya\\OneDrive\\Desktop\\IIT_MADRAS\\Deep Learning\\assignment 1\\CS6910-Deep_Learning_Assignment-1\\wandb\\run-20230318_130829-jkf1wngs</code>"
      ],
      "text/plain": [
       "<IPython.core.display.HTML object>"
      ]
     },
     "metadata": {},
     "output_type": "display_data"
    },
    {
     "data": {
      "text/html": [
       "Syncing run <strong><a href='https://wandb.ai/cs22m083/CS6910_Assignment1/runs/jkf1wngs' target=\"_blank\">Question:4</a></strong> to <a href='https://wandb.ai/cs22m083/CS6910_Assignment1' target=\"_blank\">Weights & Biases</a> (<a href='https://wandb.me/run' target=\"_blank\">docs</a>)<br/>Sweep page: <a href='https://wandb.ai/cs22m083/CS6910_Assignment1/sweeps/gb9w2qt6' target=\"_blank\">https://wandb.ai/cs22m083/CS6910_Assignment1/sweeps/gb9w2qt6</a>"
      ],
      "text/plain": [
       "<IPython.core.display.HTML object>"
      ]
     },
     "metadata": {},
     "output_type": "display_data"
    },
    {
     "data": {
      "text/html": [
       " View project at <a href='https://wandb.ai/cs22m083/CS6910_Assignment1' target=\"_blank\">https://wandb.ai/cs22m083/CS6910_Assignment1</a>"
      ],
      "text/plain": [
       "<IPython.core.display.HTML object>"
      ]
     },
     "metadata": {},
     "output_type": "display_data"
    },
    {
     "data": {
      "text/html": [
       " View sweep at <a href='https://wandb.ai/cs22m083/CS6910_Assignment1/sweeps/gb9w2qt6' target=\"_blank\">https://wandb.ai/cs22m083/CS6910_Assignment1/sweeps/gb9w2qt6</a>"
      ],
      "text/plain": [
       "<IPython.core.display.HTML object>"
      ]
     },
     "metadata": {},
     "output_type": "display_data"
    },
    {
     "data": {
      "text/html": [
       " View run at <a href='https://wandb.ai/cs22m083/CS6910_Assignment1/runs/jkf1wngs' target=\"_blank\">https://wandb.ai/cs22m083/CS6910_Assignment1/runs/jkf1wngs</a>"
      ],
      "text/plain": [
       "<IPython.core.display.HTML object>"
      ]
     },
     "metadata": {},
     "output_type": "display_data"
    },
    {
     "name": "stdout",
     "output_type": "stream",
     "text": [
      " Training Loss:  0.7563793170252534  Validation Loss: 0.8288537759662713  Training Accuracy:  0.7422333333333333  Validation Accuracy: 0.7138\n"
     ]
    },
    {
     "data": {
      "text/html": [
       "Waiting for W&B process to finish... <strong style=\"color:green\">(success).</strong>"
      ],
      "text/plain": [
       "<IPython.core.display.HTML object>"
      ]
     },
     "metadata": {},
     "output_type": "display_data"
    },
    {
     "data": {
      "application/vnd.jupyter.widget-view+json": {
       "model_id": "9cd061e046d240298054cdaa6e9e4409",
       "version_major": 2,
       "version_minor": 0
      },
      "text/plain": [
       "VBox(children=(Label(value='0.001 MB of 0.001 MB uploaded (0.000 MB deduped)\\r'), FloatProgress(value=1.0, max…"
      ]
     },
     "metadata": {},
     "output_type": "display_data"
    },
    {
     "data": {
      "text/html": [
       "<style>\n",
       "    table.wandb td:nth-child(1) { padding: 0 10px; text-align: left ; width: auto;} td:nth-child(2) {text-align: left ; width: 100%}\n",
       "    .wandb-row { display: flex; flex-direction: row; flex-wrap: wrap; justify-content: flex-start; width: 100% }\n",
       "    .wandb-col { display: flex; flex-direction: column; flex-basis: 100%; flex: 1; padding: 10px; }\n",
       "    </style>\n",
       "<div class=\"wandb-row\"><div class=\"wandb-col\"><h3>Run history:</h3><br/><table class=\"wandb\"><tr><td>Accuracy</td><td>▁</td></tr><tr><td>Epoch</td><td>▁▃▅▆█</td></tr><tr><td>Training_accuracy</td><td>▁▆▇██</td></tr><tr><td>Training_loss</td><td>█▂▁▁▁</td></tr><tr><td>Validation_accuracy</td><td>▁▃▆██</td></tr><tr><td>Validation_loss</td><td>█▆▃▁▂</td></tr></table><br/></div><div class=\"wandb-col\"><h3>Run summary:</h3><br/><table class=\"wandb\"><tr><td>Accuracy</td><td>0.7138</td></tr><tr><td>Epoch</td><td>5</td></tr><tr><td>Training_accuracy</td><td>0.74223</td></tr><tr><td>Training_loss</td><td>0.75638</td></tr><tr><td>Validation_accuracy</td><td>0.7138</td></tr><tr><td>Validation_loss</td><td>0.82885</td></tr></table><br/></div></div>"
      ],
      "text/plain": [
       "<IPython.core.display.HTML object>"
      ]
     },
     "metadata": {},
     "output_type": "display_data"
    },
    {
     "data": {
      "text/html": [
       " View run <strong style=\"color:#cdcd00\">Question:4</strong> at: <a href='https://wandb.ai/cs22m083/CS6910_Assignment1/runs/jkf1wngs' target=\"_blank\">https://wandb.ai/cs22m083/CS6910_Assignment1/runs/jkf1wngs</a><br/>Synced 6 W&B file(s), 0 media file(s), 0 artifact file(s) and 0 other file(s)"
      ],
      "text/plain": [
       "<IPython.core.display.HTML object>"
      ]
     },
     "metadata": {},
     "output_type": "display_data"
    },
    {
     "data": {
      "text/html": [
       "Find logs at: <code>.\\wandb\\run-20230318_130829-jkf1wngs\\logs</code>"
      ],
      "text/plain": [
       "<IPython.core.display.HTML object>"
      ]
     },
     "metadata": {},
     "output_type": "display_data"
    },
    {
     "name": "stderr",
     "output_type": "stream",
     "text": [
      "\u001b[34m\u001b[1mwandb\u001b[0m: Agent Starting Run: k9xr4072 with config:\n",
      "\u001b[34m\u001b[1mwandb\u001b[0m: \tactivation: tanh\n",
      "\u001b[34m\u001b[1mwandb\u001b[0m: \tbatch_size: 16\n",
      "\u001b[34m\u001b[1mwandb\u001b[0m: \tepochs: 10\n",
      "\u001b[34m\u001b[1mwandb\u001b[0m: \tgamma: 0.0006\n",
      "\u001b[34m\u001b[1mwandb\u001b[0m: \thidden_layers: [32, 64, 128, 256]\n",
      "\u001b[34m\u001b[1mwandb\u001b[0m: \tinitialization: Xavier\n",
      "\u001b[34m\u001b[1mwandb\u001b[0m: \tlearning_rate: 0.0006\n",
      "\u001b[34m\u001b[1mwandb\u001b[0m: \toptimizer: momentum\n",
      "\u001b[34m\u001b[1mwandb\u001b[0m: \tweight_decay: 0.0005\n",
      "Failed to detect the name of this notebook, you can set it manually with the WANDB_NOTEBOOK_NAME environment variable to enable code saving.\n",
      "\u001b[34m\u001b[1mwandb\u001b[0m: \u001b[33mWARNING\u001b[0m Ignored wandb.init() arg project when running a sweep.\n"
     ]
    },
    {
     "data": {
      "text/html": [
       "wandb version 0.14.0 is available!  To upgrade, please run:\n",
       " $ pip install wandb --upgrade"
      ],
      "text/plain": [
       "<IPython.core.display.HTML object>"
      ]
     },
     "metadata": {},
     "output_type": "display_data"
    },
    {
     "data": {
      "text/html": [
       "Tracking run with wandb version 0.13.10"
      ],
      "text/plain": [
       "<IPython.core.display.HTML object>"
      ]
     },
     "metadata": {},
     "output_type": "display_data"
    },
    {
     "data": {
      "text/html": [
       "Run data is saved locally in <code>C:\\Users\\Shivam Maurya\\OneDrive\\Desktop\\IIT_MADRAS\\Deep Learning\\assignment 1\\CS6910-Deep_Learning_Assignment-1\\wandb\\run-20230318_131114-k9xr4072</code>"
      ],
      "text/plain": [
       "<IPython.core.display.HTML object>"
      ]
     },
     "metadata": {},
     "output_type": "display_data"
    },
    {
     "data": {
      "text/html": [
       "Syncing run <strong><a href='https://wandb.ai/cs22m083/CS6910_Assignment1/runs/k9xr4072' target=\"_blank\">Question:4</a></strong> to <a href='https://wandb.ai/cs22m083/CS6910_Assignment1' target=\"_blank\">Weights & Biases</a> (<a href='https://wandb.me/run' target=\"_blank\">docs</a>)<br/>Sweep page: <a href='https://wandb.ai/cs22m083/CS6910_Assignment1/sweeps/gb9w2qt6' target=\"_blank\">https://wandb.ai/cs22m083/CS6910_Assignment1/sweeps/gb9w2qt6</a>"
      ],
      "text/plain": [
       "<IPython.core.display.HTML object>"
      ]
     },
     "metadata": {},
     "output_type": "display_data"
    },
    {
     "data": {
      "text/html": [
       " View project at <a href='https://wandb.ai/cs22m083/CS6910_Assignment1' target=\"_blank\">https://wandb.ai/cs22m083/CS6910_Assignment1</a>"
      ],
      "text/plain": [
       "<IPython.core.display.HTML object>"
      ]
     },
     "metadata": {},
     "output_type": "display_data"
    },
    {
     "data": {
      "text/html": [
       " View sweep at <a href='https://wandb.ai/cs22m083/CS6910_Assignment1/sweeps/gb9w2qt6' target=\"_blank\">https://wandb.ai/cs22m083/CS6910_Assignment1/sweeps/gb9w2qt6</a>"
      ],
      "text/plain": [
       "<IPython.core.display.HTML object>"
      ]
     },
     "metadata": {},
     "output_type": "display_data"
    },
    {
     "data": {
      "text/html": [
       " View run at <a href='https://wandb.ai/cs22m083/CS6910_Assignment1/runs/k9xr4072' target=\"_blank\">https://wandb.ai/cs22m083/CS6910_Assignment1/runs/k9xr4072</a>"
      ],
      "text/plain": [
       "<IPython.core.display.HTML object>"
      ]
     },
     "metadata": {},
     "output_type": "display_data"
    },
    {
     "name": "stdout",
     "output_type": "stream",
     "text": [
      " Training Loss:  0.3105821514674845  Validation Loss: 0.3656946912706324  Training Accuracy:  0.8861833333333333  Validation Accuracy: 0.8671\n"
     ]
    },
    {
     "data": {
      "text/html": [
       "Waiting for W&B process to finish... <strong style=\"color:green\">(success).</strong>"
      ],
      "text/plain": [
       "<IPython.core.display.HTML object>"
      ]
     },
     "metadata": {},
     "output_type": "display_data"
    },
    {
     "data": {
      "text/html": [
       "<style>\n",
       "    table.wandb td:nth-child(1) { padding: 0 10px; text-align: left ; width: auto;} td:nth-child(2) {text-align: left ; width: 100%}\n",
       "    .wandb-row { display: flex; flex-direction: row; flex-wrap: wrap; justify-content: flex-start; width: 100% }\n",
       "    .wandb-col { display: flex; flex-direction: column; flex-basis: 100%; flex: 1; padding: 10px; }\n",
       "    </style>\n",
       "<div class=\"wandb-row\"><div class=\"wandb-col\"><h3>Run history:</h3><br/><table class=\"wandb\"><tr><td>Accuracy</td><td>▁</td></tr><tr><td>Epoch</td><td>▁▂▃▃▄▅▆▆▇█</td></tr><tr><td>Training_accuracy</td><td>▁▅▆▆▇▇▇███</td></tr><tr><td>Training_loss</td><td>█▄▃▃▂▂▂▁▁▁</td></tr><tr><td>Validation_accuracy</td><td>▁▃▅▆▆▇▇███</td></tr><tr><td>Validation_loss</td><td>█▆▄▃▃▂▂▁▁▁</td></tr></table><br/></div><div class=\"wandb-col\"><h3>Run summary:</h3><br/><table class=\"wandb\"><tr><td>Accuracy</td><td>0.8671</td></tr><tr><td>Epoch</td><td>10</td></tr><tr><td>Training_accuracy</td><td>0.88618</td></tr><tr><td>Training_loss</td><td>0.31058</td></tr><tr><td>Validation_accuracy</td><td>0.8671</td></tr><tr><td>Validation_loss</td><td>0.36569</td></tr></table><br/></div></div>"
      ],
      "text/plain": [
       "<IPython.core.display.HTML object>"
      ]
     },
     "metadata": {},
     "output_type": "display_data"
    },
    {
     "data": {
      "text/html": [
       " View run <strong style=\"color:#cdcd00\">Question:4</strong> at: <a href='https://wandb.ai/cs22m083/CS6910_Assignment1/runs/k9xr4072' target=\"_blank\">https://wandb.ai/cs22m083/CS6910_Assignment1/runs/k9xr4072</a><br/>Synced 6 W&B file(s), 0 media file(s), 0 artifact file(s) and 0 other file(s)"
      ],
      "text/plain": [
       "<IPython.core.display.HTML object>"
      ]
     },
     "metadata": {},
     "output_type": "display_data"
    },
    {
     "data": {
      "text/html": [
       "Find logs at: <code>.\\wandb\\run-20230318_131114-k9xr4072\\logs</code>"
      ],
      "text/plain": [
       "<IPython.core.display.HTML object>"
      ]
     },
     "metadata": {},
     "output_type": "display_data"
    },
    {
     "name": "stderr",
     "output_type": "stream",
     "text": [
      "\u001b[34m\u001b[1mwandb\u001b[0m: Sweep Agent: Waiting for job.\n",
      "\u001b[34m\u001b[1mwandb\u001b[0m: Job received.\n",
      "\u001b[34m\u001b[1mwandb\u001b[0m: Agent Starting Run: bzrlkury with config:\n",
      "\u001b[34m\u001b[1mwandb\u001b[0m: \tactivation: sigmoid\n",
      "\u001b[34m\u001b[1mwandb\u001b[0m: \tbatch_size: 16\n",
      "\u001b[34m\u001b[1mwandb\u001b[0m: \tepochs: 10\n",
      "\u001b[34m\u001b[1mwandb\u001b[0m: \tgamma: 0.0006\n",
      "\u001b[34m\u001b[1mwandb\u001b[0m: \thidden_layers: [32, 64, 128, 256]\n",
      "\u001b[34m\u001b[1mwandb\u001b[0m: \tinitialization: Xavier\n",
      "\u001b[34m\u001b[1mwandb\u001b[0m: \tlearning_rate: 0.005\n",
      "\u001b[34m\u001b[1mwandb\u001b[0m: \toptimizer: rmsprop\n",
      "\u001b[34m\u001b[1mwandb\u001b[0m: \tweight_decay: 0\n",
      "Failed to detect the name of this notebook, you can set it manually with the WANDB_NOTEBOOK_NAME environment variable to enable code saving.\n",
      "\u001b[34m\u001b[1mwandb\u001b[0m: \u001b[33mWARNING\u001b[0m Ignored wandb.init() arg project when running a sweep.\n"
     ]
    },
    {
     "data": {
      "text/html": [
       "wandb version 0.14.0 is available!  To upgrade, please run:\n",
       " $ pip install wandb --upgrade"
      ],
      "text/plain": [
       "<IPython.core.display.HTML object>"
      ]
     },
     "metadata": {},
     "output_type": "display_data"
    },
    {
     "data": {
      "text/html": [
       "Tracking run with wandb version 0.13.10"
      ],
      "text/plain": [
       "<IPython.core.display.HTML object>"
      ]
     },
     "metadata": {},
     "output_type": "display_data"
    },
    {
     "data": {
      "text/html": [
       "Run data is saved locally in <code>C:\\Users\\Shivam Maurya\\OneDrive\\Desktop\\IIT_MADRAS\\Deep Learning\\assignment 1\\CS6910-Deep_Learning_Assignment-1\\wandb\\run-20230318_131628-bzrlkury</code>"
      ],
      "text/plain": [
       "<IPython.core.display.HTML object>"
      ]
     },
     "metadata": {},
     "output_type": "display_data"
    },
    {
     "data": {
      "text/html": [
       "Syncing run <strong><a href='https://wandb.ai/cs22m083/CS6910_Assignment1/runs/bzrlkury' target=\"_blank\">Question:4</a></strong> to <a href='https://wandb.ai/cs22m083/CS6910_Assignment1' target=\"_blank\">Weights & Biases</a> (<a href='https://wandb.me/run' target=\"_blank\">docs</a>)<br/>Sweep page: <a href='https://wandb.ai/cs22m083/CS6910_Assignment1/sweeps/gb9w2qt6' target=\"_blank\">https://wandb.ai/cs22m083/CS6910_Assignment1/sweeps/gb9w2qt6</a>"
      ],
      "text/plain": [
       "<IPython.core.display.HTML object>"
      ]
     },
     "metadata": {},
     "output_type": "display_data"
    },
    {
     "data": {
      "text/html": [
       " View project at <a href='https://wandb.ai/cs22m083/CS6910_Assignment1' target=\"_blank\">https://wandb.ai/cs22m083/CS6910_Assignment1</a>"
      ],
      "text/plain": [
       "<IPython.core.display.HTML object>"
      ]
     },
     "metadata": {},
     "output_type": "display_data"
    },
    {
     "data": {
      "text/html": [
       " View sweep at <a href='https://wandb.ai/cs22m083/CS6910_Assignment1/sweeps/gb9w2qt6' target=\"_blank\">https://wandb.ai/cs22m083/CS6910_Assignment1/sweeps/gb9w2qt6</a>"
      ],
      "text/plain": [
       "<IPython.core.display.HTML object>"
      ]
     },
     "metadata": {},
     "output_type": "display_data"
    },
    {
     "data": {
      "text/html": [
       " View run at <a href='https://wandb.ai/cs22m083/CS6910_Assignment1/runs/bzrlkury' target=\"_blank\">https://wandb.ai/cs22m083/CS6910_Assignment1/runs/bzrlkury</a>"
      ],
      "text/plain": [
       "<IPython.core.display.HTML object>"
      ]
     },
     "metadata": {},
     "output_type": "display_data"
    },
    {
     "name": "stdout",
     "output_type": "stream",
     "text": [
      " Training Loss:  nan  Validation Loss: nan  Training Accuracy:  0.1  Validation Accuracy: 0.1\n"
     ]
    },
    {
     "data": {
      "text/html": [
       "Waiting for W&B process to finish... <strong style=\"color:green\">(success).</strong>"
      ],
      "text/plain": [
       "<IPython.core.display.HTML object>"
      ]
     },
     "metadata": {},
     "output_type": "display_data"
    },
    {
     "data": {
      "application/vnd.jupyter.widget-view+json": {
       "model_id": "06fc20b05bcd4242bf3247637d85dee1",
       "version_major": 2,
       "version_minor": 0
      },
      "text/plain": [
       "VBox(children=(Label(value='0.001 MB of 0.001 MB uploaded (0.000 MB deduped)\\r'), FloatProgress(value=1.0, max…"
      ]
     },
     "metadata": {},
     "output_type": "display_data"
    },
    {
     "data": {
      "text/html": [
       "<style>\n",
       "    table.wandb td:nth-child(1) { padding: 0 10px; text-align: left ; width: auto;} td:nth-child(2) {text-align: left ; width: 100%}\n",
       "    .wandb-row { display: flex; flex-direction: row; flex-wrap: wrap; justify-content: flex-start; width: 100% }\n",
       "    .wandb-col { display: flex; flex-direction: column; flex-basis: 100%; flex: 1; padding: 10px; }\n",
       "    </style>\n",
       "<div class=\"wandb-row\"><div class=\"wandb-col\"><h3>Run history:</h3><br/><table class=\"wandb\"><tr><td>Accuracy</td><td>▁</td></tr><tr><td>Epoch</td><td>▁▂▃▃▄▅▆▆▇█</td></tr><tr><td>Training_accuracy</td><td>▇██▄▁▁▁▁▁▁</td></tr><tr><td>Training_loss</td><td>█▁▂       </td></tr><tr><td>Validation_accuracy</td><td>███▁▁▁▁▁▁▁</td></tr><tr><td>Validation_loss</td><td>▁█▅       </td></tr></table><br/></div><div class=\"wandb-col\"><h3>Run summary:</h3><br/><table class=\"wandb\"><tr><td>Accuracy</td><td>0.1</td></tr><tr><td>Epoch</td><td>10</td></tr><tr><td>Training_accuracy</td><td>0.1</td></tr><tr><td>Training_loss</td><td>nan</td></tr><tr><td>Validation_accuracy</td><td>0.1</td></tr><tr><td>Validation_loss</td><td>nan</td></tr></table><br/></div></div>"
      ],
      "text/plain": [
       "<IPython.core.display.HTML object>"
      ]
     },
     "metadata": {},
     "output_type": "display_data"
    },
    {
     "data": {
      "text/html": [
       " View run <strong style=\"color:#cdcd00\">Question:4</strong> at: <a href='https://wandb.ai/cs22m083/CS6910_Assignment1/runs/bzrlkury' target=\"_blank\">https://wandb.ai/cs22m083/CS6910_Assignment1/runs/bzrlkury</a><br/>Synced 6 W&B file(s), 0 media file(s), 0 artifact file(s) and 0 other file(s)"
      ],
      "text/plain": [
       "<IPython.core.display.HTML object>"
      ]
     },
     "metadata": {},
     "output_type": "display_data"
    },
    {
     "data": {
      "text/html": [
       "Find logs at: <code>.\\wandb\\run-20230318_131628-bzrlkury\\logs</code>"
      ],
      "text/plain": [
       "<IPython.core.display.HTML object>"
      ]
     },
     "metadata": {},
     "output_type": "display_data"
    },
    {
     "name": "stderr",
     "output_type": "stream",
     "text": [
      "\u001b[34m\u001b[1mwandb\u001b[0m: Agent Starting Run: ej0h0yjw with config:\n",
      "\u001b[34m\u001b[1mwandb\u001b[0m: \tactivation: sigmoid\n",
      "\u001b[34m\u001b[1mwandb\u001b[0m: \tbatch_size: 64\n",
      "\u001b[34m\u001b[1mwandb\u001b[0m: \tepochs: 5\n",
      "\u001b[34m\u001b[1mwandb\u001b[0m: \tgamma: 0.002\n",
      "\u001b[34m\u001b[1mwandb\u001b[0m: \thidden_layers: [32, 64, 128]\n",
      "\u001b[34m\u001b[1mwandb\u001b[0m: \tinitialization: Xavier\n",
      "\u001b[34m\u001b[1mwandb\u001b[0m: \tlearning_rate: 0.0001\n",
      "\u001b[34m\u001b[1mwandb\u001b[0m: \toptimizer: adam\n",
      "\u001b[34m\u001b[1mwandb\u001b[0m: \tweight_decay: 0\n",
      "Failed to detect the name of this notebook, you can set it manually with the WANDB_NOTEBOOK_NAME environment variable to enable code saving.\n",
      "\u001b[34m\u001b[1mwandb\u001b[0m: \u001b[33mWARNING\u001b[0m Ignored wandb.init() arg project when running a sweep.\n"
     ]
    },
    {
     "data": {
      "text/html": [
       "wandb version 0.14.0 is available!  To upgrade, please run:\n",
       " $ pip install wandb --upgrade"
      ],
      "text/plain": [
       "<IPython.core.display.HTML object>"
      ]
     },
     "metadata": {},
     "output_type": "display_data"
    },
    {
     "data": {
      "text/html": [
       "Tracking run with wandb version 0.13.10"
      ],
      "text/plain": [
       "<IPython.core.display.HTML object>"
      ]
     },
     "metadata": {},
     "output_type": "display_data"
    },
    {
     "data": {
      "text/html": [
       "Run data is saved locally in <code>C:\\Users\\Shivam Maurya\\OneDrive\\Desktop\\IIT_MADRAS\\Deep Learning\\assignment 1\\CS6910-Deep_Learning_Assignment-1\\wandb\\run-20230318_132224-ej0h0yjw</code>"
      ],
      "text/plain": [
       "<IPython.core.display.HTML object>"
      ]
     },
     "metadata": {},
     "output_type": "display_data"
    },
    {
     "data": {
      "text/html": [
       "Syncing run <strong><a href='https://wandb.ai/cs22m083/CS6910_Assignment1/runs/ej0h0yjw' target=\"_blank\">Question:4</a></strong> to <a href='https://wandb.ai/cs22m083/CS6910_Assignment1' target=\"_blank\">Weights & Biases</a> (<a href='https://wandb.me/run' target=\"_blank\">docs</a>)<br/>Sweep page: <a href='https://wandb.ai/cs22m083/CS6910_Assignment1/sweeps/gb9w2qt6' target=\"_blank\">https://wandb.ai/cs22m083/CS6910_Assignment1/sweeps/gb9w2qt6</a>"
      ],
      "text/plain": [
       "<IPython.core.display.HTML object>"
      ]
     },
     "metadata": {},
     "output_type": "display_data"
    },
    {
     "data": {
      "text/html": [
       " View project at <a href='https://wandb.ai/cs22m083/CS6910_Assignment1' target=\"_blank\">https://wandb.ai/cs22m083/CS6910_Assignment1</a>"
      ],
      "text/plain": [
       "<IPython.core.display.HTML object>"
      ]
     },
     "metadata": {},
     "output_type": "display_data"
    },
    {
     "data": {
      "text/html": [
       " View sweep at <a href='https://wandb.ai/cs22m083/CS6910_Assignment1/sweeps/gb9w2qt6' target=\"_blank\">https://wandb.ai/cs22m083/CS6910_Assignment1/sweeps/gb9w2qt6</a>"
      ],
      "text/plain": [
       "<IPython.core.display.HTML object>"
      ]
     },
     "metadata": {},
     "output_type": "display_data"
    },
    {
     "data": {
      "text/html": [
       " View run at <a href='https://wandb.ai/cs22m083/CS6910_Assignment1/runs/ej0h0yjw' target=\"_blank\">https://wandb.ai/cs22m083/CS6910_Assignment1/runs/ej0h0yjw</a>"
      ],
      "text/plain": [
       "<IPython.core.display.HTML object>"
      ]
     },
     "metadata": {},
     "output_type": "display_data"
    },
    {
     "name": "stdout",
     "output_type": "stream",
     "text": [
      " Training Loss:  0.7629437852946944  Validation Loss: 0.7313029785663262  Training Accuracy:  0.7117333333333333  Validation Accuracy: 0.716\n"
     ]
    },
    {
     "data": {
      "text/html": [
       "Waiting for W&B process to finish... <strong style=\"color:green\">(success).</strong>"
      ],
      "text/plain": [
       "<IPython.core.display.HTML object>"
      ]
     },
     "metadata": {},
     "output_type": "display_data"
    },
    {
     "data": {
      "text/html": [
       "<style>\n",
       "    table.wandb td:nth-child(1) { padding: 0 10px; text-align: left ; width: auto;} td:nth-child(2) {text-align: left ; width: 100%}\n",
       "    .wandb-row { display: flex; flex-direction: row; flex-wrap: wrap; justify-content: flex-start; width: 100% }\n",
       "    .wandb-col { display: flex; flex-direction: column; flex-basis: 100%; flex: 1; padding: 10px; }\n",
       "    </style>\n",
       "<div class=\"wandb-row\"><div class=\"wandb-col\"><h3>Run history:</h3><br/><table class=\"wandb\"><tr><td>Accuracy</td><td>▁</td></tr><tr><td>Epoch</td><td>▁▃▅▆█</td></tr><tr><td>Training_accuracy</td><td>▁▅▆▇█</td></tr><tr><td>Training_loss</td><td>█▅▃▂▁</td></tr><tr><td>Validation_accuracy</td><td>▁▄▇██</td></tr><tr><td>Validation_loss</td><td>█▅▃▂▁</td></tr></table><br/></div><div class=\"wandb-col\"><h3>Run summary:</h3><br/><table class=\"wandb\"><tr><td>Accuracy</td><td>0.716</td></tr><tr><td>Epoch</td><td>5</td></tr><tr><td>Training_accuracy</td><td>0.71173</td></tr><tr><td>Training_loss</td><td>0.76294</td></tr><tr><td>Validation_accuracy</td><td>0.716</td></tr><tr><td>Validation_loss</td><td>0.7313</td></tr></table><br/></div></div>"
      ],
      "text/plain": [
       "<IPython.core.display.HTML object>"
      ]
     },
     "metadata": {},
     "output_type": "display_data"
    },
    {
     "data": {
      "text/html": [
       " View run <strong style=\"color:#cdcd00\">Question:4</strong> at: <a href='https://wandb.ai/cs22m083/CS6910_Assignment1/runs/ej0h0yjw' target=\"_blank\">https://wandb.ai/cs22m083/CS6910_Assignment1/runs/ej0h0yjw</a><br/>Synced 6 W&B file(s), 0 media file(s), 0 artifact file(s) and 0 other file(s)"
      ],
      "text/plain": [
       "<IPython.core.display.HTML object>"
      ]
     },
     "metadata": {},
     "output_type": "display_data"
    },
    {
     "data": {
      "text/html": [
       "Find logs at: <code>.\\wandb\\run-20230318_132224-ej0h0yjw\\logs</code>"
      ],
      "text/plain": [
       "<IPython.core.display.HTML object>"
      ]
     },
     "metadata": {},
     "output_type": "display_data"
    },
    {
     "name": "stderr",
     "output_type": "stream",
     "text": [
      "\u001b[34m\u001b[1mwandb\u001b[0m: Agent Starting Run: ds8cnanz with config:\n",
      "\u001b[34m\u001b[1mwandb\u001b[0m: \tactivation: sigmoid\n",
      "\u001b[34m\u001b[1mwandb\u001b[0m: \tbatch_size: 16\n",
      "\u001b[34m\u001b[1mwandb\u001b[0m: \tepochs: 5\n",
      "\u001b[34m\u001b[1mwandb\u001b[0m: \tgamma: 0.002\n",
      "\u001b[34m\u001b[1mwandb\u001b[0m: \thidden_layers: [32, 64, 128, 256]\n",
      "\u001b[34m\u001b[1mwandb\u001b[0m: \tinitialization: Random\n",
      "\u001b[34m\u001b[1mwandb\u001b[0m: \tlearning_rate: 0.01\n",
      "\u001b[34m\u001b[1mwandb\u001b[0m: \toptimizer: nag\n",
      "\u001b[34m\u001b[1mwandb\u001b[0m: \tweight_decay: 0\n",
      "Failed to detect the name of this notebook, you can set it manually with the WANDB_NOTEBOOK_NAME environment variable to enable code saving.\n",
      "\u001b[34m\u001b[1mwandb\u001b[0m: \u001b[33mWARNING\u001b[0m Ignored wandb.init() arg project when running a sweep.\n"
     ]
    },
    {
     "data": {
      "text/html": [
       "wandb version 0.14.0 is available!  To upgrade, please run:\n",
       " $ pip install wandb --upgrade"
      ],
      "text/plain": [
       "<IPython.core.display.HTML object>"
      ]
     },
     "metadata": {},
     "output_type": "display_data"
    },
    {
     "data": {
      "text/html": [
       "Tracking run with wandb version 0.13.10"
      ],
      "text/plain": [
       "<IPython.core.display.HTML object>"
      ]
     },
     "metadata": {},
     "output_type": "display_data"
    },
    {
     "data": {
      "text/html": [
       "Run data is saved locally in <code>C:\\Users\\Shivam Maurya\\OneDrive\\Desktop\\IIT_MADRAS\\Deep Learning\\assignment 1\\CS6910-Deep_Learning_Assignment-1\\wandb\\run-20230318_132420-ds8cnanz</code>"
      ],
      "text/plain": [
       "<IPython.core.display.HTML object>"
      ]
     },
     "metadata": {},
     "output_type": "display_data"
    },
    {
     "data": {
      "text/html": [
       "Syncing run <strong><a href='https://wandb.ai/cs22m083/CS6910_Assignment1/runs/ds8cnanz' target=\"_blank\">Question:4</a></strong> to <a href='https://wandb.ai/cs22m083/CS6910_Assignment1' target=\"_blank\">Weights & Biases</a> (<a href='https://wandb.me/run' target=\"_blank\">docs</a>)<br/>Sweep page: <a href='https://wandb.ai/cs22m083/CS6910_Assignment1/sweeps/gb9w2qt6' target=\"_blank\">https://wandb.ai/cs22m083/CS6910_Assignment1/sweeps/gb9w2qt6</a>"
      ],
      "text/plain": [
       "<IPython.core.display.HTML object>"
      ]
     },
     "metadata": {},
     "output_type": "display_data"
    },
    {
     "data": {
      "text/html": [
       " View project at <a href='https://wandb.ai/cs22m083/CS6910_Assignment1' target=\"_blank\">https://wandb.ai/cs22m083/CS6910_Assignment1</a>"
      ],
      "text/plain": [
       "<IPython.core.display.HTML object>"
      ]
     },
     "metadata": {},
     "output_type": "display_data"
    },
    {
     "data": {
      "text/html": [
       " View sweep at <a href='https://wandb.ai/cs22m083/CS6910_Assignment1/sweeps/gb9w2qt6' target=\"_blank\">https://wandb.ai/cs22m083/CS6910_Assignment1/sweeps/gb9w2qt6</a>"
      ],
      "text/plain": [
       "<IPython.core.display.HTML object>"
      ]
     },
     "metadata": {},
     "output_type": "display_data"
    },
    {
     "data": {
      "text/html": [
       " View run at <a href='https://wandb.ai/cs22m083/CS6910_Assignment1/runs/ds8cnanz' target=\"_blank\">https://wandb.ai/cs22m083/CS6910_Assignment1/runs/ds8cnanz</a>"
      ],
      "text/plain": [
       "<IPython.core.display.HTML object>"
      ]
     },
     "metadata": {},
     "output_type": "display_data"
    },
    {
     "name": "stdout",
     "output_type": "stream",
     "text": [
      " Training Loss:  0.9490087921116227  Validation Loss: 0.8705000132137739  Training Accuracy:  0.6850833333333334  Validation Accuracy: 0.7019\n"
     ]
    },
    {
     "data": {
      "text/html": [
       "Waiting for W&B process to finish... <strong style=\"color:green\">(success).</strong>"
      ],
      "text/plain": [
       "<IPython.core.display.HTML object>"
      ]
     },
     "metadata": {},
     "output_type": "display_data"
    },
    {
     "data": {
      "text/html": [
       "<style>\n",
       "    table.wandb td:nth-child(1) { padding: 0 10px; text-align: left ; width: auto;} td:nth-child(2) {text-align: left ; width: 100%}\n",
       "    .wandb-row { display: flex; flex-direction: row; flex-wrap: wrap; justify-content: flex-start; width: 100% }\n",
       "    .wandb-col { display: flex; flex-direction: column; flex-basis: 100%; flex: 1; padding: 10px; }\n",
       "    </style>\n",
       "<div class=\"wandb-row\"><div class=\"wandb-col\"><h3>Run history:</h3><br/><table class=\"wandb\"><tr><td>Accuracy</td><td>▁</td></tr><tr><td>Epoch</td><td>▁▃▅▆█</td></tr><tr><td>Training_accuracy</td><td>▁▅▇██</td></tr><tr><td>Training_loss</td><td>█▃▂▁▁</td></tr><tr><td>Validation_accuracy</td><td>▁▅▆▇█</td></tr><tr><td>Validation_loss</td><td>█▄▂▁▁</td></tr></table><br/></div><div class=\"wandb-col\"><h3>Run summary:</h3><br/><table class=\"wandb\"><tr><td>Accuracy</td><td>0.7019</td></tr><tr><td>Epoch</td><td>5</td></tr><tr><td>Training_accuracy</td><td>0.68508</td></tr><tr><td>Training_loss</td><td>0.94901</td></tr><tr><td>Validation_accuracy</td><td>0.7019</td></tr><tr><td>Validation_loss</td><td>0.8705</td></tr></table><br/></div></div>"
      ],
      "text/plain": [
       "<IPython.core.display.HTML object>"
      ]
     },
     "metadata": {},
     "output_type": "display_data"
    },
    {
     "data": {
      "text/html": [
       " View run <strong style=\"color:#cdcd00\">Question:4</strong> at: <a href='https://wandb.ai/cs22m083/CS6910_Assignment1/runs/ds8cnanz' target=\"_blank\">https://wandb.ai/cs22m083/CS6910_Assignment1/runs/ds8cnanz</a><br/>Synced 6 W&B file(s), 0 media file(s), 0 artifact file(s) and 0 other file(s)"
      ],
      "text/plain": [
       "<IPython.core.display.HTML object>"
      ]
     },
     "metadata": {},
     "output_type": "display_data"
    },
    {
     "data": {
      "text/html": [
       "Find logs at: <code>.\\wandb\\run-20230318_132420-ds8cnanz\\logs</code>"
      ],
      "text/plain": [
       "<IPython.core.display.HTML object>"
      ]
     },
     "metadata": {},
     "output_type": "display_data"
    },
    {
     "name": "stderr",
     "output_type": "stream",
     "text": [
      "\u001b[34m\u001b[1mwandb\u001b[0m: Agent Starting Run: mlb7m3n9 with config:\n",
      "\u001b[34m\u001b[1mwandb\u001b[0m: \tactivation: relu\n",
      "\u001b[34m\u001b[1mwandb\u001b[0m: \tbatch_size: 64\n",
      "\u001b[34m\u001b[1mwandb\u001b[0m: \tepochs: 5\n",
      "\u001b[34m\u001b[1mwandb\u001b[0m: \tgamma: 0.0006\n",
      "\u001b[34m\u001b[1mwandb\u001b[0m: \thidden_layers: [32, 64, 128]\n",
      "\u001b[34m\u001b[1mwandb\u001b[0m: \tinitialization: Random\n",
      "\u001b[34m\u001b[1mwandb\u001b[0m: \tlearning_rate: 0.0006\n",
      "\u001b[34m\u001b[1mwandb\u001b[0m: \toptimizer: nadam\n",
      "\u001b[34m\u001b[1mwandb\u001b[0m: \tweight_decay: 0.5\n",
      "Failed to detect the name of this notebook, you can set it manually with the WANDB_NOTEBOOK_NAME environment variable to enable code saving.\n",
      "\u001b[34m\u001b[1mwandb\u001b[0m: \u001b[33mWARNING\u001b[0m Ignored wandb.init() arg project when running a sweep.\n"
     ]
    },
    {
     "data": {
      "text/html": [
       "wandb version 0.14.0 is available!  To upgrade, please run:\n",
       " $ pip install wandb --upgrade"
      ],
      "text/plain": [
       "<IPython.core.display.HTML object>"
      ]
     },
     "metadata": {},
     "output_type": "display_data"
    },
    {
     "data": {
      "text/html": [
       "Tracking run with wandb version 0.13.10"
      ],
      "text/plain": [
       "<IPython.core.display.HTML object>"
      ]
     },
     "metadata": {},
     "output_type": "display_data"
    },
    {
     "data": {
      "text/html": [
       "Run data is saved locally in <code>C:\\Users\\Shivam Maurya\\OneDrive\\Desktop\\IIT_MADRAS\\Deep Learning\\assignment 1\\CS6910-Deep_Learning_Assignment-1\\wandb\\run-20230318_132726-mlb7m3n9</code>"
      ],
      "text/plain": [
       "<IPython.core.display.HTML object>"
      ]
     },
     "metadata": {},
     "output_type": "display_data"
    },
    {
     "data": {
      "text/html": [
       "Syncing run <strong><a href='https://wandb.ai/cs22m083/CS6910_Assignment1/runs/mlb7m3n9' target=\"_blank\">Question:4</a></strong> to <a href='https://wandb.ai/cs22m083/CS6910_Assignment1' target=\"_blank\">Weights & Biases</a> (<a href='https://wandb.me/run' target=\"_blank\">docs</a>)<br/>Sweep page: <a href='https://wandb.ai/cs22m083/CS6910_Assignment1/sweeps/gb9w2qt6' target=\"_blank\">https://wandb.ai/cs22m083/CS6910_Assignment1/sweeps/gb9w2qt6</a>"
      ],
      "text/plain": [
       "<IPython.core.display.HTML object>"
      ]
     },
     "metadata": {},
     "output_type": "display_data"
    },
    {
     "data": {
      "text/html": [
       " View project at <a href='https://wandb.ai/cs22m083/CS6910_Assignment1' target=\"_blank\">https://wandb.ai/cs22m083/CS6910_Assignment1</a>"
      ],
      "text/plain": [
       "<IPython.core.display.HTML object>"
      ]
     },
     "metadata": {},
     "output_type": "display_data"
    },
    {
     "data": {
      "text/html": [
       " View sweep at <a href='https://wandb.ai/cs22m083/CS6910_Assignment1/sweeps/gb9w2qt6' target=\"_blank\">https://wandb.ai/cs22m083/CS6910_Assignment1/sweeps/gb9w2qt6</a>"
      ],
      "text/plain": [
       "<IPython.core.display.HTML object>"
      ]
     },
     "metadata": {},
     "output_type": "display_data"
    },
    {
     "data": {
      "text/html": [
       " View run at <a href='https://wandb.ai/cs22m083/CS6910_Assignment1/runs/mlb7m3n9' target=\"_blank\">https://wandb.ai/cs22m083/CS6910_Assignment1/runs/mlb7m3n9</a>"
      ],
      "text/plain": [
       "<IPython.core.display.HTML object>"
      ]
     },
     "metadata": {},
     "output_type": "display_data"
    },
    {
     "name": "stdout",
     "output_type": "stream",
     "text": [
      " Training Loss:  nan  Validation Loss: nan  Training Accuracy:  0.1  Validation Accuracy: 0.1\n"
     ]
    },
    {
     "data": {
      "text/html": [
       "Waiting for W&B process to finish... <strong style=\"color:green\">(success).</strong>"
      ],
      "text/plain": [
       "<IPython.core.display.HTML object>"
      ]
     },
     "metadata": {},
     "output_type": "display_data"
    },
    {
     "data": {
      "text/html": [
       "<style>\n",
       "    table.wandb td:nth-child(1) { padding: 0 10px; text-align: left ; width: auto;} td:nth-child(2) {text-align: left ; width: 100%}\n",
       "    .wandb-row { display: flex; flex-direction: row; flex-wrap: wrap; justify-content: flex-start; width: 100% }\n",
       "    .wandb-col { display: flex; flex-direction: column; flex-basis: 100%; flex: 1; padding: 10px; }\n",
       "    </style>\n",
       "<div class=\"wandb-row\"><div class=\"wandb-col\"><h3>Run history:</h3><br/><table class=\"wandb\"><tr><td>Accuracy</td><td>▁</td></tr><tr><td>Epoch</td><td>▁▃▅▆█</td></tr><tr><td>Training_accuracy</td><td>▁▁▁▁▁</td></tr><tr><td>Validation_accuracy</td><td>▁▁▁▁▁</td></tr></table><br/></div><div class=\"wandb-col\"><h3>Run summary:</h3><br/><table class=\"wandb\"><tr><td>Accuracy</td><td>0.1</td></tr><tr><td>Epoch</td><td>5</td></tr><tr><td>Training_accuracy</td><td>0.1</td></tr><tr><td>Training_loss</td><td>nan</td></tr><tr><td>Validation_accuracy</td><td>0.1</td></tr><tr><td>Validation_loss</td><td>nan</td></tr></table><br/></div></div>"
      ],
      "text/plain": [
       "<IPython.core.display.HTML object>"
      ]
     },
     "metadata": {},
     "output_type": "display_data"
    },
    {
     "data": {
      "text/html": [
       " View run <strong style=\"color:#cdcd00\">Question:4</strong> at: <a href='https://wandb.ai/cs22m083/CS6910_Assignment1/runs/mlb7m3n9' target=\"_blank\">https://wandb.ai/cs22m083/CS6910_Assignment1/runs/mlb7m3n9</a><br/>Synced 6 W&B file(s), 0 media file(s), 0 artifact file(s) and 0 other file(s)"
      ],
      "text/plain": [
       "<IPython.core.display.HTML object>"
      ]
     },
     "metadata": {},
     "output_type": "display_data"
    },
    {
     "data": {
      "text/html": [
       "Find logs at: <code>.\\wandb\\run-20230318_132726-mlb7m3n9\\logs</code>"
      ],
      "text/plain": [
       "<IPython.core.display.HTML object>"
      ]
     },
     "metadata": {},
     "output_type": "display_data"
    },
    {
     "name": "stderr",
     "output_type": "stream",
     "text": [
      "\u001b[34m\u001b[1mwandb\u001b[0m: Agent Starting Run: 0990dyik with config:\n",
      "\u001b[34m\u001b[1mwandb\u001b[0m: \tactivation: tanh\n",
      "\u001b[34m\u001b[1mwandb\u001b[0m: \tbatch_size: 64\n",
      "\u001b[34m\u001b[1mwandb\u001b[0m: \tepochs: 10\n",
      "\u001b[34m\u001b[1mwandb\u001b[0m: \tgamma: 0.002\n",
      "\u001b[34m\u001b[1mwandb\u001b[0m: \thidden_layers: [32, 64, 128, 256]\n",
      "\u001b[34m\u001b[1mwandb\u001b[0m: \tinitialization: Xavier\n",
      "\u001b[34m\u001b[1mwandb\u001b[0m: \tlearning_rate: 0.005\n",
      "\u001b[34m\u001b[1mwandb\u001b[0m: \toptimizer: nadam\n",
      "\u001b[34m\u001b[1mwandb\u001b[0m: \tweight_decay: 0.5\n",
      "Failed to detect the name of this notebook, you can set it manually with the WANDB_NOTEBOOK_NAME environment variable to enable code saving.\n",
      "\u001b[34m\u001b[1mwandb\u001b[0m: \u001b[33mWARNING\u001b[0m Ignored wandb.init() arg project when running a sweep.\n"
     ]
    },
    {
     "data": {
      "text/html": [
       "wandb version 0.14.0 is available!  To upgrade, please run:\n",
       " $ pip install wandb --upgrade"
      ],
      "text/plain": [
       "<IPython.core.display.HTML object>"
      ]
     },
     "metadata": {},
     "output_type": "display_data"
    },
    {
     "data": {
      "text/html": [
       "Tracking run with wandb version 0.13.10"
      ],
      "text/plain": [
       "<IPython.core.display.HTML object>"
      ]
     },
     "metadata": {},
     "output_type": "display_data"
    },
    {
     "data": {
      "text/html": [
       "Run data is saved locally in <code>C:\\Users\\Shivam Maurya\\OneDrive\\Desktop\\IIT_MADRAS\\Deep Learning\\assignment 1\\CS6910-Deep_Learning_Assignment-1\\wandb\\run-20230318_132929-0990dyik</code>"
      ],
      "text/plain": [
       "<IPython.core.display.HTML object>"
      ]
     },
     "metadata": {},
     "output_type": "display_data"
    },
    {
     "data": {
      "text/html": [
       "Syncing run <strong><a href='https://wandb.ai/cs22m083/CS6910_Assignment1/runs/0990dyik' target=\"_blank\">Question:4</a></strong> to <a href='https://wandb.ai/cs22m083/CS6910_Assignment1' target=\"_blank\">Weights & Biases</a> (<a href='https://wandb.me/run' target=\"_blank\">docs</a>)<br/>Sweep page: <a href='https://wandb.ai/cs22m083/CS6910_Assignment1/sweeps/gb9w2qt6' target=\"_blank\">https://wandb.ai/cs22m083/CS6910_Assignment1/sweeps/gb9w2qt6</a>"
      ],
      "text/plain": [
       "<IPython.core.display.HTML object>"
      ]
     },
     "metadata": {},
     "output_type": "display_data"
    },
    {
     "data": {
      "text/html": [
       " View project at <a href='https://wandb.ai/cs22m083/CS6910_Assignment1' target=\"_blank\">https://wandb.ai/cs22m083/CS6910_Assignment1</a>"
      ],
      "text/plain": [
       "<IPython.core.display.HTML object>"
      ]
     },
     "metadata": {},
     "output_type": "display_data"
    },
    {
     "data": {
      "text/html": [
       " View sweep at <a href='https://wandb.ai/cs22m083/CS6910_Assignment1/sweeps/gb9w2qt6' target=\"_blank\">https://wandb.ai/cs22m083/CS6910_Assignment1/sweeps/gb9w2qt6</a>"
      ],
      "text/plain": [
       "<IPython.core.display.HTML object>"
      ]
     },
     "metadata": {},
     "output_type": "display_data"
    },
    {
     "data": {
      "text/html": [
       " View run at <a href='https://wandb.ai/cs22m083/CS6910_Assignment1/runs/0990dyik' target=\"_blank\">https://wandb.ai/cs22m083/CS6910_Assignment1/runs/0990dyik</a>"
      ],
      "text/plain": [
       "<IPython.core.display.HTML object>"
      ]
     },
     "metadata": {},
     "output_type": "display_data"
    },
    {
     "name": "stdout",
     "output_type": "stream",
     "text": [
      " Training Loss:  1.288835193379492  Validation Loss: 0.7075752944959126  Training Accuracy:  0.6320166666666667  Validation Accuracy: 0.7502\n"
     ]
    },
    {
     "data": {
      "text/html": [
       "Waiting for W&B process to finish... <strong style=\"color:green\">(success).</strong>"
      ],
      "text/plain": [
       "<IPython.core.display.HTML object>"
      ]
     },
     "metadata": {},
     "output_type": "display_data"
    },
    {
     "data": {
      "text/html": [
       "<style>\n",
       "    table.wandb td:nth-child(1) { padding: 0 10px; text-align: left ; width: auto;} td:nth-child(2) {text-align: left ; width: 100%}\n",
       "    .wandb-row { display: flex; flex-direction: row; flex-wrap: wrap; justify-content: flex-start; width: 100% }\n",
       "    .wandb-col { display: flex; flex-direction: column; flex-basis: 100%; flex: 1; padding: 10px; }\n",
       "    </style>\n",
       "<div class=\"wandb-row\"><div class=\"wandb-col\"><h3>Run history:</h3><br/><table class=\"wandb\"><tr><td>Accuracy</td><td>▁</td></tr><tr><td>Epoch</td><td>▁▂▃▃▄▅▆▆▇█</td></tr><tr><td>Training_accuracy</td><td>▅▇▁▇▅█▄▄█▃</td></tr><tr><td>Training_loss</td><td>▂▁█▁▃▁▆▄▁▆</td></tr><tr><td>Validation_accuracy</td><td>▄█▇███▁▇██</td></tr><tr><td>Validation_loss</td><td>▃▁▁▁▁▁█▁▁▁</td></tr></table><br/></div><div class=\"wandb-col\"><h3>Run summary:</h3><br/><table class=\"wandb\"><tr><td>Accuracy</td><td>0.7502</td></tr><tr><td>Epoch</td><td>10</td></tr><tr><td>Training_accuracy</td><td>0.63202</td></tr><tr><td>Training_loss</td><td>1.28884</td></tr><tr><td>Validation_accuracy</td><td>0.7502</td></tr><tr><td>Validation_loss</td><td>0.70758</td></tr></table><br/></div></div>"
      ],
      "text/plain": [
       "<IPython.core.display.HTML object>"
      ]
     },
     "metadata": {},
     "output_type": "display_data"
    },
    {
     "data": {
      "text/html": [
       " View run <strong style=\"color:#cdcd00\">Question:4</strong> at: <a href='https://wandb.ai/cs22m083/CS6910_Assignment1/runs/0990dyik' target=\"_blank\">https://wandb.ai/cs22m083/CS6910_Assignment1/runs/0990dyik</a><br/>Synced 6 W&B file(s), 0 media file(s), 0 artifact file(s) and 0 other file(s)"
      ],
      "text/plain": [
       "<IPython.core.display.HTML object>"
      ]
     },
     "metadata": {},
     "output_type": "display_data"
    },
    {
     "data": {
      "text/html": [
       "Find logs at: <code>.\\wandb\\run-20230318_132929-0990dyik\\logs</code>"
      ],
      "text/plain": [
       "<IPython.core.display.HTML object>"
      ]
     },
     "metadata": {},
     "output_type": "display_data"
    },
    {
     "name": "stderr",
     "output_type": "stream",
     "text": [
      "\u001b[34m\u001b[1mwandb\u001b[0m: Agent Starting Run: 8ge7tuz1 with config:\n",
      "\u001b[34m\u001b[1mwandb\u001b[0m: \tactivation: tanh\n",
      "\u001b[34m\u001b[1mwandb\u001b[0m: \tbatch_size: 16\n",
      "\u001b[34m\u001b[1mwandb\u001b[0m: \tepochs: 10\n",
      "\u001b[34m\u001b[1mwandb\u001b[0m: \tgamma: 0.03\n",
      "\u001b[34m\u001b[1mwandb\u001b[0m: \thidden_layers: [32, 64, 128]\n",
      "\u001b[34m\u001b[1mwandb\u001b[0m: \tinitialization: Random\n",
      "\u001b[34m\u001b[1mwandb\u001b[0m: \tlearning_rate: 0.0006\n",
      "\u001b[34m\u001b[1mwandb\u001b[0m: \toptimizer: adam\n",
      "\u001b[34m\u001b[1mwandb\u001b[0m: \tweight_decay: 0.5\n",
      "Failed to detect the name of this notebook, you can set it manually with the WANDB_NOTEBOOK_NAME environment variable to enable code saving.\n",
      "\u001b[34m\u001b[1mwandb\u001b[0m: \u001b[33mWARNING\u001b[0m Ignored wandb.init() arg project when running a sweep.\n"
     ]
    },
    {
     "data": {
      "text/html": [
       "wandb version 0.14.0 is available!  To upgrade, please run:\n",
       " $ pip install wandb --upgrade"
      ],
      "text/plain": [
       "<IPython.core.display.HTML object>"
      ]
     },
     "metadata": {},
     "output_type": "display_data"
    },
    {
     "data": {
      "text/html": [
       "Tracking run with wandb version 0.13.10"
      ],
      "text/plain": [
       "<IPython.core.display.HTML object>"
      ]
     },
     "metadata": {},
     "output_type": "display_data"
    },
    {
     "data": {
      "text/html": [
       "Run data is saved locally in <code>C:\\Users\\Shivam Maurya\\OneDrive\\Desktop\\IIT_MADRAS\\Deep Learning\\assignment 1\\CS6910-Deep_Learning_Assignment-1\\wandb\\run-20230318_133528-8ge7tuz1</code>"
      ],
      "text/plain": [
       "<IPython.core.display.HTML object>"
      ]
     },
     "metadata": {},
     "output_type": "display_data"
    },
    {
     "data": {
      "text/html": [
       "Syncing run <strong><a href='https://wandb.ai/cs22m083/CS6910_Assignment1/runs/8ge7tuz1' target=\"_blank\">Question:4</a></strong> to <a href='https://wandb.ai/cs22m083/CS6910_Assignment1' target=\"_blank\">Weights & Biases</a> (<a href='https://wandb.me/run' target=\"_blank\">docs</a>)<br/>Sweep page: <a href='https://wandb.ai/cs22m083/CS6910_Assignment1/sweeps/gb9w2qt6' target=\"_blank\">https://wandb.ai/cs22m083/CS6910_Assignment1/sweeps/gb9w2qt6</a>"
      ],
      "text/plain": [
       "<IPython.core.display.HTML object>"
      ]
     },
     "metadata": {},
     "output_type": "display_data"
    },
    {
     "data": {
      "text/html": [
       " View project at <a href='https://wandb.ai/cs22m083/CS6910_Assignment1' target=\"_blank\">https://wandb.ai/cs22m083/CS6910_Assignment1</a>"
      ],
      "text/plain": [
       "<IPython.core.display.HTML object>"
      ]
     },
     "metadata": {},
     "output_type": "display_data"
    },
    {
     "data": {
      "text/html": [
       " View sweep at <a href='https://wandb.ai/cs22m083/CS6910_Assignment1/sweeps/gb9w2qt6' target=\"_blank\">https://wandb.ai/cs22m083/CS6910_Assignment1/sweeps/gb9w2qt6</a>"
      ],
      "text/plain": [
       "<IPython.core.display.HTML object>"
      ]
     },
     "metadata": {},
     "output_type": "display_data"
    },
    {
     "data": {
      "text/html": [
       " View run at <a href='https://wandb.ai/cs22m083/CS6910_Assignment1/runs/8ge7tuz1' target=\"_blank\">https://wandb.ai/cs22m083/CS6910_Assignment1/runs/8ge7tuz1</a>"
      ],
      "text/plain": [
       "<IPython.core.display.HTML object>"
      ]
     },
     "metadata": {},
     "output_type": "display_data"
    },
    {
     "name": "stdout",
     "output_type": "stream",
     "text": [
      " Training Loss:  0.6615259732049245  Validation Loss: 0.6725183907837481  Training Accuracy:  0.7770166666666667  Validation Accuracy: 0.7782\n"
     ]
    },
    {
     "data": {
      "text/html": [
       "Waiting for W&B process to finish... <strong style=\"color:green\">(success).</strong>"
      ],
      "text/plain": [
       "<IPython.core.display.HTML object>"
      ]
     },
     "metadata": {},
     "output_type": "display_data"
    },
    {
     "data": {
      "text/html": [
       "<style>\n",
       "    table.wandb td:nth-child(1) { padding: 0 10px; text-align: left ; width: auto;} td:nth-child(2) {text-align: left ; width: 100%}\n",
       "    .wandb-row { display: flex; flex-direction: row; flex-wrap: wrap; justify-content: flex-start; width: 100% }\n",
       "    .wandb-col { display: flex; flex-direction: column; flex-basis: 100%; flex: 1; padding: 10px; }\n",
       "    </style>\n",
       "<div class=\"wandb-row\"><div class=\"wandb-col\"><h3>Run history:</h3><br/><table class=\"wandb\"><tr><td>Accuracy</td><td>▁</td></tr><tr><td>Epoch</td><td>▁▂▃▃▄▅▆▆▇█</td></tr><tr><td>Training_accuracy</td><td>▁▇████████</td></tr><tr><td>Training_loss</td><td>█▁▁▁▁▁▁▁▁▁</td></tr><tr><td>Validation_accuracy</td><td>▁█▇▇▇▇▇▇▇▇</td></tr><tr><td>Validation_loss</td><td>█▁▁▂▂▁▁▁▁▁</td></tr></table><br/></div><div class=\"wandb-col\"><h3>Run summary:</h3><br/><table class=\"wandb\"><tr><td>Accuracy</td><td>0.7782</td></tr><tr><td>Epoch</td><td>10</td></tr><tr><td>Training_accuracy</td><td>0.77702</td></tr><tr><td>Training_loss</td><td>0.66153</td></tr><tr><td>Validation_accuracy</td><td>0.7782</td></tr><tr><td>Validation_loss</td><td>0.67252</td></tr></table><br/></div></div>"
      ],
      "text/plain": [
       "<IPython.core.display.HTML object>"
      ]
     },
     "metadata": {},
     "output_type": "display_data"
    },
    {
     "data": {
      "text/html": [
       " View run <strong style=\"color:#cdcd00\">Question:4</strong> at: <a href='https://wandb.ai/cs22m083/CS6910_Assignment1/runs/8ge7tuz1' target=\"_blank\">https://wandb.ai/cs22m083/CS6910_Assignment1/runs/8ge7tuz1</a><br/>Synced 6 W&B file(s), 0 media file(s), 0 artifact file(s) and 0 other file(s)"
      ],
      "text/plain": [
       "<IPython.core.display.HTML object>"
      ]
     },
     "metadata": {},
     "output_type": "display_data"
    },
    {
     "data": {
      "text/html": [
       "Find logs at: <code>.\\wandb\\run-20230318_133528-8ge7tuz1\\logs</code>"
      ],
      "text/plain": [
       "<IPython.core.display.HTML object>"
      ]
     },
     "metadata": {},
     "output_type": "display_data"
    },
    {
     "name": "stderr",
     "output_type": "stream",
     "text": [
      "\u001b[34m\u001b[1mwandb\u001b[0m: Agent Starting Run: 0uqo1u29 with config:\n",
      "\u001b[34m\u001b[1mwandb\u001b[0m: \tactivation: relu\n",
      "\u001b[34m\u001b[1mwandb\u001b[0m: \tbatch_size: 32\n",
      "\u001b[34m\u001b[1mwandb\u001b[0m: \tepochs: 10\n",
      "\u001b[34m\u001b[1mwandb\u001b[0m: \tgamma: 0.03\n",
      "\u001b[34m\u001b[1mwandb\u001b[0m: \thidden_layers: [32, 64, 128, 256]\n",
      "\u001b[34m\u001b[1mwandb\u001b[0m: \tinitialization: Xavier\n",
      "\u001b[34m\u001b[1mwandb\u001b[0m: \tlearning_rate: 0.0006\n",
      "\u001b[34m\u001b[1mwandb\u001b[0m: \toptimizer: nadam\n",
      "\u001b[34m\u001b[1mwandb\u001b[0m: \tweight_decay: 0.0005\n",
      "Failed to detect the name of this notebook, you can set it manually with the WANDB_NOTEBOOK_NAME environment variable to enable code saving.\n",
      "\u001b[34m\u001b[1mwandb\u001b[0m: \u001b[33mWARNING\u001b[0m Ignored wandb.init() arg project when running a sweep.\n"
     ]
    },
    {
     "data": {
      "text/html": [
       "wandb version 0.14.0 is available!  To upgrade, please run:\n",
       " $ pip install wandb --upgrade"
      ],
      "text/plain": [
       "<IPython.core.display.HTML object>"
      ]
     },
     "metadata": {},
     "output_type": "display_data"
    },
    {
     "data": {
      "text/html": [
       "Tracking run with wandb version 0.13.10"
      ],
      "text/plain": [
       "<IPython.core.display.HTML object>"
      ]
     },
     "metadata": {},
     "output_type": "display_data"
    },
    {
     "data": {
      "text/html": [
       "Run data is saved locally in <code>C:\\Users\\Shivam Maurya\\OneDrive\\Desktop\\IIT_MADRAS\\Deep Learning\\assignment 1\\CS6910-Deep_Learning_Assignment-1\\wandb\\run-20230318_133938-0uqo1u29</code>"
      ],
      "text/plain": [
       "<IPython.core.display.HTML object>"
      ]
     },
     "metadata": {},
     "output_type": "display_data"
    },
    {
     "data": {
      "text/html": [
       "Syncing run <strong><a href='https://wandb.ai/cs22m083/CS6910_Assignment1/runs/0uqo1u29' target=\"_blank\">Question:4</a></strong> to <a href='https://wandb.ai/cs22m083/CS6910_Assignment1' target=\"_blank\">Weights & Biases</a> (<a href='https://wandb.me/run' target=\"_blank\">docs</a>)<br/>Sweep page: <a href='https://wandb.ai/cs22m083/CS6910_Assignment1/sweeps/gb9w2qt6' target=\"_blank\">https://wandb.ai/cs22m083/CS6910_Assignment1/sweeps/gb9w2qt6</a>"
      ],
      "text/plain": [
       "<IPython.core.display.HTML object>"
      ]
     },
     "metadata": {},
     "output_type": "display_data"
    },
    {
     "data": {
      "text/html": [
       " View project at <a href='https://wandb.ai/cs22m083/CS6910_Assignment1' target=\"_blank\">https://wandb.ai/cs22m083/CS6910_Assignment1</a>"
      ],
      "text/plain": [
       "<IPython.core.display.HTML object>"
      ]
     },
     "metadata": {},
     "output_type": "display_data"
    },
    {
     "data": {
      "text/html": [
       " View sweep at <a href='https://wandb.ai/cs22m083/CS6910_Assignment1/sweeps/gb9w2qt6' target=\"_blank\">https://wandb.ai/cs22m083/CS6910_Assignment1/sweeps/gb9w2qt6</a>"
      ],
      "text/plain": [
       "<IPython.core.display.HTML object>"
      ]
     },
     "metadata": {},
     "output_type": "display_data"
    },
    {
     "data": {
      "text/html": [
       " View run at <a href='https://wandb.ai/cs22m083/CS6910_Assignment1/runs/0uqo1u29' target=\"_blank\">https://wandb.ai/cs22m083/CS6910_Assignment1/runs/0uqo1u29</a>"
      ],
      "text/plain": [
       "<IPython.core.display.HTML object>"
      ]
     },
     "metadata": {},
     "output_type": "display_data"
    },
    {
     "name": "stdout",
     "output_type": "stream",
     "text": [
      " Training Loss:  0.25308793608472363  Validation Loss: 0.3912258836015888  Training Accuracy:  0.90405  Validation Accuracy: 0.8713\n"
     ]
    },
    {
     "data": {
      "text/html": [
       "Waiting for W&B process to finish... <strong style=\"color:green\">(success).</strong>"
      ],
      "text/plain": [
       "<IPython.core.display.HTML object>"
      ]
     },
     "metadata": {},
     "output_type": "display_data"
    },
    {
     "data": {
      "text/html": [
       "<style>\n",
       "    table.wandb td:nth-child(1) { padding: 0 10px; text-align: left ; width: auto;} td:nth-child(2) {text-align: left ; width: 100%}\n",
       "    .wandb-row { display: flex; flex-direction: row; flex-wrap: wrap; justify-content: flex-start; width: 100% }\n",
       "    .wandb-col { display: flex; flex-direction: column; flex-basis: 100%; flex: 1; padding: 10px; }\n",
       "    </style>\n",
       "<div class=\"wandb-row\"><div class=\"wandb-col\"><h3>Run history:</h3><br/><table class=\"wandb\"><tr><td>Accuracy</td><td>▁</td></tr><tr><td>Epoch</td><td>▁▂▃▃▄▅▆▆▇█</td></tr><tr><td>Training_accuracy</td><td>▁▅▆▆▇▇▇███</td></tr><tr><td>Training_loss</td><td>█▄▃▃▂▂▂▁▁▁</td></tr><tr><td>Validation_accuracy</td><td>▁▄▅▆▇▇█▇██</td></tr><tr><td>Validation_loss</td><td>█▄▃▃▂▂▁▂▂▃</td></tr></table><br/></div><div class=\"wandb-col\"><h3>Run summary:</h3><br/><table class=\"wandb\"><tr><td>Accuracy</td><td>0.8713</td></tr><tr><td>Epoch</td><td>10</td></tr><tr><td>Training_accuracy</td><td>0.90405</td></tr><tr><td>Training_loss</td><td>0.25309</td></tr><tr><td>Validation_accuracy</td><td>0.8713</td></tr><tr><td>Validation_loss</td><td>0.39123</td></tr></table><br/></div></div>"
      ],
      "text/plain": [
       "<IPython.core.display.HTML object>"
      ]
     },
     "metadata": {},
     "output_type": "display_data"
    },
    {
     "data": {
      "text/html": [
       " View run <strong style=\"color:#cdcd00\">Question:4</strong> at: <a href='https://wandb.ai/cs22m083/CS6910_Assignment1/runs/0uqo1u29' target=\"_blank\">https://wandb.ai/cs22m083/CS6910_Assignment1/runs/0uqo1u29</a><br/>Synced 6 W&B file(s), 0 media file(s), 0 artifact file(s) and 0 other file(s)"
      ],
      "text/plain": [
       "<IPython.core.display.HTML object>"
      ]
     },
     "metadata": {},
     "output_type": "display_data"
    },
    {
     "data": {
      "text/html": [
       "Find logs at: <code>.\\wandb\\run-20230318_133938-0uqo1u29\\logs</code>"
      ],
      "text/plain": [
       "<IPython.core.display.HTML object>"
      ]
     },
     "metadata": {},
     "output_type": "display_data"
    },
    {
     "name": "stderr",
     "output_type": "stream",
     "text": [
      "\u001b[34m\u001b[1mwandb\u001b[0m: Agent Starting Run: ekwizhrr with config:\n",
      "\u001b[34m\u001b[1mwandb\u001b[0m: \tactivation: relu\n",
      "\u001b[34m\u001b[1mwandb\u001b[0m: \tbatch_size: 32\n",
      "\u001b[34m\u001b[1mwandb\u001b[0m: \tepochs: 10\n",
      "\u001b[34m\u001b[1mwandb\u001b[0m: \tgamma: 0.0006\n",
      "\u001b[34m\u001b[1mwandb\u001b[0m: \thidden_layers: [32, 64]\n",
      "\u001b[34m\u001b[1mwandb\u001b[0m: \tinitialization: Random\n",
      "\u001b[34m\u001b[1mwandb\u001b[0m: \tlearning_rate: 0.005\n",
      "\u001b[34m\u001b[1mwandb\u001b[0m: \toptimizer: momentum\n",
      "\u001b[34m\u001b[1mwandb\u001b[0m: \tweight_decay: 0.5\n",
      "Failed to detect the name of this notebook, you can set it manually with the WANDB_NOTEBOOK_NAME environment variable to enable code saving.\n",
      "\u001b[34m\u001b[1mwandb\u001b[0m: \u001b[33mWARNING\u001b[0m Ignored wandb.init() arg project when running a sweep.\n"
     ]
    },
    {
     "data": {
      "text/html": [
       "wandb version 0.14.0 is available!  To upgrade, please run:\n",
       " $ pip install wandb --upgrade"
      ],
      "text/plain": [
       "<IPython.core.display.HTML object>"
      ]
     },
     "metadata": {},
     "output_type": "display_data"
    },
    {
     "data": {
      "text/html": [
       "Tracking run with wandb version 0.13.10"
      ],
      "text/plain": [
       "<IPython.core.display.HTML object>"
      ]
     },
     "metadata": {},
     "output_type": "display_data"
    },
    {
     "data": {
      "text/html": [
       "Run data is saved locally in <code>C:\\Users\\Shivam Maurya\\OneDrive\\Desktop\\IIT_MADRAS\\Deep Learning\\assignment 1\\CS6910-Deep_Learning_Assignment-1\\wandb\\run-20230318_134629-ekwizhrr</code>"
      ],
      "text/plain": [
       "<IPython.core.display.HTML object>"
      ]
     },
     "metadata": {},
     "output_type": "display_data"
    },
    {
     "data": {
      "text/html": [
       "Syncing run <strong><a href='https://wandb.ai/cs22m083/CS6910_Assignment1/runs/ekwizhrr' target=\"_blank\">Question:4</a></strong> to <a href='https://wandb.ai/cs22m083/CS6910_Assignment1' target=\"_blank\">Weights & Biases</a> (<a href='https://wandb.me/run' target=\"_blank\">docs</a>)<br/>Sweep page: <a href='https://wandb.ai/cs22m083/CS6910_Assignment1/sweeps/gb9w2qt6' target=\"_blank\">https://wandb.ai/cs22m083/CS6910_Assignment1/sweeps/gb9w2qt6</a>"
      ],
      "text/plain": [
       "<IPython.core.display.HTML object>"
      ]
     },
     "metadata": {},
     "output_type": "display_data"
    },
    {
     "data": {
      "text/html": [
       " View project at <a href='https://wandb.ai/cs22m083/CS6910_Assignment1' target=\"_blank\">https://wandb.ai/cs22m083/CS6910_Assignment1</a>"
      ],
      "text/plain": [
       "<IPython.core.display.HTML object>"
      ]
     },
     "metadata": {},
     "output_type": "display_data"
    },
    {
     "data": {
      "text/html": [
       " View sweep at <a href='https://wandb.ai/cs22m083/CS6910_Assignment1/sweeps/gb9w2qt6' target=\"_blank\">https://wandb.ai/cs22m083/CS6910_Assignment1/sweeps/gb9w2qt6</a>"
      ],
      "text/plain": [
       "<IPython.core.display.HTML object>"
      ]
     },
     "metadata": {},
     "output_type": "display_data"
    },
    {
     "data": {
      "text/html": [
       " View run at <a href='https://wandb.ai/cs22m083/CS6910_Assignment1/runs/ekwizhrr' target=\"_blank\">https://wandb.ai/cs22m083/CS6910_Assignment1/runs/ekwizhrr</a>"
      ],
      "text/plain": [
       "<IPython.core.display.HTML object>"
      ]
     },
     "metadata": {},
     "output_type": "display_data"
    },
    {
     "name": "stdout",
     "output_type": "stream",
     "text": [
      " Training Loss:  nan  Validation Loss: nan  Training Accuracy:  0.1  Validation Accuracy: 0.1\n"
     ]
    },
    {
     "data": {
      "text/html": [
       "Waiting for W&B process to finish... <strong style=\"color:green\">(success).</strong>"
      ],
      "text/plain": [
       "<IPython.core.display.HTML object>"
      ]
     },
     "metadata": {},
     "output_type": "display_data"
    },
    {
     "data": {
      "application/vnd.jupyter.widget-view+json": {
       "model_id": "195102d136bb40c187bbbe6e53135303",
       "version_major": 2,
       "version_minor": 0
      },
      "text/plain": [
       "VBox(children=(Label(value='0.001 MB of 0.001 MB uploaded (0.000 MB deduped)\\r'), FloatProgress(value=1.0, max…"
      ]
     },
     "metadata": {},
     "output_type": "display_data"
    },
    {
     "data": {
      "text/html": [
       "<style>\n",
       "    table.wandb td:nth-child(1) { padding: 0 10px; text-align: left ; width: auto;} td:nth-child(2) {text-align: left ; width: 100%}\n",
       "    .wandb-row { display: flex; flex-direction: row; flex-wrap: wrap; justify-content: flex-start; width: 100% }\n",
       "    .wandb-col { display: flex; flex-direction: column; flex-basis: 100%; flex: 1; padding: 10px; }\n",
       "    </style>\n",
       "<div class=\"wandb-row\"><div class=\"wandb-col\"><h3>Run history:</h3><br/><table class=\"wandb\"><tr><td>Accuracy</td><td>▁</td></tr><tr><td>Epoch</td><td>▁▂▃▃▄▅▆▆▇█</td></tr><tr><td>Training_accuracy</td><td>▁█████████</td></tr><tr><td>Validation_accuracy</td><td>▁▁▁▁▁▁▁▁▁▁</td></tr></table><br/></div><div class=\"wandb-col\"><h3>Run summary:</h3><br/><table class=\"wandb\"><tr><td>Accuracy</td><td>0.1</td></tr><tr><td>Epoch</td><td>10</td></tr><tr><td>Training_accuracy</td><td>0.1</td></tr><tr><td>Training_loss</td><td>nan</td></tr><tr><td>Validation_accuracy</td><td>0.1</td></tr><tr><td>Validation_loss</td><td>nan</td></tr></table><br/></div></div>"
      ],
      "text/plain": [
       "<IPython.core.display.HTML object>"
      ]
     },
     "metadata": {},
     "output_type": "display_data"
    },
    {
     "data": {
      "text/html": [
       " View run <strong style=\"color:#cdcd00\">Question:4</strong> at: <a href='https://wandb.ai/cs22m083/CS6910_Assignment1/runs/ekwizhrr' target=\"_blank\">https://wandb.ai/cs22m083/CS6910_Assignment1/runs/ekwizhrr</a><br/>Synced 6 W&B file(s), 0 media file(s), 0 artifact file(s) and 0 other file(s)"
      ],
      "text/plain": [
       "<IPython.core.display.HTML object>"
      ]
     },
     "metadata": {},
     "output_type": "display_data"
    },
    {
     "data": {
      "text/html": [
       "Find logs at: <code>.\\wandb\\run-20230318_134629-ekwizhrr\\logs</code>"
      ],
      "text/plain": [
       "<IPython.core.display.HTML object>"
      ]
     },
     "metadata": {},
     "output_type": "display_data"
    },
    {
     "name": "stderr",
     "output_type": "stream",
     "text": [
      "\u001b[34m\u001b[1mwandb\u001b[0m: Sweep Agent: Waiting for job.\n",
      "\u001b[34m\u001b[1mwandb\u001b[0m: Job received.\n",
      "\u001b[34m\u001b[1mwandb\u001b[0m: Agent Starting Run: b5kqpkc8 with config:\n",
      "\u001b[34m\u001b[1mwandb\u001b[0m: \tactivation: relu\n",
      "\u001b[34m\u001b[1mwandb\u001b[0m: \tbatch_size: 16\n",
      "\u001b[34m\u001b[1mwandb\u001b[0m: \tepochs: 10\n",
      "\u001b[34m\u001b[1mwandb\u001b[0m: \tgamma: 0.002\n",
      "\u001b[34m\u001b[1mwandb\u001b[0m: \thidden_layers: [32, 64]\n",
      "\u001b[34m\u001b[1mwandb\u001b[0m: \tinitialization: Xavier\n",
      "\u001b[34m\u001b[1mwandb\u001b[0m: \tlearning_rate: 0.0005\n",
      "\u001b[34m\u001b[1mwandb\u001b[0m: \toptimizer: nag\n",
      "\u001b[34m\u001b[1mwandb\u001b[0m: \tweight_decay: 0.0005\n",
      "Failed to detect the name of this notebook, you can set it manually with the WANDB_NOTEBOOK_NAME environment variable to enable code saving.\n",
      "\u001b[34m\u001b[1mwandb\u001b[0m: \u001b[33mWARNING\u001b[0m Ignored wandb.init() arg project when running a sweep.\n"
     ]
    },
    {
     "data": {
      "text/html": [
       "wandb version 0.14.0 is available!  To upgrade, please run:\n",
       " $ pip install wandb --upgrade"
      ],
      "text/plain": [
       "<IPython.core.display.HTML object>"
      ]
     },
     "metadata": {},
     "output_type": "display_data"
    },
    {
     "data": {
      "text/html": [
       "Tracking run with wandb version 0.13.10"
      ],
      "text/plain": [
       "<IPython.core.display.HTML object>"
      ]
     },
     "metadata": {},
     "output_type": "display_data"
    },
    {
     "data": {
      "text/html": [
       "Run data is saved locally in <code>C:\\Users\\Shivam Maurya\\OneDrive\\Desktop\\IIT_MADRAS\\Deep Learning\\assignment 1\\CS6910-Deep_Learning_Assignment-1\\wandb\\run-20230318_134945-b5kqpkc8</code>"
      ],
      "text/plain": [
       "<IPython.core.display.HTML object>"
      ]
     },
     "metadata": {},
     "output_type": "display_data"
    },
    {
     "data": {
      "text/html": [
       "Syncing run <strong><a href='https://wandb.ai/cs22m083/CS6910_Assignment1/runs/b5kqpkc8' target=\"_blank\">Question:4</a></strong> to <a href='https://wandb.ai/cs22m083/CS6910_Assignment1' target=\"_blank\">Weights & Biases</a> (<a href='https://wandb.me/run' target=\"_blank\">docs</a>)<br/>Sweep page: <a href='https://wandb.ai/cs22m083/CS6910_Assignment1/sweeps/gb9w2qt6' target=\"_blank\">https://wandb.ai/cs22m083/CS6910_Assignment1/sweeps/gb9w2qt6</a>"
      ],
      "text/plain": [
       "<IPython.core.display.HTML object>"
      ]
     },
     "metadata": {},
     "output_type": "display_data"
    },
    {
     "data": {
      "text/html": [
       " View project at <a href='https://wandb.ai/cs22m083/CS6910_Assignment1' target=\"_blank\">https://wandb.ai/cs22m083/CS6910_Assignment1</a>"
      ],
      "text/plain": [
       "<IPython.core.display.HTML object>"
      ]
     },
     "metadata": {},
     "output_type": "display_data"
    },
    {
     "data": {
      "text/html": [
       " View sweep at <a href='https://wandb.ai/cs22m083/CS6910_Assignment1/sweeps/gb9w2qt6' target=\"_blank\">https://wandb.ai/cs22m083/CS6910_Assignment1/sweeps/gb9w2qt6</a>"
      ],
      "text/plain": [
       "<IPython.core.display.HTML object>"
      ]
     },
     "metadata": {},
     "output_type": "display_data"
    },
    {
     "data": {
      "text/html": [
       " View run at <a href='https://wandb.ai/cs22m083/CS6910_Assignment1/runs/b5kqpkc8' target=\"_blank\">https://wandb.ai/cs22m083/CS6910_Assignment1/runs/b5kqpkc8</a>"
      ],
      "text/plain": [
       "<IPython.core.display.HTML object>"
      ]
     },
     "metadata": {},
     "output_type": "display_data"
    },
    {
     "name": "stdout",
     "output_type": "stream",
     "text": [
      " Training Loss:  0.5873194771344176  Validation Loss: 0.5995686309525297  Training Accuracy:  0.8002333333333334  Validation Accuracy: 0.793\n"
     ]
    },
    {
     "data": {
      "text/html": [
       "Waiting for W&B process to finish... <strong style=\"color:green\">(success).</strong>"
      ],
      "text/plain": [
       "<IPython.core.display.HTML object>"
      ]
     },
     "metadata": {},
     "output_type": "display_data"
    },
    {
     "data": {
      "text/html": [
       "<style>\n",
       "    table.wandb td:nth-child(1) { padding: 0 10px; text-align: left ; width: auto;} td:nth-child(2) {text-align: left ; width: 100%}\n",
       "    .wandb-row { display: flex; flex-direction: row; flex-wrap: wrap; justify-content: flex-start; width: 100% }\n",
       "    .wandb-col { display: flex; flex-direction: column; flex-basis: 100%; flex: 1; padding: 10px; }\n",
       "    </style>\n",
       "<div class=\"wandb-row\"><div class=\"wandb-col\"><h3>Run history:</h3><br/><table class=\"wandb\"><tr><td>Accuracy</td><td>▁</td></tr><tr><td>Epoch</td><td>▁▂▃▃▄▅▆▆▇█</td></tr><tr><td>Training_accuracy</td><td>▁▅▆▆▇▇████</td></tr><tr><td>Training_loss</td><td>█▄▃▂▂▂▁▁▁▁</td></tr><tr><td>Validation_accuracy</td><td>▁▃▄▅▆▇▇███</td></tr><tr><td>Validation_loss</td><td>█▄▃▃▂▂▂▁▁▁</td></tr></table><br/></div><div class=\"wandb-col\"><h3>Run summary:</h3><br/><table class=\"wandb\"><tr><td>Accuracy</td><td>0.793</td></tr><tr><td>Epoch</td><td>10</td></tr><tr><td>Training_accuracy</td><td>0.80023</td></tr><tr><td>Training_loss</td><td>0.58732</td></tr><tr><td>Validation_accuracy</td><td>0.793</td></tr><tr><td>Validation_loss</td><td>0.59957</td></tr></table><br/></div></div>"
      ],
      "text/plain": [
       "<IPython.core.display.HTML object>"
      ]
     },
     "metadata": {},
     "output_type": "display_data"
    },
    {
     "data": {
      "text/html": [
       " View run <strong style=\"color:#cdcd00\">Question:4</strong> at: <a href='https://wandb.ai/cs22m083/CS6910_Assignment1/runs/b5kqpkc8' target=\"_blank\">https://wandb.ai/cs22m083/CS6910_Assignment1/runs/b5kqpkc8</a><br/>Synced 6 W&B file(s), 0 media file(s), 0 artifact file(s) and 0 other file(s)"
      ],
      "text/plain": [
       "<IPython.core.display.HTML object>"
      ]
     },
     "metadata": {},
     "output_type": "display_data"
    },
    {
     "data": {
      "text/html": [
       "Find logs at: <code>.\\wandb\\run-20230318_134945-b5kqpkc8\\logs</code>"
      ],
      "text/plain": [
       "<IPython.core.display.HTML object>"
      ]
     },
     "metadata": {},
     "output_type": "display_data"
    },
    {
     "name": "stderr",
     "output_type": "stream",
     "text": [
      "\u001b[34m\u001b[1mwandb\u001b[0m: Agent Starting Run: ywn4jrzj with config:\n",
      "\u001b[34m\u001b[1mwandb\u001b[0m: \tactivation: sigmoid\n",
      "\u001b[34m\u001b[1mwandb\u001b[0m: \tbatch_size: 32\n",
      "\u001b[34m\u001b[1mwandb\u001b[0m: \tepochs: 10\n",
      "\u001b[34m\u001b[1mwandb\u001b[0m: \tgamma: 0.0006\n",
      "\u001b[34m\u001b[1mwandb\u001b[0m: \thidden_layers: [32, 64, 128]\n",
      "\u001b[34m\u001b[1mwandb\u001b[0m: \tinitialization: Xavier\n",
      "\u001b[34m\u001b[1mwandb\u001b[0m: \tlearning_rate: 0.0006\n",
      "\u001b[34m\u001b[1mwandb\u001b[0m: \toptimizer: momentum\n",
      "\u001b[34m\u001b[1mwandb\u001b[0m: \tweight_decay: 0.0005\n",
      "Failed to detect the name of this notebook, you can set it manually with the WANDB_NOTEBOOK_NAME environment variable to enable code saving.\n",
      "\u001b[34m\u001b[1mwandb\u001b[0m: \u001b[33mWARNING\u001b[0m Ignored wandb.init() arg project when running a sweep.\n"
     ]
    },
    {
     "data": {
      "text/html": [
       "wandb version 0.14.0 is available!  To upgrade, please run:\n",
       " $ pip install wandb --upgrade"
      ],
      "text/plain": [
       "<IPython.core.display.HTML object>"
      ]
     },
     "metadata": {},
     "output_type": "display_data"
    },
    {
     "data": {
      "text/html": [
       "Tracking run with wandb version 0.13.10"
      ],
      "text/plain": [
       "<IPython.core.display.HTML object>"
      ]
     },
     "metadata": {},
     "output_type": "display_data"
    },
    {
     "data": {
      "text/html": [
       "Run data is saved locally in <code>C:\\Users\\Shivam Maurya\\OneDrive\\Desktop\\IIT_MADRAS\\Deep Learning\\assignment 1\\CS6910-Deep_Learning_Assignment-1\\wandb\\run-20230318_135309-ywn4jrzj</code>"
      ],
      "text/plain": [
       "<IPython.core.display.HTML object>"
      ]
     },
     "metadata": {},
     "output_type": "display_data"
    },
    {
     "data": {
      "text/html": [
       "Syncing run <strong><a href='https://wandb.ai/cs22m083/CS6910_Assignment1/runs/ywn4jrzj' target=\"_blank\">Question:4</a></strong> to <a href='https://wandb.ai/cs22m083/CS6910_Assignment1' target=\"_blank\">Weights & Biases</a> (<a href='https://wandb.me/run' target=\"_blank\">docs</a>)<br/>Sweep page: <a href='https://wandb.ai/cs22m083/CS6910_Assignment1/sweeps/gb9w2qt6' target=\"_blank\">https://wandb.ai/cs22m083/CS6910_Assignment1/sweeps/gb9w2qt6</a>"
      ],
      "text/plain": [
       "<IPython.core.display.HTML object>"
      ]
     },
     "metadata": {},
     "output_type": "display_data"
    },
    {
     "data": {
      "text/html": [
       " View project at <a href='https://wandb.ai/cs22m083/CS6910_Assignment1' target=\"_blank\">https://wandb.ai/cs22m083/CS6910_Assignment1</a>"
      ],
      "text/plain": [
       "<IPython.core.display.HTML object>"
      ]
     },
     "metadata": {},
     "output_type": "display_data"
    },
    {
     "data": {
      "text/html": [
       " View sweep at <a href='https://wandb.ai/cs22m083/CS6910_Assignment1/sweeps/gb9w2qt6' target=\"_blank\">https://wandb.ai/cs22m083/CS6910_Assignment1/sweeps/gb9w2qt6</a>"
      ],
      "text/plain": [
       "<IPython.core.display.HTML object>"
      ]
     },
     "metadata": {},
     "output_type": "display_data"
    },
    {
     "data": {
      "text/html": [
       " View run at <a href='https://wandb.ai/cs22m083/CS6910_Assignment1/runs/ywn4jrzj' target=\"_blank\">https://wandb.ai/cs22m083/CS6910_Assignment1/runs/ywn4jrzj</a>"
      ],
      "text/plain": [
       "<IPython.core.display.HTML object>"
      ]
     },
     "metadata": {},
     "output_type": "display_data"
    },
    {
     "name": "stdout",
     "output_type": "stream",
     "text": [
      " Training Loss:  0.6146112362007665  Validation Loss: 0.61497959004117  Training Accuracy:  0.7810833333333334  Validation Accuracy: 0.7789\n"
     ]
    },
    {
     "data": {
      "text/html": [
       "Waiting for W&B process to finish... <strong style=\"color:green\">(success).</strong>"
      ],
      "text/plain": [
       "<IPython.core.display.HTML object>"
      ]
     },
     "metadata": {},
     "output_type": "display_data"
    },
    {
     "data": {
      "application/vnd.jupyter.widget-view+json": {
       "model_id": "7562718dfdb84de78bed270085668897",
       "version_major": 2,
       "version_minor": 0
      },
      "text/plain": [
       "VBox(children=(Label(value='0.001 MB of 0.001 MB uploaded (0.000 MB deduped)\\r'), FloatProgress(value=1.0, max…"
      ]
     },
     "metadata": {},
     "output_type": "display_data"
    },
    {
     "data": {
      "text/html": [
       "<style>\n",
       "    table.wandb td:nth-child(1) { padding: 0 10px; text-align: left ; width: auto;} td:nth-child(2) {text-align: left ; width: 100%}\n",
       "    .wandb-row { display: flex; flex-direction: row; flex-wrap: wrap; justify-content: flex-start; width: 100% }\n",
       "    .wandb-col { display: flex; flex-direction: column; flex-basis: 100%; flex: 1; padding: 10px; }\n",
       "    </style>\n",
       "<div class=\"wandb-row\"><div class=\"wandb-col\"><h3>Run history:</h3><br/><table class=\"wandb\"><tr><td>Accuracy</td><td>▁</td></tr><tr><td>Epoch</td><td>▁▂▃▃▄▅▆▆▇█</td></tr><tr><td>Training_accuracy</td><td>▁▃▄▆▆▇▇███</td></tr><tr><td>Training_loss</td><td>█▆▅▃▂▂▂▁▁▁</td></tr><tr><td>Validation_accuracy</td><td>▁▃▅▆▆▇▇███</td></tr><tr><td>Validation_loss</td><td>█▅▄▃▂▂▂▁▁▁</td></tr></table><br/></div><div class=\"wandb-col\"><h3>Run summary:</h3><br/><table class=\"wandb\"><tr><td>Accuracy</td><td>0.7789</td></tr><tr><td>Epoch</td><td>10</td></tr><tr><td>Training_accuracy</td><td>0.78108</td></tr><tr><td>Training_loss</td><td>0.61461</td></tr><tr><td>Validation_accuracy</td><td>0.7789</td></tr><tr><td>Validation_loss</td><td>0.61498</td></tr></table><br/></div></div>"
      ],
      "text/plain": [
       "<IPython.core.display.HTML object>"
      ]
     },
     "metadata": {},
     "output_type": "display_data"
    },
    {
     "data": {
      "text/html": [
       " View run <strong style=\"color:#cdcd00\">Question:4</strong> at: <a href='https://wandb.ai/cs22m083/CS6910_Assignment1/runs/ywn4jrzj' target=\"_blank\">https://wandb.ai/cs22m083/CS6910_Assignment1/runs/ywn4jrzj</a><br/>Synced 6 W&B file(s), 0 media file(s), 0 artifact file(s) and 0 other file(s)"
      ],
      "text/plain": [
       "<IPython.core.display.HTML object>"
      ]
     },
     "metadata": {},
     "output_type": "display_data"
    },
    {
     "data": {
      "text/html": [
       "Find logs at: <code>.\\wandb\\run-20230318_135309-ywn4jrzj\\logs</code>"
      ],
      "text/plain": [
       "<IPython.core.display.HTML object>"
      ]
     },
     "metadata": {},
     "output_type": "display_data"
    },
    {
     "name": "stderr",
     "output_type": "stream",
     "text": [
      "\u001b[34m\u001b[1mwandb\u001b[0m: Agent Starting Run: ngz89k3y with config:\n",
      "\u001b[34m\u001b[1mwandb\u001b[0m: \tactivation: relu\n",
      "\u001b[34m\u001b[1mwandb\u001b[0m: \tbatch_size: 64\n",
      "\u001b[34m\u001b[1mwandb\u001b[0m: \tepochs: 5\n",
      "\u001b[34m\u001b[1mwandb\u001b[0m: \tgamma: 0.03\n",
      "\u001b[34m\u001b[1mwandb\u001b[0m: \thidden_layers: [32, 64, 128]\n",
      "\u001b[34m\u001b[1mwandb\u001b[0m: \tinitialization: Random\n",
      "\u001b[34m\u001b[1mwandb\u001b[0m: \tlearning_rate: 0.01\n",
      "\u001b[34m\u001b[1mwandb\u001b[0m: \toptimizer: sgd\n",
      "\u001b[34m\u001b[1mwandb\u001b[0m: \tweight_decay: 0\n",
      "Failed to detect the name of this notebook, you can set it manually with the WANDB_NOTEBOOK_NAME environment variable to enable code saving.\n",
      "\u001b[34m\u001b[1mwandb\u001b[0m: \u001b[33mWARNING\u001b[0m Ignored wandb.init() arg project when running a sweep.\n"
     ]
    },
    {
     "data": {
      "text/html": [
       "wandb version 0.14.0 is available!  To upgrade, please run:\n",
       " $ pip install wandb --upgrade"
      ],
      "text/plain": [
       "<IPython.core.display.HTML object>"
      ]
     },
     "metadata": {},
     "output_type": "display_data"
    },
    {
     "data": {
      "text/html": [
       "Tracking run with wandb version 0.13.10"
      ],
      "text/plain": [
       "<IPython.core.display.HTML object>"
      ]
     },
     "metadata": {},
     "output_type": "display_data"
    },
    {
     "data": {
      "text/html": [
       "Run data is saved locally in <code>C:\\Users\\Shivam Maurya\\OneDrive\\Desktop\\IIT_MADRAS\\Deep Learning\\assignment 1\\CS6910-Deep_Learning_Assignment-1\\wandb\\run-20230318_135715-ngz89k3y</code>"
      ],
      "text/plain": [
       "<IPython.core.display.HTML object>"
      ]
     },
     "metadata": {},
     "output_type": "display_data"
    },
    {
     "data": {
      "text/html": [
       "Syncing run <strong><a href='https://wandb.ai/cs22m083/CS6910_Assignment1/runs/ngz89k3y' target=\"_blank\">Question:4</a></strong> to <a href='https://wandb.ai/cs22m083/CS6910_Assignment1' target=\"_blank\">Weights & Biases</a> (<a href='https://wandb.me/run' target=\"_blank\">docs</a>)<br/>Sweep page: <a href='https://wandb.ai/cs22m083/CS6910_Assignment1/sweeps/gb9w2qt6' target=\"_blank\">https://wandb.ai/cs22m083/CS6910_Assignment1/sweeps/gb9w2qt6</a>"
      ],
      "text/plain": [
       "<IPython.core.display.HTML object>"
      ]
     },
     "metadata": {},
     "output_type": "display_data"
    },
    {
     "data": {
      "text/html": [
       " View project at <a href='https://wandb.ai/cs22m083/CS6910_Assignment1' target=\"_blank\">https://wandb.ai/cs22m083/CS6910_Assignment1</a>"
      ],
      "text/plain": [
       "<IPython.core.display.HTML object>"
      ]
     },
     "metadata": {},
     "output_type": "display_data"
    },
    {
     "data": {
      "text/html": [
       " View sweep at <a href='https://wandb.ai/cs22m083/CS6910_Assignment1/sweeps/gb9w2qt6' target=\"_blank\">https://wandb.ai/cs22m083/CS6910_Assignment1/sweeps/gb9w2qt6</a>"
      ],
      "text/plain": [
       "<IPython.core.display.HTML object>"
      ]
     },
     "metadata": {},
     "output_type": "display_data"
    },
    {
     "data": {
      "text/html": [
       " View run at <a href='https://wandb.ai/cs22m083/CS6910_Assignment1/runs/ngz89k3y' target=\"_blank\">https://wandb.ai/cs22m083/CS6910_Assignment1/runs/ngz89k3y</a>"
      ],
      "text/plain": [
       "<IPython.core.display.HTML object>"
      ]
     },
     "metadata": {},
     "output_type": "display_data"
    },
    {
     "name": "stdout",
     "output_type": "stream",
     "text": [
      " Training Loss:  nan  Validation Loss: nan  Training Accuracy:  0.1  Validation Accuracy: 0.1\n"
     ]
    },
    {
     "data": {
      "text/html": [
       "Waiting for W&B process to finish... <strong style=\"color:green\">(success).</strong>"
      ],
      "text/plain": [
       "<IPython.core.display.HTML object>"
      ]
     },
     "metadata": {},
     "output_type": "display_data"
    },
    {
     "data": {
      "text/html": [
       "<style>\n",
       "    table.wandb td:nth-child(1) { padding: 0 10px; text-align: left ; width: auto;} td:nth-child(2) {text-align: left ; width: 100%}\n",
       "    .wandb-row { display: flex; flex-direction: row; flex-wrap: wrap; justify-content: flex-start; width: 100% }\n",
       "    .wandb-col { display: flex; flex-direction: column; flex-basis: 100%; flex: 1; padding: 10px; }\n",
       "    </style>\n",
       "<div class=\"wandb-row\"><div class=\"wandb-col\"><h3>Run history:</h3><br/><table class=\"wandb\"><tr><td>Accuracy</td><td>▁</td></tr><tr><td>Epoch</td><td>▁▃▅▆█</td></tr><tr><td>Training_accuracy</td><td>▁▁▁▁▁</td></tr><tr><td>Validation_accuracy</td><td>▁▁▁▁▁</td></tr></table><br/></div><div class=\"wandb-col\"><h3>Run summary:</h3><br/><table class=\"wandb\"><tr><td>Accuracy</td><td>0.1</td></tr><tr><td>Epoch</td><td>5</td></tr><tr><td>Training_accuracy</td><td>0.1</td></tr><tr><td>Training_loss</td><td>nan</td></tr><tr><td>Validation_accuracy</td><td>0.1</td></tr><tr><td>Validation_loss</td><td>nan</td></tr></table><br/></div></div>"
      ],
      "text/plain": [
       "<IPython.core.display.HTML object>"
      ]
     },
     "metadata": {},
     "output_type": "display_data"
    },
    {
     "data": {
      "text/html": [
       " View run <strong style=\"color:#cdcd00\">Question:4</strong> at: <a href='https://wandb.ai/cs22m083/CS6910_Assignment1/runs/ngz89k3y' target=\"_blank\">https://wandb.ai/cs22m083/CS6910_Assignment1/runs/ngz89k3y</a><br/>Synced 6 W&B file(s), 0 media file(s), 0 artifact file(s) and 0 other file(s)"
      ],
      "text/plain": [
       "<IPython.core.display.HTML object>"
      ]
     },
     "metadata": {},
     "output_type": "display_data"
    },
    {
     "data": {
      "text/html": [
       "Find logs at: <code>.\\wandb\\run-20230318_135715-ngz89k3y\\logs</code>"
      ],
      "text/plain": [
       "<IPython.core.display.HTML object>"
      ]
     },
     "metadata": {},
     "output_type": "display_data"
    },
    {
     "name": "stderr",
     "output_type": "stream",
     "text": [
      "\u001b[34m\u001b[1mwandb\u001b[0m: Agent Starting Run: yi1p3w9m with config:\n",
      "\u001b[34m\u001b[1mwandb\u001b[0m: \tactivation: tanh\n",
      "\u001b[34m\u001b[1mwandb\u001b[0m: \tbatch_size: 64\n",
      "\u001b[34m\u001b[1mwandb\u001b[0m: \tepochs: 10\n",
      "\u001b[34m\u001b[1mwandb\u001b[0m: \tgamma: 0.002\n",
      "\u001b[34m\u001b[1mwandb\u001b[0m: \thidden_layers: [32, 64, 128]\n",
      "\u001b[34m\u001b[1mwandb\u001b[0m: \tinitialization: Xavier\n",
      "\u001b[34m\u001b[1mwandb\u001b[0m: \tlearning_rate: 0.0003\n",
      "\u001b[34m\u001b[1mwandb\u001b[0m: \toptimizer: nadam\n",
      "\u001b[34m\u001b[1mwandb\u001b[0m: \tweight_decay: 0.5\n",
      "Failed to detect the name of this notebook, you can set it manually with the WANDB_NOTEBOOK_NAME environment variable to enable code saving.\n",
      "\u001b[34m\u001b[1mwandb\u001b[0m: \u001b[33mWARNING\u001b[0m Ignored wandb.init() arg project when running a sweep.\n"
     ]
    },
    {
     "data": {
      "text/html": [
       "wandb version 0.14.0 is available!  To upgrade, please run:\n",
       " $ pip install wandb --upgrade"
      ],
      "text/plain": [
       "<IPython.core.display.HTML object>"
      ]
     },
     "metadata": {},
     "output_type": "display_data"
    },
    {
     "data": {
      "text/html": [
       "Tracking run with wandb version 0.13.10"
      ],
      "text/plain": [
       "<IPython.core.display.HTML object>"
      ]
     },
     "metadata": {},
     "output_type": "display_data"
    },
    {
     "data": {
      "text/html": [
       "Run data is saved locally in <code>C:\\Users\\Shivam Maurya\\OneDrive\\Desktop\\IIT_MADRAS\\Deep Learning\\assignment 1\\CS6910-Deep_Learning_Assignment-1\\wandb\\run-20230318_135918-yi1p3w9m</code>"
      ],
      "text/plain": [
       "<IPython.core.display.HTML object>"
      ]
     },
     "metadata": {},
     "output_type": "display_data"
    },
    {
     "data": {
      "text/html": [
       "Syncing run <strong><a href='https://wandb.ai/cs22m083/CS6910_Assignment1/runs/yi1p3w9m' target=\"_blank\">Question:4</a></strong> to <a href='https://wandb.ai/cs22m083/CS6910_Assignment1' target=\"_blank\">Weights & Biases</a> (<a href='https://wandb.me/run' target=\"_blank\">docs</a>)<br/>Sweep page: <a href='https://wandb.ai/cs22m083/CS6910_Assignment1/sweeps/gb9w2qt6' target=\"_blank\">https://wandb.ai/cs22m083/CS6910_Assignment1/sweeps/gb9w2qt6</a>"
      ],
      "text/plain": [
       "<IPython.core.display.HTML object>"
      ]
     },
     "metadata": {},
     "output_type": "display_data"
    },
    {
     "data": {
      "text/html": [
       " View project at <a href='https://wandb.ai/cs22m083/CS6910_Assignment1' target=\"_blank\">https://wandb.ai/cs22m083/CS6910_Assignment1</a>"
      ],
      "text/plain": [
       "<IPython.core.display.HTML object>"
      ]
     },
     "metadata": {},
     "output_type": "display_data"
    },
    {
     "data": {
      "text/html": [
       " View sweep at <a href='https://wandb.ai/cs22m083/CS6910_Assignment1/sweeps/gb9w2qt6' target=\"_blank\">https://wandb.ai/cs22m083/CS6910_Assignment1/sweeps/gb9w2qt6</a>"
      ],
      "text/plain": [
       "<IPython.core.display.HTML object>"
      ]
     },
     "metadata": {},
     "output_type": "display_data"
    },
    {
     "data": {
      "text/html": [
       " View run at <a href='https://wandb.ai/cs22m083/CS6910_Assignment1/runs/yi1p3w9m' target=\"_blank\">https://wandb.ai/cs22m083/CS6910_Assignment1/runs/yi1p3w9m</a>"
      ],
      "text/plain": [
       "<IPython.core.display.HTML object>"
      ]
     },
     "metadata": {},
     "output_type": "display_data"
    },
    {
     "name": "stdout",
     "output_type": "stream",
     "text": [
      " Training Loss:  0.4202684089958612  Validation Loss: 0.4450274631406797  Training Accuracy:  0.8553166666666666  Validation Accuracy: 0.8418\n"
     ]
    },
    {
     "data": {
      "text/html": [
       "Waiting for W&B process to finish... <strong style=\"color:green\">(success).</strong>"
      ],
      "text/plain": [
       "<IPython.core.display.HTML object>"
      ]
     },
     "metadata": {},
     "output_type": "display_data"
    },
    {
     "data": {
      "text/html": [
       "<style>\n",
       "    table.wandb td:nth-child(1) { padding: 0 10px; text-align: left ; width: auto;} td:nth-child(2) {text-align: left ; width: 100%}\n",
       "    .wandb-row { display: flex; flex-direction: row; flex-wrap: wrap; justify-content: flex-start; width: 100% }\n",
       "    .wandb-col { display: flex; flex-direction: column; flex-basis: 100%; flex: 1; padding: 10px; }\n",
       "    </style>\n",
       "<div class=\"wandb-row\"><div class=\"wandb-col\"><h3>Run history:</h3><br/><table class=\"wandb\"><tr><td>Accuracy</td><td>▁</td></tr><tr><td>Epoch</td><td>▁▂▃▃▄▅▆▆▇█</td></tr><tr><td>Training_accuracy</td><td>▁▆▇▇▇█████</td></tr><tr><td>Training_loss</td><td>█▃▂▂▂▁▁▁▁▁</td></tr><tr><td>Validation_accuracy</td><td>▁▄▅▆▇▇▇███</td></tr><tr><td>Validation_loss</td><td>█▅▄▃▂▂▂▁▁▁</td></tr></table><br/></div><div class=\"wandb-col\"><h3>Run summary:</h3><br/><table class=\"wandb\"><tr><td>Accuracy</td><td>0.8418</td></tr><tr><td>Epoch</td><td>10</td></tr><tr><td>Training_accuracy</td><td>0.85532</td></tr><tr><td>Training_loss</td><td>0.42027</td></tr><tr><td>Validation_accuracy</td><td>0.8418</td></tr><tr><td>Validation_loss</td><td>0.44503</td></tr></table><br/></div></div>"
      ],
      "text/plain": [
       "<IPython.core.display.HTML object>"
      ]
     },
     "metadata": {},
     "output_type": "display_data"
    },
    {
     "data": {
      "text/html": [
       " View run <strong style=\"color:#cdcd00\">Question:4</strong> at: <a href='https://wandb.ai/cs22m083/CS6910_Assignment1/runs/yi1p3w9m' target=\"_blank\">https://wandb.ai/cs22m083/CS6910_Assignment1/runs/yi1p3w9m</a><br/>Synced 6 W&B file(s), 0 media file(s), 0 artifact file(s) and 0 other file(s)"
      ],
      "text/plain": [
       "<IPython.core.display.HTML object>"
      ]
     },
     "metadata": {},
     "output_type": "display_data"
    },
    {
     "data": {
      "text/html": [
       "Find logs at: <code>.\\wandb\\run-20230318_135918-yi1p3w9m\\logs</code>"
      ],
      "text/plain": [
       "<IPython.core.display.HTML object>"
      ]
     },
     "metadata": {},
     "output_type": "display_data"
    },
    {
     "name": "stderr",
     "output_type": "stream",
     "text": [
      "\u001b[34m\u001b[1mwandb\u001b[0m: Agent Starting Run: 8dc9rb1r with config:\n",
      "\u001b[34m\u001b[1mwandb\u001b[0m: \tactivation: sigmoid\n",
      "\u001b[34m\u001b[1mwandb\u001b[0m: \tbatch_size: 16\n",
      "\u001b[34m\u001b[1mwandb\u001b[0m: \tepochs: 5\n",
      "\u001b[34m\u001b[1mwandb\u001b[0m: \tgamma: 0.0006\n",
      "\u001b[34m\u001b[1mwandb\u001b[0m: \thidden_layers: [32, 64, 128, 256]\n",
      "\u001b[34m\u001b[1mwandb\u001b[0m: \tinitialization: Random\n",
      "\u001b[34m\u001b[1mwandb\u001b[0m: \tlearning_rate: 0.0001\n",
      "\u001b[34m\u001b[1mwandb\u001b[0m: \toptimizer: nag\n",
      "\u001b[34m\u001b[1mwandb\u001b[0m: \tweight_decay: 0.5\n",
      "Failed to detect the name of this notebook, you can set it manually with the WANDB_NOTEBOOK_NAME environment variable to enable code saving.\n",
      "\u001b[34m\u001b[1mwandb\u001b[0m: \u001b[33mWARNING\u001b[0m Ignored wandb.init() arg project when running a sweep.\n"
     ]
    },
    {
     "data": {
      "text/html": [
       "wandb version 0.14.0 is available!  To upgrade, please run:\n",
       " $ pip install wandb --upgrade"
      ],
      "text/plain": [
       "<IPython.core.display.HTML object>"
      ]
     },
     "metadata": {},
     "output_type": "display_data"
    },
    {
     "data": {
      "text/html": [
       "Tracking run with wandb version 0.13.10"
      ],
      "text/plain": [
       "<IPython.core.display.HTML object>"
      ]
     },
     "metadata": {},
     "output_type": "display_data"
    },
    {
     "data": {
      "text/html": [
       "Run data is saved locally in <code>C:\\Users\\Shivam Maurya\\OneDrive\\Desktop\\IIT_MADRAS\\Deep Learning\\assignment 1\\CS6910-Deep_Learning_Assignment-1\\wandb\\run-20230318_140312-8dc9rb1r</code>"
      ],
      "text/plain": [
       "<IPython.core.display.HTML object>"
      ]
     },
     "metadata": {},
     "output_type": "display_data"
    },
    {
     "data": {
      "text/html": [
       "Syncing run <strong><a href='https://wandb.ai/cs22m083/CS6910_Assignment1/runs/8dc9rb1r' target=\"_blank\">Question:4</a></strong> to <a href='https://wandb.ai/cs22m083/CS6910_Assignment1' target=\"_blank\">Weights & Biases</a> (<a href='https://wandb.me/run' target=\"_blank\">docs</a>)<br/>Sweep page: <a href='https://wandb.ai/cs22m083/CS6910_Assignment1/sweeps/gb9w2qt6' target=\"_blank\">https://wandb.ai/cs22m083/CS6910_Assignment1/sweeps/gb9w2qt6</a>"
      ],
      "text/plain": [
       "<IPython.core.display.HTML object>"
      ]
     },
     "metadata": {},
     "output_type": "display_data"
    },
    {
     "data": {
      "text/html": [
       " View project at <a href='https://wandb.ai/cs22m083/CS6910_Assignment1' target=\"_blank\">https://wandb.ai/cs22m083/CS6910_Assignment1</a>"
      ],
      "text/plain": [
       "<IPython.core.display.HTML object>"
      ]
     },
     "metadata": {},
     "output_type": "display_data"
    },
    {
     "data": {
      "text/html": [
       " View sweep at <a href='https://wandb.ai/cs22m083/CS6910_Assignment1/sweeps/gb9w2qt6' target=\"_blank\">https://wandb.ai/cs22m083/CS6910_Assignment1/sweeps/gb9w2qt6</a>"
      ],
      "text/plain": [
       "<IPython.core.display.HTML object>"
      ]
     },
     "metadata": {},
     "output_type": "display_data"
    },
    {
     "data": {
      "text/html": [
       " View run at <a href='https://wandb.ai/cs22m083/CS6910_Assignment1/runs/8dc9rb1r' target=\"_blank\">https://wandb.ai/cs22m083/CS6910_Assignment1/runs/8dc9rb1r</a>"
      ],
      "text/plain": [
       "<IPython.core.display.HTML object>"
      ]
     },
     "metadata": {},
     "output_type": "display_data"
    },
    {
     "name": "stdout",
     "output_type": "stream",
     "text": [
      " Training Loss:  1.9406487394360974  Validation Loss: 1.9000862451067686  Training Accuracy:  0.35336666666666666  Validation Accuracy: 0.3744\n"
     ]
    },
    {
     "data": {
      "text/html": [
       "Waiting for W&B process to finish... <strong style=\"color:green\">(success).</strong>"
      ],
      "text/plain": [
       "<IPython.core.display.HTML object>"
      ]
     },
     "metadata": {},
     "output_type": "display_data"
    },
    {
     "data": {
      "application/vnd.jupyter.widget-view+json": {
       "model_id": "04fd77ae29774a31a254295bb370c7ed",
       "version_major": 2,
       "version_minor": 0
      },
      "text/plain": [
       "VBox(children=(Label(value='0.001 MB of 0.001 MB uploaded (0.000 MB deduped)\\r'), FloatProgress(value=1.0, max…"
      ]
     },
     "metadata": {},
     "output_type": "display_data"
    },
    {
     "data": {
      "text/html": [
       "<style>\n",
       "    table.wandb td:nth-child(1) { padding: 0 10px; text-align: left ; width: auto;} td:nth-child(2) {text-align: left ; width: 100%}\n",
       "    .wandb-row { display: flex; flex-direction: row; flex-wrap: wrap; justify-content: flex-start; width: 100% }\n",
       "    .wandb-col { display: flex; flex-direction: column; flex-basis: 100%; flex: 1; padding: 10px; }\n",
       "    </style>\n",
       "<div class=\"wandb-row\"><div class=\"wandb-col\"><h3>Run history:</h3><br/><table class=\"wandb\"><tr><td>Accuracy</td><td>▁</td></tr><tr><td>Epoch</td><td>▁▃▅▆█</td></tr><tr><td>Training_accuracy</td><td>▁▃▅▇█</td></tr><tr><td>Training_loss</td><td>█▂▂▁▁</td></tr><tr><td>Validation_accuracy</td><td>▁▄▅▇█</td></tr><tr><td>Validation_loss</td><td>█▄▃▂▁</td></tr></table><br/></div><div class=\"wandb-col\"><h3>Run summary:</h3><br/><table class=\"wandb\"><tr><td>Accuracy</td><td>0.3744</td></tr><tr><td>Epoch</td><td>5</td></tr><tr><td>Training_accuracy</td><td>0.35337</td></tr><tr><td>Training_loss</td><td>1.94065</td></tr><tr><td>Validation_accuracy</td><td>0.3744</td></tr><tr><td>Validation_loss</td><td>1.90009</td></tr></table><br/></div></div>"
      ],
      "text/plain": [
       "<IPython.core.display.HTML object>"
      ]
     },
     "metadata": {},
     "output_type": "display_data"
    },
    {
     "data": {
      "text/html": [
       " View run <strong style=\"color:#cdcd00\">Question:4</strong> at: <a href='https://wandb.ai/cs22m083/CS6910_Assignment1/runs/8dc9rb1r' target=\"_blank\">https://wandb.ai/cs22m083/CS6910_Assignment1/runs/8dc9rb1r</a><br/>Synced 6 W&B file(s), 0 media file(s), 0 artifact file(s) and 0 other file(s)"
      ],
      "text/plain": [
       "<IPython.core.display.HTML object>"
      ]
     },
     "metadata": {},
     "output_type": "display_data"
    },
    {
     "data": {
      "text/html": [
       "Find logs at: <code>.\\wandb\\run-20230318_140312-8dc9rb1r\\logs</code>"
      ],
      "text/plain": [
       "<IPython.core.display.HTML object>"
      ]
     },
     "metadata": {},
     "output_type": "display_data"
    },
    {
     "name": "stderr",
     "output_type": "stream",
     "text": [
      "\u001b[34m\u001b[1mwandb\u001b[0m: Agent Starting Run: a4znosp7 with config:\n",
      "\u001b[34m\u001b[1mwandb\u001b[0m: \tactivation: sigmoid\n",
      "\u001b[34m\u001b[1mwandb\u001b[0m: \tbatch_size: 16\n",
      "\u001b[34m\u001b[1mwandb\u001b[0m: \tepochs: 10\n",
      "\u001b[34m\u001b[1mwandb\u001b[0m: \tgamma: 0.002\n",
      "\u001b[34m\u001b[1mwandb\u001b[0m: \thidden_layers: [32, 64, 128]\n",
      "\u001b[34m\u001b[1mwandb\u001b[0m: \tinitialization: Random\n",
      "\u001b[34m\u001b[1mwandb\u001b[0m: \tlearning_rate: 0.0001\n",
      "\u001b[34m\u001b[1mwandb\u001b[0m: \toptimizer: nadam\n",
      "\u001b[34m\u001b[1mwandb\u001b[0m: \tweight_decay: 0.5\n",
      "Failed to detect the name of this notebook, you can set it manually with the WANDB_NOTEBOOK_NAME environment variable to enable code saving.\n",
      "\u001b[34m\u001b[1mwandb\u001b[0m: \u001b[33mWARNING\u001b[0m Ignored wandb.init() arg project when running a sweep.\n"
     ]
    },
    {
     "data": {
      "text/html": [
       "wandb version 0.14.0 is available!  To upgrade, please run:\n",
       " $ pip install wandb --upgrade"
      ],
      "text/plain": [
       "<IPython.core.display.HTML object>"
      ]
     },
     "metadata": {},
     "output_type": "display_data"
    },
    {
     "data": {
      "text/html": [
       "Tracking run with wandb version 0.13.10"
      ],
      "text/plain": [
       "<IPython.core.display.HTML object>"
      ]
     },
     "metadata": {},
     "output_type": "display_data"
    },
    {
     "data": {
      "text/html": [
       "Run data is saved locally in <code>C:\\Users\\Shivam Maurya\\OneDrive\\Desktop\\IIT_MADRAS\\Deep Learning\\assignment 1\\CS6910-Deep_Learning_Assignment-1\\wandb\\run-20230318_140635-a4znosp7</code>"
      ],
      "text/plain": [
       "<IPython.core.display.HTML object>"
      ]
     },
     "metadata": {},
     "output_type": "display_data"
    },
    {
     "data": {
      "text/html": [
       "Syncing run <strong><a href='https://wandb.ai/cs22m083/CS6910_Assignment1/runs/a4znosp7' target=\"_blank\">Question:4</a></strong> to <a href='https://wandb.ai/cs22m083/CS6910_Assignment1' target=\"_blank\">Weights & Biases</a> (<a href='https://wandb.me/run' target=\"_blank\">docs</a>)<br/>Sweep page: <a href='https://wandb.ai/cs22m083/CS6910_Assignment1/sweeps/gb9w2qt6' target=\"_blank\">https://wandb.ai/cs22m083/CS6910_Assignment1/sweeps/gb9w2qt6</a>"
      ],
      "text/plain": [
       "<IPython.core.display.HTML object>"
      ]
     },
     "metadata": {},
     "output_type": "display_data"
    },
    {
     "data": {
      "text/html": [
       " View project at <a href='https://wandb.ai/cs22m083/CS6910_Assignment1' target=\"_blank\">https://wandb.ai/cs22m083/CS6910_Assignment1</a>"
      ],
      "text/plain": [
       "<IPython.core.display.HTML object>"
      ]
     },
     "metadata": {},
     "output_type": "display_data"
    },
    {
     "data": {
      "text/html": [
       " View sweep at <a href='https://wandb.ai/cs22m083/CS6910_Assignment1/sweeps/gb9w2qt6' target=\"_blank\">https://wandb.ai/cs22m083/CS6910_Assignment1/sweeps/gb9w2qt6</a>"
      ],
      "text/plain": [
       "<IPython.core.display.HTML object>"
      ]
     },
     "metadata": {},
     "output_type": "display_data"
    },
    {
     "data": {
      "text/html": [
       " View run at <a href='https://wandb.ai/cs22m083/CS6910_Assignment1/runs/a4znosp7' target=\"_blank\">https://wandb.ai/cs22m083/CS6910_Assignment1/runs/a4znosp7</a>"
      ],
      "text/plain": [
       "<IPython.core.display.HTML object>"
      ]
     },
     "metadata": {},
     "output_type": "display_data"
    },
    {
     "name": "stdout",
     "output_type": "stream",
     "text": [
      " Training Loss:  1.875578992245575  Validation Loss: 1.8779282289940304  Training Accuracy:  0.24025  Validation Accuracy: 0.2639\n"
     ]
    },
    {
     "data": {
      "text/html": [
       "Waiting for W&B process to finish... <strong style=\"color:green\">(success).</strong>"
      ],
      "text/plain": [
       "<IPython.core.display.HTML object>"
      ]
     },
     "metadata": {},
     "output_type": "display_data"
    },
    {
     "data": {
      "text/html": [
       "<style>\n",
       "    table.wandb td:nth-child(1) { padding: 0 10px; text-align: left ; width: auto;} td:nth-child(2) {text-align: left ; width: 100%}\n",
       "    .wandb-row { display: flex; flex-direction: row; flex-wrap: wrap; justify-content: flex-start; width: 100% }\n",
       "    .wandb-col { display: flex; flex-direction: column; flex-basis: 100%; flex: 1; padding: 10px; }\n",
       "    </style>\n",
       "<div class=\"wandb-row\"><div class=\"wandb-col\"><h3>Run history:</h3><br/><table class=\"wandb\"><tr><td>Accuracy</td><td>▁</td></tr><tr><td>Epoch</td><td>▁▂▃▃▄▅▆▆▇█</td></tr><tr><td>Training_accuracy</td><td>▃▆▇██▇▅▄▁▁</td></tr><tr><td>Training_loss</td><td>█▂▁▁▂▃▃▄▄▄</td></tr><tr><td>Validation_accuracy</td><td>▅▇██▇▆▅▃▁▁</td></tr><tr><td>Validation_loss</td><td>▃▁▁▂▄▅▆███</td></tr></table><br/></div><div class=\"wandb-col\"><h3>Run summary:</h3><br/><table class=\"wandb\"><tr><td>Accuracy</td><td>0.2639</td></tr><tr><td>Epoch</td><td>10</td></tr><tr><td>Training_accuracy</td><td>0.24025</td></tr><tr><td>Training_loss</td><td>1.87558</td></tr><tr><td>Validation_accuracy</td><td>0.2639</td></tr><tr><td>Validation_loss</td><td>1.87793</td></tr></table><br/></div></div>"
      ],
      "text/plain": [
       "<IPython.core.display.HTML object>"
      ]
     },
     "metadata": {},
     "output_type": "display_data"
    },
    {
     "data": {
      "text/html": [
       " View run <strong style=\"color:#cdcd00\">Question:4</strong> at: <a href='https://wandb.ai/cs22m083/CS6910_Assignment1/runs/a4znosp7' target=\"_blank\">https://wandb.ai/cs22m083/CS6910_Assignment1/runs/a4znosp7</a><br/>Synced 6 W&B file(s), 0 media file(s), 0 artifact file(s) and 0 other file(s)"
      ],
      "text/plain": [
       "<IPython.core.display.HTML object>"
      ]
     },
     "metadata": {},
     "output_type": "display_data"
    },
    {
     "data": {
      "text/html": [
       "Find logs at: <code>.\\wandb\\run-20230318_140635-a4znosp7\\logs</code>"
      ],
      "text/plain": [
       "<IPython.core.display.HTML object>"
      ]
     },
     "metadata": {},
     "output_type": "display_data"
    },
    {
     "name": "stderr",
     "output_type": "stream",
     "text": [
      "\u001b[34m\u001b[1mwandb\u001b[0m: Agent Starting Run: fehllvvl with config:\n",
      "\u001b[34m\u001b[1mwandb\u001b[0m: \tactivation: sigmoid\n",
      "\u001b[34m\u001b[1mwandb\u001b[0m: \tbatch_size: 32\n",
      "\u001b[34m\u001b[1mwandb\u001b[0m: \tepochs: 10\n",
      "\u001b[34m\u001b[1mwandb\u001b[0m: \tgamma: 0.03\n",
      "\u001b[34m\u001b[1mwandb\u001b[0m: \thidden_layers: [32, 64]\n",
      "\u001b[34m\u001b[1mwandb\u001b[0m: \tinitialization: Xavier\n",
      "\u001b[34m\u001b[1mwandb\u001b[0m: \tlearning_rate: 0.0001\n",
      "\u001b[34m\u001b[1mwandb\u001b[0m: \toptimizer: momentum\n",
      "\u001b[34m\u001b[1mwandb\u001b[0m: \tweight_decay: 0.5\n",
      "Failed to detect the name of this notebook, you can set it manually with the WANDB_NOTEBOOK_NAME environment variable to enable code saving.\n",
      "\u001b[34m\u001b[1mwandb\u001b[0m: \u001b[33mWARNING\u001b[0m Ignored wandb.init() arg project when running a sweep.\n"
     ]
    },
    {
     "data": {
      "text/html": [
       "wandb version 0.14.0 is available!  To upgrade, please run:\n",
       " $ pip install wandb --upgrade"
      ],
      "text/plain": [
       "<IPython.core.display.HTML object>"
      ]
     },
     "metadata": {},
     "output_type": "display_data"
    },
    {
     "data": {
      "text/html": [
       "Tracking run with wandb version 0.13.10"
      ],
      "text/plain": [
       "<IPython.core.display.HTML object>"
      ]
     },
     "metadata": {},
     "output_type": "display_data"
    },
    {
     "data": {
      "text/html": [
       "Run data is saved locally in <code>C:\\Users\\Shivam Maurya\\OneDrive\\Desktop\\IIT_MADRAS\\Deep Learning\\assignment 1\\CS6910-Deep_Learning_Assignment-1\\wandb\\run-20230318_141056-fehllvvl</code>"
      ],
      "text/plain": [
       "<IPython.core.display.HTML object>"
      ]
     },
     "metadata": {},
     "output_type": "display_data"
    },
    {
     "data": {
      "text/html": [
       "Syncing run <strong><a href='https://wandb.ai/cs22m083/CS6910_Assignment1/runs/fehllvvl' target=\"_blank\">Question:4</a></strong> to <a href='https://wandb.ai/cs22m083/CS6910_Assignment1' target=\"_blank\">Weights & Biases</a> (<a href='https://wandb.me/run' target=\"_blank\">docs</a>)<br/>Sweep page: <a href='https://wandb.ai/cs22m083/CS6910_Assignment1/sweeps/gb9w2qt6' target=\"_blank\">https://wandb.ai/cs22m083/CS6910_Assignment1/sweeps/gb9w2qt6</a>"
      ],
      "text/plain": [
       "<IPython.core.display.HTML object>"
      ]
     },
     "metadata": {},
     "output_type": "display_data"
    },
    {
     "data": {
      "text/html": [
       " View project at <a href='https://wandb.ai/cs22m083/CS6910_Assignment1' target=\"_blank\">https://wandb.ai/cs22m083/CS6910_Assignment1</a>"
      ],
      "text/plain": [
       "<IPython.core.display.HTML object>"
      ]
     },
     "metadata": {},
     "output_type": "display_data"
    },
    {
     "data": {
      "text/html": [
       " View sweep at <a href='https://wandb.ai/cs22m083/CS6910_Assignment1/sweeps/gb9w2qt6' target=\"_blank\">https://wandb.ai/cs22m083/CS6910_Assignment1/sweeps/gb9w2qt6</a>"
      ],
      "text/plain": [
       "<IPython.core.display.HTML object>"
      ]
     },
     "metadata": {},
     "output_type": "display_data"
    },
    {
     "data": {
      "text/html": [
       " View run at <a href='https://wandb.ai/cs22m083/CS6910_Assignment1/runs/fehllvvl' target=\"_blank\">https://wandb.ai/cs22m083/CS6910_Assignment1/runs/fehllvvl</a>"
      ],
      "text/plain": [
       "<IPython.core.display.HTML object>"
      ]
     },
     "metadata": {},
     "output_type": "display_data"
    },
    {
     "name": "stdout",
     "output_type": "stream",
     "text": [
      " Training Loss:  1.583329344909831  Validation Loss: 1.5654530432693405  Training Accuracy:  0.49133333333333334  Validation Accuracy: 0.5039\n"
     ]
    },
    {
     "data": {
      "text/html": [
       "Waiting for W&B process to finish... <strong style=\"color:green\">(success).</strong>"
      ],
      "text/plain": [
       "<IPython.core.display.HTML object>"
      ]
     },
     "metadata": {},
     "output_type": "display_data"
    },
    {
     "data": {
      "text/html": [
       "<style>\n",
       "    table.wandb td:nth-child(1) { padding: 0 10px; text-align: left ; width: auto;} td:nth-child(2) {text-align: left ; width: 100%}\n",
       "    .wandb-row { display: flex; flex-direction: row; flex-wrap: wrap; justify-content: flex-start; width: 100% }\n",
       "    .wandb-col { display: flex; flex-direction: column; flex-basis: 100%; flex: 1; padding: 10px; }\n",
       "    </style>\n",
       "<div class=\"wandb-row\"><div class=\"wandb-col\"><h3>Run history:</h3><br/><table class=\"wandb\"><tr><td>Accuracy</td><td>▁</td></tr><tr><td>Epoch</td><td>▁▂▃▃▄▅▆▆▇█</td></tr><tr><td>Training_accuracy</td><td>▁▆█▇▆▆▆▇▇█</td></tr><tr><td>Training_loss</td><td>█▇▇▆▄▃▂▂▁▁</td></tr><tr><td>Validation_accuracy</td><td>▁██▃▁▂▃▄▅▇</td></tr><tr><td>Validation_loss</td><td>█▇▇▅▄▃▂▂▁▁</td></tr></table><br/></div><div class=\"wandb-col\"><h3>Run summary:</h3><br/><table class=\"wandb\"><tr><td>Accuracy</td><td>0.5039</td></tr><tr><td>Epoch</td><td>10</td></tr><tr><td>Training_accuracy</td><td>0.49133</td></tr><tr><td>Training_loss</td><td>1.58333</td></tr><tr><td>Validation_accuracy</td><td>0.5039</td></tr><tr><td>Validation_loss</td><td>1.56545</td></tr></table><br/></div></div>"
      ],
      "text/plain": [
       "<IPython.core.display.HTML object>"
      ]
     },
     "metadata": {},
     "output_type": "display_data"
    },
    {
     "data": {
      "text/html": [
       " View run <strong style=\"color:#cdcd00\">Question:4</strong> at: <a href='https://wandb.ai/cs22m083/CS6910_Assignment1/runs/fehllvvl' target=\"_blank\">https://wandb.ai/cs22m083/CS6910_Assignment1/runs/fehllvvl</a><br/>Synced 6 W&B file(s), 0 media file(s), 0 artifact file(s) and 0 other file(s)"
      ],
      "text/plain": [
       "<IPython.core.display.HTML object>"
      ]
     },
     "metadata": {},
     "output_type": "display_data"
    },
    {
     "data": {
      "text/html": [
       "Find logs at: <code>.\\wandb\\run-20230318_141056-fehllvvl\\logs</code>"
      ],
      "text/plain": [
       "<IPython.core.display.HTML object>"
      ]
     },
     "metadata": {},
     "output_type": "display_data"
    },
    {
     "name": "stderr",
     "output_type": "stream",
     "text": [
      "\u001b[34m\u001b[1mwandb\u001b[0m: Agent Starting Run: zagpgnqq with config:\n",
      "\u001b[34m\u001b[1mwandb\u001b[0m: \tactivation: tanh\n",
      "\u001b[34m\u001b[1mwandb\u001b[0m: \tbatch_size: 64\n",
      "\u001b[34m\u001b[1mwandb\u001b[0m: \tepochs: 10\n",
      "\u001b[34m\u001b[1mwandb\u001b[0m: \tgamma: 0.0006\n",
      "\u001b[34m\u001b[1mwandb\u001b[0m: \thidden_layers: [32, 64, 128]\n",
      "\u001b[34m\u001b[1mwandb\u001b[0m: \tinitialization: Xavier\n",
      "\u001b[34m\u001b[1mwandb\u001b[0m: \tlearning_rate: 0.005\n",
      "\u001b[34m\u001b[1mwandb\u001b[0m: \toptimizer: sgd\n",
      "\u001b[34m\u001b[1mwandb\u001b[0m: \tweight_decay: 0.5\n",
      "Failed to detect the name of this notebook, you can set it manually with the WANDB_NOTEBOOK_NAME environment variable to enable code saving.\n",
      "\u001b[34m\u001b[1mwandb\u001b[0m: \u001b[33mWARNING\u001b[0m Ignored wandb.init() arg project when running a sweep.\n"
     ]
    },
    {
     "data": {
      "text/html": [
       "wandb version 0.14.0 is available!  To upgrade, please run:\n",
       " $ pip install wandb --upgrade"
      ],
      "text/plain": [
       "<IPython.core.display.HTML object>"
      ]
     },
     "metadata": {},
     "output_type": "display_data"
    },
    {
     "data": {
      "text/html": [
       "Tracking run with wandb version 0.13.10"
      ],
      "text/plain": [
       "<IPython.core.display.HTML object>"
      ]
     },
     "metadata": {},
     "output_type": "display_data"
    },
    {
     "data": {
      "text/html": [
       "Run data is saved locally in <code>C:\\Users\\Shivam Maurya\\OneDrive\\Desktop\\IIT_MADRAS\\Deep Learning\\assignment 1\\CS6910-Deep_Learning_Assignment-1\\wandb\\run-20230318_141403-zagpgnqq</code>"
      ],
      "text/plain": [
       "<IPython.core.display.HTML object>"
      ]
     },
     "metadata": {},
     "output_type": "display_data"
    },
    {
     "data": {
      "text/html": [
       "Syncing run <strong><a href='https://wandb.ai/cs22m083/CS6910_Assignment1/runs/zagpgnqq' target=\"_blank\">Question:4</a></strong> to <a href='https://wandb.ai/cs22m083/CS6910_Assignment1' target=\"_blank\">Weights & Biases</a> (<a href='https://wandb.me/run' target=\"_blank\">docs</a>)<br/>Sweep page: <a href='https://wandb.ai/cs22m083/CS6910_Assignment1/sweeps/gb9w2qt6' target=\"_blank\">https://wandb.ai/cs22m083/CS6910_Assignment1/sweeps/gb9w2qt6</a>"
      ],
      "text/plain": [
       "<IPython.core.display.HTML object>"
      ]
     },
     "metadata": {},
     "output_type": "display_data"
    },
    {
     "data": {
      "text/html": [
       " View project at <a href='https://wandb.ai/cs22m083/CS6910_Assignment1' target=\"_blank\">https://wandb.ai/cs22m083/CS6910_Assignment1</a>"
      ],
      "text/plain": [
       "<IPython.core.display.HTML object>"
      ]
     },
     "metadata": {},
     "output_type": "display_data"
    },
    {
     "data": {
      "text/html": [
       " View sweep at <a href='https://wandb.ai/cs22m083/CS6910_Assignment1/sweeps/gb9w2qt6' target=\"_blank\">https://wandb.ai/cs22m083/CS6910_Assignment1/sweeps/gb9w2qt6</a>"
      ],
      "text/plain": [
       "<IPython.core.display.HTML object>"
      ]
     },
     "metadata": {},
     "output_type": "display_data"
    },
    {
     "data": {
      "text/html": [
       " View run at <a href='https://wandb.ai/cs22m083/CS6910_Assignment1/runs/zagpgnqq' target=\"_blank\">https://wandb.ai/cs22m083/CS6910_Assignment1/runs/zagpgnqq</a>"
      ],
      "text/plain": [
       "<IPython.core.display.HTML object>"
      ]
     },
     "metadata": {},
     "output_type": "display_data"
    },
    {
     "name": "stdout",
     "output_type": "stream",
     "text": [
      " Training Loss:  0.5789355184547887  Validation Loss: 0.5401023677922294  Training Accuracy:  0.79115  Validation Accuracy: 0.8098\n"
     ]
    },
    {
     "data": {
      "text/html": [
       "Waiting for W&B process to finish... <strong style=\"color:green\">(success).</strong>"
      ],
      "text/plain": [
       "<IPython.core.display.HTML object>"
      ]
     },
     "metadata": {},
     "output_type": "display_data"
    },
    {
     "data": {
      "text/html": [
       "<style>\n",
       "    table.wandb td:nth-child(1) { padding: 0 10px; text-align: left ; width: auto;} td:nth-child(2) {text-align: left ; width: 100%}\n",
       "    .wandb-row { display: flex; flex-direction: row; flex-wrap: wrap; justify-content: flex-start; width: 100% }\n",
       "    .wandb-col { display: flex; flex-direction: column; flex-basis: 100%; flex: 1; padding: 10px; }\n",
       "    </style>\n",
       "<div class=\"wandb-row\"><div class=\"wandb-col\"><h3>Run history:</h3><br/><table class=\"wandb\"><tr><td>Accuracy</td><td>▁</td></tr><tr><td>Epoch</td><td>▁▂▃▃▄▅▆▆▇█</td></tr><tr><td>Training_accuracy</td><td>▁▇▇███████</td></tr><tr><td>Training_loss</td><td>█▂▁▁▁▁▁▁▁▁</td></tr><tr><td>Validation_accuracy</td><td>▁▆▇█▇▆▇▆▅▅</td></tr><tr><td>Validation_loss</td><td>█▂▂▁▁▂▂▂▂▃</td></tr></table><br/></div><div class=\"wandb-col\"><h3>Run summary:</h3><br/><table class=\"wandb\"><tr><td>Accuracy</td><td>0.8098</td></tr><tr><td>Epoch</td><td>10</td></tr><tr><td>Training_accuracy</td><td>0.79115</td></tr><tr><td>Training_loss</td><td>0.57894</td></tr><tr><td>Validation_accuracy</td><td>0.8098</td></tr><tr><td>Validation_loss</td><td>0.5401</td></tr></table><br/></div></div>"
      ],
      "text/plain": [
       "<IPython.core.display.HTML object>"
      ]
     },
     "metadata": {},
     "output_type": "display_data"
    },
    {
     "data": {
      "text/html": [
       " View run <strong style=\"color:#cdcd00\">Question:4</strong> at: <a href='https://wandb.ai/cs22m083/CS6910_Assignment1/runs/zagpgnqq' target=\"_blank\">https://wandb.ai/cs22m083/CS6910_Assignment1/runs/zagpgnqq</a><br/>Synced 6 W&B file(s), 0 media file(s), 0 artifact file(s) and 0 other file(s)"
      ],
      "text/plain": [
       "<IPython.core.display.HTML object>"
      ]
     },
     "metadata": {},
     "output_type": "display_data"
    },
    {
     "data": {
      "text/html": [
       "Find logs at: <code>.\\wandb\\run-20230318_141403-zagpgnqq\\logs</code>"
      ],
      "text/plain": [
       "<IPython.core.display.HTML object>"
      ]
     },
     "metadata": {},
     "output_type": "display_data"
    },
    {
     "name": "stderr",
     "output_type": "stream",
     "text": [
      "\u001b[34m\u001b[1mwandb\u001b[0m: Agent Starting Run: edpil8rs with config:\n",
      "\u001b[34m\u001b[1mwandb\u001b[0m: \tactivation: tanh\n",
      "\u001b[34m\u001b[1mwandb\u001b[0m: \tbatch_size: 64\n",
      "\u001b[34m\u001b[1mwandb\u001b[0m: \tepochs: 10\n",
      "\u001b[34m\u001b[1mwandb\u001b[0m: \tgamma: 0.03\n",
      "\u001b[34m\u001b[1mwandb\u001b[0m: \thidden_layers: [32, 64]\n",
      "\u001b[34m\u001b[1mwandb\u001b[0m: \tinitialization: Random\n",
      "\u001b[34m\u001b[1mwandb\u001b[0m: \tlearning_rate: 0.0005\n",
      "\u001b[34m\u001b[1mwandb\u001b[0m: \toptimizer: nadam\n",
      "\u001b[34m\u001b[1mwandb\u001b[0m: \tweight_decay: 0\n",
      "Failed to detect the name of this notebook, you can set it manually with the WANDB_NOTEBOOK_NAME environment variable to enable code saving.\n",
      "\u001b[34m\u001b[1mwandb\u001b[0m: \u001b[33mWARNING\u001b[0m Ignored wandb.init() arg project when running a sweep.\n"
     ]
    },
    {
     "data": {
      "text/html": [
       "wandb version 0.14.0 is available!  To upgrade, please run:\n",
       " $ pip install wandb --upgrade"
      ],
      "text/plain": [
       "<IPython.core.display.HTML object>"
      ]
     },
     "metadata": {},
     "output_type": "display_data"
    },
    {
     "data": {
      "text/html": [
       "Tracking run with wandb version 0.13.10"
      ],
      "text/plain": [
       "<IPython.core.display.HTML object>"
      ]
     },
     "metadata": {},
     "output_type": "display_data"
    },
    {
     "data": {
      "text/html": [
       "Run data is saved locally in <code>C:\\Users\\Shivam Maurya\\OneDrive\\Desktop\\IIT_MADRAS\\Deep Learning\\assignment 1\\CS6910-Deep_Learning_Assignment-1\\wandb\\run-20230318_141747-edpil8rs</code>"
      ],
      "text/plain": [
       "<IPython.core.display.HTML object>"
      ]
     },
     "metadata": {},
     "output_type": "display_data"
    },
    {
     "data": {
      "text/html": [
       "Syncing run <strong><a href='https://wandb.ai/cs22m083/CS6910_Assignment1/runs/edpil8rs' target=\"_blank\">Question:4</a></strong> to <a href='https://wandb.ai/cs22m083/CS6910_Assignment1' target=\"_blank\">Weights & Biases</a> (<a href='https://wandb.me/run' target=\"_blank\">docs</a>)<br/>Sweep page: <a href='https://wandb.ai/cs22m083/CS6910_Assignment1/sweeps/gb9w2qt6' target=\"_blank\">https://wandb.ai/cs22m083/CS6910_Assignment1/sweeps/gb9w2qt6</a>"
      ],
      "text/plain": [
       "<IPython.core.display.HTML object>"
      ]
     },
     "metadata": {},
     "output_type": "display_data"
    },
    {
     "data": {
      "text/html": [
       " View project at <a href='https://wandb.ai/cs22m083/CS6910_Assignment1' target=\"_blank\">https://wandb.ai/cs22m083/CS6910_Assignment1</a>"
      ],
      "text/plain": [
       "<IPython.core.display.HTML object>"
      ]
     },
     "metadata": {},
     "output_type": "display_data"
    },
    {
     "data": {
      "text/html": [
       " View sweep at <a href='https://wandb.ai/cs22m083/CS6910_Assignment1/sweeps/gb9w2qt6' target=\"_blank\">https://wandb.ai/cs22m083/CS6910_Assignment1/sweeps/gb9w2qt6</a>"
      ],
      "text/plain": [
       "<IPython.core.display.HTML object>"
      ]
     },
     "metadata": {},
     "output_type": "display_data"
    },
    {
     "data": {
      "text/html": [
       " View run at <a href='https://wandb.ai/cs22m083/CS6910_Assignment1/runs/edpil8rs' target=\"_blank\">https://wandb.ai/cs22m083/CS6910_Assignment1/runs/edpil8rs</a>"
      ],
      "text/plain": [
       "<IPython.core.display.HTML object>"
      ]
     },
     "metadata": {},
     "output_type": "display_data"
    },
    {
     "name": "stdout",
     "output_type": "stream",
     "text": [
      " Training Loss:  0.7208128115854421  Validation Loss: 0.7579624645684971  Training Accuracy:  0.70495  Validation Accuracy: 0.698\n"
     ]
    },
    {
     "data": {
      "text/html": [
       "Waiting for W&B process to finish... <strong style=\"color:green\">(success).</strong>"
      ],
      "text/plain": [
       "<IPython.core.display.HTML object>"
      ]
     },
     "metadata": {},
     "output_type": "display_data"
    },
    {
     "data": {
      "application/vnd.jupyter.widget-view+json": {
       "model_id": "0c49ea22ef8845a2840b700039c4f353",
       "version_major": 2,
       "version_minor": 0
      },
      "text/plain": [
       "VBox(children=(Label(value='0.001 MB of 0.001 MB uploaded (0.000 MB deduped)\\r'), FloatProgress(value=1.0, max…"
      ]
     },
     "metadata": {},
     "output_type": "display_data"
    },
    {
     "data": {
      "text/html": [
       "<style>\n",
       "    table.wandb td:nth-child(1) { padding: 0 10px; text-align: left ; width: auto;} td:nth-child(2) {text-align: left ; width: 100%}\n",
       "    .wandb-row { display: flex; flex-direction: row; flex-wrap: wrap; justify-content: flex-start; width: 100% }\n",
       "    .wandb-col { display: flex; flex-direction: column; flex-basis: 100%; flex: 1; padding: 10px; }\n",
       "    </style>\n",
       "<div class=\"wandb-row\"><div class=\"wandb-col\"><h3>Run history:</h3><br/><table class=\"wandb\"><tr><td>Accuracy</td><td>▁</td></tr><tr><td>Epoch</td><td>▁▂▃▃▄▅▆▆▇█</td></tr><tr><td>Training_accuracy</td><td>▁▅▆▆▇▇▇███</td></tr><tr><td>Training_loss</td><td>█▃▂▂▁▁▁▁▁▁</td></tr><tr><td>Validation_accuracy</td><td>▁▄▅▆▇▇▇███</td></tr><tr><td>Validation_loss</td><td>█▄▃▃▂▂▁▁▁▁</td></tr></table><br/></div><div class=\"wandb-col\"><h3>Run summary:</h3><br/><table class=\"wandb\"><tr><td>Accuracy</td><td>0.698</td></tr><tr><td>Epoch</td><td>10</td></tr><tr><td>Training_accuracy</td><td>0.70495</td></tr><tr><td>Training_loss</td><td>0.72081</td></tr><tr><td>Validation_accuracy</td><td>0.698</td></tr><tr><td>Validation_loss</td><td>0.75796</td></tr></table><br/></div></div>"
      ],
      "text/plain": [
       "<IPython.core.display.HTML object>"
      ]
     },
     "metadata": {},
     "output_type": "display_data"
    },
    {
     "data": {
      "text/html": [
       " View run <strong style=\"color:#cdcd00\">Question:4</strong> at: <a href='https://wandb.ai/cs22m083/CS6910_Assignment1/runs/edpil8rs' target=\"_blank\">https://wandb.ai/cs22m083/CS6910_Assignment1/runs/edpil8rs</a><br/>Synced 6 W&B file(s), 0 media file(s), 0 artifact file(s) and 0 other file(s)"
      ],
      "text/plain": [
       "<IPython.core.display.HTML object>"
      ]
     },
     "metadata": {},
     "output_type": "display_data"
    },
    {
     "data": {
      "text/html": [
       "Find logs at: <code>.\\wandb\\run-20230318_141747-edpil8rs\\logs</code>"
      ],
      "text/plain": [
       "<IPython.core.display.HTML object>"
      ]
     },
     "metadata": {},
     "output_type": "display_data"
    },
    {
     "name": "stderr",
     "output_type": "stream",
     "text": [
      "\u001b[34m\u001b[1mwandb\u001b[0m: Agent Starting Run: n6hb66dc with config:\n",
      "\u001b[34m\u001b[1mwandb\u001b[0m: \tactivation: tanh\n",
      "\u001b[34m\u001b[1mwandb\u001b[0m: \tbatch_size: 32\n",
      "\u001b[34m\u001b[1mwandb\u001b[0m: \tepochs: 10\n",
      "\u001b[34m\u001b[1mwandb\u001b[0m: \tgamma: 0.03\n",
      "\u001b[34m\u001b[1mwandb\u001b[0m: \thidden_layers: [32, 64, 128, 256]\n",
      "\u001b[34m\u001b[1mwandb\u001b[0m: \tinitialization: Xavier\n",
      "\u001b[34m\u001b[1mwandb\u001b[0m: \tlearning_rate: 0.005\n",
      "\u001b[34m\u001b[1mwandb\u001b[0m: \toptimizer: rmsprop\n",
      "\u001b[34m\u001b[1mwandb\u001b[0m: \tweight_decay: 0\n",
      "Failed to detect the name of this notebook, you can set it manually with the WANDB_NOTEBOOK_NAME environment variable to enable code saving.\n",
      "\u001b[34m\u001b[1mwandb\u001b[0m: \u001b[33mWARNING\u001b[0m Ignored wandb.init() arg project when running a sweep.\n"
     ]
    },
    {
     "data": {
      "text/html": [
       "wandb version 0.14.0 is available!  To upgrade, please run:\n",
       " $ pip install wandb --upgrade"
      ],
      "text/plain": [
       "<IPython.core.display.HTML object>"
      ]
     },
     "metadata": {},
     "output_type": "display_data"
    },
    {
     "data": {
      "text/html": [
       "Tracking run with wandb version 0.13.10"
      ],
      "text/plain": [
       "<IPython.core.display.HTML object>"
      ]
     },
     "metadata": {},
     "output_type": "display_data"
    },
    {
     "data": {
      "text/html": [
       "Run data is saved locally in <code>C:\\Users\\Shivam Maurya\\OneDrive\\Desktop\\IIT_MADRAS\\Deep Learning\\assignment 1\\CS6910-Deep_Learning_Assignment-1\\wandb\\run-20230318_142054-n6hb66dc</code>"
      ],
      "text/plain": [
       "<IPython.core.display.HTML object>"
      ]
     },
     "metadata": {},
     "output_type": "display_data"
    },
    {
     "data": {
      "text/html": [
       "Syncing run <strong><a href='https://wandb.ai/cs22m083/CS6910_Assignment1/runs/n6hb66dc' target=\"_blank\">Question:4</a></strong> to <a href='https://wandb.ai/cs22m083/CS6910_Assignment1' target=\"_blank\">Weights & Biases</a> (<a href='https://wandb.me/run' target=\"_blank\">docs</a>)<br/>Sweep page: <a href='https://wandb.ai/cs22m083/CS6910_Assignment1/sweeps/gb9w2qt6' target=\"_blank\">https://wandb.ai/cs22m083/CS6910_Assignment1/sweeps/gb9w2qt6</a>"
      ],
      "text/plain": [
       "<IPython.core.display.HTML object>"
      ]
     },
     "metadata": {},
     "output_type": "display_data"
    },
    {
     "data": {
      "text/html": [
       " View project at <a href='https://wandb.ai/cs22m083/CS6910_Assignment1' target=\"_blank\">https://wandb.ai/cs22m083/CS6910_Assignment1</a>"
      ],
      "text/plain": [
       "<IPython.core.display.HTML object>"
      ]
     },
     "metadata": {},
     "output_type": "display_data"
    },
    {
     "data": {
      "text/html": [
       " View sweep at <a href='https://wandb.ai/cs22m083/CS6910_Assignment1/sweeps/gb9w2qt6' target=\"_blank\">https://wandb.ai/cs22m083/CS6910_Assignment1/sweeps/gb9w2qt6</a>"
      ],
      "text/plain": [
       "<IPython.core.display.HTML object>"
      ]
     },
     "metadata": {},
     "output_type": "display_data"
    },
    {
     "data": {
      "text/html": [
       " View run at <a href='https://wandb.ai/cs22m083/CS6910_Assignment1/runs/n6hb66dc' target=\"_blank\">https://wandb.ai/cs22m083/CS6910_Assignment1/runs/n6hb66dc</a>"
      ],
      "text/plain": [
       "<IPython.core.display.HTML object>"
      ]
     },
     "metadata": {},
     "output_type": "display_data"
    },
    {
     "name": "stdout",
     "output_type": "stream",
     "text": [
      " Training Loss:  0.6240182077112013  Validation Loss: 0.7411922431423975  Training Accuracy:  0.8271  Validation Accuracy: 0.8053\n"
     ]
    },
    {
     "data": {
      "text/html": [
       "Waiting for W&B process to finish... <strong style=\"color:green\">(success).</strong>"
      ],
      "text/plain": [
       "<IPython.core.display.HTML object>"
      ]
     },
     "metadata": {},
     "output_type": "display_data"
    },
    {
     "data": {
      "application/vnd.jupyter.widget-view+json": {
       "model_id": "1b01c1ef6cf2433e88aea20049449a3f",
       "version_major": 2,
       "version_minor": 0
      },
      "text/plain": [
       "VBox(children=(Label(value='0.001 MB of 0.001 MB uploaded (0.000 MB deduped)\\r'), FloatProgress(value=1.0, max…"
      ]
     },
     "metadata": {},
     "output_type": "display_data"
    },
    {
     "data": {
      "text/html": [
       "<style>\n",
       "    table.wandb td:nth-child(1) { padding: 0 10px; text-align: left ; width: auto;} td:nth-child(2) {text-align: left ; width: 100%}\n",
       "    .wandb-row { display: flex; flex-direction: row; flex-wrap: wrap; justify-content: flex-start; width: 100% }\n",
       "    .wandb-col { display: flex; flex-direction: column; flex-basis: 100%; flex: 1; padding: 10px; }\n",
       "    </style>\n",
       "<div class=\"wandb-row\"><div class=\"wandb-col\"><h3>Run history:</h3><br/><table class=\"wandb\"><tr><td>Accuracy</td><td>▁</td></tr><tr><td>Epoch</td><td>▁▂▃▃▄▅▆▆▇█</td></tr><tr><td>Training_accuracy</td><td>▁▆▇▇██████</td></tr><tr><td>Training_loss</td><td>█▂▁▁▁▁▁▁▂▂</td></tr><tr><td>Validation_accuracy</td><td>▁▁▇█▃▄▇█▆▂</td></tr><tr><td>Validation_loss</td><td>▃▅▁▃█▅▅▃▆▇</td></tr></table><br/></div><div class=\"wandb-col\"><h3>Run summary:</h3><br/><table class=\"wandb\"><tr><td>Accuracy</td><td>0.8053</td></tr><tr><td>Epoch</td><td>10</td></tr><tr><td>Training_accuracy</td><td>0.8271</td></tr><tr><td>Training_loss</td><td>0.62402</td></tr><tr><td>Validation_accuracy</td><td>0.8053</td></tr><tr><td>Validation_loss</td><td>0.74119</td></tr></table><br/></div></div>"
      ],
      "text/plain": [
       "<IPython.core.display.HTML object>"
      ]
     },
     "metadata": {},
     "output_type": "display_data"
    },
    {
     "data": {
      "text/html": [
       " View run <strong style=\"color:#cdcd00\">Question:4</strong> at: <a href='https://wandb.ai/cs22m083/CS6910_Assignment1/runs/n6hb66dc' target=\"_blank\">https://wandb.ai/cs22m083/CS6910_Assignment1/runs/n6hb66dc</a><br/>Synced 6 W&B file(s), 0 media file(s), 0 artifact file(s) and 0 other file(s)"
      ],
      "text/plain": [
       "<IPython.core.display.HTML object>"
      ]
     },
     "metadata": {},
     "output_type": "display_data"
    },
    {
     "data": {
      "text/html": [
       "Find logs at: <code>.\\wandb\\run-20230318_142054-n6hb66dc\\logs</code>"
      ],
      "text/plain": [
       "<IPython.core.display.HTML object>"
      ]
     },
     "metadata": {},
     "output_type": "display_data"
    },
    {
     "name": "stderr",
     "output_type": "stream",
     "text": [
      "\u001b[34m\u001b[1mwandb\u001b[0m: Agent Starting Run: wz9r7hjm with config:\n",
      "\u001b[34m\u001b[1mwandb\u001b[0m: \tactivation: relu\n",
      "\u001b[34m\u001b[1mwandb\u001b[0m: \tbatch_size: 32\n",
      "\u001b[34m\u001b[1mwandb\u001b[0m: \tepochs: 10\n",
      "\u001b[34m\u001b[1mwandb\u001b[0m: \tgamma: 0.002\n",
      "\u001b[34m\u001b[1mwandb\u001b[0m: \thidden_layers: [32, 64]\n",
      "\u001b[34m\u001b[1mwandb\u001b[0m: \tinitialization: Random\n",
      "\u001b[34m\u001b[1mwandb\u001b[0m: \tlearning_rate: 0.0001\n",
      "\u001b[34m\u001b[1mwandb\u001b[0m: \toptimizer: sgd\n",
      "\u001b[34m\u001b[1mwandb\u001b[0m: \tweight_decay: 0\n",
      "Failed to detect the name of this notebook, you can set it manually with the WANDB_NOTEBOOK_NAME environment variable to enable code saving.\n",
      "\u001b[34m\u001b[1mwandb\u001b[0m: \u001b[33mWARNING\u001b[0m Ignored wandb.init() arg project when running a sweep.\n"
     ]
    },
    {
     "data": {
      "text/html": [
       "wandb version 0.14.0 is available!  To upgrade, please run:\n",
       " $ pip install wandb --upgrade"
      ],
      "text/plain": [
       "<IPython.core.display.HTML object>"
      ]
     },
     "metadata": {},
     "output_type": "display_data"
    },
    {
     "data": {
      "text/html": [
       "Tracking run with wandb version 0.13.10"
      ],
      "text/plain": [
       "<IPython.core.display.HTML object>"
      ]
     },
     "metadata": {},
     "output_type": "display_data"
    },
    {
     "data": {
      "text/html": [
       "Run data is saved locally in <code>C:\\Users\\Shivam Maurya\\OneDrive\\Desktop\\IIT_MADRAS\\Deep Learning\\assignment 1\\CS6910-Deep_Learning_Assignment-1\\wandb\\run-20230318_142733-wz9r7hjm</code>"
      ],
      "text/plain": [
       "<IPython.core.display.HTML object>"
      ]
     },
     "metadata": {},
     "output_type": "display_data"
    },
    {
     "data": {
      "text/html": [
       "Syncing run <strong><a href='https://wandb.ai/cs22m083/CS6910_Assignment1/runs/wz9r7hjm' target=\"_blank\">Question:4</a></strong> to <a href='https://wandb.ai/cs22m083/CS6910_Assignment1' target=\"_blank\">Weights & Biases</a> (<a href='https://wandb.me/run' target=\"_blank\">docs</a>)<br/>Sweep page: <a href='https://wandb.ai/cs22m083/CS6910_Assignment1/sweeps/gb9w2qt6' target=\"_blank\">https://wandb.ai/cs22m083/CS6910_Assignment1/sweeps/gb9w2qt6</a>"
      ],
      "text/plain": [
       "<IPython.core.display.HTML object>"
      ]
     },
     "metadata": {},
     "output_type": "display_data"
    },
    {
     "data": {
      "text/html": [
       " View project at <a href='https://wandb.ai/cs22m083/CS6910_Assignment1' target=\"_blank\">https://wandb.ai/cs22m083/CS6910_Assignment1</a>"
      ],
      "text/plain": [
       "<IPython.core.display.HTML object>"
      ]
     },
     "metadata": {},
     "output_type": "display_data"
    },
    {
     "data": {
      "text/html": [
       " View sweep at <a href='https://wandb.ai/cs22m083/CS6910_Assignment1/sweeps/gb9w2qt6' target=\"_blank\">https://wandb.ai/cs22m083/CS6910_Assignment1/sweeps/gb9w2qt6</a>"
      ],
      "text/plain": [
       "<IPython.core.display.HTML object>"
      ]
     },
     "metadata": {},
     "output_type": "display_data"
    },
    {
     "data": {
      "text/html": [
       " View run at <a href='https://wandb.ai/cs22m083/CS6910_Assignment1/runs/wz9r7hjm' target=\"_blank\">https://wandb.ai/cs22m083/CS6910_Assignment1/runs/wz9r7hjm</a>"
      ],
      "text/plain": [
       "<IPython.core.display.HTML object>"
      ]
     },
     "metadata": {},
     "output_type": "display_data"
    },
    {
     "name": "stdout",
     "output_type": "stream",
     "text": [
      " Training Loss:  nan  Validation Loss: nan  Training Accuracy:  0.1  Validation Accuracy: 0.1\n"
     ]
    },
    {
     "data": {
      "text/html": [
       "Waiting for W&B process to finish... <strong style=\"color:green\">(success).</strong>"
      ],
      "text/plain": [
       "<IPython.core.display.HTML object>"
      ]
     },
     "metadata": {},
     "output_type": "display_data"
    },
    {
     "data": {
      "application/vnd.jupyter.widget-view+json": {
       "model_id": "b7ba9fffd152436d894571880d8f56a0",
       "version_major": 2,
       "version_minor": 0
      },
      "text/plain": [
       "VBox(children=(Label(value='0.001 MB of 0.001 MB uploaded (0.000 MB deduped)\\r'), FloatProgress(value=1.0, max…"
      ]
     },
     "metadata": {},
     "output_type": "display_data"
    },
    {
     "data": {
      "text/html": [
       "<style>\n",
       "    table.wandb td:nth-child(1) { padding: 0 10px; text-align: left ; width: auto;} td:nth-child(2) {text-align: left ; width: 100%}\n",
       "    .wandb-row { display: flex; flex-direction: row; flex-wrap: wrap; justify-content: flex-start; width: 100% }\n",
       "    .wandb-col { display: flex; flex-direction: column; flex-basis: 100%; flex: 1; padding: 10px; }\n",
       "    </style>\n",
       "<div class=\"wandb-row\"><div class=\"wandb-col\"><h3>Run history:</h3><br/><table class=\"wandb\"><tr><td>Accuracy</td><td>▁</td></tr><tr><td>Epoch</td><td>▁▂▃▃▄▅▆▆▇█</td></tr><tr><td>Training_accuracy</td><td>▁█████████</td></tr><tr><td>Validation_accuracy</td><td>▁▁▁▁▁▁▁▁▁▁</td></tr></table><br/></div><div class=\"wandb-col\"><h3>Run summary:</h3><br/><table class=\"wandb\"><tr><td>Accuracy</td><td>0.1</td></tr><tr><td>Epoch</td><td>10</td></tr><tr><td>Training_accuracy</td><td>0.1</td></tr><tr><td>Training_loss</td><td>nan</td></tr><tr><td>Validation_accuracy</td><td>0.1</td></tr><tr><td>Validation_loss</td><td>nan</td></tr></table><br/></div></div>"
      ],
      "text/plain": [
       "<IPython.core.display.HTML object>"
      ]
     },
     "metadata": {},
     "output_type": "display_data"
    },
    {
     "data": {
      "text/html": [
       " View run <strong style=\"color:#cdcd00\">Question:4</strong> at: <a href='https://wandb.ai/cs22m083/CS6910_Assignment1/runs/wz9r7hjm' target=\"_blank\">https://wandb.ai/cs22m083/CS6910_Assignment1/runs/wz9r7hjm</a><br/>Synced 6 W&B file(s), 0 media file(s), 0 artifact file(s) and 0 other file(s)"
      ],
      "text/plain": [
       "<IPython.core.display.HTML object>"
      ]
     },
     "metadata": {},
     "output_type": "display_data"
    },
    {
     "data": {
      "text/html": [
       "Find logs at: <code>.\\wandb\\run-20230318_142733-wz9r7hjm\\logs</code>"
      ],
      "text/plain": [
       "<IPython.core.display.HTML object>"
      ]
     },
     "metadata": {},
     "output_type": "display_data"
    },
    {
     "name": "stderr",
     "output_type": "stream",
     "text": [
      "\u001b[34m\u001b[1mwandb\u001b[0m: Agent Starting Run: 71dg2rz8 with config:\n",
      "\u001b[34m\u001b[1mwandb\u001b[0m: \tactivation: sigmoid\n",
      "\u001b[34m\u001b[1mwandb\u001b[0m: \tbatch_size: 64\n",
      "\u001b[34m\u001b[1mwandb\u001b[0m: \tepochs: 10\n",
      "\u001b[34m\u001b[1mwandb\u001b[0m: \tgamma: 0.0006\n",
      "\u001b[34m\u001b[1mwandb\u001b[0m: \thidden_layers: [32, 64, 128]\n",
      "\u001b[34m\u001b[1mwandb\u001b[0m: \tinitialization: Random\n",
      "\u001b[34m\u001b[1mwandb\u001b[0m: \tlearning_rate: 0.0003\n",
      "\u001b[34m\u001b[1mwandb\u001b[0m: \toptimizer: rmsprop\n",
      "\u001b[34m\u001b[1mwandb\u001b[0m: \tweight_decay: 0\n",
      "Failed to detect the name of this notebook, you can set it manually with the WANDB_NOTEBOOK_NAME environment variable to enable code saving.\n",
      "\u001b[34m\u001b[1mwandb\u001b[0m: \u001b[33mWARNING\u001b[0m Ignored wandb.init() arg project when running a sweep.\n"
     ]
    },
    {
     "data": {
      "application/vnd.jupyter.widget-view+json": {
       "model_id": "3a2b8095c92e4e0a9f73eee776f465f2",
       "version_major": 2,
       "version_minor": 0
      },
      "text/plain": [
       "VBox(children=(Label(value='Waiting for wandb.init()...\\r'), FloatProgress(value=0.016916666666899498, max=1.0…"
      ]
     },
     "metadata": {},
     "output_type": "display_data"
    },
    {
     "data": {
      "text/html": [
       "wandb version 0.14.0 is available!  To upgrade, please run:\n",
       " $ pip install wandb --upgrade"
      ],
      "text/plain": [
       "<IPython.core.display.HTML object>"
      ]
     },
     "metadata": {},
     "output_type": "display_data"
    },
    {
     "data": {
      "text/html": [
       "Tracking run with wandb version 0.13.10"
      ],
      "text/plain": [
       "<IPython.core.display.HTML object>"
      ]
     },
     "metadata": {},
     "output_type": "display_data"
    },
    {
     "data": {
      "text/html": [
       "Run data is saved locally in <code>C:\\Users\\Shivam Maurya\\OneDrive\\Desktop\\IIT_MADRAS\\Deep Learning\\assignment 1\\CS6910-Deep_Learning_Assignment-1\\wandb\\run-20230318_143041-71dg2rz8</code>"
      ],
      "text/plain": [
       "<IPython.core.display.HTML object>"
      ]
     },
     "metadata": {},
     "output_type": "display_data"
    },
    {
     "data": {
      "text/html": [
       "Syncing run <strong><a href='https://wandb.ai/cs22m083/CS6910_Assignment1/runs/71dg2rz8' target=\"_blank\">Question:4</a></strong> to <a href='https://wandb.ai/cs22m083/CS6910_Assignment1' target=\"_blank\">Weights & Biases</a> (<a href='https://wandb.me/run' target=\"_blank\">docs</a>)<br/>Sweep page: <a href='https://wandb.ai/cs22m083/CS6910_Assignment1/sweeps/gb9w2qt6' target=\"_blank\">https://wandb.ai/cs22m083/CS6910_Assignment1/sweeps/gb9w2qt6</a>"
      ],
      "text/plain": [
       "<IPython.core.display.HTML object>"
      ]
     },
     "metadata": {},
     "output_type": "display_data"
    },
    {
     "data": {
      "text/html": [
       " View project at <a href='https://wandb.ai/cs22m083/CS6910_Assignment1' target=\"_blank\">https://wandb.ai/cs22m083/CS6910_Assignment1</a>"
      ],
      "text/plain": [
       "<IPython.core.display.HTML object>"
      ]
     },
     "metadata": {},
     "output_type": "display_data"
    },
    {
     "data": {
      "text/html": [
       " View sweep at <a href='https://wandb.ai/cs22m083/CS6910_Assignment1/sweeps/gb9w2qt6' target=\"_blank\">https://wandb.ai/cs22m083/CS6910_Assignment1/sweeps/gb9w2qt6</a>"
      ],
      "text/plain": [
       "<IPython.core.display.HTML object>"
      ]
     },
     "metadata": {},
     "output_type": "display_data"
    },
    {
     "data": {
      "text/html": [
       " View run at <a href='https://wandb.ai/cs22m083/CS6910_Assignment1/runs/71dg2rz8' target=\"_blank\">https://wandb.ai/cs22m083/CS6910_Assignment1/runs/71dg2rz8</a>"
      ],
      "text/plain": [
       "<IPython.core.display.HTML object>"
      ]
     },
     "metadata": {},
     "output_type": "display_data"
    },
    {
     "name": "stdout",
     "output_type": "stream",
     "text": [
      " Training Loss:  0.5449651666382341  Validation Loss: 0.5848727068105454  Training Accuracy:  0.8119166666666666  Validation Accuracy: 0.8003\n"
     ]
    },
    {
     "data": {
      "text/html": [
       "Waiting for W&B process to finish... <strong style=\"color:green\">(success).</strong>"
      ],
      "text/plain": [
       "<IPython.core.display.HTML object>"
      ]
     },
     "metadata": {},
     "output_type": "display_data"
    },
    {
     "data": {
      "text/html": [
       "<style>\n",
       "    table.wandb td:nth-child(1) { padding: 0 10px; text-align: left ; width: auto;} td:nth-child(2) {text-align: left ; width: 100%}\n",
       "    .wandb-row { display: flex; flex-direction: row; flex-wrap: wrap; justify-content: flex-start; width: 100% }\n",
       "    .wandb-col { display: flex; flex-direction: column; flex-basis: 100%; flex: 1; padding: 10px; }\n",
       "    </style>\n",
       "<div class=\"wandb-row\"><div class=\"wandb-col\"><h3>Run history:</h3><br/><table class=\"wandb\"><tr><td>Accuracy</td><td>▁</td></tr><tr><td>Epoch</td><td>▁▂▃▃▄▅▆▆▇█</td></tr><tr><td>Training_accuracy</td><td>▁▆▆▇▇▇████</td></tr><tr><td>Training_loss</td><td>█▂▂▂▁▁▁▁▁▁</td></tr><tr><td>Validation_accuracy</td><td>▁▄▅▆▇▇▇███</td></tr><tr><td>Validation_loss</td><td>█▅▄▃▂▂▁▁▁▁</td></tr></table><br/></div><div class=\"wandb-col\"><h3>Run summary:</h3><br/><table class=\"wandb\"><tr><td>Accuracy</td><td>0.8003</td></tr><tr><td>Epoch</td><td>10</td></tr><tr><td>Training_accuracy</td><td>0.81192</td></tr><tr><td>Training_loss</td><td>0.54497</td></tr><tr><td>Validation_accuracy</td><td>0.8003</td></tr><tr><td>Validation_loss</td><td>0.58487</td></tr></table><br/></div></div>"
      ],
      "text/plain": [
       "<IPython.core.display.HTML object>"
      ]
     },
     "metadata": {},
     "output_type": "display_data"
    },
    {
     "data": {
      "text/html": [
       " View run <strong style=\"color:#cdcd00\">Question:4</strong> at: <a href='https://wandb.ai/cs22m083/CS6910_Assignment1/runs/71dg2rz8' target=\"_blank\">https://wandb.ai/cs22m083/CS6910_Assignment1/runs/71dg2rz8</a><br/>Synced 6 W&B file(s), 0 media file(s), 0 artifact file(s) and 0 other file(s)"
      ],
      "text/plain": [
       "<IPython.core.display.HTML object>"
      ]
     },
     "metadata": {},
     "output_type": "display_data"
    },
    {
     "data": {
      "text/html": [
       "Find logs at: <code>.\\wandb\\run-20230318_143041-71dg2rz8\\logs</code>"
      ],
      "text/plain": [
       "<IPython.core.display.HTML object>"
      ]
     },
     "metadata": {},
     "output_type": "display_data"
    },
    {
     "name": "stderr",
     "output_type": "stream",
     "text": [
      "\u001b[34m\u001b[1mwandb\u001b[0m: Agent Starting Run: dae1fvs6 with config:\n",
      "\u001b[34m\u001b[1mwandb\u001b[0m: \tactivation: sigmoid\n",
      "\u001b[34m\u001b[1mwandb\u001b[0m: \tbatch_size: 16\n",
      "\u001b[34m\u001b[1mwandb\u001b[0m: \tepochs: 10\n",
      "\u001b[34m\u001b[1mwandb\u001b[0m: \tgamma: 0.03\n",
      "\u001b[34m\u001b[1mwandb\u001b[0m: \thidden_layers: [32, 64]\n",
      "\u001b[34m\u001b[1mwandb\u001b[0m: \tinitialization: Random\n",
      "\u001b[34m\u001b[1mwandb\u001b[0m: \tlearning_rate: 0.0006\n",
      "\u001b[34m\u001b[1mwandb\u001b[0m: \toptimizer: momentum\n",
      "\u001b[34m\u001b[1mwandb\u001b[0m: \tweight_decay: 0\n",
      "Failed to detect the name of this notebook, you can set it manually with the WANDB_NOTEBOOK_NAME environment variable to enable code saving.\n",
      "\u001b[34m\u001b[1mwandb\u001b[0m: \u001b[33mWARNING\u001b[0m Ignored wandb.init() arg project when running a sweep.\n"
     ]
    },
    {
     "data": {
      "text/html": [
       "wandb version 0.14.0 is available!  To upgrade, please run:\n",
       " $ pip install wandb --upgrade"
      ],
      "text/plain": [
       "<IPython.core.display.HTML object>"
      ]
     },
     "metadata": {},
     "output_type": "display_data"
    },
    {
     "data": {
      "text/html": [
       "Tracking run with wandb version 0.13.10"
      ],
      "text/plain": [
       "<IPython.core.display.HTML object>"
      ]
     },
     "metadata": {},
     "output_type": "display_data"
    },
    {
     "data": {
      "text/html": [
       "Run data is saved locally in <code>C:\\Users\\Shivam Maurya\\OneDrive\\Desktop\\IIT_MADRAS\\Deep Learning\\assignment 1\\CS6910-Deep_Learning_Assignment-1\\wandb\\run-20230318_143435-dae1fvs6</code>"
      ],
      "text/plain": [
       "<IPython.core.display.HTML object>"
      ]
     },
     "metadata": {},
     "output_type": "display_data"
    },
    {
     "data": {
      "text/html": [
       "Syncing run <strong><a href='https://wandb.ai/cs22m083/CS6910_Assignment1/runs/dae1fvs6' target=\"_blank\">Question:4</a></strong> to <a href='https://wandb.ai/cs22m083/CS6910_Assignment1' target=\"_blank\">Weights & Biases</a> (<a href='https://wandb.me/run' target=\"_blank\">docs</a>)<br/>Sweep page: <a href='https://wandb.ai/cs22m083/CS6910_Assignment1/sweeps/gb9w2qt6' target=\"_blank\">https://wandb.ai/cs22m083/CS6910_Assignment1/sweeps/gb9w2qt6</a>"
      ],
      "text/plain": [
       "<IPython.core.display.HTML object>"
      ]
     },
     "metadata": {},
     "output_type": "display_data"
    },
    {
     "data": {
      "text/html": [
       " View project at <a href='https://wandb.ai/cs22m083/CS6910_Assignment1' target=\"_blank\">https://wandb.ai/cs22m083/CS6910_Assignment1</a>"
      ],
      "text/plain": [
       "<IPython.core.display.HTML object>"
      ]
     },
     "metadata": {},
     "output_type": "display_data"
    },
    {
     "data": {
      "text/html": [
       " View sweep at <a href='https://wandb.ai/cs22m083/CS6910_Assignment1/sweeps/gb9w2qt6' target=\"_blank\">https://wandb.ai/cs22m083/CS6910_Assignment1/sweeps/gb9w2qt6</a>"
      ],
      "text/plain": [
       "<IPython.core.display.HTML object>"
      ]
     },
     "metadata": {},
     "output_type": "display_data"
    },
    {
     "data": {
      "text/html": [
       " View run at <a href='https://wandb.ai/cs22m083/CS6910_Assignment1/runs/dae1fvs6' target=\"_blank\">https://wandb.ai/cs22m083/CS6910_Assignment1/runs/dae1fvs6</a>"
      ],
      "text/plain": [
       "<IPython.core.display.HTML object>"
      ]
     },
     "metadata": {},
     "output_type": "display_data"
    },
    {
     "name": "stdout",
     "output_type": "stream",
     "text": [
      " Training Loss:  0.6596388408662923  Validation Loss: 0.6744857085278946  Training Accuracy:  0.75695  Validation Accuracy: 0.7538\n"
     ]
    },
    {
     "data": {
      "text/html": [
       "Waiting for W&B process to finish... <strong style=\"color:green\">(success).</strong>"
      ],
      "text/plain": [
       "<IPython.core.display.HTML object>"
      ]
     },
     "metadata": {},
     "output_type": "display_data"
    },
    {
     "data": {
      "text/html": [
       "<style>\n",
       "    table.wandb td:nth-child(1) { padding: 0 10px; text-align: left ; width: auto;} td:nth-child(2) {text-align: left ; width: 100%}\n",
       "    .wandb-row { display: flex; flex-direction: row; flex-wrap: wrap; justify-content: flex-start; width: 100% }\n",
       "    .wandb-col { display: flex; flex-direction: column; flex-basis: 100%; flex: 1; padding: 10px; }\n",
       "    </style>\n",
       "<div class=\"wandb-row\"><div class=\"wandb-col\"><h3>Run history:</h3><br/><table class=\"wandb\"><tr><td>Accuracy</td><td>▁</td></tr><tr><td>Epoch</td><td>▁▂▃▃▄▅▆▆▇█</td></tr><tr><td>Training_accuracy</td><td>▁▅▆▇▇▇████</td></tr><tr><td>Training_loss</td><td>█▄▃▂▂▂▁▁▁▁</td></tr><tr><td>Validation_accuracy</td><td>▁▄▅▆▆▇▇███</td></tr><tr><td>Validation_loss</td><td>█▅▄▃▃▂▂▁▁▁</td></tr></table><br/></div><div class=\"wandb-col\"><h3>Run summary:</h3><br/><table class=\"wandb\"><tr><td>Accuracy</td><td>0.7538</td></tr><tr><td>Epoch</td><td>10</td></tr><tr><td>Training_accuracy</td><td>0.75695</td></tr><tr><td>Training_loss</td><td>0.65964</td></tr><tr><td>Validation_accuracy</td><td>0.7538</td></tr><tr><td>Validation_loss</td><td>0.67449</td></tr></table><br/></div></div>"
      ],
      "text/plain": [
       "<IPython.core.display.HTML object>"
      ]
     },
     "metadata": {},
     "output_type": "display_data"
    },
    {
     "data": {
      "text/html": [
       " View run <strong style=\"color:#cdcd00\">Question:4</strong> at: <a href='https://wandb.ai/cs22m083/CS6910_Assignment1/runs/dae1fvs6' target=\"_blank\">https://wandb.ai/cs22m083/CS6910_Assignment1/runs/dae1fvs6</a><br/>Synced 6 W&B file(s), 0 media file(s), 0 artifact file(s) and 0 other file(s)"
      ],
      "text/plain": [
       "<IPython.core.display.HTML object>"
      ]
     },
     "metadata": {},
     "output_type": "display_data"
    },
    {
     "data": {
      "text/html": [
       "Find logs at: <code>.\\wandb\\run-20230318_143435-dae1fvs6\\logs</code>"
      ],
      "text/plain": [
       "<IPython.core.display.HTML object>"
      ]
     },
     "metadata": {},
     "output_type": "display_data"
    },
    {
     "name": "stderr",
     "output_type": "stream",
     "text": [
      "\u001b[34m\u001b[1mwandb\u001b[0m: Sweep Agent: Waiting for job.\n",
      "\u001b[34m\u001b[1mwandb\u001b[0m: Job received.\n",
      "\u001b[34m\u001b[1mwandb\u001b[0m: Agent Starting Run: 8zt2yy4d with config:\n",
      "\u001b[34m\u001b[1mwandb\u001b[0m: \tactivation: tanh\n",
      "\u001b[34m\u001b[1mwandb\u001b[0m: \tbatch_size: 16\n",
      "\u001b[34m\u001b[1mwandb\u001b[0m: \tepochs: 10\n",
      "\u001b[34m\u001b[1mwandb\u001b[0m: \tgamma: 0.002\n",
      "\u001b[34m\u001b[1mwandb\u001b[0m: \thidden_layers: [32, 64]\n",
      "\u001b[34m\u001b[1mwandb\u001b[0m: \tinitialization: Xavier\n",
      "\u001b[34m\u001b[1mwandb\u001b[0m: \tlearning_rate: 0.0001\n",
      "\u001b[34m\u001b[1mwandb\u001b[0m: \toptimizer: adam\n",
      "\u001b[34m\u001b[1mwandb\u001b[0m: \tweight_decay: 0\n",
      "Failed to detect the name of this notebook, you can set it manually with the WANDB_NOTEBOOK_NAME environment variable to enable code saving.\n",
      "\u001b[34m\u001b[1mwandb\u001b[0m: \u001b[33mWARNING\u001b[0m Ignored wandb.init() arg project when running a sweep.\n"
     ]
    },
    {
     "data": {
      "text/html": [
       "wandb version 0.14.0 is available!  To upgrade, please run:\n",
       " $ pip install wandb --upgrade"
      ],
      "text/plain": [
       "<IPython.core.display.HTML object>"
      ]
     },
     "metadata": {},
     "output_type": "display_data"
    },
    {
     "data": {
      "text/html": [
       "Tracking run with wandb version 0.13.10"
      ],
      "text/plain": [
       "<IPython.core.display.HTML object>"
      ]
     },
     "metadata": {},
     "output_type": "display_data"
    },
    {
     "data": {
      "text/html": [
       "Run data is saved locally in <code>C:\\Users\\Shivam Maurya\\OneDrive\\Desktop\\IIT_MADRAS\\Deep Learning\\assignment 1\\CS6910-Deep_Learning_Assignment-1\\wandb\\run-20230318_143756-8zt2yy4d</code>"
      ],
      "text/plain": [
       "<IPython.core.display.HTML object>"
      ]
     },
     "metadata": {},
     "output_type": "display_data"
    },
    {
     "data": {
      "text/html": [
       "Syncing run <strong><a href='https://wandb.ai/cs22m083/CS6910_Assignment1/runs/8zt2yy4d' target=\"_blank\">Question:4</a></strong> to <a href='https://wandb.ai/cs22m083/CS6910_Assignment1' target=\"_blank\">Weights & Biases</a> (<a href='https://wandb.me/run' target=\"_blank\">docs</a>)<br/>Sweep page: <a href='https://wandb.ai/cs22m083/CS6910_Assignment1/sweeps/gb9w2qt6' target=\"_blank\">https://wandb.ai/cs22m083/CS6910_Assignment1/sweeps/gb9w2qt6</a>"
      ],
      "text/plain": [
       "<IPython.core.display.HTML object>"
      ]
     },
     "metadata": {},
     "output_type": "display_data"
    },
    {
     "data": {
      "text/html": [
       " View project at <a href='https://wandb.ai/cs22m083/CS6910_Assignment1' target=\"_blank\">https://wandb.ai/cs22m083/CS6910_Assignment1</a>"
      ],
      "text/plain": [
       "<IPython.core.display.HTML object>"
      ]
     },
     "metadata": {},
     "output_type": "display_data"
    },
    {
     "data": {
      "text/html": [
       " View sweep at <a href='https://wandb.ai/cs22m083/CS6910_Assignment1/sweeps/gb9w2qt6' target=\"_blank\">https://wandb.ai/cs22m083/CS6910_Assignment1/sweeps/gb9w2qt6</a>"
      ],
      "text/plain": [
       "<IPython.core.display.HTML object>"
      ]
     },
     "metadata": {},
     "output_type": "display_data"
    },
    {
     "data": {
      "text/html": [
       " View run at <a href='https://wandb.ai/cs22m083/CS6910_Assignment1/runs/8zt2yy4d' target=\"_blank\">https://wandb.ai/cs22m083/CS6910_Assignment1/runs/8zt2yy4d</a>"
      ],
      "text/plain": [
       "<IPython.core.display.HTML object>"
      ]
     },
     "metadata": {},
     "output_type": "display_data"
    },
    {
     "name": "stdout",
     "output_type": "stream",
     "text": [
      " Training Loss:  0.3285837548761999  Validation Loss: 0.3808806301492029  Training Accuracy:  0.88135  Validation Accuracy: 0.8651\n"
     ]
    },
    {
     "data": {
      "text/html": [
       "Waiting for W&B process to finish... <strong style=\"color:green\">(success).</strong>"
      ],
      "text/plain": [
       "<IPython.core.display.HTML object>"
      ]
     },
     "metadata": {},
     "output_type": "display_data"
    },
    {
     "data": {
      "text/html": [
       "<style>\n",
       "    table.wandb td:nth-child(1) { padding: 0 10px; text-align: left ; width: auto;} td:nth-child(2) {text-align: left ; width: 100%}\n",
       "    .wandb-row { display: flex; flex-direction: row; flex-wrap: wrap; justify-content: flex-start; width: 100% }\n",
       "    .wandb-col { display: flex; flex-direction: column; flex-basis: 100%; flex: 1; padding: 10px; }\n",
       "    </style>\n",
       "<div class=\"wandb-row\"><div class=\"wandb-col\"><h3>Run history:</h3><br/><table class=\"wandb\"><tr><td>Accuracy</td><td>▁</td></tr><tr><td>Epoch</td><td>▁▂▃▃▄▅▆▆▇█</td></tr><tr><td>Training_accuracy</td><td>▁▆▆▇▇▇████</td></tr><tr><td>Training_loss</td><td>█▃▂▂▂▂▁▁▁▁</td></tr><tr><td>Validation_accuracy</td><td>▁▃▅▆▇▇▇███</td></tr><tr><td>Validation_loss</td><td>█▅▄▃▂▂▂▁▁▁</td></tr></table><br/></div><div class=\"wandb-col\"><h3>Run summary:</h3><br/><table class=\"wandb\"><tr><td>Accuracy</td><td>0.8651</td></tr><tr><td>Epoch</td><td>10</td></tr><tr><td>Training_accuracy</td><td>0.88135</td></tr><tr><td>Training_loss</td><td>0.32858</td></tr><tr><td>Validation_accuracy</td><td>0.8651</td></tr><tr><td>Validation_loss</td><td>0.38088</td></tr></table><br/></div></div>"
      ],
      "text/plain": [
       "<IPython.core.display.HTML object>"
      ]
     },
     "metadata": {},
     "output_type": "display_data"
    },
    {
     "data": {
      "text/html": [
       " View run <strong style=\"color:#cdcd00\">Question:4</strong> at: <a href='https://wandb.ai/cs22m083/CS6910_Assignment1/runs/8zt2yy4d' target=\"_blank\">https://wandb.ai/cs22m083/CS6910_Assignment1/runs/8zt2yy4d</a><br/>Synced 6 W&B file(s), 0 media file(s), 0 artifact file(s) and 0 other file(s)"
      ],
      "text/plain": [
       "<IPython.core.display.HTML object>"
      ]
     },
     "metadata": {},
     "output_type": "display_data"
    },
    {
     "data": {
      "text/html": [
       "Find logs at: <code>.\\wandb\\run-20230318_143756-8zt2yy4d\\logs</code>"
      ],
      "text/plain": [
       "<IPython.core.display.HTML object>"
      ]
     },
     "metadata": {},
     "output_type": "display_data"
    },
    {
     "name": "stderr",
     "output_type": "stream",
     "text": [
      "\u001b[34m\u001b[1mwandb\u001b[0m: Sweep Agent: Waiting for job.\n",
      "\u001b[34m\u001b[1mwandb\u001b[0m: Job received.\n",
      "\u001b[34m\u001b[1mwandb\u001b[0m: Agent Starting Run: wsh5jl3p with config:\n",
      "\u001b[34m\u001b[1mwandb\u001b[0m: \tactivation: relu\n",
      "\u001b[34m\u001b[1mwandb\u001b[0m: \tbatch_size: 32\n",
      "\u001b[34m\u001b[1mwandb\u001b[0m: \tepochs: 10\n",
      "\u001b[34m\u001b[1mwandb\u001b[0m: \tgamma: 0.002\n",
      "\u001b[34m\u001b[1mwandb\u001b[0m: \thidden_layers: [32, 64, 128]\n",
      "\u001b[34m\u001b[1mwandb\u001b[0m: \tinitialization: Random\n",
      "\u001b[34m\u001b[1mwandb\u001b[0m: \tlearning_rate: 0.0006\n",
      "\u001b[34m\u001b[1mwandb\u001b[0m: \toptimizer: sgd\n",
      "\u001b[34m\u001b[1mwandb\u001b[0m: \tweight_decay: 0.0005\n",
      "Failed to detect the name of this notebook, you can set it manually with the WANDB_NOTEBOOK_NAME environment variable to enable code saving.\n",
      "\u001b[34m\u001b[1mwandb\u001b[0m: \u001b[33mWARNING\u001b[0m Ignored wandb.init() arg project when running a sweep.\n"
     ]
    },
    {
     "data": {
      "text/html": [
       "wandb version 0.14.0 is available!  To upgrade, please run:\n",
       " $ pip install wandb --upgrade"
      ],
      "text/plain": [
       "<IPython.core.display.HTML object>"
      ]
     },
     "metadata": {},
     "output_type": "display_data"
    },
    {
     "data": {
      "text/html": [
       "Tracking run with wandb version 0.13.10"
      ],
      "text/plain": [
       "<IPython.core.display.HTML object>"
      ]
     },
     "metadata": {},
     "output_type": "display_data"
    },
    {
     "data": {
      "text/html": [
       "Run data is saved locally in <code>C:\\Users\\Shivam Maurya\\OneDrive\\Desktop\\IIT_MADRAS\\Deep Learning\\assignment 1\\CS6910-Deep_Learning_Assignment-1\\wandb\\run-20230318_144120-wsh5jl3p</code>"
      ],
      "text/plain": [
       "<IPython.core.display.HTML object>"
      ]
     },
     "metadata": {},
     "output_type": "display_data"
    },
    {
     "data": {
      "text/html": [
       "Syncing run <strong><a href='https://wandb.ai/cs22m083/CS6910_Assignment1/runs/wsh5jl3p' target=\"_blank\">Question:4</a></strong> to <a href='https://wandb.ai/cs22m083/CS6910_Assignment1' target=\"_blank\">Weights & Biases</a> (<a href='https://wandb.me/run' target=\"_blank\">docs</a>)<br/>Sweep page: <a href='https://wandb.ai/cs22m083/CS6910_Assignment1/sweeps/gb9w2qt6' target=\"_blank\">https://wandb.ai/cs22m083/CS6910_Assignment1/sweeps/gb9w2qt6</a>"
      ],
      "text/plain": [
       "<IPython.core.display.HTML object>"
      ]
     },
     "metadata": {},
     "output_type": "display_data"
    },
    {
     "data": {
      "text/html": [
       " View project at <a href='https://wandb.ai/cs22m083/CS6910_Assignment1' target=\"_blank\">https://wandb.ai/cs22m083/CS6910_Assignment1</a>"
      ],
      "text/plain": [
       "<IPython.core.display.HTML object>"
      ]
     },
     "metadata": {},
     "output_type": "display_data"
    },
    {
     "data": {
      "text/html": [
       " View sweep at <a href='https://wandb.ai/cs22m083/CS6910_Assignment1/sweeps/gb9w2qt6' target=\"_blank\">https://wandb.ai/cs22m083/CS6910_Assignment1/sweeps/gb9w2qt6</a>"
      ],
      "text/plain": [
       "<IPython.core.display.HTML object>"
      ]
     },
     "metadata": {},
     "output_type": "display_data"
    },
    {
     "data": {
      "text/html": [
       " View run at <a href='https://wandb.ai/cs22m083/CS6910_Assignment1/runs/wsh5jl3p' target=\"_blank\">https://wandb.ai/cs22m083/CS6910_Assignment1/runs/wsh5jl3p</a>"
      ],
      "text/plain": [
       "<IPython.core.display.HTML object>"
      ]
     },
     "metadata": {},
     "output_type": "display_data"
    },
    {
     "name": "stdout",
     "output_type": "stream",
     "text": [
      " Training Loss:  nan  Validation Loss: nan  Training Accuracy:  0.1  Validation Accuracy: 0.1\n"
     ]
    },
    {
     "data": {
      "text/html": [
       "Waiting for W&B process to finish... <strong style=\"color:green\">(success).</strong>"
      ],
      "text/plain": [
       "<IPython.core.display.HTML object>"
      ]
     },
     "metadata": {},
     "output_type": "display_data"
    },
    {
     "data": {
      "text/html": [
       "<style>\n",
       "    table.wandb td:nth-child(1) { padding: 0 10px; text-align: left ; width: auto;} td:nth-child(2) {text-align: left ; width: 100%}\n",
       "    .wandb-row { display: flex; flex-direction: row; flex-wrap: wrap; justify-content: flex-start; width: 100% }\n",
       "    .wandb-col { display: flex; flex-direction: column; flex-basis: 100%; flex: 1; padding: 10px; }\n",
       "    </style>\n",
       "<div class=\"wandb-row\"><div class=\"wandb-col\"><h3>Run history:</h3><br/><table class=\"wandb\"><tr><td>Accuracy</td><td>▁</td></tr><tr><td>Epoch</td><td>▁▂▃▃▄▅▆▆▇█</td></tr><tr><td>Training_accuracy</td><td>▁▁▁▁▁▁▁▁▁▁</td></tr><tr><td>Validation_accuracy</td><td>▁▁▁▁▁▁▁▁▁▁</td></tr></table><br/></div><div class=\"wandb-col\"><h3>Run summary:</h3><br/><table class=\"wandb\"><tr><td>Accuracy</td><td>0.1</td></tr><tr><td>Epoch</td><td>10</td></tr><tr><td>Training_accuracy</td><td>0.1</td></tr><tr><td>Training_loss</td><td>nan</td></tr><tr><td>Validation_accuracy</td><td>0.1</td></tr><tr><td>Validation_loss</td><td>nan</td></tr></table><br/></div></div>"
      ],
      "text/plain": [
       "<IPython.core.display.HTML object>"
      ]
     },
     "metadata": {},
     "output_type": "display_data"
    },
    {
     "data": {
      "text/html": [
       " View run <strong style=\"color:#cdcd00\">Question:4</strong> at: <a href='https://wandb.ai/cs22m083/CS6910_Assignment1/runs/wsh5jl3p' target=\"_blank\">https://wandb.ai/cs22m083/CS6910_Assignment1/runs/wsh5jl3p</a><br/>Synced 6 W&B file(s), 0 media file(s), 0 artifact file(s) and 0 other file(s)"
      ],
      "text/plain": [
       "<IPython.core.display.HTML object>"
      ]
     },
     "metadata": {},
     "output_type": "display_data"
    },
    {
     "data": {
      "text/html": [
       "Find logs at: <code>.\\wandb\\run-20230318_144120-wsh5jl3p\\logs</code>"
      ],
      "text/plain": [
       "<IPython.core.display.HTML object>"
      ]
     },
     "metadata": {},
     "output_type": "display_data"
    },
    {
     "name": "stderr",
     "output_type": "stream",
     "text": [
      "\u001b[34m\u001b[1mwandb\u001b[0m: Agent Starting Run: 2nqmkogx with config:\n",
      "\u001b[34m\u001b[1mwandb\u001b[0m: \tactivation: tanh\n",
      "\u001b[34m\u001b[1mwandb\u001b[0m: \tbatch_size: 64\n",
      "\u001b[34m\u001b[1mwandb\u001b[0m: \tepochs: 10\n",
      "\u001b[34m\u001b[1mwandb\u001b[0m: \tgamma: 0.002\n",
      "\u001b[34m\u001b[1mwandb\u001b[0m: \thidden_layers: [32, 64]\n",
      "\u001b[34m\u001b[1mwandb\u001b[0m: \tinitialization: Xavier\n",
      "\u001b[34m\u001b[1mwandb\u001b[0m: \tlearning_rate: 0.01\n",
      "\u001b[34m\u001b[1mwandb\u001b[0m: \toptimizer: nag\n",
      "\u001b[34m\u001b[1mwandb\u001b[0m: \tweight_decay: 0.0005\n",
      "Failed to detect the name of this notebook, you can set it manually with the WANDB_NOTEBOOK_NAME environment variable to enable code saving.\n",
      "\u001b[34m\u001b[1mwandb\u001b[0m: \u001b[33mWARNING\u001b[0m Ignored wandb.init() arg project when running a sweep.\n"
     ]
    },
    {
     "data": {
      "text/html": [
       "wandb version 0.14.0 is available!  To upgrade, please run:\n",
       " $ pip install wandb --upgrade"
      ],
      "text/plain": [
       "<IPython.core.display.HTML object>"
      ]
     },
     "metadata": {},
     "output_type": "display_data"
    },
    {
     "data": {
      "text/html": [
       "Tracking run with wandb version 0.13.10"
      ],
      "text/plain": [
       "<IPython.core.display.HTML object>"
      ]
     },
     "metadata": {},
     "output_type": "display_data"
    },
    {
     "data": {
      "text/html": [
       "Run data is saved locally in <code>C:\\Users\\Shivam Maurya\\OneDrive\\Desktop\\IIT_MADRAS\\Deep Learning\\assignment 1\\CS6910-Deep_Learning_Assignment-1\\wandb\\run-20230318_144510-2nqmkogx</code>"
      ],
      "text/plain": [
       "<IPython.core.display.HTML object>"
      ]
     },
     "metadata": {},
     "output_type": "display_data"
    },
    {
     "data": {
      "text/html": [
       "Syncing run <strong><a href='https://wandb.ai/cs22m083/CS6910_Assignment1/runs/2nqmkogx' target=\"_blank\">Question:4</a></strong> to <a href='https://wandb.ai/cs22m083/CS6910_Assignment1' target=\"_blank\">Weights & Biases</a> (<a href='https://wandb.me/run' target=\"_blank\">docs</a>)<br/>Sweep page: <a href='https://wandb.ai/cs22m083/CS6910_Assignment1/sweeps/gb9w2qt6' target=\"_blank\">https://wandb.ai/cs22m083/CS6910_Assignment1/sweeps/gb9w2qt6</a>"
      ],
      "text/plain": [
       "<IPython.core.display.HTML object>"
      ]
     },
     "metadata": {},
     "output_type": "display_data"
    },
    {
     "data": {
      "text/html": [
       " View project at <a href='https://wandb.ai/cs22m083/CS6910_Assignment1' target=\"_blank\">https://wandb.ai/cs22m083/CS6910_Assignment1</a>"
      ],
      "text/plain": [
       "<IPython.core.display.HTML object>"
      ]
     },
     "metadata": {},
     "output_type": "display_data"
    },
    {
     "data": {
      "text/html": [
       " View sweep at <a href='https://wandb.ai/cs22m083/CS6910_Assignment1/sweeps/gb9w2qt6' target=\"_blank\">https://wandb.ai/cs22m083/CS6910_Assignment1/sweeps/gb9w2qt6</a>"
      ],
      "text/plain": [
       "<IPython.core.display.HTML object>"
      ]
     },
     "metadata": {},
     "output_type": "display_data"
    },
    {
     "data": {
      "text/html": [
       " View run at <a href='https://wandb.ai/cs22m083/CS6910_Assignment1/runs/2nqmkogx' target=\"_blank\">https://wandb.ai/cs22m083/CS6910_Assignment1/runs/2nqmkogx</a>"
      ],
      "text/plain": [
       "<IPython.core.display.HTML object>"
      ]
     },
     "metadata": {},
     "output_type": "display_data"
    },
    {
     "name": "stdout",
     "output_type": "stream",
     "text": [
      " Training Loss:  0.7590487848223592  Validation Loss: 0.8217677172256814  Training Accuracy:  0.76125  Validation Accuracy: 0.7487\n"
     ]
    },
    {
     "data": {
      "text/html": [
       "Waiting for W&B process to finish... <strong style=\"color:green\">(success).</strong>"
      ],
      "text/plain": [
       "<IPython.core.display.HTML object>"
      ]
     },
     "metadata": {},
     "output_type": "display_data"
    },
    {
     "data": {
      "text/html": [
       "<style>\n",
       "    table.wandb td:nth-child(1) { padding: 0 10px; text-align: left ; width: auto;} td:nth-child(2) {text-align: left ; width: 100%}\n",
       "    .wandb-row { display: flex; flex-direction: row; flex-wrap: wrap; justify-content: flex-start; width: 100% }\n",
       "    .wandb-col { display: flex; flex-direction: column; flex-basis: 100%; flex: 1; padding: 10px; }\n",
       "    </style>\n",
       "<div class=\"wandb-row\"><div class=\"wandb-col\"><h3>Run history:</h3><br/><table class=\"wandb\"><tr><td>Accuracy</td><td>▁</td></tr><tr><td>Epoch</td><td>▁▂▃▃▄▅▆▆▇█</td></tr><tr><td>Training_accuracy</td><td>▁▆▇███████</td></tr><tr><td>Training_loss</td><td>█▂▁▁▁▁▁▁▂▂</td></tr><tr><td>Validation_accuracy</td><td>▁▄▆▆▇▇▇▇██</td></tr><tr><td>Validation_loss</td><td>█▃▂▁▁▁▂▄▄▃</td></tr></table><br/></div><div class=\"wandb-col\"><h3>Run summary:</h3><br/><table class=\"wandb\"><tr><td>Accuracy</td><td>0.7487</td></tr><tr><td>Epoch</td><td>10</td></tr><tr><td>Training_accuracy</td><td>0.76125</td></tr><tr><td>Training_loss</td><td>0.75905</td></tr><tr><td>Validation_accuracy</td><td>0.7487</td></tr><tr><td>Validation_loss</td><td>0.82177</td></tr></table><br/></div></div>"
      ],
      "text/plain": [
       "<IPython.core.display.HTML object>"
      ]
     },
     "metadata": {},
     "output_type": "display_data"
    },
    {
     "data": {
      "text/html": [
       " View run <strong style=\"color:#cdcd00\">Question:4</strong> at: <a href='https://wandb.ai/cs22m083/CS6910_Assignment1/runs/2nqmkogx' target=\"_blank\">https://wandb.ai/cs22m083/CS6910_Assignment1/runs/2nqmkogx</a><br/>Synced 6 W&B file(s), 0 media file(s), 0 artifact file(s) and 0 other file(s)"
      ],
      "text/plain": [
       "<IPython.core.display.HTML object>"
      ]
     },
     "metadata": {},
     "output_type": "display_data"
    },
    {
     "data": {
      "text/html": [
       "Find logs at: <code>.\\wandb\\run-20230318_144510-2nqmkogx\\logs</code>"
      ],
      "text/plain": [
       "<IPython.core.display.HTML object>"
      ]
     },
     "metadata": {},
     "output_type": "display_data"
    },
    {
     "name": "stderr",
     "output_type": "stream",
     "text": [
      "\u001b[34m\u001b[1mwandb\u001b[0m: Agent Starting Run: ivfd6rkj with config:\n",
      "\u001b[34m\u001b[1mwandb\u001b[0m: \tactivation: sigmoid\n",
      "\u001b[34m\u001b[1mwandb\u001b[0m: \tbatch_size: 32\n",
      "\u001b[34m\u001b[1mwandb\u001b[0m: \tepochs: 5\n",
      "\u001b[34m\u001b[1mwandb\u001b[0m: \tgamma: 0.03\n",
      "\u001b[34m\u001b[1mwandb\u001b[0m: \thidden_layers: [32, 64, 128]\n",
      "\u001b[34m\u001b[1mwandb\u001b[0m: \tinitialization: Random\n",
      "\u001b[34m\u001b[1mwandb\u001b[0m: \tlearning_rate: 0.0001\n",
      "\u001b[34m\u001b[1mwandb\u001b[0m: \toptimizer: nadam\n",
      "\u001b[34m\u001b[1mwandb\u001b[0m: \tweight_decay: 0.5\n",
      "Failed to detect the name of this notebook, you can set it manually with the WANDB_NOTEBOOK_NAME environment variable to enable code saving.\n",
      "\u001b[34m\u001b[1mwandb\u001b[0m: \u001b[33mWARNING\u001b[0m Ignored wandb.init() arg project when running a sweep.\n"
     ]
    },
    {
     "data": {
      "text/html": [
       "wandb version 0.14.0 is available!  To upgrade, please run:\n",
       " $ pip install wandb --upgrade"
      ],
      "text/plain": [
       "<IPython.core.display.HTML object>"
      ]
     },
     "metadata": {},
     "output_type": "display_data"
    },
    {
     "data": {
      "text/html": [
       "Tracking run with wandb version 0.13.10"
      ],
      "text/plain": [
       "<IPython.core.display.HTML object>"
      ]
     },
     "metadata": {},
     "output_type": "display_data"
    },
    {
     "data": {
      "text/html": [
       "Run data is saved locally in <code>C:\\Users\\Shivam Maurya\\OneDrive\\Desktop\\IIT_MADRAS\\Deep Learning\\assignment 1\\CS6910-Deep_Learning_Assignment-1\\wandb\\run-20230318_144817-ivfd6rkj</code>"
      ],
      "text/plain": [
       "<IPython.core.display.HTML object>"
      ]
     },
     "metadata": {},
     "output_type": "display_data"
    },
    {
     "data": {
      "text/html": [
       "Syncing run <strong><a href='https://wandb.ai/cs22m083/CS6910_Assignment1/runs/ivfd6rkj' target=\"_blank\">Question:4</a></strong> to <a href='https://wandb.ai/cs22m083/CS6910_Assignment1' target=\"_blank\">Weights & Biases</a> (<a href='https://wandb.me/run' target=\"_blank\">docs</a>)<br/>Sweep page: <a href='https://wandb.ai/cs22m083/CS6910_Assignment1/sweeps/gb9w2qt6' target=\"_blank\">https://wandb.ai/cs22m083/CS6910_Assignment1/sweeps/gb9w2qt6</a>"
      ],
      "text/plain": [
       "<IPython.core.display.HTML object>"
      ]
     },
     "metadata": {},
     "output_type": "display_data"
    },
    {
     "data": {
      "text/html": [
       " View project at <a href='https://wandb.ai/cs22m083/CS6910_Assignment1' target=\"_blank\">https://wandb.ai/cs22m083/CS6910_Assignment1</a>"
      ],
      "text/plain": [
       "<IPython.core.display.HTML object>"
      ]
     },
     "metadata": {},
     "output_type": "display_data"
    },
    {
     "data": {
      "text/html": [
       " View sweep at <a href='https://wandb.ai/cs22m083/CS6910_Assignment1/sweeps/gb9w2qt6' target=\"_blank\">https://wandb.ai/cs22m083/CS6910_Assignment1/sweeps/gb9w2qt6</a>"
      ],
      "text/plain": [
       "<IPython.core.display.HTML object>"
      ]
     },
     "metadata": {},
     "output_type": "display_data"
    },
    {
     "data": {
      "text/html": [
       " View run at <a href='https://wandb.ai/cs22m083/CS6910_Assignment1/runs/ivfd6rkj' target=\"_blank\">https://wandb.ai/cs22m083/CS6910_Assignment1/runs/ivfd6rkj</a>"
      ],
      "text/plain": [
       "<IPython.core.display.HTML object>"
      ]
     },
     "metadata": {},
     "output_type": "display_data"
    },
    {
     "name": "stdout",
     "output_type": "stream",
     "text": [
      " Training Loss:  0.9621404729003965  Validation Loss: 0.9492332468907553  Training Accuracy:  0.6857  Validation Accuracy: 0.6897\n"
     ]
    },
    {
     "data": {
      "text/html": [
       "Waiting for W&B process to finish... <strong style=\"color:green\">(success).</strong>"
      ],
      "text/plain": [
       "<IPython.core.display.HTML object>"
      ]
     },
     "metadata": {},
     "output_type": "display_data"
    },
    {
     "data": {
      "text/html": [
       "<style>\n",
       "    table.wandb td:nth-child(1) { padding: 0 10px; text-align: left ; width: auto;} td:nth-child(2) {text-align: left ; width: 100%}\n",
       "    .wandb-row { display: flex; flex-direction: row; flex-wrap: wrap; justify-content: flex-start; width: 100% }\n",
       "    .wandb-col { display: flex; flex-direction: column; flex-basis: 100%; flex: 1; padding: 10px; }\n",
       "    </style>\n",
       "<div class=\"wandb-row\"><div class=\"wandb-col\"><h3>Run history:</h3><br/><table class=\"wandb\"><tr><td>Accuracy</td><td>▁</td></tr><tr><td>Epoch</td><td>▁▃▅▆█</td></tr><tr><td>Training_accuracy</td><td>▁▅▇▇█</td></tr><tr><td>Training_loss</td><td>█▂▂▁▁</td></tr><tr><td>Validation_accuracy</td><td>▁▄▆▇█</td></tr><tr><td>Validation_loss</td><td>█▄▃▂▁</td></tr></table><br/></div><div class=\"wandb-col\"><h3>Run summary:</h3><br/><table class=\"wandb\"><tr><td>Accuracy</td><td>0.6897</td></tr><tr><td>Epoch</td><td>5</td></tr><tr><td>Training_accuracy</td><td>0.6857</td></tr><tr><td>Training_loss</td><td>0.96214</td></tr><tr><td>Validation_accuracy</td><td>0.6897</td></tr><tr><td>Validation_loss</td><td>0.94923</td></tr></table><br/></div></div>"
      ],
      "text/plain": [
       "<IPython.core.display.HTML object>"
      ]
     },
     "metadata": {},
     "output_type": "display_data"
    },
    {
     "data": {
      "text/html": [
       " View run <strong style=\"color:#cdcd00\">Question:4</strong> at: <a href='https://wandb.ai/cs22m083/CS6910_Assignment1/runs/ivfd6rkj' target=\"_blank\">https://wandb.ai/cs22m083/CS6910_Assignment1/runs/ivfd6rkj</a><br/>Synced 6 W&B file(s), 0 media file(s), 0 artifact file(s) and 0 other file(s)"
      ],
      "text/plain": [
       "<IPython.core.display.HTML object>"
      ]
     },
     "metadata": {},
     "output_type": "display_data"
    },
    {
     "data": {
      "text/html": [
       "Find logs at: <code>.\\wandb\\run-20230318_144817-ivfd6rkj\\logs</code>"
      ],
      "text/plain": [
       "<IPython.core.display.HTML object>"
      ]
     },
     "metadata": {},
     "output_type": "display_data"
    },
    {
     "name": "stderr",
     "output_type": "stream",
     "text": [
      "\u001b[34m\u001b[1mwandb\u001b[0m: Agent Starting Run: xlxq3tle with config:\n",
      "\u001b[34m\u001b[1mwandb\u001b[0m: \tactivation: tanh\n",
      "\u001b[34m\u001b[1mwandb\u001b[0m: \tbatch_size: 64\n",
      "\u001b[34m\u001b[1mwandb\u001b[0m: \tepochs: 10\n",
      "\u001b[34m\u001b[1mwandb\u001b[0m: \tgamma: 0.002\n",
      "\u001b[34m\u001b[1mwandb\u001b[0m: \thidden_layers: [32, 64, 128, 256]\n",
      "\u001b[34m\u001b[1mwandb\u001b[0m: \tinitialization: Random\n",
      "\u001b[34m\u001b[1mwandb\u001b[0m: \tlearning_rate: 0.0005\n",
      "\u001b[34m\u001b[1mwandb\u001b[0m: \toptimizer: adam\n",
      "\u001b[34m\u001b[1mwandb\u001b[0m: \tweight_decay: 0.5\n",
      "Failed to detect the name of this notebook, you can set it manually with the WANDB_NOTEBOOK_NAME environment variable to enable code saving.\n",
      "\u001b[34m\u001b[1mwandb\u001b[0m: \u001b[33mWARNING\u001b[0m Ignored wandb.init() arg project when running a sweep.\n"
     ]
    },
    {
     "data": {
      "text/html": [
       "wandb version 0.14.0 is available!  To upgrade, please run:\n",
       " $ pip install wandb --upgrade"
      ],
      "text/plain": [
       "<IPython.core.display.HTML object>"
      ]
     },
     "metadata": {},
     "output_type": "display_data"
    },
    {
     "data": {
      "text/html": [
       "Tracking run with wandb version 0.13.10"
      ],
      "text/plain": [
       "<IPython.core.display.HTML object>"
      ]
     },
     "metadata": {},
     "output_type": "display_data"
    },
    {
     "data": {
      "text/html": [
       "Run data is saved locally in <code>C:\\Users\\Shivam Maurya\\OneDrive\\Desktop\\IIT_MADRAS\\Deep Learning\\assignment 1\\CS6910-Deep_Learning_Assignment-1\\wandb\\run-20230318_145038-xlxq3tle</code>"
      ],
      "text/plain": [
       "<IPython.core.display.HTML object>"
      ]
     },
     "metadata": {},
     "output_type": "display_data"
    },
    {
     "data": {
      "text/html": [
       "Syncing run <strong><a href='https://wandb.ai/cs22m083/CS6910_Assignment1/runs/xlxq3tle' target=\"_blank\">Question:4</a></strong> to <a href='https://wandb.ai/cs22m083/CS6910_Assignment1' target=\"_blank\">Weights & Biases</a> (<a href='https://wandb.me/run' target=\"_blank\">docs</a>)<br/>Sweep page: <a href='https://wandb.ai/cs22m083/CS6910_Assignment1/sweeps/gb9w2qt6' target=\"_blank\">https://wandb.ai/cs22m083/CS6910_Assignment1/sweeps/gb9w2qt6</a>"
      ],
      "text/plain": [
       "<IPython.core.display.HTML object>"
      ]
     },
     "metadata": {},
     "output_type": "display_data"
    },
    {
     "data": {
      "text/html": [
       " View project at <a href='https://wandb.ai/cs22m083/CS6910_Assignment1' target=\"_blank\">https://wandb.ai/cs22m083/CS6910_Assignment1</a>"
      ],
      "text/plain": [
       "<IPython.core.display.HTML object>"
      ]
     },
     "metadata": {},
     "output_type": "display_data"
    },
    {
     "data": {
      "text/html": [
       " View sweep at <a href='https://wandb.ai/cs22m083/CS6910_Assignment1/sweeps/gb9w2qt6' target=\"_blank\">https://wandb.ai/cs22m083/CS6910_Assignment1/sweeps/gb9w2qt6</a>"
      ],
      "text/plain": [
       "<IPython.core.display.HTML object>"
      ]
     },
     "metadata": {},
     "output_type": "display_data"
    },
    {
     "data": {
      "text/html": [
       " View run at <a href='https://wandb.ai/cs22m083/CS6910_Assignment1/runs/xlxq3tle' target=\"_blank\">https://wandb.ai/cs22m083/CS6910_Assignment1/runs/xlxq3tle</a>"
      ],
      "text/plain": [
       "<IPython.core.display.HTML object>"
      ]
     },
     "metadata": {},
     "output_type": "display_data"
    },
    {
     "name": "stdout",
     "output_type": "stream",
     "text": [
      " Training Loss:  0.7015611400369692  Validation Loss: 0.6724803196971785  Training Accuracy:  0.7422666666666666  Validation Accuracy: 0.7565\n"
     ]
    },
    {
     "data": {
      "text/html": [
       "Waiting for W&B process to finish... <strong style=\"color:green\">(success).</strong>"
      ],
      "text/plain": [
       "<IPython.core.display.HTML object>"
      ]
     },
     "metadata": {},
     "output_type": "display_data"
    },
    {
     "data": {
      "text/html": [
       "<style>\n",
       "    table.wandb td:nth-child(1) { padding: 0 10px; text-align: left ; width: auto;} td:nth-child(2) {text-align: left ; width: 100%}\n",
       "    .wandb-row { display: flex; flex-direction: row; flex-wrap: wrap; justify-content: flex-start; width: 100% }\n",
       "    .wandb-col { display: flex; flex-direction: column; flex-basis: 100%; flex: 1; padding: 10px; }\n",
       "    </style>\n",
       "<div class=\"wandb-row\"><div class=\"wandb-col\"><h3>Run history:</h3><br/><table class=\"wandb\"><tr><td>Accuracy</td><td>▁</td></tr><tr><td>Epoch</td><td>▁▂▃▃▄▅▆▆▇█</td></tr><tr><td>Training_accuracy</td><td>▁▄▄▅▅▆▆▇▇█</td></tr><tr><td>Training_loss</td><td>█▃▂▂▂▁▁▁▁▁</td></tr><tr><td>Validation_accuracy</td><td>▁▃▃▄▄▅▅▆▇█</td></tr><tr><td>Validation_loss</td><td>█▅▃▃▂▂▂▁▁▁</td></tr></table><br/></div><div class=\"wandb-col\"><h3>Run summary:</h3><br/><table class=\"wandb\"><tr><td>Accuracy</td><td>0.7565</td></tr><tr><td>Epoch</td><td>10</td></tr><tr><td>Training_accuracy</td><td>0.74227</td></tr><tr><td>Training_loss</td><td>0.70156</td></tr><tr><td>Validation_accuracy</td><td>0.7565</td></tr><tr><td>Validation_loss</td><td>0.67248</td></tr></table><br/></div></div>"
      ],
      "text/plain": [
       "<IPython.core.display.HTML object>"
      ]
     },
     "metadata": {},
     "output_type": "display_data"
    },
    {
     "data": {
      "text/html": [
       " View run <strong style=\"color:#cdcd00\">Question:4</strong> at: <a href='https://wandb.ai/cs22m083/CS6910_Assignment1/runs/xlxq3tle' target=\"_blank\">https://wandb.ai/cs22m083/CS6910_Assignment1/runs/xlxq3tle</a><br/>Synced 6 W&B file(s), 0 media file(s), 0 artifact file(s) and 0 other file(s)"
      ],
      "text/plain": [
       "<IPython.core.display.HTML object>"
      ]
     },
     "metadata": {},
     "output_type": "display_data"
    },
    {
     "data": {
      "text/html": [
       "Find logs at: <code>.\\wandb\\run-20230318_145038-xlxq3tle\\logs</code>"
      ],
      "text/plain": [
       "<IPython.core.display.HTML object>"
      ]
     },
     "metadata": {},
     "output_type": "display_data"
    },
    {
     "name": "stderr",
     "output_type": "stream",
     "text": [
      "\u001b[34m\u001b[1mwandb\u001b[0m: Sweep Agent: Waiting for job.\n",
      "\u001b[34m\u001b[1mwandb\u001b[0m: Job received.\n",
      "\u001b[34m\u001b[1mwandb\u001b[0m: Agent Starting Run: qs3f9ksk with config:\n",
      "\u001b[34m\u001b[1mwandb\u001b[0m: \tactivation: relu\n",
      "\u001b[34m\u001b[1mwandb\u001b[0m: \tbatch_size: 64\n",
      "\u001b[34m\u001b[1mwandb\u001b[0m: \tepochs: 10\n",
      "\u001b[34m\u001b[1mwandb\u001b[0m: \tgamma: 0.03\n",
      "\u001b[34m\u001b[1mwandb\u001b[0m: \thidden_layers: [32, 64, 128, 256]\n",
      "\u001b[34m\u001b[1mwandb\u001b[0m: \tinitialization: Xavier\n",
      "\u001b[34m\u001b[1mwandb\u001b[0m: \tlearning_rate: 0.0001\n",
      "\u001b[34m\u001b[1mwandb\u001b[0m: \toptimizer: nadam\n",
      "\u001b[34m\u001b[1mwandb\u001b[0m: \tweight_decay: 0.0005\n",
      "Failed to detect the name of this notebook, you can set it manually with the WANDB_NOTEBOOK_NAME environment variable to enable code saving.\n",
      "\u001b[34m\u001b[1mwandb\u001b[0m: \u001b[33mWARNING\u001b[0m Ignored wandb.init() arg project when running a sweep.\n"
     ]
    },
    {
     "data": {
      "text/html": [
       "wandb version 0.14.0 is available!  To upgrade, please run:\n",
       " $ pip install wandb --upgrade"
      ],
      "text/plain": [
       "<IPython.core.display.HTML object>"
      ]
     },
     "metadata": {},
     "output_type": "display_data"
    },
    {
     "data": {
      "text/html": [
       "Tracking run with wandb version 0.13.10"
      ],
      "text/plain": [
       "<IPython.core.display.HTML object>"
      ]
     },
     "metadata": {},
     "output_type": "display_data"
    },
    {
     "data": {
      "text/html": [
       "Run data is saved locally in <code>C:\\Users\\Shivam Maurya\\OneDrive\\Desktop\\IIT_MADRAS\\Deep Learning\\assignment 1\\CS6910-Deep_Learning_Assignment-1\\wandb\\run-20230318_145715-qs3f9ksk</code>"
      ],
      "text/plain": [
       "<IPython.core.display.HTML object>"
      ]
     },
     "metadata": {},
     "output_type": "display_data"
    },
    {
     "data": {
      "text/html": [
       "Syncing run <strong><a href='https://wandb.ai/cs22m083/CS6910_Assignment1/runs/qs3f9ksk' target=\"_blank\">Question:4</a></strong> to <a href='https://wandb.ai/cs22m083/CS6910_Assignment1' target=\"_blank\">Weights & Biases</a> (<a href='https://wandb.me/run' target=\"_blank\">docs</a>)<br/>Sweep page: <a href='https://wandb.ai/cs22m083/CS6910_Assignment1/sweeps/gb9w2qt6' target=\"_blank\">https://wandb.ai/cs22m083/CS6910_Assignment1/sweeps/gb9w2qt6</a>"
      ],
      "text/plain": [
       "<IPython.core.display.HTML object>"
      ]
     },
     "metadata": {},
     "output_type": "display_data"
    },
    {
     "data": {
      "text/html": [
       " View project at <a href='https://wandb.ai/cs22m083/CS6910_Assignment1' target=\"_blank\">https://wandb.ai/cs22m083/CS6910_Assignment1</a>"
      ],
      "text/plain": [
       "<IPython.core.display.HTML object>"
      ]
     },
     "metadata": {},
     "output_type": "display_data"
    },
    {
     "data": {
      "text/html": [
       " View sweep at <a href='https://wandb.ai/cs22m083/CS6910_Assignment1/sweeps/gb9w2qt6' target=\"_blank\">https://wandb.ai/cs22m083/CS6910_Assignment1/sweeps/gb9w2qt6</a>"
      ],
      "text/plain": [
       "<IPython.core.display.HTML object>"
      ]
     },
     "metadata": {},
     "output_type": "display_data"
    },
    {
     "data": {
      "text/html": [
       " View run at <a href='https://wandb.ai/cs22m083/CS6910_Assignment1/runs/qs3f9ksk' target=\"_blank\">https://wandb.ai/cs22m083/CS6910_Assignment1/runs/qs3f9ksk</a>"
      ],
      "text/plain": [
       "<IPython.core.display.HTML object>"
      ]
     },
     "metadata": {},
     "output_type": "display_data"
    },
    {
     "name": "stdout",
     "output_type": "stream",
     "text": [
      " Training Loss:  0.34615838670931165  Validation Loss: 0.3906489603241085  Training Accuracy:  0.8754666666666666  Validation Accuracy: 0.8607\n"
     ]
    },
    {
     "data": {
      "text/html": [
       "Waiting for W&B process to finish... <strong style=\"color:green\">(success).</strong>"
      ],
      "text/plain": [
       "<IPython.core.display.HTML object>"
      ]
     },
     "metadata": {},
     "output_type": "display_data"
    },
    {
     "data": {
      "application/vnd.jupyter.widget-view+json": {
       "model_id": "88901508236342faac7a240aeb1c5c0c",
       "version_major": 2,
       "version_minor": 0
      },
      "text/plain": [
       "VBox(children=(Label(value='0.001 MB of 0.001 MB uploaded (0.000 MB deduped)\\r'), FloatProgress(value=1.0, max…"
      ]
     },
     "metadata": {},
     "output_type": "display_data"
    },
    {
     "data": {
      "text/html": [
       "<style>\n",
       "    table.wandb td:nth-child(1) { padding: 0 10px; text-align: left ; width: auto;} td:nth-child(2) {text-align: left ; width: 100%}\n",
       "    .wandb-row { display: flex; flex-direction: row; flex-wrap: wrap; justify-content: flex-start; width: 100% }\n",
       "    .wandb-col { display: flex; flex-direction: column; flex-basis: 100%; flex: 1; padding: 10px; }\n",
       "    </style>\n",
       "<div class=\"wandb-row\"><div class=\"wandb-col\"><h3>Run history:</h3><br/><table class=\"wandb\"><tr><td>Accuracy</td><td>▁</td></tr><tr><td>Epoch</td><td>▁▂▃▃▄▅▆▆▇█</td></tr><tr><td>Training_accuracy</td><td>▁▆▇▇▇▇████</td></tr><tr><td>Training_loss</td><td>█▃▂▂▂▂▁▁▁▁</td></tr><tr><td>Validation_accuracy</td><td>▁▄▅▆▆▇▇▇██</td></tr><tr><td>Validation_loss</td><td>█▅▄▃▃▂▂▁▁▁</td></tr></table><br/></div><div class=\"wandb-col\"><h3>Run summary:</h3><br/><table class=\"wandb\"><tr><td>Accuracy</td><td>0.8607</td></tr><tr><td>Epoch</td><td>10</td></tr><tr><td>Training_accuracy</td><td>0.87547</td></tr><tr><td>Training_loss</td><td>0.34616</td></tr><tr><td>Validation_accuracy</td><td>0.8607</td></tr><tr><td>Validation_loss</td><td>0.39065</td></tr></table><br/></div></div>"
      ],
      "text/plain": [
       "<IPython.core.display.HTML object>"
      ]
     },
     "metadata": {},
     "output_type": "display_data"
    },
    {
     "data": {
      "text/html": [
       " View run <strong style=\"color:#cdcd00\">Question:4</strong> at: <a href='https://wandb.ai/cs22m083/CS6910_Assignment1/runs/qs3f9ksk' target=\"_blank\">https://wandb.ai/cs22m083/CS6910_Assignment1/runs/qs3f9ksk</a><br/>Synced 6 W&B file(s), 0 media file(s), 0 artifact file(s) and 0 other file(s)"
      ],
      "text/plain": [
       "<IPython.core.display.HTML object>"
      ]
     },
     "metadata": {},
     "output_type": "display_data"
    },
    {
     "data": {
      "text/html": [
       "Find logs at: <code>.\\wandb\\run-20230318_145715-qs3f9ksk\\logs</code>"
      ],
      "text/plain": [
       "<IPython.core.display.HTML object>"
      ]
     },
     "metadata": {},
     "output_type": "display_data"
    },
    {
     "name": "stderr",
     "output_type": "stream",
     "text": [
      "\u001b[34m\u001b[1mwandb\u001b[0m: Agent Starting Run: 61kolba2 with config:\n",
      "\u001b[34m\u001b[1mwandb\u001b[0m: \tactivation: relu\n",
      "\u001b[34m\u001b[1mwandb\u001b[0m: \tbatch_size: 64\n",
      "\u001b[34m\u001b[1mwandb\u001b[0m: \tepochs: 5\n",
      "\u001b[34m\u001b[1mwandb\u001b[0m: \tgamma: 0.03\n",
      "\u001b[34m\u001b[1mwandb\u001b[0m: \thidden_layers: [32, 64, 128, 256]\n",
      "\u001b[34m\u001b[1mwandb\u001b[0m: \tinitialization: Random\n",
      "\u001b[34m\u001b[1mwandb\u001b[0m: \tlearning_rate: 0.0006\n",
      "\u001b[34m\u001b[1mwandb\u001b[0m: \toptimizer: momentum\n",
      "\u001b[34m\u001b[1mwandb\u001b[0m: \tweight_decay: 0.0005\n",
      "Failed to detect the name of this notebook, you can set it manually with the WANDB_NOTEBOOK_NAME environment variable to enable code saving.\n",
      "\u001b[34m\u001b[1mwandb\u001b[0m: \u001b[33mWARNING\u001b[0m Ignored wandb.init() arg project when running a sweep.\n"
     ]
    },
    {
     "data": {
      "text/html": [
       "wandb version 0.14.0 is available!  To upgrade, please run:\n",
       " $ pip install wandb --upgrade"
      ],
      "text/plain": [
       "<IPython.core.display.HTML object>"
      ]
     },
     "metadata": {},
     "output_type": "display_data"
    },
    {
     "data": {
      "text/html": [
       "Tracking run with wandb version 0.13.10"
      ],
      "text/plain": [
       "<IPython.core.display.HTML object>"
      ]
     },
     "metadata": {},
     "output_type": "display_data"
    },
    {
     "data": {
      "text/html": [
       "Run data is saved locally in <code>C:\\Users\\Shivam Maurya\\OneDrive\\Desktop\\IIT_MADRAS\\Deep Learning\\assignment 1\\CS6910-Deep_Learning_Assignment-1\\wandb\\run-20230318_150337-61kolba2</code>"
      ],
      "text/plain": [
       "<IPython.core.display.HTML object>"
      ]
     },
     "metadata": {},
     "output_type": "display_data"
    },
    {
     "data": {
      "text/html": [
       "Syncing run <strong><a href='https://wandb.ai/cs22m083/CS6910_Assignment1/runs/61kolba2' target=\"_blank\">Question:4</a></strong> to <a href='https://wandb.ai/cs22m083/CS6910_Assignment1' target=\"_blank\">Weights & Biases</a> (<a href='https://wandb.me/run' target=\"_blank\">docs</a>)<br/>Sweep page: <a href='https://wandb.ai/cs22m083/CS6910_Assignment1/sweeps/gb9w2qt6' target=\"_blank\">https://wandb.ai/cs22m083/CS6910_Assignment1/sweeps/gb9w2qt6</a>"
      ],
      "text/plain": [
       "<IPython.core.display.HTML object>"
      ]
     },
     "metadata": {},
     "output_type": "display_data"
    },
    {
     "data": {
      "text/html": [
       " View project at <a href='https://wandb.ai/cs22m083/CS6910_Assignment1' target=\"_blank\">https://wandb.ai/cs22m083/CS6910_Assignment1</a>"
      ],
      "text/plain": [
       "<IPython.core.display.HTML object>"
      ]
     },
     "metadata": {},
     "output_type": "display_data"
    },
    {
     "data": {
      "text/html": [
       " View sweep at <a href='https://wandb.ai/cs22m083/CS6910_Assignment1/sweeps/gb9w2qt6' target=\"_blank\">https://wandb.ai/cs22m083/CS6910_Assignment1/sweeps/gb9w2qt6</a>"
      ],
      "text/plain": [
       "<IPython.core.display.HTML object>"
      ]
     },
     "metadata": {},
     "output_type": "display_data"
    },
    {
     "data": {
      "text/html": [
       " View run at <a href='https://wandb.ai/cs22m083/CS6910_Assignment1/runs/61kolba2' target=\"_blank\">https://wandb.ai/cs22m083/CS6910_Assignment1/runs/61kolba2</a>"
      ],
      "text/plain": [
       "<IPython.core.display.HTML object>"
      ]
     },
     "metadata": {},
     "output_type": "display_data"
    },
    {
     "name": "stdout",
     "output_type": "stream",
     "text": [
      " Training Loss:  nan  Validation Loss: nan  Training Accuracy:  0.1  Validation Accuracy: 0.1\n"
     ]
    },
    {
     "data": {
      "text/html": [
       "Waiting for W&B process to finish... <strong style=\"color:green\">(success).</strong>"
      ],
      "text/plain": [
       "<IPython.core.display.HTML object>"
      ]
     },
     "metadata": {},
     "output_type": "display_data"
    },
    {
     "data": {
      "text/html": [
       "<style>\n",
       "    table.wandb td:nth-child(1) { padding: 0 10px; text-align: left ; width: auto;} td:nth-child(2) {text-align: left ; width: 100%}\n",
       "    .wandb-row { display: flex; flex-direction: row; flex-wrap: wrap; justify-content: flex-start; width: 100% }\n",
       "    .wandb-col { display: flex; flex-direction: column; flex-basis: 100%; flex: 1; padding: 10px; }\n",
       "    </style>\n",
       "<div class=\"wandb-row\"><div class=\"wandb-col\"><h3>Run history:</h3><br/><table class=\"wandb\"><tr><td>Accuracy</td><td>▁</td></tr><tr><td>Epoch</td><td>▁▃▅▆█</td></tr><tr><td>Training_accuracy</td><td>█▁▁▁▁</td></tr><tr><td>Validation_accuracy</td><td>▁▁▁▁▁</td></tr></table><br/></div><div class=\"wandb-col\"><h3>Run summary:</h3><br/><table class=\"wandb\"><tr><td>Accuracy</td><td>0.1</td></tr><tr><td>Epoch</td><td>5</td></tr><tr><td>Training_accuracy</td><td>0.1</td></tr><tr><td>Training_loss</td><td>nan</td></tr><tr><td>Validation_accuracy</td><td>0.1</td></tr><tr><td>Validation_loss</td><td>nan</td></tr></table><br/></div></div>"
      ],
      "text/plain": [
       "<IPython.core.display.HTML object>"
      ]
     },
     "metadata": {},
     "output_type": "display_data"
    },
    {
     "data": {
      "text/html": [
       " View run <strong style=\"color:#cdcd00\">Question:4</strong> at: <a href='https://wandb.ai/cs22m083/CS6910_Assignment1/runs/61kolba2' target=\"_blank\">https://wandb.ai/cs22m083/CS6910_Assignment1/runs/61kolba2</a><br/>Synced 6 W&B file(s), 0 media file(s), 0 artifact file(s) and 0 other file(s)"
      ],
      "text/plain": [
       "<IPython.core.display.HTML object>"
      ]
     },
     "metadata": {},
     "output_type": "display_data"
    },
    {
     "data": {
      "text/html": [
       "Find logs at: <code>.\\wandb\\run-20230318_150337-61kolba2\\logs</code>"
      ],
      "text/plain": [
       "<IPython.core.display.HTML object>"
      ]
     },
     "metadata": {},
     "output_type": "display_data"
    },
    {
     "name": "stderr",
     "output_type": "stream",
     "text": [
      "\u001b[34m\u001b[1mwandb\u001b[0m: Agent Starting Run: waudhqok with config:\n",
      "\u001b[34m\u001b[1mwandb\u001b[0m: \tactivation: tanh\n",
      "\u001b[34m\u001b[1mwandb\u001b[0m: \tbatch_size: 16\n",
      "\u001b[34m\u001b[1mwandb\u001b[0m: \tepochs: 5\n",
      "\u001b[34m\u001b[1mwandb\u001b[0m: \tgamma: 0.002\n",
      "\u001b[34m\u001b[1mwandb\u001b[0m: \thidden_layers: [32, 64]\n",
      "\u001b[34m\u001b[1mwandb\u001b[0m: \tinitialization: Random\n",
      "\u001b[34m\u001b[1mwandb\u001b[0m: \tlearning_rate: 0.01\n",
      "\u001b[34m\u001b[1mwandb\u001b[0m: \toptimizer: momentum\n",
      "\u001b[34m\u001b[1mwandb\u001b[0m: \tweight_decay: 0\n",
      "Failed to detect the name of this notebook, you can set it manually with the WANDB_NOTEBOOK_NAME environment variable to enable code saving.\n",
      "\u001b[34m\u001b[1mwandb\u001b[0m: \u001b[33mWARNING\u001b[0m Ignored wandb.init() arg project when running a sweep.\n"
     ]
    },
    {
     "data": {
      "text/html": [
       "wandb version 0.14.0 is available!  To upgrade, please run:\n",
       " $ pip install wandb --upgrade"
      ],
      "text/plain": [
       "<IPython.core.display.HTML object>"
      ]
     },
     "metadata": {},
     "output_type": "display_data"
    },
    {
     "data": {
      "text/html": [
       "Tracking run with wandb version 0.13.10"
      ],
      "text/plain": [
       "<IPython.core.display.HTML object>"
      ]
     },
     "metadata": {},
     "output_type": "display_data"
    },
    {
     "data": {
      "text/html": [
       "Run data is saved locally in <code>C:\\Users\\Shivam Maurya\\OneDrive\\Desktop\\IIT_MADRAS\\Deep Learning\\assignment 1\\CS6910-Deep_Learning_Assignment-1\\wandb\\run-20230318_150635-waudhqok</code>"
      ],
      "text/plain": [
       "<IPython.core.display.HTML object>"
      ]
     },
     "metadata": {},
     "output_type": "display_data"
    },
    {
     "data": {
      "text/html": [
       "Syncing run <strong><a href='https://wandb.ai/cs22m083/CS6910_Assignment1/runs/waudhqok' target=\"_blank\">Question:4</a></strong> to <a href='https://wandb.ai/cs22m083/CS6910_Assignment1' target=\"_blank\">Weights & Biases</a> (<a href='https://wandb.me/run' target=\"_blank\">docs</a>)<br/>Sweep page: <a href='https://wandb.ai/cs22m083/CS6910_Assignment1/sweeps/gb9w2qt6' target=\"_blank\">https://wandb.ai/cs22m083/CS6910_Assignment1/sweeps/gb9w2qt6</a>"
      ],
      "text/plain": [
       "<IPython.core.display.HTML object>"
      ]
     },
     "metadata": {},
     "output_type": "display_data"
    },
    {
     "data": {
      "text/html": [
       " View project at <a href='https://wandb.ai/cs22m083/CS6910_Assignment1' target=\"_blank\">https://wandb.ai/cs22m083/CS6910_Assignment1</a>"
      ],
      "text/plain": [
       "<IPython.core.display.HTML object>"
      ]
     },
     "metadata": {},
     "output_type": "display_data"
    },
    {
     "data": {
      "text/html": [
       " View sweep at <a href='https://wandb.ai/cs22m083/CS6910_Assignment1/sweeps/gb9w2qt6' target=\"_blank\">https://wandb.ai/cs22m083/CS6910_Assignment1/sweeps/gb9w2qt6</a>"
      ],
      "text/plain": [
       "<IPython.core.display.HTML object>"
      ]
     },
     "metadata": {},
     "output_type": "display_data"
    },
    {
     "data": {
      "text/html": [
       " View run at <a href='https://wandb.ai/cs22m083/CS6910_Assignment1/runs/waudhqok' target=\"_blank\">https://wandb.ai/cs22m083/CS6910_Assignment1/runs/waudhqok</a>"
      ],
      "text/plain": [
       "<IPython.core.display.HTML object>"
      ]
     },
     "metadata": {},
     "output_type": "display_data"
    },
    {
     "name": "stdout",
     "output_type": "stream",
     "text": [
      " Training Loss:  0.5985543636476588  Validation Loss: 0.6744967533697628  Training Accuracy:  0.7894833333333333  Validation Accuracy: 0.7577\n"
     ]
    },
    {
     "data": {
      "text/html": [
       "Waiting for W&B process to finish... <strong style=\"color:green\">(success).</strong>"
      ],
      "text/plain": [
       "<IPython.core.display.HTML object>"
      ]
     },
     "metadata": {},
     "output_type": "display_data"
    },
    {
     "data": {
      "application/vnd.jupyter.widget-view+json": {
       "model_id": "08a2e98aa0434e63a35af59a1dd8d046",
       "version_major": 2,
       "version_minor": 0
      },
      "text/plain": [
       "VBox(children=(Label(value='0.001 MB of 0.001 MB uploaded (0.000 MB deduped)\\r'), FloatProgress(value=1.0, max…"
      ]
     },
     "metadata": {},
     "output_type": "display_data"
    },
    {
     "data": {
      "text/html": [
       "<style>\n",
       "    table.wandb td:nth-child(1) { padding: 0 10px; text-align: left ; width: auto;} td:nth-child(2) {text-align: left ; width: 100%}\n",
       "    .wandb-row { display: flex; flex-direction: row; flex-wrap: wrap; justify-content: flex-start; width: 100% }\n",
       "    .wandb-col { display: flex; flex-direction: column; flex-basis: 100%; flex: 1; padding: 10px; }\n",
       "    </style>\n",
       "<div class=\"wandb-row\"><div class=\"wandb-col\"><h3>Run history:</h3><br/><table class=\"wandb\"><tr><td>Accuracy</td><td>▁</td></tr><tr><td>Epoch</td><td>▁▃▅▆█</td></tr><tr><td>Training_accuracy</td><td>▁▅▆▇█</td></tr><tr><td>Training_loss</td><td>█▃▂▁▁</td></tr><tr><td>Validation_accuracy</td><td>▁▆██▆</td></tr><tr><td>Validation_loss</td><td>█▃▁▁▃</td></tr></table><br/></div><div class=\"wandb-col\"><h3>Run summary:</h3><br/><table class=\"wandb\"><tr><td>Accuracy</td><td>0.7577</td></tr><tr><td>Epoch</td><td>5</td></tr><tr><td>Training_accuracy</td><td>0.78948</td></tr><tr><td>Training_loss</td><td>0.59855</td></tr><tr><td>Validation_accuracy</td><td>0.7577</td></tr><tr><td>Validation_loss</td><td>0.6745</td></tr></table><br/></div></div>"
      ],
      "text/plain": [
       "<IPython.core.display.HTML object>"
      ]
     },
     "metadata": {},
     "output_type": "display_data"
    },
    {
     "data": {
      "text/html": [
       " View run <strong style=\"color:#cdcd00\">Question:4</strong> at: <a href='https://wandb.ai/cs22m083/CS6910_Assignment1/runs/waudhqok' target=\"_blank\">https://wandb.ai/cs22m083/CS6910_Assignment1/runs/waudhqok</a><br/>Synced 6 W&B file(s), 0 media file(s), 0 artifact file(s) and 0 other file(s)"
      ],
      "text/plain": [
       "<IPython.core.display.HTML object>"
      ]
     },
     "metadata": {},
     "output_type": "display_data"
    },
    {
     "data": {
      "text/html": [
       "Find logs at: <code>.\\wandb\\run-20230318_150635-waudhqok\\logs</code>"
      ],
      "text/plain": [
       "<IPython.core.display.HTML object>"
      ]
     },
     "metadata": {},
     "output_type": "display_data"
    },
    {
     "name": "stderr",
     "output_type": "stream",
     "text": [
      "\u001b[34m\u001b[1mwandb\u001b[0m: Agent Starting Run: xp2e9kec with config:\n",
      "\u001b[34m\u001b[1mwandb\u001b[0m: \tactivation: tanh\n",
      "\u001b[34m\u001b[1mwandb\u001b[0m: \tbatch_size: 16\n",
      "\u001b[34m\u001b[1mwandb\u001b[0m: \tepochs: 10\n",
      "\u001b[34m\u001b[1mwandb\u001b[0m: \tgamma: 0.002\n",
      "\u001b[34m\u001b[1mwandb\u001b[0m: \thidden_layers: [32, 64, 128, 256]\n",
      "\u001b[34m\u001b[1mwandb\u001b[0m: \tinitialization: Xavier\n",
      "\u001b[34m\u001b[1mwandb\u001b[0m: \tlearning_rate: 0.0003\n",
      "\u001b[34m\u001b[1mwandb\u001b[0m: \toptimizer: adam\n",
      "\u001b[34m\u001b[1mwandb\u001b[0m: \tweight_decay: 0\n",
      "Failed to detect the name of this notebook, you can set it manually with the WANDB_NOTEBOOK_NAME environment variable to enable code saving.\n",
      "\u001b[34m\u001b[1mwandb\u001b[0m: \u001b[33mWARNING\u001b[0m Ignored wandb.init() arg project when running a sweep.\n"
     ]
    },
    {
     "data": {
      "text/html": [
       "wandb version 0.14.0 is available!  To upgrade, please run:\n",
       " $ pip install wandb --upgrade"
      ],
      "text/plain": [
       "<IPython.core.display.HTML object>"
      ]
     },
     "metadata": {},
     "output_type": "display_data"
    },
    {
     "data": {
      "text/html": [
       "Tracking run with wandb version 0.13.10"
      ],
      "text/plain": [
       "<IPython.core.display.HTML object>"
      ]
     },
     "metadata": {},
     "output_type": "display_data"
    },
    {
     "data": {
      "text/html": [
       "Run data is saved locally in <code>C:\\Users\\Shivam Maurya\\OneDrive\\Desktop\\IIT_MADRAS\\Deep Learning\\assignment 1\\CS6910-Deep_Learning_Assignment-1\\wandb\\run-20230318_150816-xp2e9kec</code>"
      ],
      "text/plain": [
       "<IPython.core.display.HTML object>"
      ]
     },
     "metadata": {},
     "output_type": "display_data"
    },
    {
     "data": {
      "text/html": [
       "Syncing run <strong><a href='https://wandb.ai/cs22m083/CS6910_Assignment1/runs/xp2e9kec' target=\"_blank\">Question:4</a></strong> to <a href='https://wandb.ai/cs22m083/CS6910_Assignment1' target=\"_blank\">Weights & Biases</a> (<a href='https://wandb.me/run' target=\"_blank\">docs</a>)<br/>Sweep page: <a href='https://wandb.ai/cs22m083/CS6910_Assignment1/sweeps/gb9w2qt6' target=\"_blank\">https://wandb.ai/cs22m083/CS6910_Assignment1/sweeps/gb9w2qt6</a>"
      ],
      "text/plain": [
       "<IPython.core.display.HTML object>"
      ]
     },
     "metadata": {},
     "output_type": "display_data"
    },
    {
     "data": {
      "text/html": [
       " View project at <a href='https://wandb.ai/cs22m083/CS6910_Assignment1' target=\"_blank\">https://wandb.ai/cs22m083/CS6910_Assignment1</a>"
      ],
      "text/plain": [
       "<IPython.core.display.HTML object>"
      ]
     },
     "metadata": {},
     "output_type": "display_data"
    },
    {
     "data": {
      "text/html": [
       " View sweep at <a href='https://wandb.ai/cs22m083/CS6910_Assignment1/sweeps/gb9w2qt6' target=\"_blank\">https://wandb.ai/cs22m083/CS6910_Assignment1/sweeps/gb9w2qt6</a>"
      ],
      "text/plain": [
       "<IPython.core.display.HTML object>"
      ]
     },
     "metadata": {},
     "output_type": "display_data"
    },
    {
     "data": {
      "text/html": [
       " View run at <a href='https://wandb.ai/cs22m083/CS6910_Assignment1/runs/xp2e9kec' target=\"_blank\">https://wandb.ai/cs22m083/CS6910_Assignment1/runs/xp2e9kec</a>"
      ],
      "text/plain": [
       "<IPython.core.display.HTML object>"
      ]
     },
     "metadata": {},
     "output_type": "display_data"
    },
    {
     "name": "stdout",
     "output_type": "stream",
     "text": [
      " Training Loss:  0.264687976549631  Validation Loss: 0.3701198528968958  Training Accuracy:  0.9015666666666666  Validation Accuracy: 0.8663\n"
     ]
    },
    {
     "data": {
      "text/html": [
       "Waiting for W&B process to finish... <strong style=\"color:green\">(success).</strong>"
      ],
      "text/plain": [
       "<IPython.core.display.HTML object>"
      ]
     },
     "metadata": {},
     "output_type": "display_data"
    },
    {
     "data": {
      "application/vnd.jupyter.widget-view+json": {
       "model_id": "210402d8ae3748078be13a95dfdb47c0",
       "version_major": 2,
       "version_minor": 0
      },
      "text/plain": [
       "VBox(children=(Label(value='0.001 MB of 0.001 MB uploaded (0.000 MB deduped)\\r'), FloatProgress(value=1.0, max…"
      ]
     },
     "metadata": {},
     "output_type": "display_data"
    },
    {
     "data": {
      "text/html": [
       "<style>\n",
       "    table.wandb td:nth-child(1) { padding: 0 10px; text-align: left ; width: auto;} td:nth-child(2) {text-align: left ; width: 100%}\n",
       "    .wandb-row { display: flex; flex-direction: row; flex-wrap: wrap; justify-content: flex-start; width: 100% }\n",
       "    .wandb-col { display: flex; flex-direction: column; flex-basis: 100%; flex: 1; padding: 10px; }\n",
       "    </style>\n",
       "<div class=\"wandb-row\"><div class=\"wandb-col\"><h3>Run history:</h3><br/><table class=\"wandb\"><tr><td>Accuracy</td><td>▁</td></tr><tr><td>Epoch</td><td>▁▂▃▃▄▅▆▆▇█</td></tr><tr><td>Training_accuracy</td><td>▁▄▅▆▆▇▇▇██</td></tr><tr><td>Training_loss</td><td>█▅▄▃▃▂▂▂▁▁</td></tr><tr><td>Validation_accuracy</td><td>▁▄▆▆▆▇▇███</td></tr><tr><td>Validation_loss</td><td>█▄▃▂▂▁▁▁▁▁</td></tr></table><br/></div><div class=\"wandb-col\"><h3>Run summary:</h3><br/><table class=\"wandb\"><tr><td>Accuracy</td><td>0.8663</td></tr><tr><td>Epoch</td><td>10</td></tr><tr><td>Training_accuracy</td><td>0.90157</td></tr><tr><td>Training_loss</td><td>0.26469</td></tr><tr><td>Validation_accuracy</td><td>0.8663</td></tr><tr><td>Validation_loss</td><td>0.37012</td></tr></table><br/></div></div>"
      ],
      "text/plain": [
       "<IPython.core.display.HTML object>"
      ]
     },
     "metadata": {},
     "output_type": "display_data"
    },
    {
     "data": {
      "text/html": [
       " View run <strong style=\"color:#cdcd00\">Question:4</strong> at: <a href='https://wandb.ai/cs22m083/CS6910_Assignment1/runs/xp2e9kec' target=\"_blank\">https://wandb.ai/cs22m083/CS6910_Assignment1/runs/xp2e9kec</a><br/>Synced 6 W&B file(s), 0 media file(s), 0 artifact file(s) and 0 other file(s)"
      ],
      "text/plain": [
       "<IPython.core.display.HTML object>"
      ]
     },
     "metadata": {},
     "output_type": "display_data"
    },
    {
     "data": {
      "text/html": [
       "Find logs at: <code>.\\wandb\\run-20230318_150816-xp2e9kec\\logs</code>"
      ],
      "text/plain": [
       "<IPython.core.display.HTML object>"
      ]
     },
     "metadata": {},
     "output_type": "display_data"
    },
    {
     "name": "stderr",
     "output_type": "stream",
     "text": [
      "\u001b[34m\u001b[1mwandb\u001b[0m: Agent Starting Run: ukgi02jo with config:\n",
      "\u001b[34m\u001b[1mwandb\u001b[0m: \tactivation: tanh\n",
      "\u001b[34m\u001b[1mwandb\u001b[0m: \tbatch_size: 64\n",
      "\u001b[34m\u001b[1mwandb\u001b[0m: \tepochs: 5\n",
      "\u001b[34m\u001b[1mwandb\u001b[0m: \tgamma: 0.0006\n",
      "\u001b[34m\u001b[1mwandb\u001b[0m: \thidden_layers: [32, 64, 128, 256]\n",
      "\u001b[34m\u001b[1mwandb\u001b[0m: \tinitialization: Xavier\n",
      "\u001b[34m\u001b[1mwandb\u001b[0m: \tlearning_rate: 0.0001\n",
      "\u001b[34m\u001b[1mwandb\u001b[0m: \toptimizer: adam\n",
      "\u001b[34m\u001b[1mwandb\u001b[0m: \tweight_decay: 0\n",
      "Failed to detect the name of this notebook, you can set it manually with the WANDB_NOTEBOOK_NAME environment variable to enable code saving.\n",
      "\u001b[34m\u001b[1mwandb\u001b[0m: \u001b[33mWARNING\u001b[0m Ignored wandb.init() arg project when running a sweep.\n"
     ]
    },
    {
     "data": {
      "text/html": [
       "wandb version 0.14.0 is available!  To upgrade, please run:\n",
       " $ pip install wandb --upgrade"
      ],
      "text/plain": [
       "<IPython.core.display.HTML object>"
      ]
     },
     "metadata": {},
     "output_type": "display_data"
    },
    {
     "data": {
      "text/html": [
       "Tracking run with wandb version 0.13.10"
      ],
      "text/plain": [
       "<IPython.core.display.HTML object>"
      ]
     },
     "metadata": {},
     "output_type": "display_data"
    },
    {
     "data": {
      "text/html": [
       "Run data is saved locally in <code>C:\\Users\\Shivam Maurya\\OneDrive\\Desktop\\IIT_MADRAS\\Deep Learning\\assignment 1\\CS6910-Deep_Learning_Assignment-1\\wandb\\run-20230318_151458-ukgi02jo</code>"
      ],
      "text/plain": [
       "<IPython.core.display.HTML object>"
      ]
     },
     "metadata": {},
     "output_type": "display_data"
    },
    {
     "data": {
      "text/html": [
       "Syncing run <strong><a href='https://wandb.ai/cs22m083/CS6910_Assignment1/runs/ukgi02jo' target=\"_blank\">Question:4</a></strong> to <a href='https://wandb.ai/cs22m083/CS6910_Assignment1' target=\"_blank\">Weights & Biases</a> (<a href='https://wandb.me/run' target=\"_blank\">docs</a>)<br/>Sweep page: <a href='https://wandb.ai/cs22m083/CS6910_Assignment1/sweeps/gb9w2qt6' target=\"_blank\">https://wandb.ai/cs22m083/CS6910_Assignment1/sweeps/gb9w2qt6</a>"
      ],
      "text/plain": [
       "<IPython.core.display.HTML object>"
      ]
     },
     "metadata": {},
     "output_type": "display_data"
    },
    {
     "data": {
      "text/html": [
       " View project at <a href='https://wandb.ai/cs22m083/CS6910_Assignment1' target=\"_blank\">https://wandb.ai/cs22m083/CS6910_Assignment1</a>"
      ],
      "text/plain": [
       "<IPython.core.display.HTML object>"
      ]
     },
     "metadata": {},
     "output_type": "display_data"
    },
    {
     "data": {
      "text/html": [
       " View sweep at <a href='https://wandb.ai/cs22m083/CS6910_Assignment1/sweeps/gb9w2qt6' target=\"_blank\">https://wandb.ai/cs22m083/CS6910_Assignment1/sweeps/gb9w2qt6</a>"
      ],
      "text/plain": [
       "<IPython.core.display.HTML object>"
      ]
     },
     "metadata": {},
     "output_type": "display_data"
    },
    {
     "data": {
      "text/html": [
       " View run at <a href='https://wandb.ai/cs22m083/CS6910_Assignment1/runs/ukgi02jo' target=\"_blank\">https://wandb.ai/cs22m083/CS6910_Assignment1/runs/ukgi02jo</a>"
      ],
      "text/plain": [
       "<IPython.core.display.HTML object>"
      ]
     },
     "metadata": {},
     "output_type": "display_data"
    },
    {
     "name": "stdout",
     "output_type": "stream",
     "text": [
      " Training Loss:  0.38994231676302493  Validation Loss: 0.4221992783758591  Training Accuracy:  0.8599666666666667  Validation Accuracy: 0.8469\n"
     ]
    },
    {
     "data": {
      "text/html": [
       "Waiting for W&B process to finish... <strong style=\"color:green\">(success).</strong>"
      ],
      "text/plain": [
       "<IPython.core.display.HTML object>"
      ]
     },
     "metadata": {},
     "output_type": "display_data"
    },
    {
     "data": {
      "application/vnd.jupyter.widget-view+json": {
       "model_id": "54bbafdfac90447baab9d4342cbbc413",
       "version_major": 2,
       "version_minor": 0
      },
      "text/plain": [
       "VBox(children=(Label(value='0.001 MB of 0.001 MB uploaded (0.000 MB deduped)\\r'), FloatProgress(value=1.0, max…"
      ]
     },
     "metadata": {},
     "output_type": "display_data"
    },
    {
     "data": {
      "text/html": [
       "<style>\n",
       "    table.wandb td:nth-child(1) { padding: 0 10px; text-align: left ; width: auto;} td:nth-child(2) {text-align: left ; width: 100%}\n",
       "    .wandb-row { display: flex; flex-direction: row; flex-wrap: wrap; justify-content: flex-start; width: 100% }\n",
       "    .wandb-col { display: flex; flex-direction: column; flex-basis: 100%; flex: 1; padding: 10px; }\n",
       "    </style>\n",
       "<div class=\"wandb-row\"><div class=\"wandb-col\"><h3>Run history:</h3><br/><table class=\"wandb\"><tr><td>Accuracy</td><td>▁</td></tr><tr><td>Epoch</td><td>▁▃▅▆█</td></tr><tr><td>Training_accuracy</td><td>▁▆▇██</td></tr><tr><td>Training_loss</td><td>█▃▂▁▁</td></tr><tr><td>Validation_accuracy</td><td>▁▅▆▇█</td></tr><tr><td>Validation_loss</td><td>█▄▃▂▁</td></tr></table><br/></div><div class=\"wandb-col\"><h3>Run summary:</h3><br/><table class=\"wandb\"><tr><td>Accuracy</td><td>0.8469</td></tr><tr><td>Epoch</td><td>5</td></tr><tr><td>Training_accuracy</td><td>0.85997</td></tr><tr><td>Training_loss</td><td>0.38994</td></tr><tr><td>Validation_accuracy</td><td>0.8469</td></tr><tr><td>Validation_loss</td><td>0.4222</td></tr></table><br/></div></div>"
      ],
      "text/plain": [
       "<IPython.core.display.HTML object>"
      ]
     },
     "metadata": {},
     "output_type": "display_data"
    },
    {
     "data": {
      "text/html": [
       " View run <strong style=\"color:#cdcd00\">Question:4</strong> at: <a href='https://wandb.ai/cs22m083/CS6910_Assignment1/runs/ukgi02jo' target=\"_blank\">https://wandb.ai/cs22m083/CS6910_Assignment1/runs/ukgi02jo</a><br/>Synced 6 W&B file(s), 0 media file(s), 0 artifact file(s) and 0 other file(s)"
      ],
      "text/plain": [
       "<IPython.core.display.HTML object>"
      ]
     },
     "metadata": {},
     "output_type": "display_data"
    },
    {
     "data": {
      "text/html": [
       "Find logs at: <code>.\\wandb\\run-20230318_151458-ukgi02jo\\logs</code>"
      ],
      "text/plain": [
       "<IPython.core.display.HTML object>"
      ]
     },
     "metadata": {},
     "output_type": "display_data"
    },
    {
     "name": "stderr",
     "output_type": "stream",
     "text": [
      "\u001b[34m\u001b[1mwandb\u001b[0m: Agent Starting Run: 8b8moyp5 with config:\n",
      "\u001b[34m\u001b[1mwandb\u001b[0m: \tactivation: relu\n",
      "\u001b[34m\u001b[1mwandb\u001b[0m: \tbatch_size: 64\n",
      "\u001b[34m\u001b[1mwandb\u001b[0m: \tepochs: 5\n",
      "\u001b[34m\u001b[1mwandb\u001b[0m: \tgamma: 0.0006\n",
      "\u001b[34m\u001b[1mwandb\u001b[0m: \thidden_layers: [32, 64]\n",
      "\u001b[34m\u001b[1mwandb\u001b[0m: \tinitialization: Random\n",
      "\u001b[34m\u001b[1mwandb\u001b[0m: \tlearning_rate: 0.0006\n",
      "\u001b[34m\u001b[1mwandb\u001b[0m: \toptimizer: momentum\n",
      "\u001b[34m\u001b[1mwandb\u001b[0m: \tweight_decay: 0.0005\n",
      "Failed to detect the name of this notebook, you can set it manually with the WANDB_NOTEBOOK_NAME environment variable to enable code saving.\n",
      "\u001b[34m\u001b[1mwandb\u001b[0m: \u001b[33mWARNING\u001b[0m Ignored wandb.init() arg project when running a sweep.\n"
     ]
    },
    {
     "data": {
      "text/html": [
       "wandb version 0.14.0 is available!  To upgrade, please run:\n",
       " $ pip install wandb --upgrade"
      ],
      "text/plain": [
       "<IPython.core.display.HTML object>"
      ]
     },
     "metadata": {},
     "output_type": "display_data"
    },
    {
     "data": {
      "text/html": [
       "Tracking run with wandb version 0.13.10"
      ],
      "text/plain": [
       "<IPython.core.display.HTML object>"
      ]
     },
     "metadata": {},
     "output_type": "display_data"
    },
    {
     "data": {
      "text/html": [
       "Run data is saved locally in <code>C:\\Users\\Shivam Maurya\\OneDrive\\Desktop\\IIT_MADRAS\\Deep Learning\\assignment 1\\CS6910-Deep_Learning_Assignment-1\\wandb\\run-20230318_151759-8b8moyp5</code>"
      ],
      "text/plain": [
       "<IPython.core.display.HTML object>"
      ]
     },
     "metadata": {},
     "output_type": "display_data"
    },
    {
     "data": {
      "text/html": [
       "Syncing run <strong><a href='https://wandb.ai/cs22m083/CS6910_Assignment1/runs/8b8moyp5' target=\"_blank\">Question:4</a></strong> to <a href='https://wandb.ai/cs22m083/CS6910_Assignment1' target=\"_blank\">Weights & Biases</a> (<a href='https://wandb.me/run' target=\"_blank\">docs</a>)<br/>Sweep page: <a href='https://wandb.ai/cs22m083/CS6910_Assignment1/sweeps/gb9w2qt6' target=\"_blank\">https://wandb.ai/cs22m083/CS6910_Assignment1/sweeps/gb9w2qt6</a>"
      ],
      "text/plain": [
       "<IPython.core.display.HTML object>"
      ]
     },
     "metadata": {},
     "output_type": "display_data"
    },
    {
     "data": {
      "text/html": [
       " View project at <a href='https://wandb.ai/cs22m083/CS6910_Assignment1' target=\"_blank\">https://wandb.ai/cs22m083/CS6910_Assignment1</a>"
      ],
      "text/plain": [
       "<IPython.core.display.HTML object>"
      ]
     },
     "metadata": {},
     "output_type": "display_data"
    },
    {
     "data": {
      "text/html": [
       " View sweep at <a href='https://wandb.ai/cs22m083/CS6910_Assignment1/sweeps/gb9w2qt6' target=\"_blank\">https://wandb.ai/cs22m083/CS6910_Assignment1/sweeps/gb9w2qt6</a>"
      ],
      "text/plain": [
       "<IPython.core.display.HTML object>"
      ]
     },
     "metadata": {},
     "output_type": "display_data"
    },
    {
     "data": {
      "text/html": [
       " View run at <a href='https://wandb.ai/cs22m083/CS6910_Assignment1/runs/8b8moyp5' target=\"_blank\">https://wandb.ai/cs22m083/CS6910_Assignment1/runs/8b8moyp5</a>"
      ],
      "text/plain": [
       "<IPython.core.display.HTML object>"
      ]
     },
     "metadata": {},
     "output_type": "display_data"
    },
    {
     "name": "stdout",
     "output_type": "stream",
     "text": [
      " Training Loss:  nan  Validation Loss: nan  Training Accuracy:  0.1  Validation Accuracy: 0.1\n"
     ]
    },
    {
     "data": {
      "text/html": [
       "Waiting for W&B process to finish... <strong style=\"color:green\">(success).</strong>"
      ],
      "text/plain": [
       "<IPython.core.display.HTML object>"
      ]
     },
     "metadata": {},
     "output_type": "display_data"
    },
    {
     "data": {
      "application/vnd.jupyter.widget-view+json": {
       "model_id": "090825ae9cdf40098c0872e9688108ae",
       "version_major": 2,
       "version_minor": 0
      },
      "text/plain": [
       "VBox(children=(Label(value='0.001 MB of 0.001 MB uploaded (0.000 MB deduped)\\r'), FloatProgress(value=1.0, max…"
      ]
     },
     "metadata": {},
     "output_type": "display_data"
    },
    {
     "data": {
      "text/html": [
       "<style>\n",
       "    table.wandb td:nth-child(1) { padding: 0 10px; text-align: left ; width: auto;} td:nth-child(2) {text-align: left ; width: 100%}\n",
       "    .wandb-row { display: flex; flex-direction: row; flex-wrap: wrap; justify-content: flex-start; width: 100% }\n",
       "    .wandb-col { display: flex; flex-direction: column; flex-basis: 100%; flex: 1; padding: 10px; }\n",
       "    </style>\n",
       "<div class=\"wandb-row\"><div class=\"wandb-col\"><h3>Run history:</h3><br/><table class=\"wandb\"><tr><td>Accuracy</td><td>▁</td></tr><tr><td>Epoch</td><td>▁▃▅▆█</td></tr><tr><td>Training_accuracy</td><td>▁████</td></tr><tr><td>Validation_accuracy</td><td>▁▁▁▁▁</td></tr></table><br/></div><div class=\"wandb-col\"><h3>Run summary:</h3><br/><table class=\"wandb\"><tr><td>Accuracy</td><td>0.1</td></tr><tr><td>Epoch</td><td>5</td></tr><tr><td>Training_accuracy</td><td>0.1</td></tr><tr><td>Training_loss</td><td>nan</td></tr><tr><td>Validation_accuracy</td><td>0.1</td></tr><tr><td>Validation_loss</td><td>nan</td></tr></table><br/></div></div>"
      ],
      "text/plain": [
       "<IPython.core.display.HTML object>"
      ]
     },
     "metadata": {},
     "output_type": "display_data"
    },
    {
     "data": {
      "text/html": [
       " View run <strong style=\"color:#cdcd00\">Question:4</strong> at: <a href='https://wandb.ai/cs22m083/CS6910_Assignment1/runs/8b8moyp5' target=\"_blank\">https://wandb.ai/cs22m083/CS6910_Assignment1/runs/8b8moyp5</a><br/>Synced 6 W&B file(s), 0 media file(s), 0 artifact file(s) and 0 other file(s)"
      ],
      "text/plain": [
       "<IPython.core.display.HTML object>"
      ]
     },
     "metadata": {},
     "output_type": "display_data"
    },
    {
     "data": {
      "text/html": [
       "Find logs at: <code>.\\wandb\\run-20230318_151759-8b8moyp5\\logs</code>"
      ],
      "text/plain": [
       "<IPython.core.display.HTML object>"
      ]
     },
     "metadata": {},
     "output_type": "display_data"
    },
    {
     "name": "stderr",
     "output_type": "stream",
     "text": [
      "\u001b[34m\u001b[1mwandb\u001b[0m: Sweep Agent: Waiting for job.\n",
      "\u001b[34m\u001b[1mwandb\u001b[0m: Job received.\n",
      "\u001b[34m\u001b[1mwandb\u001b[0m: Agent Starting Run: j97h6t4q with config:\n",
      "\u001b[34m\u001b[1mwandb\u001b[0m: \tactivation: relu\n",
      "\u001b[34m\u001b[1mwandb\u001b[0m: \tbatch_size: 16\n",
      "\u001b[34m\u001b[1mwandb\u001b[0m: \tepochs: 5\n",
      "\u001b[34m\u001b[1mwandb\u001b[0m: \tgamma: 0.002\n",
      "\u001b[34m\u001b[1mwandb\u001b[0m: \thidden_layers: [32, 64]\n",
      "\u001b[34m\u001b[1mwandb\u001b[0m: \tinitialization: Xavier\n",
      "\u001b[34m\u001b[1mwandb\u001b[0m: \tlearning_rate: 0.0001\n",
      "\u001b[34m\u001b[1mwandb\u001b[0m: \toptimizer: nadam\n",
      "\u001b[34m\u001b[1mwandb\u001b[0m: \tweight_decay: 0\n",
      "Failed to detect the name of this notebook, you can set it manually with the WANDB_NOTEBOOK_NAME environment variable to enable code saving.\n",
      "\u001b[34m\u001b[1mwandb\u001b[0m: \u001b[33mWARNING\u001b[0m Ignored wandb.init() arg project when running a sweep.\n"
     ]
    },
    {
     "data": {
      "text/html": [
       "wandb version 0.14.0 is available!  To upgrade, please run:\n",
       " $ pip install wandb --upgrade"
      ],
      "text/plain": [
       "<IPython.core.display.HTML object>"
      ]
     },
     "metadata": {},
     "output_type": "display_data"
    },
    {
     "data": {
      "text/html": [
       "Tracking run with wandb version 0.13.10"
      ],
      "text/plain": [
       "<IPython.core.display.HTML object>"
      ]
     },
     "metadata": {},
     "output_type": "display_data"
    },
    {
     "data": {
      "text/html": [
       "Run data is saved locally in <code>C:\\Users\\Shivam Maurya\\OneDrive\\Desktop\\IIT_MADRAS\\Deep Learning\\assignment 1\\CS6910-Deep_Learning_Assignment-1\\wandb\\run-20230318_151950-j97h6t4q</code>"
      ],
      "text/plain": [
       "<IPython.core.display.HTML object>"
      ]
     },
     "metadata": {},
     "output_type": "display_data"
    },
    {
     "data": {
      "text/html": [
       "Syncing run <strong><a href='https://wandb.ai/cs22m083/CS6910_Assignment1/runs/j97h6t4q' target=\"_blank\">Question:4</a></strong> to <a href='https://wandb.ai/cs22m083/CS6910_Assignment1' target=\"_blank\">Weights & Biases</a> (<a href='https://wandb.me/run' target=\"_blank\">docs</a>)<br/>Sweep page: <a href='https://wandb.ai/cs22m083/CS6910_Assignment1/sweeps/gb9w2qt6' target=\"_blank\">https://wandb.ai/cs22m083/CS6910_Assignment1/sweeps/gb9w2qt6</a>"
      ],
      "text/plain": [
       "<IPython.core.display.HTML object>"
      ]
     },
     "metadata": {},
     "output_type": "display_data"
    },
    {
     "data": {
      "text/html": [
       " View project at <a href='https://wandb.ai/cs22m083/CS6910_Assignment1' target=\"_blank\">https://wandb.ai/cs22m083/CS6910_Assignment1</a>"
      ],
      "text/plain": [
       "<IPython.core.display.HTML object>"
      ]
     },
     "metadata": {},
     "output_type": "display_data"
    },
    {
     "data": {
      "text/html": [
       " View sweep at <a href='https://wandb.ai/cs22m083/CS6910_Assignment1/sweeps/gb9w2qt6' target=\"_blank\">https://wandb.ai/cs22m083/CS6910_Assignment1/sweeps/gb9w2qt6</a>"
      ],
      "text/plain": [
       "<IPython.core.display.HTML object>"
      ]
     },
     "metadata": {},
     "output_type": "display_data"
    },
    {
     "data": {
      "text/html": [
       " View run at <a href='https://wandb.ai/cs22m083/CS6910_Assignment1/runs/j97h6t4q' target=\"_blank\">https://wandb.ai/cs22m083/CS6910_Assignment1/runs/j97h6t4q</a>"
      ],
      "text/plain": [
       "<IPython.core.display.HTML object>"
      ]
     },
     "metadata": {},
     "output_type": "display_data"
    },
    {
     "name": "stdout",
     "output_type": "stream",
     "text": [
      " Training Loss:  0.3920033591534235  Validation Loss: 0.41465071385685376  Training Accuracy:  0.8632333333333333  Validation Accuracy: 0.8516\n"
     ]
    },
    {
     "data": {
      "text/html": [
       "Waiting for W&B process to finish... <strong style=\"color:green\">(success).</strong>"
      ],
      "text/plain": [
       "<IPython.core.display.HTML object>"
      ]
     },
     "metadata": {},
     "output_type": "display_data"
    },
    {
     "data": {
      "text/html": [
       "<style>\n",
       "    table.wandb td:nth-child(1) { padding: 0 10px; text-align: left ; width: auto;} td:nth-child(2) {text-align: left ; width: 100%}\n",
       "    .wandb-row { display: flex; flex-direction: row; flex-wrap: wrap; justify-content: flex-start; width: 100% }\n",
       "    .wandb-col { display: flex; flex-direction: column; flex-basis: 100%; flex: 1; padding: 10px; }\n",
       "    </style>\n",
       "<div class=\"wandb-row\"><div class=\"wandb-col\"><h3>Run history:</h3><br/><table class=\"wandb\"><tr><td>Accuracy</td><td>▁</td></tr><tr><td>Epoch</td><td>▁▃▅▆█</td></tr><tr><td>Training_accuracy</td><td>▁▆▇██</td></tr><tr><td>Training_loss</td><td>█▃▂▁▁</td></tr><tr><td>Validation_accuracy</td><td>▁▅▆▇█</td></tr><tr><td>Validation_loss</td><td>█▄▃▂▁</td></tr></table><br/></div><div class=\"wandb-col\"><h3>Run summary:</h3><br/><table class=\"wandb\"><tr><td>Accuracy</td><td>0.8516</td></tr><tr><td>Epoch</td><td>5</td></tr><tr><td>Training_accuracy</td><td>0.86323</td></tr><tr><td>Training_loss</td><td>0.392</td></tr><tr><td>Validation_accuracy</td><td>0.8516</td></tr><tr><td>Validation_loss</td><td>0.41465</td></tr></table><br/></div></div>"
      ],
      "text/plain": [
       "<IPython.core.display.HTML object>"
      ]
     },
     "metadata": {},
     "output_type": "display_data"
    },
    {
     "data": {
      "text/html": [
       " View run <strong style=\"color:#cdcd00\">Question:4</strong> at: <a href='https://wandb.ai/cs22m083/CS6910_Assignment1/runs/j97h6t4q' target=\"_blank\">https://wandb.ai/cs22m083/CS6910_Assignment1/runs/j97h6t4q</a><br/>Synced 6 W&B file(s), 0 media file(s), 0 artifact file(s) and 0 other file(s)"
      ],
      "text/plain": [
       "<IPython.core.display.HTML object>"
      ]
     },
     "metadata": {},
     "output_type": "display_data"
    },
    {
     "data": {
      "text/html": [
       "Find logs at: <code>.\\wandb\\run-20230318_151950-j97h6t4q\\logs</code>"
      ],
      "text/plain": [
       "<IPython.core.display.HTML object>"
      ]
     },
     "metadata": {},
     "output_type": "display_data"
    },
    {
     "name": "stderr",
     "output_type": "stream",
     "text": [
      "\u001b[34m\u001b[1mwandb\u001b[0m: Agent Starting Run: ypfzx8yl with config:\n",
      "\u001b[34m\u001b[1mwandb\u001b[0m: \tactivation: sigmoid\n",
      "\u001b[34m\u001b[1mwandb\u001b[0m: \tbatch_size: 64\n",
      "\u001b[34m\u001b[1mwandb\u001b[0m: \tepochs: 10\n",
      "\u001b[34m\u001b[1mwandb\u001b[0m: \tgamma: 0.002\n",
      "\u001b[34m\u001b[1mwandb\u001b[0m: \thidden_layers: [32, 64, 128]\n",
      "\u001b[34m\u001b[1mwandb\u001b[0m: \tinitialization: Random\n",
      "\u001b[34m\u001b[1mwandb\u001b[0m: \tlearning_rate: 0.0003\n",
      "\u001b[34m\u001b[1mwandb\u001b[0m: \toptimizer: momentum\n",
      "\u001b[34m\u001b[1mwandb\u001b[0m: \tweight_decay: 0.0005\n",
      "Failed to detect the name of this notebook, you can set it manually with the WANDB_NOTEBOOK_NAME environment variable to enable code saving.\n",
      "\u001b[34m\u001b[1mwandb\u001b[0m: \u001b[33mWARNING\u001b[0m Ignored wandb.init() arg project when running a sweep.\n"
     ]
    },
    {
     "data": {
      "text/html": [
       "wandb version 0.14.0 is available!  To upgrade, please run:\n",
       " $ pip install wandb --upgrade"
      ],
      "text/plain": [
       "<IPython.core.display.HTML object>"
      ]
     },
     "metadata": {},
     "output_type": "display_data"
    },
    {
     "data": {
      "text/html": [
       "Tracking run with wandb version 0.13.10"
      ],
      "text/plain": [
       "<IPython.core.display.HTML object>"
      ]
     },
     "metadata": {},
     "output_type": "display_data"
    },
    {
     "data": {
      "text/html": [
       "Run data is saved locally in <code>C:\\Users\\Shivam Maurya\\OneDrive\\Desktop\\IIT_MADRAS\\Deep Learning\\assignment 1\\CS6910-Deep_Learning_Assignment-1\\wandb\\run-20230318_152144-ypfzx8yl</code>"
      ],
      "text/plain": [
       "<IPython.core.display.HTML object>"
      ]
     },
     "metadata": {},
     "output_type": "display_data"
    },
    {
     "data": {
      "text/html": [
       "Syncing run <strong><a href='https://wandb.ai/cs22m083/CS6910_Assignment1/runs/ypfzx8yl' target=\"_blank\">Question:4</a></strong> to <a href='https://wandb.ai/cs22m083/CS6910_Assignment1' target=\"_blank\">Weights & Biases</a> (<a href='https://wandb.me/run' target=\"_blank\">docs</a>)<br/>Sweep page: <a href='https://wandb.ai/cs22m083/CS6910_Assignment1/sweeps/gb9w2qt6' target=\"_blank\">https://wandb.ai/cs22m083/CS6910_Assignment1/sweeps/gb9w2qt6</a>"
      ],
      "text/plain": [
       "<IPython.core.display.HTML object>"
      ]
     },
     "metadata": {},
     "output_type": "display_data"
    },
    {
     "data": {
      "text/html": [
       " View project at <a href='https://wandb.ai/cs22m083/CS6910_Assignment1' target=\"_blank\">https://wandb.ai/cs22m083/CS6910_Assignment1</a>"
      ],
      "text/plain": [
       "<IPython.core.display.HTML object>"
      ]
     },
     "metadata": {},
     "output_type": "display_data"
    },
    {
     "data": {
      "text/html": [
       " View sweep at <a href='https://wandb.ai/cs22m083/CS6910_Assignment1/sweeps/gb9w2qt6' target=\"_blank\">https://wandb.ai/cs22m083/CS6910_Assignment1/sweeps/gb9w2qt6</a>"
      ],
      "text/plain": [
       "<IPython.core.display.HTML object>"
      ]
     },
     "metadata": {},
     "output_type": "display_data"
    },
    {
     "data": {
      "text/html": [
       " View run at <a href='https://wandb.ai/cs22m083/CS6910_Assignment1/runs/ypfzx8yl' target=\"_blank\">https://wandb.ai/cs22m083/CS6910_Assignment1/runs/ypfzx8yl</a>"
      ],
      "text/plain": [
       "<IPython.core.display.HTML object>"
      ]
     },
     "metadata": {},
     "output_type": "display_data"
    },
    {
     "name": "stdout",
     "output_type": "stream",
     "text": [
      " Training Loss:  0.7230390892981563  Validation Loss: 0.7391549215793831  Training Accuracy:  0.7330166666666666  Validation Accuracy: 0.723\n"
     ]
    },
    {
     "data": {
      "text/html": [
       "Waiting for W&B process to finish... <strong style=\"color:green\">(success).</strong>"
      ],
      "text/plain": [
       "<IPython.core.display.HTML object>"
      ]
     },
     "metadata": {},
     "output_type": "display_data"
    },
    {
     "data": {
      "application/vnd.jupyter.widget-view+json": {
       "model_id": "7cf8840df91d4f11915a4993332379ff",
       "version_major": 2,
       "version_minor": 0
      },
      "text/plain": [
       "VBox(children=(Label(value='0.001 MB of 0.001 MB uploaded (0.000 MB deduped)\\r'), FloatProgress(value=1.0, max…"
      ]
     },
     "metadata": {},
     "output_type": "display_data"
    },
    {
     "data": {
      "text/html": [
       "<style>\n",
       "    table.wandb td:nth-child(1) { padding: 0 10px; text-align: left ; width: auto;} td:nth-child(2) {text-align: left ; width: 100%}\n",
       "    .wandb-row { display: flex; flex-direction: row; flex-wrap: wrap; justify-content: flex-start; width: 100% }\n",
       "    .wandb-col { display: flex; flex-direction: column; flex-basis: 100%; flex: 1; padding: 10px; }\n",
       "    </style>\n",
       "<div class=\"wandb-row\"><div class=\"wandb-col\"><h3>Run history:</h3><br/><table class=\"wandb\"><tr><td>Accuracy</td><td>▁</td></tr><tr><td>Epoch</td><td>▁▂▃▃▄▅▆▆▇█</td></tr><tr><td>Training_accuracy</td><td>▁▅▆▇▇▇████</td></tr><tr><td>Training_loss</td><td>█▄▃▂▂▂▁▁▁▁</td></tr><tr><td>Validation_accuracy</td><td>▁▄▅▆▆▇▇███</td></tr><tr><td>Validation_loss</td><td>█▆▄▃▃▂▂▂▁▁</td></tr></table><br/></div><div class=\"wandb-col\"><h3>Run summary:</h3><br/><table class=\"wandb\"><tr><td>Accuracy</td><td>0.723</td></tr><tr><td>Epoch</td><td>10</td></tr><tr><td>Training_accuracy</td><td>0.73302</td></tr><tr><td>Training_loss</td><td>0.72304</td></tr><tr><td>Validation_accuracy</td><td>0.723</td></tr><tr><td>Validation_loss</td><td>0.73915</td></tr></table><br/></div></div>"
      ],
      "text/plain": [
       "<IPython.core.display.HTML object>"
      ]
     },
     "metadata": {},
     "output_type": "display_data"
    },
    {
     "data": {
      "text/html": [
       " View run <strong style=\"color:#cdcd00\">Question:4</strong> at: <a href='https://wandb.ai/cs22m083/CS6910_Assignment1/runs/ypfzx8yl' target=\"_blank\">https://wandb.ai/cs22m083/CS6910_Assignment1/runs/ypfzx8yl</a><br/>Synced 6 W&B file(s), 0 media file(s), 0 artifact file(s) and 0 other file(s)"
      ],
      "text/plain": [
       "<IPython.core.display.HTML object>"
      ]
     },
     "metadata": {},
     "output_type": "display_data"
    },
    {
     "data": {
      "text/html": [
       "Find logs at: <code>.\\wandb\\run-20230318_152144-ypfzx8yl\\logs</code>"
      ],
      "text/plain": [
       "<IPython.core.display.HTML object>"
      ]
     },
     "metadata": {},
     "output_type": "display_data"
    },
    {
     "name": "stderr",
     "output_type": "stream",
     "text": [
      "\u001b[34m\u001b[1mwandb\u001b[0m: Agent Starting Run: 6o5q5x7a with config:\n",
      "\u001b[34m\u001b[1mwandb\u001b[0m: \tactivation: relu\n",
      "\u001b[34m\u001b[1mwandb\u001b[0m: \tbatch_size: 64\n",
      "\u001b[34m\u001b[1mwandb\u001b[0m: \tepochs: 5\n",
      "\u001b[34m\u001b[1mwandb\u001b[0m: \tgamma: 0.0006\n",
      "\u001b[34m\u001b[1mwandb\u001b[0m: \thidden_layers: [32, 64]\n",
      "\u001b[34m\u001b[1mwandb\u001b[0m: \tinitialization: Random\n",
      "\u001b[34m\u001b[1mwandb\u001b[0m: \tlearning_rate: 0.0005\n",
      "\u001b[34m\u001b[1mwandb\u001b[0m: \toptimizer: adam\n",
      "\u001b[34m\u001b[1mwandb\u001b[0m: \tweight_decay: 0\n",
      "Failed to detect the name of this notebook, you can set it manually with the WANDB_NOTEBOOK_NAME environment variable to enable code saving.\n",
      "\u001b[34m\u001b[1mwandb\u001b[0m: \u001b[33mWARNING\u001b[0m Ignored wandb.init() arg project when running a sweep.\n"
     ]
    },
    {
     "data": {
      "text/html": [
       "wandb version 0.14.0 is available!  To upgrade, please run:\n",
       " $ pip install wandb --upgrade"
      ],
      "text/plain": [
       "<IPython.core.display.HTML object>"
      ]
     },
     "metadata": {},
     "output_type": "display_data"
    },
    {
     "data": {
      "text/html": [
       "Tracking run with wandb version 0.13.10"
      ],
      "text/plain": [
       "<IPython.core.display.HTML object>"
      ]
     },
     "metadata": {},
     "output_type": "display_data"
    },
    {
     "data": {
      "text/html": [
       "Run data is saved locally in <code>C:\\Users\\Shivam Maurya\\OneDrive\\Desktop\\IIT_MADRAS\\Deep Learning\\assignment 1\\CS6910-Deep_Learning_Assignment-1\\wandb\\run-20230318_152538-6o5q5x7a</code>"
      ],
      "text/plain": [
       "<IPython.core.display.HTML object>"
      ]
     },
     "metadata": {},
     "output_type": "display_data"
    },
    {
     "data": {
      "text/html": [
       "Syncing run <strong><a href='https://wandb.ai/cs22m083/CS6910_Assignment1/runs/6o5q5x7a' target=\"_blank\">Question:4</a></strong> to <a href='https://wandb.ai/cs22m083/CS6910_Assignment1' target=\"_blank\">Weights & Biases</a> (<a href='https://wandb.me/run' target=\"_blank\">docs</a>)<br/>Sweep page: <a href='https://wandb.ai/cs22m083/CS6910_Assignment1/sweeps/gb9w2qt6' target=\"_blank\">https://wandb.ai/cs22m083/CS6910_Assignment1/sweeps/gb9w2qt6</a>"
      ],
      "text/plain": [
       "<IPython.core.display.HTML object>"
      ]
     },
     "metadata": {},
     "output_type": "display_data"
    },
    {
     "data": {
      "text/html": [
       " View project at <a href='https://wandb.ai/cs22m083/CS6910_Assignment1' target=\"_blank\">https://wandb.ai/cs22m083/CS6910_Assignment1</a>"
      ],
      "text/plain": [
       "<IPython.core.display.HTML object>"
      ]
     },
     "metadata": {},
     "output_type": "display_data"
    },
    {
     "data": {
      "text/html": [
       " View sweep at <a href='https://wandb.ai/cs22m083/CS6910_Assignment1/sweeps/gb9w2qt6' target=\"_blank\">https://wandb.ai/cs22m083/CS6910_Assignment1/sweeps/gb9w2qt6</a>"
      ],
      "text/plain": [
       "<IPython.core.display.HTML object>"
      ]
     },
     "metadata": {},
     "output_type": "display_data"
    },
    {
     "data": {
      "text/html": [
       " View run at <a href='https://wandb.ai/cs22m083/CS6910_Assignment1/runs/6o5q5x7a' target=\"_blank\">https://wandb.ai/cs22m083/CS6910_Assignment1/runs/6o5q5x7a</a>"
      ],
      "text/plain": [
       "<IPython.core.display.HTML object>"
      ]
     },
     "metadata": {},
     "output_type": "display_data"
    },
    {
     "name": "stdout",
     "output_type": "stream",
     "text": [
      " Training Loss:  nan  Validation Loss: nan  Training Accuracy:  0.1  Validation Accuracy: 0.1\n"
     ]
    },
    {
     "data": {
      "text/html": [
       "Waiting for W&B process to finish... <strong style=\"color:green\">(success).</strong>"
      ],
      "text/plain": [
       "<IPython.core.display.HTML object>"
      ]
     },
     "metadata": {},
     "output_type": "display_data"
    },
    {
     "data": {
      "text/html": [
       "<style>\n",
       "    table.wandb td:nth-child(1) { padding: 0 10px; text-align: left ; width: auto;} td:nth-child(2) {text-align: left ; width: 100%}\n",
       "    .wandb-row { display: flex; flex-direction: row; flex-wrap: wrap; justify-content: flex-start; width: 100% }\n",
       "    .wandb-col { display: flex; flex-direction: column; flex-basis: 100%; flex: 1; padding: 10px; }\n",
       "    </style>\n",
       "<div class=\"wandb-row\"><div class=\"wandb-col\"><h3>Run history:</h3><br/><table class=\"wandb\"><tr><td>Accuracy</td><td>▁</td></tr><tr><td>Epoch</td><td>▁▃▅▆█</td></tr><tr><td>Training_accuracy</td><td>▁████</td></tr><tr><td>Validation_accuracy</td><td>▁▁▁▁▁</td></tr></table><br/></div><div class=\"wandb-col\"><h3>Run summary:</h3><br/><table class=\"wandb\"><tr><td>Accuracy</td><td>0.1</td></tr><tr><td>Epoch</td><td>5</td></tr><tr><td>Training_accuracy</td><td>0.1</td></tr><tr><td>Training_loss</td><td>nan</td></tr><tr><td>Validation_accuracy</td><td>0.1</td></tr><tr><td>Validation_loss</td><td>nan</td></tr></table><br/></div></div>"
      ],
      "text/plain": [
       "<IPython.core.display.HTML object>"
      ]
     },
     "metadata": {},
     "output_type": "display_data"
    },
    {
     "data": {
      "text/html": [
       " View run <strong style=\"color:#cdcd00\">Question:4</strong> at: <a href='https://wandb.ai/cs22m083/CS6910_Assignment1/runs/6o5q5x7a' target=\"_blank\">https://wandb.ai/cs22m083/CS6910_Assignment1/runs/6o5q5x7a</a><br/>Synced 6 W&B file(s), 0 media file(s), 0 artifact file(s) and 0 other file(s)"
      ],
      "text/plain": [
       "<IPython.core.display.HTML object>"
      ]
     },
     "metadata": {},
     "output_type": "display_data"
    },
    {
     "data": {
      "text/html": [
       "Find logs at: <code>.\\wandb\\run-20230318_152538-6o5q5x7a\\logs</code>"
      ],
      "text/plain": [
       "<IPython.core.display.HTML object>"
      ]
     },
     "metadata": {},
     "output_type": "display_data"
    },
    {
     "name": "stderr",
     "output_type": "stream",
     "text": [
      "\u001b[34m\u001b[1mwandb\u001b[0m: Sweep Agent: Waiting for job.\n",
      "\u001b[34m\u001b[1mwandb\u001b[0m: Job received.\n",
      "\u001b[34m\u001b[1mwandb\u001b[0m: Agent Starting Run: ojcnyhao with config:\n",
      "\u001b[34m\u001b[1mwandb\u001b[0m: \tactivation: relu\n",
      "\u001b[34m\u001b[1mwandb\u001b[0m: \tbatch_size: 32\n",
      "\u001b[34m\u001b[1mwandb\u001b[0m: \tepochs: 5\n",
      "\u001b[34m\u001b[1mwandb\u001b[0m: \tgamma: 0.002\n",
      "\u001b[34m\u001b[1mwandb\u001b[0m: \thidden_layers: [32, 64]\n",
      "\u001b[34m\u001b[1mwandb\u001b[0m: \tinitialization: Xavier\n",
      "\u001b[34m\u001b[1mwandb\u001b[0m: \tlearning_rate: 0.0005\n",
      "\u001b[34m\u001b[1mwandb\u001b[0m: \toptimizer: rmsprop\n",
      "\u001b[34m\u001b[1mwandb\u001b[0m: \tweight_decay: 0.5\n",
      "Failed to detect the name of this notebook, you can set it manually with the WANDB_NOTEBOOK_NAME environment variable to enable code saving.\n",
      "\u001b[34m\u001b[1mwandb\u001b[0m: \u001b[33mWARNING\u001b[0m Ignored wandb.init() arg project when running a sweep.\n"
     ]
    },
    {
     "data": {
      "text/html": [
       "wandb version 0.14.0 is available!  To upgrade, please run:\n",
       " $ pip install wandb --upgrade"
      ],
      "text/plain": [
       "<IPython.core.display.HTML object>"
      ]
     },
     "metadata": {},
     "output_type": "display_data"
    },
    {
     "data": {
      "text/html": [
       "Tracking run with wandb version 0.13.10"
      ],
      "text/plain": [
       "<IPython.core.display.HTML object>"
      ]
     },
     "metadata": {},
     "output_type": "display_data"
    },
    {
     "data": {
      "text/html": [
       "Run data is saved locally in <code>C:\\Users\\Shivam Maurya\\OneDrive\\Desktop\\IIT_MADRAS\\Deep Learning\\assignment 1\\CS6910-Deep_Learning_Assignment-1\\wandb\\run-20230318_152730-ojcnyhao</code>"
      ],
      "text/plain": [
       "<IPython.core.display.HTML object>"
      ]
     },
     "metadata": {},
     "output_type": "display_data"
    },
    {
     "data": {
      "text/html": [
       "Syncing run <strong><a href='https://wandb.ai/cs22m083/CS6910_Assignment1/runs/ojcnyhao' target=\"_blank\">Question:4</a></strong> to <a href='https://wandb.ai/cs22m083/CS6910_Assignment1' target=\"_blank\">Weights & Biases</a> (<a href='https://wandb.me/run' target=\"_blank\">docs</a>)<br/>Sweep page: <a href='https://wandb.ai/cs22m083/CS6910_Assignment1/sweeps/gb9w2qt6' target=\"_blank\">https://wandb.ai/cs22m083/CS6910_Assignment1/sweeps/gb9w2qt6</a>"
      ],
      "text/plain": [
       "<IPython.core.display.HTML object>"
      ]
     },
     "metadata": {},
     "output_type": "display_data"
    },
    {
     "data": {
      "text/html": [
       " View project at <a href='https://wandb.ai/cs22m083/CS6910_Assignment1' target=\"_blank\">https://wandb.ai/cs22m083/CS6910_Assignment1</a>"
      ],
      "text/plain": [
       "<IPython.core.display.HTML object>"
      ]
     },
     "metadata": {},
     "output_type": "display_data"
    },
    {
     "data": {
      "text/html": [
       " View sweep at <a href='https://wandb.ai/cs22m083/CS6910_Assignment1/sweeps/gb9w2qt6' target=\"_blank\">https://wandb.ai/cs22m083/CS6910_Assignment1/sweeps/gb9w2qt6</a>"
      ],
      "text/plain": [
       "<IPython.core.display.HTML object>"
      ]
     },
     "metadata": {},
     "output_type": "display_data"
    },
    {
     "data": {
      "text/html": [
       " View run at <a href='https://wandb.ai/cs22m083/CS6910_Assignment1/runs/ojcnyhao' target=\"_blank\">https://wandb.ai/cs22m083/CS6910_Assignment1/runs/ojcnyhao</a>"
      ],
      "text/plain": [
       "<IPython.core.display.HTML object>"
      ]
     },
     "metadata": {},
     "output_type": "display_data"
    },
    {
     "name": "stdout",
     "output_type": "stream",
     "text": [
      " Training Loss:  0.5404204385579037  Validation Loss: 0.5536235222912493  Training Accuracy:  0.81335  Validation Accuracy: 0.8116\n"
     ]
    },
    {
     "data": {
      "text/html": [
       "Waiting for W&B process to finish... <strong style=\"color:green\">(success).</strong>"
      ],
      "text/plain": [
       "<IPython.core.display.HTML object>"
      ]
     },
     "metadata": {},
     "output_type": "display_data"
    },
    {
     "data": {
      "text/html": [
       "<style>\n",
       "    table.wandb td:nth-child(1) { padding: 0 10px; text-align: left ; width: auto;} td:nth-child(2) {text-align: left ; width: 100%}\n",
       "    .wandb-row { display: flex; flex-direction: row; flex-wrap: wrap; justify-content: flex-start; width: 100% }\n",
       "    .wandb-col { display: flex; flex-direction: column; flex-basis: 100%; flex: 1; padding: 10px; }\n",
       "    </style>\n",
       "<div class=\"wandb-row\"><div class=\"wandb-col\"><h3>Run history:</h3><br/><table class=\"wandb\"><tr><td>Accuracy</td><td>▁</td></tr><tr><td>Epoch</td><td>▁▃▅▆█</td></tr><tr><td>Training_accuracy</td><td>▁████</td></tr><tr><td>Training_loss</td><td>█▁▁▁▁</td></tr><tr><td>Validation_accuracy</td><td>▁▄▇▆█</td></tr><tr><td>Validation_loss</td><td>█▄▃▃▁</td></tr></table><br/></div><div class=\"wandb-col\"><h3>Run summary:</h3><br/><table class=\"wandb\"><tr><td>Accuracy</td><td>0.8116</td></tr><tr><td>Epoch</td><td>5</td></tr><tr><td>Training_accuracy</td><td>0.81335</td></tr><tr><td>Training_loss</td><td>0.54042</td></tr><tr><td>Validation_accuracy</td><td>0.8116</td></tr><tr><td>Validation_loss</td><td>0.55362</td></tr></table><br/></div></div>"
      ],
      "text/plain": [
       "<IPython.core.display.HTML object>"
      ]
     },
     "metadata": {},
     "output_type": "display_data"
    },
    {
     "data": {
      "text/html": [
       " View run <strong style=\"color:#cdcd00\">Question:4</strong> at: <a href='https://wandb.ai/cs22m083/CS6910_Assignment1/runs/ojcnyhao' target=\"_blank\">https://wandb.ai/cs22m083/CS6910_Assignment1/runs/ojcnyhao</a><br/>Synced 6 W&B file(s), 0 media file(s), 0 artifact file(s) and 0 other file(s)"
      ],
      "text/plain": [
       "<IPython.core.display.HTML object>"
      ]
     },
     "metadata": {},
     "output_type": "display_data"
    },
    {
     "data": {
      "text/html": [
       "Find logs at: <code>.\\wandb\\run-20230318_152730-ojcnyhao\\logs</code>"
      ],
      "text/plain": [
       "<IPython.core.display.HTML object>"
      ]
     },
     "metadata": {},
     "output_type": "display_data"
    },
    {
     "name": "stderr",
     "output_type": "stream",
     "text": [
      "\u001b[34m\u001b[1mwandb\u001b[0m: Agent Starting Run: mpk8u5hq with config:\n",
      "\u001b[34m\u001b[1mwandb\u001b[0m: \tactivation: sigmoid\n",
      "\u001b[34m\u001b[1mwandb\u001b[0m: \tbatch_size: 32\n",
      "\u001b[34m\u001b[1mwandb\u001b[0m: \tepochs: 10\n",
      "\u001b[34m\u001b[1mwandb\u001b[0m: \tgamma: 0.002\n",
      "\u001b[34m\u001b[1mwandb\u001b[0m: \thidden_layers: [32, 64, 128]\n",
      "\u001b[34m\u001b[1mwandb\u001b[0m: \tinitialization: Random\n",
      "\u001b[34m\u001b[1mwandb\u001b[0m: \tlearning_rate: 0.0005\n",
      "\u001b[34m\u001b[1mwandb\u001b[0m: \toptimizer: nag\n",
      "\u001b[34m\u001b[1mwandb\u001b[0m: \tweight_decay: 0.5\n",
      "Failed to detect the name of this notebook, you can set it manually with the WANDB_NOTEBOOK_NAME environment variable to enable code saving.\n",
      "\u001b[34m\u001b[1mwandb\u001b[0m: \u001b[33mWARNING\u001b[0m Ignored wandb.init() arg project when running a sweep.\n"
     ]
    },
    {
     "data": {
      "text/html": [
       "wandb version 0.14.0 is available!  To upgrade, please run:\n",
       " $ pip install wandb --upgrade"
      ],
      "text/plain": [
       "<IPython.core.display.HTML object>"
      ]
     },
     "metadata": {},
     "output_type": "display_data"
    },
    {
     "data": {
      "text/html": [
       "Tracking run with wandb version 0.13.10"
      ],
      "text/plain": [
       "<IPython.core.display.HTML object>"
      ]
     },
     "metadata": {},
     "output_type": "display_data"
    },
    {
     "data": {
      "text/html": [
       "Run data is saved locally in <code>C:\\Users\\Shivam Maurya\\OneDrive\\Desktop\\IIT_MADRAS\\Deep Learning\\assignment 1\\CS6910-Deep_Learning_Assignment-1\\wandb\\run-20230318_152918-mpk8u5hq</code>"
      ],
      "text/plain": [
       "<IPython.core.display.HTML object>"
      ]
     },
     "metadata": {},
     "output_type": "display_data"
    },
    {
     "data": {
      "text/html": [
       "Syncing run <strong><a href='https://wandb.ai/cs22m083/CS6910_Assignment1/runs/mpk8u5hq' target=\"_blank\">Question:4</a></strong> to <a href='https://wandb.ai/cs22m083/CS6910_Assignment1' target=\"_blank\">Weights & Biases</a> (<a href='https://wandb.me/run' target=\"_blank\">docs</a>)<br/>Sweep page: <a href='https://wandb.ai/cs22m083/CS6910_Assignment1/sweeps/gb9w2qt6' target=\"_blank\">https://wandb.ai/cs22m083/CS6910_Assignment1/sweeps/gb9w2qt6</a>"
      ],
      "text/plain": [
       "<IPython.core.display.HTML object>"
      ]
     },
     "metadata": {},
     "output_type": "display_data"
    },
    {
     "data": {
      "text/html": [
       " View project at <a href='https://wandb.ai/cs22m083/CS6910_Assignment1' target=\"_blank\">https://wandb.ai/cs22m083/CS6910_Assignment1</a>"
      ],
      "text/plain": [
       "<IPython.core.display.HTML object>"
      ]
     },
     "metadata": {},
     "output_type": "display_data"
    },
    {
     "data": {
      "text/html": [
       " View sweep at <a href='https://wandb.ai/cs22m083/CS6910_Assignment1/sweeps/gb9w2qt6' target=\"_blank\">https://wandb.ai/cs22m083/CS6910_Assignment1/sweeps/gb9w2qt6</a>"
      ],
      "text/plain": [
       "<IPython.core.display.HTML object>"
      ]
     },
     "metadata": {},
     "output_type": "display_data"
    },
    {
     "data": {
      "text/html": [
       " View run at <a href='https://wandb.ai/cs22m083/CS6910_Assignment1/runs/mpk8u5hq' target=\"_blank\">https://wandb.ai/cs22m083/CS6910_Assignment1/runs/mpk8u5hq</a>"
      ],
      "text/plain": [
       "<IPython.core.display.HTML object>"
      ]
     },
     "metadata": {},
     "output_type": "display_data"
    },
    {
     "name": "stdout",
     "output_type": "stream",
     "text": [
      " Training Loss:  1.3467367211071266  Validation Loss: 1.32586541893535  Training Accuracy:  0.5076666666666667  Validation Accuracy: 0.5102\n"
     ]
    },
    {
     "data": {
      "text/html": [
       "Waiting for W&B process to finish... <strong style=\"color:green\">(success).</strong>"
      ],
      "text/plain": [
       "<IPython.core.display.HTML object>"
      ]
     },
     "metadata": {},
     "output_type": "display_data"
    },
    {
     "data": {
      "text/html": [
       "<style>\n",
       "    table.wandb td:nth-child(1) { padding: 0 10px; text-align: left ; width: auto;} td:nth-child(2) {text-align: left ; width: 100%}\n",
       "    .wandb-row { display: flex; flex-direction: row; flex-wrap: wrap; justify-content: flex-start; width: 100% }\n",
       "    .wandb-col { display: flex; flex-direction: column; flex-basis: 100%; flex: 1; padding: 10px; }\n",
       "    </style>\n",
       "<div class=\"wandb-row\"><div class=\"wandb-col\"><h3>Run history:</h3><br/><table class=\"wandb\"><tr><td>Accuracy</td><td>▁</td></tr><tr><td>Epoch</td><td>▁▂▃▃▄▅▆▆▇█</td></tr><tr><td>Training_accuracy</td><td>▁▃▅▆▆▇▇███</td></tr><tr><td>Training_loss</td><td>█▃▂▂▂▁▁▁▁▁</td></tr><tr><td>Validation_accuracy</td><td>▁▃▅▆▆▇▇▇██</td></tr><tr><td>Validation_loss</td><td>█▄▃▃▂▂▁▁▁▁</td></tr></table><br/></div><div class=\"wandb-col\"><h3>Run summary:</h3><br/><table class=\"wandb\"><tr><td>Accuracy</td><td>0.5102</td></tr><tr><td>Epoch</td><td>10</td></tr><tr><td>Training_accuracy</td><td>0.50767</td></tr><tr><td>Training_loss</td><td>1.34674</td></tr><tr><td>Validation_accuracy</td><td>0.5102</td></tr><tr><td>Validation_loss</td><td>1.32587</td></tr></table><br/></div></div>"
      ],
      "text/plain": [
       "<IPython.core.display.HTML object>"
      ]
     },
     "metadata": {},
     "output_type": "display_data"
    },
    {
     "data": {
      "text/html": [
       " View run <strong style=\"color:#cdcd00\">Question:4</strong> at: <a href='https://wandb.ai/cs22m083/CS6910_Assignment1/runs/mpk8u5hq' target=\"_blank\">https://wandb.ai/cs22m083/CS6910_Assignment1/runs/mpk8u5hq</a><br/>Synced 6 W&B file(s), 0 media file(s), 0 artifact file(s) and 0 other file(s)"
      ],
      "text/plain": [
       "<IPython.core.display.HTML object>"
      ]
     },
     "metadata": {},
     "output_type": "display_data"
    },
    {
     "data": {
      "text/html": [
       "Find logs at: <code>.\\wandb\\run-20230318_152918-mpk8u5hq\\logs</code>"
      ],
      "text/plain": [
       "<IPython.core.display.HTML object>"
      ]
     },
     "metadata": {},
     "output_type": "display_data"
    },
    {
     "name": "stderr",
     "output_type": "stream",
     "text": [
      "\u001b[34m\u001b[1mwandb\u001b[0m: Agent Starting Run: 9pdpt6oi with config:\n",
      "\u001b[34m\u001b[1mwandb\u001b[0m: \tactivation: relu\n",
      "\u001b[34m\u001b[1mwandb\u001b[0m: \tbatch_size: 16\n",
      "\u001b[34m\u001b[1mwandb\u001b[0m: \tepochs: 10\n",
      "\u001b[34m\u001b[1mwandb\u001b[0m: \tgamma: 0.002\n",
      "\u001b[34m\u001b[1mwandb\u001b[0m: \thidden_layers: [32, 64, 128, 256]\n",
      "\u001b[34m\u001b[1mwandb\u001b[0m: \tinitialization: Xavier\n",
      "\u001b[34m\u001b[1mwandb\u001b[0m: \tlearning_rate: 0.0001\n",
      "\u001b[34m\u001b[1mwandb\u001b[0m: \toptimizer: rmsprop\n",
      "\u001b[34m\u001b[1mwandb\u001b[0m: \tweight_decay: 0\n",
      "Failed to detect the name of this notebook, you can set it manually with the WANDB_NOTEBOOK_NAME environment variable to enable code saving.\n",
      "\u001b[34m\u001b[1mwandb\u001b[0m: \u001b[33mWARNING\u001b[0m Ignored wandb.init() arg project when running a sweep.\n"
     ]
    },
    {
     "data": {
      "text/html": [
       "wandb version 0.14.0 is available!  To upgrade, please run:\n",
       " $ pip install wandb --upgrade"
      ],
      "text/plain": [
       "<IPython.core.display.HTML object>"
      ]
     },
     "metadata": {},
     "output_type": "display_data"
    },
    {
     "data": {
      "text/html": [
       "Tracking run with wandb version 0.13.10"
      ],
      "text/plain": [
       "<IPython.core.display.HTML object>"
      ]
     },
     "metadata": {},
     "output_type": "display_data"
    },
    {
     "data": {
      "text/html": [
       "Run data is saved locally in <code>C:\\Users\\Shivam Maurya\\OneDrive\\Desktop\\IIT_MADRAS\\Deep Learning\\assignment 1\\CS6910-Deep_Learning_Assignment-1\\wandb\\run-20230318_153329-9pdpt6oi</code>"
      ],
      "text/plain": [
       "<IPython.core.display.HTML object>"
      ]
     },
     "metadata": {},
     "output_type": "display_data"
    },
    {
     "data": {
      "text/html": [
       "Syncing run <strong><a href='https://wandb.ai/cs22m083/CS6910_Assignment1/runs/9pdpt6oi' target=\"_blank\">Question:4</a></strong> to <a href='https://wandb.ai/cs22m083/CS6910_Assignment1' target=\"_blank\">Weights & Biases</a> (<a href='https://wandb.me/run' target=\"_blank\">docs</a>)<br/>Sweep page: <a href='https://wandb.ai/cs22m083/CS6910_Assignment1/sweeps/gb9w2qt6' target=\"_blank\">https://wandb.ai/cs22m083/CS6910_Assignment1/sweeps/gb9w2qt6</a>"
      ],
      "text/plain": [
       "<IPython.core.display.HTML object>"
      ]
     },
     "metadata": {},
     "output_type": "display_data"
    },
    {
     "data": {
      "text/html": [
       " View project at <a href='https://wandb.ai/cs22m083/CS6910_Assignment1' target=\"_blank\">https://wandb.ai/cs22m083/CS6910_Assignment1</a>"
      ],
      "text/plain": [
       "<IPython.core.display.HTML object>"
      ]
     },
     "metadata": {},
     "output_type": "display_data"
    },
    {
     "data": {
      "text/html": [
       " View sweep at <a href='https://wandb.ai/cs22m083/CS6910_Assignment1/sweeps/gb9w2qt6' target=\"_blank\">https://wandb.ai/cs22m083/CS6910_Assignment1/sweeps/gb9w2qt6</a>"
      ],
      "text/plain": [
       "<IPython.core.display.HTML object>"
      ]
     },
     "metadata": {},
     "output_type": "display_data"
    },
    {
     "data": {
      "text/html": [
       " View run at <a href='https://wandb.ai/cs22m083/CS6910_Assignment1/runs/9pdpt6oi' target=\"_blank\">https://wandb.ai/cs22m083/CS6910_Assignment1/runs/9pdpt6oi</a>"
      ],
      "text/plain": [
       "<IPython.core.display.HTML object>"
      ]
     },
     "metadata": {},
     "output_type": "display_data"
    },
    {
     "name": "stdout",
     "output_type": "stream",
     "text": [
      " Training Loss:  nan  Validation Loss: nan  Training Accuracy:  0.1  Validation Accuracy: 0.1\n"
     ]
    },
    {
     "data": {
      "text/html": [
       "Waiting for W&B process to finish... <strong style=\"color:green\">(success).</strong>"
      ],
      "text/plain": [
       "<IPython.core.display.HTML object>"
      ]
     },
     "metadata": {},
     "output_type": "display_data"
    },
    {
     "data": {
      "text/html": [
       "<style>\n",
       "    table.wandb td:nth-child(1) { padding: 0 10px; text-align: left ; width: auto;} td:nth-child(2) {text-align: left ; width: 100%}\n",
       "    .wandb-row { display: flex; flex-direction: row; flex-wrap: wrap; justify-content: flex-start; width: 100% }\n",
       "    .wandb-col { display: flex; flex-direction: column; flex-basis: 100%; flex: 1; padding: 10px; }\n",
       "    </style>\n",
       "<div class=\"wandb-row\"><div class=\"wandb-col\"><h3>Run history:</h3><br/><table class=\"wandb\"><tr><td>Accuracy</td><td>▁</td></tr><tr><td>Epoch</td><td>▁▂▃▃▄▅▆▆▇█</td></tr><tr><td>Training_accuracy</td><td>▇████▆▁▁▁▁</td></tr><tr><td>Training_loss</td><td>▇▁▃▆█     </td></tr><tr><td>Validation_accuracy</td><td>█████▁▁▁▁▁</td></tr><tr><td>Validation_loss</td><td>▁▂▄▆█     </td></tr></table><br/></div><div class=\"wandb-col\"><h3>Run summary:</h3><br/><table class=\"wandb\"><tr><td>Accuracy</td><td>0.1</td></tr><tr><td>Epoch</td><td>10</td></tr><tr><td>Training_accuracy</td><td>0.1</td></tr><tr><td>Training_loss</td><td>nan</td></tr><tr><td>Validation_accuracy</td><td>0.1</td></tr><tr><td>Validation_loss</td><td>nan</td></tr></table><br/></div></div>"
      ],
      "text/plain": [
       "<IPython.core.display.HTML object>"
      ]
     },
     "metadata": {},
     "output_type": "display_data"
    },
    {
     "data": {
      "text/html": [
       " View run <strong style=\"color:#cdcd00\">Question:4</strong> at: <a href='https://wandb.ai/cs22m083/CS6910_Assignment1/runs/9pdpt6oi' target=\"_blank\">https://wandb.ai/cs22m083/CS6910_Assignment1/runs/9pdpt6oi</a><br/>Synced 6 W&B file(s), 0 media file(s), 0 artifact file(s) and 0 other file(s)"
      ],
      "text/plain": [
       "<IPython.core.display.HTML object>"
      ]
     },
     "metadata": {},
     "output_type": "display_data"
    },
    {
     "data": {
      "text/html": [
       "Find logs at: <code>.\\wandb\\run-20230318_153329-9pdpt6oi\\logs</code>"
      ],
      "text/plain": [
       "<IPython.core.display.HTML object>"
      ]
     },
     "metadata": {},
     "output_type": "display_data"
    },
    {
     "name": "stderr",
     "output_type": "stream",
     "text": [
      "\u001b[34m\u001b[1mwandb\u001b[0m: Agent Starting Run: sgu5z98z with config:\n",
      "\u001b[34m\u001b[1mwandb\u001b[0m: \tactivation: relu\n",
      "\u001b[34m\u001b[1mwandb\u001b[0m: \tbatch_size: 64\n",
      "\u001b[34m\u001b[1mwandb\u001b[0m: \tepochs: 5\n",
      "\u001b[34m\u001b[1mwandb\u001b[0m: \tgamma: 0.002\n",
      "\u001b[34m\u001b[1mwandb\u001b[0m: \thidden_layers: [32, 64]\n",
      "\u001b[34m\u001b[1mwandb\u001b[0m: \tinitialization: Random\n",
      "\u001b[34m\u001b[1mwandb\u001b[0m: \tlearning_rate: 0.0006\n",
      "\u001b[34m\u001b[1mwandb\u001b[0m: \toptimizer: momentum\n",
      "\u001b[34m\u001b[1mwandb\u001b[0m: \tweight_decay: 0\n",
      "Failed to detect the name of this notebook, you can set it manually with the WANDB_NOTEBOOK_NAME environment variable to enable code saving.\n",
      "\u001b[34m\u001b[1mwandb\u001b[0m: \u001b[33mWARNING\u001b[0m Ignored wandb.init() arg project when running a sweep.\n"
     ]
    },
    {
     "data": {
      "application/vnd.jupyter.widget-view+json": {
       "model_id": "59098b51714f4947909edf85c5b377fc",
       "version_major": 2,
       "version_minor": 0
      },
      "text/plain": [
       "VBox(children=(Label(value='Waiting for wandb.init()...\\r'), FloatProgress(value=0.016666666666666666, max=1.0…"
      ]
     },
     "metadata": {},
     "output_type": "display_data"
    },
    {
     "data": {
      "text/html": [
       "wandb version 0.14.0 is available!  To upgrade, please run:\n",
       " $ pip install wandb --upgrade"
      ],
      "text/plain": [
       "<IPython.core.display.HTML object>"
      ]
     },
     "metadata": {},
     "output_type": "display_data"
    },
    {
     "data": {
      "text/html": [
       "Tracking run with wandb version 0.13.10"
      ],
      "text/plain": [
       "<IPython.core.display.HTML object>"
      ]
     },
     "metadata": {},
     "output_type": "display_data"
    },
    {
     "data": {
      "text/html": [
       "Run data is saved locally in <code>C:\\Users\\Shivam Maurya\\OneDrive\\Desktop\\IIT_MADRAS\\Deep Learning\\assignment 1\\CS6910-Deep_Learning_Assignment-1\\wandb\\run-20230318_154004-sgu5z98z</code>"
      ],
      "text/plain": [
       "<IPython.core.display.HTML object>"
      ]
     },
     "metadata": {},
     "output_type": "display_data"
    },
    {
     "data": {
      "text/html": [
       "Syncing run <strong><a href='https://wandb.ai/cs22m083/CS6910_Assignment1/runs/sgu5z98z' target=\"_blank\">Question:4</a></strong> to <a href='https://wandb.ai/cs22m083/CS6910_Assignment1' target=\"_blank\">Weights & Biases</a> (<a href='https://wandb.me/run' target=\"_blank\">docs</a>)<br/>Sweep page: <a href='https://wandb.ai/cs22m083/CS6910_Assignment1/sweeps/gb9w2qt6' target=\"_blank\">https://wandb.ai/cs22m083/CS6910_Assignment1/sweeps/gb9w2qt6</a>"
      ],
      "text/plain": [
       "<IPython.core.display.HTML object>"
      ]
     },
     "metadata": {},
     "output_type": "display_data"
    },
    {
     "data": {
      "text/html": [
       " View project at <a href='https://wandb.ai/cs22m083/CS6910_Assignment1' target=\"_blank\">https://wandb.ai/cs22m083/CS6910_Assignment1</a>"
      ],
      "text/plain": [
       "<IPython.core.display.HTML object>"
      ]
     },
     "metadata": {},
     "output_type": "display_data"
    },
    {
     "data": {
      "text/html": [
       " View sweep at <a href='https://wandb.ai/cs22m083/CS6910_Assignment1/sweeps/gb9w2qt6' target=\"_blank\">https://wandb.ai/cs22m083/CS6910_Assignment1/sweeps/gb9w2qt6</a>"
      ],
      "text/plain": [
       "<IPython.core.display.HTML object>"
      ]
     },
     "metadata": {},
     "output_type": "display_data"
    },
    {
     "data": {
      "text/html": [
       " View run at <a href='https://wandb.ai/cs22m083/CS6910_Assignment1/runs/sgu5z98z' target=\"_blank\">https://wandb.ai/cs22m083/CS6910_Assignment1/runs/sgu5z98z</a>"
      ],
      "text/plain": [
       "<IPython.core.display.HTML object>"
      ]
     },
     "metadata": {},
     "output_type": "display_data"
    },
    {
     "name": "stdout",
     "output_type": "stream",
     "text": [
      " Training Loss:  nan  Validation Loss: nan  Training Accuracy:  0.1  Validation Accuracy: 0.1\n"
     ]
    },
    {
     "data": {
      "text/html": [
       "Waiting for W&B process to finish... <strong style=\"color:green\">(success).</strong>"
      ],
      "text/plain": [
       "<IPython.core.display.HTML object>"
      ]
     },
     "metadata": {},
     "output_type": "display_data"
    },
    {
     "data": {
      "text/html": [
       "<style>\n",
       "    table.wandb td:nth-child(1) { padding: 0 10px; text-align: left ; width: auto;} td:nth-child(2) {text-align: left ; width: 100%}\n",
       "    .wandb-row { display: flex; flex-direction: row; flex-wrap: wrap; justify-content: flex-start; width: 100% }\n",
       "    .wandb-col { display: flex; flex-direction: column; flex-basis: 100%; flex: 1; padding: 10px; }\n",
       "    </style>\n",
       "<div class=\"wandb-row\"><div class=\"wandb-col\"><h3>Run history:</h3><br/><table class=\"wandb\"><tr><td>Accuracy</td><td>▁</td></tr><tr><td>Epoch</td><td>▁▃▅▆█</td></tr><tr><td>Training_accuracy</td><td>▁████</td></tr><tr><td>Validation_accuracy</td><td>▁▁▁▁▁</td></tr></table><br/></div><div class=\"wandb-col\"><h3>Run summary:</h3><br/><table class=\"wandb\"><tr><td>Accuracy</td><td>0.1</td></tr><tr><td>Epoch</td><td>5</td></tr><tr><td>Training_accuracy</td><td>0.1</td></tr><tr><td>Training_loss</td><td>nan</td></tr><tr><td>Validation_accuracy</td><td>0.1</td></tr><tr><td>Validation_loss</td><td>nan</td></tr></table><br/></div></div>"
      ],
      "text/plain": [
       "<IPython.core.display.HTML object>"
      ]
     },
     "metadata": {},
     "output_type": "display_data"
    },
    {
     "data": {
      "text/html": [
       " View run <strong style=\"color:#cdcd00\">Question:4</strong> at: <a href='https://wandb.ai/cs22m083/CS6910_Assignment1/runs/sgu5z98z' target=\"_blank\">https://wandb.ai/cs22m083/CS6910_Assignment1/runs/sgu5z98z</a><br/>Synced 6 W&B file(s), 0 media file(s), 0 artifact file(s) and 0 other file(s)"
      ],
      "text/plain": [
       "<IPython.core.display.HTML object>"
      ]
     },
     "metadata": {},
     "output_type": "display_data"
    },
    {
     "data": {
      "text/html": [
       "Find logs at: <code>.\\wandb\\run-20230318_154004-sgu5z98z\\logs</code>"
      ],
      "text/plain": [
       "<IPython.core.display.HTML object>"
      ]
     },
     "metadata": {},
     "output_type": "display_data"
    },
    {
     "name": "stderr",
     "output_type": "stream",
     "text": [
      "\u001b[34m\u001b[1mwandb\u001b[0m: Agent Starting Run: 17qmsfwu with config:\n",
      "\u001b[34m\u001b[1mwandb\u001b[0m: \tactivation: relu\n",
      "\u001b[34m\u001b[1mwandb\u001b[0m: \tbatch_size: 64\n",
      "\u001b[34m\u001b[1mwandb\u001b[0m: \tepochs: 10\n",
      "\u001b[34m\u001b[1mwandb\u001b[0m: \tgamma: 0.0006\n",
      "\u001b[34m\u001b[1mwandb\u001b[0m: \thidden_layers: [32, 64]\n",
      "\u001b[34m\u001b[1mwandb\u001b[0m: \tinitialization: Random\n",
      "\u001b[34m\u001b[1mwandb\u001b[0m: \tlearning_rate: 0.01\n",
      "\u001b[34m\u001b[1mwandb\u001b[0m: \toptimizer: nag\n",
      "\u001b[34m\u001b[1mwandb\u001b[0m: \tweight_decay: 0\n",
      "Failed to detect the name of this notebook, you can set it manually with the WANDB_NOTEBOOK_NAME environment variable to enable code saving.\n",
      "\u001b[34m\u001b[1mwandb\u001b[0m: \u001b[33mWARNING\u001b[0m Ignored wandb.init() arg project when running a sweep.\n"
     ]
    },
    {
     "data": {
      "text/html": [
       "wandb version 0.14.0 is available!  To upgrade, please run:\n",
       " $ pip install wandb --upgrade"
      ],
      "text/plain": [
       "<IPython.core.display.HTML object>"
      ]
     },
     "metadata": {},
     "output_type": "display_data"
    },
    {
     "data": {
      "text/html": [
       "Tracking run with wandb version 0.13.10"
      ],
      "text/plain": [
       "<IPython.core.display.HTML object>"
      ]
     },
     "metadata": {},
     "output_type": "display_data"
    },
    {
     "data": {
      "text/html": [
       "Run data is saved locally in <code>C:\\Users\\Shivam Maurya\\OneDrive\\Desktop\\IIT_MADRAS\\Deep Learning\\assignment 1\\CS6910-Deep_Learning_Assignment-1\\wandb\\run-20230318_154146-17qmsfwu</code>"
      ],
      "text/plain": [
       "<IPython.core.display.HTML object>"
      ]
     },
     "metadata": {},
     "output_type": "display_data"
    },
    {
     "data": {
      "text/html": [
       "Syncing run <strong><a href='https://wandb.ai/cs22m083/CS6910_Assignment1/runs/17qmsfwu' target=\"_blank\">Question:4</a></strong> to <a href='https://wandb.ai/cs22m083/CS6910_Assignment1' target=\"_blank\">Weights & Biases</a> (<a href='https://wandb.me/run' target=\"_blank\">docs</a>)<br/>Sweep page: <a href='https://wandb.ai/cs22m083/CS6910_Assignment1/sweeps/gb9w2qt6' target=\"_blank\">https://wandb.ai/cs22m083/CS6910_Assignment1/sweeps/gb9w2qt6</a>"
      ],
      "text/plain": [
       "<IPython.core.display.HTML object>"
      ]
     },
     "metadata": {},
     "output_type": "display_data"
    },
    {
     "data": {
      "text/html": [
       " View project at <a href='https://wandb.ai/cs22m083/CS6910_Assignment1' target=\"_blank\">https://wandb.ai/cs22m083/CS6910_Assignment1</a>"
      ],
      "text/plain": [
       "<IPython.core.display.HTML object>"
      ]
     },
     "metadata": {},
     "output_type": "display_data"
    },
    {
     "data": {
      "text/html": [
       " View sweep at <a href='https://wandb.ai/cs22m083/CS6910_Assignment1/sweeps/gb9w2qt6' target=\"_blank\">https://wandb.ai/cs22m083/CS6910_Assignment1/sweeps/gb9w2qt6</a>"
      ],
      "text/plain": [
       "<IPython.core.display.HTML object>"
      ]
     },
     "metadata": {},
     "output_type": "display_data"
    },
    {
     "data": {
      "text/html": [
       " View run at <a href='https://wandb.ai/cs22m083/CS6910_Assignment1/runs/17qmsfwu' target=\"_blank\">https://wandb.ai/cs22m083/CS6910_Assignment1/runs/17qmsfwu</a>"
      ],
      "text/plain": [
       "<IPython.core.display.HTML object>"
      ]
     },
     "metadata": {},
     "output_type": "display_data"
    },
    {
     "name": "stdout",
     "output_type": "stream",
     "text": [
      " Training Loss:  nan  Validation Loss: nan  Training Accuracy:  0.1  Validation Accuracy: 0.1\n"
     ]
    },
    {
     "data": {
      "text/html": [
       "Waiting for W&B process to finish... <strong style=\"color:green\">(success).</strong>"
      ],
      "text/plain": [
       "<IPython.core.display.HTML object>"
      ]
     },
     "metadata": {},
     "output_type": "display_data"
    },
    {
     "data": {
      "text/html": [
       "<style>\n",
       "    table.wandb td:nth-child(1) { padding: 0 10px; text-align: left ; width: auto;} td:nth-child(2) {text-align: left ; width: 100%}\n",
       "    .wandb-row { display: flex; flex-direction: row; flex-wrap: wrap; justify-content: flex-start; width: 100% }\n",
       "    .wandb-col { display: flex; flex-direction: column; flex-basis: 100%; flex: 1; padding: 10px; }\n",
       "    </style>\n",
       "<div class=\"wandb-row\"><div class=\"wandb-col\"><h3>Run history:</h3><br/><table class=\"wandb\"><tr><td>Accuracy</td><td>▁</td></tr><tr><td>Epoch</td><td>▁▂▃▃▄▅▆▆▇█</td></tr><tr><td>Training_accuracy</td><td>▁█████████</td></tr><tr><td>Validation_accuracy</td><td>▁▁▁▁▁▁▁▁▁▁</td></tr></table><br/></div><div class=\"wandb-col\"><h3>Run summary:</h3><br/><table class=\"wandb\"><tr><td>Accuracy</td><td>0.1</td></tr><tr><td>Epoch</td><td>10</td></tr><tr><td>Training_accuracy</td><td>0.1</td></tr><tr><td>Training_loss</td><td>nan</td></tr><tr><td>Validation_accuracy</td><td>0.1</td></tr><tr><td>Validation_loss</td><td>nan</td></tr></table><br/></div></div>"
      ],
      "text/plain": [
       "<IPython.core.display.HTML object>"
      ]
     },
     "metadata": {},
     "output_type": "display_data"
    },
    {
     "data": {
      "text/html": [
       " View run <strong style=\"color:#cdcd00\">Question:4</strong> at: <a href='https://wandb.ai/cs22m083/CS6910_Assignment1/runs/17qmsfwu' target=\"_blank\">https://wandb.ai/cs22m083/CS6910_Assignment1/runs/17qmsfwu</a><br/>Synced 6 W&B file(s), 0 media file(s), 0 artifact file(s) and 0 other file(s)"
      ],
      "text/plain": [
       "<IPython.core.display.HTML object>"
      ]
     },
     "metadata": {},
     "output_type": "display_data"
    },
    {
     "data": {
      "text/html": [
       "Find logs at: <code>.\\wandb\\run-20230318_154146-17qmsfwu\\logs</code>"
      ],
      "text/plain": [
       "<IPython.core.display.HTML object>"
      ]
     },
     "metadata": {},
     "output_type": "display_data"
    },
    {
     "name": "stderr",
     "output_type": "stream",
     "text": [
      "\u001b[34m\u001b[1mwandb\u001b[0m: Sweep Agent: Waiting for job.\n",
      "\u001b[34m\u001b[1mwandb\u001b[0m: Job received.\n",
      "\u001b[34m\u001b[1mwandb\u001b[0m: Agent Starting Run: 0xk7t851 with config:\n",
      "\u001b[34m\u001b[1mwandb\u001b[0m: \tactivation: tanh\n",
      "\u001b[34m\u001b[1mwandb\u001b[0m: \tbatch_size: 16\n",
      "\u001b[34m\u001b[1mwandb\u001b[0m: \tepochs: 5\n",
      "\u001b[34m\u001b[1mwandb\u001b[0m: \tgamma: 0.002\n",
      "\u001b[34m\u001b[1mwandb\u001b[0m: \thidden_layers: [32, 64, 128]\n",
      "\u001b[34m\u001b[1mwandb\u001b[0m: \tinitialization: Random\n",
      "\u001b[34m\u001b[1mwandb\u001b[0m: \tlearning_rate: 0.0006\n",
      "\u001b[34m\u001b[1mwandb\u001b[0m: \toptimizer: adam\n",
      "\u001b[34m\u001b[1mwandb\u001b[0m: \tweight_decay: 0\n",
      "Failed to detect the name of this notebook, you can set it manually with the WANDB_NOTEBOOK_NAME environment variable to enable code saving.\n",
      "\u001b[34m\u001b[1mwandb\u001b[0m: \u001b[33mWARNING\u001b[0m Ignored wandb.init() arg project when running a sweep.\n"
     ]
    },
    {
     "data": {
      "text/html": [
       "wandb version 0.14.0 is available!  To upgrade, please run:\n",
       " $ pip install wandb --upgrade"
      ],
      "text/plain": [
       "<IPython.core.display.HTML object>"
      ]
     },
     "metadata": {},
     "output_type": "display_data"
    },
    {
     "data": {
      "text/html": [
       "Tracking run with wandb version 0.13.10"
      ],
      "text/plain": [
       "<IPython.core.display.HTML object>"
      ]
     },
     "metadata": {},
     "output_type": "display_data"
    },
    {
     "data": {
      "text/html": [
       "Run data is saved locally in <code>C:\\Users\\Shivam Maurya\\OneDrive\\Desktop\\IIT_MADRAS\\Deep Learning\\assignment 1\\CS6910-Deep_Learning_Assignment-1\\wandb\\run-20230318_154454-0xk7t851</code>"
      ],
      "text/plain": [
       "<IPython.core.display.HTML object>"
      ]
     },
     "metadata": {},
     "output_type": "display_data"
    },
    {
     "data": {
      "text/html": [
       "Syncing run <strong><a href='https://wandb.ai/cs22m083/CS6910_Assignment1/runs/0xk7t851' target=\"_blank\">Question:4</a></strong> to <a href='https://wandb.ai/cs22m083/CS6910_Assignment1' target=\"_blank\">Weights & Biases</a> (<a href='https://wandb.me/run' target=\"_blank\">docs</a>)<br/>Sweep page: <a href='https://wandb.ai/cs22m083/CS6910_Assignment1/sweeps/gb9w2qt6' target=\"_blank\">https://wandb.ai/cs22m083/CS6910_Assignment1/sweeps/gb9w2qt6</a>"
      ],
      "text/plain": [
       "<IPython.core.display.HTML object>"
      ]
     },
     "metadata": {},
     "output_type": "display_data"
    },
    {
     "data": {
      "text/html": [
       " View project at <a href='https://wandb.ai/cs22m083/CS6910_Assignment1' target=\"_blank\">https://wandb.ai/cs22m083/CS6910_Assignment1</a>"
      ],
      "text/plain": [
       "<IPython.core.display.HTML object>"
      ]
     },
     "metadata": {},
     "output_type": "display_data"
    },
    {
     "data": {
      "text/html": [
       " View sweep at <a href='https://wandb.ai/cs22m083/CS6910_Assignment1/sweeps/gb9w2qt6' target=\"_blank\">https://wandb.ai/cs22m083/CS6910_Assignment1/sweeps/gb9w2qt6</a>"
      ],
      "text/plain": [
       "<IPython.core.display.HTML object>"
      ]
     },
     "metadata": {},
     "output_type": "display_data"
    },
    {
     "data": {
      "text/html": [
       " View run at <a href='https://wandb.ai/cs22m083/CS6910_Assignment1/runs/0xk7t851' target=\"_blank\">https://wandb.ai/cs22m083/CS6910_Assignment1/runs/0xk7t851</a>"
      ],
      "text/plain": [
       "<IPython.core.display.HTML object>"
      ]
     },
     "metadata": {},
     "output_type": "display_data"
    },
    {
     "name": "stdout",
     "output_type": "stream",
     "text": [
      " Training Loss:  0.8710484501562984  Validation Loss: 0.872371274653446  Training Accuracy:  0.6830666666666667  Validation Accuracy: 0.6875\n"
     ]
    },
    {
     "data": {
      "text/html": [
       "Waiting for W&B process to finish... <strong style=\"color:green\">(success).</strong>"
      ],
      "text/plain": [
       "<IPython.core.display.HTML object>"
      ]
     },
     "metadata": {},
     "output_type": "display_data"
    },
    {
     "data": {
      "application/vnd.jupyter.widget-view+json": {
       "model_id": "a710ee331e334da494281458b387bd0b",
       "version_major": 2,
       "version_minor": 0
      },
      "text/plain": [
       "VBox(children=(Label(value='0.001 MB of 0.001 MB uploaded (0.000 MB deduped)\\r'), FloatProgress(value=1.0, max…"
      ]
     },
     "metadata": {},
     "output_type": "display_data"
    },
    {
     "data": {
      "text/html": [
       "<style>\n",
       "    table.wandb td:nth-child(1) { padding: 0 10px; text-align: left ; width: auto;} td:nth-child(2) {text-align: left ; width: 100%}\n",
       "    .wandb-row { display: flex; flex-direction: row; flex-wrap: wrap; justify-content: flex-start; width: 100% }\n",
       "    .wandb-col { display: flex; flex-direction: column; flex-basis: 100%; flex: 1; padding: 10px; }\n",
       "    </style>\n",
       "<div class=\"wandb-row\"><div class=\"wandb-col\"><h3>Run history:</h3><br/><table class=\"wandb\"><tr><td>Accuracy</td><td>▁</td></tr><tr><td>Epoch</td><td>▁▃▅▆█</td></tr><tr><td>Training_accuracy</td><td>▁▅▆▇█</td></tr><tr><td>Training_loss</td><td>█▃▂▁▁</td></tr><tr><td>Validation_accuracy</td><td>▁▄▆▇█</td></tr><tr><td>Validation_loss</td><td>█▄▂▁▁</td></tr></table><br/></div><div class=\"wandb-col\"><h3>Run summary:</h3><br/><table class=\"wandb\"><tr><td>Accuracy</td><td>0.6875</td></tr><tr><td>Epoch</td><td>5</td></tr><tr><td>Training_accuracy</td><td>0.68307</td></tr><tr><td>Training_loss</td><td>0.87105</td></tr><tr><td>Validation_accuracy</td><td>0.6875</td></tr><tr><td>Validation_loss</td><td>0.87237</td></tr></table><br/></div></div>"
      ],
      "text/plain": [
       "<IPython.core.display.HTML object>"
      ]
     },
     "metadata": {},
     "output_type": "display_data"
    },
    {
     "data": {
      "text/html": [
       " View run <strong style=\"color:#cdcd00\">Question:4</strong> at: <a href='https://wandb.ai/cs22m083/CS6910_Assignment1/runs/0xk7t851' target=\"_blank\">https://wandb.ai/cs22m083/CS6910_Assignment1/runs/0xk7t851</a><br/>Synced 6 W&B file(s), 0 media file(s), 0 artifact file(s) and 0 other file(s)"
      ],
      "text/plain": [
       "<IPython.core.display.HTML object>"
      ]
     },
     "metadata": {},
     "output_type": "display_data"
    },
    {
     "data": {
      "text/html": [
       "Find logs at: <code>.\\wandb\\run-20230318_154454-0xk7t851\\logs</code>"
      ],
      "text/plain": [
       "<IPython.core.display.HTML object>"
      ]
     },
     "metadata": {},
     "output_type": "display_data"
    },
    {
     "name": "stderr",
     "output_type": "stream",
     "text": [
      "\u001b[34m\u001b[1mwandb\u001b[0m: Agent Starting Run: oh5f2c4z with config:\n",
      "\u001b[34m\u001b[1mwandb\u001b[0m: \tactivation: relu\n",
      "\u001b[34m\u001b[1mwandb\u001b[0m: \tbatch_size: 64\n",
      "\u001b[34m\u001b[1mwandb\u001b[0m: \tepochs: 10\n",
      "\u001b[34m\u001b[1mwandb\u001b[0m: \tgamma: 0.0006\n",
      "\u001b[34m\u001b[1mwandb\u001b[0m: \thidden_layers: [32, 64]\n",
      "\u001b[34m\u001b[1mwandb\u001b[0m: \tinitialization: Xavier\n",
      "\u001b[34m\u001b[1mwandb\u001b[0m: \tlearning_rate: 0.005\n",
      "\u001b[34m\u001b[1mwandb\u001b[0m: \toptimizer: nadam\n",
      "\u001b[34m\u001b[1mwandb\u001b[0m: \tweight_decay: 0.0005\n",
      "Failed to detect the name of this notebook, you can set it manually with the WANDB_NOTEBOOK_NAME environment variable to enable code saving.\n",
      "\u001b[34m\u001b[1mwandb\u001b[0m: \u001b[33mWARNING\u001b[0m Ignored wandb.init() arg project when running a sweep.\n"
     ]
    },
    {
     "data": {
      "text/html": [
       "wandb version 0.14.0 is available!  To upgrade, please run:\n",
       " $ pip install wandb --upgrade"
      ],
      "text/plain": [
       "<IPython.core.display.HTML object>"
      ]
     },
     "metadata": {},
     "output_type": "display_data"
    },
    {
     "data": {
      "text/html": [
       "Tracking run with wandb version 0.13.10"
      ],
      "text/plain": [
       "<IPython.core.display.HTML object>"
      ]
     },
     "metadata": {},
     "output_type": "display_data"
    },
    {
     "data": {
      "text/html": [
       "Run data is saved locally in <code>C:\\Users\\Shivam Maurya\\OneDrive\\Desktop\\IIT_MADRAS\\Deep Learning\\assignment 1\\CS6910-Deep_Learning_Assignment-1\\wandb\\run-20230318_154714-oh5f2c4z</code>"
      ],
      "text/plain": [
       "<IPython.core.display.HTML object>"
      ]
     },
     "metadata": {},
     "output_type": "display_data"
    },
    {
     "data": {
      "text/html": [
       "Syncing run <strong><a href='https://wandb.ai/cs22m083/CS6910_Assignment1/runs/oh5f2c4z' target=\"_blank\">Question:4</a></strong> to <a href='https://wandb.ai/cs22m083/CS6910_Assignment1' target=\"_blank\">Weights & Biases</a> (<a href='https://wandb.me/run' target=\"_blank\">docs</a>)<br/>Sweep page: <a href='https://wandb.ai/cs22m083/CS6910_Assignment1/sweeps/gb9w2qt6' target=\"_blank\">https://wandb.ai/cs22m083/CS6910_Assignment1/sweeps/gb9w2qt6</a>"
      ],
      "text/plain": [
       "<IPython.core.display.HTML object>"
      ]
     },
     "metadata": {},
     "output_type": "display_data"
    },
    {
     "data": {
      "text/html": [
       " View project at <a href='https://wandb.ai/cs22m083/CS6910_Assignment1' target=\"_blank\">https://wandb.ai/cs22m083/CS6910_Assignment1</a>"
      ],
      "text/plain": [
       "<IPython.core.display.HTML object>"
      ]
     },
     "metadata": {},
     "output_type": "display_data"
    },
    {
     "data": {
      "text/html": [
       " View sweep at <a href='https://wandb.ai/cs22m083/CS6910_Assignment1/sweeps/gb9w2qt6' target=\"_blank\">https://wandb.ai/cs22m083/CS6910_Assignment1/sweeps/gb9w2qt6</a>"
      ],
      "text/plain": [
       "<IPython.core.display.HTML object>"
      ]
     },
     "metadata": {},
     "output_type": "display_data"
    },
    {
     "data": {
      "text/html": [
       " View run at <a href='https://wandb.ai/cs22m083/CS6910_Assignment1/runs/oh5f2c4z' target=\"_blank\">https://wandb.ai/cs22m083/CS6910_Assignment1/runs/oh5f2c4z</a>"
      ],
      "text/plain": [
       "<IPython.core.display.HTML object>"
      ]
     },
     "metadata": {},
     "output_type": "display_data"
    },
    {
     "name": "stdout",
     "output_type": "stream",
     "text": [
      " Training Loss:  0.3213214489198502  Validation Loss: 0.3918752352641998  Training Accuracy:  0.8798666666666667  Validation Accuracy: 0.8639\n"
     ]
    },
    {
     "data": {
      "text/html": [
       "Waiting for W&B process to finish... <strong style=\"color:green\">(success).</strong>"
      ],
      "text/plain": [
       "<IPython.core.display.HTML object>"
      ]
     },
     "metadata": {},
     "output_type": "display_data"
    },
    {
     "data": {
      "text/html": [
       "<style>\n",
       "    table.wandb td:nth-child(1) { padding: 0 10px; text-align: left ; width: auto;} td:nth-child(2) {text-align: left ; width: 100%}\n",
       "    .wandb-row { display: flex; flex-direction: row; flex-wrap: wrap; justify-content: flex-start; width: 100% }\n",
       "    .wandb-col { display: flex; flex-direction: column; flex-basis: 100%; flex: 1; padding: 10px; }\n",
       "    </style>\n",
       "<div class=\"wandb-row\"><div class=\"wandb-col\"><h3>Run history:</h3><br/><table class=\"wandb\"><tr><td>Accuracy</td><td>▁</td></tr><tr><td>Epoch</td><td>▁▂▃▃▄▅▆▆▇█</td></tr><tr><td>Training_accuracy</td><td>▁▅▆▇▆▇████</td></tr><tr><td>Training_loss</td><td>█▄▃▂▆▂▁▁▁▁</td></tr><tr><td>Validation_accuracy</td><td>▁▄▅▆▆█████</td></tr><tr><td>Validation_loss</td><td>█▅▄▃▃▁▂▁▁▂</td></tr></table><br/></div><div class=\"wandb-col\"><h3>Run summary:</h3><br/><table class=\"wandb\"><tr><td>Accuracy</td><td>0.8639</td></tr><tr><td>Epoch</td><td>10</td></tr><tr><td>Training_accuracy</td><td>0.87987</td></tr><tr><td>Training_loss</td><td>0.32132</td></tr><tr><td>Validation_accuracy</td><td>0.8639</td></tr><tr><td>Validation_loss</td><td>0.39188</td></tr></table><br/></div></div>"
      ],
      "text/plain": [
       "<IPython.core.display.HTML object>"
      ]
     },
     "metadata": {},
     "output_type": "display_data"
    },
    {
     "data": {
      "text/html": [
       " View run <strong style=\"color:#cdcd00\">Question:4</strong> at: <a href='https://wandb.ai/cs22m083/CS6910_Assignment1/runs/oh5f2c4z' target=\"_blank\">https://wandb.ai/cs22m083/CS6910_Assignment1/runs/oh5f2c4z</a><br/>Synced 6 W&B file(s), 0 media file(s), 0 artifact file(s) and 0 other file(s)"
      ],
      "text/plain": [
       "<IPython.core.display.HTML object>"
      ]
     },
     "metadata": {},
     "output_type": "display_data"
    },
    {
     "data": {
      "text/html": [
       "Find logs at: <code>.\\wandb\\run-20230318_154714-oh5f2c4z\\logs</code>"
      ],
      "text/plain": [
       "<IPython.core.display.HTML object>"
      ]
     },
     "metadata": {},
     "output_type": "display_data"
    },
    {
     "name": "stderr",
     "output_type": "stream",
     "text": [
      "\u001b[34m\u001b[1mwandb\u001b[0m: Agent Starting Run: 64d5xwpi with config:\n",
      "\u001b[34m\u001b[1mwandb\u001b[0m: \tactivation: sigmoid\n",
      "\u001b[34m\u001b[1mwandb\u001b[0m: \tbatch_size: 64\n",
      "\u001b[34m\u001b[1mwandb\u001b[0m: \tepochs: 10\n",
      "\u001b[34m\u001b[1mwandb\u001b[0m: \tgamma: 0.002\n",
      "\u001b[34m\u001b[1mwandb\u001b[0m: \thidden_layers: [32, 64, 128, 256]\n",
      "\u001b[34m\u001b[1mwandb\u001b[0m: \tinitialization: Random\n",
      "\u001b[34m\u001b[1mwandb\u001b[0m: \tlearning_rate: 0.0006\n",
      "\u001b[34m\u001b[1mwandb\u001b[0m: \toptimizer: rmsprop\n",
      "\u001b[34m\u001b[1mwandb\u001b[0m: \tweight_decay: 0.5\n",
      "Failed to detect the name of this notebook, you can set it manually with the WANDB_NOTEBOOK_NAME environment variable to enable code saving.\n",
      "\u001b[34m\u001b[1mwandb\u001b[0m: \u001b[33mWARNING\u001b[0m Ignored wandb.init() arg project when running a sweep.\n"
     ]
    },
    {
     "data": {
      "text/html": [
       "wandb version 0.14.0 is available!  To upgrade, please run:\n",
       " $ pip install wandb --upgrade"
      ],
      "text/plain": [
       "<IPython.core.display.HTML object>"
      ]
     },
     "metadata": {},
     "output_type": "display_data"
    },
    {
     "data": {
      "text/html": [
       "Tracking run with wandb version 0.13.10"
      ],
      "text/plain": [
       "<IPython.core.display.HTML object>"
      ]
     },
     "metadata": {},
     "output_type": "display_data"
    },
    {
     "data": {
      "text/html": [
       "Run data is saved locally in <code>C:\\Users\\Shivam Maurya\\OneDrive\\Desktop\\IIT_MADRAS\\Deep Learning\\assignment 1\\CS6910-Deep_Learning_Assignment-1\\wandb\\run-20230318_155032-64d5xwpi</code>"
      ],
      "text/plain": [
       "<IPython.core.display.HTML object>"
      ]
     },
     "metadata": {},
     "output_type": "display_data"
    },
    {
     "data": {
      "text/html": [
       "Syncing run <strong><a href='https://wandb.ai/cs22m083/CS6910_Assignment1/runs/64d5xwpi' target=\"_blank\">Question:4</a></strong> to <a href='https://wandb.ai/cs22m083/CS6910_Assignment1' target=\"_blank\">Weights & Biases</a> (<a href='https://wandb.me/run' target=\"_blank\">docs</a>)<br/>Sweep page: <a href='https://wandb.ai/cs22m083/CS6910_Assignment1/sweeps/gb9w2qt6' target=\"_blank\">https://wandb.ai/cs22m083/CS6910_Assignment1/sweeps/gb9w2qt6</a>"
      ],
      "text/plain": [
       "<IPython.core.display.HTML object>"
      ]
     },
     "metadata": {},
     "output_type": "display_data"
    },
    {
     "data": {
      "text/html": [
       " View project at <a href='https://wandb.ai/cs22m083/CS6910_Assignment1' target=\"_blank\">https://wandb.ai/cs22m083/CS6910_Assignment1</a>"
      ],
      "text/plain": [
       "<IPython.core.display.HTML object>"
      ]
     },
     "metadata": {},
     "output_type": "display_data"
    },
    {
     "data": {
      "text/html": [
       " View sweep at <a href='https://wandb.ai/cs22m083/CS6910_Assignment1/sweeps/gb9w2qt6' target=\"_blank\">https://wandb.ai/cs22m083/CS6910_Assignment1/sweeps/gb9w2qt6</a>"
      ],
      "text/plain": [
       "<IPython.core.display.HTML object>"
      ]
     },
     "metadata": {},
     "output_type": "display_data"
    },
    {
     "data": {
      "text/html": [
       " View run at <a href='https://wandb.ai/cs22m083/CS6910_Assignment1/runs/64d5xwpi' target=\"_blank\">https://wandb.ai/cs22m083/CS6910_Assignment1/runs/64d5xwpi</a>"
      ],
      "text/plain": [
       "<IPython.core.display.HTML object>"
      ]
     },
     "metadata": {},
     "output_type": "display_data"
    },
    {
     "name": "stdout",
     "output_type": "stream",
     "text": [
      " Training Loss:  0.8326590681086228  Validation Loss: 0.8430572402096954  Training Accuracy:  0.7427333333333334  Validation Accuracy: 0.7486\n"
     ]
    },
    {
     "data": {
      "text/html": [
       "Waiting for W&B process to finish... <strong style=\"color:green\">(success).</strong>"
      ],
      "text/plain": [
       "<IPython.core.display.HTML object>"
      ]
     },
     "metadata": {},
     "output_type": "display_data"
    },
    {
     "data": {
      "application/vnd.jupyter.widget-view+json": {
       "model_id": "f953adbc6f0a40a7ad3212695cfc3d1b",
       "version_major": 2,
       "version_minor": 0
      },
      "text/plain": [
       "VBox(children=(Label(value='0.001 MB of 0.001 MB uploaded (0.000 MB deduped)\\r'), FloatProgress(value=1.0, max…"
      ]
     },
     "metadata": {},
     "output_type": "display_data"
    },
    {
     "data": {
      "text/html": [
       "<style>\n",
       "    table.wandb td:nth-child(1) { padding: 0 10px; text-align: left ; width: auto;} td:nth-child(2) {text-align: left ; width: 100%}\n",
       "    .wandb-row { display: flex; flex-direction: row; flex-wrap: wrap; justify-content: flex-start; width: 100% }\n",
       "    .wandb-col { display: flex; flex-direction: column; flex-basis: 100%; flex: 1; padding: 10px; }\n",
       "    </style>\n",
       "<div class=\"wandb-row\"><div class=\"wandb-col\"><h3>Run history:</h3><br/><table class=\"wandb\"><tr><td>Accuracy</td><td>▁</td></tr><tr><td>Epoch</td><td>▁▂▃▃▄▅▆▆▇█</td></tr><tr><td>Training_accuracy</td><td>▁▆███▇▇▇▇▇</td></tr><tr><td>Training_loss</td><td>█▂▁▁▂▂▂▂▂▂</td></tr><tr><td>Validation_accuracy</td><td>▁▆▇▇█▆▆▆▆▆</td></tr><tr><td>Validation_loss</td><td>█▂▁▂▄▅▆▆▆▆</td></tr></table><br/></div><div class=\"wandb-col\"><h3>Run summary:</h3><br/><table class=\"wandb\"><tr><td>Accuracy</td><td>0.7486</td></tr><tr><td>Epoch</td><td>10</td></tr><tr><td>Training_accuracy</td><td>0.74273</td></tr><tr><td>Training_loss</td><td>0.83266</td></tr><tr><td>Validation_accuracy</td><td>0.7486</td></tr><tr><td>Validation_loss</td><td>0.84306</td></tr></table><br/></div></div>"
      ],
      "text/plain": [
       "<IPython.core.display.HTML object>"
      ]
     },
     "metadata": {},
     "output_type": "display_data"
    },
    {
     "data": {
      "text/html": [
       " View run <strong style=\"color:#cdcd00\">Question:4</strong> at: <a href='https://wandb.ai/cs22m083/CS6910_Assignment1/runs/64d5xwpi' target=\"_blank\">https://wandb.ai/cs22m083/CS6910_Assignment1/runs/64d5xwpi</a><br/>Synced 6 W&B file(s), 0 media file(s), 0 artifact file(s) and 0 other file(s)"
      ],
      "text/plain": [
       "<IPython.core.display.HTML object>"
      ]
     },
     "metadata": {},
     "output_type": "display_data"
    },
    {
     "data": {
      "text/html": [
       "Find logs at: <code>.\\wandb\\run-20230318_155032-64d5xwpi\\logs</code>"
      ],
      "text/plain": [
       "<IPython.core.display.HTML object>"
      ]
     },
     "metadata": {},
     "output_type": "display_data"
    },
    {
     "name": "stderr",
     "output_type": "stream",
     "text": [
      "\u001b[34m\u001b[1mwandb\u001b[0m: Sweep Agent: Waiting for job.\n",
      "\u001b[34m\u001b[1mwandb\u001b[0m: Job received.\n",
      "\u001b[34m\u001b[1mwandb\u001b[0m: Agent Starting Run: ylhu1sxq with config:\n",
      "\u001b[34m\u001b[1mwandb\u001b[0m: \tactivation: tanh\n",
      "\u001b[34m\u001b[1mwandb\u001b[0m: \tbatch_size: 32\n",
      "\u001b[34m\u001b[1mwandb\u001b[0m: \tepochs: 5\n",
      "\u001b[34m\u001b[1mwandb\u001b[0m: \tgamma: 0.0006\n",
      "\u001b[34m\u001b[1mwandb\u001b[0m: \thidden_layers: [32, 64, 128, 256]\n",
      "\u001b[34m\u001b[1mwandb\u001b[0m: \tinitialization: Xavier\n",
      "\u001b[34m\u001b[1mwandb\u001b[0m: \tlearning_rate: 0.01\n",
      "\u001b[34m\u001b[1mwandb\u001b[0m: \toptimizer: nag\n",
      "\u001b[34m\u001b[1mwandb\u001b[0m: \tweight_decay: 0.0005\n",
      "Failed to detect the name of this notebook, you can set it manually with the WANDB_NOTEBOOK_NAME environment variable to enable code saving.\n",
      "\u001b[34m\u001b[1mwandb\u001b[0m: \u001b[33mWARNING\u001b[0m Ignored wandb.init() arg project when running a sweep.\n"
     ]
    },
    {
     "data": {
      "text/html": [
       "wandb version 0.14.0 is available!  To upgrade, please run:\n",
       " $ pip install wandb --upgrade"
      ],
      "text/plain": [
       "<IPython.core.display.HTML object>"
      ]
     },
     "metadata": {},
     "output_type": "display_data"
    },
    {
     "data": {
      "text/html": [
       "Tracking run with wandb version 0.13.10"
      ],
      "text/plain": [
       "<IPython.core.display.HTML object>"
      ]
     },
     "metadata": {},
     "output_type": "display_data"
    },
    {
     "data": {
      "text/html": [
       "Run data is saved locally in <code>C:\\Users\\Shivam Maurya\\OneDrive\\Desktop\\IIT_MADRAS\\Deep Learning\\assignment 1\\CS6910-Deep_Learning_Assignment-1\\wandb\\run-20230318_155656-ylhu1sxq</code>"
      ],
      "text/plain": [
       "<IPython.core.display.HTML object>"
      ]
     },
     "metadata": {},
     "output_type": "display_data"
    },
    {
     "data": {
      "text/html": [
       "Syncing run <strong><a href='https://wandb.ai/cs22m083/CS6910_Assignment1/runs/ylhu1sxq' target=\"_blank\">Question:4</a></strong> to <a href='https://wandb.ai/cs22m083/CS6910_Assignment1' target=\"_blank\">Weights & Biases</a> (<a href='https://wandb.me/run' target=\"_blank\">docs</a>)<br/>Sweep page: <a href='https://wandb.ai/cs22m083/CS6910_Assignment1/sweeps/gb9w2qt6' target=\"_blank\">https://wandb.ai/cs22m083/CS6910_Assignment1/sweeps/gb9w2qt6</a>"
      ],
      "text/plain": [
       "<IPython.core.display.HTML object>"
      ]
     },
     "metadata": {},
     "output_type": "display_data"
    },
    {
     "data": {
      "text/html": [
       " View project at <a href='https://wandb.ai/cs22m083/CS6910_Assignment1' target=\"_blank\">https://wandb.ai/cs22m083/CS6910_Assignment1</a>"
      ],
      "text/plain": [
       "<IPython.core.display.HTML object>"
      ]
     },
     "metadata": {},
     "output_type": "display_data"
    },
    {
     "data": {
      "text/html": [
       " View sweep at <a href='https://wandb.ai/cs22m083/CS6910_Assignment1/sweeps/gb9w2qt6' target=\"_blank\">https://wandb.ai/cs22m083/CS6910_Assignment1/sweeps/gb9w2qt6</a>"
      ],
      "text/plain": [
       "<IPython.core.display.HTML object>"
      ]
     },
     "metadata": {},
     "output_type": "display_data"
    },
    {
     "data": {
      "text/html": [
       " View run at <a href='https://wandb.ai/cs22m083/CS6910_Assignment1/runs/ylhu1sxq' target=\"_blank\">https://wandb.ai/cs22m083/CS6910_Assignment1/runs/ylhu1sxq</a>"
      ],
      "text/plain": [
       "<IPython.core.display.HTML object>"
      ]
     },
     "metadata": {},
     "output_type": "display_data"
    },
    {
     "name": "stdout",
     "output_type": "stream",
     "text": [
      " Training Loss:  0.6754021561816663  Validation Loss: 0.7806300383036036  Training Accuracy:  0.76445  Validation Accuracy: 0.7245\n"
     ]
    },
    {
     "data": {
      "text/html": [
       "Waiting for W&B process to finish... <strong style=\"color:green\">(success).</strong>"
      ],
      "text/plain": [
       "<IPython.core.display.HTML object>"
      ]
     },
     "metadata": {},
     "output_type": "display_data"
    },
    {
     "data": {
      "text/html": [
       "<style>\n",
       "    table.wandb td:nth-child(1) { padding: 0 10px; text-align: left ; width: auto;} td:nth-child(2) {text-align: left ; width: 100%}\n",
       "    .wandb-row { display: flex; flex-direction: row; flex-wrap: wrap; justify-content: flex-start; width: 100% }\n",
       "    .wandb-col { display: flex; flex-direction: column; flex-basis: 100%; flex: 1; padding: 10px; }\n",
       "    </style>\n",
       "<div class=\"wandb-row\"><div class=\"wandb-col\"><h3>Run history:</h3><br/><table class=\"wandb\"><tr><td>Accuracy</td><td>▁</td></tr><tr><td>Epoch</td><td>▁▃▅▆█</td></tr><tr><td>Training_accuracy</td><td>▁▆▇██</td></tr><tr><td>Training_loss</td><td>█▂▁▁▁</td></tr><tr><td>Validation_accuracy</td><td>▁▂▄██</td></tr><tr><td>Validation_loss</td><td>█▇▇▁▃</td></tr></table><br/></div><div class=\"wandb-col\"><h3>Run summary:</h3><br/><table class=\"wandb\"><tr><td>Accuracy</td><td>0.7245</td></tr><tr><td>Epoch</td><td>5</td></tr><tr><td>Training_accuracy</td><td>0.76445</td></tr><tr><td>Training_loss</td><td>0.6754</td></tr><tr><td>Validation_accuracy</td><td>0.7245</td></tr><tr><td>Validation_loss</td><td>0.78063</td></tr></table><br/></div></div>"
      ],
      "text/plain": [
       "<IPython.core.display.HTML object>"
      ]
     },
     "metadata": {},
     "output_type": "display_data"
    },
    {
     "data": {
      "text/html": [
       " View run <strong style=\"color:#cdcd00\">Question:4</strong> at: <a href='https://wandb.ai/cs22m083/CS6910_Assignment1/runs/ylhu1sxq' target=\"_blank\">https://wandb.ai/cs22m083/CS6910_Assignment1/runs/ylhu1sxq</a><br/>Synced 6 W&B file(s), 0 media file(s), 0 artifact file(s) and 0 other file(s)"
      ],
      "text/plain": [
       "<IPython.core.display.HTML object>"
      ]
     },
     "metadata": {},
     "output_type": "display_data"
    },
    {
     "data": {
      "text/html": [
       "Find logs at: <code>.\\wandb\\run-20230318_155656-ylhu1sxq\\logs</code>"
      ],
      "text/plain": [
       "<IPython.core.display.HTML object>"
      ]
     },
     "metadata": {},
     "output_type": "display_data"
    },
    {
     "name": "stderr",
     "output_type": "stream",
     "text": [
      "\u001b[34m\u001b[1mwandb\u001b[0m: Agent Starting Run: h8yx6yij with config:\n",
      "\u001b[34m\u001b[1mwandb\u001b[0m: \tactivation: tanh\n",
      "\u001b[34m\u001b[1mwandb\u001b[0m: \tbatch_size: 64\n",
      "\u001b[34m\u001b[1mwandb\u001b[0m: \tepochs: 10\n",
      "\u001b[34m\u001b[1mwandb\u001b[0m: \tgamma: 0.002\n",
      "\u001b[34m\u001b[1mwandb\u001b[0m: \thidden_layers: [32, 64]\n",
      "\u001b[34m\u001b[1mwandb\u001b[0m: \tinitialization: Random\n",
      "\u001b[34m\u001b[1mwandb\u001b[0m: \tlearning_rate: 0.0005\n",
      "\u001b[34m\u001b[1mwandb\u001b[0m: \toptimizer: nadam\n",
      "\u001b[34m\u001b[1mwandb\u001b[0m: \tweight_decay: 0.5\n",
      "Failed to detect the name of this notebook, you can set it manually with the WANDB_NOTEBOOK_NAME environment variable to enable code saving.\n",
      "\u001b[34m\u001b[1mwandb\u001b[0m: \u001b[33mWARNING\u001b[0m Ignored wandb.init() arg project when running a sweep.\n"
     ]
    },
    {
     "data": {
      "text/html": [
       "wandb version 0.14.0 is available!  To upgrade, please run:\n",
       " $ pip install wandb --upgrade"
      ],
      "text/plain": [
       "<IPython.core.display.HTML object>"
      ]
     },
     "metadata": {},
     "output_type": "display_data"
    },
    {
     "data": {
      "text/html": [
       "Tracking run with wandb version 0.13.10"
      ],
      "text/plain": [
       "<IPython.core.display.HTML object>"
      ]
     },
     "metadata": {},
     "output_type": "display_data"
    },
    {
     "data": {
      "text/html": [
       "Run data is saved locally in <code>C:\\Users\\Shivam Maurya\\OneDrive\\Desktop\\IIT_MADRAS\\Deep Learning\\assignment 1\\CS6910-Deep_Learning_Assignment-1\\wandb\\run-20230318_160007-h8yx6yij</code>"
      ],
      "text/plain": [
       "<IPython.core.display.HTML object>"
      ]
     },
     "metadata": {},
     "output_type": "display_data"
    },
    {
     "data": {
      "text/html": [
       "Syncing run <strong><a href='https://wandb.ai/cs22m083/CS6910_Assignment1/runs/h8yx6yij' target=\"_blank\">Question:4</a></strong> to <a href='https://wandb.ai/cs22m083/CS6910_Assignment1' target=\"_blank\">Weights & Biases</a> (<a href='https://wandb.me/run' target=\"_blank\">docs</a>)<br/>Sweep page: <a href='https://wandb.ai/cs22m083/CS6910_Assignment1/sweeps/gb9w2qt6' target=\"_blank\">https://wandb.ai/cs22m083/CS6910_Assignment1/sweeps/gb9w2qt6</a>"
      ],
      "text/plain": [
       "<IPython.core.display.HTML object>"
      ]
     },
     "metadata": {},
     "output_type": "display_data"
    },
    {
     "data": {
      "text/html": [
       " View project at <a href='https://wandb.ai/cs22m083/CS6910_Assignment1' target=\"_blank\">https://wandb.ai/cs22m083/CS6910_Assignment1</a>"
      ],
      "text/plain": [
       "<IPython.core.display.HTML object>"
      ]
     },
     "metadata": {},
     "output_type": "display_data"
    },
    {
     "data": {
      "text/html": [
       " View sweep at <a href='https://wandb.ai/cs22m083/CS6910_Assignment1/sweeps/gb9w2qt6' target=\"_blank\">https://wandb.ai/cs22m083/CS6910_Assignment1/sweeps/gb9w2qt6</a>"
      ],
      "text/plain": [
       "<IPython.core.display.HTML object>"
      ]
     },
     "metadata": {},
     "output_type": "display_data"
    },
    {
     "data": {
      "text/html": [
       " View run at <a href='https://wandb.ai/cs22m083/CS6910_Assignment1/runs/h8yx6yij' target=\"_blank\">https://wandb.ai/cs22m083/CS6910_Assignment1/runs/h8yx6yij</a>"
      ],
      "text/plain": [
       "<IPython.core.display.HTML object>"
      ]
     },
     "metadata": {},
     "output_type": "display_data"
    },
    {
     "name": "stdout",
     "output_type": "stream",
     "text": [
      " Training Loss:  0.43185357519459483  Validation Loss: 0.46021523970153366  Training Accuracy:  0.85215  Validation Accuracy: 0.8422\n"
     ]
    },
    {
     "data": {
      "text/html": [
       "Waiting for W&B process to finish... <strong style=\"color:green\">(success).</strong>"
      ],
      "text/plain": [
       "<IPython.core.display.HTML object>"
      ]
     },
     "metadata": {},
     "output_type": "display_data"
    },
    {
     "data": {
      "text/html": [
       "<style>\n",
       "    table.wandb td:nth-child(1) { padding: 0 10px; text-align: left ; width: auto;} td:nth-child(2) {text-align: left ; width: 100%}\n",
       "    .wandb-row { display: flex; flex-direction: row; flex-wrap: wrap; justify-content: flex-start; width: 100% }\n",
       "    .wandb-col { display: flex; flex-direction: column; flex-basis: 100%; flex: 1; padding: 10px; }\n",
       "    </style>\n",
       "<div class=\"wandb-row\"><div class=\"wandb-col\"><h3>Run history:</h3><br/><table class=\"wandb\"><tr><td>Accuracy</td><td>▁</td></tr><tr><td>Epoch</td><td>▁▂▃▃▄▅▆▆▇█</td></tr><tr><td>Training_accuracy</td><td>▁▄▅▅▇▇████</td></tr><tr><td>Training_loss</td><td>█▃▃▂▂▁▁▁▁▁</td></tr><tr><td>Validation_accuracy</td><td>▁▃▄▅▆▇████</td></tr><tr><td>Validation_loss</td><td>█▅▄▃▂▂▁▁▁▁</td></tr></table><br/></div><div class=\"wandb-col\"><h3>Run summary:</h3><br/><table class=\"wandb\"><tr><td>Accuracy</td><td>0.8422</td></tr><tr><td>Epoch</td><td>10</td></tr><tr><td>Training_accuracy</td><td>0.85215</td></tr><tr><td>Training_loss</td><td>0.43185</td></tr><tr><td>Validation_accuracy</td><td>0.8422</td></tr><tr><td>Validation_loss</td><td>0.46022</td></tr></table><br/></div></div>"
      ],
      "text/plain": [
       "<IPython.core.display.HTML object>"
      ]
     },
     "metadata": {},
     "output_type": "display_data"
    },
    {
     "data": {
      "text/html": [
       " View run <strong style=\"color:#cdcd00\">Question:4</strong> at: <a href='https://wandb.ai/cs22m083/CS6910_Assignment1/runs/h8yx6yij' target=\"_blank\">https://wandb.ai/cs22m083/CS6910_Assignment1/runs/h8yx6yij</a><br/>Synced 6 W&B file(s), 0 media file(s), 0 artifact file(s) and 0 other file(s)"
      ],
      "text/plain": [
       "<IPython.core.display.HTML object>"
      ]
     },
     "metadata": {},
     "output_type": "display_data"
    },
    {
     "data": {
      "text/html": [
       "Find logs at: <code>.\\wandb\\run-20230318_160007-h8yx6yij\\logs</code>"
      ],
      "text/plain": [
       "<IPython.core.display.HTML object>"
      ]
     },
     "metadata": {},
     "output_type": "display_data"
    }
   ],
   "source": [
    "wandb.agent(sweep_id, train, count = 60)"
   ]
  },
  {
   "cell_type": "markdown",
   "id": "1efeddff",
   "metadata": {},
   "source": [
    "# Question 7"
   ]
  },
  {
   "cell_type": "code",
   "execution_count": 41,
   "id": "7ddf04bc",
   "metadata": {},
   "outputs": [
    {
     "name": "stdout",
     "output_type": "stream",
     "text": [
      "Training Loss:  0.648 Val_loss: 0.483  Training Accuracy:  0.777 Val_accuracy: 0.827  <-:Epoch: 1\n",
      "Training Loss:  0.435 Val_loss: 0.434  Training Accuracy:  0.846 Val_accuracy: 0.846  <-:Epoch: 2\n",
      "Training Loss:  0.397 Val_loss: 0.414  Training Accuracy:  0.858 Val_accuracy: 0.852  <-:Epoch: 3\n",
      "Training Loss:  0.373 Val_loss: 0.399  Training Accuracy:  0.867 Val_accuracy: 0.858  <-:Epoch: 4\n",
      "Training Loss:  0.355 Val_loss: 0.389  Training Accuracy:  0.872 Val_accuracy: 0.86  <-:Epoch: 5\n",
      "Training Loss:  0.341 Val_loss: 0.381  Training Accuracy:  0.876 Val_accuracy: 0.863  <-:Epoch: 6\n",
      "Training Loss:  0.33 Val_loss: 0.377  Training Accuracy:  0.88 Val_accuracy: 0.865  <-:Epoch: 7\n",
      "Training Loss:  0.32 Val_loss: 0.372  Training Accuracy:  0.884 Val_accuracy: 0.869  <-:Epoch: 8\n",
      "Training Loss:  0.312 Val_loss: 0.369  Training Accuracy:  0.886 Val_accuracy: 0.87  <-:Epoch: 9\n",
      "Training Loss:  0.304 Val_loss: 0.367  Training Accuracy:  0.888 Val_accuracy: 0.87  <-:Epoch: 10\n"
     ]
    }
   ],
   "source": [
    "#Add layer sizes for the hidden layers\n",
    "parameters = {\"learning_rate\":0.0005, \"beta1\":0.09, \"beta2\":0.999, \"epsilon\":1e-8, \"weight_decay\":0.0005}\n",
    "loss_fun = LossFunction(\"cross_entropy\") # Loss Function\n",
    "layers = [32, 64]\n",
    "optimizer = Optimizer(\"adam\") # Optimizer : adam\n",
    "optimizer.set_initial_parameters(parameters)\n",
    "activation = ActivationFunction(\"relu\") #activation(hidden layers)\n",
    "output_activation = ActivationFunction(\"softmax\") #activation(output layer)\n",
    "\n",
    "model = FFNN(optimizer, layers, loss_fun, activation, output_activation, 64, 10, initialization = \"Xavier\")\n",
    "train_loss, val_loss, train_accuracy, val_accuracy = model.fit(x_train, y_OH_train, x_test, y_OH_test)"
   ]
  },
  {
   "cell_type": "code",
   "execution_count": 42,
   "id": "aa1e9e46",
   "metadata": {},
   "outputs": [
    {
     "name": "stdout",
     "output_type": "stream",
     "text": [
      "Training accuracy 0.87\n"
     ]
    }
   ],
   "source": [
    "# Accuracy for Test Data(Validation)\n",
    "y_preds = model.predict(x_test)\n",
    "accuracy_train = accuracy_score(np.argmax(y_OH_test,1), np.argmax(y_preds,1))\n",
    "print(\"Training accuracy\", round(accuracy_train, 3))\n"
   ]
  },
  {
   "cell_type": "markdown",
   "id": "891c52ce",
   "metadata": {},
   "source": [
    "### Plotting Confusion Matrix"
   ]
  },
  {
   "cell_type": "code",
   "execution_count": 53,
   "id": "c50876fc",
   "metadata": {},
   "outputs": [
    {
     "data": {
      "text/html": [
       "Changes to your `wandb` environment variables will be ignored because your `wandb` session has already started. For more information on how to modify your settings with `wandb.init()` arguments, please refer to <a href='https://wandb.me/wandb-init' target=\"_blank\">the W&B docs</a>."
      ],
      "text/plain": [
       "<IPython.core.display.HTML object>"
      ]
     },
     "metadata": {},
     "output_type": "display_data"
    },
    {
     "name": "stderr",
     "output_type": "stream",
     "text": [
      "\u001b[34m\u001b[1mwandb\u001b[0m: \u001b[33mWARNING\u001b[0m Ignored wandb.init() arg project when running a sweep.\n"
     ]
    },
    {
     "data": {
      "text/html": [
       "Finishing last run (ID:h8yx6yij) before initializing another..."
      ],
      "text/plain": [
       "<IPython.core.display.HTML object>"
      ]
     },
     "metadata": {},
     "output_type": "display_data"
    },
    {
     "data": {
      "text/html": [
       "Waiting for W&B process to finish... <strong style=\"color:green\">(success).</strong>"
      ],
      "text/plain": [
       "<IPython.core.display.HTML object>"
      ]
     },
     "metadata": {},
     "output_type": "display_data"
    },
    {
     "data": {
      "text/html": [
       " View run <strong style=\"color:#cdcd00\">Question:8</strong> at: <a href='https://wandb.ai/cs22m083/CS6910_Assignment1/runs/h8yx6yij' target=\"_blank\">https://wandb.ai/cs22m083/CS6910_Assignment1/runs/h8yx6yij</a><br/>Synced 6 W&B file(s), 1 media file(s), 0 artifact file(s) and 0 other file(s)"
      ],
      "text/plain": [
       "<IPython.core.display.HTML object>"
      ]
     },
     "metadata": {},
     "output_type": "display_data"
    },
    {
     "data": {
      "text/html": [
       "Find logs at: <code>.\\wandb\\run-20230318_184331-h8yx6yij\\logs</code>"
      ],
      "text/plain": [
       "<IPython.core.display.HTML object>"
      ]
     },
     "metadata": {},
     "output_type": "display_data"
    },
    {
     "data": {
      "text/html": [
       "Successfully finished last run (ID:h8yx6yij). Initializing new run:<br/>"
      ],
      "text/plain": [
       "<IPython.core.display.HTML object>"
      ]
     },
     "metadata": {},
     "output_type": "display_data"
    },
    {
     "data": {
      "application/vnd.jupyter.widget-view+json": {
       "model_id": "0305e9c0aca74512b8a8cd4f3bd09277",
       "version_major": 2,
       "version_minor": 0
      },
      "text/plain": [
       "VBox(children=(Label(value='Waiting for wandb.init()...\\r'), FloatProgress(value=0.016916666666899498, max=1.0…"
      ]
     },
     "metadata": {},
     "output_type": "display_data"
    },
    {
     "data": {
      "text/html": [
       "wandb version 0.14.0 is available!  To upgrade, please run:\n",
       " $ pip install wandb --upgrade"
      ],
      "text/plain": [
       "<IPython.core.display.HTML object>"
      ]
     },
     "metadata": {},
     "output_type": "display_data"
    },
    {
     "data": {
      "text/html": [
       "Tracking run with wandb version 0.13.10"
      ],
      "text/plain": [
       "<IPython.core.display.HTML object>"
      ]
     },
     "metadata": {},
     "output_type": "display_data"
    },
    {
     "data": {
      "text/html": [
       "Run data is saved locally in <code>C:\\Users\\Shivam Maurya\\OneDrive\\Desktop\\IIT_MADRAS\\Deep Learning\\assignment 1\\CS6910-Deep_Learning_Assignment-1\\wandb\\run-20230318_185840-h8yx6yij</code>"
      ],
      "text/plain": [
       "<IPython.core.display.HTML object>"
      ]
     },
     "metadata": {},
     "output_type": "display_data"
    },
    {
     "data": {
      "text/html": [
       "Syncing run <strong><a href='https://wandb.ai/cs22m083/CS6910_Assignment1/runs/h8yx6yij' target=\"_blank\">Question:7</a></strong> to <a href='https://wandb.ai/cs22m083/CS6910_Assignment1' target=\"_blank\">Weights & Biases</a> (<a href='https://wandb.me/run' target=\"_blank\">docs</a>)<br/>Sweep page: <a href='https://wandb.ai/cs22m083/CS6910_Assignment1/sweeps/gb9w2qt6' target=\"_blank\">https://wandb.ai/cs22m083/CS6910_Assignment1/sweeps/gb9w2qt6</a>"
      ],
      "text/plain": [
       "<IPython.core.display.HTML object>"
      ]
     },
     "metadata": {},
     "output_type": "display_data"
    },
    {
     "data": {
      "text/html": [
       " View project at <a href='https://wandb.ai/cs22m083/CS6910_Assignment1' target=\"_blank\">https://wandb.ai/cs22m083/CS6910_Assignment1</a>"
      ],
      "text/plain": [
       "<IPython.core.display.HTML object>"
      ]
     },
     "metadata": {},
     "output_type": "display_data"
    },
    {
     "data": {
      "text/html": [
       " View sweep at <a href='https://wandb.ai/cs22m083/CS6910_Assignment1/sweeps/gb9w2qt6' target=\"_blank\">https://wandb.ai/cs22m083/CS6910_Assignment1/sweeps/gb9w2qt6</a>"
      ],
      "text/plain": [
       "<IPython.core.display.HTML object>"
      ]
     },
     "metadata": {},
     "output_type": "display_data"
    },
    {
     "data": {
      "text/html": [
       " View run at <a href='https://wandb.ai/cs22m083/CS6910_Assignment1/runs/h8yx6yij' target=\"_blank\">https://wandb.ai/cs22m083/CS6910_Assignment1/runs/h8yx6yij</a>"
      ],
      "text/plain": [
       "<IPython.core.display.HTML object>"
      ]
     },
     "metadata": {},
     "output_type": "display_data"
    },
    {
     "data": {
      "image/png": "[encoded data removed]",
      "text/plain": [
       "<Figure size 800x800 with 2 Axes>"
      ]
     },
     "metadata": {},
     "output_type": "display_data"
    }
   ],
   "source": [
    "class_label = [\"T-shirt/top\", \"Trouser\", \"Pullover\", \"Dress\", \"Coat\", \"Sandal\", \"Shirt\", \"Sneaker\", \"Bag\", \"Ankle boot\"]\n",
    "wandb.init(project=\"CS6910_Assignment_11\", name=\"Question:7\")\n",
    "y_p = np.argmax(y_preds,1)\n",
    "y_t = np.argmax(y_OH_test,1)\n",
    "conf_matrix = metrics.confusion_matrix(y_t , y_p)\n",
    "df_conf_matrix = pd.DataFrame(conf_matrix)\n",
    "plt.figure(figsize=(8, 8))\n",
    "my_cmap = matplotlib.colors.LinearSegmentedColormap.from_list(\"\", [\"yellow\",\"orange\"])\n",
    "ax = sns.heatmap(df_conf_matrix, annot=True,  cmap= my_cmap, fmt='d',linewidths=3, linecolor='white')\n",
    "ax.set_xticklabels(class_label,rotation=90)\n",
    "ax.set_yticklabels(class_label,rotation=0)\n",
    "plt.title('Confusion Matrix', fontsize=8)\n",
    "plt.ylabel(\"Predicted Class\")\n",
    "plt.xlabel(\"True Class\")  \n",
    "wandb.log({\"Confusion_Matrix\": wandb.Image(plt)})"
   ]
  },
  {
   "cell_type": "code",
   "execution_count": 44,
   "id": "5ee0b07e",
   "metadata": {},
   "outputs": [
    {
     "data": {
      "text/html": [
       "Waiting for W&B process to finish... <strong style=\"color:green\">(success).</strong>"
      ],
      "text/plain": [
       "<IPython.core.display.HTML object>"
      ]
     },
     "metadata": {},
     "output_type": "display_data"
    },
    {
     "data": {
      "application/vnd.jupyter.widget-view+json": {
       "model_id": "70d336774baa489bb1a924d29980fec6",
       "version_major": 2,
       "version_minor": 0
      },
      "text/plain": [
       "VBox(children=(Label(value='0.056 MB of 0.077 MB uploaded (0.000 MB deduped)\\r'), FloatProgress(value=0.722067…"
      ]
     },
     "metadata": {},
     "output_type": "display_data"
    },
    {
     "data": {
      "text/html": [
       " View run <strong style=\"color:#cdcd00\">Question:7</strong> at: <a href='https://wandb.ai/cs22m083/CS6910_Assignment1/runs/h8yx6yij' target=\"_blank\">https://wandb.ai/cs22m083/CS6910_Assignment1/runs/h8yx6yij</a><br/>Synced 5 W&B file(s), 1 media file(s), 0 artifact file(s) and 0 other file(s)"
      ],
      "text/plain": [
       "<IPython.core.display.HTML object>"
      ]
     },
     "metadata": {},
     "output_type": "display_data"
    },
    {
     "data": {
      "text/html": [
       "Find logs at: <code>.\\wandb\\run-20230318_165814-h8yx6yij\\logs</code>"
      ],
      "text/plain": [
       "<IPython.core.display.HTML object>"
      ]
     },
     "metadata": {},
     "output_type": "display_data"
    }
   ],
   "source": [
    "wandb.finish()"
   ]
  },
  {
   "cell_type": "markdown",
   "id": "430b1de7",
   "metadata": {},
   "source": [
    "# Question 8"
   ]
  },
  {
   "cell_type": "code",
   "execution_count": 45,
   "id": "cb4c2f11",
   "metadata": {},
   "outputs": [
    {
     "name": "stdout",
     "output_type": "stream",
     "text": [
      "SQUARED_ERROR\n",
      "Training Loss:  0.142 Val_loss: 0.117  Training Accuracy:  0.8 Val_accuracy: 0.836  <-:Epoch: 1\n",
      "Training Loss:  0.107 Val_loss: 0.109  Training Accuracy:  0.851 Val_accuracy: 0.847  <-:Epoch: 2\n",
      "Training Loss:  0.099 Val_loss: 0.107  Training Accuracy:  0.863 Val_accuracy: 0.851  <-:Epoch: 3\n",
      "Training Loss:  0.094 Val_loss: 0.105  Training Accuracy:  0.87 Val_accuracy: 0.853  <-:Epoch: 4\n",
      "Training Loss:  0.092 Val_loss: 0.104  Training Accuracy:  0.874 Val_accuracy: 0.853  <-:Epoch: 5\n",
      "Training Loss:  0.089 Val_loss: 0.103  Training Accuracy:  0.878 Val_accuracy: 0.855  <-:Epoch: 6\n",
      "Training Loss:  0.087 Val_loss: 0.103  Training Accuracy:  0.88 Val_accuracy: 0.855  <-:Epoch: 7\n",
      "Training Loss:  0.086 Val_loss: 0.102  Training Accuracy:  0.883 Val_accuracy: 0.856  <-:Epoch: 8\n",
      "Training Loss:  0.085 Val_loss: 0.102  Training Accuracy:  0.885 Val_accuracy: 0.857  <-:Epoch: 9\n",
      "Training Loss:  0.084 Val_loss: 0.102  Training Accuracy:  0.887 Val_accuracy: 0.857  <-:Epoch: 10\n",
      "***********************************************************************************************************\n",
      "CROSS_ENTROPY\n",
      "Training Loss:  0.134 Val_loss: 0.116  Training Accuracy:  0.807 Val_accuracy: 0.836  <-:Epoch: 1\n",
      "Training Loss:  0.102 Val_loss: 0.111  Training Accuracy:  0.857 Val_accuracy: 0.843  <-:Epoch: 2\n",
      "Training Loss:  0.096 Val_loss: 0.107  Training Accuracy:  0.867 Val_accuracy: 0.849  <-:Epoch: 3\n",
      "Training Loss:  0.092 Val_loss: 0.105  Training Accuracy:  0.873 Val_accuracy: 0.849  <-:Epoch: 4\n",
      "Training Loss:  0.089 Val_loss: 0.103  Training Accuracy:  0.877 Val_accuracy: 0.853  <-:Epoch: 5\n",
      "Training Loss:  0.087 Val_loss: 0.102  Training Accuracy:  0.88 Val_accuracy: 0.855  <-:Epoch: 6\n",
      "Training Loss:  0.086 Val_loss: 0.101  Training Accuracy:  0.883 Val_accuracy: 0.856  <-:Epoch: 7\n",
      "Training Loss:  0.084 Val_loss: 0.1  Training Accuracy:  0.885 Val_accuracy: 0.858  <-:Epoch: 8\n",
      "Training Loss:  0.083 Val_loss: 0.1  Training Accuracy:  0.886 Val_accuracy: 0.858  <-:Epoch: 9\n",
      "Training Loss:  0.082 Val_loss: 0.099  Training Accuracy:  0.888 Val_accuracy: 0.859  <-:Epoch: 10\n"
     ]
    }
   ],
   "source": [
    "''' Parameters Selection for Different Optimization Algorithm '''\n",
    "# parameters_nadam = {\"learning_rate\":0.0006, \"beta1\":0.09, \"beta2\":0.999, \"epsilon\":1e-8, \"weight_decay\":0.001} #nadam\n",
    "# parameters_sgd = {\"learning_rate\":0.001, \"weight_decay\":0.5} #sgd\n",
    "# parameters_momentum = {\"learning_rate\":0.0001, \"gamma\":0.6, \"weight_decay\":0} #momentum\n",
    "# parameters_nag = {\"learning_rate\":0.001, \"gamma\":0.009} #nag\n",
    "# parameters_rmsprop = {\"learning_rate\":0.01, \"gamma\":0.009, \"epsilon\":1e-8, \"weight_decay\":0.5} #rmsprop\n",
    "parameters_adam = {\"learning_rate\":0.0006, \"beta1\":0.09, \"beta2\":0.999, \"epsilon\":1e-8, \"weight_decay\":0.001} #adam\n",
    "\n",
    "'''For Selecting different Optimization Function'''\n",
    "# \"sgd\" : gradient_descent, \"momentum\" : momentum_gd, \"nag\": nag , \"rmsprop\":  RMSProp, \"adam\": Adam \"nadam\": Nadam\n",
    "\n",
    "optimizer = Optimizer(\"adam\")\n",
    "optimizer.set_initial_parameters(parameters_adam)\n",
    "\n",
    "\n",
    "#  \"cross_entropy\" : Cross Entropy Loss Function,  \"squared_loss\" : Squared Error Loss Function\n",
    "\n",
    "loss_fun_se = LossFunction(\"squared_loss\")\n",
    "train_se_losses = []\n",
    "val_se_losses = []\n",
    "train_se_accuracy = []\n",
    "val_se_accuracy = []\n",
    "\n",
    "\n",
    "\n",
    "loss_fun_cross = LossFunction(\"cross_entropy\")\n",
    "train_ce_losses = []\n",
    "val_ce_losses = []\n",
    "train_ce_accuracy = []\n",
    "val_ce_accuracy = []\n",
    "\n",
    "#Select activation-function(hidden layers) pass below respective string to select any Activation Fuction Eg:\"tanh\" in ActivationFunction\n",
    "# \"sigmoid\": SigmoidFunction, \"softmax\": SoftmaxFunction, \"tanh\": TanhFunction, \"relu\":ReLUFunction\n",
    "act_fun_hidden = ActivationFunction(\"tanh\")\n",
    "\n",
    "#Select activation - function for output layer\n",
    "act_fun_output = ActivationFunction(\"softmax\")\n",
    "\n",
    "#Add layer sizes for the hidden layers\n",
    "layers = [32, 64, 128]\n",
    "\n",
    "print(\"SQUARED_ERROR\")\n",
    "model = FFNN(optimizer, layers, loss_fun_se, act_fun_hidden, act_fun_output, 64, 10, \"Xavier\", 0, train_se_losses, train_se_accuracy, val_se_losses, val_se_accuracy)\n",
    "se_train_loss, se_val_loss, se_train_accuracy, se_val_accuracy = model.fit(x_train, y_OH_train, x_test, y_OH_test)\n",
    "\n",
    "print(\"***********************************************************************************************************\")\n",
    "\n",
    "print(\"CROSS_ENTROPY\")\n",
    "model = FFNN(optimizer, layers, loss_fun_se, act_fun_hidden, act_fun_output, 64, 10, \"Xavier\", 0, train_ce_losses, train_ce_accuracy, val_ce_losses, val_ce_accuracy)\n",
    "ce_train_loss, ce_val_loss, ce_train_accuracy, ce_val_accuracy = model.fit(x_train, y_OH_train, x_test, y_OH_test)\n",
    "ln = len(val_ce_accuracy)+1"
   ]
  },
  {
   "cell_type": "code",
   "execution_count": 46,
   "id": "7fb95e3a",
   "metadata": {},
   "outputs": [
    {
     "data": {
      "text/html": [
       "Changes to your `wandb` environment variables will be ignored because your `wandb` session has already started. For more information on how to modify your settings with `wandb.init()` arguments, please refer to <a href='https://wandb.me/wandb-init' target=\"_blank\">the W&B docs</a>."
      ],
      "text/plain": [
       "<IPython.core.display.HTML object>"
      ]
     },
     "metadata": {},
     "output_type": "display_data"
    },
    {
     "name": "stderr",
     "output_type": "stream",
     "text": [
      "\u001b[34m\u001b[1mwandb\u001b[0m: \u001b[33mWARNING\u001b[0m Ignored wandb.init() arg project when running a sweep.\n"
     ]
    },
    {
     "data": {
      "text/html": [
       "wandb version 0.14.0 is available!  To upgrade, please run:\n",
       " $ pip install wandb --upgrade"
      ],
      "text/plain": [
       "<IPython.core.display.HTML object>"
      ]
     },
     "metadata": {},
     "output_type": "display_data"
    },
    {
     "data": {
      "text/html": [
       "Tracking run with wandb version 0.13.10"
      ],
      "text/plain": [
       "<IPython.core.display.HTML object>"
      ]
     },
     "metadata": {},
     "output_type": "display_data"
    },
    {
     "data": {
      "text/html": [
       "Run data is saved locally in <code>C:\\Users\\Shivam Maurya\\OneDrive\\Desktop\\IIT_MADRAS\\Deep Learning\\assignment 1\\CS6910-Deep_Learning_Assignment-1\\wandb\\run-20230318_184331-h8yx6yij</code>"
      ],
      "text/plain": [
       "<IPython.core.display.HTML object>"
      ]
     },
     "metadata": {},
     "output_type": "display_data"
    },
    {
     "data": {
      "text/html": [
       "Syncing run <strong><a href='https://wandb.ai/cs22m083/CS6910_Assignment1/runs/h8yx6yij' target=\"_blank\">Question:8</a></strong> to <a href='https://wandb.ai/cs22m083/CS6910_Assignment1' target=\"_blank\">Weights & Biases</a> (<a href='https://wandb.me/run' target=\"_blank\">docs</a>)<br/>Sweep page: <a href='https://wandb.ai/cs22m083/CS6910_Assignment1/sweeps/gb9w2qt6' target=\"_blank\">https://wandb.ai/cs22m083/CS6910_Assignment1/sweeps/gb9w2qt6</a>"
      ],
      "text/plain": [
       "<IPython.core.display.HTML object>"
      ]
     },
     "metadata": {},
     "output_type": "display_data"
    },
    {
     "data": {
      "text/html": [
       " View project at <a href='https://wandb.ai/cs22m083/CS6910_Assignment1' target=\"_blank\">https://wandb.ai/cs22m083/CS6910_Assignment1</a>"
      ],
      "text/plain": [
       "<IPython.core.display.HTML object>"
      ]
     },
     "metadata": {},
     "output_type": "display_data"
    },
    {
     "data": {
      "text/html": [
       " View sweep at <a href='https://wandb.ai/cs22m083/CS6910_Assignment1/sweeps/gb9w2qt6' target=\"_blank\">https://wandb.ai/cs22m083/CS6910_Assignment1/sweeps/gb9w2qt6</a>"
      ],
      "text/plain": [
       "<IPython.core.display.HTML object>"
      ]
     },
     "metadata": {},
     "output_type": "display_data"
    },
    {
     "data": {
      "text/html": [
       " View run at <a href='https://wandb.ai/cs22m083/CS6910_Assignment1/runs/h8yx6yij' target=\"_blank\">https://wandb.ai/cs22m083/CS6910_Assignment1/runs/h8yx6yij</a>"
      ],
      "text/plain": [
       "<IPython.core.display.HTML object>"
      ]
     },
     "metadata": {},
     "output_type": "display_data"
    },
    {
     "data": {
      "image/png": "[encoded data removed]",
      "text/plain": [
       "<Figure size 800x800 with 1 Axes>"
      ]
     },
     "metadata": {},
     "output_type": "display_data"
    },
    {
     "data": {
      "text/plain": [
       "<Figure size 640x480 with 0 Axes>"
      ]
     },
     "metadata": {},
     "output_type": "display_data"
    }
   ],
   "source": [
    "wandb.init(project=\"CS6910_Assignment1\", name= \"Question:8\")\n",
    "plt.figure(figsize=(8, 8))\n",
    "sizelst = list(range(1, ln))\n",
    "plt.plot(sizelst, val_se_losses, 'r', label ='Squared_Loss') \n",
    "plt.plot(sizelst, val_ce_losses, 'g', label ='Cross_Entropy')\n",
    "plt.title('Validation Loss Comparison: Squared Loss v/s Crossentropy Loss', fontsize=20)\n",
    "plt.ylabel(\"Validation Loss\")\n",
    "plt.xlabel(\"Epochs\") \n",
    "plt.legend()\n",
    "plt.show()\n",
    "wandb.log({\"Validation Loss per epoch for Squared v/s CrossEntropy Loss \": wandb.Image(plt)})"
   ]
  },
  {
   "cell_type": "markdown",
   "id": "c5b36135",
   "metadata": {},
   "source": [
    "# Question 10"
   ]
  },
  {
   "cell_type": "code",
   "execution_count": 47,
   "id": "d8c64b2c",
   "metadata": {},
   "outputs": [],
   "source": [
    "(x_mnist_train, y_mnist_train), (x_mnist_test, y_mnist_test) = mnist.load_data()\n",
    "enc = OneHotEncoder()\n",
    "#Normalize the data\n",
    "x_mnist_train = x_mnist_train/255.0\n",
    "x_mnist_test = x_mnist_test/255.0\n",
    "\n",
    "y_OH_test_mnist = enc.fit_transform(np.expand_dims(y_mnist_test, 1)).toarray()\n",
    "\n",
    "#Splitting to get 0.1 parts of data as validation set\n",
    "x_mnist_train, x_mnist_val, y_mnist_train, y_mnist_val = train_test_split(x_mnist_train, y_mnist_train, test_size=0.1, random_state=137)\n",
    "y_OH_train_mnist = enc.fit_transform(np.expand_dims(y_mnist_train, 1)).toarray()\n",
    "y_OH_val_mnist = enc.fit_transform(np.expand_dims(y_mnist_val, 1)).toarray()"
   ]
  },
  {
   "cell_type": "code",
   "execution_count": 48,
   "id": "174b6dfe",
   "metadata": {},
   "outputs": [],
   "source": [
    "# Parameters Selection for Different Optimization Algorithm\n",
    "parameters_sgd = {\"learning_rate\":0.001, \"weight_decay\":0.5} #sgd\n",
    "parameters_momentum = {\"learning_rate\":0.0001, \"gamma\":0.6, \"weight_decay\":0} #momentum\n",
    "parameters_nag = {\"learning_rate\":0.001, \"gamma\":0.009} #nag\n",
    "parameters_rmsprop = {\"learning_rate\":0.01, \"gamma\":0.009, \"epsilon\":1e-8, \"weight_decay\":0.5} #rmsprop\n",
    "parameters_adam = {\"learning_rate\":0.0006, \"beta1\":0.09, \"beta2\":0.999, \"epsilon\":1e-8, \"weight_decay\":0.001} #adam\n",
    "parameters_nadam = {\"learning_rate\":0.0006, \"beta1\":0.09, \"beta2\":0.999, \"epsilon\":1e-8, \"weight_decay\":0.001} #nadam\n",
    "\n",
    "\n",
    "# \"sgd\" : gradient_descent, \"momentum\" : momentum_gd, \"nag\": nag , \"rmsprop\":  RMSProp, \"adam\": Adam \"nadam\": Nadam\n",
    "\n",
    "optimizer = Optimizer(\"adam\")\n",
    "optimizer.set_initial_parameters(parameters_adam)\n",
    "\n",
    "\n",
    "#  \"cross_entropy\" : Cross Entropy Loss Function,  \"squared_loss\" : Squared Error Loss Function\n",
    "loss_fun = LossFunction(\"cross_entropy\")\n",
    "\n",
    "#Select activation-function(hidden layers) pass below respective string to select any Activation Fuction Eg:\"tanh\" in ActivationFunction\n",
    "# \"sigmoid\": SigmoidFunction, \"softmax\": SoftmaxFunction, \"tanh\": TanhFunction, \"relu\":ReLUFunction\n",
    "act_fun_hidden = ActivationFunction(\"relu\")\n",
    "\n",
    "#Select activation - function for output layer\n",
    "act_fun_output = ActivationFunction(\"softmax\")\n",
    "\n",
    "#Add layer sizes for the hidden layers\n",
    "layers = [32, 64, 128]\n"
   ]
  },
  {
   "cell_type": "code",
   "execution_count": 49,
   "id": "e781222a",
   "metadata": {},
   "outputs": [
    {
     "name": "stdout",
     "output_type": "stream",
     "text": [
      "Training Loss:  0.417 Val_loss: 0.217  Training Accuracy:  0.877 Val_accuracy: 0.939  <-:Epoch: 1\n",
      "Training Loss:  0.194 Val_loss: 0.163  Training Accuracy:  0.943 Val_accuracy: 0.952  <-:Epoch: 2\n",
      "Training Loss:  0.15 Val_loss: 0.141  Training Accuracy:  0.954 Val_accuracy: 0.96  <-:Epoch: 3\n",
      "Training Loss:  0.124 Val_loss: 0.129  Training Accuracy:  0.962 Val_accuracy: 0.965  <-:Epoch: 4\n",
      "Training Loss:  0.106 Val_loss: 0.124  Training Accuracy:  0.968 Val_accuracy: 0.966  <-:Epoch: 5\n",
      "Training Loss:  0.093 Val_loss: 0.118  Training Accuracy:  0.972 Val_accuracy: 0.967  <-:Epoch: 6\n",
      "Training Loss:  0.082 Val_loss: 0.115  Training Accuracy:  0.976 Val_accuracy: 0.967  <-:Epoch: 7\n",
      "Training Loss:  0.073 Val_loss: 0.115  Training Accuracy:  0.978 Val_accuracy: 0.969  <-:Epoch: 8\n",
      "Training Loss:  0.065 Val_loss: 0.121  Training Accuracy:  0.98 Val_accuracy: 0.968  <-:Epoch: 9\n",
      "Training Loss:  0.058 Val_loss: 0.125  Training Accuracy:  0.983 Val_accuracy: 0.966  <-:Epoch: 10\n"
     ]
    },
    {
     "data": {
      "text/plain": [
       "(0.05760434519052973,\n",
       " 0.12500245117270742,\n",
       " 0.982574074074074,\n",
       " 0.9661666666666666)"
      ]
     },
     "execution_count": 49,
     "metadata": {},
     "output_type": "execute_result"
    }
   ],
   "source": [
    "model_1 = FFNN(optimizer, layers,  loss_fun , act_fun_hidden, act_fun_output, 64, 10, initialization = \"Xavier\")\n",
    "model_1.fit(x_mnist_train, y_OH_train_mnist, x_mnist_val, y_OH_val_mnist)"
   ]
  },
  {
   "cell_type": "code",
   "execution_count": 50,
   "id": "3a8da117",
   "metadata": {},
   "outputs": [
    {
     "name": "stdout",
     "output_type": "stream",
     "text": [
      "Training Loss:  0.352 Val_loss: 0.203  Training Accuracy:  0.898 Val_accuracy: 0.943  <-:Epoch: 1\n",
      "Training Loss:  0.178 Val_loss: 0.154  Training Accuracy:  0.947 Val_accuracy: 0.955  <-:Epoch: 2\n",
      "Training Loss:  0.134 Val_loss: 0.138  Training Accuracy:  0.96 Val_accuracy: 0.96  <-:Epoch: 3\n",
      "Training Loss:  0.109 Val_loss: 0.133  Training Accuracy:  0.967 Val_accuracy: 0.964  <-:Epoch: 4\n",
      "Training Loss:  0.091 Val_loss: 0.129  Training Accuracy:  0.973 Val_accuracy: 0.964  <-:Epoch: 5\n",
      "Training Loss:  0.078 Val_loss: 0.127  Training Accuracy:  0.977 Val_accuracy: 0.966  <-:Epoch: 6\n",
      "Training Loss:  0.068 Val_loss: 0.127  Training Accuracy:  0.98 Val_accuracy: 0.964  <-:Epoch: 7\n",
      "Training Loss:  0.059 Val_loss: 0.131  Training Accuracy:  0.983 Val_accuracy: 0.964  <-:Epoch: 8\n",
      "Training Loss:  0.052 Val_loss: 0.137  Training Accuracy:  0.985 Val_accuracy: 0.963  <-:Epoch: 9\n",
      "Training Loss:  0.045 Val_loss: 0.142  Training Accuracy:  0.988 Val_accuracy: 0.964  <-:Epoch: 10\n",
      "Training Loss:  0.039 Val_loss: 0.151  Training Accuracy:  0.99 Val_accuracy: 0.962  <-:Epoch: 11\n",
      "Training Loss:  0.034 Val_loss: 0.157  Training Accuracy:  0.991 Val_accuracy: 0.963  <-:Epoch: 12\n",
      "Training Loss:  0.03 Val_loss: 0.16  Training Accuracy:  0.992 Val_accuracy: 0.962  <-:Epoch: 13\n",
      "Training Loss:  0.027 Val_loss: 0.152  Training Accuracy:  0.992 Val_accuracy: 0.965  <-:Epoch: 14\n",
      "Training Loss:  0.025 Val_loss: 0.161  Training Accuracy:  0.992 Val_accuracy: 0.963  <-:Epoch: 15\n"
     ]
    },
    {
     "data": {
      "text/plain": [
       "(0.025274249017432037,\n",
       " 0.16125203268060956,\n",
       " 0.9922222222222222,\n",
       " 0.9626666666666667)"
      ]
     },
     "execution_count": 50,
     "metadata": {},
     "output_type": "execute_result"
    }
   ],
   "source": [
    "optimizer = Optimizer(\"nadam\")\n",
    "optimizer.set_initial_parameters(parameters_nadam)\n",
    "\n",
    "\n",
    "#  \"cross_entropy\" : Cross Entropy Loss Function,  \"squared_loss\" : Squared Error Loss Function\n",
    "loss_fun = LossFunction(\"cross_entropy\")\n",
    "\n",
    "#Select activation-function(hidden layers) pass below respective string to select any Activation Fuction Eg:\"tanh\" in ActivationFunction\n",
    "# \"sigmoid\": SigmoidFunction, \"softmax\": SoftmaxFunction, \"tanh\": TanhFunction, \"relu\":ReLUFunction\n",
    "act_fun_hidden = ActivationFunction(\"tanh\")\n",
    "\n",
    "#Select activation - function for output layer\n",
    "act_fun_output = ActivationFunction(\"softmax\")\n",
    "model_2 = FFNN(optimizer, layers,  loss_fun , act_fun_hidden, act_fun_output, 32, 15, initialization = \"Xavier\")\n",
    "model_2.fit(x_mnist_train, y_OH_train_mnist, x_mnist_val, y_OH_val_mnist)"
   ]
  },
  {
   "cell_type": "code",
   "execution_count": 51,
   "id": "f55531f4",
   "metadata": {},
   "outputs": [
    {
     "name": "stdout",
     "output_type": "stream",
     "text": [
      "Training Loss:  0.419 Val_loss: 0.216  Training Accuracy:  0.875 Val_accuracy: 0.938  <-:Epoch: 1\n",
      "Training Loss:  0.196 Val_loss: 0.157  Training Accuracy:  0.942 Val_accuracy: 0.954  <-:Epoch: 2\n",
      "Training Loss:  0.15 Val_loss: 0.141  Training Accuracy:  0.955 Val_accuracy: 0.96  <-:Epoch: 3\n",
      "Training Loss:  0.124 Val_loss: 0.131  Training Accuracy:  0.962 Val_accuracy: 0.963  <-:Epoch: 4\n",
      "Training Loss:  0.106 Val_loss: 0.126  Training Accuracy:  0.968 Val_accuracy: 0.964  <-:Epoch: 5\n",
      "Training Loss:  0.093 Val_loss: 0.121  Training Accuracy:  0.972 Val_accuracy: 0.965  <-:Epoch: 6\n",
      "Training Loss:  0.082 Val_loss: 0.121  Training Accuracy:  0.976 Val_accuracy: 0.967  <-:Epoch: 7\n",
      "Training Loss:  0.073 Val_loss: 0.12  Training Accuracy:  0.978 Val_accuracy: 0.967  <-:Epoch: 8\n",
      "Training Loss:  0.065 Val_loss: 0.123  Training Accuracy:  0.981 Val_accuracy: 0.966  <-:Epoch: 9\n",
      "Training Loss:  0.058 Val_loss: 0.122  Training Accuracy:  0.983 Val_accuracy: 0.968  <-:Epoch: 10\n",
      "Training Loss:  0.052 Val_loss: 0.129  Training Accuracy:  0.985 Val_accuracy: 0.966  <-:Epoch: 11\n",
      "Training Loss:  0.047 Val_loss: 0.126  Training Accuracy:  0.986 Val_accuracy: 0.968  <-:Epoch: 12\n",
      "Training Loss:  0.042 Val_loss: 0.123  Training Accuracy:  0.987 Val_accuracy: 0.968  <-:Epoch: 13\n",
      "Training Loss:  0.038 Val_loss: 0.13  Training Accuracy:  0.989 Val_accuracy: 0.967  <-:Epoch: 14\n",
      "Training Loss:  0.033 Val_loss: 0.132  Training Accuracy:  0.99 Val_accuracy: 0.969  <-:Epoch: 15\n",
      "Training Loss:  0.031 Val_loss: 0.133  Training Accuracy:  0.991 Val_accuracy: 0.97  <-:Epoch: 16\n"
     ]
    },
    {
     "data": {
      "text/plain": [
       "(0.030778866269608688,\n",
       " 0.13318754991504142,\n",
       " 0.9914444444444445,\n",
       " 0.9703333333333334)"
      ]
     },
     "execution_count": 51,
     "metadata": {},
     "output_type": "execute_result"
    }
   ],
   "source": [
    "optimizer = Optimizer(\"nadam\")\n",
    "optimizer.set_initial_parameters(parameters_nadam)\n",
    "\n",
    "\n",
    "#  \"cross_entropy\" : Cross Entropy Loss Function,  \"squared_loss\" : Squared Error Loss Function\n",
    "loss_fun = LossFunction(\"cross_entropy\")\n",
    "\n",
    "#Select activation-function(hidden layers) pass below respective string to select any Activation Fuction Eg:\"tanh\" in ActivationFunction\n",
    "# \"sigmoid\": SigmoidFunction, \"softmax\": SoftmaxFunction, \"tanh\": TanhFunction, \"relu\":ReLUFunction\n",
    "act_fun_hidden = ActivationFunction(\"relu\")\n",
    "\n",
    "#Select activation - function for output layer\n",
    "act_fun_output = ActivationFunction(\"softmax\")\n",
    "model_3 = FFNN(optimizer, layers,  loss_fun , act_fun_hidden, act_fun_output, 64, 16, initialization = \"Xavier\")\n",
    "model_3.fit(x_mnist_train, y_OH_train_mnist, x_mnist_val, y_OH_val_mnist)"
   ]
  },
  {
   "cell_type": "code",
   "execution_count": 52,
   "id": "57168734",
   "metadata": {},
   "outputs": [
    {
     "name": "stdout",
     "output_type": "stream",
     "text": [
      "Model-1 Test Accuracy:- 0.9648\n",
      "Model-2 Test Accuracy:- 0.9654\n",
      "Model-3 Test Accuracy:- 0.9688\n"
     ]
    }
   ],
   "source": [
    "y_pred1 = model_1.predict(x_mnist_test)\n",
    "y_pred2 = model_2.predict(x_mnist_test)\n",
    "y_pred3 = model_3.predict(x_mnist_test)\n",
    "\n",
    "\n",
    "print(\"Model-1 Test Accuracy:-\", accuracy_score(np.argmax(y_OH_test_mnist,1), np.argmax(y_pred1,1)))\n",
    "print(\"Model-2 Test Accuracy:-\", accuracy_score(np.argmax(y_OH_test_mnist,1), np.argmax(y_pred2,1)))\n",
    "print(\"Model-3 Test Accuracy:-\", accuracy_score(np.argmax(y_OH_test_mnist,1), np.argmax(y_pred3,1)))"
   ]
  },
  {
   "cell_type": "code",
   "execution_count": null,
   "id": "5d959663",
   "metadata": {},
   "outputs": [],
   "source": []
  },
  {
   "cell_type": "code",
   "execution_count": null,
   "id": "4375cd64",
   "metadata": {},
   "outputs": [],
   "source": []
  }
 ],
 "metadata": {
  "kernelspec": {
   "display_name": "Python 3 (ipykernel)",
   "language": "python",
   "name": "python3"
  },
  "language_info": {
   "codemirror_mode": {
    "name": "ipython",
    "version": 3
   },
   "file_extension": ".py",
   "mimetype": "text/x-python",
   "name": "python",
   "nbconvert_exporter": "python",
   "pygments_lexer": "ipython3",
   "version": "3.9.13"
  }
 },
 "nbformat": 4,
 "nbformat_minor": 5
}
